{
 "cells": [
  {
   "cell_type": "markdown",
   "metadata": {},
   "source": [
    "# Importance of XCov term in loss function\n",
    "- How does the model behave differently without XCov?\n",
    "- Does amount of input variation matter? (None,Med,hi)?"
   ]
  },
  {
   "cell_type": "code",
   "execution_count": 1,
   "metadata": {},
   "outputs": [
    {
     "name": "stderr",
     "output_type": "stream",
     "text": [
      "Using TensorFlow backend.\n"
     ]
    }
   ],
   "source": [
    "import os\n",
    "import json\n",
    "import numpy as np\n",
    "import pandas as pd\n",
    "import scipy\n",
    "\n",
    "import matplotlib.pyplot as plt\n",
    "import seaborn as sns\n",
    "%matplotlib inline\n",
    "\n",
    "from src.data_loader import Shifted_Data_Loader\n",
    "from src.plot import orig_vs_transformed as plot_ovt\n",
    "from src.plot import enc_dec_samples\n",
    "from src.models import GResNet,EResNet,ResBlock,EncResBlock\n",
    "from src.config import get_config\n",
    "from src.trainer import Trainer\n",
    "from src.utils import prepare_dirs_and_logger\n",
    "from keras.datasets import fashion_mnist,mnist\n",
    "from keras.layers import Dense\n",
    "# from tabulate import tabulate"
   ]
  },
  {
   "cell_type": "code",
   "execution_count": 2,
   "metadata": {},
   "outputs": [],
   "source": [
    "config,_ = get_config()\n",
    "\n",
    "# Boilerplate\n",
    "setattr(config, 'proj_root', '/home/elijahc/projects/vae')\n",
    "setattr(config, 'log_dir', '/home/elijahc/projects/vae/logs')\n",
    "setattr(config, 'dev_mode',True)\n",
    "# setattr(config,'model_dir','/home/elijahc/projects/vae/models/2019-01-17/')\n",
    "\n",
    "# Architecture Params\n",
    "setattr(config, 'enc_blocks', [32,64,128,256])\n",
    "setattr(config, 'dec_blocks', [4,2,1])\n",
    "setattr(config, 'z_dim', 10)\n",
    "setattr(config, 'y_dim', 10)\n",
    "\n",
    "# Training Params\n",
    "setattr(config, 'batch_size', 512)\n",
    "setattr(config, 'dataset', 'fashion_mnist')\n",
    "setattr(config, 'epochs', 100)\n",
    "setattr(config, 'monitor', 'val_G_loss')\n",
    "setattr(config, 'min_delta', 0.25)\n",
    "setattr(config, 'optimizer', 'adam')\n",
    "\n",
    "# Loss Weights\n",
    "setattr(config, 'xcov', 0)\n",
    "setattr(config, 'recon', 25)\n",
    "setattr(config, 'xent', 15)"
   ]
  },
  {
   "cell_type": "code",
   "execution_count": 3,
   "metadata": {},
   "outputs": [
    {
     "data": {
      "text/plain": [
       "{'batch_size': 512,\n",
       " 'dataset': 'fashion_mnist',\n",
       " 'dec_blocks': [4, 2, 1],\n",
       " 'dev_mode': True,\n",
       " 'enc_blocks': [32, 64, 128, 256],\n",
       " 'enc_layers': [500, 500],\n",
       " 'epochs': 100,\n",
       " 'log_dir': '/home/elijahc/projects/vae/logs',\n",
       " 'log_level': 'INFO',\n",
       " 'min_delta': 0.25,\n",
       " 'monitor': 'val_G_loss',\n",
       " 'optimizer': 'adam',\n",
       " 'proj_root': '/home/elijahc/projects/vae',\n",
       " 'recon': 25,\n",
       " 'xcov': 0,\n",
       " 'xent': 15,\n",
       " 'y_dim': 10,\n",
       " 'z_dim': 10}"
      ]
     },
     "execution_count": 3,
     "metadata": {},
     "output_type": "execute_result"
    }
   ],
   "source": [
    "if not config.dev_mode:\n",
    "    print('setting up...')\n",
    "    prepare_dirs_and_logger(config)\n",
    "    \n",
    "vars(config)"
   ]
  },
  {
   "cell_type": "code",
   "execution_count": 4,
   "metadata": {},
   "outputs": [
    {
     "name": "stdout",
     "output_type": "stream",
     "text": [
      "input_shape:  (56, 56, 1)\n",
      "dataset:  fashion_mnist\n",
      "scale:  2\n",
      "tx_max:  0.8\n",
      "rot_max:  None\n",
      "loading fashion_mnist...\n",
      "sx_train:  (60000, 56, 56, 1)\n",
      "making training data...\n",
      "making testing data...\n"
     ]
    }
   ],
   "source": [
    "translation_amt = 0.8 # Med\n",
    "DL = Shifted_Data_Loader(dataset=config.dataset,flatten=False,\n",
    "                         rotation=None,\n",
    "                         translation=translation_amt,\n",
    "                        )"
   ]
  },
  {
   "cell_type": "code",
   "execution_count": 5,
   "metadata": {},
   "outputs": [
    {
     "data": {
      "text/plain": [
       "(56, 56, 1)"
      ]
     },
     "execution_count": 5,
     "metadata": {},
     "output_type": "execute_result"
    }
   ],
   "source": [
    "DL.input_shape"
   ]
  },
  {
   "cell_type": "code",
   "execution_count": 6,
   "metadata": {},
   "outputs": [
    {
     "name": "stdout",
     "output_type": "stream",
     "text": [
      "building encoder...\n",
      "building decoder/generator...\n"
     ]
    }
   ],
   "source": [
    "G_builder = GResNet(y_dim=config.y_dim,z_dim=config.z_dim,dec_blocks=config.dec_blocks,flatten_out=False)\n",
    "E_builder = EResNet(blocks=config.enc_blocks,z_dim=config.z_dim,y_dim=config.y_dim)\n",
    "trainer = Trainer(config,DL,E_builder,G_builder,)\n",
    "# setattr(trainer.config,'model_dir','/home/elijahc/projects/vae/models/2019-01-22/')"
   ]
  },
  {
   "cell_type": "code",
   "execution_count": 7,
   "metadata": {},
   "outputs": [
    {
     "data": {
      "image/png": "[encoded data removed]",
      "text/plain": [
       "<Figure size 432x288 with 2 Axes>"
      ]
     },
     "metadata": {
      "needs_background": "light"
     },
     "output_type": "display_data"
    }
   ],
   "source": [
    "pt,idx = plot_ovt(DL,cmap='gray')"
   ]
  },
  {
   "cell_type": "code",
   "execution_count": 8,
   "metadata": {},
   "outputs": [],
   "source": [
    "from keras.utils import to_categorical\n",
    "RF = to_categorical(np.ones(len(DL.sx_train)),num_classes=2)"
   ]
  },
  {
   "cell_type": "code",
   "execution_count": 9,
   "metadata": {},
   "outputs": [
    {
     "name": "stdout",
     "output_type": "stream",
     "text": [
      "__________________________________________________________________________________________________\n",
      "Layer (type)                    Output Shape         Param #     Connected to                     \n",
      "==================================================================================================\n",
      "input_image (InputLayer)        (None, 56, 56, 1)    0                                            \n",
      "__________________________________________________________________________________________________\n",
      "block_1_conv_0 (Conv2D)         (None, 56, 56, 32)   320         input_image[0][0]                \n",
      "__________________________________________________________________________________________________\n",
      "block_1_BN_0 (BatchNormalizatio (None, 56, 56, 32)   128         block_1_conv_0[0][0]             \n",
      "__________________________________________________________________________________________________\n",
      "block_1_ReLU_0 (Activation)     (None, 56, 56, 32)   0           block_1_BN_0[0][0]               \n",
      "__________________________________________________________________________________________________\n",
      "block_1_conv_1 (Conv2D)         (None, 56, 56, 32)   1056        block_1_ReLU_0[0][0]             \n",
      "__________________________________________________________________________________________________\n",
      "block_1_BN_2 (BatchNormalizatio (None, 56, 56, 32)   128         block_1_conv_1[0][0]             \n",
      "__________________________________________________________________________________________________\n",
      "block_1_ReLU_2 (Activation)     (None, 56, 56, 32)   0           block_1_BN_2[0][0]               \n",
      "__________________________________________________________________________________________________\n",
      "conv2d_1 (Conv2D)               (None, 56, 56, 32)   64          input_image[0][0]                \n",
      "__________________________________________________________________________________________________\n",
      "block_1_conv_2 (Conv2D)         (None, 56, 56, 32)   9248        block_1_ReLU_2[0][0]             \n",
      "__________________________________________________________________________________________________\n",
      "block_1_Add_1 (Add)             (None, 56, 56, 32)   0           conv2d_1[0][0]                   \n",
      "                                                                 block_1_conv_2[0][0]             \n",
      "__________________________________________________________________________________________________\n",
      "block_2_BN_1 (BatchNormalizatio (None, 56, 56, 32)   128         block_1_Add_1[0][0]              \n",
      "__________________________________________________________________________________________________\n",
      "block_2_ReLU_1 (Activation)     (None, 56, 56, 32)   0           block_2_BN_1[0][0]               \n",
      "__________________________________________________________________________________________________\n",
      "block_2_conv_1 (Conv2D)         (None, 28, 28, 64)   18496       block_2_ReLU_1[0][0]             \n",
      "__________________________________________________________________________________________________\n",
      "block_2_BN_2 (BatchNormalizatio (None, 28, 28, 64)   256         block_2_conv_1[0][0]             \n",
      "__________________________________________________________________________________________________\n",
      "block_2_ReLU_2 (Activation)     (None, 28, 28, 64)   0           block_2_BN_2[0][0]               \n",
      "__________________________________________________________________________________________________\n",
      "conv2d_2 (Conv2D)               (None, 28, 28, 64)   2112        block_1_Add_1[0][0]              \n",
      "__________________________________________________________________________________________________\n",
      "block_2_conv_2 (Conv2D)         (None, 28, 28, 64)   36928       block_2_ReLU_2[0][0]             \n",
      "__________________________________________________________________________________________________\n",
      "block_2_Add_1 (Add)             (None, 28, 28, 64)   0           conv2d_2[0][0]                   \n",
      "                                                                 block_2_conv_2[0][0]             \n",
      "__________________________________________________________________________________________________\n",
      "block_3_BN_1 (BatchNormalizatio (None, 28, 28, 64)   256         block_2_Add_1[0][0]              \n",
      "__________________________________________________________________________________________________\n",
      "block_3_ReLU_1 (Activation)     (None, 28, 28, 64)   0           block_3_BN_1[0][0]               \n",
      "__________________________________________________________________________________________________\n",
      "block_3_conv_1 (Conv2D)         (None, 14, 14, 128)  73856       block_3_ReLU_1[0][0]             \n",
      "__________________________________________________________________________________________________\n",
      "block_3_BN_2 (BatchNormalizatio (None, 14, 14, 128)  512         block_3_conv_1[0][0]             \n",
      "__________________________________________________________________________________________________\n",
      "block_3_ReLU_2 (Activation)     (None, 14, 14, 128)  0           block_3_BN_2[0][0]               \n",
      "__________________________________________________________________________________________________\n",
      "conv2d_3 (Conv2D)               (None, 14, 14, 128)  8320        block_2_Add_1[0][0]              \n",
      "__________________________________________________________________________________________________\n",
      "block_3_conv_2 (Conv2D)         (None, 14, 14, 128)  147584      block_3_ReLU_2[0][0]             \n",
      "__________________________________________________________________________________________________\n",
      "block_3_Add_1 (Add)             (None, 14, 14, 128)  0           conv2d_3[0][0]                   \n",
      "                                                                 block_3_conv_2[0][0]             \n",
      "__________________________________________________________________________________________________\n",
      "block_4_BN_1 (BatchNormalizatio (None, 14, 14, 128)  512         block_3_Add_1[0][0]              \n",
      "__________________________________________________________________________________________________\n",
      "block_4_ReLU_1 (Activation)     (None, 14, 14, 128)  0           block_4_BN_1[0][0]               \n",
      "__________________________________________________________________________________________________\n",
      "block_4_conv_1 (Conv2D)         (None, 7, 7, 256)    295168      block_4_ReLU_1[0][0]             \n",
      "__________________________________________________________________________________________________\n",
      "block_4_BN_2 (BatchNormalizatio (None, 7, 7, 256)    1024        block_4_conv_1[0][0]             \n",
      "__________________________________________________________________________________________________\n",
      "block_4_ReLU_2 (Activation)     (None, 7, 7, 256)    0           block_4_BN_2[0][0]               \n",
      "__________________________________________________________________________________________________\n",
      "conv2d_4 (Conv2D)               (None, 7, 7, 256)    33024       block_3_Add_1[0][0]              \n",
      "__________________________________________________________________________________________________\n",
      "block_4_conv_2 (Conv2D)         (None, 7, 7, 256)    590080      block_4_ReLU_2[0][0]             \n",
      "__________________________________________________________________________________________________\n",
      "block_4_Add_1 (Add)             (None, 7, 7, 256)    0           conv2d_4[0][0]                   \n",
      "                                                                 block_4_conv_2[0][0]             \n",
      "__________________________________________________________________________________________________\n",
      "batch_normalization_1 (BatchNor (None, 7, 7, 256)    1024        block_4_Add_1[0][0]              \n",
      "__________________________________________________________________________________________________\n",
      "activation_1 (Activation)       (None, 7, 7, 256)    0           batch_normalization_1[0][0]      \n",
      "__________________________________________________________________________________________________\n",
      "average_pooling2d_1 (AveragePoo (None, 1, 1, 256)    0           activation_1[0][0]               \n",
      "__________________________________________________________________________________________________\n",
      "flatten_1 (Flatten)             (None, 256)          0           average_pooling2d_1[0][0]        \n",
      "__________________________________________________________________________________________________\n",
      "dense_1 (Dense)                 (None, 256)          65792       flatten_1[0][0]                  \n",
      "__________________________________________________________________________________________________\n",
      "enc_merge (Dense)               (None, 21)           5397        dense_1[0][0]                    \n",
      "__________________________________________________________________________________________________\n",
      "lambda_1 (Lambda)               [(None, 10), (None,  0           enc_merge[0][0]                  \n",
      "__________________________________________________________________________________________________\n",
      "class (Activation)              (None, 10)           0           lambda_1[0][0]                   \n",
      "__________________________________________________________________________________________________\n",
      "z_lat (Activation)              (None, 10)           0           lambda_1[0][1]                   \n",
      "__________________________________________________________________________________________________\n",
      "D_real (Activation)             (None, 1)            0           lambda_1[0][2]                   \n",
      "==================================================================================================\n",
      "Total params: 1,291,413\n",
      "Trainable params: 1,289,429\n",
      "Non-trainable params: 1,984\n",
      "__________________________________________________________________________________________________\n"
     ]
    }
   ],
   "source": [
    "trainer.compile_model()\n",
    "trainer.E.summary()"
   ]
  },
  {
   "cell_type": "code",
   "execution_count": 10,
   "metadata": {},
   "outputs": [
    {
     "name": "stdout",
     "output_type": "stream",
     "text": [
      "Epoch        G_loss      val_G_loss  val_class_acc\n",
      "0:           86.1352     52.5537     0.097       \n",
      "1:           38.0113     42.2609     0.1523      \n",
      "2:           32.1898     37.2275     0.1993      \n",
      "3:           29.4017     32.4158     0.248       \n",
      "4:           27.3468     31.6093     0.2983      \n",
      "5:           26.4317     29.0003     0.3647      \n",
      "6:           25.3481     28.0716     0.411       \n",
      "7:           24.5        26.1463     0.4547      \n",
      "8:           23.7742     26.0564     0.504       \n",
      "9:           23.2274     23.5676     0.5277      \n",
      "10:          22.1996     23.3823     0.5767      \n",
      "11:          21.7846     22.1662     0.5837      \n",
      "12:          21.3568     21.9129     0.6203      \n",
      "13:          20.8236     22.9447     0.623       \n",
      "14:          20.4471     21.5126     0.6267      \n",
      "15:          19.9928     21.4372     0.6363      \n",
      "16:          19.5777     20.0247     0.6527      \n",
      "17:          19.2437     19.8281     0.665       \n",
      "18:          18.9462     19.3488     0.661       \n",
      "19:          18.7253     20.1944     0.6697      \n",
      "20:          18.5359     19.5014     0.6887      \n",
      "21:          18.2445     19.8302     0.688       \n",
      "22:          18.2356     20.3455     0.698       \n",
      "23:          17.9324     41.2121     0.4177      \n",
      "24:          17.6012     19.1286     0.6953      \n",
      "25:          17.3937     19.2833     0.6953      \n",
      "26:          17.2721     19.396      0.7237      \n",
      "27:          17.0666     19.39       0.7033      \n",
      "28:          16.9319     18.4714     0.7083      \n",
      "29:          16.6381     34.7501     0.4743      \n",
      "30:          16.7333     20.1384     0.7273      \n",
      "31:          16.4846     20.2865     0.7047      \n",
      "32:          16.4313     19.4395     0.7387      \n",
      "33:          16.2427     16.7755     0.7347      \n",
      "34:          16.1384     19.7296     0.733       \n",
      "35:          16.1617     16.4348     0.7497      \n",
      "36:          15.7645     23.1094     0.65        \n",
      "37:          15.7763     27.88       0.5887      \n",
      "38:          15.5888     21.9117     0.679       \n",
      "39:          15.5829     18.342      0.747       \n",
      "40:          15.6182     35.784      0.5323      \n",
      "41:          15.4899     42.1078     0.4703      \n",
      "42:          15.3338     22.6625     0.7023      \n",
      "43:          15.3061     17.3387     0.739       \n",
      "44:          15.0634     18.0824     0.7487      \n",
      "45:          15.0352     19.6317     0.7543      \n"
     ]
    },
    {
     "data": {
      "text/plain": [
       "<keras.callbacks.History at 0x7fbcbd321390>"
      ]
     },
     "execution_count": 10,
     "metadata": {},
     "output_type": "execute_result"
    }
   ],
   "source": [
    "trainer.go(x=DL.sx_train,\n",
    "           y={\n",
    "               'class':DL.y_train_oh,\n",
    "#                'D_real':RF,\n",
    "               'G':DL.sx_train},\n",
    "           validation_split=0.05,\n",
    "           verbose=0)"
   ]
  },
  {
   "cell_type": "code",
   "execution_count": 11,
   "metadata": {},
   "outputs": [
    {
     "data": {
      "text/html": [
       "<div>\n",
       "<style scoped>\n",
       "    .dataframe tbody tr th:only-of-type {\n",
       "        vertical-align: middle;\n",
       "    }\n",
       "\n",
       "    .dataframe tbody tr th {\n",
       "        vertical-align: top;\n",
       "    }\n",
       "\n",
       "    .dataframe thead th {\n",
       "        text-align: right;\n",
       "    }\n",
       "</style>\n",
       "<table border=\"1\" class=\"dataframe\">\n",
       "  <thead>\n",
       "    <tr style=\"text-align: right;\">\n",
       "      <th></th>\n",
       "      <th>G_loss</th>\n",
       "      <th>G_mse</th>\n",
       "      <th>class_acc</th>\n",
       "      <th>class_loss</th>\n",
       "      <th>loss</th>\n",
       "      <th>val_G_loss</th>\n",
       "      <th>val_G_mse</th>\n",
       "      <th>val_class_acc</th>\n",
       "      <th>val_class_loss</th>\n",
       "      <th>val_loss</th>\n",
       "    </tr>\n",
       "  </thead>\n",
       "  <tbody>\n",
       "    <tr>\n",
       "      <th>0</th>\n",
       "      <td>86.135170</td>\n",
       "      <td>0.027467</td>\n",
       "      <td>0.105421</td>\n",
       "      <td>2.341004</td>\n",
       "      <td>2188.599886</td>\n",
       "      <td>52.553656</td>\n",
       "      <td>0.016758</td>\n",
       "      <td>0.097000</td>\n",
       "      <td>2.299647</td>\n",
       "      <td>1348.441570</td>\n",
       "    </tr>\n",
       "    <tr>\n",
       "      <th>1</th>\n",
       "      <td>38.011264</td>\n",
       "      <td>0.012121</td>\n",
       "      <td>0.138947</td>\n",
       "      <td>2.262864</td>\n",
       "      <td>984.329835</td>\n",
       "      <td>42.260864</td>\n",
       "      <td>0.013476</td>\n",
       "      <td>0.152333</td>\n",
       "      <td>2.229202</td>\n",
       "      <td>1090.064728</td>\n",
       "    </tr>\n",
       "    <tr>\n",
       "      <th>2</th>\n",
       "      <td>32.189753</td>\n",
       "      <td>0.010265</td>\n",
       "      <td>0.184070</td>\n",
       "      <td>2.200763</td>\n",
       "      <td>837.860219</td>\n",
       "      <td>37.227544</td>\n",
       "      <td>0.011871</td>\n",
       "      <td>0.199333</td>\n",
       "      <td>2.172895</td>\n",
       "      <td>963.386867</td>\n",
       "    </tr>\n",
       "    <tr>\n",
       "      <th>3</th>\n",
       "      <td>29.401673</td>\n",
       "      <td>0.009376</td>\n",
       "      <td>0.232561</td>\n",
       "      <td>2.129983</td>\n",
       "      <td>767.096339</td>\n",
       "      <td>32.415821</td>\n",
       "      <td>0.010337</td>\n",
       "      <td>0.248000</td>\n",
       "      <td>2.089795</td>\n",
       "      <td>841.847073</td>\n",
       "    </tr>\n",
       "    <tr>\n",
       "      <th>4</th>\n",
       "      <td>27.346801</td>\n",
       "      <td>0.008720</td>\n",
       "      <td>0.292526</td>\n",
       "      <td>2.051011</td>\n",
       "      <td>714.539694</td>\n",
       "      <td>31.609322</td>\n",
       "      <td>0.010080</td>\n",
       "      <td>0.298333</td>\n",
       "      <td>2.010744</td>\n",
       "      <td>820.498583</td>\n",
       "    </tr>\n",
       "  </tbody>\n",
       "</table>\n",
       "</div>"
      ],
      "text/plain": [
       "      G_loss     G_mse  class_acc  class_loss         loss  val_G_loss  \\\n",
       "0  86.135170  0.027467   0.105421    2.341004  2188.599886   52.553656   \n",
       "1  38.011264  0.012121   0.138947    2.262864   984.329835   42.260864   \n",
       "2  32.189753  0.010265   0.184070    2.200763   837.860219   37.227544   \n",
       "3  29.401673  0.009376   0.232561    2.129983   767.096339   32.415821   \n",
       "4  27.346801  0.008720   0.292526    2.051011   714.539694   31.609322   \n",
       "\n",
       "   val_G_mse  val_class_acc  val_class_loss     val_loss  \n",
       "0   0.016758       0.097000        2.299647  1348.441570  \n",
       "1   0.013476       0.152333        2.229202  1090.064728  \n",
       "2   0.011871       0.199333        2.172895   963.386867  \n",
       "3   0.010337       0.248000        2.089795   841.847073  \n",
       "4   0.010080       0.298333        2.010744   820.498583  "
      ]
     },
     "execution_count": 11,
     "metadata": {},
     "output_type": "execute_result"
    }
   ],
   "source": [
    "hist_df = pd.DataFrame.from_records(trainer.model.history.history)\n",
    "hist_df.head()"
   ]
  },
  {
   "cell_type": "code",
   "execution_count": 12,
   "metadata": {},
   "outputs": [
    {
     "data": {
      "image/png": "[encoded data removed]",
      "text/plain": [
       "<Figure size 360x720 with 3 Axes>"
      ]
     },
     "metadata": {
      "needs_background": "light"
     },
     "output_type": "display_data"
    }
   ],
   "source": [
    "sns.set_context('paper')\n",
    "metrics = ['loss','G_loss','class_acc']\n",
    "fig,axs = plt.subplots(nrows=len(metrics),sharex=True,figsize=(5,10))\n",
    "for metric_name,ax in zip(metrics,axs):\n",
    "    sns.scatterplot(data=hist_df[[metric_name,'val_'+metric_name]],ax=ax)"
   ]
  },
  {
   "cell_type": "code",
   "execution_count": 13,
   "metadata": {},
   "outputs": [],
   "source": [
    "# if not config.dev_mode:\n",
    "# trainer.save_model()"
   ]
  },
  {
   "cell_type": "code",
   "execution_count": 14,
   "metadata": {},
   "outputs": [],
   "source": [
    "from keras.models import Model\n",
    "from keras.layers import Input"
   ]
  },
  {
   "cell_type": "code",
   "execution_count": 15,
   "metadata": {},
   "outputs": [],
   "source": [
    "generator = trainer.G"
   ]
  },
  {
   "cell_type": "code",
   "execution_count": 16,
   "metadata": {},
   "outputs": [
    {
     "name": "stdout",
     "output_type": "stream",
     "text": [
      "__________________________________________________________________________________________________\n",
      "Layer (type)                    Output Shape         Param #     Connected to                     \n",
      "==================================================================================================\n",
      "input_image (InputLayer)        (None, 56, 56, 1)    0                                            \n",
      "__________________________________________________________________________________________________\n",
      "block_1_conv_0 (Conv2D)         (None, 56, 56, 32)   320         input_image[0][0]                \n",
      "__________________________________________________________________________________________________\n",
      "block_1_BN_0 (BatchNormalizatio (None, 56, 56, 32)   128         block_1_conv_0[0][0]             \n",
      "__________________________________________________________________________________________________\n",
      "block_1_ReLU_0 (Activation)     (None, 56, 56, 32)   0           block_1_BN_0[0][0]               \n",
      "__________________________________________________________________________________________________\n",
      "block_1_conv_1 (Conv2D)         (None, 56, 56, 32)   1056        block_1_ReLU_0[0][0]             \n",
      "__________________________________________________________________________________________________\n",
      "block_1_BN_2 (BatchNormalizatio (None, 56, 56, 32)   128         block_1_conv_1[0][0]             \n",
      "__________________________________________________________________________________________________\n",
      "block_1_ReLU_2 (Activation)     (None, 56, 56, 32)   0           block_1_BN_2[0][0]               \n",
      "__________________________________________________________________________________________________\n",
      "conv2d_1 (Conv2D)               (None, 56, 56, 32)   64          input_image[0][0]                \n",
      "__________________________________________________________________________________________________\n",
      "block_1_conv_2 (Conv2D)         (None, 56, 56, 32)   9248        block_1_ReLU_2[0][0]             \n",
      "__________________________________________________________________________________________________\n",
      "block_1_Add_1 (Add)             (None, 56, 56, 32)   0           conv2d_1[0][0]                   \n",
      "                                                                 block_1_conv_2[0][0]             \n",
      "__________________________________________________________________________________________________\n",
      "block_2_BN_1 (BatchNormalizatio (None, 56, 56, 32)   128         block_1_Add_1[0][0]              \n",
      "__________________________________________________________________________________________________\n",
      "block_2_ReLU_1 (Activation)     (None, 56, 56, 32)   0           block_2_BN_1[0][0]               \n",
      "__________________________________________________________________________________________________\n",
      "block_2_conv_1 (Conv2D)         (None, 28, 28, 64)   18496       block_2_ReLU_1[0][0]             \n",
      "__________________________________________________________________________________________________\n",
      "block_2_BN_2 (BatchNormalizatio (None, 28, 28, 64)   256         block_2_conv_1[0][0]             \n",
      "__________________________________________________________________________________________________\n",
      "block_2_ReLU_2 (Activation)     (None, 28, 28, 64)   0           block_2_BN_2[0][0]               \n",
      "__________________________________________________________________________________________________\n",
      "conv2d_2 (Conv2D)               (None, 28, 28, 64)   2112        block_1_Add_1[0][0]              \n",
      "__________________________________________________________________________________________________\n",
      "block_2_conv_2 (Conv2D)         (None, 28, 28, 64)   36928       block_2_ReLU_2[0][0]             \n",
      "__________________________________________________________________________________________________\n",
      "block_2_Add_1 (Add)             (None, 28, 28, 64)   0           conv2d_2[0][0]                   \n",
      "                                                                 block_2_conv_2[0][0]             \n",
      "__________________________________________________________________________________________________\n",
      "block_3_BN_1 (BatchNormalizatio (None, 28, 28, 64)   256         block_2_Add_1[0][0]              \n",
      "__________________________________________________________________________________________________\n",
      "block_3_ReLU_1 (Activation)     (None, 28, 28, 64)   0           block_3_BN_1[0][0]               \n",
      "__________________________________________________________________________________________________\n",
      "block_3_conv_1 (Conv2D)         (None, 14, 14, 128)  73856       block_3_ReLU_1[0][0]             \n",
      "__________________________________________________________________________________________________\n",
      "block_3_BN_2 (BatchNormalizatio (None, 14, 14, 128)  512         block_3_conv_1[0][0]             \n",
      "__________________________________________________________________________________________________\n",
      "block_3_ReLU_2 (Activation)     (None, 14, 14, 128)  0           block_3_BN_2[0][0]               \n",
      "__________________________________________________________________________________________________\n",
      "conv2d_3 (Conv2D)               (None, 14, 14, 128)  8320        block_2_Add_1[0][0]              \n",
      "__________________________________________________________________________________________________\n",
      "block_3_conv_2 (Conv2D)         (None, 14, 14, 128)  147584      block_3_ReLU_2[0][0]             \n",
      "__________________________________________________________________________________________________\n",
      "block_3_Add_1 (Add)             (None, 14, 14, 128)  0           conv2d_3[0][0]                   \n",
      "                                                                 block_3_conv_2[0][0]             \n",
      "__________________________________________________________________________________________________\n",
      "block_4_BN_1 (BatchNormalizatio (None, 14, 14, 128)  512         block_3_Add_1[0][0]              \n",
      "__________________________________________________________________________________________________\n",
      "block_4_ReLU_1 (Activation)     (None, 14, 14, 128)  0           block_4_BN_1[0][0]               \n",
      "__________________________________________________________________________________________________\n",
      "block_4_conv_1 (Conv2D)         (None, 7, 7, 256)    295168      block_4_ReLU_1[0][0]             \n",
      "__________________________________________________________________________________________________\n",
      "block_4_BN_2 (BatchNormalizatio (None, 7, 7, 256)    1024        block_4_conv_1[0][0]             \n",
      "__________________________________________________________________________________________________\n",
      "block_4_ReLU_2 (Activation)     (None, 7, 7, 256)    0           block_4_BN_2[0][0]               \n",
      "__________________________________________________________________________________________________\n",
      "conv2d_4 (Conv2D)               (None, 7, 7, 256)    33024       block_3_Add_1[0][0]              \n",
      "__________________________________________________________________________________________________\n",
      "block_4_conv_2 (Conv2D)         (None, 7, 7, 256)    590080      block_4_ReLU_2[0][0]             \n",
      "__________________________________________________________________________________________________\n",
      "block_4_Add_1 (Add)             (None, 7, 7, 256)    0           conv2d_4[0][0]                   \n",
      "                                                                 block_4_conv_2[0][0]             \n",
      "__________________________________________________________________________________________________\n",
      "batch_normalization_1 (BatchNor (None, 7, 7, 256)    1024        block_4_Add_1[0][0]              \n",
      "__________________________________________________________________________________________________\n",
      "activation_1 (Activation)       (None, 7, 7, 256)    0           batch_normalization_1[0][0]      \n",
      "__________________________________________________________________________________________________\n",
      "average_pooling2d_1 (AveragePoo (None, 1, 1, 256)    0           activation_1[0][0]               \n",
      "__________________________________________________________________________________________________\n",
      "flatten_1 (Flatten)             (None, 256)          0           average_pooling2d_1[0][0]        \n",
      "__________________________________________________________________________________________________\n",
      "dense_1 (Dense)                 (None, 256)          65792       flatten_1[0][0]                  \n",
      "__________________________________________________________________________________________________\n",
      "enc_merge (Dense)               (None, 21)           5397        dense_1[0][0]                    \n",
      "__________________________________________________________________________________________________\n",
      "lambda_1 (Lambda)               [(None, 10), (None,  0           enc_merge[0][0]                  \n",
      "__________________________________________________________________________________________________\n",
      "class (Activation)              (None, 10)           0           lambda_1[0][0]                   \n",
      "__________________________________________________________________________________________________\n",
      "z_lat (Activation)              (None, 10)           0           lambda_1[0][1]                   \n",
      "__________________________________________________________________________________________________\n",
      "D_real (Activation)             (None, 1)            0           lambda_1[0][2]                   \n",
      "==================================================================================================\n",
      "Total params: 1,291,413\n",
      "Trainable params: 1,289,429\n",
      "Non-trainable params: 1,984\n",
      "__________________________________________________________________________________________________\n"
     ]
    }
   ],
   "source": [
    "trainer.E.summary()"
   ]
  },
  {
   "cell_type": "code",
   "execution_count": 17,
   "metadata": {},
   "outputs": [],
   "source": [
    "z_encoder = Model(trainer.input,trainer.z_lat)\n",
    "classifier = Model(trainer.input,trainer.y_class)\n",
    "# y_lat_encoder = Model(trainer.E.input,trainer.y_lat)\n",
    "# decoder_inp = Input(shape=(config.y_dim+config.z_dim,))\n",
    "# dec_layers = trainer.model.layers[-(1+(5*2)):]\n",
    "# print(dec_layers)\n",
    "# _gen_x = dec_layers[0](decoder_inp)\n",
    "# l = dec_layers[1]\n",
    "# isinstance(l,keras.layers.core.Reshape)\n",
    "# F = None\n",
    "# for l in dec_layers[1:]:\n",
    "#     print(type(l))\n",
    "    \n",
    "#     if isinstance(l,keras.layers.merge.Add):\n",
    "#         _gen_x = l([F,_gen_x])\n",
    "#     else:\n",
    "#         _gen_x = l(_gen_x)\n",
    "    \n",
    "#     if isinstance(l,keras.layers.convolutional.Conv2DTranspose):\n",
    "#         if l.kernel_size==(1,1):\n",
    "#             F = _gen_x\n",
    "            \n",
    "# # generator = Model(decoder_inp,_gen_x)"
   ]
  },
  {
   "cell_type": "code",
   "execution_count": 18,
   "metadata": {},
   "outputs": [
    {
     "name": "stdout",
     "output_type": "stream",
     "text": [
      "__________________________________________________________________________________________________\n",
      "Layer (type)                    Output Shape         Param #     Connected to                     \n",
      "==================================================================================================\n",
      "input_image (InputLayer)        (None, 56, 56, 1)    0                                            \n",
      "__________________________________________________________________________________________________\n",
      "block_1_conv_0 (Conv2D)         (None, 56, 56, 32)   320         input_image[0][0]                \n",
      "__________________________________________________________________________________________________\n",
      "block_1_BN_0 (BatchNormalizatio (None, 56, 56, 32)   128         block_1_conv_0[0][0]             \n",
      "__________________________________________________________________________________________________\n",
      "block_1_ReLU_0 (Activation)     (None, 56, 56, 32)   0           block_1_BN_0[0][0]               \n",
      "__________________________________________________________________________________________________\n",
      "block_1_conv_1 (Conv2D)         (None, 56, 56, 32)   1056        block_1_ReLU_0[0][0]             \n",
      "__________________________________________________________________________________________________\n",
      "block_1_BN_2 (BatchNormalizatio (None, 56, 56, 32)   128         block_1_conv_1[0][0]             \n",
      "__________________________________________________________________________________________________\n",
      "block_1_ReLU_2 (Activation)     (None, 56, 56, 32)   0           block_1_BN_2[0][0]               \n",
      "__________________________________________________________________________________________________\n",
      "conv2d_1 (Conv2D)               (None, 56, 56, 32)   64          input_image[0][0]                \n",
      "__________________________________________________________________________________________________\n",
      "block_1_conv_2 (Conv2D)         (None, 56, 56, 32)   9248        block_1_ReLU_2[0][0]             \n",
      "__________________________________________________________________________________________________\n",
      "block_1_Add_1 (Add)             (None, 56, 56, 32)   0           conv2d_1[0][0]                   \n",
      "                                                                 block_1_conv_2[0][0]             \n",
      "__________________________________________________________________________________________________\n",
      "block_2_BN_1 (BatchNormalizatio (None, 56, 56, 32)   128         block_1_Add_1[0][0]              \n",
      "__________________________________________________________________________________________________\n",
      "block_2_ReLU_1 (Activation)     (None, 56, 56, 32)   0           block_2_BN_1[0][0]               \n",
      "__________________________________________________________________________________________________\n",
      "block_2_conv_1 (Conv2D)         (None, 28, 28, 64)   18496       block_2_ReLU_1[0][0]             \n",
      "__________________________________________________________________________________________________\n",
      "block_2_BN_2 (BatchNormalizatio (None, 28, 28, 64)   256         block_2_conv_1[0][0]             \n",
      "__________________________________________________________________________________________________\n",
      "block_2_ReLU_2 (Activation)     (None, 28, 28, 64)   0           block_2_BN_2[0][0]               \n",
      "__________________________________________________________________________________________________\n",
      "conv2d_2 (Conv2D)               (None, 28, 28, 64)   2112        block_1_Add_1[0][0]              \n",
      "__________________________________________________________________________________________________\n",
      "block_2_conv_2 (Conv2D)         (None, 28, 28, 64)   36928       block_2_ReLU_2[0][0]             \n",
      "__________________________________________________________________________________________________\n",
      "block_2_Add_1 (Add)             (None, 28, 28, 64)   0           conv2d_2[0][0]                   \n",
      "                                                                 block_2_conv_2[0][0]             \n",
      "__________________________________________________________________________________________________\n",
      "block_3_BN_1 (BatchNormalizatio (None, 28, 28, 64)   256         block_2_Add_1[0][0]              \n",
      "__________________________________________________________________________________________________\n",
      "block_3_ReLU_1 (Activation)     (None, 28, 28, 64)   0           block_3_BN_1[0][0]               \n",
      "__________________________________________________________________________________________________\n",
      "block_3_conv_1 (Conv2D)         (None, 14, 14, 128)  73856       block_3_ReLU_1[0][0]             \n",
      "__________________________________________________________________________________________________\n",
      "block_3_BN_2 (BatchNormalizatio (None, 14, 14, 128)  512         block_3_conv_1[0][0]             \n",
      "__________________________________________________________________________________________________\n",
      "block_3_ReLU_2 (Activation)     (None, 14, 14, 128)  0           block_3_BN_2[0][0]               \n",
      "__________________________________________________________________________________________________\n",
      "conv2d_3 (Conv2D)               (None, 14, 14, 128)  8320        block_2_Add_1[0][0]              \n",
      "__________________________________________________________________________________________________\n",
      "block_3_conv_2 (Conv2D)         (None, 14, 14, 128)  147584      block_3_ReLU_2[0][0]             \n",
      "__________________________________________________________________________________________________\n",
      "block_3_Add_1 (Add)             (None, 14, 14, 128)  0           conv2d_3[0][0]                   \n",
      "                                                                 block_3_conv_2[0][0]             \n",
      "__________________________________________________________________________________________________\n",
      "block_4_BN_1 (BatchNormalizatio (None, 14, 14, 128)  512         block_3_Add_1[0][0]              \n",
      "__________________________________________________________________________________________________\n",
      "block_4_ReLU_1 (Activation)     (None, 14, 14, 128)  0           block_4_BN_1[0][0]               \n",
      "__________________________________________________________________________________________________\n",
      "block_4_conv_1 (Conv2D)         (None, 7, 7, 256)    295168      block_4_ReLU_1[0][0]             \n",
      "__________________________________________________________________________________________________\n",
      "block_4_BN_2 (BatchNormalizatio (None, 7, 7, 256)    1024        block_4_conv_1[0][0]             \n",
      "__________________________________________________________________________________________________\n",
      "block_4_ReLU_2 (Activation)     (None, 7, 7, 256)    0           block_4_BN_2[0][0]               \n",
      "__________________________________________________________________________________________________\n",
      "conv2d_4 (Conv2D)               (None, 7, 7, 256)    33024       block_3_Add_1[0][0]              \n",
      "__________________________________________________________________________________________________\n",
      "block_4_conv_2 (Conv2D)         (None, 7, 7, 256)    590080      block_4_ReLU_2[0][0]             \n",
      "__________________________________________________________________________________________________\n",
      "block_4_Add_1 (Add)             (None, 7, 7, 256)    0           conv2d_4[0][0]                   \n",
      "                                                                 block_4_conv_2[0][0]             \n",
      "__________________________________________________________________________________________________\n",
      "batch_normalization_1 (BatchNor (None, 7, 7, 256)    1024        block_4_Add_1[0][0]              \n",
      "__________________________________________________________________________________________________\n",
      "activation_1 (Activation)       (None, 7, 7, 256)    0           batch_normalization_1[0][0]      \n",
      "__________________________________________________________________________________________________\n",
      "average_pooling2d_1 (AveragePoo (None, 1, 1, 256)    0           activation_1[0][0]               \n",
      "__________________________________________________________________________________________________\n",
      "flatten_1 (Flatten)             (None, 256)          0           average_pooling2d_1[0][0]        \n",
      "__________________________________________________________________________________________________\n",
      "dense_1 (Dense)                 (None, 256)          65792       flatten_1[0][0]                  \n",
      "__________________________________________________________________________________________________\n",
      "enc_merge (Dense)               (None, 21)           5397        dense_1[0][0]                    \n",
      "__________________________________________________________________________________________________\n",
      "lambda_1 (Lambda)               [(None, 10), (None,  0           enc_merge[0][0]                  \n",
      "__________________________________________________________________________________________________\n",
      "class (Activation)              (None, 10)           0           lambda_1[0][0]                   \n",
      "==================================================================================================\n",
      "Total params: 1,291,413\n",
      "Trainable params: 1,289,429\n",
      "Non-trainable params: 1,984\n",
      "__________________________________________________________________________________________________\n"
     ]
    }
   ],
   "source": [
    "classifier.summary()"
   ]
  },
  {
   "cell_type": "code",
   "execution_count": 19,
   "metadata": {},
   "outputs": [
    {
     "data": {
      "text/plain": [
       "(10000, 10)"
      ]
     },
     "execution_count": 19,
     "metadata": {},
     "output_type": "execute_result"
    }
   ],
   "source": [
    "DL.y_test_oh.shape"
   ]
  },
  {
   "cell_type": "code",
   "execution_count": 20,
   "metadata": {},
   "outputs": [
    {
     "name": "stdout",
     "output_type": "stream",
     "text": [
      "10000/10000 [==============================] - 2s 197us/step\n"
     ]
    },
    {
     "data": {
      "text/plain": [
       "[0.8572525691986084, 0.7426000000953674]"
      ]
     },
     "execution_count": 20,
     "metadata": {},
     "output_type": "execute_result"
    }
   ],
   "source": [
    "classifier.compile(loss='categorical_crossentropy',optimizer='adam',metrics=['acc'])\n",
    "classifier.evaluate(DL.sx_test,DL.y_test_oh,batch_size=config.batch_size)"
   ]
  },
  {
   "cell_type": "code",
   "execution_count": 21,
   "metadata": {},
   "outputs": [],
   "source": [
    "z_enc = z_encoder.predict(DL.sx_test,batch_size=config.batch_size)\n",
    "# y_lat = y_lat_encoder.predict(DL.sx_test,batch_size=config.batch_size)\n",
    "y_lat = classifier.predict(DL.sx_test,batch_size=config.batch_size)"
   ]
  },
  {
   "cell_type": "code",
   "execution_count": 22,
   "metadata": {},
   "outputs": [
    {
     "data": {
      "text/plain": [
       "(10000, 20)"
      ]
     },
     "execution_count": 22,
     "metadata": {},
     "output_type": "execute_result"
    }
   ],
   "source": [
    "_lat_vec = np.concatenate([y_lat,z_enc],axis=1)\n",
    "_lat_vec.shape"
   ]
  },
  {
   "cell_type": "code",
   "execution_count": 23,
   "metadata": {},
   "outputs": [],
   "source": [
    "z_enc_mu = np.mean(z_enc,axis=0)\n",
    "z_enc_cov = np.cov(z_enc,rowvar=False)"
   ]
  },
  {
   "cell_type": "code",
   "execution_count": 24,
   "metadata": {},
   "outputs": [
    {
     "data": {
      "text/plain": [
       "(50, 10)"
      ]
     },
     "execution_count": 24,
     "metadata": {},
     "output_type": "execute_result"
    }
   ],
   "source": [
    "np.random.multivariate_normal(z_enc_mu,z_enc_cov,size=50).shape"
   ]
  },
  {
   "cell_type": "code",
   "execution_count": 25,
   "metadata": {},
   "outputs": [],
   "source": [
    "regen = generator.predict(_lat_vec,batch_size=config.batch_size)"
   ]
  },
  {
   "cell_type": "code",
   "execution_count": 26,
   "metadata": {},
   "outputs": [
    {
     "data": {
      "text/plain": [
       "<matplotlib.image.AxesImage at 0x7fbc88322d68>"
      ]
     },
     "execution_count": 26,
     "metadata": {},
     "output_type": "execute_result"
    },
    {
     "data": {
      "image/png": "[encoded data removed]",
      "text/plain": [
       "<Figure size 432x288 with 1 Axes>"
      ]
     },
     "metadata": {
      "needs_background": "light"
     },
     "output_type": "display_data"
    }
   ],
   "source": [
    "rand_im = np.random.randint(0,10000)\n",
    "plt.imshow(regen[rand_im].reshape(56,56),cmap='gray')"
   ]
  },
  {
   "cell_type": "code",
   "execution_count": 27,
   "metadata": {},
   "outputs": [
    {
     "data": {
      "text/plain": [
       "array([ 3.2833567e-01,  4.8181888e-02,  5.3659476e-02,  2.9590735e-01,\n",
       "        3.9132882e-02,  1.8622549e-03,  2.1153416e-01,  1.0054695e-03,\n",
       "        1.6837841e-02,  3.5430910e-03,  8.4389585e-01,  9.0300488e-01,\n",
       "        1.5027184e+00, -8.2022494e-01,  2.5409898e-01, -2.9239672e-01,\n",
       "        8.3536065e-01,  3.6763954e-01, -1.2117989e+00,  4.4302696e-01],\n",
       "      dtype=float32)"
      ]
     },
     "execution_count": 27,
     "metadata": {},
     "output_type": "execute_result"
    }
   ],
   "source": [
    "_lat_vec[rand_im]"
   ]
  },
  {
   "cell_type": "code",
   "execution_count": 28,
   "metadata": {},
   "outputs": [
    {
     "name": "stdout",
     "output_type": "stream",
     "text": [
      "input_shape:  (56, 56, 1)\n",
      "dataset:  fashion_mnist\n",
      "scale:  2\n",
      "tx_max:  0.8\n",
      "rot_max:  None\n",
      "loading fashion_mnist...\n",
      "sx_train:  (60000, 56, 56, 1)\n",
      "making training data...\n",
      "making testing data...\n"
     ]
    }
   ],
   "source": [
    "DL2 = Shifted_Data_Loader(dataset=config.dataset,flatten=False,\n",
    "                         rotation=None,\n",
    "                         translation=translation_amt,\n",
    "                        )"
   ]
  },
  {
   "cell_type": "code",
   "execution_count": 29,
   "metadata": {},
   "outputs": [
    {
     "data": {
      "image/png": "[encoded data removed]",
      "text/plain": [
       "<Figure size 432x576 with 20 Axes>"
      ]
     },
     "metadata": {
      "needs_background": "light"
     },
     "output_type": "display_data"
    }
   ],
   "source": [
    "enc_dec_samples(DL.x_test,DL.sx_test,z_enc,y_lat,generator)"
   ]
  },
  {
   "cell_type": "code",
   "execution_count": 30,
   "metadata": {},
   "outputs": [],
   "source": [
    "z_enc2 = z_encoder.predict(DL2.sx_test,batch_size=config.batch_size)\n",
    "y_lat2 = classifier.predict(DL2.sx_test,batch_size=config.batch_size)\n",
    "_lat_vec2 = np.concatenate([y_lat2,z_enc2],axis=1)\n",
    "regen2 = generator.predict(_lat_vec2,batch_size=config.batch_size)"
   ]
  },
  {
   "cell_type": "code",
   "execution_count": 31,
   "metadata": {},
   "outputs": [],
   "source": [
    "from src.plot import remove_axes,remove_labels\n",
    "from src.utils import gen_trajectory"
   ]
  },
  {
   "cell_type": "code",
   "execution_count": 32,
   "metadata": {},
   "outputs": [
    {
     "data": {
      "image/png": "[encoded data removed]",
      "text/plain": [
       "<Figure size 576x288 with 55 Axes>"
      ]
     },
     "metadata": {
      "needs_background": "light"
     },
     "output_type": "display_data"
    }
   ],
   "source": [
    "examples = 5\n",
    "rand_im = np.random.randint(0,10000,size=examples)\n",
    "fix,axs = plt.subplots(examples,11,figsize=(8,4))\n",
    "_lat_s = []\n",
    "regen_s = []\n",
    "out = gen_trajectory(z_enc[rand_im],z_enc2[rand_im],delta=.25)\n",
    "out_y = gen_trajectory(y_lat[rand_im],y_lat2[rand_im],delta=.25)\n",
    "\n",
    "for z,y in zip(out,out_y):\n",
    "    _lat = np.concatenate([y,z],axis=1)\n",
    "    _lat_s.append(_lat)\n",
    "    regen_s.append(generator.predict(_lat,batch_size=config.batch_size))\n",
    "\n",
    "i=0\n",
    "for axr,idx in zip(axs,rand_im):\n",
    "    axr[0].imshow(DL.x_test[idx].reshape(28,28),cmap='gray')\n",
    "    axr[1].imshow(DL.sx_test[idx].reshape(56,56),cmap='gray')\n",
    "    axr[2].imshow(regen[idx].reshape(56,56),cmap='gray')\n",
    "    for j,a in enumerate(axr[3:-3]):\n",
    "        a.imshow(regen_s[j][i,:].reshape(56,56),cmap='gray')\n",
    "#         a.imshow(s.reshape(56,56),cmap='gray')\n",
    "    axr[-3].imshow(regen2[idx].reshape(56,56),cmap='gray')\n",
    "    axr[-2].imshow(DL2.sx_test[idx].reshape(56,56),cmap='gray')\n",
    "    axr[-1].imshow(DL2.x_test[idx].reshape(28,28),cmap='gray')\n",
    "    for a in axr:\n",
    "        remove_axes(a)\n",
    "        remove_labels(a)\n",
    "    i+=1\n",
    "# plt.imshow(regen[rand_im].reshape(56,56),cmap='gray')"
   ]
  },
  {
   "cell_type": "code",
   "execution_count": 33,
   "metadata": {},
   "outputs": [],
   "source": [
    "fix.savefig('../../updates/2019-02-05/assets/img/translocate_{}.png'.format(translation_amt))"
   ]
  },
  {
   "cell_type": "code",
   "execution_count": 34,
   "metadata": {},
   "outputs": [],
   "source": [
    "dxs = DL.dx[1]-14\n",
    "dys = DL.dy[1]-14"
   ]
  },
  {
   "cell_type": "code",
   "execution_count": 35,
   "metadata": {},
   "outputs": [
    {
     "ename": "IndexError",
     "evalue": "index 10 is out of bounds for axis 1 with size 10",
     "output_type": "error",
     "traceback": [
      "\u001b[0;31m---------------------------------------------------------------------------\u001b[0m",
      "\u001b[0;31mIndexError\u001b[0m                                Traceback (most recent call last)",
      "\u001b[0;32m<ipython-input-35-5515ed6135e6>\u001b[0m in \u001b[0;36m<module>\u001b[0;34m()\u001b[0m\n\u001b[1;32m      2\u001b[0m \u001b[0;34m\u001b[0m\u001b[0m\n\u001b[1;32m      3\u001b[0m \u001b[0mfeat_range\u001b[0m \u001b[0;34m=\u001b[0m \u001b[0;34m(\u001b[0m\u001b[0;36m0\u001b[0m\u001b[0;34m,\u001b[0m\u001b[0;36m50\u001b[0m\u001b[0;34m)\u001b[0m\u001b[0;34m\u001b[0m\u001b[0m\n\u001b[0;32m----> 4\u001b[0;31m \u001b[0mz_enc_scaled\u001b[0m \u001b[0;34m=\u001b[0m \u001b[0;34m[\u001b[0m\u001b[0mMinMaxScaler\u001b[0m\u001b[0;34m(\u001b[0m\u001b[0mfeat_range\u001b[0m\u001b[0;34m)\u001b[0m\u001b[0;34m.\u001b[0m\u001b[0mfit_transform\u001b[0m\u001b[0;34m(\u001b[0m\u001b[0mz_enc\u001b[0m\u001b[0;34m[\u001b[0m\u001b[0;34m:\u001b[0m\u001b[0;34m,\u001b[0m\u001b[0mi\u001b[0m\u001b[0;34m]\u001b[0m\u001b[0;34m.\u001b[0m\u001b[0mreshape\u001b[0m\u001b[0;34m(\u001b[0m\u001b[0;34m-\u001b[0m\u001b[0;36m1\u001b[0m\u001b[0;34m,\u001b[0m\u001b[0;36m1\u001b[0m\u001b[0;34m)\u001b[0m\u001b[0;34m)\u001b[0m\u001b[0;34m.\u001b[0m\u001b[0mtolist\u001b[0m\u001b[0;34m(\u001b[0m\u001b[0;34m)\u001b[0m \u001b[0;32mfor\u001b[0m \u001b[0mi\u001b[0m \u001b[0;32min\u001b[0m \u001b[0mnp\u001b[0m\u001b[0;34m.\u001b[0m\u001b[0marange\u001b[0m\u001b[0;34m(\u001b[0m\u001b[0mconfig\u001b[0m\u001b[0;34m.\u001b[0m\u001b[0mz_dim\u001b[0m\u001b[0;34m+\u001b[0m\u001b[0mconfig\u001b[0m\u001b[0;34m.\u001b[0m\u001b[0my_dim\u001b[0m\u001b[0;34m)\u001b[0m\u001b[0;34m]\u001b[0m\u001b[0;34m\u001b[0m\u001b[0m\n\u001b[0m\u001b[1;32m      5\u001b[0m \u001b[0mz_enc_scaled\u001b[0m \u001b[0;34m=\u001b[0m \u001b[0mnp\u001b[0m\u001b[0;34m.\u001b[0m\u001b[0msqueeze\u001b[0m\u001b[0;34m(\u001b[0m\u001b[0mnp\u001b[0m\u001b[0;34m.\u001b[0m\u001b[0marray\u001b[0m\u001b[0;34m(\u001b[0m\u001b[0mz_enc_scaled\u001b[0m\u001b[0;34m,\u001b[0m\u001b[0mdtype\u001b[0m\u001b[0;34m=\u001b[0m\u001b[0mint\u001b[0m\u001b[0;34m)\u001b[0m\u001b[0;34m)\u001b[0m\u001b[0;34m\u001b[0m\u001b[0m\n",
      "\u001b[0;32m<ipython-input-35-5515ed6135e6>\u001b[0m in \u001b[0;36m<listcomp>\u001b[0;34m(.0)\u001b[0m\n\u001b[1;32m      2\u001b[0m \u001b[0;34m\u001b[0m\u001b[0m\n\u001b[1;32m      3\u001b[0m \u001b[0mfeat_range\u001b[0m \u001b[0;34m=\u001b[0m \u001b[0;34m(\u001b[0m\u001b[0;36m0\u001b[0m\u001b[0;34m,\u001b[0m\u001b[0;36m50\u001b[0m\u001b[0;34m)\u001b[0m\u001b[0;34m\u001b[0m\u001b[0m\n\u001b[0;32m----> 4\u001b[0;31m \u001b[0mz_enc_scaled\u001b[0m \u001b[0;34m=\u001b[0m \u001b[0;34m[\u001b[0m\u001b[0mMinMaxScaler\u001b[0m\u001b[0;34m(\u001b[0m\u001b[0mfeat_range\u001b[0m\u001b[0;34m)\u001b[0m\u001b[0;34m.\u001b[0m\u001b[0mfit_transform\u001b[0m\u001b[0;34m(\u001b[0m\u001b[0mz_enc\u001b[0m\u001b[0;34m[\u001b[0m\u001b[0;34m:\u001b[0m\u001b[0;34m,\u001b[0m\u001b[0mi\u001b[0m\u001b[0;34m]\u001b[0m\u001b[0;34m.\u001b[0m\u001b[0mreshape\u001b[0m\u001b[0;34m(\u001b[0m\u001b[0;34m-\u001b[0m\u001b[0;36m1\u001b[0m\u001b[0;34m,\u001b[0m\u001b[0;36m1\u001b[0m\u001b[0;34m)\u001b[0m\u001b[0;34m)\u001b[0m\u001b[0;34m.\u001b[0m\u001b[0mtolist\u001b[0m\u001b[0;34m(\u001b[0m\u001b[0;34m)\u001b[0m \u001b[0;32mfor\u001b[0m \u001b[0mi\u001b[0m \u001b[0;32min\u001b[0m \u001b[0mnp\u001b[0m\u001b[0;34m.\u001b[0m\u001b[0marange\u001b[0m\u001b[0;34m(\u001b[0m\u001b[0mconfig\u001b[0m\u001b[0;34m.\u001b[0m\u001b[0mz_dim\u001b[0m\u001b[0;34m+\u001b[0m\u001b[0mconfig\u001b[0m\u001b[0;34m.\u001b[0m\u001b[0my_dim\u001b[0m\u001b[0;34m)\u001b[0m\u001b[0;34m]\u001b[0m\u001b[0;34m\u001b[0m\u001b[0m\n\u001b[0m\u001b[1;32m      5\u001b[0m \u001b[0mz_enc_scaled\u001b[0m \u001b[0;34m=\u001b[0m \u001b[0mnp\u001b[0m\u001b[0;34m.\u001b[0m\u001b[0msqueeze\u001b[0m\u001b[0;34m(\u001b[0m\u001b[0mnp\u001b[0m\u001b[0;34m.\u001b[0m\u001b[0marray\u001b[0m\u001b[0;34m(\u001b[0m\u001b[0mz_enc_scaled\u001b[0m\u001b[0;34m,\u001b[0m\u001b[0mdtype\u001b[0m\u001b[0;34m=\u001b[0m\u001b[0mint\u001b[0m\u001b[0;34m)\u001b[0m\u001b[0;34m)\u001b[0m\u001b[0;34m\u001b[0m\u001b[0m\n",
      "\u001b[0;31mIndexError\u001b[0m: index 10 is out of bounds for axis 1 with size 10"
     ]
    }
   ],
   "source": [
    "from sklearn.preprocessing import MinMaxScaler\n",
    "\n",
    "feat_range = (0,50)\n",
    "z_enc_scaled = [MinMaxScaler(feat_range).fit_transform(z_enc[:,i].reshape(-1,1)).tolist() for i in np.arange(config.z_dim+config.y_dim)]\n",
    "z_enc_scaled = np.squeeze(np.array(z_enc_scaled,dtype=int))"
   ]
  },
  {
   "cell_type": "code",
   "execution_count": null,
   "metadata": {},
   "outputs": [],
   "source": [
    "from collections import Counter\n",
    "import dit\n",
    "from dit import Distribution\n",
    "\n",
    "def mutual_information(X,Y):\n",
    "    XY_c = Counter(zip(X,Y))\n",
    "    XY_pmf = {k:v/float(sum(XY_c.values())) for k,v in XY_c.items()}\n",
    "    XY_jdist = Distribution(XY_pmf)\n",
    "        \n",
    "    return dit.shannon.mutual_information(XY_jdist,[0],[1])"
   ]
  },
  {
   "cell_type": "code",
   "execution_count": null,
   "metadata": {},
   "outputs": [],
   "source": [
    "z_dx_I = [mutual_information(z_enc_scaled[i],dxs.astype(int)+14) for i in np.arange(25)]"
   ]
  },
  {
   "cell_type": "code",
   "execution_count": null,
   "metadata": {},
   "outputs": [],
   "source": [
    "z_dy_I = [mutual_information(z_enc_scaled[i],dys.astype(int)+14) for i in np.arange(25)]"
   ]
  },
  {
   "cell_type": "code",
   "execution_count": null,
   "metadata": {},
   "outputs": [],
   "source": [
    "z_class_I = [mutual_information(z_enc_scaled[i],DL.y_test) for i in np.arange(25)]"
   ]
  },
  {
   "cell_type": "code",
   "execution_count": null,
   "metadata": {},
   "outputs": [],
   "source": [
    "z_I_df = pd.DataFrame.from_records({'class':z_class_I,'dy':z_dy_I,'dx':z_dx_I})\n",
    "z_I_df['class'] = z_I_df['class'].values.round(decimals=1)"
   ]
  },
  {
   "cell_type": "code",
   "execution_count": null,
   "metadata": {},
   "outputs": [],
   "source": [
    "config.translation_amt = translation_amt\n",
    "config.translation_amt"
   ]
  },
  {
   "cell_type": "code",
   "execution_count": null,
   "metadata": {},
   "outputs": [],
   "source": [
    "dir_path = '../data/xcov_importance/dist_{}/'.format(translation_amt)\n",
    "\n",
    "z_I_df.to_pickle('../data/xcov_importance/dist_{}/z_mutual_info.pk'.format(translation_amt))\n",
    "np.save('../data/xcov_importance/dist_{}/dxs'.format(translation_amt), DL.dx[1]-14)\n",
    "np.save('../data/xcov_importance/dist_{}/dys'.format(translation_amt), DL.dy[1]-14)\n",
    "np.save('../data/xcov_importance/dist_{}/z_enc'.format(translation_amt), z_enc)\n",
    "\n",
    "hist_df.to_pickle(os.path.join(dir_path,'training_hist.df'))\n",
    "\n",
    "with open(os.path.join(dir_path,'config.json'), 'w') as fp:\n",
    "        json.dump(vars(config), fp)"
   ]
  },
  {
   "cell_type": "code",
   "execution_count": null,
   "metadata": {},
   "outputs": [],
   "source": [
    "sns.set_context('talk')\n",
    "fig,ax = plt.subplots(1,1,figsize=(6,5))\n",
    "ax.set_ylim(0,0.9)\n",
    "ax.set_xlim(0,0.9)\n",
    "points = plt.scatter(x=z_I_df['dx'],y=z_I_df['dy'],c=z_I_df['class'],cmap='plasma')\n",
    "plt.colorbar(points)"
   ]
  },
  {
   "cell_type": "code",
   "execution_count": null,
   "metadata": {},
   "outputs": [],
   "source": [
    "fig,ax = plt.subplots(1,1,figsize=(5,5))\n",
    "ax.scatter(z_dx_I,z_dy_I)\n",
    "# ax.set_ylim(0,0.8)\n",
    "# ax.set_xlim(0,0.8)"
   ]
  },
  {
   "cell_type": "code",
   "execution_count": null,
   "metadata": {},
   "outputs": [],
   "source": []
  },
  {
   "cell_type": "code",
   "execution_count": null,
   "metadata": {},
   "outputs": [],
   "source": [
    "plt.scatter(np.arange(25),sorted(z_class_I,reverse=True))\n",
    "# plt.scatter(np.arange(25),z_dx_I)\n",
    "# plt.scatter(np.arange(25),z_dy_I)"
   ]
  },
  {
   "cell_type": "code",
   "execution_count": null,
   "metadata": {},
   "outputs": [],
   "source": [
    "from src.metrics import var_expl,norm_var_expl\n",
    "from collections import Counter\n",
    "\n",
    "dtheta = DL.dtheta[1]\n",
    "fve_dx = norm_var_expl(features=z_enc,cond=dxs,bins=21)\n",
    "fve_dy = norm_var_expl(features=z_enc,cond=dys,bins=21)\n",
    "fve_class = norm_var_expl(features=z_enc, cond=DL.y_test, bins=21)\n",
    "# fve_dt = norm_var_expl(features=z_enc,cond=dtheta,bins=21)"
   ]
  },
  {
   "cell_type": "code",
   "execution_count": null,
   "metadata": {},
   "outputs": [],
   "source": [
    "# fve_dx_norm = (dxs.var()-fve_dx)/dxs.var()\n",
    "# fve_dy_norm = (dys.var()-fve_dy)/dys.var()\n",
    "# fve_dth_norm = (dtheta.var()-fve_dt)/dtheta.var()\n",
    "fve_dx_norm = fve_dx\n",
    "fve_dy_norm = fve_dy"
   ]
  },
  {
   "cell_type": "code",
   "execution_count": null,
   "metadata": {},
   "outputs": [],
   "source": [
    "import seaborn as sns\n",
    "sns.set_context('talk')"
   ]
  },
  {
   "cell_type": "code",
   "execution_count": null,
   "metadata": {},
   "outputs": [],
   "source": [
    "fve_dx_norm.shape\n",
    "# np.save(os.path.join(config.model_dir,'fve_dx_norm'),fve_dx_norm)"
   ]
  },
  {
   "cell_type": "code",
   "execution_count": null,
   "metadata": {},
   "outputs": [],
   "source": [
    "fig,ax = plt.subplots(1,1,figsize=(5,5))\n",
    "plt.scatter(fve_dx_norm.mean(axis=0),fve_dy_norm.mean(axis=0))\n",
    "plt.xlabel('fve_dx')\n",
    "plt.ylabel('fve_dy')\n",
    "plt.tight_layout()\n",
    "# plt.savefig(os.path.join(config.model_dir,'fve_dx.png'))\n",
    "# plt.ylim(-0.125,0.25)\n",
    "xdim = np.argmax(fve_dx_norm.mean(axis=0))"
   ]
  },
  {
   "cell_type": "code",
   "execution_count": null,
   "metadata": {},
   "outputs": [],
   "source": [
    "fve_dy_norm.mean(axis=0)\n",
    "# np.save(os.path.join(config.model_dir,'fve_dy_norm'),fve_dy_norm)"
   ]
  },
  {
   "cell_type": "code",
   "execution_count": null,
   "metadata": {},
   "outputs": [],
   "source": [
    "plt.scatter(np.arange(config.z_dim),fve_dy_norm.mean(axis=0))\n",
    "plt.xlabel('Z_n')\n",
    "plt.ylabel('fve_dy')\n",
    "plt.tight_layout()\n",
    "# plt.savefig(os.path.join(config.model_dir,'fve_dy.png'))\n",
    "# plt.ylim(-0.125,0.25)\n",
    "ydim = np.argmax(fve_dy_norm.mean(axis=0))"
   ]
  },
  {
   "cell_type": "code",
   "execution_count": null,
   "metadata": {},
   "outputs": [],
   "source": [
    "plt.scatter(np.arange(config.z_dim),fve_class.mean(axis=0))\n",
    "plt.xlabel('Z_n')\n",
    "plt.ylabel('fve_class')\n",
    "# plt.ylim(0.0,0.5)\n",
    "np.argmax(fve_class.mean(axis=0))"
   ]
  },
  {
   "cell_type": "code",
   "execution_count": null,
   "metadata": {},
   "outputs": [],
   "source": [
    "from src.plot import Z_color_scatter\n",
    "Z_color_scatter(z_enc,[xdim,ydim],dxs)"
   ]
  },
  {
   "cell_type": "code",
   "execution_count": null,
   "metadata": {},
   "outputs": [],
   "source": [
    "Z_color_scatter(z_enc,[xdim,ydim],dys)"
   ]
  },
  {
   "cell_type": "code",
   "execution_count": null,
   "metadata": {},
   "outputs": [],
   "source": [
    "Z_color_scatter(z_enc,[7,18],dtheta)"
   ]
  },
  {
   "cell_type": "code",
   "execution_count": null,
   "metadata": {},
   "outputs": [],
   "source": [
    "from plt."
   ]
  },
  {
   "cell_type": "code",
   "execution_count": null,
   "metadata": {},
   "outputs": [],
   "source": []
  }
 ],
 "metadata": {
  "kernelspec": {
   "display_name": "Py3-GPU (Python3.5.2)",
   "language": "python",
   "name": "py3-gpu"
  },
  "language_info": {
   "codemirror_mode": {
    "name": "ipython",
    "version": 3
   },
   "file_extension": ".py",
   "mimetype": "text/x-python",
   "name": "python",
   "nbconvert_exporter": "python",
   "pygments_lexer": "ipython3",
   "version": "3.5.2"
  }
 },
 "nbformat": 4,
 "nbformat_minor": 2
}
