{
 "cells": [
  {
   "cell_type": "markdown",
   "metadata": {},
   "source": [
    "# Corrupted labels are a useful way to measure a networks generalization potential\n",
    "- https://arxiv.org/pdf/1611.03530.pdf"
   ]
  },
  {
   "cell_type": "code",
   "execution_count": 1,
   "metadata": {},
   "outputs": [
    {
     "name": "stderr",
     "output_type": "stream",
     "text": [
      "Using TensorFlow backend.\n"
     ]
    }
   ],
   "source": [
    "import os\n",
    "import json\n",
    "import numpy as np\n",
    "import pandas as pd\n",
    "import scipy\n",
    "\n",
    "import matplotlib.pyplot as plt\n",
    "import seaborn as sns\n",
    "%matplotlib inline\n",
    "\n",
    "from src.data_loader import Shifted_Data_Loader\n",
    "from src.plot import orig_vs_transformed as plot_ovt\n",
    "from src.plot import enc_dec_samples\n",
    "from src.models import GResNet,EDense\n",
    "from src.config import get_config\n",
    "from src.trainer import Trainer\n",
    "from src.utils import prepare_dirs_and_logger\n",
    "from keras.datasets import fashion_mnist,mnist\n",
    "from keras.layers import Dense\n",
    "from keras.models import Model\n",
    "from keras.utils import to_categorical\n",
    "\n",
    "# from tabulate import tabulate"
   ]
  },
  {
   "cell_type": "code",
   "execution_count": 2,
   "metadata": {},
   "outputs": [],
   "source": [
    "config,_ = get_config()\n",
    "# Boilerplate\n",
    "setattr(config, 'proj_root', '/home/elijahc/projects/vae')\n",
    "setattr(config, 'log_dir', '/home/elijahc/projects/vae/logs')\n",
    "setattr(config, 'dev_mode',False)\n",
    "setattr(config, 'seed', 7)\n",
    "setattr(config, 'project','vae')\n",
    "setattr(config, 'ecc_max',0.8)\n",
    "\n",
    "# Architecture Params\n",
    "setattr(config, 'enc_layers', [3000,2000])\n",
    "setattr(config, 'dec_blocks', [4,2,1])\n",
    "setattr(config, 'z_dim', 3)\n",
    "setattr(config, 'y_dim', 10)\n",
    "\n",
    "# Training Params\n",
    "setattr(config, 'batch_size', 512)\n",
    "setattr(config, 'dataset', 'fashion_mnist')\n",
    "setattr(config, 'epochs',150)\n",
    "setattr(config, 'monitor', None)\n",
    "# setattr(config, 'min_delta', 0.5)\n",
    "setattr(config, 'optimizer', 'adam')\n",
    "setattr(config, 'label_corruption',0.4)\n",
    "\n",
    "if config.ecc_max == 0:\n",
    "    \n",
    "    translation_amt = None\n",
    "else:\n",
    "    translation_amt = config.ecc_max\n",
    "\n",
    "\n",
    "# Loss Weights\n",
    "setattr(config, 'xcov', 0)\n",
    "setattr(config, 'recon', 0)\n",
    "setattr(config, 'xent', 15)\n",
    "setattr(config,'model_dir','/home/elijahc/projects/vae/models/2019-04-02/recon_{}_ecc_{}/label_corruption_{}'.format(config.recon,config.ecc_max,config.label_corruption))\n"
   ]
  },
  {
   "cell_type": "code",
   "execution_count": 3,
   "metadata": {},
   "outputs": [
    {
     "name": "stdout",
     "output_type": "stream",
     "text": [
      "setting up...\n",
      "/home/elijahc/projects/vae/models/2019-04-02/recon_0_ecc_0.8/label_corruption_0.4  does not exist...\n",
      "creating...\n",
      "/home/elijahc/projects/vae/logs/0402_120930_fashion_mnist  does not exist...\n",
      "creating...\n"
     ]
    },
    {
     "data": {
      "text/plain": [
       "{'batch_size': 512,\n",
       " 'dataset': 'fashion_mnist',\n",
       " 'dec_blocks': [4, 2, 1],\n",
       " 'dev_mode': False,\n",
       " 'ecc_max': 0.8,\n",
       " 'enc_layers': [3000, 2000],\n",
       " 'epochs': 150,\n",
       " 'label_corruption': 0.4,\n",
       " 'log_dir': '/home/elijahc/projects/vae/logs',\n",
       " 'log_level': 'INFO',\n",
       " 'model_dir': '/home/elijahc/projects/vae/models/2019-04-02/recon_0_ecc_0.8/label_corruption_0.4',\n",
       " 'model_name': '0402_120930_fashion_mnist',\n",
       " 'monitor': None,\n",
       " 'optimizer': 'adam',\n",
       " 'proj_root': '/home/elijahc/projects/vae',\n",
       " 'project': 'vae',\n",
       " 'recon': 0,\n",
       " 'run_dir': '/home/elijahc/projects/vae/logs/0402_120930_fashion_mnist',\n",
       " 'seed': 7,\n",
       " 'xcov': 0,\n",
       " 'xent': 15,\n",
       " 'y_dim': 10,\n",
       " 'z_dim': 3}"
      ]
     },
     "execution_count": 3,
     "metadata": {},
     "output_type": "execute_result"
    }
   ],
   "source": [
    "np.random.seed(7)\n",
    "if not config.dev_mode:\n",
    "    print('setting up...')\n",
    "    prepare_dirs_and_logger(config)\n",
    "    \n",
    "vars(config)\n"
   ]
  },
  {
   "cell_type": "code",
   "execution_count": 4,
   "metadata": {},
   "outputs": [
    {
     "name": "stdout",
     "output_type": "stream",
     "text": [
      "input_shape:  (3136,)\n",
      "dataset:  fashion_mnist\n",
      "scale:  2\n",
      "tx_max:  0.8\n",
      "rot_max:  None\n",
      "loading fashion_mnist...\n",
      "sx_train:  (60000, 3136)\n",
      "making training data...\n",
      "making testing data...\n"
     ]
    }
   ],
   "source": [
    "DL = Shifted_Data_Loader(dataset=config.dataset,flatten=True,\n",
    "                         rotation=None,\n",
    "                         translation=translation_amt,\n",
    "                        )"
   ]
  },
  {
   "cell_type": "code",
   "execution_count": 5,
   "metadata": {},
   "outputs": [
    {
     "data": {
      "image/png": "[encoded data removed]",
      "text/plain": [
       "<Figure size 432x288 with 2 Axes>"
      ]
     },
     "metadata": {
      "needs_background": "light"
     },
     "output_type": "display_data"
    }
   ],
   "source": [
    "pt,idx = plot_ovt(DL,cmap='gray')"
   ]
  },
  {
   "cell_type": "code",
   "execution_count": 6,
   "metadata": {},
   "outputs": [],
   "source": [
    "# Load corrupted Labels\n",
    "y_tr_corr = np.load('../data/fashion_mnist_corrupted_labels/y_train_{}.npy'.format(config.label_corruption))\n",
    "y_corr_idxs = np.load('../data/fashion_mnist_corrupted_labels/corrupted_idxs_{}.npy'.format(config.label_corruption))\n",
    "y_corrupted_oh = to_categorical(y_tr_corr,num_classes=10)"
   ]
  },
  {
   "cell_type": "code",
   "execution_count": 7,
   "metadata": {},
   "outputs": [
    {
     "name": "stdout",
     "output_type": "stream",
     "text": [
      "building encoder...\n",
      "building decoder/generator...\n"
     ]
    }
   ],
   "source": [
    "G_builder = GResNet(y_dim=config.y_dim,z_dim=config.z_dim,dec_blocks=config.dec_blocks)\n",
    "E_builder = EDense(enc_layers=config.enc_layers,z_dim=config.z_dim,)\n",
    "trainer = Trainer(config,DL,E_builder,G_builder,)\n",
    "# setattr(trainer.config,'model_dir','/home/elijahc/projects/vae/models/2019-01-22/')"
   ]
  },
  {
   "cell_type": "code",
   "execution_count": 8,
   "metadata": {},
   "outputs": [
    {
     "name": "stdout",
     "output_type": "stream",
     "text": [
      "__________________________________________________________________________________________________\n",
      "Layer (type)                    Output Shape         Param #     Connected to                     \n",
      "==================================================================================================\n",
      "input_image (InputLayer)        (None, 3136)         0                                            \n",
      "__________________________________________________________________________________________________\n",
      "dense_1 (Dense)                 (None, 3000)         9411000     input_image[0][0]                \n",
      "__________________________________________________________________________________________________\n",
      "dense_2 (Dense)                 (None, 2000)         6002000     dense_1[0][0]                    \n",
      "__________________________________________________________________________________________________\n",
      "enc_merge (Dense)               (None, 14)           28014       dense_2[0][0]                    \n",
      "__________________________________________________________________________________________________\n",
      "lambda_1 (Lambda)               [(None, 10), (None,  0           enc_merge[0][0]                  \n",
      "__________________________________________________________________________________________________\n",
      "class (Activation)              (None, 10)           0           lambda_1[0][0]                   \n",
      "__________________________________________________________________________________________________\n",
      "z_lat (Activation)              (None, 3)            0           lambda_1[0][1]                   \n",
      "__________________________________________________________________________________________________\n",
      "concatenate_1 (Concatenate)     (None, 13)           0           class[0][0]                      \n",
      "                                                                 z_lat[0][0]                      \n",
      "__________________________________________________________________________________________________\n",
      "G (Model)                       (None, 3136)         61473       concatenate_1[0][0]              \n",
      "==================================================================================================\n",
      "Total params: 15,502,487\n",
      "Trainable params: 15,502,167\n",
      "Non-trainable params: 320\n",
      "__________________________________________________________________________________________________\n"
     ]
    }
   ],
   "source": [
    "trainer.model.summary()"
   ]
  },
  {
   "cell_type": "code",
   "execution_count": 9,
   "metadata": {},
   "outputs": [],
   "source": [
    "# trainer.build_model()\n",
    "trainer.compile_model()\n",
    "# trainer.G.summary()"
   ]
  },
  {
   "cell_type": "code",
   "execution_count": 10,
   "metadata": {},
   "outputs": [
    {
     "data": {
      "text/plain": [
       "(10000, 3136)"
      ]
     },
     "execution_count": 10,
     "metadata": {},
     "output_type": "execute_result"
    }
   ],
   "source": [
    "DL.sx_test.shape"
   ]
  },
  {
   "cell_type": "code",
   "execution_count": 11,
   "metadata": {},
   "outputs": [],
   "source": [
    "val_pct = 0.05\n",
    "val_idxs = np.random.choice(np.arange(10000),int(val_pct*60000),replace=False)\n",
    "validation_set = (DL.sx_test[val_idxs],{'class':DL.y_test_oh[val_idxs],'G':DL.sx_test[val_idxs]})"
   ]
  },
  {
   "cell_type": "code",
   "execution_count": 12,
   "metadata": {},
   "outputs": [
    {
     "name": "stdout",
     "output_type": "stream",
     "text": [
      "Epoch        G_loss      val_G_loss  class_acc   val_class_acc\n",
      "0:           1976.8102   1882.0798   0.3397      0.6597      \n",
      "1:           1967.3165   1891.1777   0.4283      0.677       \n",
      "2:           1952.9752   1894.0394   0.4439      0.6993      \n",
      "3:           1921.1752   1895.281    0.4546      0.7047      \n",
      "4:           1890.9491   1881.5782   0.4668      0.7117      \n",
      "5:           1873.5305   1867.5906   0.478       0.703       \n",
      "6:           1862.2014   1844.5991   0.4852      0.703       \n",
      "7:           1853.8056   1852.8492   0.498       0.6997      \n",
      "8:           1849.9621   1850.1893   0.5099      0.6993      \n",
      "9:           1843.042    1836.6268   0.5265      0.6863      \n",
      "10:          1841.5066   1834.16     0.5422      0.6807      \n",
      "11:          1851.2985   1831.6858   0.5609      0.661       \n",
      "12:          1837.7683   1821.752    0.5793      0.6387      \n",
      "13:          1847.7405   1837.3644   0.5985      0.626       \n",
      "14:          1847.3503   1821.9581   0.6214      0.6233      \n",
      "15:          1851.5723   1839.2153   0.6422      0.6167      \n",
      "16:          1848.9789   1824.0932   0.6641      0.622       \n",
      "17:          1861.4443   1845.2379   0.6887      0.5923      \n",
      "18:          1861.5675   1845.7971   0.7106      0.5847      \n",
      "19:          1865.4811   1854.0596   0.736       0.5727      \n",
      "20:          1861.7401   1848.557    0.7605      0.5647      \n",
      "21:          1870.9265   1850.0453   0.7816      0.5593      \n",
      "22:          1871.9074   1859.5571   0.8019      0.5543      \n",
      "23:          1868.1258   1862.5293   0.821       0.5397      \n",
      "24:          1866.7412   1860.3389   0.8361      0.5337      \n",
      "25:          1869.096    1866.9509   0.8569      0.5503      \n",
      "26:          1868.0805   1879.8804   0.8741      0.515       \n",
      "27:          1862.9745   1873.265    0.8916      0.5303      \n",
      "28:          1861.079    1874.2529   0.899       0.5597      \n",
      "29:          1858.2549   1869.5267   0.9099      0.5417      \n",
      "30:          1862.3013   1872.5801   0.9236      0.5323      \n",
      "31:          1859.8654   1870.1448   0.9314      0.5417      \n",
      "32:          1859.3046   1875.5343   0.9417      0.5453      \n",
      "33:          1860.4629   1885.9862   0.9446      0.5393      \n",
      "34:          1860.5305   1885.7844   0.9506      0.536       \n",
      "35:          1858.0109   1881.4532   0.9617      0.5503      \n",
      "36:          1856.7343   1876.5276   0.9591      0.5463      \n",
      "37:          1856.9708   1887.3656   0.9634      0.544       \n",
      "38:          1853.6538   1873.6794   0.9664      0.527       \n",
      "39:          1852.3563   1873.8583   0.9689      0.542       \n",
      "40:          1848.9791   1871.9152   0.9604      0.532       \n",
      "41:          1849.3981   1872.3626   0.9637      0.536       \n",
      "42:          1846.5724   1872.4353   0.9752      0.5427      \n",
      "43:          1845.7498   1873.6706   0.9768      0.5423      \n",
      "44:          1848.5987   1875.3295   0.9776      0.5427      \n",
      "45:          1846.9081   1878.6973   0.9738      0.5353      \n",
      "46:          1849.4998   1871.3538   0.9706      0.532       \n",
      "47:          1844.0151   1865.8771   0.9681      0.54        \n",
      "48:          1848.5287   1870.6107   0.9686      0.535       \n",
      "49:          1846.1105   1867.21     0.9699      0.5493      \n",
      "50:          1845.0663   1870.4906   0.9801      0.544       \n",
      "51:          1846.0002   1866.4959   0.9807      0.5363      \n",
      "52:          1841.8894   1865.7066   0.986       0.5487      \n",
      "53:          1838.0812   1863.1519   0.9915      0.547       \n",
      "54:          1837.7135   1865.1125   0.9868      0.5333      \n",
      "55:          1839.5471   1861.697    0.9779      0.537       \n",
      "56:          1843.7035   1859.2989   0.9673      0.5423      \n",
      "57:          1844.8533   1863.9139   0.9632      0.5243      \n",
      "58:          1847.8533   1871.0162   0.9635      0.52        \n",
      "59:          1848.3096   1871.1456   0.9745      0.5223      \n",
      "60:          1845.4909   1872.9235   0.98        0.5373      \n",
      "61:          1841.354    1871.4082   0.9852      0.5457      \n",
      "62:          1844.3199   1869.6512   0.9826      0.5413      \n",
      "63:          1840.5236   1865.9274   0.9855      0.528       \n",
      "64:          1842.1956   1864.5129   0.9821      0.5473      \n",
      "65:          1839.7131   1859.5453   0.9842      0.5383      \n",
      "66:          1838.3947   1868.8724   0.9875      0.5447      \n",
      "67:          1838.1025   1863.0338   0.9811      0.5377      \n",
      "68:          1842.5327   1862.0446   0.98        0.537       \n",
      "69:          1838.4478   1859.9772   0.9772      0.5403      \n",
      "70:          1831.4743   1857.5397   0.9777      0.545       \n",
      "71:          1833.2912   1854.5118   0.9753      0.548       \n",
      "72:          1833.025    1852.548    0.9784      0.539       \n",
      "73:          1833.1087   1847.8395   0.9858      0.5507      \n",
      "74:          1830.5668   1853.9511   0.9848      0.5343      \n",
      "75:          1828.0383   1852.2321   0.9895      0.5423      \n",
      "76:          1824.2018   1846.5646   0.9931      0.5537      \n",
      "77:          1820.5167   1844.769    0.9869      0.542       \n",
      "78:          1819.0393   1836.1739   0.9812      0.5247      \n",
      "79:          1822.1805   1829.8011   0.9739      0.5333      \n",
      "80:          1824.43     1844.9278   0.9788      0.535       \n",
      "81:          1822.055    1836.6163   0.9756      0.5337      \n",
      "82:          1819.9347   1838.1283   0.9783      0.5227      \n",
      "83:          1825.5208   1837.6167   0.9797      0.547       \n",
      "84:          1821.1095   1835.5295   0.9898      0.5513      \n",
      "85:          1817.4877   1835.5373   0.9949      0.5363      \n",
      "86:          1818.3376   1829.7168   0.9943      0.537       \n",
      "87:          1816.8258   1829.0908   0.9956      0.5417      \n",
      "88:          1813.6253   1825.8767   0.9914      0.5373      \n",
      "89:          1813.9165   1823.7355   0.987       0.537       \n",
      "90:          1811.7002   1821.3427   0.9761      0.533       \n",
      "91:          1816.4875   1820.8473   0.9579      0.5243      \n",
      "92:          1816.6437   1825.0549   0.9686      0.5393      \n",
      "93:          1818.0586   1830.0735   0.98        0.539       \n",
      "94:          1811.7578   1827.6399   0.9861      0.5463      \n",
      "95:          1812.6884   1829.9498   0.9937      0.5447      \n",
      "96:          1810.7993   1828.0147   0.995       0.552       \n",
      "97:          1809.1877   1821.2777   0.9952      0.5673      \n",
      "98:          1810.6247   1818.5669   0.9975      0.5627      \n",
      "99:          1812.0011   1820.4424   0.9945      0.5633      \n",
      "100:         1807.6761   1815.2159   0.9786      0.5377      \n",
      "101:         1807.8312   1813.0138   0.9698      0.526       \n",
      "102:         1810.0434   1814.6312   0.9696      0.5313      \n",
      "103:         1812.3835   1823.0826   0.9786      0.5397      \n",
      "104:         1801.7806   1813.822    0.9854      0.5453      \n",
      "105:         1807.6923   1817.577    0.9883      0.545       \n",
      "106:         1802.7376   1804.8395   0.9921      0.5507      \n",
      "107:         1803.87     1813.2496   0.993       0.5427      \n",
      "108:         1806.5812   1812.2129   0.9912      0.5413      \n",
      "109:         1802.0168   1811.2444   0.9901      0.5387      \n",
      "110:         1794.9474   1797.6651   0.9892      0.5517      \n",
      "111:         1801.6867   1801.9374   0.9789      0.532       \n",
      "112:         1801.5173   1801.8695   0.9792      0.5447      \n",
      "113:         1797.3504   1804.6913   0.9851      0.5277      \n",
      "114:         1790.9339   1794.7947   0.9868      0.5333      \n",
      "115:         1794.3825   1799.0266   0.9867      0.5437      \n",
      "116:         1795.5012   1797.9222   0.9917      0.547       \n",
      "117:         1793.4035   1798.7671   0.9934      0.5527      \n",
      "118:         1792.4652   1796.0166   0.9897      0.558       \n",
      "119:         1790.0954   1783.3987   0.9837      0.5433      \n",
      "120:         1785.1789   1787.9955   0.9756      0.5253      \n",
      "121:         1792.3951   1791.0872   0.9857      0.5293      \n",
      "122:         1789.8988   1791.8268   0.9849      0.539       \n",
      "123:         1792.5183   1790.317    0.9873      0.5527      \n",
      "124:         1789.0011   1790.0883   0.9929      0.546       \n",
      "125:         1783.2507   1783.452    0.9944      0.562       \n",
      "126:         1784.3862   1785.7511   0.9961      0.5657      \n",
      "127:         1786.8362   1789.5309   0.9972      0.5603      \n",
      "128:         1787.6909   1792.0499   0.998       0.5687      \n",
      "129:         1785.9855   1783.8012   0.996       0.558       \n",
      "130:         1788.8356   1788.1094   0.9864      0.5407      \n",
      "131:         1786.8793   1789.741    0.973       0.5217      \n",
      "132:         1781.0102   1781.0195   0.9636      0.5193      \n",
      "133:         1781.5276   1783.0782   0.9765      0.5217      \n",
      "134:         1778.6983   1779.3367   0.9864      0.5267      \n",
      "135:         1777.5488   1778.8606   0.9921      0.5447      \n",
      "136:         1777.6498   1776.4464   0.9938      0.546       \n",
      "137:         1779.4956   1774.3494   0.9945      0.546       \n",
      "138:         1774.4317   1770.7591   0.9943      0.5453      \n",
      "139:         1778.0626   1773.0935   0.9942      0.546       \n",
      "140:         1780.2909   1779.9278   0.995       0.553       \n",
      "141:         1774.939    1768.2922   0.9838      0.5427      \n",
      "142:         1778.0255   1773.1634   0.9831      0.5423      \n",
      "143:         1773.7011   1773.1509   0.9813      0.5287      \n",
      "144:         1764.9749   1761.2373   0.9845      0.5427      \n",
      "145:         1769.4518   1763.9251   0.9863      0.536       \n",
      "146:         1766.5667   1762.0034   0.9904      0.54        \n",
      "147:         1769.863    1763.1166   0.9896      0.5437      \n",
      "148:         1769.8341   1767.3393   0.9922      0.5447      \n",
      "149:         1771.0925   1764.5273   0.9927      0.5513      \n"
     ]
    },
    {
     "data": {
      "text/plain": [
       "<keras.callbacks.History at 0x7f6774776198>"
      ]
     },
     "execution_count": 12,
     "metadata": {},
     "output_type": "execute_result"
    }
   ],
   "source": [
    "trainer.go(x=DL.sx_train,\n",
    "           y={\n",
    "               'class':y_corrupted_oh,\n",
    "#                'D_real':RF,\n",
    "               'G':DL.sx_train},\n",
    "           validation_data=validation_set,\n",
    "           verbose=0)"
   ]
  },
  {
   "cell_type": "code",
   "execution_count": 13,
   "metadata": {},
   "outputs": [
    {
     "data": {
      "text/html": [
       "<div>\n",
       "<style scoped>\n",
       "    .dataframe tbody tr th:only-of-type {\n",
       "        vertical-align: middle;\n",
       "    }\n",
       "\n",
       "    .dataframe tbody tr th {\n",
       "        vertical-align: top;\n",
       "    }\n",
       "\n",
       "    .dataframe thead th {\n",
       "        text-align: right;\n",
       "    }\n",
       "</style>\n",
       "<table border=\"1\" class=\"dataframe\">\n",
       "  <thead>\n",
       "    <tr style=\"text-align: right;\">\n",
       "      <th></th>\n",
       "      <th>G_loss</th>\n",
       "      <th>G_mse</th>\n",
       "      <th>class_acc</th>\n",
       "      <th>class_loss</th>\n",
       "      <th>loss</th>\n",
       "      <th>val_G_loss</th>\n",
       "      <th>val_G_mse</th>\n",
       "      <th>val_class_acc</th>\n",
       "      <th>val_class_loss</th>\n",
       "      <th>val_loss</th>\n",
       "    </tr>\n",
       "  </thead>\n",
       "  <tbody>\n",
       "    <tr>\n",
       "      <th>0</th>\n",
       "      <td>1976.810229</td>\n",
       "      <td>1976.810229</td>\n",
       "      <td>0.339700</td>\n",
       "      <td>2.019649</td>\n",
       "      <td>30.300744</td>\n",
       "      <td>1882.079786</td>\n",
       "      <td>1882.079786</td>\n",
       "      <td>0.659667</td>\n",
       "      <td>1.292463</td>\n",
       "      <td>19.390407</td>\n",
       "    </tr>\n",
       "    <tr>\n",
       "      <th>1</th>\n",
       "      <td>1967.316537</td>\n",
       "      <td>1967.316537</td>\n",
       "      <td>0.428267</td>\n",
       "      <td>1.866122</td>\n",
       "      <td>27.994028</td>\n",
       "      <td>1891.177717</td>\n",
       "      <td>1891.177717</td>\n",
       "      <td>0.677000</td>\n",
       "      <td>1.242229</td>\n",
       "      <td>18.634700</td>\n",
       "    </tr>\n",
       "    <tr>\n",
       "      <th>2</th>\n",
       "      <td>1952.975213</td>\n",
       "      <td>1952.975213</td>\n",
       "      <td>0.443867</td>\n",
       "      <td>1.815699</td>\n",
       "      <td>27.236286</td>\n",
       "      <td>1894.039372</td>\n",
       "      <td>1894.039372</td>\n",
       "      <td>0.699333</td>\n",
       "      <td>1.151390</td>\n",
       "      <td>17.271302</td>\n",
       "    </tr>\n",
       "    <tr>\n",
       "      <th>3</th>\n",
       "      <td>1921.175156</td>\n",
       "      <td>1921.175156</td>\n",
       "      <td>0.454567</td>\n",
       "      <td>1.778398</td>\n",
       "      <td>26.676260</td>\n",
       "      <td>1895.280976</td>\n",
       "      <td>1895.280976</td>\n",
       "      <td>0.704667</td>\n",
       "      <td>1.177150</td>\n",
       "      <td>17.657403</td>\n",
       "    </tr>\n",
       "    <tr>\n",
       "      <th>4</th>\n",
       "      <td>1890.949117</td>\n",
       "      <td>1890.949117</td>\n",
       "      <td>0.466833</td>\n",
       "      <td>1.742829</td>\n",
       "      <td>26.142529</td>\n",
       "      <td>1881.578201</td>\n",
       "      <td>1881.578201</td>\n",
       "      <td>0.711667</td>\n",
       "      <td>1.116627</td>\n",
       "      <td>16.749461</td>\n",
       "    </tr>\n",
       "  </tbody>\n",
       "</table>\n",
       "</div>"
      ],
      "text/plain": [
       "        G_loss        G_mse  class_acc  class_loss       loss   val_G_loss  \\\n",
       "0  1976.810229  1976.810229   0.339700    2.019649  30.300744  1882.079786   \n",
       "1  1967.316537  1967.316537   0.428267    1.866122  27.994028  1891.177717   \n",
       "2  1952.975213  1952.975213   0.443867    1.815699  27.236286  1894.039372   \n",
       "3  1921.175156  1921.175156   0.454567    1.778398  26.676260  1895.280976   \n",
       "4  1890.949117  1890.949117   0.466833    1.742829  26.142529  1881.578201   \n",
       "\n",
       "     val_G_mse  val_class_acc  val_class_loss   val_loss  \n",
       "0  1882.079786       0.659667        1.292463  19.390407  \n",
       "1  1891.177717       0.677000        1.242229  18.634700  \n",
       "2  1894.039372       0.699333        1.151390  17.271302  \n",
       "3  1895.280976       0.704667        1.177150  17.657403  \n",
       "4  1881.578201       0.711667        1.116627  16.749461  "
      ]
     },
     "execution_count": 13,
     "metadata": {},
     "output_type": "execute_result"
    }
   ],
   "source": [
    "hist_df = pd.DataFrame.from_records(trainer.model.history.history)\n",
    "hist_df.head()"
   ]
  },
  {
   "cell_type": "code",
   "execution_count": 14,
   "metadata": {},
   "outputs": [
    {
     "data": {
      "image/png": "[encoded data removed]",
      "text/plain": [
       "<Figure size 360x720 with 3 Axes>"
      ]
     },
     "metadata": {
      "needs_background": "light"
     },
     "output_type": "display_data"
    }
   ],
   "source": [
    "sns.set_context('paper')\n",
    "metrics = ['loss','G_loss','class_acc']\n",
    "fig,axs = plt.subplots(nrows=len(metrics),sharex=True,figsize=(5,10))\n",
    "for metric_name,ax in zip(metrics,axs):\n",
    "    sns.scatterplot(data=hist_df[[metric_name,'val_'+metric_name]],ax=ax)"
   ]
  },
  {
   "cell_type": "code",
   "execution_count": 15,
   "metadata": {},
   "outputs": [],
   "source": [
    "import datetime as dt\n",
    "def clean_config(config,keys=['dev_mode','log_dir','log_level','proj_root']):\n",
    "    c = vars(config)\n",
    "    for k in keys:\n",
    "        if k in c.keys():\n",
    "            del c[k]\n",
    "    \n",
    "    c['uploaded_by']='elijahc'\n",
    "    c['last_updated']= str(dt.datetime.now())\n",
    "    return c"
   ]
  },
  {
   "cell_type": "code",
   "execution_count": 16,
   "metadata": {},
   "outputs": [
    {
     "data": {
      "text/plain": [
       "{'batch_size': 512,\n",
       " 'dataset': 'fashion_mnist',\n",
       " 'dec_blocks': [4, 2, 1],\n",
       " 'ecc_max': 0.8,\n",
       " 'enc_layers': [3000, 2000],\n",
       " 'epochs': 150,\n",
       " 'label_corruption': 0.4,\n",
       " 'last_updated': '2019-04-02 12:28:04.967937',\n",
       " 'model_dir': '/home/elijahc/projects/vae/models/2019-04-02/recon_0_ecc_0.8/label_corruption_0.4',\n",
       " 'model_name': '0402_120930_fashion_mnist',\n",
       " 'monitor': None,\n",
       " 'optimizer': 'adam',\n",
       " 'project': 'vae',\n",
       " 'recon': 0,\n",
       " 'run_dir': '/home/elijahc/projects/vae/logs/0402_120930_fashion_mnist',\n",
       " 'seed': 7,\n",
       " 'uploaded_by': 'elijahc',\n",
       " 'xcov': 0,\n",
       " 'xent': 15,\n",
       " 'y_dim': 10,\n",
       " 'z_dim': 3}"
      ]
     },
     "execution_count": 16,
     "metadata": {},
     "output_type": "execute_result"
    }
   ],
   "source": [
    "run_meta = clean_config(config)\n",
    "run_meta['project']='vae'\n",
    "# run_meta['ecc_max']=0.8\n",
    "run_meta"
   ]
  },
  {
   "cell_type": "code",
   "execution_count": null,
   "metadata": {},
   "outputs": [],
   "source": []
  },
  {
   "cell_type": "code",
   "execution_count": 17,
   "metadata": {},
   "outputs": [],
   "source": [
    "trainer.save_model()\n",
    "run_conf = clean_config(config)\n",
    "\n",
    "with open(os.path.join(run_conf['model_dir'],'config.json'), 'w') as fp:\n",
    "    json.dump(run_conf, fp)\n",
    "\n",
    "hist_df.to_parquet(os.path.join(run_conf['model_dir'],'train_history.parquet'))"
   ]
  },
  {
   "cell_type": "code",
   "execution_count": 18,
   "metadata": {},
   "outputs": [],
   "source": [
    "generator = trainer.G"
   ]
  },
  {
   "cell_type": "code",
   "execution_count": 19,
   "metadata": {},
   "outputs": [
    {
     "name": "stdout",
     "output_type": "stream",
     "text": [
      "__________________________________________________________________________________________________\n",
      "Layer (type)                    Output Shape         Param #     Connected to                     \n",
      "==================================================================================================\n",
      "input_image (InputLayer)        (None, 3136)         0                                            \n",
      "__________________________________________________________________________________________________\n",
      "dense_1 (Dense)                 (None, 3000)         9411000     input_image[0][0]                \n",
      "__________________________________________________________________________________________________\n",
      "dense_2 (Dense)                 (None, 2000)         6002000     dense_1[0][0]                    \n",
      "__________________________________________________________________________________________________\n",
      "enc_merge (Dense)               (None, 14)           28014       dense_2[0][0]                    \n",
      "__________________________________________________________________________________________________\n",
      "lambda_1 (Lambda)               [(None, 10), (None,  0           enc_merge[0][0]                  \n",
      "__________________________________________________________________________________________________\n",
      "class (Activation)              (None, 10)           0           lambda_1[0][0]                   \n",
      "__________________________________________________________________________________________________\n",
      "z_lat (Activation)              (None, 3)            0           lambda_1[0][1]                   \n",
      "__________________________________________________________________________________________________\n",
      "D_real (Activation)             (None, 1)            0           lambda_1[0][2]                   \n",
      "==================================================================================================\n",
      "Total params: 15,441,014\n",
      "Trainable params: 15,441,014\n",
      "Non-trainable params: 0\n",
      "__________________________________________________________________________________________________\n"
     ]
    }
   ],
   "source": [
    "trainer.E.summary()"
   ]
  },
  {
   "cell_type": "code",
   "execution_count": 20,
   "metadata": {},
   "outputs": [
    {
     "data": {
      "text/plain": [
       "<tf.Tensor 'dense_1/Relu:0' shape=(?, 3000) dtype=float32>"
      ]
     },
     "execution_count": 20,
     "metadata": {},
     "output_type": "execute_result"
    }
   ],
   "source": [
    "trainer.model.get_layer(name='dense_1').output"
   ]
  },
  {
   "cell_type": "code",
   "execution_count": 21,
   "metadata": {},
   "outputs": [],
   "source": [
    "z_encoder = Model(trainer.input,trainer.z_lat)\n",
    "classifier = Model(trainer.input,trainer.y_class)\n",
    "\n",
    "l1_encoder = Model(trainer.input,trainer.model.get_layer(name='dense_1').output)\n",
    "l2_encoder = Model(trainer.input,trainer.model.get_layer(name='dense_2').output)"
   ]
  },
  {
   "cell_type": "code",
   "execution_count": 22,
   "metadata": {},
   "outputs": [
    {
     "name": "stdout",
     "output_type": "stream",
     "text": [
      "_________________________________________________________________\n",
      "Layer (type)                 Output Shape              Param #   \n",
      "=================================================================\n",
      "input_image (InputLayer)     (None, 3136)              0         \n",
      "_________________________________________________________________\n",
      "dense_1 (Dense)              (None, 3000)              9411000   \n",
      "_________________________________________________________________\n",
      "dense_2 (Dense)              (None, 2000)              6002000   \n",
      "_________________________________________________________________\n",
      "enc_merge (Dense)            (None, 14)                28014     \n",
      "_________________________________________________________________\n",
      "lambda_1 (Lambda)            [(None, 10), (None, 3), ( 0         \n",
      "_________________________________________________________________\n",
      "class (Activation)           (None, 10)                0         \n",
      "=================================================================\n",
      "Total params: 15,441,014\n",
      "Trainable params: 15,441,014\n",
      "Non-trainable params: 0\n",
      "_________________________________________________________________\n"
     ]
    }
   ],
   "source": [
    "classifier.summary()"
   ]
  },
  {
   "cell_type": "code",
   "execution_count": 23,
   "metadata": {},
   "outputs": [
    {
     "data": {
      "text/plain": [
       "(10000, 10)"
      ]
     },
     "execution_count": 23,
     "metadata": {},
     "output_type": "execute_result"
    }
   ],
   "source": [
    "DL.y_test_oh.shape"
   ]
  },
  {
   "cell_type": "code",
   "execution_count": 24,
   "metadata": {},
   "outputs": [
    {
     "name": "stdout",
     "output_type": "stream",
     "text": [
      "10000/10000 [==============================] - 0s 39us/step\n",
      "0.5465000000953675\n"
     ]
    }
   ],
   "source": [
    "classifier.compile(loss='categorical_crossentropy',optimizer='adam',metrics=['acc'])\n",
    "res = classifier.evaluate(DL.sx_test,DL.y_test_oh,batch_size=config.batch_size)\n",
    "ts_error = 1-res[1]\n",
    "print(res[1])\n",
    "df = pd.DataFrame.from_records({'test_acc':[res[1]],\n",
    "                                'label_corruption':[config.label_corruption],\n",
    "                                'recon':[config.recon],\n",
    "                                'xent':[config.xent],\n",
    "                                'ecc_max':[config.ecc_max],\n",
    "                                'xcov': [config.xcov]})\n",
    "df.to_json(os.path.join(config.model_dir,'performance.json'))"
   ]
  },
  {
   "cell_type": "code",
   "execution_count": 25,
   "metadata": {},
   "outputs": [],
   "source": [
    "l1_enc = l1_encoder.predict(DL.sx_test,batch_size=config.batch_size)\n",
    "l2_enc = l2_encoder.predict(DL.sx_test,batch_size=config.batch_size)\n",
    "\n",
    "z_enc = z_encoder.predict(DL.sx_test,batch_size=config.batch_size)\n",
    "# y_lat = y_lat_encoder.predict(DL.sx_test,batch_size=config.batch_size)\n",
    "y_enc = classifier.predict(DL.sx_test,batch_size=config.batch_size)"
   ]
  },
  {
   "cell_type": "code",
   "execution_count": 26,
   "metadata": {},
   "outputs": [],
   "source": [
    "np.save(os.path.join(config.model_dir,'z_enc'),z_enc)\n",
    "np.save(os.path.join(config.model_dir,'l1_enc'),l1_enc)\n",
    "np.save(os.path.join(config.model_dir,'l2_enc'),l2_enc)\n",
    "np.save(os.path.join(config.model_dir,'y_enc'),y_enc)"
   ]
  },
  {
   "cell_type": "code",
   "execution_count": 27,
   "metadata": {},
   "outputs": [
    {
     "data": {
      "text/plain": [
       "(10000, 2000)"
      ]
     },
     "execution_count": 27,
     "metadata": {},
     "output_type": "execute_result"
    }
   ],
   "source": [
    "l2_enc.shape"
   ]
  },
  {
   "cell_type": "code",
   "execution_count": 28,
   "metadata": {},
   "outputs": [
    {
     "data": {
      "text/plain": [
       "(10000, 13)"
      ]
     },
     "execution_count": 28,
     "metadata": {},
     "output_type": "execute_result"
    }
   ],
   "source": [
    "_lat_vec = np.concatenate([y_enc,z_enc],axis=1)\n",
    "_lat_vec.shape"
   ]
  },
  {
   "cell_type": "code",
   "execution_count": 29,
   "metadata": {},
   "outputs": [],
   "source": [
    "z_enc_mu = np.mean(z_enc,axis=0)\n",
    "z_enc_cov = np.cov(z_enc,rowvar=False)"
   ]
  },
  {
   "cell_type": "code",
   "execution_count": 30,
   "metadata": {},
   "outputs": [
    {
     "data": {
      "text/plain": [
       "(50, 3)"
      ]
     },
     "execution_count": 30,
     "metadata": {},
     "output_type": "execute_result"
    }
   ],
   "source": [
    "np.random.multivariate_normal(z_enc_mu,z_enc_cov,size=50).shape"
   ]
  },
  {
   "cell_type": "code",
   "execution_count": 31,
   "metadata": {},
   "outputs": [],
   "source": [
    "regen = generator.predict(_lat_vec,batch_size=config.batch_size)"
   ]
  },
  {
   "cell_type": "code",
   "execution_count": 32,
   "metadata": {},
   "outputs": [
    {
     "data": {
      "text/plain": [
       "<matplotlib.image.AxesImage at 0x7f63f617dda0>"
      ]
     },
     "execution_count": 32,
     "metadata": {},
     "output_type": "execute_result"
    },
    {
     "data": {
      "image/png": "[encoded data removed]",
      "text/plain": [
       "<Figure size 432x288 with 1 Axes>"
      ]
     },
     "metadata": {
      "needs_background": "light"
     },
     "output_type": "display_data"
    }
   ],
   "source": [
    "rand_im = np.random.randint(0,10000)\n",
    "plt.imshow(regen[rand_im].reshape(56,56),cmap='gray')"
   ]
  },
  {
   "cell_type": "code",
   "execution_count": 33,
   "metadata": {},
   "outputs": [
    {
     "data": {
      "text/plain": [
       "array([ 1.8491694e-06,  2.6864386e-08,  6.8820316e-10,  1.9821658e-13,\n",
       "        1.5926840e-06,  1.9457648e-08,  2.3253932e-08,  3.4905381e-05,\n",
       "        9.9996018e-01,  1.3945211e-06, -2.1933675e-01, -6.9554150e-01,\n",
       "       -8.0913901e-01], dtype=float32)"
      ]
     },
     "execution_count": 33,
     "metadata": {},
     "output_type": "execute_result"
    }
   ],
   "source": [
    "_lat_vec[rand_im]"
   ]
  },
  {
   "cell_type": "code",
   "execution_count": 34,
   "metadata": {},
   "outputs": [
    {
     "name": "stdout",
     "output_type": "stream",
     "text": [
      "input_shape:  (3136,)\n",
      "dataset:  fashion_mnist\n",
      "scale:  2\n",
      "tx_max:  0.8\n",
      "rot_max:  None\n",
      "loading fashion_mnist...\n",
      "sx_train:  (60000, 3136)\n",
      "making training data...\n",
      "making testing data...\n"
     ]
    }
   ],
   "source": [
    "DL2 = Shifted_Data_Loader(dataset=config.dataset,flatten=True,\n",
    "                         rotation=None,\n",
    "                         translation=translation_amt,\n",
    "                        )"
   ]
  },
  {
   "cell_type": "code",
   "execution_count": 35,
   "metadata": {},
   "outputs": [
    {
     "data": {
      "image/png": "[encoded data removed]",
      "text/plain": [
       "<Figure size 432x576 with 20 Axes>"
      ]
     },
     "metadata": {
      "needs_background": "light"
     },
     "output_type": "display_data"
    }
   ],
   "source": [
    "enc_dec_samples(DL.x_test,DL.sx_test,z_enc,y_enc,generator)"
   ]
  },
  {
   "cell_type": "code",
   "execution_count": 36,
   "metadata": {},
   "outputs": [],
   "source": [
    "z_enc2 = z_encoder.predict(DL2.sx_test,batch_size=config.batch_size)\n",
    "y_lat2 = classifier.predict(DL2.sx_test,batch_size=config.batch_size)\n",
    "_lat_vec2 = np.concatenate([y_lat2,z_enc2],axis=1)\n",
    "regen2 = generator.predict(_lat_vec2,batch_size=config.batch_size)"
   ]
  },
  {
   "cell_type": "code",
   "execution_count": 37,
   "metadata": {},
   "outputs": [],
   "source": [
    "from src.plot import remove_axes,remove_labels\n",
    "from src.utils import gen_trajectory"
   ]
  },
  {
   "cell_type": "code",
   "execution_count": 38,
   "metadata": {},
   "outputs": [
    {
     "data": {
      "image/png": "[encoded data removed]",
      "text/plain": [
       "<Figure size 576x288 with 55 Axes>"
      ]
     },
     "metadata": {
      "needs_background": "light"
     },
     "output_type": "display_data"
    }
   ],
   "source": [
    "examples = 5\n",
    "rand_im = np.random.randint(0,10000,size=examples)\n",
    "fix,axs = plt.subplots(examples,11,figsize=(8,4))\n",
    "_lat_s = []\n",
    "regen_s = []\n",
    "out = gen_trajectory(z_enc[rand_im],z_enc2[rand_im],delta=.25)\n",
    "out_y = gen_trajectory(y_enc[rand_im],y_lat2[rand_im],delta=.25)\n",
    "\n",
    "for z,y in zip(out,out_y):\n",
    "    _lat = np.concatenate([y,z],axis=1)\n",
    "    _lat_s.append(_lat)\n",
    "    regen_s.append(generator.predict(_lat,batch_size=config.batch_size))\n",
    "\n",
    "i=0\n",
    "for axr,idx in zip(axs,rand_im):\n",
    "    axr[0].imshow(DL.x_test[idx].reshape(28,28),cmap='gray')\n",
    "    axr[1].imshow(DL.sx_test[idx].reshape(56,56),cmap='gray')\n",
    "    axr[2].imshow(regen[idx].reshape(56,56),cmap='gray')\n",
    "    for j,a in enumerate(axr[3:-3]):\n",
    "        a.imshow(regen_s[j][i,:].reshape(56,56),cmap='gray')\n",
    "#         a.imshow(s.reshape(56,56),cmap='gray')\n",
    "    axr[-3].imshow(regen2[idx].reshape(56,56),cmap='gray')\n",
    "    axr[-2].imshow(DL2.sx_test[idx].reshape(56,56),cmap='gray')\n",
    "    axr[-1].imshow(DL2.x_test[idx].reshape(28,28),cmap='gray')\n",
    "    for a in axr:\n",
    "        remove_axes(a)\n",
    "        remove_labels(a)\n",
    "    i+=1\n",
    "# plt.imshow(regen[rand_im].reshape(56,56),cmap='gray')"
   ]
  },
  {
   "cell_type": "code",
   "execution_count": 39,
   "metadata": {},
   "outputs": [],
   "source": [
    "# fix.savefig('../../updates/2019-02-05/assets/img/translocate_{}.png'.format(translation_amt))"
   ]
  },
  {
   "cell_type": "code",
   "execution_count": 40,
   "metadata": {},
   "outputs": [
    {
     "ename": "NameError",
     "evalue": "name 'fdjsakl' is not defined",
     "output_type": "error",
     "traceback": [
      "\u001b[0;31m---------------------------------------------------------------------------\u001b[0m",
      "\u001b[0;31mNameError\u001b[0m                                 Traceback (most recent call last)",
      "\u001b[0;32m<ipython-input-40-da5de4087f53>\u001b[0m in \u001b[0;36m<module>\u001b[0;34m()\u001b[0m\n\u001b[0;32m----> 1\u001b[0;31m \u001b[0mfdjsakl\u001b[0m\u001b[0;34m;\u001b[0m\u001b[0mfdsa\u001b[0m\u001b[0;34m\u001b[0m\u001b[0m\n\u001b[0m",
      "\u001b[0;31mNameError\u001b[0m: name 'fdjsakl' is not defined"
     ]
    }
   ],
   "source": [
    "fdjsakl;fdsa"
   ]
  },
  {
   "cell_type": "code",
   "execution_count": null,
   "metadata": {},
   "outputs": [],
   "source": [
    "dxs = DL.dx[1]-14\n",
    "dys = DL.dy[1]-14"
   ]
  },
  {
   "cell_type": "code",
   "execution_count": null,
   "metadata": {},
   "outputs": [],
   "source": [
    "from sklearn.preprocessing import MinMaxScaler\n",
    "\n",
    "feat_range = (0,30)\n",
    "z_enc_scaled = [MinMaxScaler(feat_range).fit_transform(z_enc[:,i].reshape(-1,1)).tolist() for i in np.arange(25)]\n",
    "z_enc_scaled = np.squeeze(np.array(z_enc_scaled,dtype=int))"
   ]
  },
  {
   "cell_type": "code",
   "execution_count": null,
   "metadata": {},
   "outputs": [],
   "source": [
    "l2_enc_scaled = [MinMaxScaler(feat_range).fit_transform(l2_enc[:,i].reshape(-1,1)).tolist() for i in np.arange(2000)]\n",
    "l2_enc_scaled = np.squeeze(np.array(l2_enc_scaled,dtype=int))"
   ]
  },
  {
   "cell_type": "code",
   "execution_count": null,
   "metadata": {},
   "outputs": [],
   "source": [
    "l2_enc_scaled.shape"
   ]
  },
  {
   "cell_type": "code",
   "execution_count": null,
   "metadata": {},
   "outputs": [],
   "source": [
    "from collections import Counter\n",
    "import dit\n",
    "from dit import Distribution\n",
    "\n",
    "def mutual_information(X,Y):\n",
    "    XY_c = Counter(zip(X,Y))\n",
    "    XY_pmf = {k:v/float(sum(XY_c.values())) for k,v in XY_c.items()}\n",
    "    XY_jdist = Distribution(XY_pmf)\n",
    "        \n",
    "    return dit.shannon.mutual_information(XY_jdist,[0],[1])"
   ]
  },
  {
   "cell_type": "code",
   "execution_count": null,
   "metadata": {},
   "outputs": [],
   "source": [
    "z_dx_I = [mutual_information(z_enc_scaled[i],dxs.astype(int)+14) for i in np.arange(25)]\n",
    "l2_dx_I = [mutual_information(l2_enc_scaled[i],dxs.astype(int)+14) for i in np.arange(2000)]"
   ]
  },
  {
   "cell_type": "code",
   "execution_count": null,
   "metadata": {},
   "outputs": [],
   "source": [
    "z_dy_I = [mutual_information(z_enc_scaled[i],dys.astype(int)+14) for i in np.arange(25)]\n",
    "l2_dy_I = [mutual_information(l2_enc_scaled[i],dys.astype(int)+14) for i in np.arange(2000)]"
   ]
  },
  {
   "cell_type": "code",
   "execution_count": null,
   "metadata": {},
   "outputs": [],
   "source": [
    "z_class_I = [mutual_information(z_enc_scaled[i],DL.y_test) for i in np.arange(25)]\n",
    "l2_class_I = [mutual_information(l2_enc_scaled[i],DL.y_test) for i in np.arange(2000)]"
   ]
  },
  {
   "cell_type": "code",
   "execution_count": null,
   "metadata": {},
   "outputs": [],
   "source": [
    "z_I_df = pd.DataFrame.from_records({'class':z_class_I,'dy':z_dy_I,'dx':z_dx_I})\n",
    "z_I_df['class'] = z_I_df['class'].values.round(decimals=1)"
   ]
  },
  {
   "cell_type": "code",
   "execution_count": null,
   "metadata": {},
   "outputs": [],
   "source": [
    "l2_I_df = pd.DataFrame.from_records({\n",
    "    'class':l2_class_I,\n",
    "    'dy':l2_dy_I,\n",
    "    'dx':l2_dx_I})\n",
    "l2_I_df['class'] = l2_I_df['class'].values.round(decimals=1)"
   ]
  },
  {
   "cell_type": "code",
   "execution_count": null,
   "metadata": {},
   "outputs": [],
   "source": [
    "l2_I_df.head()"
   ]
  },
  {
   "cell_type": "code",
   "execution_count": null,
   "metadata": {},
   "outputs": [],
   "source": [
    "plt.hist(l2_I_df.dx)"
   ]
  },
  {
   "cell_type": "code",
   "execution_count": null,
   "metadata": {},
   "outputs": [],
   "source": [
    "plt.hist(z_I_df.dx)"
   ]
  },
  {
   "cell_type": "code",
   "execution_count": null,
   "metadata": {},
   "outputs": [],
   "source": [
    "config.translation_amt = translation_amt\n",
    "config.translation_amt"
   ]
  },
  {
   "cell_type": "code",
   "execution_count": null,
   "metadata": {},
   "outputs": [],
   "source": [
    "dir_path = '../data/xcov_importance/dist_{}/'.format(translation_amt)\n",
    "\n",
    "z_I_df.to_pickle('../data/xcov_importance/dist_{}/z_mutual_info.pk'.format(translation_amt))\n",
    "np.save('../data/xcov_importance/dist_{}/dxs'.format(translation_amt), DL.dx[1]-14)\n",
    "np.save('../data/xcov_importance/dist_{}/dys'.format(translation_amt), DL.dy[1]-14)\n",
    "np.save('../data/xcov_importance/dist_{}/z_enc'.format(translation_amt), z_enc)\n",
    "\n",
    "hist_df.to_pickle(os.path.join(dir_path,'training_hist.df'))\n",
    "\n",
    "with open(os.path.join(dir_path,'config.json'), 'w') as fp:\n",
    "        json.dump(vars(config), fp)"
   ]
  },
  {
   "cell_type": "code",
   "execution_count": null,
   "metadata": {},
   "outputs": [],
   "source": []
  },
  {
   "cell_type": "code",
   "execution_count": null,
   "metadata": {},
   "outputs": [],
   "source": [
    "def filter_by_weight(wts,thresh=0.01):\n",
    "    idxs = np.abs(wts)>thresh\n",
    "    return idxs"
   ]
  },
  {
   "cell_type": "code",
   "execution_count": null,
   "metadata": {},
   "outputs": [],
   "source": [
    "dx_max = np.argmax(z_I_df.dx.values)\n",
    "dy_max = np.argmax(z_I_df.dy.values)"
   ]
  },
  {
   "cell_type": "code",
   "execution_count": null,
   "metadata": {},
   "outputs": [],
   "source": []
  },
  {
   "cell_type": "code",
   "execution_count": null,
   "metadata": {},
   "outputs": [],
   "source": [
    "t = 0.05\n",
    "dx_filt = filter_by_weight(z_w_k[:,dx_max],thresh=t)\n",
    "dy_filt = filter_by_weight(z_w_k[:,dy_max],thresh=t)\n",
    "union = np.union1d(np.where(dx_filt==True),np.where(dy_filt==True))\n",
    "intersect = np.intersect1d(np.where(dx_filt==True),np.where(dy_filt==True))\n",
    "# filt = np.array([False]*2000)\n",
    "# filt[union] = True\n",
    "\n",
    "sns.set_context('talk')\n",
    "fig,axs = plt.subplots(1,2,figsize=(6*2,5))\n",
    "\n",
    "filt = dy_filt\n",
    "print('num: ',len(union))\n",
    "print('intersect_frac: ',float(len(intersect))/len(union))\n",
    "print('mean dx_I: ',l2_I_df.dx[filt].mean())\n",
    "print('mean dy_I: ',l2_I_df.dy[filt].mean())\n",
    "points = axs[0].scatter(x=l2_I_df['dx'],y=l2_I_df['dy'],\n",
    "                        c=l2_I_df['class'],cmap='viridis',vmin=0,vmax=0.4,s=z_I_df['class']*100\n",
    "                       )\n",
    "plt.colorbar(points)\n",
    "points = axs[1].scatter(x=z_I_df['dx'],y=z_I_df['dy'],c=z_I_df['class'],cmap='viridis',s=z_I_df['class']*100,vmin=0,vmax=0.4)\n",
    "# plt.colorbar(points)\n",
    "axs[0].set_ylim(0,0.9)\n",
    "axs[0].set_xlim(0,0.9)\n",
    "axs[1].set_ylim(0,0.9)\n",
    "axs[1].set_xlim(0,0.9)\n"
   ]
  },
  {
   "cell_type": "code",
   "execution_count": null,
   "metadata": {},
   "outputs": [],
   "source": [
    "fig,ax = plt.subplots(1,1,figsize=(5,5))\n",
    "ax.scatter(z_dx_I,z_dy_I)\n",
    "# ax.set_ylim(0,0.8)\n",
    "# ax.set_xlim(0,0.8)"
   ]
  },
  {
   "cell_type": "code",
   "execution_count": null,
   "metadata": {},
   "outputs": [],
   "source": []
  },
  {
   "cell_type": "code",
   "execution_count": null,
   "metadata": {},
   "outputs": [],
   "source": [
    "plt.scatter(np.arange(25),sorted(z_class_I,reverse=True))\n",
    "# plt.scatter(np.arange(25),z_dx_I)\n",
    "# plt.scatter(np.arange(25),z_dy_I)"
   ]
  },
  {
   "cell_type": "code",
   "execution_count": null,
   "metadata": {},
   "outputs": [],
   "source": [
    "from src.metrics import var_expl,norm_var_expl\n",
    "from collections import Counter\n",
    "\n",
    "dtheta = DL.dtheta[1]\n",
    "fve_dx = norm_var_expl(features=z_enc,cond=dxs,bins=21)\n",
    "fve_dy = norm_var_expl(features=z_enc,cond=dys,bins=21)\n",
    "fve_class = norm_var_expl(features=z_enc, cond=DL.y_test, bins=21)\n",
    "# fve_dt = norm_var_expl(features=z_enc,cond=dtheta,bins=21)"
   ]
  },
  {
   "cell_type": "code",
   "execution_count": null,
   "metadata": {},
   "outputs": [],
   "source": [
    "# fve_dx_norm = (dxs.var()-fve_dx)/dxs.var()\n",
    "# fve_dy_norm = (dys.var()-fve_dy)/dys.var()\n",
    "# fve_dth_norm = (dtheta.var()-fve_dt)/dtheta.var()\n",
    "fve_dx_norm = fve_dx\n",
    "fve_dy_norm = fve_dy"
   ]
  },
  {
   "cell_type": "code",
   "execution_count": null,
   "metadata": {},
   "outputs": [],
   "source": [
    "import seaborn as sns\n",
    "sns.set_context('talk')"
   ]
  },
  {
   "cell_type": "code",
   "execution_count": null,
   "metadata": {},
   "outputs": [],
   "source": [
    "fve_dx_norm.shape\n",
    "# np.save(os.path.join(config.model_dir,'fve_dx_norm'),fve_dx_norm)"
   ]
  },
  {
   "cell_type": "code",
   "execution_count": null,
   "metadata": {},
   "outputs": [],
   "source": [
    "fig,ax = plt.subplots(1,1,figsize=(5,5))\n",
    "plt.scatter(fve_dx_norm.mean(axis=0),fve_dy_norm.mean(axis=0))\n",
    "plt.xlabel('fve_dx')\n",
    "plt.ylabel('fve_dy')\n",
    "plt.tight_layout()\n",
    "# plt.savefig(os.path.join(config.model_dir,'fve_dx.png'))\n",
    "# plt.ylim(-0.125,0.25)\n",
    "xdim = np.argmax(fve_dx_norm.mean(axis=0))"
   ]
  },
  {
   "cell_type": "code",
   "execution_count": null,
   "metadata": {},
   "outputs": [],
   "source": [
    "fve_dy_norm.mean(axis=0)\n",
    "# np.save(os.path.join(config.model_dir,'fve_dy_norm'),fve_dy_norm)"
   ]
  },
  {
   "cell_type": "code",
   "execution_count": null,
   "metadata": {},
   "outputs": [],
   "source": [
    "plt.scatter(np.arange(config.z_dim),fve_dy_norm.mean(axis=0))\n",
    "plt.xlabel('Z_n')\n",
    "plt.ylabel('fve_dy')\n",
    "plt.tight_layout()\n",
    "# plt.savefig(os.path.join(config.model_dir,'fve_dy.png'))\n",
    "# plt.ylim(-0.125,0.25)\n",
    "ydim = np.argmax(fve_dy_norm.mean(axis=0))"
   ]
  },
  {
   "cell_type": "code",
   "execution_count": null,
   "metadata": {},
   "outputs": [],
   "source": [
    "plt.scatter(np.arange(config.z_dim),fve_class.mean(axis=0))\n",
    "plt.xlabel('Z_n')\n",
    "plt.ylabel('fve_class')\n",
    "# plt.ylim(0.0,0.5)\n",
    "np.argmax(fve_class.mean(axis=0))"
   ]
  },
  {
   "cell_type": "code",
   "execution_count": null,
   "metadata": {},
   "outputs": [],
   "source": [
    "from src.plot import Z_color_scatter\n",
    "Z_color_scatter(z_enc,[xdim,ydim],dxs)"
   ]
  },
  {
   "cell_type": "code",
   "execution_count": null,
   "metadata": {},
   "outputs": [],
   "source": [
    "Z_color_scatter(z_enc,[xdim,ydim],dys)"
   ]
  },
  {
   "cell_type": "code",
   "execution_count": null,
   "metadata": {},
   "outputs": [],
   "source": [
    "Z_color_scatter(z_enc,[7,18],dtheta)"
   ]
  },
  {
   "cell_type": "code",
   "execution_count": null,
   "metadata": {},
   "outputs": [],
   "source": [
    "from plt."
   ]
  },
  {
   "cell_type": "code",
   "execution_count": null,
   "metadata": {},
   "outputs": [],
   "source": []
  }
 ],
 "metadata": {
  "kernelspec": {
   "display_name": "Py3-GPU (Python3.5.2)",
   "language": "python",
   "name": "py3-gpu"
  },
  "language_info": {
   "codemirror_mode": {
    "name": "ipython",
    "version": 3
   },
   "file_extension": ".py",
   "mimetype": "text/x-python",
   "name": "python",
   "nbconvert_exporter": "python",
   "pygments_lexer": "ipython3",
   "version": "3.5.2"
  }
 },
 "nbformat": 4,
 "nbformat_minor": 2
}
