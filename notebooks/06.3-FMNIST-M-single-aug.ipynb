{
 "cells": [
  {
   "cell_type": "code",
   "execution_count": 1,
   "metadata": {},
   "outputs": [
    {
     "name": "stderr",
     "output_type": "stream",
     "text": [
      "Using TensorFlow backend.\n"
     ]
    }
   ],
   "source": [
    "import numpy as np\n",
    "import neptune\n",
    "import imageio\n",
    "import scipy as scipy\n",
    "import pandas as pd\n",
    "import matplotlib.pyplot as plt\n",
    "from PIL import Image\n",
    "import os\n",
    "\n",
    "import seaborn as sns\n",
    "from sklearn.preprocessing import MinMaxScaler\n",
    "\n",
    "from src.data_loader import Shifted_Data_Loader\n",
    "from src.data_generator import ShiftedDataBatcher\n",
    "\n",
    "from src.plot import orig_vs_transformed as plot_ovt\n",
    "from src.data_loader import _shift_image\n",
    "from src.test_models.drduplex import DRDuplex"
   ]
  },
  {
   "cell_type": "code",
   "execution_count": 2,
   "metadata": {},
   "outputs": [],
   "source": [
    "exp_date = '2019-09-26'\n",
    "proj_root = '/home/elijahc/projects/vae'\n",
    "models_root = os.path.join(proj_root,'models',exp_date)"
   ]
  },
  {
   "cell_type": "code",
   "execution_count": 3,
   "metadata": {},
   "outputs": [],
   "source": [
    "PROPS = {\n",
    "    'dataset':'fashion_mnist',\n",
    "    'encoder_arch': 'dense',\n",
    "    'generator_arch': 'resnet',\n",
    "    'augmentation': 'single',\n",
    "}\n",
    "PARAMS = {}\n",
    "\n",
    "train_conf = {\n",
    "    'n_epochs': 54000,\n",
    "    'batch_sz':512,\n",
    "}\n",
    "\n",
    "data_conf = {\n",
    "    'bg': 'natural',\n",
    "    'im_translation':0.75,\n",
    "    'im_rotation':None,\n",
    "    'bg_contrast': 0.3,\n",
    "}\n",
    "\n",
    "model_conf = {\n",
    "    'xent_weight': 15,\n",
    "    'recon_weight': 1,\n",
    "}\n",
    "\n",
    "for conf in [train_conf,data_conf,model_conf]:\n",
    "    PARAMS.update(conf)"
   ]
  },
  {
   "cell_type": "code",
   "execution_count": 4,
   "metadata": {},
   "outputs": [
    {
     "data": {
      "text/plain": [
       "{'batch_sz': 512,\n",
       " 'bg': 'natural',\n",
       " 'bg_contrast': 0.3,\n",
       " 'im_rotation': None,\n",
       " 'im_translation': 0.75,\n",
       " 'n_epochs': 54000,\n",
       " 'recon_weight': 1,\n",
       " 'xent_weight': 15}"
      ]
     },
     "execution_count": 4,
     "metadata": {},
     "output_type": "execute_result"
    }
   ],
   "source": [
    "PARAMS"
   ]
  },
  {
   "cell_type": "code",
   "execution_count": 5,
   "metadata": {},
   "outputs": [
    {
     "name": "stdout",
     "output_type": "stream",
     "text": [
      "input_shape:  (56, 56, 1)\n",
      "dataset:  fashion_mnist\n",
      "background:  natural\n",
      "blend mode:  None\n",
      "scale:  2\n",
      "tx_max:  0.75\n",
      "rot_max:  None\n",
      "contrast_level:  1\n",
      "noise_mode:  None\n",
      "building background images...\n"
     ]
    },
    {
     "name": "stderr",
     "output_type": "stream",
     "text": [
      "loading background: 100%|██████████| 60000/60000 [00:01<00:00, 30942.38it/s]\n",
      "loading background: 100%|██████████| 10000/10000 [00:00<00:00, 28364.02it/s]\n",
      "train images: 100%|██████████| 60000/60000 [00:01<00:00, 36501.03it/s]\n",
      "test_images: 100%|██████████| 10000/10000 [00:00<00:00, 34959.03it/s]\n"
     ]
    }
   ],
   "source": [
    "oversample_factor=1\n",
    "DL = Shifted_Data_Loader(dataset=PROPS['dataset'],flatten=False,num_train=60000*oversample_factor,\n",
    "                         translation=PARAMS['im_translation'],\n",
    "                         rotation=PARAMS['im_rotation'],\n",
    "#                          scale_mean0 = True,\n",
    "#                          contrast_level=PARAMS['bg_contrast'],\n",
    "                         bg=PARAMS['bg'],\n",
    "                         blend=None,\n",
    "                        )"
   ]
  },
  {
   "cell_type": "code",
   "execution_count": 6,
   "metadata": {},
   "outputs": [],
   "source": [
    "DB = ShiftedDataBatcher(dataset=PROPS['dataset'],\n",
    "                         translation=PARAMS['im_translation'],\n",
    "                         rotation=PARAMS['im_rotation'],\n",
    "#                          contrast_level=PARAMS['bg_contrast'],\n",
    "                         bg=PARAMS['bg'],\n",
    "                         blend=None,\n",
    "                        )"
   ]
  },
  {
   "cell_type": "code",
   "execution_count": 7,
   "metadata": {},
   "outputs": [
    {
     "data": {
      "image/png": "[encoded data removed]",
      "text/plain": [
       "<Figure size 432x288 with 2 Axes>"
      ]
     },
     "metadata": {
      "needs_background": "light"
     },
     "output_type": "display_data"
    }
   ],
   "source": [
    "pt,idx = plot_ovt(DL,cmap='gray')"
   ]
  },
  {
   "cell_type": "code",
   "execution_count": 8,
   "metadata": {},
   "outputs": [],
   "source": [
    "def scale_mean0(X):\n",
    "    scaler = MinMaxScaler(feature_range=(-1,1),copy=False)\n",
    "    n,x,y,c = X.shape\n",
    "    scaler.fit_transform(X.reshape(n,x*y*c))\n",
    "    X = X.reshape(n,x,y,c)"
   ]
  },
  {
   "cell_type": "code",
   "execution_count": 9,
   "metadata": {},
   "outputs": [
    {
     "name": "stdout",
     "output_type": "stream",
     "text": [
      "0.0907843142747879 0.950000011920929\n",
      "-1.0000000000000002 1.0000000000000004\n",
      "0.09162596133361142 0.950000011920929\n",
      "-1.0000000000000002 1.0000000000000004\n",
      "0.0 1.0\n",
      "-1.0 1.0\n",
      "0.0 1.0\n",
      "-1.0 1.0\n"
     ]
    }
   ],
   "source": [
    "for X in [DL.sx_train,DL.sx_test,DL.fg_train,DL.fg_test]:\n",
    "    print(X.min(),X.max())\n",
    "    scale_mean0(X)\n",
    "    print(X.min(),X.max())"
   ]
  },
  {
   "cell_type": "code",
   "execution_count": 12,
   "metadata": {},
   "outputs": [
    {
     "name": "stdout",
     "output_type": "stream",
     "text": [
      "https://ui.neptune.ml/elijahc/DuplexAE/e/DPX-24\n"
     ]
    },
    {
     "data": {
      "text/plain": [
       "Experiment(DPX-24)"
      ]
     },
     "execution_count": 12,
     "metadata": {},
     "output_type": "execute_result"
    }
   ],
   "source": [
    "neptune.init('elijahc/DuplexAE')\n",
    "src_files = ['./src/data_loader.py','./src/test_models/drduplex.py']\n",
    "exp = neptune.create_experiment(name='static_aug_w_recon',properties=PROPS,params=PARAMS,upload_source_files=src_files)\n",
    "exp_dir = os.path.join('models',exp_date,exp.id) \n",
    "\n",
    "os.mkdir(os.path.join(proj_root,exp_dir))\n",
    "os.mkdir(os.path.join(proj_root,exp_dir,'recons'))\n",
    "os.mkdir(os.path.join(proj_root,exp_dir,'test_ims'))\n",
    "\n",
    "exp.set_property('dir',exp_dir)"
   ]
  },
  {
   "cell_type": "code",
   "execution_count": 13,
   "metadata": {},
   "outputs": [],
   "source": [
    "w_xent = PARAMS['xent_weight']\n",
    "w_recon = PARAMS['recon_weight']"
   ]
  },
  {
   "cell_type": "code",
   "execution_count": 14,
   "metadata": {},
   "outputs": [],
   "source": [
    "mod = DRDuplex(img_shape=(56,56,1),\n",
    "               num_classes=DL.num_classes,\n",
    "               recon=w_recon,\n",
    "               xent=w_xent,n_residual_blocks=4,\n",
    "#                kernel_regularization=1e-5,\n",
    "              )"
   ]
  },
  {
   "cell_type": "code",
   "execution_count": 15,
   "metadata": {},
   "outputs": [
    {
     "data": {
      "text/plain": [
       "['loss',\n",
       " 'Generator_loss',\n",
       " 'Classifier_loss',\n",
       " 'Generator_mean_squared_error',\n",
       " 'Classifier_acc']"
      ]
     },
     "execution_count": 15,
     "metadata": {},
     "output_type": "execute_result"
    }
   ],
   "source": [
    "mod.combined.metrics_names"
   ]
  },
  {
   "cell_type": "code",
   "execution_count": 16,
   "metadata": {},
   "outputs": [],
   "source": [
    "val_pct = 0.05\n",
    "val_idxs = np.random.choice(np.arange(10000),int(val_pct*60000),replace=False)\n",
    "validation_set = (DL.sx_test[val_idxs],\n",
    "                  {'Classifier':DL.y_test_oh[val_idxs],\n",
    "                   'Generator':DL.fg_test[val_idxs]}\n",
    "                 )"
   ]
  },
  {
   "cell_type": "code",
   "execution_count": 17,
   "metadata": {},
   "outputs": [],
   "source": [
    "i = 0\n",
    "epoch_sz = int(DL.num_train/512)\n",
    "pan_ims = []\n",
    "pan_y = []\n",
    "\n",
    "# hist_labels = mod.combined.metrics_names\n",
    "hist_labels = ['loss','G_loss','C_loss','G_mse','acc']\n",
    "\n",
    "train_hist = []\n",
    "test_hist = []\n",
    "\n",
    "# val_X,val_X_fg,val_y = DB.gen_batch(DB.x_te,DB.y_test_oh,batch_size=1000,bg='natural')\n"
   ]
  },
  {
   "cell_type": "code",
   "execution_count": 18,
   "metadata": {},
   "outputs": [
    {
     "name": "stdout",
     "output_type": "stream",
     "text": [
      "(3, 28, 28)\n"
     ]
    }
   ],
   "source": [
    "num_pan = 3\n",
    "not_unique = True\n",
    "while not_unique:\n",
    "    pan_idx = np.random.choice(np.arange(len(DL.sx_test)),size=num_pan,replace=False)\n",
    "    if len(np.unique(DL.y_test[pan_idx])) == num_pan:\n",
    "        not_unique = False\n",
    "    \n",
    "px_ = DL.x_test[pan_idx]\n",
    "print(px_.shape)\n",
    "# tX, tX_fg,ty = next(test_generator)"
   ]
  },
  {
   "cell_type": "code",
   "execution_count": 19,
   "metadata": {},
   "outputs": [],
   "source": [
    "x_span = DB.gen_pan_deltas(step=2)\n",
    "pX = np.stack([np.expand_dims(_shift_image(X=px_,dx=dx,dy=dy),-1) for dx,dy in x_span])\n",
    "\n",
    "scaler = MinMaxScaler(feature_range=(-1,1))\n",
    "n,r,x,y,c = pX.shape\n",
    "\n",
    "pX = scaler.fit_transform(pX.reshape(n,x*y*c*r)).reshape(n,r,x,y,c)"
   ]
  },
  {
   "cell_type": "code",
   "execution_count": 20,
   "metadata": {},
   "outputs": [
    {
     "data": {
      "image/png": "[encoded data removed]",
      "text/plain": [
       "<Figure size 432x288 with 3 Axes>"
      ]
     },
     "metadata": {
      "needs_background": "light"
     },
     "output_type": "display_data"
    }
   ],
   "source": [
    "fig,axs = plt.subplots(1,num_pan)\n",
    "for i,ax in enumerate(axs.ravel()):\n",
    "    ax.imshow(pX[27,i].reshape(56,56),cmap='gray')\n",
    "    ax.get_xaxis().set_visible(False)\n",
    "    ax.get_yaxis().set_visible(False)\n",
    "    \n",
    "plt.tight_layout()"
   ]
  },
  {
   "cell_type": "code",
   "execution_count": 21,
   "metadata": {},
   "outputs": [],
   "source": [
    "# import numpy as np\n",
    "# nj = 25\n",
    "# fig,axs = plt.subplots(1,nj,figsize=(2*nj,2))\n",
    "\n",
    "# for i in np.arange(nj):\n",
    "#     axs[i].imshow(pX[i+15].reshape(56,56))"
   ]
  },
  {
   "cell_type": "code",
   "execution_count": 22,
   "metadata": {},
   "outputs": [],
   "source": [
    "def flush_pan(pan_ims):\n",
    "    min_max = lambda xp: np.clip((xp+1)/2,0,1)\n",
    "    for idx,inp,G in pan_ims:\n",
    "        idx = str(idx).zfill(3)\n",
    "        \n",
    "#         inp_fn = 'input_{}.png'.format(idx)\n",
    "#         inp_fp = os.path.join(proj_root,exp_dir,'test_ims',inp_fn)\n",
    "        \n",
    "        G_fn = 'G_{}.png'.format(idx)\n",
    "        G_fp = os.path.join(proj_root,exp_dir,'recons',G_fn)\n",
    "    \n",
    "        fig,axs = plt.subplots(2,num_pan)\n",
    "        for k in np.arange(num_pan):\n",
    "            axs[0,k].imshow(inp[k],cmap='gray')\n",
    "            axs[1,k].imshow(G[k],cmap='gray')\n",
    "\n",
    "        for ax in axs.ravel():\n",
    "            ax.get_xaxis().set_visible(False)\n",
    "            ax.get_yaxis().set_visible(False)\n",
    "\n",
    "        plt.tight_layout()     \n",
    "        \n",
    "        fig.savefig(G_fp)\n",
    "        plt.close(fig)"
   ]
  },
  {
   "cell_type": "code",
   "execution_count": 23,
   "metadata": {},
   "outputs": [],
   "source": [
    "recon_dir = os.path.join(proj_root,exp_dir,'recons')\n",
    "input_dir = os.path.join(proj_root,exp_dir,'test_ims')"
   ]
  },
  {
   "cell_type": "code",
   "execution_count": 24,
   "metadata": {},
   "outputs": [],
   "source": [
    "def make_gif(recon_dir,input_dir,fps=8,loop=0):\n",
    "    G_ims = []\n",
    "    for G in sorted(os.listdir(recon_dir)):\n",
    "        if G.endswith('.png'):\n",
    "            G_fp = os.path.join(recon_dir, G)\n",
    "            G_ims.append(imageio.imread(G_fp))\n",
    "        \n",
    "#     imageio.mimsave(os.path.join(proj_root,exp_dir,'inputs_video.gif'), input_ims,fps=fps,loop=loop)\n",
    "    imageio.mimsave(os.path.join(proj_root,exp_dir,'G_video.gif'), G_ims, fps=fps,loop=loop)"
   ]
  },
  {
   "cell_type": "code",
   "execution_count": 25,
   "metadata": {},
   "outputs": [],
   "source": [
    "def save_model(mod,mod_dir,spec_fn='model.json'):\n",
    "    model_json = mod.to_json()\n",
    "    with open(os.path.join(mod_dir,spec_fn), \"w\") as json_file:\n",
    "        json_file.write(model_json)\n",
    "        \n",
    "def save_weights(mod,mod_dir,weights_fn='weights.h5'):\n",
    "        mod.save_weights(os.path.join(mod_dir,weights_fn))\n",
    "\n",
    "def save_model_and_weights(mod,mod_dir,spec_fn='model.json',weights_fn='weights.h5'):\n",
    "    save_model(mod,mod_dir,spec_fn)\n",
    "    save_weights(mod,mod_dir,weights_fn)"
   ]
  },
  {
   "cell_type": "code",
   "execution_count": 26,
   "metadata": {},
   "outputs": [],
   "source": [
    "from keras.callbacks import Callback\n",
    "\n",
    "class ReconCallback(Callback):\n",
    "    def __init__(self,pX,pan_ims,pan_y):\n",
    "        self.pX = pX\n",
    "        self.pan_ims = pan_ims\n",
    "        self.pan_y = pan_y\n",
    "        self.recon_dir = recon_dir\n",
    "        self.input_dir = input_dir\n",
    "\n",
    "    def on_epoch_end(self,epoch,logs={}):\n",
    "        pidx = int(epoch%len(self.pX))\n",
    "        im = pX[pidx]\n",
    "        p_recon,p_class = self.model.predict_on_batch(im)\n",
    "        \n",
    "        pan_im = (int(epoch), np.squeeze(im), np.squeeze(p_recon))\n",
    "        self.pan_ims.append(pan_im)\n",
    "        self.pan_y.append(p_class)\n",
    "        \n",
    "        \n",
    "        if len(self.pan_ims)>int(len(pX)/3):\n",
    "            print('writing_image_buffer...')\n",
    "            flush_pan(self.pan_ims)\n",
    "            self.pan_ims = []\n",
    "                \n",
    "            print('recompiling video...')\n",
    "            make_gif(self.recon_dir,self.input_dir)\n",
    "            \n",
    "class NeptuneMonitor(Callback):        \n",
    "    def on_epoch_end(self, epoch, logs={}):\n",
    "#         innovative_metric = logs['acc'] - 2 * logs['loss']\n",
    "        neptune.send_metric('loss', logs['loss'])\n",
    "        neptune.send_metric('val_loss', logs['val_loss'])\n",
    "        neptune.send_metric('C_loss', logs['Classifier_loss'])\n",
    "        neptune.send_metric('val_C_loss', logs['val_Classifier_loss'])\n",
    "        neptune.send_metric('G_loss', logs['Generator_loss'])\n",
    "        neptune.send_metric('acc', logs['Classifier_acc'])\n",
    "        neptune.send_metric('val_acc', logs['val_Classifier_acc'])\n",
    "        neptune.send_metric('batch',int(epoch*117))\n",
    "        \n",
    "            \n",
    "class ModelCheckpointer(Callback):\n",
    "    def __init__(self, save_dir, monitor='val_loss'):\n",
    "        self.metric = monitor\n",
    "        self.save_dir = save_dir\n",
    "        self.best_val = np.inf\n",
    "    \n",
    "    def on_train_begin(self,logs={}):\n",
    "        print('monitoring {} to checkpoint model'.format(self.metric))\n",
    "        print('saving model spec and initial weights...')\n",
    "        save_model(self.model,self.save_dir)\n",
    "        save_weights(self.model,self.save_dir,'weights.h5')\n",
    "        \n",
    "    def on_train_end(self,logs={}):\n",
    "        save_weights(self.model,self.save_dir,'final_weights.h5')\n",
    "    \n",
    "    def on_epoch_end(self, epoch, logs={}):\n",
    "        if epoch > 5 and logs[self.metric] < self.best_val:\n",
    "            self.best_val = logs[self.metric]\n",
    "            save_weights(self.model,self.save_dir,'weights.h5')"
   ]
  },
  {
   "cell_type": "code",
   "execution_count": 27,
   "metadata": {},
   "outputs": [],
   "source": [
    "neptune_monitor = NeptuneMonitor()\n",
    "checkpointer = ModelCheckpointer(save_dir=os.path.join(proj_root,exp_dir),\n",
    "                                 monitor='val_Classifier_loss',\n",
    "                                )\n",
    "reconcb = ReconCallback(pX, pan_ims, pan_y)\n",
    "cbs = [neptune_monitor,checkpointer,reconcb]"
   ]
  },
  {
   "cell_type": "code",
   "execution_count": 28,
   "metadata": {},
   "outputs": [
    {
     "name": "stdout",
     "output_type": "stream",
     "text": [
      "monitoring val_Classifier_loss to checkpoint model\n",
      "saving model spec and initial weights...\n",
      "writing_image_buffer...\n",
      "recompiling video...\n",
      "writing_image_buffer...\n",
      "recompiling video...\n",
      "writing_image_buffer...\n",
      "recompiling video...\n",
      "writing_image_buffer...\n",
      "recompiling video...\n",
      "writing_image_buffer...\n",
      "recompiling video...\n",
      "writing_image_buffer...\n",
      "recompiling video...\n",
      "writing_image_buffer...\n",
      "recompiling video...\n"
     ]
    },
    {
     "ename": "KeyboardInterrupt",
     "evalue": "",
     "output_type": "error",
     "traceback": [
      "\u001b[0;31m---------------------------------------------------------------------------\u001b[0m",
      "\u001b[0;31mKeyboardInterrupt\u001b[0m                         Traceback (most recent call last)",
      "\u001b[0;32m<ipython-input-28-518365a9d9c5>\u001b[0m in \u001b[0;36m<module>\u001b[0;34m()\u001b[0m\n\u001b[1;32m      1\u001b[0m mod.combined.fit(DL.sx_train,y={'Classifier':DL.y_train_oh,'Generator':DL.fg_train},\n\u001b[1;32m      2\u001b[0m                  \u001b[0mbatch_size\u001b[0m\u001b[0;34m=\u001b[0m\u001b[0mPARAMS\u001b[0m\u001b[0;34m[\u001b[0m\u001b[0;34m'batch_sz'\u001b[0m\u001b[0;34m]\u001b[0m\u001b[0;34m,\u001b[0m\u001b[0mvalidation_data\u001b[0m\u001b[0;34m=\u001b[0m\u001b[0mvalidation_set\u001b[0m\u001b[0;34m,\u001b[0m\u001b[0mcallbacks\u001b[0m\u001b[0;34m=\u001b[0m\u001b[0mcbs\u001b[0m\u001b[0;34m,\u001b[0m\u001b[0mepochs\u001b[0m\u001b[0;34m=\u001b[0m\u001b[0mint\u001b[0m\u001b[0;34m(\u001b[0m\u001b[0;36m54000\u001b[0m\u001b[0;34m/\u001b[0m\u001b[0;36m117\u001b[0m\u001b[0;34m)\u001b[0m\u001b[0;34m,\u001b[0m\u001b[0;34m\u001b[0m\u001b[0m\n\u001b[0;32m----> 3\u001b[0;31m                  \u001b[0mverbose\u001b[0m\u001b[0;34m=\u001b[0m\u001b[0;36m0\u001b[0m\u001b[0;34m\u001b[0m\u001b[0m\n\u001b[0m\u001b[1;32m      4\u001b[0m                 )\n",
      "\u001b[0;32m~/.pyenv/versions/jupyterlab-gpu/lib/python3.5/site-packages/keras/engine/training.py\u001b[0m in \u001b[0;36mfit\u001b[0;34m(self, x, y, batch_size, epochs, verbose, callbacks, validation_split, validation_data, shuffle, class_weight, sample_weight, initial_epoch, steps_per_epoch, validation_steps, **kwargs)\u001b[0m\n\u001b[1;32m   1037\u001b[0m                                         \u001b[0minitial_epoch\u001b[0m\u001b[0;34m=\u001b[0m\u001b[0minitial_epoch\u001b[0m\u001b[0;34m,\u001b[0m\u001b[0;34m\u001b[0m\u001b[0m\n\u001b[1;32m   1038\u001b[0m                                         \u001b[0msteps_per_epoch\u001b[0m\u001b[0;34m=\u001b[0m\u001b[0msteps_per_epoch\u001b[0m\u001b[0;34m,\u001b[0m\u001b[0;34m\u001b[0m\u001b[0m\n\u001b[0;32m-> 1039\u001b[0;31m                                         validation_steps=validation_steps)\n\u001b[0m\u001b[1;32m   1040\u001b[0m \u001b[0;34m\u001b[0m\u001b[0m\n\u001b[1;32m   1041\u001b[0m     def evaluate(self, x=None, y=None,\n",
      "\u001b[0;32m~/.pyenv/versions/jupyterlab-gpu/lib/python3.5/site-packages/keras/engine/training_arrays.py\u001b[0m in \u001b[0;36mfit_loop\u001b[0;34m(model, f, ins, out_labels, batch_size, epochs, verbose, callbacks, val_f, val_ins, shuffle, callback_metrics, initial_epoch, steps_per_epoch, validation_steps)\u001b[0m\n\u001b[1;32m    197\u001b[0m                     \u001b[0mins_batch\u001b[0m\u001b[0;34m[\u001b[0m\u001b[0mi\u001b[0m\u001b[0;34m]\u001b[0m \u001b[0;34m=\u001b[0m \u001b[0mins_batch\u001b[0m\u001b[0;34m[\u001b[0m\u001b[0mi\u001b[0m\u001b[0;34m]\u001b[0m\u001b[0;34m.\u001b[0m\u001b[0mtoarray\u001b[0m\u001b[0;34m(\u001b[0m\u001b[0;34m)\u001b[0m\u001b[0;34m\u001b[0m\u001b[0m\n\u001b[1;32m    198\u001b[0m \u001b[0;34m\u001b[0m\u001b[0m\n\u001b[0;32m--> 199\u001b[0;31m                 \u001b[0mouts\u001b[0m \u001b[0;34m=\u001b[0m \u001b[0mf\u001b[0m\u001b[0;34m(\u001b[0m\u001b[0mins_batch\u001b[0m\u001b[0;34m)\u001b[0m\u001b[0;34m\u001b[0m\u001b[0m\n\u001b[0m\u001b[1;32m    200\u001b[0m                 \u001b[0mouts\u001b[0m \u001b[0;34m=\u001b[0m \u001b[0mto_list\u001b[0m\u001b[0;34m(\u001b[0m\u001b[0mouts\u001b[0m\u001b[0;34m)\u001b[0m\u001b[0;34m\u001b[0m\u001b[0m\n\u001b[1;32m    201\u001b[0m                 \u001b[0;32mfor\u001b[0m \u001b[0ml\u001b[0m\u001b[0;34m,\u001b[0m \u001b[0mo\u001b[0m \u001b[0;32min\u001b[0m \u001b[0mzip\u001b[0m\u001b[0;34m(\u001b[0m\u001b[0mout_labels\u001b[0m\u001b[0;34m,\u001b[0m \u001b[0mouts\u001b[0m\u001b[0;34m)\u001b[0m\u001b[0;34m:\u001b[0m\u001b[0;34m\u001b[0m\u001b[0m\n",
      "\u001b[0;32m~/.pyenv/versions/jupyterlab-gpu/lib/python3.5/site-packages/keras/backend/tensorflow_backend.py\u001b[0m in \u001b[0;36m__call__\u001b[0;34m(self, inputs)\u001b[0m\n\u001b[1;32m   2713\u001b[0m                 \u001b[0;32mreturn\u001b[0m \u001b[0mself\u001b[0m\u001b[0;34m.\u001b[0m\u001b[0m_legacy_call\u001b[0m\u001b[0;34m(\u001b[0m\u001b[0minputs\u001b[0m\u001b[0;34m)\u001b[0m\u001b[0;34m\u001b[0m\u001b[0m\n\u001b[1;32m   2714\u001b[0m \u001b[0;34m\u001b[0m\u001b[0m\n\u001b[0;32m-> 2715\u001b[0;31m             \u001b[0;32mreturn\u001b[0m \u001b[0mself\u001b[0m\u001b[0;34m.\u001b[0m\u001b[0m_call\u001b[0m\u001b[0;34m(\u001b[0m\u001b[0minputs\u001b[0m\u001b[0;34m)\u001b[0m\u001b[0;34m\u001b[0m\u001b[0m\n\u001b[0m\u001b[1;32m   2716\u001b[0m         \u001b[0;32melse\u001b[0m\u001b[0;34m:\u001b[0m\u001b[0;34m\u001b[0m\u001b[0m\n\u001b[1;32m   2717\u001b[0m             \u001b[0;32mif\u001b[0m \u001b[0mpy_any\u001b[0m\u001b[0;34m(\u001b[0m\u001b[0mis_tensor\u001b[0m\u001b[0;34m(\u001b[0m\u001b[0mx\u001b[0m\u001b[0;34m)\u001b[0m \u001b[0;32mfor\u001b[0m \u001b[0mx\u001b[0m \u001b[0;32min\u001b[0m \u001b[0minputs\u001b[0m\u001b[0;34m)\u001b[0m\u001b[0;34m:\u001b[0m\u001b[0;34m\u001b[0m\u001b[0m\n",
      "\u001b[0;32m~/.pyenv/versions/jupyterlab-gpu/lib/python3.5/site-packages/keras/backend/tensorflow_backend.py\u001b[0m in \u001b[0;36m_call\u001b[0;34m(self, inputs)\u001b[0m\n\u001b[1;32m   2673\u001b[0m             \u001b[0mfetched\u001b[0m \u001b[0;34m=\u001b[0m \u001b[0mself\u001b[0m\u001b[0;34m.\u001b[0m\u001b[0m_callable_fn\u001b[0m\u001b[0;34m(\u001b[0m\u001b[0;34m*\u001b[0m\u001b[0marray_vals\u001b[0m\u001b[0;34m,\u001b[0m \u001b[0mrun_metadata\u001b[0m\u001b[0;34m=\u001b[0m\u001b[0mself\u001b[0m\u001b[0;34m.\u001b[0m\u001b[0mrun_metadata\u001b[0m\u001b[0;34m)\u001b[0m\u001b[0;34m\u001b[0m\u001b[0m\n\u001b[1;32m   2674\u001b[0m         \u001b[0;32melse\u001b[0m\u001b[0;34m:\u001b[0m\u001b[0;34m\u001b[0m\u001b[0m\n\u001b[0;32m-> 2675\u001b[0;31m             \u001b[0mfetched\u001b[0m \u001b[0;34m=\u001b[0m \u001b[0mself\u001b[0m\u001b[0;34m.\u001b[0m\u001b[0m_callable_fn\u001b[0m\u001b[0;34m(\u001b[0m\u001b[0;34m*\u001b[0m\u001b[0marray_vals\u001b[0m\u001b[0;34m)\u001b[0m\u001b[0;34m\u001b[0m\u001b[0m\n\u001b[0m\u001b[1;32m   2676\u001b[0m         \u001b[0;32mreturn\u001b[0m \u001b[0mfetched\u001b[0m\u001b[0;34m[\u001b[0m\u001b[0;34m:\u001b[0m\u001b[0mlen\u001b[0m\u001b[0;34m(\u001b[0m\u001b[0mself\u001b[0m\u001b[0;34m.\u001b[0m\u001b[0moutputs\u001b[0m\u001b[0;34m)\u001b[0m\u001b[0;34m]\u001b[0m\u001b[0;34m\u001b[0m\u001b[0m\n\u001b[1;32m   2677\u001b[0m \u001b[0;34m\u001b[0m\u001b[0m\n",
      "\u001b[0;32m~/.pyenv/versions/jupyterlab-gpu/lib/python3.5/site-packages/tensorflow/python/client/session.py\u001b[0m in \u001b[0;36m__call__\u001b[0;34m(self, *args)\u001b[0m\n\u001b[1;32m   1449\u001b[0m         \u001b[0;32mif\u001b[0m \u001b[0mself\u001b[0m\u001b[0;34m.\u001b[0m\u001b[0m_session\u001b[0m\u001b[0;34m.\u001b[0m\u001b[0m_created_with_new_api\u001b[0m\u001b[0;34m:\u001b[0m\u001b[0;34m\u001b[0m\u001b[0m\n\u001b[1;32m   1450\u001b[0m           return tf_session.TF_SessionRunCallable(\n\u001b[0;32m-> 1451\u001b[0;31m               self._session._session, self._handle, args, status, None)\n\u001b[0m\u001b[1;32m   1452\u001b[0m         \u001b[0;32melse\u001b[0m\u001b[0;34m:\u001b[0m\u001b[0;34m\u001b[0m\u001b[0m\n\u001b[1;32m   1453\u001b[0m           return tf_session.TF_DeprecatedSessionRunCallable(\n",
      "\u001b[0;31mKeyboardInterrupt\u001b[0m: "
     ]
    }
   ],
   "source": [
    "mod.combined.fit(DL.sx_train,y={'Classifier':DL.y_train_oh,'Generator':DL.fg_train},\n",
    "                 batch_size=PARAMS['batch_sz'],validation_data=validation_set,callbacks=cbs,epochs=int(54000/117),\n",
    "                 verbose=0\n",
    "                )"
   ]
  },
  {
   "cell_type": "code",
   "execution_count": 30,
   "metadata": {},
   "outputs": [],
   "source": [
    "flush_pan(reconcb.pan_ims)\n",
    "make_gif(recon_dir,input_dir)"
   ]
  },
  {
   "cell_type": "code",
   "execution_count": 31,
   "metadata": {},
   "outputs": [
    {
     "data": {
      "text/plain": [
       "'/home/elijahc/projects/vae/models/2019-09-26/DPX-24'"
      ]
     },
     "execution_count": 31,
     "metadata": {},
     "output_type": "execute_result"
    }
   ],
   "source": [
    "mod_dir = os.path.join(proj_root,exp_dir)\n",
    "mod_dir"
   ]
  },
  {
   "cell_type": "code",
   "execution_count": 32,
   "metadata": {},
   "outputs": [],
   "source": [
    "save_weights(mod.combined,mod_dir,'final_weights.h5')"
   ]
  },
  {
   "cell_type": "code",
   "execution_count": 33,
   "metadata": {},
   "outputs": [],
   "source": [
    "exp.stop()"
   ]
  },
  {
   "cell_type": "code",
   "execution_count": 34,
   "metadata": {},
   "outputs": [],
   "source": [
    "train_hist = mod.combined.history.history"
   ]
  },
  {
   "cell_type": "code",
   "execution_count": 35,
   "metadata": {},
   "outputs": [],
   "source": [
    "hist_tr = pd.DataFrame.from_records(train_hist)"
   ]
  },
  {
   "cell_type": "code",
   "execution_count": 36,
   "metadata": {},
   "outputs": [],
   "source": [
    "hist_labels = ['loss','G_loss','C_loss','G_mse','acc']"
   ]
  },
  {
   "cell_type": "code",
   "execution_count": 37,
   "metadata": {},
   "outputs": [],
   "source": [
    "col_map = {k:v for k,v in zip(mod.combined.metrics_names,hist_labels)}\n",
    "hist_tr = hist_tr.rename(columns=col_map)"
   ]
  },
  {
   "cell_type": "code",
   "execution_count": 38,
   "metadata": {},
   "outputs": [
    {
     "name": "stdout",
     "output_type": "stream",
     "text": [
      "/home/elijahc/projects/vae/models/2019-09-26/DPX-24\n"
     ]
    }
   ],
   "source": [
    "print(mod_dir)\n",
    "hist_tr.to_csv(os.path.join(mod_dir,'training_hist.csv'))"
   ]
  },
  {
   "cell_type": "code",
   "execution_count": null,
   "metadata": {},
   "outputs": [],
   "source": [
    "teX,_,_ = next(test_generator)"
   ]
  },
  {
   "cell_type": "code",
   "execution_count": null,
   "metadata": {},
   "outputs": [],
   "source": [
    "out = mod.combined.predict_on_batch(teX)"
   ]
  },
  {
   "cell_type": "code",
   "execution_count": null,
   "metadata": {},
   "outputs": [],
   "source": [
    "x_recon,y = out"
   ]
  },
  {
   "cell_type": "code",
   "execution_count": null,
   "metadata": {},
   "outputs": [],
   "source": [
    "choices = np.random.choice(np.arange(1024),size=5,replace=False)"
   ]
  },
  {
   "cell_type": "code",
   "execution_count": null,
   "metadata": {},
   "outputs": [],
   "source": [
    "fix,axes = plt.subplots(2,5,figsize=(2*5,2*2))\n",
    "\n",
    "for i,idx in enumerate(choices):\n",
    "    axs = axes[:,i]\n",
    "    axs[0].imshow(teX[idx].reshape(56,56),cmap='gray')\n",
    "    axs[1].imshow(x_recon[idx].reshape(56,56),cmap='gray')\n",
    "    \n",
    "for ax in axes.ravel():\n",
    "    ax.get_yaxis().set_visible(False)\n",
    "    ax.get_xaxis().set_visible(False)\n",
    "    \n",
    "plt.tight_layout()"
   ]
  },
  {
   "cell_type": "code",
   "execution_count": null,
   "metadata": {},
   "outputs": [],
   "source": [
    "fix.savefig(os.path.join(mod_dir,'inp_output_pairs.png'),dpi=300)"
   ]
  },
  {
   "cell_type": "code",
   "execution_count": null,
   "metadata": {},
   "outputs": [],
   "source": [
    "exp.send_artifact(os.path.join(mod_dir,'inp_output_pairs.png'))"
   ]
  },
  {
   "cell_type": "code",
   "execution_count": null,
   "metadata": {},
   "outputs": [],
   "source": [
    "x_tr = DL.sx_train\n",
    "x_tro = DL.x_train"
   ]
  },
  {
   "cell_type": "code",
   "execution_count": null,
   "metadata": {},
   "outputs": [],
   "source": [
    "x_tro.shape"
   ]
  },
  {
   "cell_type": "code",
   "execution_count": null,
   "metadata": {},
   "outputs": [],
   "source": [
    "im = np.squeeze(x_tr[5])\n",
    "plt.imshow(x_tro[5])"
   ]
  },
  {
   "cell_type": "code",
   "execution_count": null,
   "metadata": {},
   "outputs": [],
   "source": [
    "x_t_warp = np.zeros((28,28))\n",
    "xt_warp = scipy.ndimage.zoom(x_tro[5],(1.1,0.9))\n",
    "plt.imshow(xt_warp)"
   ]
  },
  {
   "cell_type": "code",
   "execution_count": null,
   "metadata": {},
   "outputs": [],
   "source": [
    "DL.meta_train"
   ]
  }
 ],
 "metadata": {
  "kernelspec": {
   "display_name": "Py3-GPU (Python3.5.2)",
   "language": "python",
   "name": "py3-gpu"
  },
  "language_info": {
   "codemirror_mode": {
    "name": "ipython",
    "version": 3
   },
   "file_extension": ".py",
   "mimetype": "text/x-python",
   "name": "python",
   "nbconvert_exporter": "python",
   "pygments_lexer": "ipython3",
   "version": "3.5.2"
  },
  "neptune": {
   "notebookId": "c2652b93-8ee0-4f8b-8e17-4bde282b576b"
  }
 },
 "nbformat": 4,
 "nbformat_minor": 2
}
