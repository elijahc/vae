{
 "cells": [
  {
   "cell_type": "code",
   "execution_count": 2,
   "metadata": {},
   "outputs": [
    {
     "name": "stderr",
     "output_type": "stream",
     "text": [
      "Using TensorFlow backend.\n"
     ]
    }
   ],
   "source": [
    "import numpy as np\n",
    "import neptune\n",
    "import imageio\n",
    "import scipy as scipy\n",
    "import pandas as pd\n",
    "import matplotlib.pyplot as plt\n",
    "from PIL import Image\n",
    "import os\n",
    "\n",
    "import seaborn as sns\n",
    "from sklearn.preprocessing import MinMaxScaler\n",
    "\n",
    "from src.data_loader import Shifted_Data_Loader\n",
    "from src.plot import orig_vs_transformed as plot_ovt\n",
    "from src.data_loader import _shift_image\n",
    "from src.test_models.drduplex import DRDuplex"
   ]
  },
  {
   "cell_type": "code",
   "execution_count": 3,
   "metadata": {},
   "outputs": [],
   "source": [
    "exp_date = '2019-09-26'\n",
    "proj_root = '/home/elijahc/projects/vae'\n",
    "models_root = os.path.join(proj_root,'models',exp_date)"
   ]
  },
  {
   "cell_type": "code",
   "execution_count": 4,
   "metadata": {},
   "outputs": [],
   "source": [
    "PROPS = {\n",
    "    'dataset':'fashion_mnist',\n",
    "    'encoder_arch': 'dense',\n",
    "    'generator_arch': 'resnet',\n",
    "    'augmentation': 'single',\n",
    "}\n",
    "PARAMS = {}\n",
    "\n",
    "train_conf = {\n",
    "    'n_epochs': 54000,\n",
    "    'batch_sz':512,\n",
    "}\n",
    "\n",
    "data_conf = {\n",
    "    'bg': 'natural',\n",
    "    'im_translation':0.75,\n",
    "    'im_rotation':None,\n",
    "    'bg_contrast': 0.3,\n",
    "}\n",
    "\n",
    "model_conf = {\n",
    "    'xent_weight': 15,\n",
    "    'recon_weight': 0,\n",
    "}\n",
    "\n",
    "for conf in [train_conf,data_conf,model_conf]:\n",
    "    PARAMS.update(conf)"
   ]
  },
  {
   "cell_type": "code",
   "execution_count": 5,
   "metadata": {},
   "outputs": [
    {
     "data": {
      "text/plain": [
       "{'n_epochs': 54000,\n",
       " 'batch_sz': 512,\n",
       " 'bg': 'natural',\n",
       " 'im_translation': 0.75,\n",
       " 'im_rotation': None,\n",
       " 'bg_contrast': 0.3,\n",
       " 'xent_weight': 15,\n",
       " 'recon_weight': 0}"
      ]
     },
     "execution_count": 5,
     "metadata": {},
     "output_type": "execute_result"
    }
   ],
   "source": [
    "PARAMS"
   ]
  },
  {
   "cell_type": "code",
   "execution_count": 6,
   "metadata": {},
   "outputs": [
    {
     "name": "stdout",
     "output_type": "stream",
     "text": [
      "input_shape:  (56, 56, 1)\n",
      "dataset:  fashion_mnist\n",
      "background:  natural\n",
      "blend mode:  None\n",
      "scale:  2\n",
      "tx_max:  0.75\n",
      "rot_max:  None\n",
      "contrast_level:  1\n",
      "noise_mode:  None\n",
      "building background images...\n"
     ]
    },
    {
     "name": "stderr",
     "output_type": "stream",
     "text": [
      "loading background: 100%|██████████| 60000/60000 [00:02<00:00, 25539.55it/s]\n",
      "loading background: 100%|██████████| 10000/10000 [00:00<00:00, 25282.55it/s]\n",
      "train images: 100%|██████████| 60000/60000 [00:01<00:00, 32076.52it/s]\n",
      "test_images: 100%|██████████| 10000/10000 [00:00<00:00, 35013.57it/s]\n"
     ]
    }
   ],
   "source": [
    "oversample_factor=1\n",
    "DL = Shifted_Data_Loader(dataset=PROPS['dataset'],flatten=False,num_train=60000*oversample_factor,\n",
    "                         translation=PARAMS['im_translation'],\n",
    "                         rotation=PARAMS['im_rotation'],\n",
    "#                          contrast_level=PARAMS['bg_contrast'],\n",
    "                         bg=PARAMS['bg'],\n",
    "                         blend=None,\n",
    "                        )"
   ]
  },
  {
   "cell_type": "code",
   "execution_count": 7,
   "metadata": {},
   "outputs": [
    {
     "data": {
      "image/png": "[encoded data removed]",
      "text/plain": [
       "<Figure size 432x288 with 2 Axes>"
      ]
     },
     "metadata": {
      "needs_background": "light"
     },
     "output_type": "display_data"
    }
   ],
   "source": [
    "pt,idx = plot_ovt(DL,cmap='gray')"
   ]
  },
  {
   "cell_type": "code",
   "execution_count": 8,
   "metadata": {},
   "outputs": [
    {
     "ename": "MissingApiToken",
     "evalue": "Missing API token. Use \"NEPTUNE_API_TOKEN\" environment variable or pass it as an argument",
     "output_type": "error",
     "traceback": [
      "\u001b[0;31m---------------------------------------------------------------------------\u001b[0m",
      "\u001b[0;31mMissingApiToken\u001b[0m                           Traceback (most recent call last)",
      "\u001b[0;32m<ipython-input-8-71a41f1ca1ef>\u001b[0m in \u001b[0;36m<module>\u001b[0;34m\u001b[0m\n\u001b[0;32m----> 1\u001b[0;31m \u001b[0mneptune\u001b[0m\u001b[0;34m.\u001b[0m\u001b[0minit\u001b[0m\u001b[0;34m(\u001b[0m\u001b[0;34m'elijahc/DuplexAE'\u001b[0m\u001b[0;34m)\u001b[0m\u001b[0;34m\u001b[0m\u001b[0m\n\u001b[0m\u001b[1;32m      2\u001b[0m \u001b[0msrc_files\u001b[0m \u001b[0;34m=\u001b[0m \u001b[0;34m[\u001b[0m\u001b[0;34m'./src/data_loader.py'\u001b[0m\u001b[0;34m,\u001b[0m\u001b[0;34m'./src/test_models/drduplex.py'\u001b[0m\u001b[0;34m]\u001b[0m\u001b[0;34m\u001b[0m\u001b[0m\n\u001b[1;32m      3\u001b[0m \u001b[0mexp\u001b[0m \u001b[0;34m=\u001b[0m \u001b[0mneptune\u001b[0m\u001b[0;34m.\u001b[0m\u001b[0mcreate_experiment\u001b[0m\u001b[0;34m(\u001b[0m\u001b[0mname\u001b[0m\u001b[0;34m=\u001b[0m\u001b[0;34m'static_aug_w_recon'\u001b[0m\u001b[0;34m,\u001b[0m\u001b[0mproperties\u001b[0m\u001b[0;34m=\u001b[0m\u001b[0mPROPS\u001b[0m\u001b[0;34m,\u001b[0m\u001b[0mparams\u001b[0m\u001b[0;34m=\u001b[0m\u001b[0mPARAMS\u001b[0m\u001b[0;34m,\u001b[0m\u001b[0mupload_source_files\u001b[0m\u001b[0;34m=\u001b[0m\u001b[0msrc_files\u001b[0m\u001b[0;34m)\u001b[0m\u001b[0;34m\u001b[0m\u001b[0m\n\u001b[1;32m      4\u001b[0m \u001b[0mexp_dir\u001b[0m \u001b[0;34m=\u001b[0m \u001b[0mos\u001b[0m\u001b[0;34m.\u001b[0m\u001b[0mpath\u001b[0m\u001b[0;34m.\u001b[0m\u001b[0mjoin\u001b[0m\u001b[0;34m(\u001b[0m\u001b[0;34m'models'\u001b[0m\u001b[0;34m,\u001b[0m\u001b[0mexp_date\u001b[0m\u001b[0;34m,\u001b[0m\u001b[0mexp\u001b[0m\u001b[0;34m.\u001b[0m\u001b[0mid\u001b[0m\u001b[0;34m)\u001b[0m\u001b[0;34m\u001b[0m\u001b[0m\n\u001b[1;32m      5\u001b[0m \u001b[0;34m\u001b[0m\u001b[0m\n",
      "\u001b[0;32m~/.pyenv/versions/fastai/lib/python3.6/site-packages/neptune/__init__.py\u001b[0m in \u001b[0;36minit\u001b[0;34m(project_qualified_name, api_token, proxies, backend)\u001b[0m\n\u001b[1;32m    131\u001b[0m \u001b[0;34m\u001b[0m\u001b[0m\n\u001b[1;32m    132\u001b[0m             \u001b[0;32melif\u001b[0m \u001b[0mbackend_name\u001b[0m \u001b[0;32mis\u001b[0m \u001b[0;32mNone\u001b[0m\u001b[0;34m:\u001b[0m\u001b[0;34m\u001b[0m\u001b[0m\n\u001b[0;32m--> 133\u001b[0;31m                 \u001b[0mbackend\u001b[0m \u001b[0;34m=\u001b[0m \u001b[0mHostedNeptuneBackend\u001b[0m\u001b[0;34m(\u001b[0m\u001b[0mapi_token\u001b[0m\u001b[0;34m,\u001b[0m \u001b[0mproxies\u001b[0m\u001b[0;34m)\u001b[0m\u001b[0;34m\u001b[0m\u001b[0m\n\u001b[0m\u001b[1;32m    134\u001b[0m \u001b[0;34m\u001b[0m\u001b[0m\n\u001b[1;32m    135\u001b[0m             \u001b[0;32melse\u001b[0m\u001b[0;34m:\u001b[0m\u001b[0;34m\u001b[0m\u001b[0m\n",
      "\u001b[0;32m~/.pyenv/versions/fastai/lib/python3.6/site-packages/neptune/utils.py\u001b[0m in \u001b[0;36mwrapper\u001b[0;34m(*args, **kwargs)\u001b[0m\n\u001b[1;32m    186\u001b[0m         \u001b[0;32mfor\u001b[0m \u001b[0mretry\u001b[0m \u001b[0;32min\u001b[0m \u001b[0mrange\u001b[0m\u001b[0;34m(\u001b[0m\u001b[0;36m0\u001b[0m\u001b[0;34m,\u001b[0m \u001b[0;36m11\u001b[0m\u001b[0;34m)\u001b[0m\u001b[0;34m:\u001b[0m\u001b[0;34m\u001b[0m\u001b[0m\n\u001b[1;32m    187\u001b[0m             \u001b[0;32mtry\u001b[0m\u001b[0;34m:\u001b[0m\u001b[0;34m\u001b[0m\u001b[0m\n\u001b[0;32m--> 188\u001b[0;31m                 \u001b[0;32mreturn\u001b[0m \u001b[0mfunc\u001b[0m\u001b[0;34m(\u001b[0m\u001b[0;34m*\u001b[0m\u001b[0margs\u001b[0m\u001b[0;34m,\u001b[0m \u001b[0;34m**\u001b[0m\u001b[0mkwargs\u001b[0m\u001b[0;34m)\u001b[0m\u001b[0;34m\u001b[0m\u001b[0m\n\u001b[0m\u001b[1;32m    189\u001b[0m             \u001b[0;32mexcept\u001b[0m \u001b[0mrequests\u001b[0m\u001b[0;34m.\u001b[0m\u001b[0mexceptions\u001b[0m\u001b[0;34m.\u001b[0m\u001b[0mSSLError\u001b[0m\u001b[0;34m:\u001b[0m\u001b[0;34m\u001b[0m\u001b[0m\n\u001b[1;32m    190\u001b[0m                 \u001b[0;32mraise\u001b[0m \u001b[0mSSLError\u001b[0m\u001b[0;34m(\u001b[0m\u001b[0;34m)\u001b[0m\u001b[0;34m\u001b[0m\u001b[0m\n",
      "\u001b[0;32m~/.pyenv/versions/fastai/lib/python3.6/site-packages/neptune/internal/backends/hosted_neptune_backend.py\u001b[0m in \u001b[0;36m__init__\u001b[0;34m(self, api_token, proxies)\u001b[0m\n\u001b[1;32m     56\u001b[0m     \u001b[0;34m@\u001b[0m\u001b[0mwith_api_exceptions_handler\u001b[0m\u001b[0;34m\u001b[0m\u001b[0m\n\u001b[1;32m     57\u001b[0m     \u001b[0;32mdef\u001b[0m \u001b[0m__init__\u001b[0m\u001b[0;34m(\u001b[0m\u001b[0mself\u001b[0m\u001b[0;34m,\u001b[0m \u001b[0mapi_token\u001b[0m\u001b[0;34m=\u001b[0m\u001b[0;32mNone\u001b[0m\u001b[0;34m,\u001b[0m \u001b[0mproxies\u001b[0m\u001b[0;34m=\u001b[0m\u001b[0;32mNone\u001b[0m\u001b[0;34m)\u001b[0m\u001b[0;34m:\u001b[0m\u001b[0;34m\u001b[0m\u001b[0m\n\u001b[0;32m---> 58\u001b[0;31m         \u001b[0mself\u001b[0m\u001b[0;34m.\u001b[0m\u001b[0mcredentials\u001b[0m \u001b[0;34m=\u001b[0m \u001b[0mCredentials\u001b[0m\u001b[0;34m(\u001b[0m\u001b[0mapi_token\u001b[0m\u001b[0;34m)\u001b[0m\u001b[0;34m\u001b[0m\u001b[0m\n\u001b[0m\u001b[1;32m     59\u001b[0m \u001b[0;34m\u001b[0m\u001b[0m\n\u001b[1;32m     60\u001b[0m         \u001b[0mssl_verify\u001b[0m \u001b[0;34m=\u001b[0m \u001b[0;32mTrue\u001b[0m\u001b[0;34m\u001b[0m\u001b[0m\n",
      "\u001b[0;32m~/.pyenv/versions/fastai/lib/python3.6/site-packages/neptune/internal/backends/credentials.py\u001b[0m in \u001b[0;36m__init__\u001b[0;34m(self, api_token)\u001b[0m\n\u001b[1;32m     74\u001b[0m         \u001b[0mself\u001b[0m\u001b[0;34m.\u001b[0m\u001b[0m_api_token\u001b[0m \u001b[0;34m=\u001b[0m \u001b[0mapi_token\u001b[0m\u001b[0;34m\u001b[0m\u001b[0m\n\u001b[1;32m     75\u001b[0m         \u001b[0;32mif\u001b[0m \u001b[0mself\u001b[0m\u001b[0;34m.\u001b[0m\u001b[0mapi_token\u001b[0m \u001b[0;32mis\u001b[0m \u001b[0;32mNone\u001b[0m\u001b[0;34m:\u001b[0m\u001b[0;34m\u001b[0m\u001b[0m\n\u001b[0;32m---> 76\u001b[0;31m             \u001b[0;32mraise\u001b[0m \u001b[0mMissingApiToken\u001b[0m\u001b[0;34m(\u001b[0m\u001b[0;34m)\u001b[0m\u001b[0;34m\u001b[0m\u001b[0m\n\u001b[0m\u001b[1;32m     77\u001b[0m \u001b[0;34m\u001b[0m\u001b[0m\n\u001b[1;32m     78\u001b[0m         \u001b[0mself\u001b[0m\u001b[0;34m.\u001b[0m\u001b[0m_api_address\u001b[0m \u001b[0;34m=\u001b[0m \u001b[0mself\u001b[0m\u001b[0;34m.\u001b[0m\u001b[0m_api_token_to_dict\u001b[0m\u001b[0;34m(\u001b[0m\u001b[0mself\u001b[0m\u001b[0;34m.\u001b[0m\u001b[0mapi_token\u001b[0m\u001b[0;34m)\u001b[0m\u001b[0;34m[\u001b[0m\u001b[0;34m'api_address'\u001b[0m\u001b[0;34m]\u001b[0m\u001b[0;34m\u001b[0m\u001b[0m\n",
      "\u001b[0;31mMissingApiToken\u001b[0m: Missing API token. Use \"NEPTUNE_API_TOKEN\" environment variable or pass it as an argument"
     ]
    }
   ],
   "source": [
    "neptune.init('elijahc/DuplexAE')\n",
    "src_files = ['./src/data_loader.py','./src/test_models/drduplex.py']\n",
    "exp = neptune.create_experiment(name='static_aug_w_recon',properties=PROPS,params=PARAMS,upload_source_files=src_files)\n",
    "exp_dir = os.path.join('models',exp_date,exp.id) \n",
    "\n",
    "os.mkdir(os.path.join(proj_root,exp_dir))\n",
    "os.mkdir(os.path.join(proj_root,exp_dir,'recons'))\n",
    "os.mkdir(os.path.join(proj_root,exp_dir,'test_ims'))\n",
    "\n",
    "exp.set_property('dir',exp_dir)"
   ]
  },
  {
   "cell_type": "code",
   "execution_count": 11,
   "metadata": {},
   "outputs": [],
   "source": [
    "w_xent = PARAMS['xent_weight']\n",
    "w_recon = PARAMS['recon_weight']"
   ]
  },
  {
   "cell_type": "code",
   "execution_count": 12,
   "metadata": {},
   "outputs": [],
   "source": [
    "mod = DRDuplex(img_shape=(56,56,1),\n",
    "               num_classes=DB.num_classes,\n",
    "               recon=w_recon,\n",
    "               xent=w_xent,n_residual_blocks=4,\n",
    "#                kernel_regularization=1e-5,\n",
    "              )"
   ]
  },
  {
   "cell_type": "code",
   "execution_count": 13,
   "metadata": {},
   "outputs": [
    {
     "data": {
      "text/plain": [
       "['loss',\n",
       " 'Generator_loss',\n",
       " 'Classifier_loss',\n",
       " 'Generator_mean_squared_error',\n",
       " 'Classifier_acc']"
      ]
     },
     "execution_count": 13,
     "metadata": {},
     "output_type": "execute_result"
    }
   ],
   "source": [
    "mod.combined.metrics_names"
   ]
  },
  {
   "cell_type": "code",
   "execution_count": 14,
   "metadata": {},
   "outputs": [],
   "source": [
    "# val_pct = 0.05\n",
    "# val_idxs = np.random.choice(np.arange(10000),int(val_pct*60000),replace=False)\n",
    "# validation_set = (DB.x_te[val_idxs],\n",
    "#                   {'Classifier':DB.y_test_oh[val_idxs],\n",
    "#                    'Generator':DB.fg_test[val_idxs]}\n",
    "#                  )"
   ]
  },
  {
   "cell_type": "code",
   "execution_count": 15,
   "metadata": {},
   "outputs": [],
   "source": [
    "i = 0\n",
    "epoch_sz = int(DB.num_train/512)\n",
    "pan_ims = []\n",
    "pan_y = []\n",
    "\n",
    "# hist_labels = mod.combined.metrics_names\n",
    "hist_labels = ['loss','G_loss','C_loss','G_mse','acc']\n",
    "\n",
    "train_hist = []\n",
    "test_hist = []\n",
    "\n",
    "# val_X,val_X_fg,val_y = DB.gen_batch(DB.x_te,DB.y_test_oh,batch_size=1000,bg='natural')\n"
   ]
  },
  {
   "cell_type": "code",
   "execution_count": 18,
   "metadata": {},
   "outputs": [
    {
     "name": "stdout",
     "output_type": "stream",
     "text": [
      "(3, 28, 28)\n"
     ]
    }
   ],
   "source": [
    "num_pan = 3\n",
    "test_generator = DB.gen_test_batches(4, batch_size=PARAMS['batch_sz'], bg=PARAMS['bg'])\n",
    "not_unique = True\n",
    "while not_unique:\n",
    "    pan_idx = np.random.choice(np.arange(len(DB.x_te)),size=num_pan,replace=False)\n",
    "    if len(np.unique(DB.y_test[pan_idx])) == num_pan:\n",
    "        not_unique = False\n",
    "    \n",
    "px_ = DB.x_te[pan_idx]\n",
    "print(px_.shape)\n",
    "tX, tX_fg,ty = next(test_generator)"
   ]
  },
  {
   "cell_type": "code",
   "execution_count": 19,
   "metadata": {},
   "outputs": [],
   "source": [
    "x_span = DB.gen_pan_deltas(step=2)\n",
    "pX = np.stack([np.expand_dims(_shift_image(X=px_,dx=dx,dy=dy),-1) for dx,dy in x_span])\n",
    "\n",
    "scaler = MinMaxScaler(feature_range=(-1,1))\n",
    "n,r,x,y,c = pX.shape\n",
    "\n",
    "pX = scaler.fit_transform(pX.reshape(n,x*y*c*r)).reshape(n,r,x,y,c)"
   ]
  },
  {
   "cell_type": "code",
   "execution_count": 20,
   "metadata": {},
   "outputs": [
    {
     "data": {
      "image/png": "[encoded data removed]",
      "text/plain": [
       "<Figure size 432x288 with 3 Axes>"
      ]
     },
     "metadata": {
      "needs_background": "light"
     },
     "output_type": "display_data"
    }
   ],
   "source": [
    "fig,axs = plt.subplots(1,num_pan)\n",
    "for i,ax in enumerate(axs.ravel()):\n",
    "    ax.imshow(pX[27,i].reshape(56,56),cmap='gray')\n",
    "    ax.get_xaxis().set_visible(False)\n",
    "    ax.get_yaxis().set_visible(False)\n",
    "    \n",
    "plt.tight_layout()"
   ]
  },
  {
   "cell_type": "code",
   "execution_count": 21,
   "metadata": {},
   "outputs": [],
   "source": [
    "# import numpy as np\n",
    "# nj = 25\n",
    "# fig,axs = plt.subplots(1,nj,figsize=(2*nj,2))\n",
    "\n",
    "# for i in np.arange(nj):\n",
    "#     axs[i].imshow(pX[i+15].reshape(56,56))"
   ]
  },
  {
   "cell_type": "code",
   "execution_count": 22,
   "metadata": {},
   "outputs": [],
   "source": [
    "def flush_pan(pan_ims):\n",
    "    min_max = lambda xp: np.clip((xp+1)/2,0,1)\n",
    "    for idx,inp,G in pan_ims:\n",
    "        idx = str(idx).zfill(3)\n",
    "        \n",
    "#         inp_fn = 'input_{}.png'.format(idx)\n",
    "#         inp_fp = os.path.join(proj_root,exp_dir,'test_ims',inp_fn)\n",
    "        \n",
    "        G_fn = 'G_{}.png'.format(idx)\n",
    "        G_fp = os.path.join(proj_root,exp_dir,'recons',G_fn)\n",
    "    \n",
    "        fig,axs = plt.subplots(2,num_pan)\n",
    "        for k in np.arange(num_pan):\n",
    "            axs[0,k].imshow(inp[k],cmap='gray')\n",
    "            axs[1,k].imshow(G[k],cmap='gray')\n",
    "\n",
    "        for ax in axs.ravel():\n",
    "            ax.get_xaxis().set_visible(False)\n",
    "            ax.get_yaxis().set_visible(False)\n",
    "\n",
    "        plt.tight_layout()     \n",
    "        \n",
    "        fig.savefig(G_fp)\n",
    "        plt.close(fig)"
   ]
  },
  {
   "cell_type": "code",
   "execution_count": 23,
   "metadata": {},
   "outputs": [],
   "source": [
    "recon_dir = os.path.join(proj_root,exp_dir,'recons')\n",
    "input_dir = os.path.join(proj_root,exp_dir,'test_ims')"
   ]
  },
  {
   "cell_type": "code",
   "execution_count": 24,
   "metadata": {},
   "outputs": [],
   "source": [
    "def make_gif(recon_dir,input_dir,fps=8,loop=0):\n",
    "    G_ims = []\n",
    "    for G in sorted(os.listdir(recon_dir)):\n",
    "        if G.endswith('.png'):\n",
    "            G_fp = os.path.join(recon_dir, G)\n",
    "            G_ims.append(imageio.imread(G_fp))\n",
    "        \n",
    "#     imageio.mimsave(os.path.join(proj_root,exp_dir,'inputs_video.gif'), input_ims,fps=fps,loop=loop)\n",
    "    imageio.mimsave(os.path.join(proj_root,exp_dir,'G_video.gif'), G_ims, fps=fps,loop=loop)"
   ]
  },
  {
   "cell_type": "code",
   "execution_count": null,
   "metadata": {},
   "outputs": [
    {
     "name": "stdout",
     "output_type": "stream",
     "text": [
      "  117 (train/val) G/C_loss[1521.85/2.04,   1531.38/1.98]   [acc: 27.15%,   val_acc: 31.84%]\n",
      "  234 (train/val) G/C_loss[1477.55/1.86,   1486.81/1.80]   [acc: 32.03%,   val_acc: 37.30%]\n",
      "  351 (train/val) G/C_loss[1453.20/1.78,   1455.41/1.72]   [acc: 36.13%,   val_acc: 40.04%]\n",
      "  468 (train/val) G/C_loss[1444.39/1.68,   1477.31/1.69]   [acc: 41.21%,   val_acc: 40.43%]\n",
      "  585 (train/val) G/C_loss[1455.95/1.63,   1454.14/1.66]   [acc: 41.21%,   val_acc: 41.21%]\n",
      "  702 (train/val) G/C_loss[1450.31/1.60,   1471.38/1.62]   [acc: 43.75%,   val_acc: 44.34%]\n",
      "  819 (train/val) G/C_loss[1467.01/1.61,   1506.89/1.59]   [acc: 43.36%,   val_acc: 42.97%]\n",
      "  936 (train/val) G/C_loss[1474.94/1.63,   1506.90/1.55]   [acc: 42.77%,   val_acc: 45.90%]\n",
      " 1053 (train/val) G/C_loss[1451.22/1.58,   1490.69/1.52]   [acc: 41.60%,   val_acc: 45.70%]\n",
      " 1170 (train/val) G/C_loss[1458.79/1.52,   1520.52/1.49]   [acc: 46.48%,   val_acc: 47.66%]\n",
      " 1287 (train/val) G/C_loss[1518.06/1.57,   1545.64/1.47]   [acc: 45.51%,   val_acc: 47.66%]\n",
      " 1404 (train/val) G/C_loss[1489.87/1.46,   1519.87/1.45]   [acc: 48.83%,   val_acc: 47.85%]\n",
      " 1521 (train/val) G/C_loss[1486.99/1.47,   1525.82/1.46]   [acc: 48.24%,   val_acc: 47.85%]\n",
      " 1638 (train/val) G/C_loss[1517.31/1.48,   1550.03/1.44]   [acc: 48.83%,   val_acc: 49.41%]\n",
      "writing_image_buffer...\n",
      "recompiling video...\n",
      " 1755 (train/val) G/C_loss[1548.93/1.48,   1547.45/1.41]   [acc: 50.59%,   val_acc: 49.02%]\n",
      " 1872 (train/val) G/C_loss[1518.09/1.49,   1566.31/1.42]   [acc: 48.63%,   val_acc: 48.83%]\n",
      " 1989 (train/val) G/C_loss[1545.54/1.42,   1589.88/1.40]   [acc: 48.83%,   val_acc: 49.80%]\n",
      " 2106 (train/val) G/C_loss[1587.17/1.46,   1575.86/1.39]   [acc: 50.59%,   val_acc: 49.22%]\n",
      " 2223 (train/val) G/C_loss[1551.58/1.39,   1607.04/1.39]   [acc: 50.98%,   val_acc: 48.83%]\n",
      " 2340 (train/val) G/C_loss[1593.92/1.44,   1602.58/1.39]   [acc: 48.63%,   val_acc: 52.34%]\n",
      " 2457 (train/val) G/C_loss[1613.54/1.46,   1636.18/1.36]   [acc: 45.70%,   val_acc: 50.59%]\n",
      " 2574 (train/val) G/C_loss[1586.93/1.41,   1647.01/1.37]   [acc: 50.20%,   val_acc: 50.78%]\n",
      " 2691 (train/val) G/C_loss[1640.14/1.47,   1669.69/1.37]   [acc: 47.07%,   val_acc: 49.41%]\n",
      " 2808 (train/val) G/C_loss[1633.39/1.44,   1652.06/1.33]   [acc: 48.83%,   val_acc: 52.54%]\n",
      " 2925 (train/val) G/C_loss[1644.78/1.38,   1639.44/1.33]   [acc: 52.93%,   val_acc: 53.71%]\n",
      " 3042 (train/val) G/C_loss[1647.03/1.31,   1663.19/1.34]   [acc: 54.69%,   val_acc: 53.91%]\n",
      " 3159 (train/val) G/C_loss[1697.54/1.37,   1717.95/1.34]   [acc: 52.15%,   val_acc: 54.30%]\n",
      " 3276 (train/val) G/C_loss[1660.54/1.41,   1701.25/1.32]   [acc: 50.00%,   val_acc: 55.08%]\n",
      "writing_image_buffer...\n",
      "recompiling video...\n",
      " 3393 (train/val) G/C_loss[1644.01/1.38,   1690.22/1.33]   [acc: 50.39%,   val_acc: 54.10%]\n",
      " 3510 (train/val) G/C_loss[1673.38/1.43,   1716.16/1.35]   [acc: 48.63%,   val_acc: 52.73%]\n",
      " 3627 (train/val) G/C_loss[1695.17/1.41,   1712.07/1.30]   [acc: 51.17%,   val_acc: 53.91%]\n",
      " 3744 (train/val) G/C_loss[1693.58/1.40,   1732.25/1.28]   [acc: 50.20%,   val_acc: 54.69%]\n",
      " 3861 (train/val) G/C_loss[1662.51/1.41,   1717.62/1.29]   [acc: 51.37%,   val_acc: 54.10%]\n",
      " 3978 (train/val) G/C_loss[1723.62/1.34,   1727.71/1.30]   [acc: 52.73%,   val_acc: 52.54%]\n",
      " 4095 (train/val) G/C_loss[1668.18/1.41,   1720.17/1.30]   [acc: 49.61%,   val_acc: 53.52%]\n",
      " 4212 (train/val) G/C_loss[1747.36/1.42,   1740.22/1.28]   [acc: 49.41%,   val_acc: 56.05%]\n",
      " 4329 (train/val) G/C_loss[1713.00/1.38,   1712.59/1.29]   [acc: 50.00%,   val_acc: 56.64%]\n",
      " 4446 (train/val) G/C_loss[1676.66/1.27,   1700.54/1.30]   [acc: 53.71%,   val_acc: 53.71%]\n",
      " 4563 (train/val) G/C_loss[1690.84/1.40,   1725.57/1.27]   [acc: 51.56%,   val_acc: 55.86%]\n",
      " 4680 (train/val) G/C_loss[1654.00/1.35,   1734.84/1.27]   [acc: 50.98%,   val_acc: 53.71%]\n",
      " 4797 (train/val) G/C_loss[1688.61/1.30,   1726.58/1.27]   [acc: 53.71%,   val_acc: 54.49%]\n",
      " 4914 (train/val) G/C_loss[1687.81/1.37,   1711.64/1.27]   [acc: 52.34%,   val_acc: 55.66%]\n",
      "writing_image_buffer...\n",
      "recompiling video...\n",
      " 5031 (train/val) G/C_loss[1730.85/1.32,   1715.65/1.27]   [acc: 54.30%,   val_acc: 55.27%]\n",
      " 5148 (train/val) G/C_loss[1706.20/1.33,   1712.94/1.26]   [acc: 52.93%,   val_acc: 55.66%]\n",
      " 5265 (train/val) G/C_loss[1681.71/1.25,   1732.24/1.25]   [acc: 55.47%,   val_acc: 55.66%]\n",
      " 5382 (train/val) G/C_loss[1741.97/1.29,   1740.54/1.27]   [acc: 52.73%,   val_acc: 53.71%]\n",
      " 5499 (train/val) G/C_loss[1688.56/1.33,   1693.57/1.27]   [acc: 48.63%,   val_acc: 57.62%]\n",
      " 5616 (train/val) G/C_loss[1722.17/1.29,   1751.20/1.26]   [acc: 51.37%,   val_acc: 55.08%]\n",
      " 5733 (train/val) G/C_loss[1671.87/1.38,   1720.03/1.25]   [acc: 51.76%,   val_acc: 56.05%]\n",
      " 5850 (train/val) G/C_loss[1702.00/1.22,   1701.51/1.24]   [acc: 58.20%,   val_acc: 54.10%]\n",
      " 5967 (train/val) G/C_loss[1681.57/1.22,   1708.64/1.24]   [acc: 57.81%,   val_acc: 56.05%]\n",
      " 6084 (train/val) G/C_loss[1733.55/1.19,   1717.24/1.26]   [acc: 58.20%,   val_acc: 54.10%]\n",
      " 6201 (train/val) G/C_loss[1698.80/1.40,   1730.46/1.23]   [acc: 50.39%,   val_acc: 56.64%]\n",
      " 6318 (train/val) G/C_loss[1692.56/1.34,   1725.46/1.23]   [acc: 53.12%,   val_acc: 57.03%]\n",
      " 6435 (train/val) G/C_loss[1667.71/1.24,   1715.34/1.23]   [acc: 57.03%,   val_acc: 56.05%]\n",
      " 6552 (train/val) G/C_loss[1695.30/1.28,   1720.57/1.23]   [acc: 53.71%,   val_acc: 55.86%]\n",
      "writing_image_buffer...\n",
      "recompiling video...\n",
      " 6669 (train/val) G/C_loss[1702.86/1.26,   1735.52/1.26]   [acc: 58.59%,   val_acc: 54.49%]\n",
      " 6786 (train/val) G/C_loss[1710.51/1.41,   1724.32/1.23]   [acc: 50.39%,   val_acc: 56.25%]\n",
      " 6903 (train/val) G/C_loss[1699.32/1.23,   1743.75/1.22]   [acc: 55.47%,   val_acc: 57.42%]\n",
      " 7020 (train/val) G/C_loss[1718.73/1.27,   1731.58/1.19]   [acc: 53.52%,   val_acc: 58.40%]\n",
      " 7137 (train/val) G/C_loss[1711.42/1.22,   1730.25/1.24]   [acc: 56.05%,   val_acc: 54.49%]\n",
      " 7254 (train/val) G/C_loss[1698.51/1.24,   1727.17/1.23]   [acc: 57.62%,   val_acc: 56.84%]\n",
      " 7371 (train/val) G/C_loss[1722.80/1.30,   1749.25/1.20]   [acc: 53.71%,   val_acc: 56.25%]\n",
      " 7488 (train/val) G/C_loss[1709.18/1.28,   1719.33/1.20]   [acc: 55.66%,   val_acc: 56.84%]\n",
      " 7605 (train/val) G/C_loss[1677.85/1.23,   1702.27/1.20]   [acc: 53.71%,   val_acc: 58.59%]\n",
      " 7722 (train/val) G/C_loss[1662.91/1.19,   1724.51/1.21]   [acc: 57.62%,   val_acc: 54.49%]\n",
      " 7839 (train/val) G/C_loss[1698.31/1.15,   1731.33/1.23]   [acc: 59.96%,   val_acc: 54.88%]\n",
      " 7956 (train/val) G/C_loss[1707.30/1.20,   1719.84/1.19]   [acc: 54.88%,   val_acc: 55.86%]\n",
      " 8073 (train/val) G/C_loss[1705.91/1.30,   1746.84/1.21]   [acc: 56.05%,   val_acc: 56.64%]\n",
      " 8190 (train/val) G/C_loss[1712.98/1.27,   1726.04/1.17]   [acc: 54.10%,   val_acc: 57.62%]\n",
      "writing_image_buffer...\n",
      "recompiling video...\n"
     ]
    }
   ],
   "source": [
    "for X,X_fg,y in DB.gen_train_batches(PARAMS['n_epochs'],bg=PARAMS['bg']):\n",
    "    y = {'Classifier':y,\n",
    "         'Generator':X_fg,\n",
    "        }\n",
    "    r = mod.combined.train_on_batch(X,y)\n",
    "    r = {k:v for k,v in zip(hist_labels,r)}\n",
    "\n",
    "#     metrics = {k:v for k,v in zip(met_names,met_vals)}\n",
    "    if i % epoch_sz == 0 and i > 0:\n",
    "        r_te = mod.combined.test_on_batch(tX,{'Classifier':ty,\n",
    "                                              'Generator':tX_fg\n",
    "                                             })\n",
    "        r_te = {k:v for k,v in zip(hist_labels,r_te)}\n",
    "        exp.log_metric('batch',i)\n",
    "        for metric in hist_labels:\n",
    "            exp.log_metric(metric,r[metric])\n",
    "            exp.log_metric('val_{}'.format(metric),r_te[metric])\n",
    "\n",
    "        r['batch']=i\n",
    "        r_te['batch']=i\n",
    "\n",
    "#         r['result_type'] = 'train'\n",
    "#         r_te['result_type'] = 'valid'\n",
    "\n",
    "#         train_hist.append(r)\n",
    "#         train_hist.append(r_te)\n",
    "\n",
    "        p_loss = \"{:5d} (train/val) G/C_loss[{:2.2f}/{:.2f},   {:2.2f}/{:.2f}]\".format(i,r['G_loss'],r['C_loss'],r_te['G_loss'],r_te['C_loss'])\n",
    "#         p_loss = \"{:5d} (train/val loss:[{:2.2f}, {:2.2f}])\".format(i,r['loss'],r_te['loss'])\n",
    "        p_acc = \"[acc: {:2.2%},   val_acc: {:2.2%}]\".format(r['acc'],r_te['acc'])\n",
    "        print(p_loss,' ',p_acc)\n",
    "        \n",
    "        pidx = int(i/epoch_sz)%len(pX)\n",
    "        im = pX[pidx]\n",
    "        p_recon,p_class = mod.combined.predict_on_batch(im)\n",
    "        \n",
    "        pan_im = (int(i/epoch_sz), np.squeeze(im), np.squeeze(p_recon))\n",
    "        pan_ims.append(pan_im)\n",
    "        pan_y.append(p_class)\n",
    "        \n",
    "        if i>0 and len(pan_ims)>int(len(pX)/3):\n",
    "            print('writing_image_buffer...')\n",
    "            flush_pan(pan_ims)\n",
    "            pan_ims = []\n",
    "                \n",
    "            print('recompiling video...')\n",
    "            make_gif(recon_dir,input_dir)\n",
    "                        \n",
    "    i+=1"
   ]
  },
  {
   "cell_type": "code",
   "execution_count": null,
   "metadata": {},
   "outputs": [],
   "source": [
    "make_gif(recon_dir,input_dir,)"
   ]
  },
  {
   "cell_type": "code",
   "execution_count": null,
   "metadata": {},
   "outputs": [],
   "source": [
    "exp.stop()"
   ]
  },
  {
   "cell_type": "code",
   "execution_count": null,
   "metadata": {},
   "outputs": [],
   "source": [
    "mod_dir = os.path.join(proj_root,exp_dir)\n",
    "mod_dir"
   ]
  },
  {
   "cell_type": "code",
   "execution_count": null,
   "metadata": {},
   "outputs": [],
   "source": [
    "hist_tr = pd.DataFrame.from_records(train_hist)"
   ]
  },
  {
   "cell_type": "code",
   "execution_count": null,
   "metadata": {},
   "outputs": [],
   "source": [
    "# sns.set_context('talk')\n",
    "# fig,axs = plt.subplots(1,4,figsize=(4*4,1*4),sharex=True)\n",
    "# for ax,metric in zip(axs.ravel(),['loss','G_loss','C_loss','acc']):\n",
    "#     sns.lineplot(x='batch',y=metric, hue='result_type',data=hist_tr,ax=ax)"
   ]
  },
  {
   "cell_type": "code",
   "execution_count": null,
   "metadata": {},
   "outputs": [],
   "source": [
    "print(mod_dir)\n",
    "hist_tr.to_csv(os.path.join(mod_dir,'training_hist.csv'))"
   ]
  },
  {
   "cell_type": "code",
   "execution_count": null,
   "metadata": {},
   "outputs": [],
   "source": [
    "model_json = mod.combined.to_json()\n",
    "with open(os.path.join(mod_dir,\"model.json\"), \"w\") as json_file:\n",
    "    json_file.write(model_json)\n",
    "    \n",
    "exp.send_artifact(os.path.join(mod_dir,'model.json'))"
   ]
  },
  {
   "cell_type": "code",
   "execution_count": null,
   "metadata": {},
   "outputs": [],
   "source": [
    "mod.combined.save_weights(os.path.join(mod_dir,'weights.h5'))"
   ]
  },
  {
   "cell_type": "code",
   "execution_count": null,
   "metadata": {},
   "outputs": [],
   "source": [
    "teX,_,_ = next(test_generator)"
   ]
  },
  {
   "cell_type": "code",
   "execution_count": null,
   "metadata": {},
   "outputs": [],
   "source": [
    "out = mod.combined.predict_on_batch(teX)"
   ]
  },
  {
   "cell_type": "code",
   "execution_count": null,
   "metadata": {},
   "outputs": [],
   "source": [
    "x_recon,y = out"
   ]
  },
  {
   "cell_type": "code",
   "execution_count": null,
   "metadata": {},
   "outputs": [],
   "source": [
    "choices = np.random.choice(np.arange(1024),size=5,replace=False)"
   ]
  },
  {
   "cell_type": "code",
   "execution_count": null,
   "metadata": {},
   "outputs": [],
   "source": [
    "fix,axes = plt.subplots(2,5,figsize=(2*5,2*2))\n",
    "\n",
    "for i,idx in enumerate(choices):\n",
    "    axs = axes[:,i]\n",
    "    axs[0].imshow(teX[idx].reshape(56,56),cmap='gray')\n",
    "    axs[1].imshow(x_recon[idx].reshape(56,56),cmap='gray')\n",
    "    \n",
    "for ax in axes.ravel():\n",
    "    ax.get_yaxis().set_visible(False)\n",
    "    ax.get_xaxis().set_visible(False)\n",
    "    \n",
    "plt.tight_layout()"
   ]
  },
  {
   "cell_type": "code",
   "execution_count": null,
   "metadata": {},
   "outputs": [],
   "source": [
    "fix.savefig(os.path.join(mod_dir,'inp_output_pairs.png'),dpi=300)"
   ]
  },
  {
   "cell_type": "code",
   "execution_count": null,
   "metadata": {},
   "outputs": [],
   "source": [
    "exp.send_artifact(os.path.join(mod_dir,'inp_output_pairs.png'))"
   ]
  },
  {
   "cell_type": "code",
   "execution_count": null,
   "metadata": {},
   "outputs": [],
   "source": [
    "x_tr = DL.sx_train\n",
    "x_tro = DL.x_train"
   ]
  },
  {
   "cell_type": "code",
   "execution_count": null,
   "metadata": {},
   "outputs": [],
   "source": [
    "x_tro.shape"
   ]
  },
  {
   "cell_type": "code",
   "execution_count": null,
   "metadata": {},
   "outputs": [],
   "source": [
    "im = np.squeeze(x_tr[5])\n",
    "plt.imshow(x_tro[5])"
   ]
  },
  {
   "cell_type": "code",
   "execution_count": null,
   "metadata": {},
   "outputs": [],
   "source": [
    "x_t_warp = np.zeros((28,28))\n",
    "xt_warp = scipy.ndimage.zoom(x_tro[5],(1.1,0.9))\n",
    "plt.imshow(xt_warp)"
   ]
  },
  {
   "cell_type": "code",
   "execution_count": null,
   "metadata": {},
   "outputs": [],
   "source": [
    "DL.meta_train"
   ]
  }
 ],
 "metadata": {
  "kernelspec": {
   "display_name": "Py3-fastai (Python3.6.1)",
   "language": "python",
   "name": "py3-fastai"
  },
  "language_info": {
   "codemirror_mode": {
    "name": "ipython",
    "version": 3
   },
   "file_extension": ".py",
   "mimetype": "text/x-python",
   "name": "python",
   "nbconvert_exporter": "python",
   "pygments_lexer": "ipython3",
   "version": "3.6.1"
  },
  "neptune": {
   "notebookId": "d5fdb345-721d-4a1e-99ab-6ce8f0daefa5"
  }
 },
 "nbformat": 4,
 "nbformat_minor": 2
}
