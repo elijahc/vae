{
 "cells": [
  {
   "cell_type": "code",
   "execution_count": 1,
   "metadata": {},
   "outputs": [
    {
     "name": "stderr",
     "output_type": "stream",
     "text": [
      "/home/elijahc/.pyenv/versions/3.5.2/envs/jupyterlab/lib/python3.5/site-packages/h5py/__init__.py:36: FutureWarning: Conversion of the second argument of issubdtype from `float` to `np.floating` is deprecated. In future, it will be treated as `np.float64 == np.dtype(float).type`.\n",
      "  from ._conv import register_converters as _register_converters\n",
      "Using TensorFlow backend.\n"
     ]
    }
   ],
   "source": [
    "import os\n",
    "import numpy as np\n",
    "import pandas as pd\n",
    "import matplotlib.pyplot as plt\n",
    "%matplotlib inline\n",
    "import seaborn as sns\n",
    "\n",
    "from keras.layers import Dense,Input,Lambda,Concatenate\n",
    "from keras.models import Model\n",
    "from keras.metrics import binary_crossentropy,categorical_accuracy\n",
    "import keras.backend as K\n",
    "from keras.datasets import mnist\n",
    "from keras.losses import categorical_crossentropy\n",
    "from keras.utils import to_categorical"
   ]
  },
  {
   "cell_type": "code",
   "execution_count": 2,
   "metadata": {},
   "outputs": [],
   "source": [
    "from src.models import build_dense,CachedModel"
   ]
  },
  {
   "cell_type": "code",
   "execution_count": 3,
   "metadata": {},
   "outputs": [
    {
     "name": "stdout",
     "output_type": "stream",
     "text": [
      "(60000, 784)\n",
      "(10000, 784)\n",
      "(60000, 10)\n"
     ]
    }
   ],
   "source": [
    "# train the VAE on MNIST digits\n",
    "(x_train, y_train), (x_test, y_test) = mnist.load_data()\n",
    "\n",
    "x_train = x_train.astype('float32') / 255.\n",
    "x_test = x_test.astype('float32') / 255.\n",
    "x_train = x_train.reshape((len(x_train), np.prod(x_train.shape[1:])))\n",
    "x_test = x_test.reshape((len(x_test), np.prod(x_test.shape[1:])))\n",
    "\n",
    "oh_train = to_categorical(y_train,num_classes=10)\n",
    "oh_test = to_categorical(y_test,num_classes=10)\n",
    "\n",
    "print(x_train.shape)\n",
    "print(x_test.shape)\n",
    "print(oh_train.shape)"
   ]
  },
  {
   "cell_type": "code",
   "execution_count": 4,
   "metadata": {},
   "outputs": [],
   "source": [
    "input_shape = (784,)\n",
    "\n",
    "enc_dim = 500\n",
    "obs_dim = 10\n",
    "lat_dim = 2\n",
    "beta=10\n",
    "inputs = Input(shape=input_shape)\n",
    "encoded = build_dense(inputs,[enc_dim,enc_dim],activations='relu')\n",
    "obs_y = Dense(obs_dim,activation='softmax')(encoded)\n",
    "lat_z = Dense(lat_dim,activation='sigmoid')(encoded)\n",
    "h = Concatenate()([obs_y,lat_z])\n",
    "decoded = build_dense(h,[enc_dim,enc_dim,784],activations=['relu','relu','sigmoid'])"
   ]
  },
  {
   "cell_type": "code",
   "execution_count": 5,
   "metadata": {},
   "outputs": [],
   "source": [
    "def ss_ae_loss(y_true,y_pred):\n",
    "    recon_loss = K.sum(K.square(decoded-inputs))\n",
    "    acc_loss = beta*categorical_crossentropy(y_true,obs_y)\n",
    "    \n",
    "    return K.mean(acc_loss+recon_loss)\n",
    "\n",
    "def class_acc(y_true,y_pred):\n",
    "    return categorical_accuracy(y_true,obs_y)"
   ]
  },
  {
   "cell_type": "code",
   "execution_count": 6,
   "metadata": {},
   "outputs": [],
   "source": [
    "ss_ae = Model(inputs,decoded)\n",
    "ss_ae.compile(optimizer='adadelta',loss=ss_ae_loss,metrics=[class_acc])"
   ]
  },
  {
   "cell_type": "code",
   "execution_count": 7,
   "metadata": {},
   "outputs": [
    {
     "name": "stdout",
     "output_type": "stream",
     "text": [
      "__________________________________________________________________________________________________\n",
      "Layer (type)                    Output Shape         Param #     Connected to                     \n",
      "==================================================================================================\n",
      "input_1 (InputLayer)            (None, 784)          0                                            \n",
      "__________________________________________________________________________________________________\n",
      "dense_1 (Dense)                 (None, 500)          392500      input_1[0][0]                    \n",
      "__________________________________________________________________________________________________\n",
      "dense_2 (Dense)                 (None, 500)          250500      dense_1[0][0]                    \n",
      "__________________________________________________________________________________________________\n",
      "dense_3 (Dense)                 (None, 10)           5010        dense_2[0][0]                    \n",
      "__________________________________________________________________________________________________\n",
      "dense_4 (Dense)                 (None, 2)            1002        dense_2[0][0]                    \n",
      "__________________________________________________________________________________________________\n",
      "concatenate_1 (Concatenate)     (None, 12)           0           dense_3[0][0]                    \n",
      "                                                                 dense_4[0][0]                    \n",
      "==================================================================================================\n",
      "Total params: 649,012\n",
      "Trainable params: 649,012\n",
      "Non-trainable params: 0\n",
      "__________________________________________________________________________________________________\n"
     ]
    }
   ],
   "source": [
    "classifier = Model(inputs,obs_y)\n",
    "classifier.compile(loss='categorical_crossentropy',optimizer='adadelta',metrics=['acc'])\n",
    "\n",
    "encoder = Model(inputs,h)\n",
    "encoder.compile(loss='categorical_crossentropy',optimizer='adadelta')\n",
    "encoder.summary()"
   ]
  },
  {
   "cell_type": "code",
   "execution_count": 8,
   "metadata": {},
   "outputs": [
    {
     "name": "stdout",
     "output_type": "stream",
     "text": [
      "__________________________________________________________________________________________________\n",
      "Layer (type)                    Output Shape         Param #     Connected to                     \n",
      "==================================================================================================\n",
      "input_1 (InputLayer)            (None, 784)          0                                            \n",
      "__________________________________________________________________________________________________\n",
      "dense_1 (Dense)                 (None, 500)          392500      input_1[0][0]                    \n",
      "__________________________________________________________________________________________________\n",
      "dense_2 (Dense)                 (None, 500)          250500      dense_1[0][0]                    \n",
      "__________________________________________________________________________________________________\n",
      "dense_3 (Dense)                 (None, 10)           5010        dense_2[0][0]                    \n",
      "__________________________________________________________________________________________________\n",
      "dense_4 (Dense)                 (None, 2)            1002        dense_2[0][0]                    \n",
      "__________________________________________________________________________________________________\n",
      "concatenate_1 (Concatenate)     (None, 12)           0           dense_3[0][0]                    \n",
      "                                                                 dense_4[0][0]                    \n",
      "__________________________________________________________________________________________________\n",
      "dense_5 (Dense)                 (None, 500)          6500        concatenate_1[0][0]              \n",
      "__________________________________________________________________________________________________\n",
      "dense_6 (Dense)                 (None, 500)          250500      dense_5[0][0]                    \n",
      "__________________________________________________________________________________________________\n",
      "dense_7 (Dense)                 (None, 784)          392784      dense_6[0][0]                    \n",
      "==================================================================================================\n",
      "Total params: 1,298,796\n",
      "Trainable params: 1,298,796\n",
      "Non-trainable params: 0\n",
      "__________________________________________________________________________________________________\n"
     ]
    }
   ],
   "source": [
    "ss_ae.summary()"
   ]
  },
  {
   "cell_type": "code",
   "execution_count": 9,
   "metadata": {},
   "outputs": [
    {
     "name": "stdout",
     "output_type": "stream",
     "text": [
      "Train on 54000 samples, validate on 6000 samples\n",
      "Epoch 1/50\n",
      "54000/54000 [==============================] - 8s 154us/step - loss: 4948.4305 - class_acc: 0.4694 - val_loss: 3160.2804 - val_class_acc: 0.6057\n",
      "Epoch 2/50\n",
      "54000/54000 [==============================] - 8s 144us/step - loss: 2890.5397 - class_acc: 0.5657 - val_loss: 2374.1914 - val_class_acc: 0.5883\n",
      "Epoch 3/50\n",
      "54000/54000 [==============================] - 8s 148us/step - loss: 2309.7524 - class_acc: 0.5679 - val_loss: 2075.1772 - val_class_acc: 0.6017\n",
      "Epoch 4/50\n",
      "54000/54000 [==============================] - 8s 148us/step - loss: 2037.8733 - class_acc: 0.5715 - val_loss: 1941.7423 - val_class_acc: 0.6032\n",
      "Epoch 5/50\n",
      "54000/54000 [==============================] - 8s 148us/step - loss: 1888.7395 - class_acc: 0.5743 - val_loss: 1826.6517 - val_class_acc: 0.6160\n",
      "Epoch 6/50\n",
      "54000/54000 [==============================] - 8s 148us/step - loss: 1786.1223 - class_acc: 0.5794 - val_loss: 1700.8076 - val_class_acc: 0.6153\n",
      "Epoch 7/50\n",
      "54000/54000 [==============================] - 8s 149us/step - loss: 1706.3653 - class_acc: 0.5828 - val_loss: 1649.1309 - val_class_acc: 0.6180\n",
      "Epoch 8/50\n",
      "54000/54000 [==============================] - 8s 150us/step - loss: 1640.8767 - class_acc: 0.5864 - val_loss: 1632.7842 - val_class_acc: 0.6285\n",
      "Epoch 9/50\n",
      "54000/54000 [==============================] - 8s 150us/step - loss: 1591.9567 - class_acc: 0.5913 - val_loss: 1572.2991 - val_class_acc: 0.6258\n",
      "Epoch 10/50\n",
      "54000/54000 [==============================] - 8s 149us/step - loss: 1543.5392 - class_acc: 0.5942 - val_loss: 1514.7283 - val_class_acc: 0.6263\n",
      "Epoch 11/50\n",
      "54000/54000 [==============================] - 8s 151us/step - loss: 1510.6350 - class_acc: 0.5969 - val_loss: 1504.2544 - val_class_acc: 0.6280\n",
      "Epoch 12/50\n",
      "54000/54000 [==============================] - 8s 150us/step - loss: 1474.0660 - class_acc: 0.6002 - val_loss: 1437.4388 - val_class_acc: 0.6355\n",
      "Epoch 13/50\n",
      "54000/54000 [==============================] - 8s 150us/step - loss: 1446.2706 - class_acc: 0.6006 - val_loss: 1467.2529 - val_class_acc: 0.6332\n",
      "Epoch 14/50\n",
      "54000/54000 [==============================] - 8s 151us/step - loss: 1419.1753 - class_acc: 0.6031 - val_loss: 1426.7453 - val_class_acc: 0.6343\n",
      "Epoch 15/50\n",
      "54000/54000 [==============================] - 8s 152us/step - loss: 1390.4243 - class_acc: 0.6047 - val_loss: 1420.2977 - val_class_acc: 0.6383\n",
      "Epoch 16/50\n",
      "54000/54000 [==============================] - 8s 152us/step - loss: 1371.2241 - class_acc: 0.6060 - val_loss: 1411.1033 - val_class_acc: 0.6403\n",
      "Epoch 17/50\n",
      "54000/54000 [==============================] - 8s 153us/step - loss: 1349.7259 - class_acc: 0.6076 - val_loss: 1378.6804 - val_class_acc: 0.6387\n",
      "Epoch 18/50\n",
      "54000/54000 [==============================] - 8s 153us/step - loss: 1329.7531 - class_acc: 0.6086 - val_loss: 1385.4588 - val_class_acc: 0.6418\n",
      "Epoch 19/50\n",
      "54000/54000 [==============================] - 8s 153us/step - loss: 1312.7853 - class_acc: 0.6114 - val_loss: 1371.7994 - val_class_acc: 0.6408\n",
      "Epoch 20/50\n",
      "54000/54000 [==============================] - 8s 154us/step - loss: 1296.8914 - class_acc: 0.6119 - val_loss: 1319.4305 - val_class_acc: 0.6437\n",
      "Epoch 21/50\n",
      "54000/54000 [==============================] - 8s 153us/step - loss: 1281.6436 - class_acc: 0.6125 - val_loss: 1347.7037 - val_class_acc: 0.6443\n",
      "Epoch 22/50\n",
      "54000/54000 [==============================] - 8s 154us/step - loss: 1267.1466 - class_acc: 0.6140 - val_loss: 1317.7099 - val_class_acc: 0.6392\n",
      "Epoch 23/50\n",
      "54000/54000 [==============================] - 8s 154us/step - loss: 1255.2338 - class_acc: 0.6146 - val_loss: 1287.3053 - val_class_acc: 0.6443\n",
      "Epoch 24/50\n",
      "54000/54000 [==============================] - 8s 155us/step - loss: 1240.1076 - class_acc: 0.6151 - val_loss: 1290.2042 - val_class_acc: 0.6442\n",
      "Epoch 25/50\n",
      "54000/54000 [==============================] - 8s 155us/step - loss: 1228.8552 - class_acc: 0.6156 - val_loss: 1290.7369 - val_class_acc: 0.6407\n",
      "Epoch 26/50\n",
      "54000/54000 [==============================] - 8s 155us/step - loss: 1215.9493 - class_acc: 0.6165 - val_loss: 1274.0080 - val_class_acc: 0.6430\n",
      "Epoch 27/50\n",
      "54000/54000 [==============================] - 8s 157us/step - loss: 1206.2857 - class_acc: 0.6174 - val_loss: 1271.3309 - val_class_acc: 0.6490\n",
      "Epoch 28/50\n",
      "54000/54000 [==============================] - 8s 156us/step - loss: 1193.5950 - class_acc: 0.6189 - val_loss: 1300.1599 - val_class_acc: 0.6472\n",
      "Epoch 29/50\n",
      "54000/54000 [==============================] - 8s 156us/step - loss: 1186.5129 - class_acc: 0.6201 - val_loss: 1278.5705 - val_class_acc: 0.6497\n",
      "Epoch 30/50\n",
      "54000/54000 [==============================] - 8s 155us/step - loss: 1175.2944 - class_acc: 0.6204 - val_loss: 1272.0944 - val_class_acc: 0.6493\n",
      "Epoch 31/50\n",
      "54000/54000 [==============================] - 8s 156us/step - loss: 1169.5070 - class_acc: 0.6206 - val_loss: 1256.1781 - val_class_acc: 0.6528\n",
      "Epoch 32/50\n",
      "54000/54000 [==============================] - 8s 155us/step - loss: 1158.6205 - class_acc: 0.6218 - val_loss: 1254.0380 - val_class_acc: 0.6477\n",
      "Epoch 33/50\n",
      "54000/54000 [==============================] - 8s 149us/step - loss: 1149.9159 - class_acc: 0.6229 - val_loss: 1254.0903 - val_class_acc: 0.6507\n",
      "Epoch 34/50\n",
      "54000/54000 [==============================] - 8s 150us/step - loss: 1143.3221 - class_acc: 0.6225 - val_loss: 1226.5526 - val_class_acc: 0.6518\n",
      "Epoch 35/50\n",
      "54000/54000 [==============================] - 8s 150us/step - loss: 1135.6216 - class_acc: 0.6239 - val_loss: 1229.2492 - val_class_acc: 0.6523\n",
      "Epoch 36/50\n",
      "54000/54000 [==============================] - 8s 156us/step - loss: 1126.5590 - class_acc: 0.6245 - val_loss: 1285.2811 - val_class_acc: 0.6540\n",
      "Epoch 37/50\n",
      "54000/54000 [==============================] - 8s 156us/step - loss: 1121.0563 - class_acc: 0.6246 - val_loss: 1231.2656 - val_class_acc: 0.6563\n",
      "Epoch 38/50\n",
      "54000/54000 [==============================] - 8s 155us/step - loss: 1115.2492 - class_acc: 0.6249 - val_loss: 1224.4515 - val_class_acc: 0.6523\n",
      "Epoch 39/50\n",
      "54000/54000 [==============================] - 8s 155us/step - loss: 1107.6840 - class_acc: 0.6260 - val_loss: 1247.8803 - val_class_acc: 0.6565\n",
      "Epoch 40/50\n",
      "54000/54000 [==============================] - 8s 155us/step - loss: 1099.9564 - class_acc: 0.6269 - val_loss: 1230.7423 - val_class_acc: 0.6555\n",
      "Epoch 41/50\n",
      "54000/54000 [==============================] - 8s 156us/step - loss: 1092.2350 - class_acc: 0.6291 - val_loss: 1218.0481 - val_class_acc: 0.6575\n",
      "Epoch 42/50\n",
      "54000/54000 [==============================] - 8s 156us/step - loss: 1089.8320 - class_acc: 0.6290 - val_loss: 1211.1087 - val_class_acc: 0.6568\n",
      "Epoch 43/50\n",
      "54000/54000 [==============================] - 8s 151us/step - loss: 1082.7589 - class_acc: 0.6292 - val_loss: 1228.3181 - val_class_acc: 0.6570\n",
      "Epoch 44/50\n",
      "54000/54000 [==============================] - 8s 153us/step - loss: 1077.1732 - class_acc: 0.6299 - val_loss: 1228.7941 - val_class_acc: 0.6548\n",
      "Epoch 45/50\n",
      "54000/54000 [==============================] - 8s 156us/step - loss: 1070.2128 - class_acc: 0.6297 - val_loss: 1223.9648 - val_class_acc: 0.6552\n",
      "Epoch 46/50\n",
      "54000/54000 [==============================] - 9s 161us/step - loss: 1068.8377 - class_acc: 0.6311 - val_loss: 1240.1110 - val_class_acc: 0.6620\n",
      "Epoch 47/50\n",
      "54000/54000 [==============================] - 9s 163us/step - loss: 1060.9549 - class_acc: 0.6329 - val_loss: 1198.4961 - val_class_acc: 0.6605\n",
      "Epoch 48/50\n",
      "54000/54000 [==============================] - 8s 155us/step - loss: 1056.9452 - class_acc: 0.6317 - val_loss: 1252.2612 - val_class_acc: 0.6568\n",
      "Epoch 49/50\n",
      "54000/54000 [==============================] - 8s 156us/step - loss: 1051.1455 - class_acc: 0.6325 - val_loss: 1205.3120 - val_class_acc: 0.6575\n",
      "Epoch 50/50\n",
      "54000/54000 [==============================] - 8s 155us/step - loss: 1046.7550 - class_acc: 0.6337 - val_loss: 1203.4505 - val_class_acc: 0.6660\n"
     ]
    },
    {
     "data": {
      "text/plain": [
       "<keras.callbacks.History at 0x7fa5ced801d0>"
      ]
     },
     "execution_count": 9,
     "metadata": {},
     "output_type": "execute_result"
    }
   ],
   "source": [
    "ss_ae.fit(x_train,oh_train,\n",
    "          batch_size=128,\n",
    "          epochs=50,\n",
    "          shuffle=True,\n",
    "          validation_split=0.1)"
   ]
  },
  {
   "cell_type": "code",
   "execution_count": 10,
   "metadata": {},
   "outputs": [],
   "source": [
    "x_ae = ss_ae.predict(x_test,batch_size=128)\n",
    "x_ae.shape\n",
    "x_enc = encoder.predict(x_test,batch_size=128)"
   ]
  },
  {
   "cell_type": "code",
   "execution_count": 11,
   "metadata": {},
   "outputs": [
    {
     "name": "stdout",
     "output_type": "stream",
     "text": [
      "10000/10000 [==============================] - 0s 26us/step\n"
     ]
    },
    {
     "data": {
      "text/plain": [
       "[1.4512725673675537, 0.6337]"
      ]
     },
     "execution_count": 11,
     "metadata": {},
     "output_type": "execute_result"
    }
   ],
   "source": [
    "classifier.evaluate(x_test,oh_test,batch_size=128)"
   ]
  },
  {
   "cell_type": "code",
   "execution_count": 20,
   "metadata": {},
   "outputs": [
    {
     "data": {
      "text/plain": [
       "<matplotlib.image.AxesImage at 0x7fa5cbec76a0>"
      ]
     },
     "execution_count": 20,
     "metadata": {},
     "output_type": "execute_result"
    },
    {
     "data": {
      "image/png": "[encoded data removed]",
      "text/plain": [
       "<matplotlib.figure.Figure at 0x7fa5cbf587b8>"
      ]
     },
     "metadata": {},
     "output_type": "display_data"
    }
   ],
   "source": [
    "tidx = 20\n",
    "fig,axs = plt.subplots(1,2)\n",
    "axs[0].imshow(x_test[tidx].reshape(28,28))\n",
    "axs[1].imshow(x_ae[tidx].reshape(28,28))"
   ]
  },
  {
   "cell_type": "code",
   "execution_count": 22,
   "metadata": {},
   "outputs": [
    {
     "data": {
      "text/plain": [
       "<matplotlib.image.AxesImage at 0x7fa5cbc47ac8>"
      ]
     },
     "execution_count": 22,
     "metadata": {},
     "output_type": "execute_result"
    },
    {
     "data": {
      "image/png": "[encoded data removed]",
      "text/plain": [
       "<matplotlib.figure.Figure at 0x7fa5cbc87630>"
      ]
     },
     "metadata": {},
     "output_type": "display_data"
    }
   ],
   "source": [
    "obs_y = x_enc[tidx][:10]\n",
    "true_y = oh_test[tidx]\n",
    "lat_z = x_enc[tidx][10:]\n",
    "class_im = np.concatenate([obs_y.reshape(-1,1),true_y.reshape(-1,1)],axis=1)\n",
    "\n",
    "plt.imshow(np.swapaxes(class_im,0,1))"
   ]
  },
  {
   "cell_type": "code",
   "execution_count": 23,
   "metadata": {},
   "outputs": [
    {
     "name": "stdout",
     "output_type": "stream",
     "text": [
      "[0.05298899 0.03012486 0.0296072  0.089744   0.05334315 0.03682609\n",
      " 0.12721923 0.3434303  0.09970608 0.13701004]\n",
      "[0.5361982 0.6743622]\n"
     ]
    }
   ],
   "source": [
    "print(obs_y)\n",
    "print(lat_z)"
   ]
  },
  {
   "cell_type": "code",
   "execution_count": 24,
   "metadata": {},
   "outputs": [],
   "source": [
    "y = x_enc[:,:10]\n",
    "z = x_enc[:,10:]"
   ]
  },
  {
   "cell_type": "code",
   "execution_count": 29,
   "metadata": {},
   "outputs": [
    {
     "data": {
      "text/plain": [
       "(array([[ 5., 15., 12., 23., 22., 13., 30., 26., 23., 34., 31., 29., 20.,\n",
       "         20., 14., 14.,  7.,  4.,  1.,  2.],\n",
       "        [25., 43., 36., 31., 43., 34., 34., 47., 42., 57., 35., 45., 35.,\n",
       "         25., 19., 18., 13., 10.,  6.,  2.],\n",
       "        [40., 48., 46., 41., 37., 47., 46., 30., 32., 41., 43., 37., 31.,\n",
       "         23., 15., 22.,  9.,  4.,  9.,  4.],\n",
       "        [31., 59., 48., 48., 51., 40., 43., 55., 46., 41., 50., 28., 32.,\n",
       "         33., 26., 13.,  6.,  7.,  8.,  1.],\n",
       "        [42., 57., 42., 50., 50., 58., 43., 48., 46., 29., 31., 25., 31.,\n",
       "         16., 19., 13., 12.,  8.,  6.,  2.],\n",
       "        [31., 65., 65., 60., 56., 64., 66., 51., 39., 46., 30., 39., 33.,\n",
       "         25., 24., 16., 17., 12.,  5.,  3.],\n",
       "        [25., 54., 55., 60., 73., 54., 60., 50., 40., 44., 35., 26., 21.,\n",
       "         27., 16., 18.,  9., 11., 10.,  5.],\n",
       "        [19., 43., 48., 58., 67., 65., 65., 54., 50., 43., 30., 27., 35.,\n",
       "         25., 24., 20., 10., 12., 10.,  1.],\n",
       "        [21., 46., 56., 57., 41., 64., 58., 52., 63., 54., 38., 44., 24.,\n",
       "         20., 15., 15., 22., 11.,  6.,  6.],\n",
       "        [11., 46., 55., 37., 44., 51., 60., 57., 52., 52., 35., 32., 32.,\n",
       "         28., 16., 20.,  9., 12.,  5.,  4.],\n",
       "        [ 9., 32., 37., 47., 39., 46., 39., 49., 58., 56., 42., 31., 44.,\n",
       "         30., 23., 40., 21., 13.,  4.,  1.],\n",
       "        [ 7., 27., 28., 30., 63., 43., 38., 47., 55., 45., 44., 32., 39.,\n",
       "         40., 26., 37., 37., 10.,  7.,  7.],\n",
       "        [ 5., 23., 31., 34., 31., 36., 44., 33., 36., 32., 38., 42., 31.,\n",
       "         47., 29., 36., 27., 22.,  3.,  3.],\n",
       "        [ 9., 16., 15., 22., 28., 22., 35., 31., 31., 36., 37., 33., 37.,\n",
       "         43., 33., 33., 36., 20.,  9.,  5.],\n",
       "        [ 3., 10., 21., 16., 32., 28., 24., 26., 35., 21., 23., 28., 37.,\n",
       "         30., 29., 27., 19., 12.,  6.,  2.],\n",
       "        [ 3., 15., 17., 16., 20., 20., 26., 21., 16., 23., 19., 11., 11.,\n",
       "         13., 18., 20., 13., 17.,  2.,  3.],\n",
       "        [ 3.,  7., 13., 15., 13., 18., 19.,  8., 13., 14., 15., 11., 20.,\n",
       "          8.,  9.,  8.,  2.,  3.,  3.,  4.],\n",
       "        [ 2.,  1.,  5.,  4., 12.,  7., 17.,  7.,  6., 14., 10., 15.,  6.,\n",
       "          6.,  5.,  4.,  0.,  3.,  0.,  1.],\n",
       "        [ 0.,  2.,  2.,  4.,  1.,  4.,  3.,  6.,  8.,  9.,  3.,  9.,  6.,\n",
       "          4.,  3.,  3.,  1.,  1.,  2.,  0.],\n",
       "        [ 0.,  0.,  5.,  3.,  6.,  1.,  2.,  2.,  9.,  7.,  7.,  6.,  5.,\n",
       "          6.,  1.,  3.,  0.,  3.,  0.,  1.]]),\n",
       " array([0.00106532, 0.05056408, 0.10006284, 0.1495616 , 0.19906037,\n",
       "        0.24855912, 0.29805788, 0.34755665, 0.3970554 , 0.44655415,\n",
       "        0.49605292, 0.54555166, 0.59505045, 0.6445492 , 0.694048  ,\n",
       "        0.7435467 , 0.79304546, 0.84254426, 0.892043  , 0.9415418 ,\n",
       "        0.9910405 ], dtype=float32),\n",
       " array([5.6438876e-04, 5.0321981e-02, 1.0007957e-01, 1.4983717e-01,\n",
       "        1.9959477e-01, 2.4935237e-01, 2.9910997e-01, 3.4886754e-01,\n",
       "        3.9862514e-01, 4.4838274e-01, 4.9814034e-01, 5.4789793e-01,\n",
       "        5.9765553e-01, 6.4741313e-01, 6.9717073e-01, 7.4692827e-01,\n",
       "        7.9668587e-01, 8.4644347e-01, 8.9620107e-01, 9.4595867e-01,\n",
       "        9.9571627e-01], dtype=float32),\n",
       " <matplotlib.image.AxesImage at 0x7fa5bc169160>)"
      ]
     },
     "execution_count": 29,
     "metadata": {},
     "output_type": "execute_result"
    },
    {
     "data": {
      "image/png": "[encoded data removed]",
      "text/plain": [
       "<matplotlib.figure.Figure at 0x7fa5bc1bb550>"
      ]
     },
     "metadata": {},
     "output_type": "display_data"
    }
   ],
   "source": [
    "plt.hist2d(z[:,0],z[:,1],bins=20);"
   ]
  },
  {
   "cell_type": "code",
   "execution_count": null,
   "metadata": {},
   "outputs": [],
   "source": []
  }
 ],
 "metadata": {
  "kernelspec": {
   "display_name": "Python 3",
   "language": "python",
   "name": "python3"
  },
  "language_info": {
   "codemirror_mode": {
    "name": "ipython",
    "version": 3
   },
   "file_extension": ".py",
   "mimetype": "text/x-python",
   "name": "python",
   "nbconvert_exporter": "python",
   "pygments_lexer": "ipython3",
   "version": "3.5.2"
  }
 },
 "nbformat": 4,
 "nbformat_minor": 2
}
