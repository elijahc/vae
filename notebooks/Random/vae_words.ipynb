{
 "cells": [
  {
   "cell_type": "code",
   "execution_count": 49,
   "metadata": {},
   "outputs": [],
   "source": [
    "import numpy as np\n",
    "import matplotlib.pyplot as plt\n",
    "%matplotlib inline\n",
    "\n",
    "from jzl.datasets.emnist import load_byclass,load_letters"
   ]
  },
  {
   "cell_type": "code",
   "execution_count": 55,
   "metadata": {},
   "outputs": [],
   "source": [
    "(x_train,y_train,w_train),test = load_byclass()"
   ]
  },
  {
   "cell_type": "code",
   "execution_count": 56,
   "metadata": {},
   "outputs": [],
   "source": [
    "y_digit = y_train\n",
    "classes = np.unique(y_train)\n",
    "masks = [y_digit==i for i in classes]"
   ]
  },
  {
   "cell_type": "code",
   "execution_count": 57,
   "metadata": {},
   "outputs": [
    {
     "data": {
      "text/plain": [
       "array([[  0,   0,   0,   0,   0,   0,   0,   0,   0,   0,   0,   0,   0,\n",
       "          0,   0,   0,   0,   0,   0,   0,   0,   0,   0,   0,   0,   0,\n",
       "          0,   0],\n",
       "       [  0,   0,   0,   0,   0,   0,   0,   0,   0,   0,   0,   0,   0,\n",
       "          0,   0,   0,   0,   0,   0,   0,   0,   0,   0,   0,   0,   0,\n",
       "          0,   0],\n",
       "       [  0,   0,   0,   0,   0,   0,   0,   0,   0,   0,   0,   0,   0,\n",
       "          0,   0,   0,   5,  32,  37,  32,   5,   0,   0,   0,   0,   0,\n",
       "          0,   0],\n",
       "       [  0,   0,   0,   0,   0,   0,   0,   0,   0,   0,   0,   0,   0,\n",
       "          0,   5,  35,  63, 191, 213, 185,  32,   0,   0,   0,   0,   0,\n",
       "          0,   0],\n",
       "       [  0,   0,   0,   0,   0,   0,   0,   0,   0,   0,   0,   0,   0,\n",
       "          0,  20, 111, 143, 232, 246, 214,  38,   0,   0,   0,   0,   0,\n",
       "          0,   0],\n",
       "       [  0,   0,   0,   0,   0,   0,   0,   0,   0,   0,   0,   0,   0,\n",
       "         20, 100, 230, 249, 254, 253, 234, 100,  20,   5,   0,   0,   0,\n",
       "          0,   0],\n",
       "       [  0,   0,   0,   0,   0,   0,   0,   0,   0,   0,   0,   7,  23,\n",
       "        127, 231, 253, 252, 250, 252, 253, 231, 122,  45,   0,   0,   0,\n",
       "          0,   0],\n",
       "       [  0,   0,   0,   0,   0,   0,   0,   0,   0,   0,   3,  34,  80,\n",
       "        187, 249, 246, 234, 218, 234, 248, 250, 170,  82,   2,   0,   0,\n",
       "          0,   0],\n",
       "       [  0,   0,   0,   0,   0,   0,   0,   0,   1,   8,  79, 175, 220,\n",
       "        250, 221, 128,  84,  41,  96, 164, 247, 220, 139,   9,   0,   0,\n",
       "          0,   0],\n",
       "       [  0,   0,   0,   0,   0,   0,   0,   0,  23,  80, 218, 252, 253,\n",
       "        221,  91,  10,   3,   0,  10,  47, 209, 244, 204,  32,   0,   0,\n",
       "          0,   0],\n",
       "       [  0,   0,   0,   0,   0,   0,   0,  20, 127, 187, 252, 252, 243,\n",
       "        127,  10,   0,   0,   0,   0,  10, 142, 246, 218,  39,   0,   0,\n",
       "          0,   0],\n",
       "       [  0,   0,   0,   0,   0,   0,   1,  47, 195, 233, 254, 234, 207,\n",
       "         78,   3,   0,   0,   0,   0,  10, 142, 247, 222,  51,   0,   0,\n",
       "          0,   0],\n",
       "       [  0,   0,   0,   0,   0,   7,  33, 164, 247, 254, 250, 144,  64,\n",
       "          7,   0,   0,   0,   0,   3,  28, 192, 253, 245, 112,   3,   0,\n",
       "          0,   0],\n",
       "       [  0,   0,   0,   0,   0,  46, 127, 244, 254, 249, 207,  77,  20,\n",
       "          0,   0,   0,   0,   0,   3,  27, 186, 250, 232,  82,   2,   0,\n",
       "          0,   0],\n",
       "       [  0,   0,   0,   0,   3,  83, 171, 252, 252, 234, 132,  32,   7,\n",
       "          0,   0,   0,   0,   0,  10,  48, 210, 245, 209,  46,   0,   0,\n",
       "          0,   0],\n",
       "       [  0,   0,   0,   0,  34, 175, 233, 254, 220, 160,  23,   0,   0,\n",
       "          0,   0,   0,   0,   2,  77, 159, 247, 220, 139,   9,   0,   0,\n",
       "          0,   0],\n",
       "       [  0,   0,   0,   4, 113, 244, 253, 246, 128,  47,   1,   0,   0,\n",
       "          0,   0,   0,   0,  12, 140, 220, 251, 171,  82,   2,   0,   0,\n",
       "          0,   0],\n",
       "       [  0,   0,   0,   4, 126, 250, 254, 234,  84,  22,   0,   0,   0,\n",
       "          0,   0,   0,   5,  47, 178, 234, 244, 127,  46,   0,   0,   0,\n",
       "          0,   0],\n",
       "       [  0,   0,   0,   4, 127, 250, 255, 218,  39,   5,   0,   0,   0,\n",
       "          0,   1,  23,  59, 196, 247, 251, 175,  34,   7,   0,   0,   0,\n",
       "          0,   0],\n",
       "       [  0,   0,   0,   4, 127, 250, 255, 218,  41,   7,   0,   0,   3,\n",
       "         21,  52, 160, 208, 249, 250, 230,  83,   3,   0,   0,   0,   0,\n",
       "          0,   0],\n",
       "       [  0,   0,   0,   4, 126, 250, 254, 236, 133,  85,  39,  51,  84,\n",
       "        171, 220, 248, 253, 246, 175, 123,  20,   0,   0,   0,   0,   0,\n",
       "          0,   0],\n",
       "       [  0,   0,   0,   4, 113, 244, 253, 249, 209, 173, 129, 141, 173,\n",
       "        232, 250, 254, 253, 219,  95,  47,   5,   0,   0,   0,   0,   0,\n",
       "          0,   0],\n",
       "       [  0,   0,   0,   0,  33, 163, 219, 252, 254, 252, 250, 251, 252,\n",
       "        254, 248, 220, 203,  91,   9,   1,   0,   0,   0,   0,   0,   0,\n",
       "          0,   0],\n",
       "       [  0,   0,   0,   0,   1,  33,  79, 171, 232, 245, 250, 250, 245,\n",
       "        220, 159,  52,  34,   7,   0,   0,   0,   0,   0,   0,   0,   0,\n",
       "          0,   0],\n",
       "       [  0,   0,   0,   0,   0,   0,   3,  22,  82, 114, 127, 126, 114,\n",
       "         50,  20,   1,   0,   0,   0,   0,   0,   0,   0,   0,   0,   0,\n",
       "          0,   0],\n",
       "       [  0,   0,   0,   0,   0,   0,   0,   3,  21,  32,  37,  37,  32,\n",
       "          9,   2,   0,   0,   0,   0,   0,   0,   0,   0,   0,   0,   0,\n",
       "          0,   0],\n",
       "       [  0,   0,   0,   0,   0,   0,   0,   0,   0,   0,   0,   0,   0,\n",
       "          0,   0,   0,   0,   0,   0,   0,   0,   0,   0,   0,   0,   0,\n",
       "          0,   0],\n",
       "       [  0,   0,   0,   0,   0,   0,   0,   0,   0,   0,   0,   0,   0,\n",
       "          0,   0,   0,   0,   0,   0,   0,   0,   0,   0,   0,   0,   0,\n",
       "          0,   0]], dtype=uint8)"
      ]
     },
     "execution_count": 57,
     "metadata": {},
     "output_type": "execute_result"
    }
   ],
   "source": [
    "x_train[masks[0]][45].reshape(28,28).T"
   ]
  },
  {
   "cell_type": "code",
   "execution_count": 38,
   "metadata": {},
   "outputs": [],
   "source": [
    "cat_letters = [3,1,20]"
   ]
  },
  {
   "cell_type": "code",
   "execution_count": 71,
   "metadata": {},
   "outputs": [
    {
     "data": {
      "text/plain": [
       "<matplotlib.image.AxesImage at 0x7fcbde4e0d30>"
      ]
     },
     "execution_count": 71,
     "metadata": {},
     "output_type": "execute_result"
    },
    {
     "data": {
      "image/png": "[encoded data removed]",
      "text/plain": [
       "<matplotlib.figure.Figure at 0x7fcbde38fcc0>"
      ]
     },
     "metadata": {},
     "output_type": "display_data"
    }
   ],
   "source": [
    "im = x_train[masks[37]][45].reshape(28,28).T\n",
    "plt.imshow(im)"
   ]
  },
  {
   "cell_type": "code",
   "execution_count": 44,
   "metadata": {},
   "outputs": [
    {
     "data": {
      "image/png": "[encoded data removed]",
      "text/plain": [
       "<matplotlib.figure.Figure at 0x7fcbde2ccbe0>"
      ]
     },
     "metadata": {},
     "output_type": "display_data"
    }
   ],
   "source": [
    "ims = [x_train[masks[l]][50].reshape(28,28).T for l in cat_letters]\n",
    "\n",
    "fig,axs = plt.subplots(1,3)\n",
    "\n",
    "for im,ax in zip(ims,axs):\n",
    "    ax.imshow(im)"
   ]
  },
  {
   "cell_type": "code",
   "execution_count": null,
   "metadata": {},
   "outputs": [],
   "source": []
  }
 ],
 "metadata": {
  "kernelspec": {
   "display_name": "Python 3",
   "language": "python",
   "name": "python3"
  },
  "language_info": {
   "codemirror_mode": {
    "name": "ipython",
    "version": 3
   },
   "file_extension": ".py",
   "mimetype": "text/x-python",
   "name": "python",
   "nbconvert_exporter": "python",
   "pygments_lexer": "ipython3",
   "version": "3.5.2"
  }
 },
 "nbformat": 4,
 "nbformat_minor": 2
}
