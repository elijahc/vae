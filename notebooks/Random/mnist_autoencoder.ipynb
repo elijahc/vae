{
 "cells": [
  {
   "cell_type": "code",
   "execution_count": 1,
   "metadata": {},
   "outputs": [
    {
     "name": "stderr",
     "output_type": "stream",
     "text": [
      "/home/elijahc/.pyenv/versions/3.5.2/envs/jupyterlab/lib/python3.5/site-packages/h5py/__init__.py:36: FutureWarning: Conversion of the second argument of issubdtype from `float` to `np.floating` is deprecated. In future, it will be treated as `np.float64 == np.dtype(float).type`.\n",
      "  from ._conv import register_converters as _register_converters\n",
      "Using TensorFlow backend.\n"
     ]
    }
   ],
   "source": [
    "import os\n",
    "import numpy as np\n",
    "import pandas as pd\n",
    "import matplotlib.pyplot as plt\n",
    "%matplotlib inline\n",
    "import seaborn as sns\n",
    "\n",
    "from keras.layers import Dense,Input,Lambda\n",
    "from keras.models import Model\n",
    "import keras.backend as K"
   ]
  },
  {
   "cell_type": "code",
   "execution_count": 2,
   "metadata": {},
   "outputs": [],
   "source": [
    "from src.models import build_dense,CachedModel\n",
    "from src.utils import process_mnist,get_encoder,get_decoder, get_transcoder\n",
    "from src.plot import example_results"
   ]
  },
  {
   "cell_type": "code",
   "execution_count": 3,
   "metadata": {},
   "outputs": [
    {
     "name": "stdout",
     "output_type": "stream",
     "text": [
      "(60000, 784)\n",
      "(10000, 784)\n"
     ]
    }
   ],
   "source": [
    "(x_train,y_train), (x_test,y_test) = process_mnist()\n",
    "input_shape=(784,)\n",
    "print(x_train.shape)\n",
    "print(x_test.shape)"
   ]
  },
  {
   "cell_type": "code",
   "execution_count": 4,
   "metadata": {},
   "outputs": [
    {
     "data": {
      "text/plain": [
       "[<tf.Tensor 'dense_6/Sigmoid:0' shape=(?, 784) dtype=float32>]"
      ]
     },
     "execution_count": 4,
     "metadata": {},
     "output_type": "execute_result"
    }
   ],
   "source": [
    "# Lets build a vanilla autoencoder!\n",
    "encoding_dim = 32\n",
    "inputs = Input(shape=input_shape)\n",
    "encoded = build_dense(inputs,[128,64,encoding_dim],activations='relu')\n",
    "decoded = build_dense(encoded,[64,128,784],activations=['relu','relu','sigmoid'])\n",
    "ae_mod = Model(inputs,decoded)\n",
    "ae_mod.outputs\n",
    "# autoencoder = LazyModel(ae_mod,name='AE_3_layer')\n",
    "# autoencoder.compile(optimizer='adadelta',loss='binary_crossentropy')"
   ]
  },
  {
   "cell_type": "code",
   "execution_count": 5,
   "metadata": {},
   "outputs": [
    {
     "name": "stdout",
     "output_type": "stream",
     "text": [
      "Loading Cached Model: models/2018-04-07/AE_3_layer\n"
     ]
    }
   ],
   "source": [
    "autoencoder = CachedModel(inputs,decoded,name='AE_3_layer',verbose=1)"
   ]
  },
  {
   "cell_type": "code",
   "execution_count": 6,
   "metadata": {},
   "outputs": [
    {
     "name": "stdout",
     "output_type": "stream",
     "text": [
      "Cached to: \n",
      " /home/elijahc/projects/vae/models/2018-04-07/AE_3_layer/model.h5\n"
     ]
    }
   ],
   "source": [
    "autoencoder.compile(optimizer='adadelta',loss='binary_crossentropy')"
   ]
  },
  {
   "cell_type": "code",
   "execution_count": 7,
   "metadata": {},
   "outputs": [],
   "source": [
    "encoder=get_encoder(autoencoder)\n",
    "encoded_input = Input(shape=(encoding_dim,))\n",
    "decoder=get_decoder(autoencoder,encoded_input)"
   ]
  },
  {
   "cell_type": "code",
   "execution_count": 8,
   "metadata": {},
   "outputs": [
    {
     "name": "stdout",
     "output_type": "stream",
     "text": [
      "_________________________________________________________________\n",
      "Layer (type)                 Output Shape              Param #   \n",
      "=================================================================\n",
      "input_1 (InputLayer)         (None, 784)               0         \n",
      "_________________________________________________________________\n",
      "dense_1 (Dense)              (None, 128)               100480    \n",
      "_________________________________________________________________\n",
      "dense_2 (Dense)              (None, 64)                8256      \n",
      "_________________________________________________________________\n",
      "dense_3 (Dense)              (None, 32)                2080      \n",
      "_________________________________________________________________\n",
      "dense_4 (Dense)              (None, 64)                2112      \n",
      "_________________________________________________________________\n",
      "dense_5 (Dense)              (None, 128)               8320      \n",
      "_________________________________________________________________\n",
      "dense_6 (Dense)              (None, 784)               101136    \n",
      "=================================================================\n",
      "Total params: 222,384\n",
      "Trainable params: 222,384\n",
      "Non-trainable params: 0\n",
      "_________________________________________________________________\n"
     ]
    }
   ],
   "source": [
    "autoencoder.summary()"
   ]
  },
  {
   "cell_type": "code",
   "execution_count": 9,
   "metadata": {},
   "outputs": [
    {
     "name": "stdout",
     "output_type": "stream",
     "text": [
      "Train on 60000 samples, validate on 10000 samples\n",
      "Epoch 1/50\n",
      "60000/60000 [==============================] - 3s 49us/step - loss: 0.3356 - val_loss: 0.2631\n",
      "Epoch 2/50\n",
      "60000/60000 [==============================] - 3s 45us/step - loss: 0.2518 - val_loss: 0.2440\n",
      "Epoch 3/50\n",
      "60000/60000 [==============================] - 3s 45us/step - loss: 0.2380 - val_loss: 0.2282\n",
      "Epoch 4/50\n",
      "60000/60000 [==============================] - 3s 45us/step - loss: 0.2217 - val_loss: 0.2109\n",
      "Epoch 5/50\n",
      "60000/60000 [==============================] - 3s 45us/step - loss: 0.2039 - val_loss: 0.1946\n",
      "Epoch 6/50\n",
      "60000/60000 [==============================] - 3s 45us/step - loss: 0.1905 - val_loss: 0.1858\n",
      "Epoch 7/50\n",
      "60000/60000 [==============================] - 3s 45us/step - loss: 0.1839 - val_loss: 0.1801\n",
      "Epoch 8/50\n",
      "60000/60000 [==============================] - 3s 45us/step - loss: 0.1790 - val_loss: 0.1776\n",
      "Epoch 9/50\n",
      "60000/60000 [==============================] - 3s 45us/step - loss: 0.1749 - val_loss: 0.1717\n",
      "Epoch 10/50\n",
      "60000/60000 [==============================] - 3s 45us/step - loss: 0.1710 - val_loss: 0.1671\n",
      "Epoch 11/50\n",
      "60000/60000 [==============================] - 3s 45us/step - loss: 0.1666 - val_loss: 0.1636\n",
      "Epoch 12/50\n",
      "60000/60000 [==============================] - 3s 45us/step - loss: 0.1619 - val_loss: 0.1583\n",
      "Epoch 13/50\n",
      "60000/60000 [==============================] - 3s 45us/step - loss: 0.1575 - val_loss: 0.1533\n",
      "Epoch 14/50\n",
      "60000/60000 [==============================] - 3s 45us/step - loss: 0.1532 - val_loss: 0.1516\n",
      "Epoch 15/50\n",
      "60000/60000 [==============================] - 3s 45us/step - loss: 0.1497 - val_loss: 0.1469\n",
      "Epoch 16/50\n",
      "60000/60000 [==============================] - 3s 45us/step - loss: 0.1467 - val_loss: 0.1458\n",
      "Epoch 17/50\n",
      "60000/60000 [==============================] - 3s 45us/step - loss: 0.1445 - val_loss: 0.1414\n",
      "Epoch 18/50\n",
      "60000/60000 [==============================] - 3s 45us/step - loss: 0.1426 - val_loss: 0.1410\n",
      "Epoch 19/50\n",
      "60000/60000 [==============================] - 3s 45us/step - loss: 0.1410 - val_loss: 0.1389\n",
      "Epoch 20/50\n",
      "60000/60000 [==============================] - 3s 45us/step - loss: 0.1395 - val_loss: 0.1387\n",
      "Epoch 21/50\n",
      "60000/60000 [==============================] - 3s 45us/step - loss: 0.1383 - val_loss: 0.1365\n",
      "Epoch 22/50\n",
      "60000/60000 [==============================] - 3s 45us/step - loss: 0.1369 - val_loss: 0.1335\n",
      "Epoch 23/50\n",
      "60000/60000 [==============================] - 3s 45us/step - loss: 0.1357 - val_loss: 0.1331\n",
      "Epoch 24/50\n",
      "60000/60000 [==============================] - 3s 45us/step - loss: 0.1345 - val_loss: 0.1348\n",
      "Epoch 25/50\n",
      "60000/60000 [==============================] - 3s 45us/step - loss: 0.1334 - val_loss: 0.1318\n",
      "Epoch 26/50\n",
      "60000/60000 [==============================] - 3s 45us/step - loss: 0.1323 - val_loss: 0.1310\n",
      "Epoch 27/50\n",
      "60000/60000 [==============================] - 3s 45us/step - loss: 0.1310 - val_loss: 0.1290\n",
      "Epoch 28/50\n",
      "60000/60000 [==============================] - 3s 45us/step - loss: 0.1300 - val_loss: 0.1274\n",
      "Epoch 29/50\n",
      "60000/60000 [==============================] - 3s 45us/step - loss: 0.1290 - val_loss: 0.1257\n",
      "Epoch 30/50\n",
      "60000/60000 [==============================] - 3s 45us/step - loss: 0.1280 - val_loss: 0.1261\n",
      "Epoch 31/50\n",
      "60000/60000 [==============================] - 3s 45us/step - loss: 0.1273 - val_loss: 0.1246\n",
      "Epoch 32/50\n",
      "60000/60000 [==============================] - 3s 45us/step - loss: 0.1265 - val_loss: 0.1260\n",
      "Epoch 33/50\n",
      "60000/60000 [==============================] - 3s 45us/step - loss: 0.1256 - val_loss: 0.1243\n",
      "Epoch 34/50\n",
      "60000/60000 [==============================] - 3s 45us/step - loss: 0.1250 - val_loss: 0.1244\n",
      "Epoch 35/50\n",
      "60000/60000 [==============================] - 3s 45us/step - loss: 0.1242 - val_loss: 0.1226\n",
      "Epoch 36/50\n",
      "60000/60000 [==============================] - 3s 45us/step - loss: 0.1236 - val_loss: 0.1216\n",
      "Epoch 37/50\n",
      "60000/60000 [==============================] - 3s 45us/step - loss: 0.1228 - val_loss: 0.1201\n",
      "Epoch 38/50\n",
      "60000/60000 [==============================] - 3s 45us/step - loss: 0.1221 - val_loss: 0.1211\n",
      "Epoch 39/50\n",
      "60000/60000 [==============================] - 3s 45us/step - loss: 0.1214 - val_loss: 0.1187\n",
      "Epoch 40/50\n",
      "60000/60000 [==============================] - 3s 45us/step - loss: 0.1208 - val_loss: 0.1194\n",
      "Epoch 41/50\n",
      "60000/60000 [==============================] - 3s 45us/step - loss: 0.1201 - val_loss: 0.1191\n",
      "Epoch 42/50\n",
      "60000/60000 [==============================] - 3s 45us/step - loss: 0.1195 - val_loss: 0.1188\n",
      "Epoch 43/50\n",
      "60000/60000 [==============================] - 3s 45us/step - loss: 0.1189 - val_loss: 0.1174\n",
      "Epoch 44/50\n",
      "60000/60000 [==============================] - 3s 45us/step - loss: 0.1184 - val_loss: 0.1171\n",
      "Epoch 45/50\n",
      "60000/60000 [==============================] - 3s 45us/step - loss: 0.1178 - val_loss: 0.1156\n",
      "Epoch 46/50\n",
      "60000/60000 [==============================] - 3s 45us/step - loss: 0.1174 - val_loss: 0.1157\n",
      "Epoch 47/50\n",
      "60000/60000 [==============================] - 3s 45us/step - loss: 0.1169 - val_loss: 0.1153\n",
      "Epoch 48/50\n",
      "60000/60000 [==============================] - 3s 45us/step - loss: 0.1164 - val_loss: 0.1167\n",
      "Epoch 49/50\n",
      "60000/60000 [==============================] - 3s 46us/step - loss: 0.1159 - val_loss: 0.1150\n",
      "Epoch 50/50\n",
      "60000/60000 [==============================] - 3s 45us/step - loss: 0.1154 - val_loss: 0.1137\n",
      "caching weights to: \n",
      " /home/elijahc/projects/vae/models/2018-04-07/AE_3_layer/trained_weights/weights.h5\n"
     ]
    }
   ],
   "source": [
    "autoencoder.fit(x_train,x_train,\n",
    "               epochs=50,\n",
    "               batch_size=256,\n",
    "               shuffle=True,\n",
    "               validation_data=(x_test,x_test))"
   ]
  },
  {
   "cell_type": "code",
   "execution_count": 10,
   "metadata": {},
   "outputs": [],
   "source": [
    "encoded_imgs = encoder.predict(x_test)\n",
    "decoded_imgs = decoder.predict(encoded_imgs)"
   ]
  },
  {
   "cell_type": "code",
   "execution_count": 11,
   "metadata": {},
   "outputs": [
    {
     "ename": "NameError",
     "evalue": "name 'transcoder' is not defined",
     "output_type": "error",
     "traceback": [
      "\u001b[0;31m---------------------------------------------------------------------------\u001b[0m",
      "\u001b[0;31mNameError\u001b[0m                                 Traceback (most recent call last)",
      "\u001b[0;32m<ipython-input-11-881e143fe9d7>\u001b[0m in \u001b[0;36m<module>\u001b[0;34m()\u001b[0m\n\u001b[0;32m----> 1\u001b[0;31m \u001b[0mexample_results\u001b[0m\u001b[0;34m(\u001b[0m\u001b[0mx_test\u001b[0m\u001b[0;34m,\u001b[0m\u001b[0mencoder\u001b[0m\u001b[0;34m,\u001b[0m\u001b[0mdecoder\u001b[0m\u001b[0;34m,\u001b[0m\u001b[0mshuffle\u001b[0m\u001b[0;34m=\u001b[0m\u001b[0;32mTrue\u001b[0m\u001b[0;34m)\u001b[0m\u001b[0;34m\u001b[0m\u001b[0m\n\u001b[0m",
      "\u001b[0;32m~/projects/vae/notebooks/src/plot.py\u001b[0m in \u001b[0;36mexample_results\u001b[0;34m(test_set, encoder, decoder, n, shuffle)\u001b[0m\n\u001b[1;32m      4\u001b[0m \u001b[0;34m\u001b[0m\u001b[0m\n\u001b[1;32m      5\u001b[0m \u001b[0;32mdef\u001b[0m \u001b[0mexample_results\u001b[0m\u001b[0;34m(\u001b[0m\u001b[0mtest_set\u001b[0m\u001b[0;34m,\u001b[0m\u001b[0mencoder\u001b[0m\u001b[0;34m,\u001b[0m\u001b[0mdecoder\u001b[0m\u001b[0;34m,\u001b[0m\u001b[0mn\u001b[0m\u001b[0;34m=\u001b[0m\u001b[0;36m10\u001b[0m\u001b[0;34m,\u001b[0m\u001b[0mshuffle\u001b[0m\u001b[0;34m=\u001b[0m\u001b[0;32mFalse\u001b[0m\u001b[0;34m)\u001b[0m\u001b[0;34m:\u001b[0m\u001b[0;34m\u001b[0m\u001b[0m\n\u001b[0;32m----> 6\u001b[0;31m     \u001b[0mtransc\u001b[0m \u001b[0;34m=\u001b[0m \u001b[0mtranscoder\u001b[0m\u001b[0;34m(\u001b[0m\u001b[0mencoder\u001b[0m\u001b[0;34m,\u001b[0m\u001b[0mdecoder\u001b[0m\u001b[0;34m)\u001b[0m\u001b[0;34m\u001b[0m\u001b[0m\n\u001b[0m\u001b[1;32m      7\u001b[0m     \u001b[0;32mif\u001b[0m \u001b[0mshuffle\u001b[0m \u001b[0;32mis\u001b[0m \u001b[0;32mTrue\u001b[0m\u001b[0;34m:\u001b[0m\u001b[0;34m\u001b[0m\u001b[0m\n\u001b[1;32m      8\u001b[0m         \u001b[0mnp\u001b[0m\u001b[0;34m.\u001b[0m\u001b[0mrandom\u001b[0m\u001b[0;34m.\u001b[0m\u001b[0mshuffle\u001b[0m\u001b[0;34m(\u001b[0m\u001b[0mtest_set\u001b[0m\u001b[0;34m)\u001b[0m\u001b[0;34m\u001b[0m\u001b[0m\n",
      "\u001b[0;31mNameError\u001b[0m: name 'transcoder' is not defined"
     ]
    }
   ],
   "source": [
    "example_results(x_test,encoder,decoder,shuffle=True)"
   ]
  },
  {
   "cell_type": "code",
   "execution_count": null,
   "metadata": {},
   "outputs": [],
   "source": []
  }
 ],
 "metadata": {
  "kernelspec": {
   "display_name": "Python 3",
   "language": "python",
   "name": "python3"
  },
  "language_info": {
   "codemirror_mode": {
    "name": "ipython",
    "version": 3
   },
   "file_extension": ".py",
   "mimetype": "text/x-python",
   "name": "python",
   "nbconvert_exporter": "python",
   "pygments_lexer": "ipython3",
   "version": "3.5.2"
  }
 },
 "nbformat": 4,
 "nbformat_minor": 2
}
