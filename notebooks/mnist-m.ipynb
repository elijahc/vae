{
 "cells": [
  {
   "cell_type": "code",
   "execution_count": 1,
   "metadata": {},
   "outputs": [
    {
     "name": "stderr",
     "output_type": "stream",
     "text": [
      "Using TensorFlow backend.\n"
     ]
    }
   ],
   "source": [
    "%matplotlib inline\n",
    "import pickle\n",
    "import matplotlib.pyplot as plt\n",
    "import numpy as np\n",
    "import tarfile\n",
    "import skimage.io\n",
    "import skimage.transform\n",
    "from edcutils.datasets import bsds500\n",
    "from edcutils.image import get_patch\n",
    "from src.data_loader import Shifted_Data_Loader, norm_im"
   ]
  },
  {
   "cell_type": "code",
   "execution_count": 2,
   "metadata": {},
   "outputs": [
    {
     "name": "stdout",
     "output_type": "stream",
     "text": [
      "input_shape:  (56, 56, 1)\n",
      "dataset:  fashion_mnist\n",
      "background:  natural\n",
      "blend mode:  difference\n",
      "scale:  2\n",
      "tx_max:  0.6\n",
      "rot_max:  None\n",
      "contrast_level:  1\n",
      "noise_mode:  None\n"
     ]
    },
    {
     "name": "stderr",
     "output_type": "stream",
     "text": [
      "train images:   0%|          | 0/60000 [00:00<?, ?it/s]"
     ]
    },
    {
     "name": "stdout",
     "output_type": "stream",
     "text": [
      "sx_train:  (60000, 56, 56, 1)\n",
      "transforming: \n"
     ]
    },
    {
     "name": "stderr",
     "output_type": "stream",
     "text": [
      "train images: 100%|██████████| 60000/60000 [00:01<00:00, 32379.83it/s]\n",
      "test_images:  36%|███▋      | 3632/10000 [00:00<00:00, 36314.58it/s]"
     ]
    },
    {
     "name": "stdout",
     "output_type": "stream",
     "text": [
      "making testing data...\n"
     ]
    },
    {
     "name": "stderr",
     "output_type": "stream",
     "text": [
      "test_images: 100%|██████████| 10000/10000 [00:00<00:00, 36556.00it/s]\n"
     ]
    }
   ],
   "source": [
    "DL = Shifted_Data_Loader('fashion_mnist',\n",
    "                         rotation=None,translation=0.6,flatten=False,bg='natural',blend='difference',\n",
    "                        )"
   ]
  },
  {
   "cell_type": "code",
   "execution_count": 3,
   "metadata": {},
   "outputs": [
    {
     "data": {
      "text/plain": [
       "(10000, 56, 56, 1)"
      ]
     },
     "execution_count": 3,
     "metadata": {},
     "output_type": "execute_result"
    },
    {
     "data": {
      "image/png": "[encoded data removed]",
      "text/plain": [
       "<Figure size 432x288 with 1 Axes>"
      ]
     },
     "metadata": {
      "needs_background": "light"
     },
     "output_type": "display_data"
    }
   ],
   "source": [
    "idx = np.random.choice(np.arange(60000))\n",
    "# DL.add_noise(DL.sx_test,bg,DL.fg_mask_test)\n",
    "plt.imshow(DL.sx_train[idx].reshape(56,56),cmap='gray')\n",
    "DL.sx_test.shape"
   ]
  },
  {
   "cell_type": "code",
   "execution_count": null,
   "metadata": {},
   "outputs": [],
   "source": []
  }
 ],
 "metadata": {
  "kernelspec": {
   "display_name": "Py3-GPU (Python3.5.2)",
   "language": "python",
   "name": "py3-gpu"
  },
  "language_info": {
   "codemirror_mode": {
    "name": "ipython",
    "version": 3
   },
   "file_extension": ".py",
   "mimetype": "text/x-python",
   "name": "python",
   "nbconvert_exporter": "python",
   "pygments_lexer": "ipython3",
   "version": "3.5.2"
  }
 },
 "nbformat": 4,
 "nbformat_minor": 2
}
