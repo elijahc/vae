{
 "cells": [
  {
   "cell_type": "code",
   "execution_count": 1,
   "metadata": {},
   "outputs": [
    {
     "name": "stderr",
     "output_type": "stream",
     "text": [
      "Using TensorFlow backend.\n"
     ]
    }
   ],
   "source": [
    "import os\n",
    "import json\n",
    "import numpy as np\n",
    "import pandas as pd\n",
    "import scipy\n",
    "\n",
    "import matplotlib.pyplot as plt\n",
    "import seaborn as sns\n",
    "%matplotlib inline\n",
    "\n",
    "from src.data_loader import Shifted_Data_Loader\n",
    "from src.plot import orig_vs_transformed as plot_ovt\n",
    "from src.plot import enc_dec_samples\n",
    "from src.models import GResNet,EDense\n",
    "from src.config import get_config\n",
    "from src.trainer import Trainer\n",
    "from src.utils import prepare_dirs_and_logger\n",
    "from keras.datasets import fashion_mnist,mnist\n",
    "from keras.layers import Dense\n",
    "from keras.models import Model\n",
    "# from tabulate import tabulate"
   ]
  },
  {
   "cell_type": "code",
   "execution_count": 2,
   "metadata": {},
   "outputs": [
    {
     "data": {
      "text/plain": [
       "{'batch_size': 512,\n",
       " 'data_dir': 'data',\n",
       " 'dataset': 'mnist',\n",
       " 'dec_blocks': [4, 2, 1],\n",
       " 'dev_mode': True,\n",
       " 'enc_layers': [3000, 2000],\n",
       " 'epochs': 100,\n",
       " 'log_dir': '../logs',\n",
       " 'log_level': 'INFO',\n",
       " 'min_delta': 0.5,\n",
       " 'monitor': 'val_G_loss',\n",
       " 'optimizer': 'adam',\n",
       " 'recon': 5,\n",
       " 'xcov': 1000,\n",
       " 'xent': 10,\n",
       " 'y_dim': 10,\n",
       " 'z_dim': 10}"
      ]
     },
     "execution_count": 2,
     "metadata": {},
     "output_type": "execute_result"
    }
   ],
   "source": [
    "config,_ = get_config()\n",
    "setattr(config, 'batch_size', 512)\n",
    "setattr(config, 'dataset', 'mnist')\n",
    "setattr(config, 'epochs', 100)\n",
    "setattr(config, 'enc_layers', [3000,2000])\n",
    "setattr(config, 'dec_blocks', [4,2,1])\n",
    "setattr(config, 'z_dim', 10)\n",
    "setattr(config, 'xcov', 1000)\n",
    "setattr(config, 'recon', 5)\n",
    "setattr(config, 'log_dir', '../logs')\n",
    "setattr(config, 'dev_mode',True)\n",
    "setattr(config, 'monitor', 'val_G_loss')\n",
    "setattr(config, 'min_delta', 0.5)\n",
    "# setattr(config, 'xcov', None)\n",
    "setattr(config, 'optimizer', 'adam')\n",
    "\n",
    "vars(config)"
   ]
  },
  {
   "cell_type": "code",
   "execution_count": 3,
   "metadata": {},
   "outputs": [],
   "source": [
    "if not config.dev_mode:\n",
    "    print('setting up...')\n",
    "    prepare_dirs_and_logger(config)\n",
    "    \n",
    "    with open(os.path.join(config.model_dir,'params.json'), 'w') as fp:\n",
    "        json.dump(vars(config), fp)"
   ]
  },
  {
   "cell_type": "code",
   "execution_count": 4,
   "metadata": {},
   "outputs": [
    {
     "name": "stdout",
     "output_type": "stream",
     "text": [
      "input_shape:  (3136,)\n",
      "dataset:  mnist\n",
      "scale:  2\n",
      "tx_max:  0.9\n",
      "rot_max:  None\n",
      "loading mnist...\n",
      "sx_train:  (60000, 3136)\n",
      "making training data...\n",
      "making testing data...\n"
     ]
    }
   ],
   "source": [
    "DL = Shifted_Data_Loader(dataset=config.dataset,flatten=True,\n",
    "                         rotation=None,\n",
    "#                          rotation=0.15,\n",
    "                         translation=0.9,\n",
    "                        )"
   ]
  },
  {
   "cell_type": "code",
   "execution_count": 5,
   "metadata": {},
   "outputs": [
    {
     "name": "stdout",
     "output_type": "stream",
     "text": [
      "building encoder...\n",
      "building decoder/generator...\n"
     ]
    }
   ],
   "source": [
    "G_builder = GResNet(y_dim=config.y_dim,z_dim=config.z_dim,dec_blocks=config.dec_blocks)\n",
    "E_builder = EDense(enc_layers=config.enc_layers,z_dim=config.z_dim,)\n",
    "trainer = Trainer(config,DL,E_builder,G_builder,)"
   ]
  },
  {
   "cell_type": "code",
   "execution_count": 6,
   "metadata": {},
   "outputs": [
    {
     "data": {
      "image/png": "[encoded data removed]",
      "text/plain": [
       "<Figure size 432x288 with 2 Axes>"
      ]
     },
     "metadata": {
      "needs_background": "light"
     },
     "output_type": "display_data"
    }
   ],
   "source": [
    "pt,idx = plot_ovt(DL,cmap='gray')"
   ]
  },
  {
   "cell_type": "code",
   "execution_count": 7,
   "metadata": {},
   "outputs": [],
   "source": [
    "# trainer.build_model()\n",
    "trainer.compile_model()\n",
    "z_encoder = Model(trainer.E.input,trainer.z_lat)\n",
    "classifier = Model(trainer.E.input,trainer.y_class)"
   ]
  },
  {
   "cell_type": "code",
   "execution_count": 8,
   "metadata": {},
   "outputs": [],
   "source": [
    "from keras.utils import to_categorical\n",
    "RF = to_categorical(np.ones(len(DL.sx_train)),num_classes=2)"
   ]
  },
  {
   "cell_type": "code",
   "execution_count": 10,
   "metadata": {},
   "outputs": [
    {
     "name": "stdout",
     "output_type": "stream",
     "text": [
      "Epoch        G_loss      val_G_loss  val_class_acc\n",
      "0:           162.5936    83.1471     0.099       \n",
      "1:           69.5764     85.4507     0.1143      \n",
      "2:           52.0531     72.9372     0.2957      \n",
      "3:           45.4832     53.5711     0.4667      \n",
      "4:           41.7672     43.2336     0.604       \n",
      "5:           39.2355     38.956      0.677       \n",
      "6:           37.1896     37.0939     0.7183      \n",
      "7:           35.6577     35.2948     0.7507      \n",
      "8:           34.3585     34.3965     0.7667      \n",
      "9:           33.0191     33.2785     0.7943      \n",
      "10:          31.9306     32.3999     0.799       \n",
      "11:          30.963      31.7898     0.8053      \n",
      "12:          30.1742     30.2979     0.8043      \n",
      "13:          28.9699     30.1024     0.796       \n",
      "14:          28.1798     28.6945     0.8007      \n",
      "15:          27.2923     28.2803     0.8047      \n",
      "16:          26.6795     28.2728     0.7987      \n",
      "17:          25.797      26.6025     0.8003      \n",
      "18:          25.1974     26.7456     0.8         \n",
      "19:          24.5232     25.7097     0.8067      \n",
      "20:          24.0682     25.646      0.8057      \n",
      "21:          23.5356     24.7122     0.808       \n",
      "22:          23.0497     25.3287     0.81        \n",
      "23:          22.7294     23.9445     0.813       \n",
      "24:          22.3133     24.0897     0.8183      \n",
      "25:          21.8084     24.1323     0.8133      \n",
      "26:          21.554      23.4696     0.8163      \n",
      "27:          21.1701     23.0678     0.8147      \n",
      "28:          20.8468     22.7051     0.8277      \n",
      "29:          20.4706     22.3617     0.8183      \n",
      "30:          20.2286     22.4763     0.817       \n",
      "31:          20.0013     22.6113     0.823       \n",
      "32:          19.7771     21.5774     0.8363      \n",
      "33:          19.3763     21.5431     0.8327      \n",
      "34:          19.1035     21.5015     0.8337      \n",
      "35:          18.8675     21.2141     0.8313      \n",
      "36:          18.686      21.2833     0.835       \n",
      "37:          18.4898     21.1099     0.8423      \n",
      "38:          18.2114     20.7163     0.8417      \n",
      "39:          17.9415     20.4555     0.8447      \n",
      "40:          17.7362     20.2687     0.843       \n",
      "41:          17.6143     20.5724     0.8473      \n",
      "42:          17.44       20.3683     0.847       \n",
      "43:          17.332      20.0555     0.846       \n",
      "44:          17.1203     19.9232     0.853       \n",
      "45:          16.9054     19.9432     0.8493      \n",
      "46:          16.7743     19.4442     0.85        \n",
      "47:          16.6735     19.6297     0.8523      \n",
      "48:          16.48       19.5349     0.8497      \n",
      "49:          16.4289     19.7191     0.8597      \n",
      "50:          16.293      19.6074     0.857       \n",
      "51:          16.1737     19.1156     0.8657      \n",
      "52:          16.0507     19.2082     0.8673      \n",
      "53:          15.8562     19.1007     0.855       \n",
      "54:          15.7336     18.9801     0.865       \n",
      "55:          15.6384     18.9404     0.8683      \n",
      "56:          15.5772     18.7492     0.8637      \n",
      "57:          15.385      18.7332     0.8667      \n",
      "58:          15.3569     18.6445     0.8697      \n",
      "59:          15.2903     18.8714     0.87        \n",
      "60:          15.1631     18.6343     0.866       \n",
      "61:          15.0361     18.818      0.8707      \n",
      "62:          14.9074     18.5428     0.8717      \n",
      "63:          14.8703     18.5653     0.877       \n",
      "64:          14.7575     18.5825     0.8707      \n",
      "65:          14.7176     18.379      0.8757      \n",
      "66:          14.639      18.2773     0.8823      \n",
      "67:          14.5599     18.4713     0.878       \n",
      "68:          14.4656     18.5391     0.883       \n",
      "69:          14.4179     18.1912     0.8807      \n",
      "70:          14.377      18.2372     0.8877      \n",
      "71:          14.2079     18.1693     0.8817      \n",
      "72:          14.1351     18.1545     0.886       \n",
      "73:          14.0484     17.9655     0.8917      \n",
      "74:          14.0346     17.9856     0.8903      \n",
      "75:          14.0037     17.9355     0.89        \n"
     ]
    },
    {
     "data": {
      "text/plain": [
       "<keras.callbacks.History at 0x7f9680680550>"
      ]
     },
     "execution_count": 10,
     "metadata": {},
     "output_type": "execute_result"
    }
   ],
   "source": [
    "trainer.go(x=DL.sx_train,\n",
    "           y={'class':DL.y_train_oh,'D':RF,'G':DL.sx_train},\n",
    "           validation_split=0.05,\n",
    "           verbose=0)"
   ]
  },
  {
   "cell_type": "code",
   "execution_count": null,
   "metadata": {},
   "outputs": [],
   "source": [
    "# DL = Shifted_Data_Loader(dataset=config.dataset,flatten=True,\n",
    "#                          rotation=0.25,\n",
    "#                          translation=0.9,\n",
    "#                         )"
   ]
  },
  {
   "cell_type": "code",
   "execution_count": null,
   "metadata": {},
   "outputs": [],
   "source": [
    "hist_df = pd.DataFrame.from_records(trainer.model.history.history)\n",
    "hist_df.head()"
   ]
  },
  {
   "cell_type": "code",
   "execution_count": null,
   "metadata": {},
   "outputs": [],
   "source": [
    "sns.set_context('paper')\n",
    "metrics = ['loss','G_loss','class_acc']\n",
    "fig,axs = plt.subplots(nrows=len(metrics),sharex=True,figsize=(5,10))\n",
    "for metric_name,ax in zip(metrics,axs):\n",
    "    sns.scatterplot(data=hist_df[[metric_name,'val_'+metric_name]],ax=ax)"
   ]
  },
  {
   "cell_type": "code",
   "execution_count": null,
   "metadata": {},
   "outputs": [],
   "source": [
    "if not config.dev_mode:\n",
    "    trainer.save_model()"
   ]
  },
  {
   "cell_type": "code",
   "execution_count": null,
   "metadata": {},
   "outputs": [],
   "source": [
    "from keras.models import Model\n",
    "from keras.layers import Input"
   ]
  },
  {
   "cell_type": "code",
   "execution_count": null,
   "metadata": {},
   "outputs": [],
   "source": [
    "generator = trainer.G"
   ]
  },
  {
   "cell_type": "code",
   "execution_count": null,
   "metadata": {},
   "outputs": [],
   "source": [
    "trainer.y_class"
   ]
  },
  {
   "cell_type": "code",
   "execution_count": null,
   "metadata": {},
   "outputs": [],
   "source": [
    "\n",
    "# decoder_inp = Input(shape=(config.y_dim+config.z_dim,))\n",
    "# dec_layers = trainer.model.layers[-(1+(5*2)):]\n",
    "# print(dec_layers)\n",
    "# _gen_x = dec_layers[0](decoder_inp)\n",
    "# l = dec_layers[1]\n",
    "# isinstance(l,keras.layers.core.Reshape)\n",
    "# F = None\n",
    "# for l in dec_layers[1:]:\n",
    "#     print(type(l))\n",
    "    \n",
    "#     if isinstance(l,keras.layers.merge.Add):\n",
    "#         _gen_x = l([F,_gen_x])\n",
    "#     else:\n",
    "#         _gen_x = l(_gen_x)\n",
    "    \n",
    "#     if isinstance(l,keras.layers.convolutional.Conv2DTranspose):\n",
    "#         if l.kernel_size==(1,1):\n",
    "#             F = _gen_x\n",
    "            \n",
    "# # generator = Model(decoder_inp,_gen_x)"
   ]
  },
  {
   "cell_type": "code",
   "execution_count": null,
   "metadata": {},
   "outputs": [],
   "source": [
    "classifier.summary()"
   ]
  },
  {
   "cell_type": "code",
   "execution_count": null,
   "metadata": {},
   "outputs": [],
   "source": [
    "DL.y_test_oh.shape"
   ]
  },
  {
   "cell_type": "code",
   "execution_count": null,
   "metadata": {},
   "outputs": [],
   "source": [
    "classifier.compile(loss='categorical_crossentropy',optimizer='adam',metrics=['acc'])\n",
    "classifier.evaluate(DL.sx_test,DL.y_test_oh,batch_size=config.batch_size)"
   ]
  },
  {
   "cell_type": "code",
   "execution_count": null,
   "metadata": {},
   "outputs": [],
   "source": [
    "z_enc = z_encoder.predict(DL.sx_test,batch_size=config.batch_size)\n",
    "y_class = classifier.predict(DL.sx_test,batch_size=config.batch_size)"
   ]
  },
  {
   "cell_type": "code",
   "execution_count": null,
   "metadata": {},
   "outputs": [],
   "source": [
    "_lat_vec = np.concatenate([y_class,z_enc],axis=1)\n",
    "_lat_vec.shape"
   ]
  },
  {
   "cell_type": "code",
   "execution_count": null,
   "metadata": {},
   "outputs": [],
   "source": [
    "regen = generator.predict(_lat_vec,batch_size=config.batch_size)"
   ]
  },
  {
   "cell_type": "code",
   "execution_count": null,
   "metadata": {},
   "outputs": [],
   "source": [
    "rand_im = np.random.randint(0,10000)\n",
    "plt.imshow(regen[rand_im].reshape(56,56),cmap='gray')"
   ]
  },
  {
   "cell_type": "code",
   "execution_count": null,
   "metadata": {},
   "outputs": [],
   "source": [
    "from src.plot import remove_axes"
   ]
  },
  {
   "cell_type": "code",
   "execution_count": null,
   "metadata": {},
   "outputs": [],
   "source": [
    "enc_dec_samples(DL.x_test,DL.sx_test,z_enc,y_class,generator)\n",
    "plt.tight_layout()"
   ]
  },
  {
   "cell_type": "code",
   "execution_count": null,
   "metadata": {},
   "outputs": [],
   "source": [
    "from src.metrics import var_expl\n",
    "dxs = DL.dx[1]-14\n",
    "dys = DL.dy[1]-14\n",
    "dtheta = DL.dtheta[1]\n",
    "fve_dx = var_expl(features=z_enc,cond=dxs,bins=21)\n",
    "fve_dy = var_expl(features=z_enc,cond=dys,bins=21)\n",
    "fve_dt = var_expl(features=z_enc,cond=dtheta,bins=21)"
   ]
  },
  {
   "cell_type": "code",
   "execution_count": null,
   "metadata": {},
   "outputs": [],
   "source": [
    "fve_dx_norm = np.nan_to_num((dxs.var()-fve_dx)/dxs.var())\n",
    "fve_dy_norm = np.nan_to_num((dys.var()-fve_dy)/dys.var())\n",
    "fve_dth_norm = (dtheta.var()-fve_dt)/dtheta.var()"
   ]
  },
  {
   "cell_type": "code",
   "execution_count": null,
   "metadata": {},
   "outputs": [],
   "source": [
    "import seaborn as sns\n",
    "sns.set_context('talk')"
   ]
  },
  {
   "cell_type": "code",
   "execution_count": null,
   "metadata": {},
   "outputs": [],
   "source": [
    "fve_dx_norm.shape"
   ]
  },
  {
   "cell_type": "code",
   "execution_count": null,
   "metadata": {},
   "outputs": [],
   "source": [
    "sns.scatterplot(x=fve_dx_norm.mean(axis=0),y=fve_dy_norm.mean(axis=0),hue=np.arange(config.z_dim))\n",
    "plt.xlabel('fve_dx')\n",
    "plt.ylabel('fve_dy')\n",
    "# plt.ylim(-0.125,0.25)\n",
    "xdim = np.argmax(fve_dx_norm.mean(axis=0))"
   ]
  },
  {
   "cell_type": "code",
   "execution_count": null,
   "metadata": {},
   "outputs": [],
   "source": [
    "fve_dx_norm.mean(axis=0)"
   ]
  },
  {
   "cell_type": "code",
   "execution_count": null,
   "metadata": {},
   "outputs": [],
   "source": [
    "plt.scatter(np.arange(config.z_dim),fve_dy_norm.mean(axis=0))\n",
    "plt.xlabel('Z_n')\n",
    "plt.ylabel('fve_dy')\n",
    "# plt.ylim(-0.125,0.25)\n",
    "ydim = np.argmax(fve_dy_norm.mean(axis=0))\n",
    "print(ydim)"
   ]
  },
  {
   "cell_type": "code",
   "execution_count": null,
   "metadata": {},
   "outputs": [],
   "source": [
    "plt.scatter(np.arange(config.z_dim),fve_dth_norm.mean(axis=0))\n",
    "plt.xlabel('Z_n')\n",
    "plt.ylabel('fve_dtheta')\n",
    "# plt.ylim(0.0,0.5)\n",
    "np.argmax(fve_dth_norm.mean(axis=0))"
   ]
  },
  {
   "cell_type": "code",
   "execution_count": null,
   "metadata": {},
   "outputs": [],
   "source": [
    "from src.plot import Z_color_scatter\n",
    "Z_color_scatter(z_enc,[xdim,ydim],DL.y_test)"
   ]
  },
  {
   "cell_type": "code",
   "execution_count": null,
   "metadata": {},
   "outputs": [],
   "source": [
    "from src.plot import Z_color_scatter\n",
    "Z_color_scatter(z_enc,[2,ydim],dxs)\n",
    "# plt.ylim(-3,3)\n",
    "# plt.xlim(-3,3)"
   ]
  },
  {
   "cell_type": "code",
   "execution_count": null,
   "metadata": {},
   "outputs": [],
   "source": [
    "outl = z_enc[:,4]>5\n",
    "plt.imshow(DL.sx_test[outl][np.random.randint(0,97)].reshape(56,56),cmap='gray')"
   ]
  },
  {
   "cell_type": "code",
   "execution_count": null,
   "metadata": {},
   "outputs": [],
   "source": [
    "Z_color_scatter(z_enc,[xdim,ydim],dys)\n",
    "# plt.ylim(-3,3)\n",
    "# plt.xlim(-3,3)"
   ]
  },
  {
   "cell_type": "code",
   "execution_count": null,
   "metadata": {},
   "outputs": [],
   "source": [
    "z_enc.shape"
   ]
  },
  {
   "cell_type": "code",
   "execution_count": null,
   "metadata": {},
   "outputs": [],
   "source": [
    "sns.jointplot(dtheta,z_enc[:,4])"
   ]
  },
  {
   "cell_type": "code",
   "execution_count": null,
   "metadata": {},
   "outputs": [],
   "source": [
    "Z_color_scatter(z_enc,[xdim,ydim],dtheta)"
   ]
  },
  {
   "cell_type": "code",
   "execution_count": null,
   "metadata": {},
   "outputs": [],
   "source": [
    "from plt."
   ]
  },
  {
   "cell_type": "code",
   "execution_count": null,
   "metadata": {},
   "outputs": [],
   "source": []
  },
  {
   "cell_type": "code",
   "execution_count": null,
   "metadata": {},
   "outputs": [],
   "source": []
  }
 ],
 "metadata": {
  "kernelspec": {
   "display_name": "Py3-GPU (Python3.5.2)",
   "language": "python",
   "name": "py3-gpu"
  },
  "language_info": {
   "codemirror_mode": {
    "name": "ipython",
    "version": 3
   },
   "file_extension": ".py",
   "mimetype": "text/x-python",
   "name": "python",
   "nbconvert_exporter": "python",
   "pygments_lexer": "ipython3",
   "version": "3.5.2"
  }
 },
 "nbformat": 4,
 "nbformat_minor": 2
}
