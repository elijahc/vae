{
 "cells": [
  {
   "cell_type": "markdown",
   "metadata": {},
   "source": [
    "# Importance of XCov term in loss function\n",
    "- How does the model behave differently without XCov?\n",
    "- Does amount of input variation matter? (None,Med,hi)?"
   ]
  },
  {
   "cell_type": "code",
   "execution_count": 1,
   "metadata": {},
   "outputs": [
    {
     "name": "stderr",
     "output_type": "stream",
     "text": [
      "Using TensorFlow backend.\n"
     ]
    }
   ],
   "source": [
    "import os\n",
    "import json\n",
    "import numpy as np\n",
    "import pandas as pd\n",
    "import scipy\n",
    "\n",
    "import matplotlib.pyplot as plt\n",
    "import seaborn as sns\n",
    "%matplotlib inline\n",
    "\n",
    "from src.data_loader import Shifted_Data_Loader\n",
    "from src.plot import orig_vs_transformed as plot_ovt\n",
    "from src.plot import enc_dec_samples\n",
    "from src.models import GResNet,EDense\n",
    "from src.config import get_config\n",
    "from src.trainer import Trainer\n",
    "from src.utils import prepare_dirs_and_logger\n",
    "from keras.datasets import fashion_mnist,mnist\n",
    "from keras.layers import Dense\n",
    "from keras.models import Model\n",
    "# from tabulate import tabulate"
   ]
  },
  {
   "cell_type": "code",
   "execution_count": 21,
   "metadata": {},
   "outputs": [],
   "source": [
    "config,_ = get_config()\n",
    "# Boilerplate\n",
    "setattr(config, 'proj_root', '/home/elijahc/projects/vae')\n",
    "setattr(config, 'log_dir', '/home/elijahc/projects/vae/logs')\n",
    "setattr(config, 'dev_mode',False)\n",
    "setattr(config,'model_dir','/home/elijahc/projects/vae/models/2019-03-28/')\n",
    "setattr(config, 'seed', 7)\n",
    "setattr(config, 'project','vae')\n",
    "setattr(config, 'ecc_max',None)\n",
    "\n",
    "# Architecture Params\n",
    "setattr(config, 'enc_layers', [3000,2000])\n",
    "setattr(config, 'dec_blocks', [4,2,1])\n",
    "setattr(config, 'z_dim', 25)\n",
    "setattr(config, 'y_dim', 10)\n",
    "\n",
    "# Training Params\n",
    "setattr(config, 'batch_size', 512)\n",
    "setattr(config, 'dataset', 'fashion_mnist')\n",
    "setattr(config, 'epochs',150)\n",
    "setattr(config, 'monitor', None)\n",
    "# setattr(config, 'min_delta', 0.5)\n",
    "setattr(config, 'optimizer', 'adam')\n",
    "\n",
    "# Loss Weights\n",
    "setattr(config, 'xcov', 0)\n",
    "setattr(config, 'recon', 0)\n",
    "setattr(config, 'xent', 15)"
   ]
  },
  {
   "cell_type": "code",
   "execution_count": 22,
   "metadata": {},
   "outputs": [
    {
     "name": "stdout",
     "output_type": "stream",
     "text": [
      "setting up...\n",
      "/home/elijahc/projects/vae/models/2019-03-28/  does not exist...\n",
      "creating...\n",
      "/home/elijahc/projects/vae/logs/0327_170434_fashion_mnist  does not exist...\n",
      "creating...\n"
     ]
    },
    {
     "data": {
      "text/plain": [
       "{'batch_size': 512,\n",
       " 'dataset': 'fashion_mnist',\n",
       " 'dec_blocks': [4, 2, 1],\n",
       " 'dev_mode': False,\n",
       " 'ecc_max': None,\n",
       " 'enc_layers': [3000, 2000],\n",
       " 'epochs': 150,\n",
       " 'log_dir': '/home/elijahc/projects/vae/logs',\n",
       " 'log_level': 'INFO',\n",
       " 'model_dir': '/home/elijahc/projects/vae/models/2019-03-28/',\n",
       " 'model_name': '0327_170434_fashion_mnist',\n",
       " 'monitor': None,\n",
       " 'optimizer': 'adam',\n",
       " 'proj_root': '/home/elijahc/projects/vae',\n",
       " 'project': 'vae',\n",
       " 'recon': 0,\n",
       " 'run_dir': '/home/elijahc/projects/vae/logs/0327_170434_fashion_mnist',\n",
       " 'seed': 7,\n",
       " 'xcov': 0,\n",
       " 'xent': 15,\n",
       " 'y_dim': 10,\n",
       " 'z_dim': 25}"
      ]
     },
     "execution_count": 22,
     "metadata": {},
     "output_type": "execute_result"
    }
   ],
   "source": [
    "np.random.seed(7)\n",
    "if not config.dev_mode:\n",
    "    print('setting up...')\n",
    "    prepare_dirs_and_logger(config)\n",
    "    \n",
    "vars(config)\n"
   ]
  },
  {
   "cell_type": "code",
   "execution_count": 4,
   "metadata": {},
   "outputs": [
    {
     "name": "stdout",
     "output_type": "stream",
     "text": [
      "input_shape:  (3136,)\n",
      "dataset:  fashion_mnist\n",
      "scale:  2\n",
      "tx_max:  None\n",
      "rot_max:  None\n",
      "loading fashion_mnist...\n",
      "sx_train:  (60000, 3136)\n",
      "making training data...\n",
      "making testing data...\n"
     ]
    }
   ],
   "source": [
    "translation_amt = config.ecc_max # Med\n",
    "DL = Shifted_Data_Loader(dataset=config.dataset,flatten=True,\n",
    "                         rotation=None,\n",
    "                         translation=translation_amt,\n",
    "                        )"
   ]
  },
  {
   "cell_type": "code",
   "execution_count": 5,
   "metadata": {},
   "outputs": [
    {
     "name": "stdout",
     "output_type": "stream",
     "text": [
      "building encoder...\n",
      "building decoder/generator...\n"
     ]
    }
   ],
   "source": [
    "G_builder = GResNet(y_dim=config.y_dim,z_dim=config.z_dim,dec_blocks=config.dec_blocks)\n",
    "E_builder = EDense(enc_layers=config.enc_layers,z_dim=config.z_dim,)\n",
    "trainer = Trainer(config,DL,E_builder,G_builder,)\n",
    "# setattr(trainer.config,'model_dir','/home/elijahc/projects/vae/models/2019-01-22/')"
   ]
  },
  {
   "cell_type": "code",
   "execution_count": 6,
   "metadata": {},
   "outputs": [
    {
     "data": {
      "image/png": "[encoded data removed]",
      "text/plain": [
       "<Figure size 432x288 with 2 Axes>"
      ]
     },
     "metadata": {
      "needs_background": "light"
     },
     "output_type": "display_data"
    }
   ],
   "source": [
    "pt,idx = plot_ovt(DL,cmap='gray')"
   ]
  },
  {
   "cell_type": "code",
   "execution_count": 7,
   "metadata": {},
   "outputs": [
    {
     "name": "stdout",
     "output_type": "stream",
     "text": [
      "__________________________________________________________________________________________________\n",
      "Layer (type)                    Output Shape         Param #     Connected to                     \n",
      "==================================================================================================\n",
      "input_image (InputLayer)        (None, 3136)         0                                            \n",
      "__________________________________________________________________________________________________\n",
      "dense_1 (Dense)                 (None, 3000)         9411000     input_image[0][0]                \n",
      "__________________________________________________________________________________________________\n",
      "dense_2 (Dense)                 (None, 2000)         6002000     dense_1[0][0]                    \n",
      "__________________________________________________________________________________________________\n",
      "enc_merge (Dense)               (None, 36)           72036       dense_2[0][0]                    \n",
      "__________________________________________________________________________________________________\n",
      "lambda_1 (Lambda)               [(None, 10), (None,  0           enc_merge[0][0]                  \n",
      "__________________________________________________________________________________________________\n",
      "class (Activation)              (None, 10)           0           lambda_1[0][0]                   \n",
      "__________________________________________________________________________________________________\n",
      "z_lat (Activation)              (None, 25)           0           lambda_1[0][1]                   \n",
      "__________________________________________________________________________________________________\n",
      "concatenate_1 (Concatenate)     (None, 35)           0           class[0][0]                      \n",
      "                                                                 z_lat[0][0]                      \n",
      "__________________________________________________________________________________________________\n",
      "G (Model)                       (None, 3136)         130465      concatenate_1[0][0]              \n",
      "==================================================================================================\n",
      "Total params: 15,615,501\n",
      "Trainable params: 15,615,181\n",
      "Non-trainable params: 320\n",
      "__________________________________________________________________________________________________\n"
     ]
    }
   ],
   "source": [
    "trainer.model.summary()"
   ]
  },
  {
   "cell_type": "code",
   "execution_count": 8,
   "metadata": {},
   "outputs": [
    {
     "data": {
      "text/plain": [
       "(None, 3136)"
      ]
     },
     "execution_count": 8,
     "metadata": {},
     "output_type": "execute_result"
    }
   ],
   "source": [
    "import keras.backend as K\n",
    "K.int_shape(trainer.model.outputs[0])"
   ]
  },
  {
   "cell_type": "code",
   "execution_count": 9,
   "metadata": {},
   "outputs": [],
   "source": [
    "# trainer.build_model()\n",
    "trainer.compile_model()\n",
    "# trainer.G.summary()"
   ]
  },
  {
   "cell_type": "code",
   "execution_count": 10,
   "metadata": {},
   "outputs": [],
   "source": [
    "# Load corrupted Labels\n",
    "y_tr_corr = np.load('../data/fashion_mnist_corrupted_labels/y_train_0.8.npy')"
   ]
  },
  {
   "cell_type": "code",
   "execution_count": 11,
   "metadata": {},
   "outputs": [],
   "source": [
    "from keras.utils import to_categorical\n",
    "y_corrupted_oh = to_categorical(y_tr_corr,num_classes=10)"
   ]
  },
  {
   "cell_type": "code",
   "execution_count": 12,
   "metadata": {},
   "outputs": [
    {
     "data": {
      "text/plain": [
       "(60000, 10)"
      ]
     },
     "execution_count": 12,
     "metadata": {},
     "output_type": "execute_result"
    }
   ],
   "source": [
    "y_corrupted_oh.shape"
   ]
  },
  {
   "cell_type": "code",
   "execution_count": 13,
   "metadata": {},
   "outputs": [
    {
     "data": {
      "text/plain": [
       "[<tf.Tensor 'G/G_image_flat/Reshape:0' shape=(?, ?) dtype=float32>,\n",
       " <tf.Tensor 'class/Softmax:0' shape=(?, 10) dtype=float32>]"
      ]
     },
     "execution_count": 13,
     "metadata": {},
     "output_type": "execute_result"
    }
   ],
   "source": [
    "trainer.model.output"
   ]
  },
  {
   "cell_type": "code",
   "execution_count": 14,
   "metadata": {},
   "outputs": [
    {
     "name": "stdout",
     "output_type": "stream",
     "text": [
      "__________________________________________________________________________________________________\n",
      "Layer (type)                    Output Shape         Param #     Connected to                     \n",
      "==================================================================================================\n",
      "input_image (InputLayer)        (None, 3136)         0                                            \n",
      "__________________________________________________________________________________________________\n",
      "dense_1 (Dense)                 (None, 3000)         9411000     input_image[0][0]                \n",
      "__________________________________________________________________________________________________\n",
      "dense_2 (Dense)                 (None, 2000)         6002000     dense_1[0][0]                    \n",
      "__________________________________________________________________________________________________\n",
      "enc_merge (Dense)               (None, 36)           72036       dense_2[0][0]                    \n",
      "__________________________________________________________________________________________________\n",
      "lambda_1 (Lambda)               [(None, 10), (None,  0           enc_merge[0][0]                  \n",
      "__________________________________________________________________________________________________\n",
      "class (Activation)              (None, 10)           0           lambda_1[0][0]                   \n",
      "__________________________________________________________________________________________________\n",
      "z_lat (Activation)              (None, 25)           0           lambda_1[0][1]                   \n",
      "__________________________________________________________________________________________________\n",
      "D_real (Activation)             (None, 1)            0           lambda_1[0][2]                   \n",
      "==================================================================================================\n",
      "Total params: 15,485,036\n",
      "Trainable params: 15,485,036\n",
      "Non-trainable params: 0\n",
      "__________________________________________________________________________________________________\n"
     ]
    }
   ],
   "source": [
    "# trainer.G.summary()\n",
    "G_out = trainer.G.get_layer('G_image_flat')\n",
    "trainer.E.summary()"
   ]
  },
  {
   "cell_type": "code",
   "execution_count": 15,
   "metadata": {},
   "outputs": [
    {
     "name": "stdout",
     "output_type": "stream",
     "text": [
      "Epoch        G_loss      val_G_loss  class_acc   val_class_acc\n",
      "0:           1468.5307   1382.2067   0.3919      0.405       \n",
      "1:           1467.4736   1354.4873   0.4306      0.4153      \n",
      "2:           1437.3241   1381.5098   0.4371      0.4107      \n",
      "3:           1420.1366   1416.7252   0.4411      0.418       \n",
      "4:           1407.1019   1373.6635   0.4464      0.4143      \n",
      "5:           1389.2221   1399.3867   0.4481      0.4127      \n",
      "6:           1378.1851   1430.2324   0.4518      0.419       \n",
      "7:           1376.4999   1351.8749   0.4534      0.4183      \n",
      "8:           1371.2405   1378.5126   0.4563      0.42        \n",
      "9:           1372.5902   1376.4775   0.4588      0.4157      \n",
      "10:          1359.9122   1354.2595   0.4606      0.4083      \n",
      "11:          1359.4853   1381.561    0.463       0.413       \n",
      "12:          1349.175    1354.152    0.4687      0.4127      \n",
      "13:          1328.2176   1326.7798   0.4731      0.41        \n",
      "14:          1305.0785   1333.6283   0.4776      0.4127      \n",
      "15:          1286.5442   1287.7643   0.4842      0.4133      \n",
      "16:          1268.4273   1244.1249   0.4915      0.3997      \n",
      "17:          1256.3019   1219.3402   0.4962      0.3983      \n",
      "18:          1233.6277   1210.4655   0.5019      0.403       \n",
      "19:          1200.8156   1221.9511   0.5115      0.407       \n",
      "20:          1184.2865   1178.0143   0.5195      0.3963      \n",
      "21:          1179.9882   1165.0161   0.5262      0.3973      \n",
      "22:          1160.4326   1150.2047   0.5342      0.3903      \n",
      "23:          1154.3025   1148.6969   0.5413      0.3873      \n",
      "24:          1163.1235   1154.9995   0.5473      0.391       \n",
      "25:          1162.1929   1142.8701   0.5573      0.3837      \n",
      "26:          1155.3513   1156.1786   0.5674      0.3807      \n",
      "27:          1157.9827   1165.3403   0.5751      0.3883      \n",
      "28:          1151.0885   1151.361    0.5846      0.3633      \n",
      "29:          1158.3329   1144.7098   0.5947      0.3747      \n",
      "30:          1161.6679   1153.6008   0.6028      0.3693      \n",
      "31:          1159.8943   1140.5571   0.6154      0.3637      \n",
      "32:          1158.6869   1154.4221   0.627       0.3623      \n",
      "33:          1165.3736   1154.3251   0.6357      0.3623      \n",
      "34:          1166.6546   1153.1408   0.6472      0.3503      \n",
      "35:          1162.0236   1142.3566   0.6577      0.353       \n",
      "36:          1163.691    1166.9469   0.6709      0.3567      \n",
      "37:          1168.7297   1170.0429   0.6799      0.339       \n",
      "38:          1174.1305   1157.4731   0.6922      0.3407      \n",
      "39:          1183.5304   1156.538    0.7014      0.3387      \n",
      "40:          1193.2228   1168.0858   0.7133      0.3313      \n",
      "41:          1198.4074   1172.3264   0.7218      0.3303      \n",
      "42:          1206.8371   1202.1004   0.7389      0.3263      \n",
      "43:          1211.8869   1198.5144   0.7536      0.3203      \n",
      "44:          1211.0386   1194.7424   0.7652      0.321       \n",
      "45:          1213.1452   1199.026    0.7727      0.324       \n",
      "46:          1220.1509   1204.1307   0.7826      0.3213      \n",
      "47:          1224.9235   1214.8932   0.7909      0.3063      \n",
      "48:          1228.3886   1200.4312   0.7996      0.3073      \n",
      "49:          1232.4425   1205.5146   0.8115      0.3053      \n",
      "50:          1235.5962   1219.2778   0.8202      0.3197      \n",
      "51:          1236.7902   1206.3622   0.8268      0.3087      \n",
      "52:          1245.865    1228.1777   0.832       0.3183      \n",
      "53:          1246.7199   1222.734    0.8425      0.2993      \n",
      "54:          1249.9163   1229.6867   0.8527      0.3023      \n",
      "55:          1249.984    1235.6164   0.8581      0.3073      \n",
      "56:          1253.6988   1243.7997   0.8659      0.297       \n",
      "57:          1258.618    1233.2172   0.8732      0.3043      \n",
      "58:          1255.8271   1242.2282   0.8779      0.2967      \n",
      "59:          1262.506    1247.4421   0.8852      0.2913      \n",
      "60:          1261.8736   1247.1915   0.8889      0.296       \n",
      "61:          1260.3811   1252.8672   0.8911      0.3027      \n",
      "62:          1263.8569   1246.6669   0.9042      0.2897      \n",
      "63:          1268.5541   1238.9499   0.9067      0.2937      \n",
      "64:          1269.8414   1246.7356   0.9105      0.2917      \n",
      "65:          1273.7519   1268.8722   0.9037      0.301       \n",
      "66:          1274.5875   1255.2603   0.9092      0.287       \n",
      "67:          1275.0095   1252.5423   0.9135      0.281       \n",
      "68:          1275.3251   1266.5227   0.928       0.287       \n",
      "69:          1275.6289   1269.1076   0.9374      0.297       \n",
      "70:          1277.1514   1263.0846   0.9409      0.2943      \n",
      "71:          1278.5825   1260.4234   0.947       0.288       \n",
      "72:          1277.1328   1265.8092   0.9502      0.2897      \n",
      "73:          1278.3854   1266.0649   0.9472      0.2857      \n",
      "74:          1283.687    1264.5614   0.9371      0.2763      \n",
      "75:          1282.5996   1265.2523   0.9322      0.291       \n",
      "76:          1282.4364   1273.4412   0.9354      0.285       \n",
      "77:          1282.3075   1271.5259   0.9449      0.286       \n",
      "78:          1283.5105   1267.3689   0.9518      0.2853      \n",
      "79:          1282.8893   1271.3092   0.9555      0.2893      \n",
      "80:          1284.2749   1276.7392   0.9629      0.2943      \n",
      "81:          1286.3427   1278.9122   0.9701      0.2857      \n",
      "82:          1286.9871   1275.3414   0.972       0.2847      \n",
      "83:          1287.8767   1282.5279   0.9742      0.2843      \n",
      "84:          1288.1263   1277.7469   0.9745      0.2867      \n",
      "85:          1288.5018   1278.1281   0.9727      0.2747      \n",
      "86:          1289.7157   1278.0094   0.9674      0.2833      \n",
      "87:          1290.6385   1274.3705   0.9657      0.275       \n",
      "88:          1290.4018   1272.3898   0.9544      0.273       \n",
      "89:          1286.8091   1270.3305   0.9415      0.2783      \n",
      "90:          1285.4567   1277.6762   0.9559      0.2817      \n",
      "91:          1287.1194   1286.5167   0.9748      0.286       \n",
      "92:          1290.3801   1280.3507   0.9812      0.283       \n",
      "93:          1292.5626   1278.5271   0.9858      0.2793      \n",
      "94:          1294.1761   1290.1537   0.9868      0.285       \n",
      "95:          1294.7232   1285.8476   0.9892      0.2783      \n",
      "96:          1296.4611   1288.1425   0.992       0.2813      \n",
      "97:          1300.5263   1295.788    0.9868      0.2797      \n",
      "98:          1297.3983   1278.76     0.972       0.2717      \n",
      "99:          1294.2791   1281.4393   0.9444      0.2743      \n",
      "100:         1293.7809   1284.6298   0.9448      0.2817      \n",
      "101:         1295.4828   1283.5874   0.9696      0.2763      \n",
      "102:         1294.7885   1287.3439   0.9848      0.28        \n",
      "103:         1299.0872   1294.3664   0.985       0.2727      \n",
      "104:         1300.6828   1288.0402   0.9886      0.2893      \n",
      "105:         1299.4068   1292.502    0.9929      0.2893      \n",
      "106:         1298.7169   1291.2718   0.9934      0.281       \n",
      "107:         1300.2407   1293.601    0.9959      0.29        \n",
      "108:         1301.1312   1289.7244   0.9962      0.29        \n",
      "109:         1301.2627   1292.4897   0.994       0.291       \n",
      "110:         1301.0949   1286.5447   0.9919      0.2877      \n",
      "111:         1301.4197   1280.4869   0.98        0.2657      \n",
      "112:         1297.0707   1273.7514   0.9221      0.2683      \n",
      "113:         1296.5192   1292.1538   0.9381      0.284       \n",
      "114:         1295.3816   1290.7819   0.9682      0.2757      \n",
      "115:         1295.1567   1299.9618   0.9877      0.2907      \n",
      "116:         1296.0712   1296.7038   0.9943      0.2847      \n",
      "117:         1296.3217   1297.0384   0.9969      0.2823      \n",
      "118:         1298.6923   1293.3044   0.9972      0.2787      \n",
      "119:         1299.4249   1289.9963   0.9972      0.282       \n",
      "120:         1299.1526   1291.9623   0.9955      0.2837      \n",
      "121:         1302.713    1294.7299   0.9983      0.288       \n",
      "122:         1303.7728   1295.0236   0.9978      0.2843      \n",
      "123:         1305.4266   1298.1143   0.9972      0.2903      \n",
      "124:         1304.687    1289.2483   0.9954      0.278       \n",
      "125:         1303.0327   1273.7284   0.9667      0.278       \n",
      "126:         1294.0138   1274.6968   0.8953      0.2683      \n",
      "127:         1290.8441   1287.4028   0.9467      0.2753      \n",
      "128:         1290.8367   1289.2024   0.9824      0.2753      \n",
      "129:         1295.6529   1297.6405   0.9953      0.2897      \n",
      "130:         1297.0872   1293.4677   0.9986      0.284       \n",
      "131:         1297.7367   1293.8916   0.9989      0.2853      \n",
      "132:         1298.7524   1294.2184   0.9991      0.287       \n",
      "133:         1299.5433   1296.6826   0.9992      0.285       \n",
      "134:         1300.1822   1293.6705   0.9992      0.2873      \n",
      "135:         1301.2741   1296.3363   0.9992      0.293       \n",
      "136:         1301.6668   1300.8242   0.9993      0.2903      \n",
      "137:         1302.6072   1295.7062   0.9993      0.291       \n",
      "138:         1302.9903   1295.0416   0.9993      0.2893      \n",
      "139:         1303.0659   1295.7689   0.9992      0.2867      \n",
      "140:         1302.8423   1285.3428   0.9954      0.2833      \n",
      "141:         1297.6879   1250.1606   0.8749      0.2803      \n",
      "142:         1285.4719   1276.4915   0.8839      0.272       \n",
      "143:         1289.601    1289.1373   0.9679      0.274       \n",
      "144:         1293.2192   1299.4116   0.9915      0.28        \n",
      "145:         1294.1224   1291.7494   0.9979      0.286       \n",
      "146:         1296.7369   1292.0477   0.9993      0.2813      \n",
      "147:         1297.6356   1292.8218   0.9989      0.281       \n",
      "148:         1298.5962   1290.222    0.9993      0.2857      \n",
      "149:         1299.7665   1290.74     0.9995      0.2877      \n"
     ]
    },
    {
     "data": {
      "text/plain": [
       "<keras.callbacks.History at 0x7fc908318a90>"
      ]
     },
     "execution_count": 15,
     "metadata": {},
     "output_type": "execute_result"
    }
   ],
   "source": [
    "trainer.go(x=DL.sx_train,\n",
    "           y={\n",
    "               'class':y_corrupted_oh,\n",
    "#                'D_real':RF,\n",
    "               'G':DL.sx_train},\n",
    "           validation_split=0.05,\n",
    "           verbose=0)"
   ]
  },
  {
   "cell_type": "code",
   "execution_count": 16,
   "metadata": {},
   "outputs": [
    {
     "data": {
      "text/html": [
       "<div>\n",
       "<style scoped>\n",
       "    .dataframe tbody tr th:only-of-type {\n",
       "        vertical-align: middle;\n",
       "    }\n",
       "\n",
       "    .dataframe tbody tr th {\n",
       "        vertical-align: top;\n",
       "    }\n",
       "\n",
       "    .dataframe thead th {\n",
       "        text-align: right;\n",
       "    }\n",
       "</style>\n",
       "<table border=\"1\" class=\"dataframe\">\n",
       "  <thead>\n",
       "    <tr style=\"text-align: right;\">\n",
       "      <th></th>\n",
       "      <th>G_loss</th>\n",
       "      <th>G_mse</th>\n",
       "      <th>class_acc</th>\n",
       "      <th>class_loss</th>\n",
       "      <th>loss</th>\n",
       "      <th>val_G_loss</th>\n",
       "      <th>val_G_mse</th>\n",
       "      <th>val_class_acc</th>\n",
       "      <th>val_class_loss</th>\n",
       "      <th>val_loss</th>\n",
       "    </tr>\n",
       "  </thead>\n",
       "  <tbody>\n",
       "    <tr>\n",
       "      <th>0</th>\n",
       "      <td>1468.530746</td>\n",
       "      <td>1468.530746</td>\n",
       "      <td>0.391947</td>\n",
       "      <td>2.000726</td>\n",
       "      <td>30.017345</td>\n",
       "      <td>1382.206735</td>\n",
       "      <td>1382.206735</td>\n",
       "      <td>0.405000</td>\n",
       "      <td>1.995374</td>\n",
       "      <td>29.934440</td>\n",
       "    </tr>\n",
       "    <tr>\n",
       "      <th>1</th>\n",
       "      <td>1467.473579</td>\n",
       "      <td>1467.473579</td>\n",
       "      <td>0.430632</td>\n",
       "      <td>1.922380</td>\n",
       "      <td>28.838178</td>\n",
       "      <td>1354.487274</td>\n",
       "      <td>1354.487274</td>\n",
       "      <td>0.415333</td>\n",
       "      <td>1.963376</td>\n",
       "      <td>29.452104</td>\n",
       "    </tr>\n",
       "    <tr>\n",
       "      <th>2</th>\n",
       "      <td>1437.324110</td>\n",
       "      <td>1437.324110</td>\n",
       "      <td>0.437088</td>\n",
       "      <td>1.903012</td>\n",
       "      <td>28.546129</td>\n",
       "      <td>1381.509800</td>\n",
       "      <td>1381.509800</td>\n",
       "      <td>0.410667</td>\n",
       "      <td>1.974720</td>\n",
       "      <td>29.621349</td>\n",
       "    </tr>\n",
       "    <tr>\n",
       "      <th>3</th>\n",
       "      <td>1420.136633</td>\n",
       "      <td>1420.136633</td>\n",
       "      <td>0.441105</td>\n",
       "      <td>1.890788</td>\n",
       "      <td>28.362165</td>\n",
       "      <td>1416.725242</td>\n",
       "      <td>1416.725242</td>\n",
       "      <td>0.418000</td>\n",
       "      <td>1.966051</td>\n",
       "      <td>29.490971</td>\n",
       "    </tr>\n",
       "    <tr>\n",
       "      <th>4</th>\n",
       "      <td>1407.101950</td>\n",
       "      <td>1407.101950</td>\n",
       "      <td>0.446351</td>\n",
       "      <td>1.878628</td>\n",
       "      <td>28.179551</td>\n",
       "      <td>1373.663488</td>\n",
       "      <td>1373.663488</td>\n",
       "      <td>0.414333</td>\n",
       "      <td>1.959293</td>\n",
       "      <td>29.389465</td>\n",
       "    </tr>\n",
       "  </tbody>\n",
       "</table>\n",
       "</div>"
      ],
      "text/plain": [
       "        G_loss        G_mse  class_acc  class_loss       loss   val_G_loss  \\\n",
       "0  1468.530746  1468.530746   0.391947    2.000726  30.017345  1382.206735   \n",
       "1  1467.473579  1467.473579   0.430632    1.922380  28.838178  1354.487274   \n",
       "2  1437.324110  1437.324110   0.437088    1.903012  28.546129  1381.509800   \n",
       "3  1420.136633  1420.136633   0.441105    1.890788  28.362165  1416.725242   \n",
       "4  1407.101950  1407.101950   0.446351    1.878628  28.179551  1373.663488   \n",
       "\n",
       "     val_G_mse  val_class_acc  val_class_loss   val_loss  \n",
       "0  1382.206735       0.405000        1.995374  29.934440  \n",
       "1  1354.487274       0.415333        1.963376  29.452104  \n",
       "2  1381.509800       0.410667        1.974720  29.621349  \n",
       "3  1416.725242       0.418000        1.966051  29.490971  \n",
       "4  1373.663488       0.414333        1.959293  29.389465  "
      ]
     },
     "execution_count": 16,
     "metadata": {},
     "output_type": "execute_result"
    }
   ],
   "source": [
    "hist_df = pd.DataFrame.from_records(trainer.model.history.history)\n",
    "hist_df.head()"
   ]
  },
  {
   "cell_type": "code",
   "execution_count": 17,
   "metadata": {},
   "outputs": [
    {
     "data": {
      "image/png": "[encoded data removed]",
      "text/plain": [
       "<Figure size 360x720 with 3 Axes>"
      ]
     },
     "metadata": {
      "needs_background": "light"
     },
     "output_type": "display_data"
    }
   ],
   "source": [
    "sns.set_context('paper')\n",
    "metrics = ['loss','G_loss','class_acc']\n",
    "fig,axs = plt.subplots(nrows=len(metrics),sharex=True,figsize=(5,10))\n",
    "for metric_name,ax in zip(metrics,axs):\n",
    "    sns.scatterplot(data=hist_df[[metric_name,'val_'+metric_name]],ax=ax)"
   ]
  },
  {
   "cell_type": "code",
   "execution_count": 18,
   "metadata": {},
   "outputs": [],
   "source": [
    "import datetime as dt\n",
    "def clean_config(config,keys=['dev_mode','log_dir','log_level','proj_root']):\n",
    "    c = vars(config)\n",
    "    for k in keys:\n",
    "        if k in c.keys():\n",
    "            del c[k]\n",
    "    \n",
    "    c['uploaded_by']='elijahc'\n",
    "    c['last_updated']= str(dt.datetime.now())\n",
    "    return c"
   ]
  },
  {
   "cell_type": "code",
   "execution_count": 19,
   "metadata": {},
   "outputs": [
    {
     "data": {
      "text/plain": [
       "{'batch_size': 512,\n",
       " 'dataset': 'fashion_mnist',\n",
       " 'dec_blocks': [4, 2, 1],\n",
       " 'ecc_max': None,\n",
       " 'enc_layers': [3000, 2000],\n",
       " 'epochs': 150,\n",
       " 'last_updated': '2019-03-27 16:39:25.122492',\n",
       " 'model_dir': '/home/elijahc/projects/vae/models/2019-03-28/',\n",
       " 'monitor': None,\n",
       " 'optimizer': 'adam',\n",
       " 'project': 'vae',\n",
       " 'recon': 0,\n",
       " 'seed': 7,\n",
       " 'uploaded_by': 'elijahc',\n",
       " 'xcov': 0,\n",
       " 'xent': 15,\n",
       " 'y_dim': 10,\n",
       " 'z_dim': 25}"
      ]
     },
     "execution_count": 19,
     "metadata": {},
     "output_type": "execute_result"
    }
   ],
   "source": [
    "run_meta = clean_config(config)\n",
    "run_meta['project']='vae'\n",
    "# run_meta['ecc_max']=0.8\n",
    "run_meta"
   ]
  },
  {
   "cell_type": "code",
   "execution_count": null,
   "metadata": {},
   "outputs": [],
   "source": []
  },
  {
   "cell_type": "code",
   "execution_count": 23,
   "metadata": {},
   "outputs": [],
   "source": [
    "trainer.save_model()\n",
    "run_conf = clean_config(config)\n",
    "\n",
    "with open(os.path.join(run_conf['model_dir'],'config.json'), 'w') as fp:\n",
    "    json.dump(run_conf, fp)\n",
    "\n",
    "hist_df.to_parquet(os.path.join(run_conf['model_dir'],'train_history.parquet'))"
   ]
  },
  {
   "cell_type": "code",
   "execution_count": 24,
   "metadata": {},
   "outputs": [],
   "source": [
    "generator = trainer.G"
   ]
  },
  {
   "cell_type": "code",
   "execution_count": 25,
   "metadata": {},
   "outputs": [
    {
     "name": "stdout",
     "output_type": "stream",
     "text": [
      "__________________________________________________________________________________________________\n",
      "Layer (type)                    Output Shape         Param #     Connected to                     \n",
      "==================================================================================================\n",
      "input_image (InputLayer)        (None, 3136)         0                                            \n",
      "__________________________________________________________________________________________________\n",
      "dense_1 (Dense)                 (None, 3000)         9411000     input_image[0][0]                \n",
      "__________________________________________________________________________________________________\n",
      "dense_2 (Dense)                 (None, 2000)         6002000     dense_1[0][0]                    \n",
      "__________________________________________________________________________________________________\n",
      "enc_merge (Dense)               (None, 36)           72036       dense_2[0][0]                    \n",
      "__________________________________________________________________________________________________\n",
      "lambda_1 (Lambda)               [(None, 10), (None,  0           enc_merge[0][0]                  \n",
      "__________________________________________________________________________________________________\n",
      "class (Activation)              (None, 10)           0           lambda_1[0][0]                   \n",
      "__________________________________________________________________________________________________\n",
      "z_lat (Activation)              (None, 25)           0           lambda_1[0][1]                   \n",
      "__________________________________________________________________________________________________\n",
      "D_real (Activation)             (None, 1)            0           lambda_1[0][2]                   \n",
      "==================================================================================================\n",
      "Total params: 15,485,036\n",
      "Trainable params: 15,485,036\n",
      "Non-trainable params: 0\n",
      "__________________________________________________________________________________________________\n"
     ]
    }
   ],
   "source": [
    "trainer.E.summary()"
   ]
  },
  {
   "cell_type": "code",
   "execution_count": 26,
   "metadata": {},
   "outputs": [
    {
     "data": {
      "text/plain": [
       "<tf.Tensor 'dense_1/Relu:0' shape=(?, 3000) dtype=float32>"
      ]
     },
     "execution_count": 26,
     "metadata": {},
     "output_type": "execute_result"
    }
   ],
   "source": [
    "trainer.model.get_layer(name='dense_1').output"
   ]
  },
  {
   "cell_type": "code",
   "execution_count": 27,
   "metadata": {},
   "outputs": [],
   "source": [
    "z_encoder = Model(trainer.input,trainer.z_lat)\n",
    "classifier = Model(trainer.input,trainer.y_class)\n",
    "\n",
    "l1_encoder = Model(trainer.input,trainer.model.get_layer(name='dense_1').output)\n",
    "l2_encoder = Model(trainer.input,trainer.model.get_layer(name='dense_2').output)"
   ]
  },
  {
   "cell_type": "code",
   "execution_count": 28,
   "metadata": {},
   "outputs": [],
   "source": [
    "z_w_k = K.get_value(z_encoder.get_layer('enc_merge').weights[0])[:,10:-1]"
   ]
  },
  {
   "cell_type": "code",
   "execution_count": 29,
   "metadata": {},
   "outputs": [
    {
     "data": {
      "text/plain": [
       "(array([68., 64., 68., 68., 65., 55., 62., 56., 57., 72., 59., 77., 63.,\n",
       "        72., 59., 81., 55., 65., 57., 56., 65., 70., 48., 62., 61., 62.,\n",
       "        69., 72., 71., 66., 75.]),\n",
       " array([-0.05421356, -0.05071754, -0.04722151, -0.04372548, -0.04022945,\n",
       "        -0.03673343, -0.0332374 , -0.02974137, -0.02624534, -0.02274932,\n",
       "        -0.01925329, -0.01575726, -0.01226123, -0.00876521, -0.00526918,\n",
       "        -0.00177315,  0.00172288,  0.0052189 ,  0.00871493,  0.01221096,\n",
       "         0.01570699,  0.01920302,  0.02269904,  0.02619507,  0.0296911 ,\n",
       "         0.03318712,  0.03668315,  0.04017918,  0.04367521,  0.04717124,\n",
       "         0.05066726,  0.05416329], dtype=float32),\n",
       " <a list of 31 Patch objects>)"
      ]
     },
     "execution_count": 29,
     "metadata": {},
     "output_type": "execute_result"
    },
    {
     "data": {
      "image/png": "[encoded data removed]",
      "text/plain": [
       "<Figure size 432x288 with 1 Axes>"
      ]
     },
     "metadata": {
      "needs_background": "light"
     },
     "output_type": "display_data"
    }
   ],
   "source": [
    "plt.hist(z_w_k[:,7],bins=31)"
   ]
  },
  {
   "cell_type": "code",
   "execution_count": 30,
   "metadata": {},
   "outputs": [
    {
     "data": {
      "text/plain": [
       "(array([1618., 1613., 1643., 1581., 1659., 1571., 1623., 1537., 1606.,\n",
       "        1611., 1613., 1662., 1572., 1608., 1596., 1617., 1624., 1630.,\n",
       "        1516., 1664., 1600., 1580., 1626., 1642., 1605., 1617., 1651.,\n",
       "        1628., 1584., 1637., 1666.]),\n",
       " array([-0.05428564, -0.05078338, -0.04728112, -0.04377886, -0.04027659,\n",
       "        -0.03677433, -0.03327207, -0.02976981, -0.02626755, -0.02276529,\n",
       "        -0.01926303, -0.01576077, -0.01225851, -0.00875624, -0.00525398,\n",
       "        -0.00175172,  0.00175054,  0.0052528 ,  0.00875506,  0.01225732,\n",
       "         0.01575959,  0.01926185,  0.02276411,  0.02626637,  0.02976863,\n",
       "         0.03327089,  0.03677315,  0.04027541,  0.04377768,  0.04727994,\n",
       "         0.0507822 ,  0.05428446], dtype=float32),\n",
       " <a list of 31 Patch objects>)"
      ]
     },
     "execution_count": 30,
     "metadata": {},
     "output_type": "execute_result"
    },
    {
     "data": {
      "image/png": "[encoded data removed]",
      "text/plain": [
       "<Figure size 432x288 with 1 Axes>"
      ]
     },
     "metadata": {
      "needs_background": "light"
     },
     "output_type": "display_data"
    }
   ],
   "source": [
    "plt.hist(z_w_k.flatten(),bins=31)"
   ]
  },
  {
   "cell_type": "code",
   "execution_count": 31,
   "metadata": {},
   "outputs": [
    {
     "name": "stdout",
     "output_type": "stream",
     "text": [
      "_________________________________________________________________\n",
      "Layer (type)                 Output Shape              Param #   \n",
      "=================================================================\n",
      "input_image (InputLayer)     (None, 3136)              0         \n",
      "_________________________________________________________________\n",
      "dense_1 (Dense)              (None, 3000)              9411000   \n",
      "_________________________________________________________________\n",
      "dense_2 (Dense)              (None, 2000)              6002000   \n",
      "_________________________________________________________________\n",
      "enc_merge (Dense)            (None, 36)                72036     \n",
      "_________________________________________________________________\n",
      "lambda_1 (Lambda)            [(None, 10), (None, 25),  0         \n",
      "_________________________________________________________________\n",
      "class (Activation)           (None, 10)                0         \n",
      "=================================================================\n",
      "Total params: 15,485,036\n",
      "Trainable params: 15,485,036\n",
      "Non-trainable params: 0\n",
      "_________________________________________________________________\n"
     ]
    }
   ],
   "source": [
    "classifier.summary()"
   ]
  },
  {
   "cell_type": "code",
   "execution_count": 32,
   "metadata": {},
   "outputs": [
    {
     "data": {
      "text/plain": [
       "(10000, 10)"
      ]
     },
     "execution_count": 32,
     "metadata": {},
     "output_type": "execute_result"
    }
   ],
   "source": [
    "DL.y_test_oh.shape"
   ]
  },
  {
   "cell_type": "code",
   "execution_count": 33,
   "metadata": {},
   "outputs": [
    {
     "name": "stdout",
     "output_type": "stream",
     "text": [
      "10000/10000 [==============================] - 0s 32us/step\n"
     ]
    },
    {
     "data": {
      "text/plain": [
       "[2.8417589660644533, 0.5656999999046326]"
      ]
     },
     "execution_count": 33,
     "metadata": {},
     "output_type": "execute_result"
    }
   ],
   "source": [
    "classifier.compile(loss='categorical_crossentropy',optimizer='adam',metrics=['acc'])\n",
    "classifier.evaluate(DL.sx_test,DL.y_test_oh,batch_size=config.batch_size)"
   ]
  },
  {
   "cell_type": "code",
   "execution_count": 34,
   "metadata": {},
   "outputs": [],
   "source": [
    "z_enc = z_encoder.predict(DL.sx_test,batch_size=config.batch_size)\n",
    "l1_enc = l1_encoder.predict(DL.sx_test,batch_size=config.batch_size)\n",
    "l2_enc = l2_encoder.predict(DL.sx_test,batch_size=config.batch_size)\n",
    "# y_lat = y_lat_encoder.predict(DL.sx_test,batch_size=config.batch_size)\n",
    "y_lat = classifier.predict(DL.sx_test,batch_size=config.batch_size)"
   ]
  },
  {
   "cell_type": "code",
   "execution_count": 35,
   "metadata": {},
   "outputs": [
    {
     "data": {
      "text/plain": [
       "(10000, 2000)"
      ]
     },
     "execution_count": 35,
     "metadata": {},
     "output_type": "execute_result"
    }
   ],
   "source": [
    "l2_enc.shape"
   ]
  },
  {
   "cell_type": "code",
   "execution_count": 36,
   "metadata": {},
   "outputs": [
    {
     "data": {
      "text/plain": [
       "(10000, 35)"
      ]
     },
     "execution_count": 36,
     "metadata": {},
     "output_type": "execute_result"
    }
   ],
   "source": [
    "_lat_vec = np.concatenate([y_lat,z_enc],axis=1)\n",
    "_lat_vec.shape"
   ]
  },
  {
   "cell_type": "code",
   "execution_count": 37,
   "metadata": {},
   "outputs": [],
   "source": [
    "z_enc_mu = np.mean(z_enc,axis=0)\n",
    "z_enc_cov = np.cov(z_enc,rowvar=False)"
   ]
  },
  {
   "cell_type": "code",
   "execution_count": 38,
   "metadata": {},
   "outputs": [
    {
     "data": {
      "text/plain": [
       "(50, 25)"
      ]
     },
     "execution_count": 38,
     "metadata": {},
     "output_type": "execute_result"
    }
   ],
   "source": [
    "np.random.multivariate_normal(z_enc_mu,z_enc_cov,size=50).shape"
   ]
  },
  {
   "cell_type": "code",
   "execution_count": 39,
   "metadata": {},
   "outputs": [],
   "source": [
    "regen = generator.predict(_lat_vec,batch_size=config.batch_size)"
   ]
  },
  {
   "cell_type": "code",
   "execution_count": 40,
   "metadata": {},
   "outputs": [
    {
     "data": {
      "text/plain": [
       "<matplotlib.image.AxesImage at 0x7fc8b97936d8>"
      ]
     },
     "execution_count": 40,
     "metadata": {},
     "output_type": "execute_result"
    },
    {
     "data": {
      "image/png": "[encoded data removed]",
      "text/plain": [
       "<Figure size 432x288 with 1 Axes>"
      ]
     },
     "metadata": {
      "needs_background": "light"
     },
     "output_type": "display_data"
    }
   ],
   "source": [
    "rand_im = np.random.randint(0,10000)\n",
    "plt.imshow(regen[rand_im].reshape(56,56),cmap='gray')"
   ]
  },
  {
   "cell_type": "code",
   "execution_count": 41,
   "metadata": {},
   "outputs": [
    {
     "data": {
      "text/plain": [
       "array([ 1.0918759e-01,  1.6671871e-03,  2.9946511e-04,  9.2745904e-05,\n",
       "        7.1235648e-03,  8.8155180e-01,  6.5739165e-05,  8.6603001e-07,\n",
       "        6.9293264e-08,  1.0923496e-05,  4.2274788e-02, -2.5561299e-02,\n",
       "        4.1399479e-01,  6.0253465e-01, -1.7411461e-01, -3.1582645e-01,\n",
       "        7.1400516e-02,  3.2715109e-01, -4.8567542e-01, -1.2039887e-01,\n",
       "        4.3924022e-01,  8.7832195e-01,  1.2887082e-01,  6.8330532e-01,\n",
       "       -7.7269077e-01, -7.4720252e-01, -6.3901588e-02,  8.7956685e-01,\n",
       "        5.2469569e-01, -7.3718768e-01, -3.2056934e-01,  5.9964424e-01,\n",
       "        4.5482212e-01, -5.4698497e-01, -1.0353476e-02], dtype=float32)"
      ]
     },
     "execution_count": 41,
     "metadata": {},
     "output_type": "execute_result"
    }
   ],
   "source": [
    "_lat_vec[rand_im]"
   ]
  },
  {
   "cell_type": "code",
   "execution_count": 42,
   "metadata": {},
   "outputs": [
    {
     "name": "stdout",
     "output_type": "stream",
     "text": [
      "input_shape:  (3136,)\n",
      "dataset:  fashion_mnist\n",
      "scale:  2\n",
      "tx_max:  None\n",
      "rot_max:  None\n",
      "loading fashion_mnist...\n",
      "sx_train:  (60000, 3136)\n",
      "making training data...\n",
      "making testing data...\n"
     ]
    }
   ],
   "source": [
    "DL2 = Shifted_Data_Loader(dataset=config.dataset,flatten=True,\n",
    "                         rotation=None,\n",
    "                         translation=translation_amt,\n",
    "                        )"
   ]
  },
  {
   "cell_type": "code",
   "execution_count": 43,
   "metadata": {},
   "outputs": [
    {
     "data": {
      "image/png": "[encoded data removed]",
      "text/plain": [
       "<Figure size 432x576 with 20 Axes>"
      ]
     },
     "metadata": {
      "needs_background": "light"
     },
     "output_type": "display_data"
    }
   ],
   "source": [
    "enc_dec_samples(DL.x_test,DL.sx_test,z_enc,y_lat,generator)"
   ]
  },
  {
   "cell_type": "code",
   "execution_count": 44,
   "metadata": {},
   "outputs": [],
   "source": [
    "z_enc2 = z_encoder.predict(DL2.sx_test,batch_size=config.batch_size)\n",
    "y_lat2 = classifier.predict(DL2.sx_test,batch_size=config.batch_size)\n",
    "_lat_vec2 = np.concatenate([y_lat2,z_enc2],axis=1)\n",
    "regen2 = generator.predict(_lat_vec2,batch_size=config.batch_size)"
   ]
  },
  {
   "cell_type": "code",
   "execution_count": null,
   "metadata": {},
   "outputs": [],
   "source": [
    "from src.plot import remove_axes,remove_labels\n",
    "from src.utils import gen_trajectory"
   ]
  },
  {
   "cell_type": "code",
   "execution_count": null,
   "metadata": {},
   "outputs": [],
   "source": [
    "examples = 5\n",
    "rand_im = np.random.randint(0,10000,size=examples)\n",
    "fix,axs = plt.subplots(examples,11,figsize=(8,4))\n",
    "_lat_s = []\n",
    "regen_s = []\n",
    "out = gen_trajectory(z_enc[rand_im],z_enc2[rand_im],delta=.25)\n",
    "out_y = gen_trajectory(y_lat[rand_im],y_lat2[rand_im],delta=.25)\n",
    "\n",
    "for z,y in zip(out,out_y):\n",
    "    _lat = np.concatenate([y,z],axis=1)\n",
    "    _lat_s.append(_lat)\n",
    "    regen_s.append(generator.predict(_lat,batch_size=config.batch_size))\n",
    "\n",
    "i=0\n",
    "for axr,idx in zip(axs,rand_im):\n",
    "    axr[0].imshow(DL.x_test[idx].reshape(28,28),cmap='gray')\n",
    "    axr[1].imshow(DL.sx_test[idx].reshape(56,56),cmap='gray')\n",
    "    axr[2].imshow(regen[idx].reshape(56,56),cmap='gray')\n",
    "    for j,a in enumerate(axr[3:-3]):\n",
    "        a.imshow(regen_s[j][i,:].reshape(56,56),cmap='gray')\n",
    "#         a.imshow(s.reshape(56,56),cmap='gray')\n",
    "    axr[-3].imshow(regen2[idx].reshape(56,56),cmap='gray')\n",
    "    axr[-2].imshow(DL2.sx_test[idx].reshape(56,56),cmap='gray')\n",
    "    axr[-1].imshow(DL2.x_test[idx].reshape(28,28),cmap='gray')\n",
    "    for a in axr:\n",
    "        remove_axes(a)\n",
    "        remove_labels(a)\n",
    "    i+=1\n",
    "# plt.imshow(regen[rand_im].reshape(56,56),cmap='gray')"
   ]
  },
  {
   "cell_type": "code",
   "execution_count": null,
   "metadata": {},
   "outputs": [],
   "source": [
    "# fix.savefig('../../updates/2019-02-05/assets/img/translocate_{}.png'.format(translation_amt))"
   ]
  },
  {
   "cell_type": "code",
   "execution_count": null,
   "metadata": {},
   "outputs": [],
   "source": [
    "dxs = DL.dx[1]-14\n",
    "dys = DL.dy[1]-14"
   ]
  },
  {
   "cell_type": "code",
   "execution_count": null,
   "metadata": {},
   "outputs": [],
   "source": [
    "from sklearn.preprocessing import MinMaxScaler\n",
    "\n",
    "feat_range = (0,30)\n",
    "z_enc_scaled = [MinMaxScaler(feat_range).fit_transform(z_enc[:,i].reshape(-1,1)).tolist() for i in np.arange(25)]\n",
    "z_enc_scaled = np.squeeze(np.array(z_enc_scaled,dtype=int))"
   ]
  },
  {
   "cell_type": "code",
   "execution_count": null,
   "metadata": {},
   "outputs": [],
   "source": [
    "l2_enc_scaled = [MinMaxScaler(feat_range).fit_transform(l2_enc[:,i].reshape(-1,1)).tolist() for i in np.arange(2000)]\n",
    "l2_enc_scaled = np.squeeze(np.array(l2_enc_scaled,dtype=int))"
   ]
  },
  {
   "cell_type": "code",
   "execution_count": null,
   "metadata": {},
   "outputs": [],
   "source": [
    "l2_enc_scaled.shape"
   ]
  },
  {
   "cell_type": "code",
   "execution_count": null,
   "metadata": {},
   "outputs": [],
   "source": [
    "from collections import Counter\n",
    "import dit\n",
    "from dit import Distribution\n",
    "\n",
    "def mutual_information(X,Y):\n",
    "    XY_c = Counter(zip(X,Y))\n",
    "    XY_pmf = {k:v/float(sum(XY_c.values())) for k,v in XY_c.items()}\n",
    "    XY_jdist = Distribution(XY_pmf)\n",
    "        \n",
    "    return dit.shannon.mutual_information(XY_jdist,[0],[1])"
   ]
  },
  {
   "cell_type": "code",
   "execution_count": null,
   "metadata": {},
   "outputs": [],
   "source": [
    "z_dx_I = [mutual_information(z_enc_scaled[i],dxs.astype(int)+14) for i in np.arange(25)]\n",
    "l2_dx_I = [mutual_information(l2_enc_scaled[i],dxs.astype(int)+14) for i in np.arange(2000)]"
   ]
  },
  {
   "cell_type": "code",
   "execution_count": null,
   "metadata": {},
   "outputs": [],
   "source": [
    "z_dy_I = [mutual_information(z_enc_scaled[i],dys.astype(int)+14) for i in np.arange(25)]\n",
    "l2_dy_I = [mutual_information(l2_enc_scaled[i],dys.astype(int)+14) for i in np.arange(2000)]"
   ]
  },
  {
   "cell_type": "code",
   "execution_count": null,
   "metadata": {},
   "outputs": [],
   "source": [
    "z_class_I = [mutual_information(z_enc_scaled[i],DL.y_test) for i in np.arange(25)]\n",
    "l2_class_I = [mutual_information(l2_enc_scaled[i],DL.y_test) for i in np.arange(2000)]"
   ]
  },
  {
   "cell_type": "code",
   "execution_count": null,
   "metadata": {},
   "outputs": [],
   "source": [
    "z_I_df = pd.DataFrame.from_records({'class':z_class_I,'dy':z_dy_I,'dx':z_dx_I})\n",
    "z_I_df['class'] = z_I_df['class'].values.round(decimals=1)"
   ]
  },
  {
   "cell_type": "code",
   "execution_count": null,
   "metadata": {},
   "outputs": [],
   "source": [
    "l2_I_df = pd.DataFrame.from_records({\n",
    "    'class':l2_class_I,\n",
    "    'dy':l2_dy_I,\n",
    "    'dx':l2_dx_I})\n",
    "l2_I_df['class'] = l2_I_df['class'].values.round(decimals=1)"
   ]
  },
  {
   "cell_type": "code",
   "execution_count": null,
   "metadata": {},
   "outputs": [],
   "source": [
    "l2_I_df.head()"
   ]
  },
  {
   "cell_type": "code",
   "execution_count": null,
   "metadata": {},
   "outputs": [],
   "source": [
    "plt.hist(l2_I_df.dx)"
   ]
  },
  {
   "cell_type": "code",
   "execution_count": null,
   "metadata": {},
   "outputs": [],
   "source": [
    "plt.hist(z_I_df.dx)"
   ]
  },
  {
   "cell_type": "code",
   "execution_count": null,
   "metadata": {},
   "outputs": [],
   "source": [
    "config.translation_amt = translation_amt\n",
    "config.translation_amt"
   ]
  },
  {
   "cell_type": "code",
   "execution_count": null,
   "metadata": {},
   "outputs": [],
   "source": [
    "dir_path = '../data/xcov_importance/dist_{}/'.format(translation_amt)\n",
    "\n",
    "z_I_df.to_pickle('../data/xcov_importance/dist_{}/z_mutual_info.pk'.format(translation_amt))\n",
    "np.save('../data/xcov_importance/dist_{}/dxs'.format(translation_amt), DL.dx[1]-14)\n",
    "np.save('../data/xcov_importance/dist_{}/dys'.format(translation_amt), DL.dy[1]-14)\n",
    "np.save('../data/xcov_importance/dist_{}/z_enc'.format(translation_amt), z_enc)\n",
    "\n",
    "hist_df.to_pickle(os.path.join(dir_path,'training_hist.df'))\n",
    "\n",
    "with open(os.path.join(dir_path,'config.json'), 'w') as fp:\n",
    "        json.dump(vars(config), fp)"
   ]
  },
  {
   "cell_type": "code",
   "execution_count": null,
   "metadata": {},
   "outputs": [],
   "source": []
  },
  {
   "cell_type": "code",
   "execution_count": null,
   "metadata": {},
   "outputs": [],
   "source": [
    "def filter_by_weight(wts,thresh=0.01):\n",
    "    idxs = np.abs(wts)>thresh\n",
    "    return idxs"
   ]
  },
  {
   "cell_type": "code",
   "execution_count": null,
   "metadata": {},
   "outputs": [],
   "source": [
    "dx_max = np.argmax(z_I_df.dx.values)\n",
    "dy_max = np.argmax(z_I_df.dy.values)"
   ]
  },
  {
   "cell_type": "code",
   "execution_count": null,
   "metadata": {},
   "outputs": [],
   "source": []
  },
  {
   "cell_type": "code",
   "execution_count": null,
   "metadata": {},
   "outputs": [],
   "source": [
    "t = 0.05\n",
    "dx_filt = filter_by_weight(z_w_k[:,dx_max],thresh=t)\n",
    "dy_filt = filter_by_weight(z_w_k[:,dy_max],thresh=t)\n",
    "union = np.union1d(np.where(dx_filt==True),np.where(dy_filt==True))\n",
    "intersect = np.intersect1d(np.where(dx_filt==True),np.where(dy_filt==True))\n",
    "# filt = np.array([False]*2000)\n",
    "# filt[union] = True\n",
    "\n",
    "sns.set_context('talk')\n",
    "fig,axs = plt.subplots(1,2,figsize=(6*2,5))\n",
    "\n",
    "filt = dy_filt\n",
    "print('num: ',len(union))\n",
    "print('intersect_frac: ',float(len(intersect))/len(union))\n",
    "print('mean dx_I: ',l2_I_df.dx[filt].mean())\n",
    "print('mean dy_I: ',l2_I_df.dy[filt].mean())\n",
    "points = axs[0].scatter(x=l2_I_df['dx'],y=l2_I_df['dy'],\n",
    "                        c=l2_I_df['class'],cmap='viridis',vmin=0,vmax=0.4,s=z_I_df['class']*100\n",
    "                       )\n",
    "plt.colorbar(points)\n",
    "points = axs[1].scatter(x=z_I_df['dx'],y=z_I_df['dy'],c=z_I_df['class'],cmap='viridis',s=z_I_df['class']*100,vmin=0,vmax=0.4)\n",
    "# plt.colorbar(points)\n",
    "axs[0].set_ylim(0,0.9)\n",
    "axs[0].set_xlim(0,0.9)\n",
    "axs[1].set_ylim(0,0.9)\n",
    "axs[1].set_xlim(0,0.9)\n"
   ]
  },
  {
   "cell_type": "code",
   "execution_count": null,
   "metadata": {},
   "outputs": [],
   "source": [
    "fig,ax = plt.subplots(1,1,figsize=(5,5))\n",
    "ax.scatter(z_dx_I,z_dy_I)\n",
    "# ax.set_ylim(0,0.8)\n",
    "# ax.set_xlim(0,0.8)"
   ]
  },
  {
   "cell_type": "code",
   "execution_count": null,
   "metadata": {},
   "outputs": [],
   "source": []
  },
  {
   "cell_type": "code",
   "execution_count": null,
   "metadata": {},
   "outputs": [],
   "source": [
    "plt.scatter(np.arange(25),sorted(z_class_I,reverse=True))\n",
    "# plt.scatter(np.arange(25),z_dx_I)\n",
    "# plt.scatter(np.arange(25),z_dy_I)"
   ]
  },
  {
   "cell_type": "code",
   "execution_count": null,
   "metadata": {},
   "outputs": [],
   "source": [
    "from src.metrics import var_expl,norm_var_expl\n",
    "from collections import Counter\n",
    "\n",
    "dtheta = DL.dtheta[1]\n",
    "fve_dx = norm_var_expl(features=z_enc,cond=dxs,bins=21)\n",
    "fve_dy = norm_var_expl(features=z_enc,cond=dys,bins=21)\n",
    "fve_class = norm_var_expl(features=z_enc, cond=DL.y_test, bins=21)\n",
    "# fve_dt = norm_var_expl(features=z_enc,cond=dtheta,bins=21)"
   ]
  },
  {
   "cell_type": "code",
   "execution_count": null,
   "metadata": {},
   "outputs": [],
   "source": [
    "# fve_dx_norm = (dxs.var()-fve_dx)/dxs.var()\n",
    "# fve_dy_norm = (dys.var()-fve_dy)/dys.var()\n",
    "# fve_dth_norm = (dtheta.var()-fve_dt)/dtheta.var()\n",
    "fve_dx_norm = fve_dx\n",
    "fve_dy_norm = fve_dy"
   ]
  },
  {
   "cell_type": "code",
   "execution_count": null,
   "metadata": {},
   "outputs": [],
   "source": [
    "import seaborn as sns\n",
    "sns.set_context('talk')"
   ]
  },
  {
   "cell_type": "code",
   "execution_count": null,
   "metadata": {},
   "outputs": [],
   "source": [
    "fve_dx_norm.shape\n",
    "# np.save(os.path.join(config.model_dir,'fve_dx_norm'),fve_dx_norm)"
   ]
  },
  {
   "cell_type": "code",
   "execution_count": null,
   "metadata": {},
   "outputs": [],
   "source": [
    "fig,ax = plt.subplots(1,1,figsize=(5,5))\n",
    "plt.scatter(fve_dx_norm.mean(axis=0),fve_dy_norm.mean(axis=0))\n",
    "plt.xlabel('fve_dx')\n",
    "plt.ylabel('fve_dy')\n",
    "plt.tight_layout()\n",
    "# plt.savefig(os.path.join(config.model_dir,'fve_dx.png'))\n",
    "# plt.ylim(-0.125,0.25)\n",
    "xdim = np.argmax(fve_dx_norm.mean(axis=0))"
   ]
  },
  {
   "cell_type": "code",
   "execution_count": null,
   "metadata": {},
   "outputs": [],
   "source": [
    "fve_dy_norm.mean(axis=0)\n",
    "# np.save(os.path.join(config.model_dir,'fve_dy_norm'),fve_dy_norm)"
   ]
  },
  {
   "cell_type": "code",
   "execution_count": null,
   "metadata": {},
   "outputs": [],
   "source": [
    "plt.scatter(np.arange(config.z_dim),fve_dy_norm.mean(axis=0))\n",
    "plt.xlabel('Z_n')\n",
    "plt.ylabel('fve_dy')\n",
    "plt.tight_layout()\n",
    "# plt.savefig(os.path.join(config.model_dir,'fve_dy.png'))\n",
    "# plt.ylim(-0.125,0.25)\n",
    "ydim = np.argmax(fve_dy_norm.mean(axis=0))"
   ]
  },
  {
   "cell_type": "code",
   "execution_count": null,
   "metadata": {},
   "outputs": [],
   "source": [
    "plt.scatter(np.arange(config.z_dim),fve_class.mean(axis=0))\n",
    "plt.xlabel('Z_n')\n",
    "plt.ylabel('fve_class')\n",
    "# plt.ylim(0.0,0.5)\n",
    "np.argmax(fve_class.mean(axis=0))"
   ]
  },
  {
   "cell_type": "code",
   "execution_count": null,
   "metadata": {},
   "outputs": [],
   "source": [
    "from src.plot import Z_color_scatter\n",
    "Z_color_scatter(z_enc,[xdim,ydim],dxs)"
   ]
  },
  {
   "cell_type": "code",
   "execution_count": null,
   "metadata": {},
   "outputs": [],
   "source": [
    "Z_color_scatter(z_enc,[xdim,ydim],dys)"
   ]
  },
  {
   "cell_type": "code",
   "execution_count": null,
   "metadata": {},
   "outputs": [],
   "source": [
    "Z_color_scatter(z_enc,[7,18],dtheta)"
   ]
  },
  {
   "cell_type": "code",
   "execution_count": null,
   "metadata": {},
   "outputs": [],
   "source": [
    "from plt."
   ]
  },
  {
   "cell_type": "code",
   "execution_count": null,
   "metadata": {},
   "outputs": [],
   "source": []
  }
 ],
 "metadata": {
  "kernelspec": {
   "display_name": "Py3-GPU (Python3.5.2)",
   "language": "python",
   "name": "py3-gpu"
  },
  "language_info": {
   "codemirror_mode": {
    "name": "ipython",
    "version": 3
   },
   "file_extension": ".py",
   "mimetype": "text/x-python",
   "name": "python",
   "nbconvert_exporter": "python",
   "pygments_lexer": "ipython3",
   "version": "3.5.2"
  }
 },
 "nbformat": 4,
 "nbformat_minor": 2
}
