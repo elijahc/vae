{
 "cells": [
  {
   "cell_type": "code",
   "execution_count": 1,
   "metadata": {},
   "outputs": [
    {
     "name": "stderr",
     "output_type": "stream",
     "text": [
      "Using TensorFlow backend.\n"
     ]
    }
   ],
   "source": [
    "import dit\n",
    "import os\n",
    "\n",
    "import numpy as np\n",
    "import pandas as pd\n",
    "from collections import Counter\n",
    "\n",
    "from sklearn.preprocessing import MinMaxScaler\n",
    "from sklearn.metrics import auc\n",
    "\n",
    "from dit import ScalarDistribution\n",
    "\n",
    "import matplotlib.pyplot as plt\n",
    "%matplotlib inline\n",
    "\n",
    "from src.data_loader import Shifted_Data_Loader\n"
   ]
  },
  {
   "cell_type": "code",
   "execution_count": 2,
   "metadata": {},
   "outputs": [],
   "source": [
    "dataset='fashion_mnist'\n",
    "data_root = '../data/style_embeddings/'\n",
    "tx_vals = np.arange(10)/10.\n",
    "z_dfs = [pd.read_pickle(os.path.join(data_root,'merge_{}.pk'.format(tx))) for tx in tx_vals]\n"
   ]
  },
  {
   "cell_type": "code",
   "execution_count": 3,
   "metadata": {},
   "outputs": [
    {
     "data": {
      "text/html": [
       "<div>\n",
       "<style scoped>\n",
       "    .dataframe tbody tr th:only-of-type {\n",
       "        vertical-align: middle;\n",
       "    }\n",
       "\n",
       "    .dataframe tbody tr th {\n",
       "        vertical-align: top;\n",
       "    }\n",
       "\n",
       "    .dataframe thead th {\n",
       "        text-align: right;\n",
       "    }\n",
       "</style>\n",
       "<table border=\"1\" class=\"dataframe\">\n",
       "  <thead>\n",
       "    <tr style=\"text-align: right;\">\n",
       "      <th></th>\n",
       "      <th>dx</th>\n",
       "      <th>dy</th>\n",
       "      <th>z_enc</th>\n",
       "      <th>class_id</th>\n",
       "      <th>isomap_dim_1</th>\n",
       "      <th>scaled_isomap_dim_1</th>\n",
       "    </tr>\n",
       "  </thead>\n",
       "  <tbody>\n",
       "    <tr>\n",
       "      <th>0</th>\n",
       "      <td>2.0</td>\n",
       "      <td>-3.0</td>\n",
       "      <td>[2.62276291847229, -9.880125999450684, -0.9262...</td>\n",
       "      <td>9</td>\n",
       "      <td>2501.723983</td>\n",
       "      <td>7.665259</td>\n",
       "    </tr>\n",
       "    <tr>\n",
       "      <th>1</th>\n",
       "      <td>2.0</td>\n",
       "      <td>-2.0</td>\n",
       "      <td>[-12.732379913330078, 4.377309322357178, 3.792...</td>\n",
       "      <td>2</td>\n",
       "      <td>2509.234302</td>\n",
       "      <td>6.727526</td>\n",
       "    </tr>\n",
       "    <tr>\n",
       "      <th>2</th>\n",
       "      <td>-4.0</td>\n",
       "      <td>2.0</td>\n",
       "      <td>[-5.7194905281066895, -10.652034759521484, -17...</td>\n",
       "      <td>1</td>\n",
       "      <td>227.763048</td>\n",
       "      <td>4.840256</td>\n",
       "    </tr>\n",
       "    <tr>\n",
       "      <th>3</th>\n",
       "      <td>2.0</td>\n",
       "      <td>-1.0</td>\n",
       "      <td>[2.5953481197357178, 0.31615516543388367, -0.3...</td>\n",
       "      <td>1</td>\n",
       "      <td>764.240528</td>\n",
       "      <td>6.231729</td>\n",
       "    </tr>\n",
       "    <tr>\n",
       "      <th>4</th>\n",
       "      <td>-2.0</td>\n",
       "      <td>-4.0</td>\n",
       "      <td>[-3.6004459857940674, -3.639430284500122, 3.46...</td>\n",
       "      <td>6</td>\n",
       "      <td>-344.645871</td>\n",
       "      <td>-2.835388</td>\n",
       "    </tr>\n",
       "  </tbody>\n",
       "</table>\n",
       "</div>"
      ],
      "text/plain": [
       "    dx   dy                                              z_enc  class_id  \\\n",
       "0  2.0 -3.0  [2.62276291847229, -9.880125999450684, -0.9262...         9   \n",
       "1  2.0 -2.0  [-12.732379913330078, 4.377309322357178, 3.792...         2   \n",
       "2 -4.0  2.0  [-5.7194905281066895, -10.652034759521484, -17...         1   \n",
       "3  2.0 -1.0  [2.5953481197357178, 0.31615516543388367, -0.3...         1   \n",
       "4 -2.0 -4.0  [-3.6004459857940674, -3.639430284500122, 3.46...         6   \n",
       "\n",
       "   isomap_dim_1  scaled_isomap_dim_1  \n",
       "0   2501.723983             7.665259  \n",
       "1   2509.234302             6.727526  \n",
       "2    227.763048             4.840256  \n",
       "3    764.240528             6.231729  \n",
       "4   -344.645871            -2.835388  "
      ]
     },
     "execution_count": 3,
     "metadata": {},
     "output_type": "execute_result"
    }
   ],
   "source": [
    "z_dfs[3].head()"
   ]
  },
  {
   "cell_type": "code",
   "execution_count": 4,
   "metadata": {},
   "outputs": [],
   "source": [
    "z_dfs[3]\n",
    "z_encodings = [np.array(df.z_enc.values.tolist()) for df in z_dfs]\n",
    "dxs = np.array([df.dx.values.tolist() for df in z_dfs],dtype=int)+14\n",
    "dys = np.array([df.dy.values.tolist() for df in z_dfs],dtype=int)+14\n",
    "iso = np.array([df.isomap_dim_1.values.tolist() for df in z_dfs])\n",
    "cids = np.array([df.class_id.values.tolist() for df in z_dfs])"
   ]
  },
  {
   "cell_type": "code",
   "execution_count": 5,
   "metadata": {},
   "outputs": [],
   "source": [
    "class RunResult():\n",
    "    def __init__(self,z_encodings,dx,dy,iso,class_id):\n",
    "        self.z_encoding_raw = z_encodings\n",
    "        self.z_dim = z_encodings.shape[-1]\n",
    "        self.dx = dx\n",
    "        self.dy = dy\n",
    "        self.isomap_1D_raw = iso\n",
    "        self.class_id = class_id\n",
    "        \n",
    "    def z_enc(self,feat_range=50):\n",
    "        z_n = [self.z_encoding_raw[:,n] for n in np.arange(self.z_dim)]\n",
    "        return [MinMaxScaler(feature_range=(0,feat_range)).fit_transform(nvec.reshape(-1,1)).flatten().astype(int) for nvec in z_n]\n",
    "\n",
    "    def iso(self,feat_range=50):\n",
    "        return MinMaxScaler(feature_range=(0,feat_range)).fit_transform(self.isomap_1D_raw.reshape(-1,1)).flatten().astype(int)\n",
    "    \n",
    "    def z_enc_joint_dist(self,X):\n",
    "\n",
    "        n_vec = [Counter(zip(n,X)) for n in self.z_enc()]\n",
    "        n_pmf = [{k:v/float(sum(C.values())) for k,v in C.items()} for C in n_vec]\n",
    "        n_cdists = [dit.Distribution(d) for d in n_pmf]\n",
    "    #     n_dists = [ScalarDistribution(d) for d in n_pmf]\n",
    "\n",
    "        return n_cdists\n",
    "    \n",
    "    def entropy(self,X):\n",
    "        jdists = self.z_enc_joint_dist(X)\n",
    "        \n",
    "        return [dit.shannon.entropy(d) for d in jdists]\n",
    "    \n",
    "    def mutual_info(self,X):\n",
    "        jdists = self.z_enc_joint_dist(X)\n",
    "        \n",
    "        return [dit.shannon.mutual_information(d,[0],[1]) for d in jdists]\n",
    "        \n",
    "    def conditional_entropy(self,X):\n",
    "        jdists = self.z_enc_joint_dist(X)\n",
    "        \n",
    "        cond_H = [dit.shannon.mutual_information(d,[1],[0]) for d in jdists]\n",
    "        \n",
    "        return cond_H\n",
    "\n",
    "\n",
    "# n,dx = make_joint_dists(z_encodings[3],dxs[3])"
   ]
  },
  {
   "cell_type": "code",
   "execution_count": 6,
   "metadata": {},
   "outputs": [],
   "source": [
    "result_set = [RunResult(z_encodings[i],dxs[i],dys[i],iso[i],cids[i]) for i in np.arange(10)]"
   ]
  },
  {
   "cell_type": "code",
   "execution_count": 7,
   "metadata": {},
   "outputs": [],
   "source": [
    "z_dx_I = [rr.mutual_info(rr.dx) for rr in result_set]"
   ]
  },
  {
   "cell_type": "code",
   "execution_count": 8,
   "metadata": {},
   "outputs": [],
   "source": [
    "z_dy_I = [rr.mutual_info(rr.dy) for rr in result_set]"
   ]
  },
  {
   "cell_type": "code",
   "execution_count": 9,
   "metadata": {},
   "outputs": [],
   "source": [
    "z_iso_I = [rr.mutual_info(rr.iso(feat_range=50)) for rr in result_set]"
   ]
  },
  {
   "cell_type": "code",
   "execution_count": 10,
   "metadata": {},
   "outputs": [],
   "source": [
    "z_class_I = [rr.mutual_info(rr.class_id) for rr in result_set]"
   ]
  },
  {
   "cell_type": "code",
   "execution_count": 11,
   "metadata": {},
   "outputs": [],
   "source": [
    "z_I_df = [pd.DataFrame.from_records({'dx':x,'dy':y,'style':i,'class':c}) for x,y,i,c in zip(z_dx_I,z_dy_I,z_iso_I,z_class_I)]"
   ]
  },
  {
   "cell_type": "code",
   "execution_count": 17,
   "metadata": {},
   "outputs": [],
   "source": [
    "for df,tx in zip(z_I_df,tx_vals):\n",
    "    df['translation']=tx\n",
    "    df['xcov']=10"
   ]
  },
  {
   "cell_type": "code",
   "execution_count": 19,
   "metadata": {},
   "outputs": [],
   "source": [
    "pd.concat(z_I_df).to_pickle('../data/style_embeddings/z_I.pk')"
   ]
  },
  {
   "cell_type": "code",
   "execution_count": 13,
   "metadata": {},
   "outputs": [
    {
     "data": {
      "image/png": "[encoded data removed]",
      "text/plain": [
       "<Figure size 1440x288 with 20 Axes>"
      ]
     },
     "metadata": {
      "needs_background": "light"
     },
     "output_type": "display_data"
    }
   ],
   "source": [
    "fig,axs = plt.subplots(2,10,figsize=(20,4),sharey=True,sharex=True)\n",
    "# ax.set_ylim(-0.1,0.8)\n",
    "# ax.set_xlim(-0.1,0.8)\n",
    "df = z_I_df[6]\n",
    "points = []\n",
    "for df,i in zip(z_I_df,np.arange(10)):\n",
    "    pts_0 = axs[0,i].scatter(df['dx'],df['dy'],c=df['class'],cmap='viridis')\n",
    "    pts_1 = axs[1,i].scatter(df['dx'],df['dy'],c=df['style'])\n",
    "    \n",
    "# plt.colorbar(points[0])\n",
    "# sns.scatterplot(x='dx',y='dy',hue='class',data=z_I_df[5],palette='plasma',legend=False)"
   ]
  },
  {
   "cell_type": "code",
   "execution_count": 14,
   "metadata": {},
   "outputs": [],
   "source": [
    "# z_I_df = [df['spatial_var']=tx for df,tx in zip(z_I_df,tx_vals)]"
   ]
  },
  {
   "cell_type": "code",
   "execution_count": 15,
   "metadata": {},
   "outputs": [],
   "source": [
    "rr = result_set[5]"
   ]
  },
  {
   "cell_type": "code",
   "execution_count": null,
   "metadata": {},
   "outputs": [],
   "source": [
    "plt.plot(tx_vals,np.array(z_dx_I).mean(axis=1))\n",
    "plt.plot(tx_vals,np.array(z_dy_I).mean(axis=1))\n",
    "plt.plot(tx_vals,np.array(z_iso_I).mean(axis=1))\n",
    "plt.plot(tx_vals,np.array(z_class_I).mean(axis=1))\n",
    "plt.legend(['dx','dy','style','class'])\n",
    "plt.xlabel('Spatial Variation')\n",
    "plt.ylabel('Avg Mutual Info')"
   ]
  },
  {
   "cell_type": "code",
   "execution_count": null,
   "metadata": {},
   "outputs": [],
   "source": [
    "import seaborn as sns\n",
    "sns.set_context('talk')\n",
    "fig,axs = plt.subplots(4,10,sharex=True,sharey=True,figsize=(20,6))\n",
    "for fx,fy,fisos,fclass,i in zip(z_dx_I,z_dy_I,z_iso_I,z_class_I,np.arange(10)):\n",
    "    axs[0,i].scatter(np.arange(25),sorted(fx,reverse=True))\n",
    "    axs[1,i].scatter(np.arange(25),sorted(fy,reverse=True))\n",
    "    axs[2,i].scatter(np.arange(25),sorted(fisos,reverse=True))\n",
    "    axs[3,i].scatter(np.arange(25),sorted(fclass,reverse=True))\n",
    "\n",
    "    axs[0,0].set_ylabel('I(dX|Z)')\n",
    "    axs[1,0].set_ylabel('I(dY|Z)')\n",
    "    axs[2,0].set_ylabel('I(S|Z)')\n",
    "    axs[3,0].set_ylabel('I(C|Z)')\n",
    "    \n",
    "    for ax in axs[3]:\n",
    "        ax.set_xticks([])\n",
    "plt.tight_layout()\n",
    "\n",
    "plt.savefig('../figures/2019-01-28/unit_shanon_waterfall.png')"
   ]
  },
  {
   "cell_type": "code",
   "execution_count": null,
   "metadata": {},
   "outputs": [],
   "source": [
    "plt.plot(tx_vals,[auc(np.arange(25)/25.0,z_dx_I[i]) for i in np.arange(10)])\n",
    "plt.plot(tx_vals,[auc(np.arange(25)/25.0,z_dy_I[i]) for i in np.arange(10)])\n",
    "plt.plot(tx_vals,[auc(np.arange(25)/25.0,z_iso_I[i]) for i in np.arange(10)])\n",
    "plt.plot(tx_vals,[auc(np.arange(25)/25.0,z_class_I[i]) for i in np.arange(10)])\n",
    "plt.legend(['dx','dy','style','class'])\n",
    "plt.xlabel('Spatial Variation')\n",
    "plt.ylabel('AUC ()')\n",
    "plt.tight_layout()\n",
    "plt.savefig('../figures/2019-01-28/shannon_auc_vs_spatial_variation.png')"
   ]
  },
  {
   "cell_type": "code",
   "execution_count": null,
   "metadata": {},
   "outputs": [],
   "source": []
  }
 ],
 "metadata": {
  "kernelspec": {
   "display_name": "Py3-GPU (Python3.5.2)",
   "language": "python",
   "name": "py3-gpu"
  },
  "language_info": {
   "codemirror_mode": {
    "name": "ipython",
    "version": 3
   },
   "file_extension": ".py",
   "mimetype": "text/x-python",
   "name": "python",
   "nbconvert_exporter": "python",
   "pygments_lexer": "ipython3",
   "version": "3.5.2"
  }
 },
 "nbformat": 4,
 "nbformat_minor": 2
}
