{
 "cells": [
  {
   "cell_type": "markdown",
   "metadata": {},
   "source": [
    "# Use cifar on the autoencoder"
   ]
  },
  {
   "cell_type": "code",
   "execution_count": 40,
   "metadata": {},
   "outputs": [],
   "source": [
    "import os\n",
    "import json\n",
    "import numpy as np\n",
    "import pandas as pd\n",
    "import scipy\n",
    "import requests\n",
    "import xml.etree.ElementTree as ET\n",
    "\n",
    "import matplotlib.pyplot as plt\n",
    "import seaborn as sns\n",
    "%matplotlib inline\n",
    "\n",
    "from src.data_loader import Shifted_Data_Loader\n",
    "from src.plot import orig_vs_transformed as plot_ovt\n",
    "from src.plot import enc_dec_samples\n",
    "from src.models import GResNet,EResNet,ResBlock,EncResBlock\n",
    "from src.config import get_config\n",
    "from src.trainer import Trainer\n",
    "from src.utils import prepare_dirs_and_logger\n",
    "from keras.datasets import fashion_mnist,mnist\n",
    "from keras.layers import Dense\n",
    "from keras.applications.imagenet_utils import decode_predictions,preprocess_input\n",
    "from keras.preprocessing import image\n",
    "# from tabulate import tabulate"
   ]
  },
  {
   "cell_type": "code",
   "execution_count": 27,
   "metadata": {},
   "outputs": [],
   "source": [
    "# Cat synset\n",
    "wnid = 'n02121620'\n",
    "\n",
    "dog_wnid = 'n02094433'\n",
    "kit_fox = 'n02119789'"
   ]
  },
  {
   "cell_type": "code",
   "execution_count": 134,
   "metadata": {},
   "outputs": [
    {
     "name": "stdout",
     "output_type": "stream",
     "text": [
      "828\n"
     ]
    },
    {
     "data": {
      "text/plain": [
       "['http://farm1.static.flickr.com/9/14720420_8830007ef2.jpg',\n",
       " 'http://filin.vn.ua/image/enot/v.chama.jpg',\n",
       " 'http://upload.wikimedia.org/wikipedia/commons/thumb/b/bc/Kitfuchs.jpg/260px-Kitfuchs.jpg',\n",
       " 'http://www.nps.gov/pwr/customcf/apps/CMS_HandF/GreenBoxPics/GRBA_marmot375x100.jpg',\n",
       " 'http://img.search.com/thumb/7/73/Coyote_portrait.jpg/200px-Coyote_portrait.jpg']"
      ]
     },
     "execution_count": 134,
     "metadata": {},
     "output_type": "execute_result"
    }
   ],
   "source": [
    "def get_mapping(wnid):\n",
    "    endpoint = 'http://www.image-net.org/api/text/imagenet.synset.geturls.getmapping?wnid={}'.format(wnid)\n",
    "    resp = requests.get(endpoint)\n",
    "    mapping = resp.text.split('\\r\\n')\n",
    "    slugs = []\n",
    "    urls = []\n",
    "    for m in mapping:\n",
    "        s = m.split(' ')\n",
    "        if len(s) > 1:\n",
    "            slugs.append(s[0])\n",
    "            urls.append(s[1])\n",
    "        \n",
    "    return (slugs,urls)\n",
    "    \n",
    "class SynSet(object):\n",
    "    def __init__(self,wnid,data_dir='/home/elijahc/data/imagenet'):\n",
    "        self.data_dir = data_dir\n",
    "        self.wnid = wnid\n",
    "        slugs,urls = get_mapping(self.wnid)\n",
    "        self.slugs = slugs\n",
    "        self.urls = urls\n",
    "        self._url2id = None\n",
    "        self._id2url = None\n",
    "        self.bbox_dir = None\n",
    "    \n",
    "    def geturls(self):\n",
    "        endpoint = 'http://www.image-net.org/api/text/imagenet.synset.geturls?wnid={}'.format(self.wnid)\n",
    "        resp = requests.get(endpoint)\n",
    "        urls = resp.text.split('\\r\\n')\n",
    "        return urls\n",
    "    \n",
    "    def url2id(self,url):\n",
    "        if self._url2id is None:\n",
    "            self._url2id = {k:v for k,v in zip(self.urls,self.slugs)}\n",
    "        return self._url2id[str(url)]\n",
    "    \n",
    "    def id2url(self,image_id):\n",
    "        if self._id2url is None:\n",
    "            self._id2url = {k:v for k,v in zip(self.slugs,self.urls)}\n",
    "        return self._id2url[str(image_id)]\n",
    "    \n",
    "    def get_bbox(self,image_id,bbox_dir=None):\n",
    "        if bbox_dir is None:\n",
    "            self.bbox_dir = os.path.join(self.data_dir,'Annotation',str(self.wnid))\n",
    "        \n",
    "        bbox_fp = os.path.join(self.bbox_dir,str(self.wnid)+'_{}.xml'.format(image_id))\n",
    "        root = ET.parse(bbox_fp).getroot()\n",
    "        bboxes = []\n",
    "        for o in root.findall('./object'):\n",
    "            bbox = {}\n",
    "            for c in o[-1]:\n",
    "                bbox[c.tag]=int(c.text)\n",
    "            bboxes.append(bbox)\n",
    "        return bboxes\n",
    "            \n",
    "        \n",
    "kit_fox = SynSet(wnid='n02119789',data_dir='/home/elijahc/data/imagenet/examples/kit_fox')\n",
    "\n",
    "urls = kit_fox.geturls()\n",
    "print(len(urls))\n",
    "urls[:5]"
   ]
  },
  {
   "cell_type": "code",
   "execution_count": 135,
   "metadata": {},
   "outputs": [
    {
     "data": {
      "text/plain": [
       "['n02119789_8097',\n",
       " 'n02119789_8122',\n",
       " 'n02119789_8126',\n",
       " 'n02119789_2168',\n",
       " 'n02119789_8139',\n",
       " 'n02119789_8141',\n",
       " 'n02119789_8146',\n",
       " 'n02119789_8174',\n",
       " 'n02119789_8197',\n",
       " 'n02119789_8231']"
      ]
     },
     "execution_count": 135,
     "metadata": {},
     "output_type": "execute_result"
    }
   ],
   "source": [
    "kit_fox.slugs[:10]"
   ]
  },
  {
   "cell_type": "code",
   "execution_count": 136,
   "metadata": {},
   "outputs": [
    {
     "data": {
      "text/plain": [
       "'http://static2.postcrossing.com/postcard/medium/9dbf1daeb15171e70dfe1fb8885b8be4.jpg'"
      ]
     },
     "execution_count": 136,
     "metadata": {},
     "output_type": "execute_result"
    }
   ],
   "source": [
    "kit_fox.id2url('n02119789_8146')"
   ]
  },
  {
   "cell_type": "code",
   "execution_count": 137,
   "metadata": {},
   "outputs": [],
   "source": [
    "bbox = kit_fox.get_bbox(image_id=8146)[0]"
   ]
  },
  {
   "cell_type": "code",
   "execution_count": 138,
   "metadata": {},
   "outputs": [
    {
     "data": {
      "text/plain": [
       "{'xmax': 424, 'xmin': 124, 'ymax': 262, 'ymin': 63}"
      ]
     },
     "execution_count": 138,
     "metadata": {},
     "output_type": "execute_result"
    }
   ],
   "source": [
    "bbox"
   ]
  },
  {
   "cell_type": "code",
   "execution_count": null,
   "metadata": {},
   "outputs": [],
   "source": [
    "im_path = '/home/elijahc/data/imagenet/examples/n02094433/yorkshireterrier_lucas103062.jpg'\n",
    "image_pil = image.load_img(im_path,\n",
    "                           target_size=(56,56),\n",
    "                          )\n",
    "im_np = image.img_to_array(image_pil, data_format='channels_last')\n",
    "plt.imshow(np.uint8(im_np))"
   ]
  },
  {
   "cell_type": "code",
   "execution_count": 2,
   "metadata": {},
   "outputs": [],
   "source": [
    "config,_ = get_config()\n",
    "\n",
    "# Boilerplate\n",
    "setattr(config, 'proj_root', '/home/elijahc/projects/vae')\n",
    "setattr(config, 'log_dir', '/home/elijahc/projects/vae/logs')\n",
    "setattr(config, 'dev_mode',True)\n",
    "# setattr(config,'model_dir','/home/elijahc/projects/vae/models/2019-01-17/')\n",
    "\n",
    "# Architecture Params\n",
    "setattr(config, 'enc_blocks', [32,64,128,256])\n",
    "setattr(config, 'dec_blocks', [4,2,1])\n",
    "setattr(config, 'z_dim', 10)\n",
    "setattr(config, 'y_dim', 10)\n",
    "\n",
    "# Training Params\n",
    "setattr(config, 'batch_size', 512)\n",
    "setattr(config, 'dataset', 'fashion_mnist')\n",
    "setattr(config, 'epochs', 100)\n",
    "setattr(config, 'monitor', 'val_G_loss')\n",
    "setattr(config, 'min_delta', 0.25)\n",
    "setattr(config, 'optimizer', 'adam')\n",
    "\n",
    "# Loss Weights\n",
    "setattr(config, 'xcov', 0)\n",
    "setattr(config, 'recon', 25)\n",
    "setattr(config, 'xent', 15)"
   ]
  },
  {
   "cell_type": "code",
   "execution_count": 3,
   "metadata": {},
   "outputs": [
    {
     "data": {
      "text/plain": [
       "{'batch_size': 512,\n",
       " 'dataset': 'fashion_mnist',\n",
       " 'dec_blocks': [4, 2, 1],\n",
       " 'dev_mode': True,\n",
       " 'enc_blocks': [32, 64, 128, 256],\n",
       " 'enc_layers': [500, 500],\n",
       " 'epochs': 100,\n",
       " 'log_dir': '/home/elijahc/projects/vae/logs',\n",
       " 'log_level': 'INFO',\n",
       " 'min_delta': 0.25,\n",
       " 'monitor': 'val_G_loss',\n",
       " 'optimizer': 'adam',\n",
       " 'proj_root': '/home/elijahc/projects/vae',\n",
       " 'recon': 25,\n",
       " 'xcov': 0,\n",
       " 'xent': 15,\n",
       " 'y_dim': 10,\n",
       " 'z_dim': 10}"
      ]
     },
     "execution_count": 3,
     "metadata": {},
     "output_type": "execute_result"
    }
   ],
   "source": [
    "if not config.dev_mode:\n",
    "    print('setting up...')\n",
    "    prepare_dirs_and_logger(config)\n",
    "    \n",
    "vars(config)"
   ]
  },
  {
   "cell_type": "code",
   "execution_count": 4,
   "metadata": {},
   "outputs": [
    {
     "name": "stdout",
     "output_type": "stream",
     "text": [
      "input_shape:  (56, 56, 1)\n",
      "dataset:  fashion_mnist\n",
      "scale:  2\n",
      "tx_max:  0.8\n",
      "rot_max:  None\n",
      "loading fashion_mnist...\n",
      "sx_train:  (60000, 56, 56, 1)\n",
      "making training data...\n",
      "making testing data...\n"
     ]
    }
   ],
   "source": [
    "translation_amt = 0.8 # Med\n",
    "DL = Shifted_Data_Loader(dataset=config.dataset,flatten=False,\n",
    "                         rotation=None,\n",
    "                         translation=translation_amt,\n",
    "                        )"
   ]
  },
  {
   "cell_type": "code",
   "execution_count": 5,
   "metadata": {},
   "outputs": [
    {
     "data": {
      "text/plain": [
       "(56, 56, 1)"
      ]
     },
     "execution_count": 5,
     "metadata": {},
     "output_type": "execute_result"
    }
   ],
   "source": [
    "DL.input_shape"
   ]
  },
  {
   "cell_type": "code",
   "execution_count": 6,
   "metadata": {},
   "outputs": [
    {
     "name": "stdout",
     "output_type": "stream",
     "text": [
      "building encoder...\n",
      "building decoder/generator...\n"
     ]
    }
   ],
   "source": [
    "G_builder = GResNet(y_dim=config.y_dim,z_dim=config.z_dim,dec_blocks=config.dec_blocks,flatten_out=False)\n",
    "E_builder = EResNet(blocks=config.enc_blocks,z_dim=config.z_dim,y_dim=config.y_dim)\n",
    "trainer = Trainer(config,DL,E_builder,G_builder,)\n",
    "# setattr(trainer.config,'model_dir','/home/elijahc/projects/vae/models/2019-01-22/')"
   ]
  },
  {
   "cell_type": "code",
   "execution_count": 7,
   "metadata": {},
   "outputs": [
    {
     "data": {
      "image/png": "[encoded data removed]",
      "text/plain": [
       "<Figure size 432x288 with 2 Axes>"
      ]
     },
     "metadata": {
      "needs_background": "light"
     },
     "output_type": "display_data"
    }
   ],
   "source": [
    "pt,idx = plot_ovt(DL,cmap='gray')"
   ]
  },
  {
   "cell_type": "code",
   "execution_count": 8,
   "metadata": {},
   "outputs": [],
   "source": [
    "from keras.utils import to_categorical\n",
    "RF = to_categorical(np.ones(len(DL.sx_train)),num_classes=2)"
   ]
  },
  {
   "cell_type": "code",
   "execution_count": 9,
   "metadata": {},
   "outputs": [
    {
     "name": "stdout",
     "output_type": "stream",
     "text": [
      "__________________________________________________________________________________________________\n",
      "Layer (type)                    Output Shape         Param #     Connected to                     \n",
      "==================================================================================================\n",
      "input_image (InputLayer)        (None, 56, 56, 1)    0                                            \n",
      "__________________________________________________________________________________________________\n",
      "block_1_BN_0 (BatchNormalizatio (None, 56, 56, 1)    4           input_image[0][0]                \n",
      "__________________________________________________________________________________________________\n",
      "block_1_ReLU_0 (Activation)     (None, 56, 56, 1)    0           block_1_BN_0[0][0]               \n",
      "__________________________________________________________________________________________________\n",
      "block_1_conv_0 (Conv2D)         (None, 56, 56, 32)   320         block_1_ReLU_0[0][0]             \n",
      "__________________________________________________________________________________________________\n",
      "block_1_BN_1 (BatchNormalizatio (None, 56, 56, 32)   128         block_1_conv_0[0][0]             \n",
      "__________________________________________________________________________________________________\n",
      "block_1_ReLU_1 (Activation)     (None, 56, 56, 32)   0           block_1_BN_1[0][0]               \n",
      "__________________________________________________________________________________________________\n",
      "block_1_conv_1 (Conv2D)         (None, 56, 56, 32)   9248        block_1_ReLU_1[0][0]             \n",
      "__________________________________________________________________________________________________\n",
      "block_1_BN_2 (BatchNormalizatio (None, 56, 56, 32)   128         block_1_conv_1[0][0]             \n",
      "__________________________________________________________________________________________________\n",
      "block_1_ReLU_2 (Activation)     (None, 56, 56, 32)   0           block_1_BN_2[0][0]               \n",
      "__________________________________________________________________________________________________\n",
      "conv2d_1 (Conv2D)               (None, 56, 56, 32)   64          input_image[0][0]                \n",
      "__________________________________________________________________________________________________\n",
      "block_1_conv_2 (Conv2D)         (None, 56, 56, 32)   9248        block_1_ReLU_2[0][0]             \n",
      "__________________________________________________________________________________________________\n",
      "block_1_Add_1 (Add)             (None, 56, 56, 32)   0           conv2d_1[0][0]                   \n",
      "                                                                 block_1_conv_2[0][0]             \n",
      "__________________________________________________________________________________________________\n",
      "block_2_BN_1 (BatchNormalizatio (None, 56, 56, 32)   128         block_1_Add_1[0][0]              \n",
      "__________________________________________________________________________________________________\n",
      "block_2_ReLU_1 (Activation)     (None, 56, 56, 32)   0           block_2_BN_1[0][0]               \n",
      "__________________________________________________________________________________________________\n",
      "block_2_conv_1 (Conv2D)         (None, 28, 28, 64)   18496       block_2_ReLU_1[0][0]             \n",
      "__________________________________________________________________________________________________\n",
      "block_2_BN_2 (BatchNormalizatio (None, 28, 28, 64)   256         block_2_conv_1[0][0]             \n",
      "__________________________________________________________________________________________________\n",
      "block_2_ReLU_2 (Activation)     (None, 28, 28, 64)   0           block_2_BN_2[0][0]               \n",
      "__________________________________________________________________________________________________\n",
      "conv2d_2 (Conv2D)               (None, 28, 28, 64)   2112        block_1_Add_1[0][0]              \n",
      "__________________________________________________________________________________________________\n",
      "block_2_conv_2 (Conv2D)         (None, 28, 28, 64)   36928       block_2_ReLU_2[0][0]             \n",
      "__________________________________________________________________________________________________\n",
      "block_2_Add_1 (Add)             (None, 28, 28, 64)   0           conv2d_2[0][0]                   \n",
      "                                                                 block_2_conv_2[0][0]             \n",
      "__________________________________________________________________________________________________\n",
      "block_3_BN_1 (BatchNormalizatio (None, 28, 28, 64)   256         block_2_Add_1[0][0]              \n",
      "__________________________________________________________________________________________________\n",
      "block_3_ReLU_1 (Activation)     (None, 28, 28, 64)   0           block_3_BN_1[0][0]               \n",
      "__________________________________________________________________________________________________\n",
      "block_3_conv_1 (Conv2D)         (None, 14, 14, 128)  73856       block_3_ReLU_1[0][0]             \n",
      "__________________________________________________________________________________________________\n",
      "block_3_BN_2 (BatchNormalizatio (None, 14, 14, 128)  512         block_3_conv_1[0][0]             \n",
      "__________________________________________________________________________________________________\n",
      "block_3_ReLU_2 (Activation)     (None, 14, 14, 128)  0           block_3_BN_2[0][0]               \n",
      "__________________________________________________________________________________________________\n",
      "conv2d_3 (Conv2D)               (None, 14, 14, 128)  8320        block_2_Add_1[0][0]              \n",
      "__________________________________________________________________________________________________\n",
      "block_3_conv_2 (Conv2D)         (None, 14, 14, 128)  147584      block_3_ReLU_2[0][0]             \n",
      "__________________________________________________________________________________________________\n",
      "block_3_Add_1 (Add)             (None, 14, 14, 128)  0           conv2d_3[0][0]                   \n",
      "                                                                 block_3_conv_2[0][0]             \n",
      "__________________________________________________________________________________________________\n",
      "block_4_BN_1 (BatchNormalizatio (None, 14, 14, 128)  512         block_3_Add_1[0][0]              \n",
      "__________________________________________________________________________________________________\n",
      "block_4_ReLU_1 (Activation)     (None, 14, 14, 128)  0           block_4_BN_1[0][0]               \n",
      "__________________________________________________________________________________________________\n",
      "block_4_conv_1 (Conv2D)         (None, 7, 7, 256)    295168      block_4_ReLU_1[0][0]             \n",
      "__________________________________________________________________________________________________\n",
      "block_4_BN_2 (BatchNormalizatio (None, 7, 7, 256)    1024        block_4_conv_1[0][0]             \n",
      "__________________________________________________________________________________________________\n",
      "block_4_ReLU_2 (Activation)     (None, 7, 7, 256)    0           block_4_BN_2[0][0]               \n",
      "__________________________________________________________________________________________________\n",
      "conv2d_4 (Conv2D)               (None, 7, 7, 256)    33024       block_3_Add_1[0][0]              \n",
      "__________________________________________________________________________________________________\n",
      "block_4_conv_2 (Conv2D)         (None, 7, 7, 256)    590080      block_4_ReLU_2[0][0]             \n",
      "__________________________________________________________________________________________________\n",
      "block_4_Add_1 (Add)             (None, 7, 7, 256)    0           conv2d_4[0][0]                   \n",
      "                                                                 block_4_conv_2[0][0]             \n",
      "__________________________________________________________________________________________________\n",
      "flatten_1 (Flatten)             (None, 12544)        0           block_4_Add_1[0][0]              \n",
      "__________________________________________________________________________________________________\n",
      "dense_1 (Dense)                 (None, 500)          6272500     flatten_1[0][0]                  \n",
      "__________________________________________________________________________________________________\n",
      "enc_merge (Dense)               (None, 21)           10521       dense_1[0][0]                    \n",
      "__________________________________________________________________________________________________\n",
      "lambda_1 (Lambda)               [(None, 10), (None,  0           enc_merge[0][0]                  \n",
      "__________________________________________________________________________________________________\n",
      "class (Activation)              (None, 10)           0           lambda_1[0][0]                   \n",
      "__________________________________________________________________________________________________\n",
      "z_lat (Activation)              (None, 10)           0           lambda_1[0][1]                   \n",
      "__________________________________________________________________________________________________\n",
      "D_real (Activation)             (None, 1)            0           lambda_1[0][2]                   \n",
      "==================================================================================================\n",
      "Total params: 7,510,417\n",
      "Trainable params: 7,508,943\n",
      "Non-trainable params: 1,474\n",
      "__________________________________________________________________________________________________\n"
     ]
    }
   ],
   "source": [
    "trainer.compile_model()\n",
    "trainer.E.summary()"
   ]
  },
  {
   "cell_type": "code",
   "execution_count": null,
   "metadata": {},
   "outputs": [
    {
     "name": "stdout",
     "output_type": "stream",
     "text": [
      "Epoch        G_loss      val_G_loss  val_class_acc\n",
      "0:           133.6282    77.1956     0.414       \n",
      "1:           54.1963     87.4372     0.4793      \n",
      "2:           45.9284     88.238      0.639       \n",
      "3:           40.1682     87.3202     0.6887      \n",
      "4:           36.4211     68.348      0.6917      \n",
      "5:           33.9353     47.8332     0.743       \n",
      "6:           32.1365     39.038      0.7333      \n",
      "7:           30.9323     35.7339     0.739       \n",
      "8:           30.0824     31.411      0.7537      \n",
      "9:           29.1999     32.9352     0.7403      \n",
      "10:          28.3102     30.3528     0.7483      \n",
      "11:          27.6957     29.0904     0.7413      \n",
      "12:          27.1628     27.8128     0.7493      \n",
      "13:          26.2954     27.4884     0.7373      \n",
      "14:          25.578      26.3936     0.7177      \n",
      "15:          25.1229     25.3104     0.7473      \n"
     ]
    }
   ],
   "source": [
    "trainer.go(x=DL.sx_train,\n",
    "           y={\n",
    "               'class':DL.y_train_oh,\n",
    "#                'D_real':RF,\n",
    "               'G':DL.sx_train},\n",
    "           validation_split=0.05,\n",
    "           verbose=0)"
   ]
  },
  {
   "cell_type": "code",
   "execution_count": null,
   "metadata": {},
   "outputs": [],
   "source": [
    "hist_df = pd.DataFrame.from_records(trainer.model.history.history)\n",
    "hist_df.head()"
   ]
  },
  {
   "cell_type": "code",
   "execution_count": null,
   "metadata": {},
   "outputs": [],
   "source": [
    "sns.set_context('paper')\n",
    "metrics = ['loss','G_loss','class_acc']\n",
    "fig,axs = plt.subplots(nrows=len(metrics),sharex=True,figsize=(5,10))\n",
    "for metric_name,ax in zip(metrics,axs):\n",
    "    sns.scatterplot(data=hist_df[[metric_name,'val_'+metric_name]],ax=ax)"
   ]
  },
  {
   "cell_type": "code",
   "execution_count": null,
   "metadata": {},
   "outputs": [],
   "source": []
  },
  {
   "cell_type": "code",
   "execution_count": null,
   "metadata": {},
   "outputs": [],
   "source": [
    "# if not config.dev_mode:\n",
    "# trainer.save_model()"
   ]
  },
  {
   "cell_type": "code",
   "execution_count": null,
   "metadata": {},
   "outputs": [],
   "source": [
    "from keras.models import Model\n",
    "from keras.layers import Input"
   ]
  },
  {
   "cell_type": "code",
   "execution_count": null,
   "metadata": {},
   "outputs": [],
   "source": [
    "generator = trainer.G"
   ]
  },
  {
   "cell_type": "code",
   "execution_count": null,
   "metadata": {},
   "outputs": [],
   "source": [
    "trainer.E.summary()"
   ]
  },
  {
   "cell_type": "code",
   "execution_count": null,
   "metadata": {},
   "outputs": [],
   "source": [
    "z_encoder = Model(trainer.input,trainer.z_lat)\n",
    "classifier = Model(trainer.input,trainer.y_class)\n",
    "# y_lat_encoder = Model(trainer.E.input,trainer.y_lat)\n",
    "# decoder_inp = Input(shape=(config.y_dim+config.z_dim,))\n",
    "# dec_layers = trainer.model.layers[-(1+(5*2)):]\n",
    "# print(dec_layers)\n",
    "# _gen_x = dec_layers[0](decoder_inp)\n",
    "# l = dec_layers[1]\n",
    "# isinstance(l,keras.layers.core.Reshape)\n",
    "# F = None\n",
    "# for l in dec_layers[1:]:\n",
    "#     print(type(l))\n",
    "    \n",
    "#     if isinstance(l,keras.layers.merge.Add):\n",
    "#         _gen_x = l([F,_gen_x])\n",
    "#     else:\n",
    "#         _gen_x = l(_gen_x)\n",
    "    \n",
    "#     if isinstance(l,keras.layers.convolutional.Conv2DTranspose):\n",
    "#         if l.kernel_size==(1,1):\n",
    "#             F = _gen_x\n",
    "            \n",
    "# # generator = Model(decoder_inp,_gen_x)"
   ]
  },
  {
   "cell_type": "code",
   "execution_count": null,
   "metadata": {},
   "outputs": [],
   "source": [
    "classifier.summary()"
   ]
  },
  {
   "cell_type": "code",
   "execution_count": null,
   "metadata": {},
   "outputs": [],
   "source": [
    "DL.y_test_oh.shape"
   ]
  },
  {
   "cell_type": "code",
   "execution_count": null,
   "metadata": {},
   "outputs": [],
   "source": [
    "classifier.compile(loss='categorical_crossentropy',optimizer='adam',metrics=['acc'])\n",
    "classifier.evaluate(DL.sx_test,DL.y_test_oh,batch_size=config.batch_size)"
   ]
  },
  {
   "cell_type": "code",
   "execution_count": null,
   "metadata": {},
   "outputs": [],
   "source": [
    "z_enc = z_encoder.predict(DL.sx_test,batch_size=config.batch_size)\n",
    "# y_lat = y_lat_encoder.predict(DL.sx_test,batch_size=config.batch_size)\n",
    "y_lat = classifier.predict(DL.sx_test,batch_size=config.batch_size)"
   ]
  },
  {
   "cell_type": "code",
   "execution_count": null,
   "metadata": {},
   "outputs": [],
   "source": [
    "_lat_vec = np.concatenate([y_lat,z_enc],axis=1)\n",
    "_lat_vec.shape"
   ]
  },
  {
   "cell_type": "code",
   "execution_count": null,
   "metadata": {},
   "outputs": [],
   "source": [
    "z_enc_mu = np.mean(z_enc,axis=0)\n",
    "z_enc_cov = np.cov(z_enc,rowvar=False)"
   ]
  },
  {
   "cell_type": "code",
   "execution_count": null,
   "metadata": {},
   "outputs": [],
   "source": [
    "np.random.multivariate_normal(z_enc_mu,z_enc_cov,size=50).shape"
   ]
  },
  {
   "cell_type": "code",
   "execution_count": null,
   "metadata": {},
   "outputs": [],
   "source": [
    "regen = generator.predict(_lat_vec,batch_size=config.batch_size)"
   ]
  },
  {
   "cell_type": "code",
   "execution_count": null,
   "metadata": {},
   "outputs": [],
   "source": [
    "rand_im = np.random.randint(0,10000)\n",
    "plt.imshow(regen[rand_im].reshape(56,56),cmap='gray')"
   ]
  },
  {
   "cell_type": "code",
   "execution_count": null,
   "metadata": {},
   "outputs": [],
   "source": [
    "_lat_vec[rand_im]"
   ]
  },
  {
   "cell_type": "code",
   "execution_count": null,
   "metadata": {},
   "outputs": [],
   "source": [
    "DL2 = Shifted_Data_Loader(dataset=config.dataset,flatten=False,\n",
    "                         rotation=None,\n",
    "                         translation=translation_amt,\n",
    "                        )"
   ]
  },
  {
   "cell_type": "code",
   "execution_count": null,
   "metadata": {},
   "outputs": [],
   "source": [
    "enc_dec_samples(DL.x_test,DL.sx_test,z_enc,y_lat,generator)"
   ]
  },
  {
   "cell_type": "code",
   "execution_count": null,
   "metadata": {},
   "outputs": [],
   "source": [
    "z_enc2 = z_encoder.predict(DL2.sx_test,batch_size=config.batch_size)\n",
    "y_lat2 = classifier.predict(DL2.sx_test,batch_size=config.batch_size)\n",
    "_lat_vec2 = np.concatenate([y_lat2,z_enc2],axis=1)\n",
    "regen2 = generator.predict(_lat_vec2,batch_size=config.batch_size)"
   ]
  },
  {
   "cell_type": "code",
   "execution_count": null,
   "metadata": {},
   "outputs": [],
   "source": [
    "from src.plot import remove_axes,remove_labels\n",
    "from src.utils import gen_trajectory"
   ]
  },
  {
   "cell_type": "code",
   "execution_count": null,
   "metadata": {},
   "outputs": [],
   "source": [
    "examples = 5\n",
    "rand_im = np.random.randint(0,10000,size=examples)\n",
    "fix,axs = plt.subplots(examples,11,figsize=(8,4))\n",
    "_lat_s = []\n",
    "regen_s = []\n",
    "out = gen_trajectory(z_enc[rand_im],z_enc2[rand_im],delta=.25)\n",
    "out_y = gen_trajectory(y_lat[rand_im],y_lat2[rand_im],delta=.25)\n",
    "\n",
    "for z,y in zip(out,out_y):\n",
    "    _lat = np.concatenate([y,z],axis=1)\n",
    "    _lat_s.append(_lat)\n",
    "    regen_s.append(generator.predict(_lat,batch_size=config.batch_size))\n",
    "\n",
    "i=0\n",
    "for axr,idx in zip(axs,rand_im):\n",
    "    axr[0].imshow(DL.x_test[idx].reshape(28,28),cmap='gray')\n",
    "    axr[1].imshow(DL.sx_test[idx].reshape(56,56),cmap='gray')\n",
    "    axr[2].imshow(regen[idx].reshape(56,56),cmap='gray')\n",
    "    for j,a in enumerate(axr[3:-3]):\n",
    "        a.imshow(regen_s[j][i,:].reshape(56,56),cmap='gray')\n",
    "#         a.imshow(s.reshape(56,56),cmap='gray')\n",
    "    axr[-3].imshow(regen2[idx].reshape(56,56),cmap='gray')\n",
    "    axr[-2].imshow(DL2.sx_test[idx].reshape(56,56),cmap='gray')\n",
    "    axr[-1].imshow(DL2.x_test[idx].reshape(28,28),cmap='gray')\n",
    "    for a in axr:\n",
    "        remove_axes(a)\n",
    "        remove_labels(a)\n",
    "    i+=1\n",
    "# plt.imshow(regen[rand_im].reshape(56,56),cmap='gray')"
   ]
  },
  {
   "cell_type": "code",
   "execution_count": null,
   "metadata": {},
   "outputs": [],
   "source": [
    "fix.savefig('../../updates/2019-02-05/assets/img/translocate_{}.png'.format(translation_amt))"
   ]
  },
  {
   "cell_type": "code",
   "execution_count": null,
   "metadata": {},
   "outputs": [],
   "source": [
    "dxs = DL.dx[1]-14\n",
    "dys = DL.dy[1]-14"
   ]
  },
  {
   "cell_type": "code",
   "execution_count": null,
   "metadata": {},
   "outputs": [],
   "source": [
    "from sklearn.preprocessing import MinMaxScaler\n",
    "\n",
    "feat_range = (0,50)\n",
    "z_enc_scaled = [MinMaxScaler(feat_range).fit_transform(z_enc[:,i].reshape(-1,1)).tolist() for i in np.arange(config.z_dim+config.y_dim)]\n",
    "z_enc_scaled = np.squeeze(np.array(z_enc_scaled,dtype=int))"
   ]
  },
  {
   "cell_type": "code",
   "execution_count": null,
   "metadata": {},
   "outputs": [],
   "source": [
    "from collections import Counter\n",
    "import dit\n",
    "from dit import Distribution\n",
    "\n",
    "def mutual_information(X,Y):\n",
    "    XY_c = Counter(zip(X,Y))\n",
    "    XY_pmf = {k:v/float(sum(XY_c.values())) for k,v in XY_c.items()}\n",
    "    XY_jdist = Distribution(XY_pmf)\n",
    "        \n",
    "    return dit.shannon.mutual_information(XY_jdist,[0],[1])"
   ]
  },
  {
   "cell_type": "code",
   "execution_count": null,
   "metadata": {},
   "outputs": [],
   "source": [
    "z_dx_I = [mutual_information(z_enc_scaled[i],dxs.astype(int)+14) for i in np.arange(25)]"
   ]
  },
  {
   "cell_type": "code",
   "execution_count": null,
   "metadata": {},
   "outputs": [],
   "source": [
    "z_dy_I = [mutual_information(z_enc_scaled[i],dys.astype(int)+14) for i in np.arange(25)]"
   ]
  },
  {
   "cell_type": "code",
   "execution_count": null,
   "metadata": {},
   "outputs": [],
   "source": [
    "z_class_I = [mutual_information(z_enc_scaled[i],DL.y_test) for i in np.arange(25)]"
   ]
  },
  {
   "cell_type": "code",
   "execution_count": null,
   "metadata": {},
   "outputs": [],
   "source": [
    "z_I_df = pd.DataFrame.from_records({'class':z_class_I,'dy':z_dy_I,'dx':z_dx_I})\n",
    "z_I_df['class'] = z_I_df['class'].values.round(decimals=1)"
   ]
  },
  {
   "cell_type": "code",
   "execution_count": null,
   "metadata": {},
   "outputs": [],
   "source": [
    "config.translation_amt = translation_amt\n",
    "config.translation_amt"
   ]
  },
  {
   "cell_type": "code",
   "execution_count": null,
   "metadata": {},
   "outputs": [],
   "source": [
    "dir_path = '../data/xcov_importance/dist_{}/'.format(translation_amt)\n",
    "\n",
    "z_I_df.to_pickle('../data/xcov_importance/dist_{}/z_mutual_info.pk'.format(translation_amt))\n",
    "np.save('../data/xcov_importance/dist_{}/dxs'.format(translation_amt), DL.dx[1]-14)\n",
    "np.save('../data/xcov_importance/dist_{}/dys'.format(translation_amt), DL.dy[1]-14)\n",
    "np.save('../data/xcov_importance/dist_{}/z_enc'.format(translation_amt), z_enc)\n",
    "\n",
    "hist_df.to_pickle(os.path.join(dir_path,'training_hist.df'))\n",
    "\n",
    "with open(os.path.join(dir_path,'config.json'), 'w') as fp:\n",
    "        json.dump(vars(config), fp)"
   ]
  },
  {
   "cell_type": "code",
   "execution_count": null,
   "metadata": {},
   "outputs": [],
   "source": [
    "sns.set_context('talk')\n",
    "fig,ax = plt.subplots(1,1,figsize=(6,5))\n",
    "ax.set_ylim(0,0.9)\n",
    "ax.set_xlim(0,0.9)\n",
    "points = plt.scatter(x=z_I_df['dx'],y=z_I_df['dy'],c=z_I_df['class'],cmap='plasma')\n",
    "plt.colorbar(points)"
   ]
  },
  {
   "cell_type": "code",
   "execution_count": null,
   "metadata": {},
   "outputs": [],
   "source": [
    "fig,ax = plt.subplots(1,1,figsize=(5,5))\n",
    "ax.scatter(z_dx_I,z_dy_I)\n",
    "# ax.set_ylim(0,0.8)\n",
    "# ax.set_xlim(0,0.8)"
   ]
  },
  {
   "cell_type": "code",
   "execution_count": null,
   "metadata": {},
   "outputs": [],
   "source": []
  },
  {
   "cell_type": "code",
   "execution_count": null,
   "metadata": {},
   "outputs": [],
   "source": [
    "plt.scatter(np.arange(25),sorted(z_class_I,reverse=True))\n",
    "# plt.scatter(np.arange(25),z_dx_I)\n",
    "# plt.scatter(np.arange(25),z_dy_I)"
   ]
  },
  {
   "cell_type": "code",
   "execution_count": null,
   "metadata": {},
   "outputs": [],
   "source": [
    "from src.metrics import var_expl,norm_var_expl\n",
    "from collections import Counter\n",
    "\n",
    "dtheta = DL.dtheta[1]\n",
    "fve_dx = norm_var_expl(features=z_enc,cond=dxs,bins=21)\n",
    "fve_dy = norm_var_expl(features=z_enc,cond=dys,bins=21)\n",
    "fve_class = norm_var_expl(features=z_enc, cond=DL.y_test, bins=21)\n",
    "# fve_dt = norm_var_expl(features=z_enc,cond=dtheta,bins=21)"
   ]
  },
  {
   "cell_type": "code",
   "execution_count": null,
   "metadata": {},
   "outputs": [],
   "source": [
    "# fve_dx_norm = (dxs.var()-fve_dx)/dxs.var()\n",
    "# fve_dy_norm = (dys.var()-fve_dy)/dys.var()\n",
    "# fve_dth_norm = (dtheta.var()-fve_dt)/dtheta.var()\n",
    "fve_dx_norm = fve_dx\n",
    "fve_dy_norm = fve_dy"
   ]
  },
  {
   "cell_type": "code",
   "execution_count": null,
   "metadata": {},
   "outputs": [],
   "source": [
    "import seaborn as sns\n",
    "sns.set_context('talk')"
   ]
  },
  {
   "cell_type": "code",
   "execution_count": null,
   "metadata": {},
   "outputs": [],
   "source": [
    "fve_dx_norm.shape\n",
    "# np.save(os.path.join(config.model_dir,'fve_dx_norm'),fve_dx_norm)"
   ]
  },
  {
   "cell_type": "code",
   "execution_count": null,
   "metadata": {},
   "outputs": [],
   "source": [
    "fig,ax = plt.subplots(1,1,figsize=(5,5))\n",
    "plt.scatter(fve_dx_norm.mean(axis=0),fve_dy_norm.mean(axis=0))\n",
    "plt.xlabel('fve_dx')\n",
    "plt.ylabel('fve_dy')\n",
    "plt.tight_layout()\n",
    "# plt.savefig(os.path.join(config.model_dir,'fve_dx.png'))\n",
    "# plt.ylim(-0.125,0.25)\n",
    "xdim = np.argmax(fve_dx_norm.mean(axis=0))"
   ]
  },
  {
   "cell_type": "code",
   "execution_count": null,
   "metadata": {},
   "outputs": [],
   "source": [
    "fve_dy_norm.mean(axis=0)\n",
    "# np.save(os.path.join(config.model_dir,'fve_dy_norm'),fve_dy_norm)"
   ]
  },
  {
   "cell_type": "code",
   "execution_count": null,
   "metadata": {},
   "outputs": [],
   "source": [
    "plt.scatter(np.arange(config.z_dim),fve_dy_norm.mean(axis=0))\n",
    "plt.xlabel('Z_n')\n",
    "plt.ylabel('fve_dy')\n",
    "plt.tight_layout()\n",
    "# plt.savefig(os.path.join(config.model_dir,'fve_dy.png'))\n",
    "# plt.ylim(-0.125,0.25)\n",
    "ydim = np.argmax(fve_dy_norm.mean(axis=0))"
   ]
  },
  {
   "cell_type": "code",
   "execution_count": null,
   "metadata": {},
   "outputs": [],
   "source": [
    "plt.scatter(np.arange(config.z_dim),fve_class.mean(axis=0))\n",
    "plt.xlabel('Z_n')\n",
    "plt.ylabel('fve_class')\n",
    "# plt.ylim(0.0,0.5)\n",
    "np.argmax(fve_class.mean(axis=0))"
   ]
  },
  {
   "cell_type": "code",
   "execution_count": null,
   "metadata": {},
   "outputs": [],
   "source": [
    "from src.plot import Z_color_scatter\n",
    "Z_color_scatter(z_enc,[xdim,ydim],dxs)"
   ]
  },
  {
   "cell_type": "code",
   "execution_count": null,
   "metadata": {},
   "outputs": [],
   "source": [
    "Z_color_scatter(z_enc,[xdim,ydim],dys)"
   ]
  },
  {
   "cell_type": "code",
   "execution_count": null,
   "metadata": {},
   "outputs": [],
   "source": [
    "Z_color_scatter(z_enc,[7,18],dtheta)"
   ]
  },
  {
   "cell_type": "code",
   "execution_count": null,
   "metadata": {},
   "outputs": [],
   "source": [
    "from plt."
   ]
  },
  {
   "cell_type": "code",
   "execution_count": null,
   "metadata": {},
   "outputs": [],
   "source": []
  }
 ],
 "metadata": {
  "kernelspec": {
   "display_name": "Py3-GPU (Python3.5.2)",
   "language": "python",
   "name": "py3-gpu"
  },
  "language_info": {
   "codemirror_mode": {
    "name": "ipython",
    "version": 3
   },
   "file_extension": ".py",
   "mimetype": "text/x-python",
   "name": "python",
   "nbconvert_exporter": "python",
   "pygments_lexer": "ipython3",
   "version": "3.5.2"
  }
 },
 "nbformat": 4,
 "nbformat_minor": 2
}
