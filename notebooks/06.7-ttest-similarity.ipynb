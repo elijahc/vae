{
 "cells": [
  {
   "cell_type": "code",
   "execution_count": 1,
   "metadata": {},
   "outputs": [
    {
     "name": "stderr",
     "output_type": "stream",
     "text": [
      "Using TensorFlow backend.\n"
     ]
    }
   ],
   "source": [
    "import os\n",
    "import neptune\n",
    "import numpy as np\n",
    "import pandas as pd\n",
    "import seaborn as sns\n",
    "import matplotlib.pyplot as plt\n",
    "from tqdm import tqdm as tqdm\n",
    "from scipy.stats import ttest_ind as ttest\n",
    "import scipy\n",
    "\n",
    "# from tensorflow.python import keras as keras\n",
    "from keras.models import Model\n",
    "\n",
    "from src.results.experiments import _DateExperimentLoader\n",
    "from src.results.utils import raw_to_xr, dprime\n",
    "from src.results.neptune import get_model_files, load_models, load_assemblies, load_params, load_properties,prep_assemblies\n",
    "from src.results.dicarlo import get_dicarlo_su\n",
    "from src.data_loader import Shifted_Data_Loader\n",
    "from src.data_generator import ShiftedDataBatcher\n",
    "\n",
    "def set_style():\n",
    "    # This sets reasonable defaults for font size for\n",
    "    # a figure that will go in a paper\n",
    "    sns.set_context(\"talk\")\n",
    "    \n",
    "    # Set the font to be serif, rather than sans\n",
    "    sns.set(font='serif')\n",
    "    \n",
    "    # Make the background white, and specify the\n",
    "    # specific font family\n",
    "    sns.set_style(\"white\", {\n",
    "        \"font.family\": \"serif\",\n",
    "        \"font.serif\": [\"Georgia\",\"Times New Roman\", \"Palatino\", \"serif\"]\n",
    "    })"
   ]
  },
  {
   "cell_type": "code",
   "execution_count": 2,
   "metadata": {},
   "outputs": [],
   "source": [
    "os.environ['NEPTUNE_API_TOKEN']=\"eyJhcGlfYWRkcmVzcyI6Imh0dHBzOi8vdWkubmVwdHVuZS5tbCIsImFwaV9rZXkiOiI3ZWExMTlmYS02ZTE2LTQ4ZTktOGMxMi0wMDJiZTljOWYyNDUifQ==\"\n",
    "neptune.init('elijahc/DuplexAE')\n",
    "neptune.set_project('elijahc/DuplexAE')\n",
    "proj_root = '/home/elijahc/projects/vae'"
   ]
  },
  {
   "cell_type": "code",
   "execution_count": 3,
   "metadata": {},
   "outputs": [],
   "source": [
    "def load_config(exps):\n",
    "    props = load_properties(exps)\n",
    "    params = load_params(exps)\n",
    "    ids = [e.id for e in exps]\n",
    "    for eid,pr,pa in zip(ids,props,params):\n",
    "        out = {'id':eid}\n",
    "        out.update(pr)\n",
    "        out.update(pa)\n",
    "        out['exp_dir']=os.path.join(proj_root,pr['dir'])\n",
    "        yield out"
   ]
  },
  {
   "cell_type": "code",
   "execution_count": 4,
   "metadata": {},
   "outputs": [
    {
     "data": {
      "text/html": [
       "<div>\n",
       "<style scoped>\n",
       "    .dataframe tbody tr th:only-of-type {\n",
       "        vertical-align: middle;\n",
       "    }\n",
       "\n",
       "    .dataframe tbody tr th {\n",
       "        vertical-align: top;\n",
       "    }\n",
       "\n",
       "    .dataframe thead th {\n",
       "        text-align: right;\n",
       "    }\n",
       "</style>\n",
       "<table border=\"1\" class=\"dataframe\">\n",
       "  <thead>\n",
       "    <tr style=\"text-align: right;\">\n",
       "      <th></th>\n",
       "      <th>assembly_fn</th>\n",
       "      <th>augmentation</th>\n",
       "      <th>batch_sz</th>\n",
       "      <th>bg</th>\n",
       "      <th>bg_contrast</th>\n",
       "      <th>dataset</th>\n",
       "      <th>dir</th>\n",
       "      <th>encoder_arch</th>\n",
       "      <th>exp_dir</th>\n",
       "      <th>generator_arch</th>\n",
       "      <th>id</th>\n",
       "      <th>im_translation</th>\n",
       "      <th>n_epochs</th>\n",
       "      <th>recon_weight</th>\n",
       "      <th>su_selectivity_fn</th>\n",
       "      <th>xent_weight</th>\n",
       "      <th>y_dim</th>\n",
       "      <th>z_dim</th>\n",
       "    </tr>\n",
       "  </thead>\n",
       "  <tbody>\n",
       "    <tr>\n",
       "      <th>0</th>\n",
       "      <td>NaN</td>\n",
       "      <td>dynamic</td>\n",
       "      <td>512.0</td>\n",
       "      <td>natural</td>\n",
       "      <td>0.3</td>\n",
       "      <td>fashion_mnist</td>\n",
       "      <td>models/2019-11-04/DPX-29</td>\n",
       "      <td>convnet</td>\n",
       "      <td>/home/elijahc/projects/vae/models/2019-11-04/D...</td>\n",
       "      <td>resnet</td>\n",
       "      <td>DPX-29</td>\n",
       "      <td>0.75</td>\n",
       "      <td>54000.0</td>\n",
       "      <td>0.0</td>\n",
       "      <td>NaN</td>\n",
       "      <td>15.0</td>\n",
       "      <td>35</td>\n",
       "      <td>35</td>\n",
       "    </tr>\n",
       "    <tr>\n",
       "      <th>1</th>\n",
       "      <td>NaN</td>\n",
       "      <td>dynamic</td>\n",
       "      <td>512.0</td>\n",
       "      <td>natural</td>\n",
       "      <td>0.3</td>\n",
       "      <td>fashion_mnist</td>\n",
       "      <td>models/2019-11-04/DPX-30</td>\n",
       "      <td>convnet</td>\n",
       "      <td>/home/elijahc/projects/vae/models/2019-11-04/D...</td>\n",
       "      <td>resnet</td>\n",
       "      <td>DPX-30</td>\n",
       "      <td>0.75</td>\n",
       "      <td>54000.0</td>\n",
       "      <td>1.0</td>\n",
       "      <td>NaN</td>\n",
       "      <td>15.0</td>\n",
       "      <td>35</td>\n",
       "      <td>35</td>\n",
       "    </tr>\n",
       "    <tr>\n",
       "      <th>2</th>\n",
       "      <td>dataset.nc</td>\n",
       "      <td>dynamic</td>\n",
       "      <td>512.0</td>\n",
       "      <td>natural</td>\n",
       "      <td>0.3</td>\n",
       "      <td>fashion_mnist</td>\n",
       "      <td>models/2019-09-25/DPX-10</td>\n",
       "      <td>dense</td>\n",
       "      <td>/home/elijahc/projects/vae/models/2019-09-25/D...</td>\n",
       "      <td>resnet</td>\n",
       "      <td>DPX-10</td>\n",
       "      <td>0.75</td>\n",
       "      <td>54000.0</td>\n",
       "      <td>1.0</td>\n",
       "      <td>selectivity.pqt</td>\n",
       "      <td>15.0</td>\n",
       "      <td>35</td>\n",
       "      <td>35</td>\n",
       "    </tr>\n",
       "    <tr>\n",
       "      <th>3</th>\n",
       "      <td>NaN</td>\n",
       "      <td>dynamic</td>\n",
       "      <td>512.0</td>\n",
       "      <td>natural</td>\n",
       "      <td>0.3</td>\n",
       "      <td>fashion_mnist</td>\n",
       "      <td>models/2019-09-25/DPX-16</td>\n",
       "      <td>dense</td>\n",
       "      <td>/home/elijahc/projects/vae/models/2019-09-25/D...</td>\n",
       "      <td>resnet</td>\n",
       "      <td>DPX-16</td>\n",
       "      <td>0.75</td>\n",
       "      <td>54000.0</td>\n",
       "      <td>0.0</td>\n",
       "      <td>NaN</td>\n",
       "      <td>15.0</td>\n",
       "      <td>35</td>\n",
       "      <td>35</td>\n",
       "    </tr>\n",
       "  </tbody>\n",
       "</table>\n",
       "</div>"
      ],
      "text/plain": [
       "  assembly_fn augmentation  batch_sz       bg  bg_contrast        dataset  \\\n",
       "0         NaN      dynamic     512.0  natural          0.3  fashion_mnist   \n",
       "1         NaN      dynamic     512.0  natural          0.3  fashion_mnist   \n",
       "2  dataset.nc      dynamic     512.0  natural          0.3  fashion_mnist   \n",
       "3         NaN      dynamic     512.0  natural          0.3  fashion_mnist   \n",
       "\n",
       "                        dir encoder_arch  \\\n",
       "0  models/2019-11-04/DPX-29      convnet   \n",
       "1  models/2019-11-04/DPX-30      convnet   \n",
       "2  models/2019-09-25/DPX-10        dense   \n",
       "3  models/2019-09-25/DPX-16        dense   \n",
       "\n",
       "                                             exp_dir generator_arch      id  \\\n",
       "0  /home/elijahc/projects/vae/models/2019-11-04/D...         resnet  DPX-29   \n",
       "1  /home/elijahc/projects/vae/models/2019-11-04/D...         resnet  DPX-30   \n",
       "2  /home/elijahc/projects/vae/models/2019-09-25/D...         resnet  DPX-10   \n",
       "3  /home/elijahc/projects/vae/models/2019-09-25/D...         resnet  DPX-16   \n",
       "\n",
       "   im_translation  n_epochs  recon_weight su_selectivity_fn  xent_weight  \\\n",
       "0            0.75   54000.0           0.0               NaN         15.0   \n",
       "1            0.75   54000.0           1.0               NaN         15.0   \n",
       "2            0.75   54000.0           1.0   selectivity.pqt         15.0   \n",
       "3            0.75   54000.0           0.0               NaN         15.0   \n",
       "\n",
       "  y_dim z_dim  \n",
       "0    35    35  \n",
       "1    35    35  \n",
       "2    35    35  \n",
       "3    35    35  "
      ]
     },
     "execution_count": 4,
     "metadata": {},
     "output_type": "execute_result"
    }
   ],
   "source": [
    "conv_eids = [\n",
    "    'DPX-29',\n",
    "    'DPX-30',\n",
    "]\n",
    "dense_eids = [\n",
    "    'DPX-10',\n",
    "    'DPX-16',\n",
    "#     'DPX-27',\n",
    "]\n",
    "# eids = conv_eids+dense_eids\n",
    "conv_exps = neptune.project.get_experiments(id=conv_eids)\n",
    "dense_exps = neptune.project.get_experiments(id=dense_eids)\n",
    "exps = np.array(conv_exps+dense_exps)\n",
    "s_df = pd.DataFrame(list(load_config(exps)))\n",
    "s_df.head()"
   ]
  },
  {
   "cell_type": "code",
   "execution_count": 5,
   "metadata": {},
   "outputs": [
    {
     "data": {
      "text/html": [
       "<div>\n",
       "<style scoped>\n",
       "    .dataframe tbody tr th:only-of-type {\n",
       "        vertical-align: middle;\n",
       "    }\n",
       "\n",
       "    .dataframe tbody tr th {\n",
       "        vertical-align: top;\n",
       "    }\n",
       "\n",
       "    .dataframe thead th {\n",
       "        text-align: right;\n",
       "    }\n",
       "</style>\n",
       "<table border=\"1\" class=\"dataframe\">\n",
       "  <thead>\n",
       "    <tr style=\"text-align: right;\">\n",
       "      <th></th>\n",
       "      <th>neuroid_id</th>\n",
       "      <th>region</th>\n",
       "      <th>subregion</th>\n",
       "      <th>layer</th>\n",
       "      <th>variation</th>\n",
       "      <th>tx</th>\n",
       "      <th>ty</th>\n",
       "      <th>rxy</th>\n",
       "      <th>object_name</th>\n",
       "      <th>category</th>\n",
       "    </tr>\n",
       "  </thead>\n",
       "  <tbody>\n",
       "    <tr>\n",
       "      <th>3</th>\n",
       "      <td>pixel_10063</td>\n",
       "      <td>pixel</td>\n",
       "      <td>pixel</td>\n",
       "      <td>0</td>\n",
       "      <td>6</td>\n",
       "      <td>0.022860</td>\n",
       "      <td>0.039999</td>\n",
       "      <td>0.018588</td>\n",
       "      <td>0.040494</td>\n",
       "      <td>0.082507</td>\n",
       "    </tr>\n",
       "    <tr>\n",
       "      <th>4</th>\n",
       "      <td>pixel_10077</td>\n",
       "      <td>pixel</td>\n",
       "      <td>pixel</td>\n",
       "      <td>0</td>\n",
       "      <td>6</td>\n",
       "      <td>0.018335</td>\n",
       "      <td>0.044148</td>\n",
       "      <td>0.009387</td>\n",
       "      <td>0.044056</td>\n",
       "      <td>0.079289</td>\n",
       "    </tr>\n",
       "    <tr>\n",
       "      <th>5</th>\n",
       "      <td>pixel_10080</td>\n",
       "      <td>pixel</td>\n",
       "      <td>pixel</td>\n",
       "      <td>0</td>\n",
       "      <td>6</td>\n",
       "      <td>0.021876</td>\n",
       "      <td>0.048534</td>\n",
       "      <td>0.000640</td>\n",
       "      <td>0.056863</td>\n",
       "      <td>0.100170</td>\n",
       "    </tr>\n",
       "    <tr>\n",
       "      <th>6</th>\n",
       "      <td>pixel_10099</td>\n",
       "      <td>pixel</td>\n",
       "      <td>pixel</td>\n",
       "      <td>0</td>\n",
       "      <td>6</td>\n",
       "      <td>0.007417</td>\n",
       "      <td>0.068462</td>\n",
       "      <td>0.002355</td>\n",
       "      <td>0.086835</td>\n",
       "      <td>0.076571</td>\n",
       "    </tr>\n",
       "    <tr>\n",
       "      <th>7</th>\n",
       "      <td>pixel_10105</td>\n",
       "      <td>pixel</td>\n",
       "      <td>pixel</td>\n",
       "      <td>0</td>\n",
       "      <td>6</td>\n",
       "      <td>0.021272</td>\n",
       "      <td>0.077362</td>\n",
       "      <td>0.006853</td>\n",
       "      <td>0.111111</td>\n",
       "      <td>0.091232</td>\n",
       "    </tr>\n",
       "  </tbody>\n",
       "</table>\n",
       "</div>"
      ],
      "text/plain": [
       "    neuroid_id region subregion  layer  variation        tx        ty  \\\n",
       "3  pixel_10063  pixel     pixel      0          6  0.022860  0.039999   \n",
       "4  pixel_10077  pixel     pixel      0          6  0.018335  0.044148   \n",
       "5  pixel_10080  pixel     pixel      0          6  0.021876  0.048534   \n",
       "6  pixel_10099  pixel     pixel      0          6  0.007417  0.068462   \n",
       "7  pixel_10105  pixel     pixel      0          6  0.021272  0.077362   \n",
       "\n",
       "        rxy  object_name  category  \n",
       "3  0.018588     0.040494  0.082507  \n",
       "4  0.009387     0.044056  0.079289  \n",
       "5  0.000640     0.056863  0.100170  \n",
       "6  0.002355     0.086835  0.076571  \n",
       "7  0.006853     0.111111  0.091232  "
      ]
     },
     "execution_count": 5,
     "metadata": {},
     "output_type": "execute_result"
    }
   ],
   "source": [
    "monkey_su = get_dicarlo_su(proj_root).dropna()\n",
    "monkey_su = monkey_su.rename(columns={'category_name':'category'})\n",
    "monkey_su.head()"
   ]
  },
  {
   "cell_type": "code",
   "execution_count": 6,
   "metadata": {},
   "outputs": [],
   "source": [
    "conv_su = [pd.read_parquet(os.path.join(ed,'su_selectivity_1.pqt')) for ed in s_df[s_df.encoder_arch=='convnet'].exp_dir]\n",
    "dense_su = [pd.read_parquet(os.path.join(ed,'su_selectivity_1.pqt')) for ed in s_df[s_df.encoder_arch=='dense'].exp_dir]"
   ]
  },
  {
   "cell_type": "code",
   "execution_count": 7,
   "metadata": {},
   "outputs": [],
   "source": [
    "def get_pvals(models,shape=(2,2,3),mod_layers=['conv_4','y_enc']):\n",
    "    pvals = np.zeros(shape=shape)\n",
    "    print(pvals.shape)\n",
    "    for i,csu in enumerate(models):\n",
    "        j=0\n",
    "        for reg,layer in zip(['V4','IT'],mod_layers):\n",
    "            for k,metric in enumerate(['tx','ty','category']):\n",
    "                a = monkey_su[monkey_su.region==reg][metric].values\n",
    "                b = csu[csu.region==layer][metric].values\n",
    "                t_stat,pval = ttest(a,b,equal_var=False,nan_policy='omit')\n",
    "    #             print(i,j,k)\n",
    "                pvals[i,j,k]=pval\n",
    "            j+=1\n",
    "    return pvals"
   ]
  },
  {
   "cell_type": "code",
   "execution_count": 8,
   "metadata": {},
   "outputs": [
    {
     "name": "stdout",
     "output_type": "stream",
     "text": [
      "(2, 2, 3)\n",
      "(2, 2, 3)\n"
     ]
    }
   ],
   "source": [
    "conv_pvals = get_pvals(conv_su,mod_layers=['conv_4','y_enc'])\n",
    "dense_pvals = get_pvals(dense_su,mod_layers=['dense_3','y_lat'])\n",
    "pvals = np.concatenate([conv_pvals,dense_pvals],axis=0)"
   ]
  },
  {
   "cell_type": "code",
   "execution_count": 9,
   "metadata": {},
   "outputs": [],
   "source": [
    "from scipy.stats import combine_pvalues as combine_pv\n",
    "fishers_combined_prob = lambda pv: combine_pv(pv,method='fisher')"
   ]
  },
  {
   "cell_type": "code",
   "execution_count": 10,
   "metadata": {},
   "outputs": [],
   "source": [
    "def combine_pvals(pvals,method='log_likelihood'):\n",
    "    # We have pvals across:\n",
    "    # 4 model architectures, comparing 2 brain areas (V4, IT), across 3 properties(tx,ty,cat)\n",
    "    # The dims of pvals are structured [Arch,brain_area,property] or\n",
    "    # Shape=[4,2,3]\n",
    "    \n",
    "    if method == 'log_likelihood':\n",
    "        log_p = np.log(pvals)\n",
    "        log_likelihood = log_p.sum(axis=-1).sum(axis=-1)\n",
    "        return log_likelihood\n",
    "    \n",
    "    elif method == 'fishers':\n",
    "        # fct wants a 1-D array of p-vals, so we reshape [4,2,3]->[4,6]\n",
    "        pv = [np.squeeze(a) for a in np.vsplit(pvals.reshape(4,-1),4)]\n",
    "        fct = [fishers_combined_prob(p) for p in pv]\n",
    "        \n",
    "        # fcteep only p-val and discard t-statistic\n",
    "        fct = [p for _,p in fct]\n",
    "        return fct\n",
    "    else:\n",
    "        raise ValueError('Acceptable values for method are log_likelihood or fishers')"
   ]
  },
  {
   "cell_type": "code",
   "execution_count": 16,
   "metadata": {},
   "outputs": [
    {
     "data": {
      "text/html": [
       "<div>\n",
       "<style scoped>\n",
       "    .dataframe tbody tr th:only-of-type {\n",
       "        vertical-align: middle;\n",
       "    }\n",
       "\n",
       "    .dataframe tbody tr th {\n",
       "        vertical-align: top;\n",
       "    }\n",
       "\n",
       "    .dataframe thead th {\n",
       "        text-align: right;\n",
       "    }\n",
       "</style>\n",
       "<table border=\"1\" class=\"dataframe\">\n",
       "  <thead>\n",
       "    <tr style=\"text-align: right;\">\n",
       "      <th></th>\n",
       "      <th>id</th>\n",
       "      <th>encoder_arch</th>\n",
       "      <th>log_likelihood</th>\n",
       "      <th>logFCT</th>\n",
       "      <th>condition</th>\n",
       "    </tr>\n",
       "  </thead>\n",
       "  <tbody>\n",
       "    <tr>\n",
       "      <th>0</th>\n",
       "      <td>DPX-29</td>\n",
       "      <td>convnet</td>\n",
       "      <td>-233.230020</td>\n",
       "      <td>-210.735810</td>\n",
       "      <td>convnet : classify</td>\n",
       "    </tr>\n",
       "    <tr>\n",
       "      <th>1</th>\n",
       "      <td>DPX-30</td>\n",
       "      <td>convnet</td>\n",
       "      <td>-130.451670</td>\n",
       "      <td>-110.845378</td>\n",
       "      <td>convnet : classify+recon</td>\n",
       "    </tr>\n",
       "    <tr>\n",
       "      <th>2</th>\n",
       "      <td>DPX-10</td>\n",
       "      <td>dense</td>\n",
       "      <td>-419.834188</td>\n",
       "      <td>-394.410429</td>\n",
       "      <td>dense : classify+recon</td>\n",
       "    </tr>\n",
       "    <tr>\n",
       "      <th>3</th>\n",
       "      <td>DPX-16</td>\n",
       "      <td>dense</td>\n",
       "      <td>-290.044227</td>\n",
       "      <td>-266.464223</td>\n",
       "      <td>dense : classify</td>\n",
       "    </tr>\n",
       "  </tbody>\n",
       "</table>\n",
       "</div>"
      ],
      "text/plain": [
       "       id encoder_arch  log_likelihood      logFCT                 condition\n",
       "0  DPX-29      convnet     -233.230020 -210.735810        convnet : classify\n",
       "1  DPX-30      convnet     -130.451670 -110.845378  convnet : classify+recon\n",
       "2  DPX-10        dense     -419.834188 -394.410429    dense : classify+recon\n",
       "3  DPX-16        dense     -290.044227 -266.464223          dense : classify"
      ]
     },
     "execution_count": 16,
     "metadata": {},
     "output_type": "execute_result"
    }
   ],
   "source": [
    "s_df['log_likelihood'] = combine_pvals(pvals,method='log_likelihood')\n",
    "s_df['FCT'] = combine_pvals(pvals,method='fishers')\n",
    "s_df['logFCT'] = np.log(s_df.FCT)\n",
    "models = [a+' : classify' for a in s_df.encoder_arch.values]\n",
    "models = [m+'+recon' if r else m for m,r in zip(models,s_df.recon_weight.astype(np.bool))]\n",
    "s_df['condition']=models\n",
    "s_df[['id','encoder_arch','log_likelihood','logFCT','condition']].head()"
   ]
  },
  {
   "cell_type": "code",
   "execution_count": 21,
   "metadata": {},
   "outputs": [
    {
     "data": {
      "image/png": "[encoded data removed]",
      "text/plain": [
       "<Figure size 576x432 with 1 Axes>"
      ]
     },
     "metadata": {
      "needs_background": "light"
     },
     "output_type": "display_data"
    }
   ],
   "source": [
    "sns.set_context('talk')\n",
    "fig,ax = plt.subplots(1,1,sharex=False,sharey=True,figsize=(8,6))\n",
    "# for ax,col in zip(axs,['logFCT']):\n",
    "order = [\n",
    "    'convnet : classify',\n",
    "    'convnet : classify+recon',\n",
    "    'dense : classify',\n",
    "    'dense : classify+recon',\n",
    "]\n",
    "sns.barplot(y='condition',x='FCT', data=s_df, ax=ax, order=order)\n",
    "plt.xticks(rotation=90)\n",
    "    \n",
    "ax.set_xscale('log')\n",
    "ax.set_xlabel('FCT (p-value)')\n",
    "plt.tight_layout()\n",
    "# ax.get_yaxis().set_visible(False)\n",
    "# sns.despine(fig)\n"
   ]
  },
  {
   "cell_type": "code",
   "execution_count": null,
   "metadata": {},
   "outputs": [],
   "source": [
    "# a = conv_su[1][conv_su[1].region=='y_enc'].category.values\n",
    "a = conv_su[0][conv_su[0].region=='y_enc'].category.values\n",
    "\n",
    "b = monkey_su[monkey_su.region=='V4'].category_name.values\n",
    "ttest(a,b,equal_var=False)"
   ]
  },
  {
   "cell_type": "code",
   "execution_count": null,
   "metadata": {},
   "outputs": [],
   "source": [
    "t_batches = DB.gen_test_batches(5,batch_size=512,bg='natural')\n",
    "b = next(t_batches)\n",
    "\n",
    "X,Xfg,y = b\n",
    "w=1\n",
    "noise_lvl = 0.8\n",
    "fg_n = DB.gen_bg_noise(im_stack=np.zeros(shape=(50,512,512,1)),width=1.5,amount=noise_lvl)\n",
    "noise_ims = [fg_n[i].reshape(512,512,1) for i in np.arange(50)]\n",
    "\n",
    "xbg = DB.gen_backgrounds(X,noise_ims)\n",
    "X_noised = np.clip(X+xbg,-1,1)\n",
    "\n",
    "fig,axs = plt.subplots(1,4)\n",
    "\n",
    "for ax,im in zip(axs,[X_noised,X,Xfg,xbg]):\n",
    "    ax.imshow(im[6].reshape(56,56),cmap='gray')\n",
    "\n"
   ]
  },
  {
   "cell_type": "code",
   "execution_count": null,
   "metadata": {},
   "outputs": [],
   "source": [
    "mod.metrics_names"
   ]
  },
  {
   "cell_type": "code",
   "execution_count": null,
   "metadata": {},
   "outputs": [],
   "source": [
    "X,xfg,y = list(DB.gen_test_batches(1,batch_size=10000,bg='natural'))[0]\n",
    "X.shape"
   ]
  },
  {
   "cell_type": "code",
   "execution_count": null,
   "metadata": {},
   "outputs": [],
   "source": [
    "xbgs=[]\n",
    "for noise_lvl in [0.1,0.9]:\n",
    "        fg_n = DB.gen_bg_noise(im_stack=np.zeros(shape=(50,512,512,1)),mode='gaussian',mean=0,var=noise_lvl)\n",
    "        noise_ims = [fg_n[i].reshape(512,512,1) for i in np.arange(50)]\n",
    "        xbg = DB.gen_backgrounds(X,noise_ims)\n",
    "        xbgs.append(xbg)\n",
    "        \n",
    "X_noised = np.clip(X+xbgs[0],-1,1)"
   ]
  },
  {
   "cell_type": "code",
   "execution_count": null,
   "metadata": {},
   "outputs": [],
   "source": [
    "def model_gaussian_noise_sweep(mod,DB,var_levels,n_batches=20,**noise_kws):\n",
    "    t_batches = list(DB.gen_test_batches(n_batches,batch_size=512,bg='natural'))\n",
    "    x,_,_ = t_batches[0]\n",
    "    xbgs = []\n",
    "    for noise_lvl in var_levels:\n",
    "        if noise_lvl == 0.0:\n",
    "            fg_n = np.zeros(shape=(50,512,512,1))\n",
    "            noise_ims = [fg_n[i].reshape(512,512,1) for i in np.arange(50)]\n",
    "        else:\n",
    "            noise_kws['var']=noise_lvl\n",
    "            fg_n = DB.gen_bg_noise(im_stack=np.zeros(shape=(50,512,512,1)),**noise_kws)\n",
    "            noise_ims = [fg_n[i].reshape(512,512,1) for i in np.arange(50)]\n",
    "        \n",
    "        xbg = DB.gen_backgrounds(x,noise_ims)\n",
    "        xbgs.append(xbg)\n",
    "        \n",
    "        \n",
    "    out_recs = []\n",
    "    for lvl,xbg in zip(var_levels,xbgs):\n",
    "        print('variance: ',lvl)\n",
    "        for X,xfg,y in tqdm(t_batches):\n",
    "            X_noised = np.clip(X+xbg,-1,1)\n",
    "            Y = {'Generator':xfg,'Classifier':y}\n",
    "\n",
    "            out = mod.test_on_batch(X_noised,Y)\n",
    "            out = {k:v for k,v in zip(mod.metrics_names,out)}\n",
    "            out['width']=w\n",
    "            out['amount']=lvl\n",
    "            out_recs.append(out)\n",
    "            \n",
    "    fig,axs = plt.subplots(1,len(var_levels))\n",
    "    \n",
    "    for ax,xbgs in zip(axs,xbgs):\n",
    "        noise_ex = np.clip(x+xbgs,-1,1)\n",
    "        ax.imshow(noise_ex[5].reshape(56,56),cmap='gray')\n",
    "        \n",
    "    return pd.DataFrame.from_records(out_recs)"
   ]
  },
  {
   "cell_type": "code",
   "execution_count": null,
   "metadata": {},
   "outputs": [],
   "source": [
    "# gaussian_dfs = []\n",
    "# variances = [0.0,0.5,1,1.5]\n",
    "# for i, mod in enumerate(load_models(proj_root,exps)):\n",
    "#     print(exps[i])\n",
    "#     res_df = model_gaussian_noise_sweep(mod,DB,var_levels=variances,n_batches=20,mode='gaussian',mean=0.0)\n",
    "#     gaussian_dfs.append(res_df)"
   ]
  },
  {
   "cell_type": "code",
   "execution_count": null,
   "metadata": {},
   "outputs": [],
   "source": [
    "# for df,conf in zip(gaussian_dfs,confs):\n",
    "#     df['Model ID']= conf['id']\n",
    "#     df['encoder_arch']=conf['encoder_arch']\n",
    "#     df['recon']=conf['recon_weight']\n",
    "#     df['baseline_acc']=df[df.amount==0.0]['Classifier_acc'].values.mean()"
   ]
  },
  {
   "cell_type": "code",
   "execution_count": null,
   "metadata": {},
   "outputs": [],
   "source": [
    "# gaussian_noise_df = pd.concat(gaussian_dfs)\n",
    "# gaussian_noise_df['Relative Accuracy']=gaussian_noise_df['Classifier_acc']-gaussian_noise_df['baseline_acc']\n",
    "# gaussian_noise_df.head()"
   ]
  },
  {
   "cell_type": "code",
   "execution_count": null,
   "metadata": {},
   "outputs": [],
   "source": [
    "# sns.barplot(x='Model ID',y='Classifier_acc',data=gaussian_noise_df,hue='amount')"
   ]
  },
  {
   "cell_type": "code",
   "execution_count": null,
   "metadata": {},
   "outputs": [],
   "source": [
    "import skimage as skim"
   ]
  },
  {
   "cell_type": "code",
   "execution_count": null,
   "metadata": {},
   "outputs": [],
   "source": [
    "def plot_noise_sweep(X_noise,rand_idx=5):\n",
    "    fig,axs = plt.subplots(1,len(X_noise),figsize=(3*len(X_noise),3))\n",
    "    for ax,Xn in zip(axs,X_noise):\n",
    "        ax.imshow(Xn[rand_idx].reshape(56,56),cmap='gray')\n",
    "        ax.get_xaxis().set_visible(False)\n",
    "        ax.get_yaxis().set_visible(False)"
   ]
  },
  {
   "cell_type": "code",
   "execution_count": null,
   "metadata": {},
   "outputs": [],
   "source": [
    "noise_sweeps = {\n",
    "    'speckle':  {'mean':0, 'amount':np.array([0,0.1,0.3,0.6,0.9,1.5])**2},\n",
    "    'gaussian': {'mean':0, 'amount':np.array([0,0.2,0.3,0.6,0.9,1.5])**2},\n",
    "    's&p':  {'amount':np.array([0,0.05,0.1,0.2,0.3,0.9])}\n",
    "}"
   ]
  },
  {
   "cell_type": "code",
   "execution_count": null,
   "metadata": {},
   "outputs": [],
   "source": [
    "noise_sweeps['gaussian']['amount']"
   ]
  },
  {
   "cell_type": "code",
   "execution_count": null,
   "metadata": {},
   "outputs": [],
   "source": [
    "def apply_noise(X, mode, amount, **noise_kws):\n",
    "    X_out = []\n",
    "    for amt in amount:\n",
    "        if mode in ['speckle','gaussian']:\n",
    "            kws = {'mean':0,'var':amt}\n",
    "        elif mode in ['salt','pepper','s&p']:\n",
    "            kws = {'amount':amt}\n",
    "        \n",
    "        if amt > 0.0:\n",
    "            Xn = skim.util.random_noise(X,mode=mode,**kws)\n",
    "            X_out.append(Xn)\n",
    "        else:\n",
    "            X_out.append(X)\n",
    "        \n",
    "    return X_out"
   ]
  },
  {
   "cell_type": "code",
   "execution_count": null,
   "metadata": {},
   "outputs": [],
   "source": [
    "X_speckle = [X]\n",
    "for amt in [0.1,0.3,0.6,0.9,1.5]:\n",
    "    X_n = skim.util.random_noise(X,mode='speckle',mean=0,var=amt**2)\n",
    "    X_speckle.append(X_n)"
   ]
  },
  {
   "cell_type": "code",
   "execution_count": null,
   "metadata": {},
   "outputs": [],
   "source": [
    "plot_noise_sweep(X_speckle)"
   ]
  },
  {
   "cell_type": "code",
   "execution_count": null,
   "metadata": {},
   "outputs": [],
   "source": [
    "X_gauss = apply_noise(X,mode='gaussian',amount=noise_sweeps['gaussian']['amount'])\n",
    "plot_noise_sweep(X_gauss,rand_idx=25)"
   ]
  },
  {
   "cell_type": "code",
   "execution_count": null,
   "metadata": {},
   "outputs": [],
   "source": [
    "amounts = noise_sweeps['s&p']['amount']\n",
    "print(amounts)\n",
    "X_sp = apply_noise(X,mode='s&p',amount=amounts)\n",
    "plot_noise_sweep(X_sp,rand_idx=25)"
   ]
  },
  {
   "cell_type": "code",
   "execution_count": null,
   "metadata": {},
   "outputs": [],
   "source": [
    "X_sp = [X]\n",
    "for amt in [0.05,0.1,0.2,0.3,0.9]:\n",
    "    X_n = skim.util.random_noise(X,mode='s&p',amount=amt)\n",
    "    X_sp.append(X_n)\n",
    "\n",
    "plot_noise_sweep(X_sp,rand_idx=20)"
   ]
  },
  {
   "cell_type": "code",
   "execution_count": null,
   "metadata": {},
   "outputs": [],
   "source": [
    "def mod_noise_sweep(mod,Xn,batch_sz=512):\n",
    "    mod_results = []\n",
    "    Y = {'Generator':xfg,'Classifier':y}\n",
    "    noise_recs = []\n",
    "    for XN in Xn:\n",
    "        out = mod.evaluate(XN,Y,batch_size=batch_sz)\n",
    "        out = {k:v for k,v in zip(mod.metrics_names,out)}\n",
    "        noise_recs.append(out)\n",
    "        \n",
    "    return pd.DataFrame.from_records(noise_recs)\n",
    "\n",
    "# speckle_df = mod_noise_sweep(mod,X_speckle)"
   ]
  },
  {
   "cell_type": "code",
   "execution_count": null,
   "metadata": {},
   "outputs": [],
   "source": [
    "# speckle_df['type']='speckle'\n",
    "# speckle_df['amount']=[0,0.1,0.3,0.6,0.9,1.5]"
   ]
  },
  {
   "cell_type": "code",
   "execution_count": null,
   "metadata": {},
   "outputs": [],
   "source": [
    "# speckle_dfs = []"
   ]
  },
  {
   "cell_type": "code",
   "execution_count": null,
   "metadata": {},
   "outputs": [],
   "source": [
    "confs = list(load_config(exps))[2:]\n",
    "for i,mod in enumerate(load_models(proj_root,exps[2:])):\n",
    "    print(exps[2:][i])\n",
    "    conf = confs[i]\n",
    "    df = mod_noise_sweep(mod,X_speckle,batch_sz=512)\n",
    "    df['type']='speckle'\n",
    "    df['amount']=[0,0.1,0.3,0.6,0.9,1.5]\n",
    "    for k,v in conf.items():\n",
    "        df[k]=v\n",
    "    speckle_dfs.append(df)"
   ]
  },
  {
   "cell_type": "code",
   "execution_count": null,
   "metadata": {},
   "outputs": [],
   "source": [
    "speck_df = pd.concat(speckle_dfs)"
   ]
  },
  {
   "cell_type": "code",
   "execution_count": null,
   "metadata": {},
   "outputs": [],
   "source": [
    "gaussian_dfs = []\n",
    "confs = list(load_config(exps))\n",
    "for i,mod in enumerate(load_models(proj_root,exps)):\n",
    "    print(exps[i])\n",
    "    conf = confs[i]\n",
    "    df = mod_noise_sweep(mod,X_gauss,batch_sz=512)\n",
    "    df['type']='gaussian'\n",
    "    df['amount']=noise_sweeps['gaussian']['amount']\n",
    "    for k,v in conf.items():\n",
    "        df[k]=v\n",
    "    gaussian_dfs.append(df)"
   ]
  },
  {
   "cell_type": "code",
   "execution_count": null,
   "metadata": {},
   "outputs": [],
   "source": [
    "gauss_df = pd.concat(gaussian_dfs).reset_index().drop(columns=['index'])\n",
    "gauss_df['amount']=np.round(gauss_df.amount.values,decimals=2)"
   ]
  },
  {
   "cell_type": "code",
   "execution_count": null,
   "metadata": {},
   "outputs": [],
   "source": [
    "speck_df = speck_df.reset_index().drop(columns=['index'])"
   ]
  },
  {
   "cell_type": "code",
   "execution_count": null,
   "metadata": {},
   "outputs": [],
   "source": [
    "# baseline = lambda x: x[x.amount == 0.0]['Classifier_acc'].values.mean()\n",
    "# baseline = lambda x: x[x.amount==0]['Classifier_acc'].values.max()\n",
    "baseline = lambda x: x.max()\n",
    "# key = lambda x: print(x)"
   ]
  },
  {
   "cell_type": "code",
   "execution_count": null,
   "metadata": {},
   "outputs": [],
   "source": [
    "speck_df['baseline_acc']=speck_df.groupby('id')['Classifier_acc'].transform(baseline)\n",
    "speck_df['Accuracy Change']=speck_df['Classifier_acc']-speck_df.baseline"
   ]
  },
  {
   "cell_type": "code",
   "execution_count": null,
   "metadata": {},
   "outputs": [],
   "source": [
    "gauss_df['baseline']=gauss_df.groupby('id')['Classifier_acc'].transform(baseline)\n",
    "gauss_df['Accuracy Change']=gauss_df['Classifier_acc']-gauss_df.baseline"
   ]
  },
  {
   "cell_type": "code",
   "execution_count": null,
   "metadata": {},
   "outputs": [],
   "source": [
    "sns.barplot(x='id',y='Classifier_acc',hue='amount',data=speck_df)"
   ]
  },
  {
   "cell_type": "code",
   "execution_count": null,
   "metadata": {},
   "outputs": [],
   "source": [
    "speck_df.to_pickle('../data/speckle_noise_eval.pk')\n",
    "gauss_df.to_pickle('../data/gauss_noise_eval.pk')"
   ]
  },
  {
   "cell_type": "code",
   "execution_count": null,
   "metadata": {},
   "outputs": [],
   "source": [
    "sns.set_context('paper')\n",
    "fig,axs = plt.subplots(1,1,figsize=(3,3))\n",
    "sns.lineplot(x='amount',y='Accuracy Change',hue='encoder_arch',style='recon_weight',data=speck_df)\n",
    "plt.legend(bbox_to_anchor=(1.05, 1), loc=2, borderaxespad=0.)\n",
    "plt.xlabel('Variance')\n",
    "plt.ylim(0,-0.6)"
   ]
  },
  {
   "cell_type": "code",
   "execution_count": null,
   "metadata": {},
   "outputs": [],
   "source": [
    "fig.savefig('../figures/sfn/speckle_noise.pdf',dpi=300)"
   ]
  },
  {
   "cell_type": "code",
   "execution_count": null,
   "metadata": {},
   "outputs": [],
   "source": [
    "sns.set_context('paper')\n",
    "fig,axs = plt.subplots(1,1,figsize=(3,3))\n",
    "sns.lineplot(x='amount',y='Accuracy Change',hue='encoder_arch',style='recon_weight',data=gauss_df)\n",
    "plt.legend(bbox_to_anchor=(1.05, 1), loc=2, borderaxespad=0.)\n",
    "plt.xlabel('Variance')\n",
    "plt.ylim(0,-0.6)"
   ]
  },
  {
   "cell_type": "code",
   "execution_count": null,
   "metadata": {},
   "outputs": [],
   "source": [
    "fig.savefig('../figures/sfn/gauss_noise.pdf',dpi=300)"
   ]
  },
  {
   "cell_type": "code",
   "execution_count": null,
   "metadata": {},
   "outputs": [],
   "source": [
    "sns.set_context('paper')\n",
    "g = sns.FacetGrid(col='id',data=gauss_df[gauss_df.amount>0],ylim=(0,0.8),height=2.5,hue='encoder_arch')\n",
    "g.map(sns.barplot,'amount','Classifier_acc')\n",
    "g.map(plt.xticks,rotation=90)\n",
    "# g.map(plt.hlines(y=0.1,xmin=0,xmax=2.25,linestyles='dashed'))\n",
    "# g.map()\n",
    "# sns.barplot(x='id',y='Classifier_acc',hue='amount',data=gauss_df)"
   ]
  },
  {
   "cell_type": "code",
   "execution_count": null,
   "metadata": {},
   "outputs": [],
   "source": [
    "g.fig.savefig('../figures/sfn/gauss_noise_bars.pdf',dpi=300)"
   ]
  },
  {
   "cell_type": "code",
   "execution_count": null,
   "metadata": {},
   "outputs": [],
   "source": [
    "sns.set_context('paper')\n",
    "g = sns.FacetGrid(col='id',data=speck_df[speck_df.amount>0],ylim=(0,0.8),height=2.5,hue='encoder_arch')\n",
    "g.map(sns.barplot,'amount','Classifier_acc')\n",
    "g.map(plt.xticks,rotation=90)"
   ]
  },
  {
   "cell_type": "code",
   "execution_count": null,
   "metadata": {},
   "outputs": [],
   "source": [
    "g.fig.savefig('../figures/sfn/speckle_noise_bars.pdf',dpi=300)"
   ]
  },
  {
   "cell_type": "code",
   "execution_count": null,
   "metadata": {},
   "outputs": [],
   "source": [
    "sns.set_context('talk')\n",
    "g = sns.FacetGrid(row='id',data=speck_df,ylim=(0,0.8))\n",
    "g.map(sns.barplot,'amount','Classifier_acc')\n",
    "plt.xticks(rotation=90)"
   ]
  },
  {
   "cell_type": "code",
   "execution_count": null,
   "metadata": {},
   "outputs": [],
   "source": [
    "sns.lineplot(x='amount',y='Accuracy Change',hue='encoder_arch',style='recon_weight',data=speck_df)\n",
    "plt.ylim(0,-0.6)"
   ]
  },
  {
   "cell_type": "code",
   "execution_count": null,
   "metadata": {},
   "outputs": [],
   "source": [
    "confs = list(load_config(exps))\n",
    "conf = confs[1]"
   ]
  },
  {
   "cell_type": "code",
   "execution_count": null,
   "metadata": {},
   "outputs": [],
   "source": [
    "conf.items()"
   ]
  },
  {
   "cell_type": "code",
   "execution_count": null,
   "metadata": {},
   "outputs": [],
   "source": [
    "# from tqdm.autonotebook import tqdm\n",
    "def model_noise_sweep(mod,DB,noise_levels,n_batches=20,**noise_kws):\n",
    "    t_batches = list(DB.gen_test_batches(n_batches,batch_size=512,bg='natural'))\n",
    "    x,_,_ = t_batches[0]\n",
    "    xbgs = []\n",
    "    for noise_lvl in noise_levels:\n",
    "        if noise_lvl == 0.0:\n",
    "            fg_n = np.zeros(shape=(50,512,512,1))\n",
    "            noise_ims = [fg_n[i].reshape(512,512,1) for i in np.arange(50)]\n",
    "        else:\n",
    "            fg_n = DB.gen_bg_noise(im_stack=np.zeros(shape=(50,512,512,1)),**noise_kws)\n",
    "            noise_ims = [fg_n[i].reshape(512,512,1) for i in np.arange(50)]\n",
    "        xbg = DB.gen_backgrounds(x,noise_ims)\n",
    "        xbgs.append(xbg)\n",
    "        \n",
    "    out_recs = []\n",
    "    for lvl,xbg in zip(noise_levels,xbgs):\n",
    "        print('noise: ',lvl)\n",
    "        for X,xfg,y in tqdm(t_batches):\n",
    "            X_noised = np.clip(X+xbg,-1,1)\n",
    "            Y = {'Generator':xfg,'Classifier':y}\n",
    "\n",
    "            out = mod.test_on_batch(X_noised,Y)\n",
    "            out = {k:v for k,v in zip(mod.metrics_names,out)}\n",
    "            out['width']=w\n",
    "            out['amount']=lvl\n",
    "            out_recs.append(out)\n",
    "    return pd.DataFrame.from_records(out_recs)"
   ]
  },
  {
   "cell_type": "code",
   "execution_count": null,
   "metadata": {},
   "outputs": [],
   "source": [
    "mod_res_dfs = []\n",
    "for i, mod in enumerate(load_models(proj_root,exps)):\n",
    "    print(exps[i])\n",
    "    res_df = model_noise_sweep(mod,DB,noise_levels=[0.0,0.3,0.6,0.9],n_batches=20)\n",
    "    mod_res_dfs.append(res_df)"
   ]
  },
  {
   "cell_type": "code",
   "execution_count": null,
   "metadata": {},
   "outputs": [],
   "source": [
    "confs = list(load_config(exps))"
   ]
  },
  {
   "cell_type": "code",
   "execution_count": null,
   "metadata": {},
   "outputs": [],
   "source": [
    "for df,conf in zip(mod_res_dfs,confs):\n",
    "    df['Model ID']= conf['id']\n",
    "    df['encoder_arch']=conf['encoder_arch']\n",
    "    df['recon']=conf['recon_weight']\n",
    "    df['baseline_acc']=df[df.amount==0.0]['Classifier_acc'].values.mean()"
   ]
  },
  {
   "cell_type": "code",
   "execution_count": null,
   "metadata": {},
   "outputs": [],
   "source": [
    "noise_df = pd.concat(mod_res_dfs)\n",
    "noise_df['Relative Accuracy']=noise_df['Classifier_acc']-noise_df['baseline_acc']\n",
    "noise_df.head()"
   ]
  },
  {
   "cell_type": "code",
   "execution_count": null,
   "metadata": {},
   "outputs": [],
   "source": [
    "sns.barplot(x='amount',y='Relative Accuracy',hue='encoder_arch',data=noise_df)"
   ]
  },
  {
   "cell_type": "code",
   "execution_count": null,
   "metadata": {},
   "outputs": [],
   "source": [
    "g = sns.FacetGrid(data=noise_df,row='encoder_arch',col='recon',)\n",
    "g = g.map(sns.lineplot,'amount','Relative Accuracy')"
   ]
  },
  {
   "cell_type": "code",
   "execution_count": null,
   "metadata": {},
   "outputs": [],
   "source": [
    "g = sns.FacetGrid(data=noise_df,row='encoder_arch',col='recon',)\n",
    "g = g.map(sns.lineplot,'amount','Classifier_acc')"
   ]
  },
  {
   "cell_type": "code",
   "execution_count": null,
   "metadata": {},
   "outputs": [],
   "source": []
  },
  {
   "cell_type": "code",
   "execution_count": null,
   "metadata": {},
   "outputs": [],
   "source": [
    "sns.set_context('talk')\n",
    "sns.lineplot(x='amount',y='Relative Accuracy',data=noise_df,hue='encoder_arch',style='recon')\n",
    "plt.ylim(0.0,-0.1)"
   ]
  },
  {
   "cell_type": "code",
   "execution_count": null,
   "metadata": {},
   "outputs": [],
   "source": [
    "sns.set_context('talk')\n",
    "sns.lineplot(x='amount',y='Classifier_acc',data=noise_df,hue='encoder_arch',style='recon')\n",
    "# plt.ylim(0.0,-0.1)"
   ]
  },
  {
   "cell_type": "code",
   "execution_count": null,
   "metadata": {},
   "outputs": [],
   "source": [
    "sns.barplot(x='Model ID',y='Relative Accuracy',data=noise_df,hue='amount')"
   ]
  },
  {
   "cell_type": "code",
   "execution_count": null,
   "metadata": {},
   "outputs": [],
   "source": [
    "sns.barplot(x='amount',y='Classifier_acc',data=res_df)"
   ]
  },
  {
   "cell_type": "code",
   "execution_count": null,
   "metadata": {},
   "outputs": [],
   "source": [
    "t_batches = list(DB.gen_test_batches(20,batch_size=512,bg='natural'))\n",
    "\n",
    "for lvl,xbg in zip(noise_amt,xbgs):\n",
    "    print('noise: ',lvl)\n",
    "    for X,xfg,y in t_batches:\n",
    "        X_noised = np.clip(X+xbg,-1,1)\n",
    "        Y = {'Generator':xfg,'Classifier':y}\n",
    "        \n",
    "        out = mod.test_on_batch(X_noised,Y)\n",
    "        out = {k:v for k,v in zip(mod.metrics_names,out)}\n",
    "        out['width']=w\n",
    "        out['amount']=lvl\n",
    "        out_recs.append(out)\n",
    "#         print(out)"
   ]
  },
  {
   "cell_type": "code",
   "execution_count": null,
   "metadata": {},
   "outputs": [],
   "source": [
    "res_df = pd.DataFrame.from_records(out_recs)"
   ]
  },
  {
   "cell_type": "code",
   "execution_count": null,
   "metadata": {},
   "outputs": [],
   "source": []
  },
  {
   "cell_type": "code",
   "execution_count": null,
   "metadata": {},
   "outputs": [],
   "source": [
    "np.median(xbg)"
   ]
  },
  {
   "cell_type": "code",
   "execution_count": null,
   "metadata": {},
   "outputs": [],
   "source": [
    "X_noised = np.clip(X+xbg,-1,1)\n",
    "plt.imshow(X_noised[6].reshape(56,56),cmap='gray')"
   ]
  },
  {
   "cell_type": "code",
   "execution_count": null,
   "metadata": {},
   "outputs": [],
   "source": []
  }
 ],
 "metadata": {
  "kernelspec": {
   "display_name": "Py3-fastai (Python3.6.1)",
   "language": "python",
   "name": "py3-fastai"
  },
  "language_info": {
   "codemirror_mode": {
    "name": "ipython",
    "version": 3
   },
   "file_extension": ".py",
   "mimetype": "text/x-python",
   "name": "python",
   "nbconvert_exporter": "python",
   "pygments_lexer": "ipython3",
   "version": "3.6.1"
  }
 },
 "nbformat": 4,
 "nbformat_minor": 4
}
