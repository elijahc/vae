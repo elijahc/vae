{
 "cells": [
  {
   "cell_type": "code",
   "execution_count": 1,
   "metadata": {},
   "outputs": [
    {
     "name": "stderr",
     "output_type": "stream",
     "text": [
      "Using TensorFlow backend.\n"
     ]
    }
   ],
   "source": [
    "import os\n",
    "import json\n",
    "import numpy as np\n",
    "import pandas as pd\n",
    "import scipy\n",
    "\n",
    "import matplotlib.pyplot as plt\n",
    "%matplotlib inline\n",
    "\n",
    "from src.data_loader import Shifted_Data_Loader\n",
    "from src.plot import orig_vs_transformed as plot_ovt\n",
    "from src.plot import enc_dec_samples\n",
    "from src.models import ConvGVAEBuilder\n",
    "from src.config import get_config\n",
    "from src.trainer import Trainer\n",
    "from src.utils import prepare_dirs_and_logger\n",
    "from keras.datasets import fashion_mnist"
   ]
  },
  {
   "cell_type": "code",
   "execution_count": 2,
   "metadata": {},
   "outputs": [
    {
     "data": {
      "text/plain": [
       "{'batch_size': 128,\n",
       " 'data_dir': 'data',\n",
       " 'dataset': 'mnist',\n",
       " 'enc_layers': [3000, 2000],\n",
       " 'epochs': 20,\n",
       " 'log_dir': '../logs',\n",
       " 'log_level': 'INFO',\n",
       " 'model_dir': '../logs/mnist_1008_211431',\n",
       " 'model_name': 'mnist_1008_211431',\n",
       " 'optimizer': 'adam',\n",
       " 'recon': 10,\n",
       " 'xcov': 10,\n",
       " 'xent': 10,\n",
       " 'y_dim': 10,\n",
       " 'z_dim': 4}"
      ]
     },
     "execution_count": 2,
     "metadata": {},
     "output_type": "execute_result"
    }
   ],
   "source": [
    "config,_ = get_config()\n",
    "setattr(config, 'batch_size', 128)\n",
    "setattr(config, 'dataset', 'mnist')\n",
    "setattr(config, 'epochs', 20)\n",
    "setattr(config, 'enc_layers', [3000,2000])\n",
    "setattr(config, 'z_dim', 4)\n",
    "setattr(config, 'recon',10)\n",
    "setattr(config, 'log_dir', '../logs')\n",
    "# setattr(config, 'xcov', None)\n",
    "# setattr(config, 'recon', None)\n",
    "prepare_dirs_and_logger(config)\n",
    "vars(config)"
   ]
  },
  {
   "cell_type": "code",
   "execution_count": 3,
   "metadata": {},
   "outputs": [],
   "source": [
    "with open(os.path.join(config.model_dir,'params.json'), 'w') as fp:\n",
    "    json.dump(vars(config), fp)"
   ]
  },
  {
   "cell_type": "code",
   "execution_count": 4,
   "metadata": {},
   "outputs": [
    {
     "name": "stdout",
     "output_type": "stream",
     "text": [
      "input_shape:  (3136,)\n",
      "dataset:  mnist\n",
      "scale:  2\n",
      "tx_max:  0.75\n",
      "rot_max:  None\n",
      "loading mnist...\n"
     ]
    },
    {
     "name": "stderr",
     "output_type": "stream",
     "text": [
      "  6%|▌         | 3590/60000 [00:00<00:01, 35892.42it/s]"
     ]
    },
    {
     "name": "stdout",
     "output_type": "stream",
     "text": [
      "sx_train:  (60000, 3136)\n",
      "making training data...\n"
     ]
    },
    {
     "name": "stderr",
     "output_type": "stream",
     "text": [
      "100%|██████████| 60000/60000 [00:01<00:00, 36519.29it/s]\n",
      " 23%|██▎       | 2310/10000 [00:00<00:00, 23089.67it/s]"
     ]
    },
    {
     "name": "stdout",
     "output_type": "stream",
     "text": [
      "making testing data...\n"
     ]
    },
    {
     "name": "stderr",
     "output_type": "stream",
     "text": [
      "100%|██████████| 10000/10000 [00:00<00:00, 24216.86it/s]\n"
     ]
    }
   ],
   "source": [
    "DL = Shifted_Data_Loader(dataset=config.dataset,flatten=True,\n",
    "                         rotation=None,\n",
    "#                          translation=None,\n",
    "                        )"
   ]
  },
  {
   "cell_type": "code",
   "execution_count": 5,
   "metadata": {},
   "outputs": [
    {
     "data": {
      "image/png": "[encoded data removed]",
      "text/plain": [
       "<Figure size 432x288 with 2 Axes>"
      ]
     },
     "metadata": {
      "needs_background": "light"
     },
     "output_type": "display_data"
    }
   ],
   "source": [
    "pt,idx = plot_ovt(DL,cmap='gray')"
   ]
  },
  {
   "cell_type": "code",
   "execution_count": 6,
   "metadata": {},
   "outputs": [],
   "source": [
    "mod_builder = ConvGVAEBuilder(enc_layers=config.enc_layers,z_dim=config.z_dim)"
   ]
  },
  {
   "cell_type": "code",
   "execution_count": 7,
   "metadata": {},
   "outputs": [
    {
     "name": "stdout",
     "output_type": "stream",
     "text": [
      "building model...\n"
     ]
    }
   ],
   "source": [
    "trainer = Trainer(config,DL,mod_builder)"
   ]
  },
  {
   "cell_type": "code",
   "execution_count": 8,
   "metadata": {},
   "outputs": [],
   "source": [
    "trainer.compile_model()"
   ]
  },
  {
   "cell_type": "code",
   "execution_count": 9,
   "metadata": {},
   "outputs": [
    {
     "name": "stdout",
     "output_type": "stream",
     "text": [
      "__________________________________________________________________________________________________\n",
      "Layer (type)                    Output Shape         Param #     Connected to                     \n",
      "==================================================================================================\n",
      "input (InputLayer)              (None, 3136)         0                                            \n",
      "__________________________________________________________________________________________________\n",
      "dense_1 (Dense)                 (None, 3000)         9411000     input[0][0]                      \n",
      "__________________________________________________________________________________________________\n",
      "dense_2 (Dense)                 (None, 2000)         6002000     dense_1[0][0]                    \n",
      "__________________________________________________________________________________________________\n",
      "y_lat (Dense)                   (None, 10)           20010       dense_2[0][0]                    \n",
      "__________________________________________________________________________________________________\n",
      "z_lat (Dense)                   (None, 4)            8004        dense_2[0][0]                    \n",
      "__________________________________________________________________________________________________\n",
      "concatenate_1 (Concatenate)     (None, 14)           0           y_lat[0][0]                      \n",
      "                                                                 z_lat[0][0]                      \n",
      "__________________________________________________________________________________________________\n",
      "dense_3 (Dense)                 (None, 50176)        752640      concatenate_1[0][0]              \n",
      "__________________________________________________________________________________________________\n",
      "reshape_1 (Reshape)             (None, 28, 28, 64)   0           dense_3[0][0]                    \n",
      "__________________________________________________________________________________________________\n",
      "up_sampling2d_1 (UpSampling2D)  (None, 56, 56, 64)   0           reshape_1[0][0]                  \n",
      "__________________________________________________________________________________________________\n",
      "conv2d_transpose_1 (Conv2DTrans (None, 56, 56, 32)   18464       up_sampling2d_1[0][0]            \n",
      "__________________________________________________________________________________________________\n",
      "reconstruction (Conv2DTranspose (None, 56, 56, 1)    289         conv2d_transpose_1[0][0]         \n",
      "__________________________________________________________________________________________________\n",
      "flatten_1 (Flatten)             (None, 3136)         0           reconstruction[0][0]             \n",
      "==================================================================================================\n",
      "Total params: 16,212,407\n",
      "Trainable params: 16,212,407\n",
      "Non-trainable params: 0\n",
      "__________________________________________________________________________________________________\n"
     ]
    }
   ],
   "source": [
    "trainer.model.summary()"
   ]
  },
  {
   "cell_type": "code",
   "execution_count": null,
   "metadata": {},
   "outputs": [
    {
     "name": "stdout",
     "output_type": "stream",
     "text": [
      "Train on 54000 samples, validate on 6000 samples\n",
      "Epoch 1/20\n",
      "54000/54000 [==============================] - 14s 255us/step - loss: 972.4062 - acc: 0.7569 - xentropy: 7.3309 - recon_mse: 83.2421 - val_loss: 434.7089 - val_acc: 0.8940 - val_xentropy: 3.2620 - val_recon_mse: 45.4236\n",
      "Epoch 2/20\n",
      "54000/54000 [==============================] - 12s 214us/step - loss: 346.0497 - acc: 0.9171 - xentropy: 2.5657 - recon_mse: 42.7902 - val_loss: 357.6259 - val_acc: 0.9172 - val_xentropy: 2.6713 - val_recon_mse: 40.6620\n",
      "Epoch 3/20\n",
      "54000/54000 [==============================] - 12s 214us/step - loss: 205.1920 - acc: 0.9512 - xentropy: 1.4734 - recon_mse: 40.0415 - val_loss: 323.9149 - val_acc: 0.9270 - val_xentropy: 2.4134 - val_recon_mse: 38.9242\n",
      "Epoch 4/20\n",
      "54000/54000 [==============================] - 12s 214us/step - loss: 145.1985 - acc: 0.9661 - xentropy: 1.0088 - recon_mse: 38.6813 - val_loss: 396.5581 - val_acc: 0.9158 - val_xentropy: 2.9819 - val_recon_mse: 38.0412\n",
      "Epoch 5/20\n",
      "54000/54000 [==============================] - 12s 214us/step - loss: 111.2667 - acc: 0.9745 - xentropy: 0.7468 - recon_mse: 37.7343 - val_loss: 371.5314 - val_acc: 0.9280 - val_xentropy: 2.7907 - val_recon_mse: 37.0696\n",
      "Epoch 6/20\n",
      "54000/54000 [==============================] - 12s 216us/step - loss: 100.1620 - acc: 0.9782 - xentropy: 0.6618 - recon_mse: 37.0575 - val_loss: 386.0123 - val_acc: 0.9293 - val_xentropy: 2.9055 - val_recon_mse: 36.6886\n",
      "Epoch 7/20\n",
      "54000/54000 [==============================] - 12s 216us/step - loss: 88.3671 - acc: 0.9814 - xentropy: 0.5707 - recon_mse: 36.7218 - val_loss: 391.1011 - val_acc: 0.9253 - val_xentropy: 2.9472 - val_recon_mse: 36.3524\n",
      "Epoch 8/20\n",
      "54000/54000 [==============================] - 12s 218us/step - loss: 82.1642 - acc: 0.9831 - xentropy: 0.5235 - recon_mse: 36.3330 - val_loss: 358.6651 - val_acc: 0.9320 - val_xentropy: 2.6915 - val_recon_mse: 35.8334\n",
      "Epoch 9/20\n",
      "52352/54000 [============================>.] - ETA: 0s - loss: 67.6019 - acc: 0.9873 - xentropy: 0.4111 - recon_mse: 35.8275"
     ]
    }
   ],
   "source": [
    "trainer.go(x=DL.sx_train,y=DL.y_train_oh,validation_split=0.1,verbose=0)"
   ]
  },
  {
   "cell_type": "code",
   "execution_count": null,
   "metadata": {},
   "outputs": [],
   "source": [
    "trainer.save_model()"
   ]
  },
  {
   "cell_type": "code",
   "execution_count": null,
   "metadata": {},
   "outputs": [],
   "source": [
    "from keras.models import Model\n",
    "from keras.layers import Input"
   ]
  },
  {
   "cell_type": "code",
   "execution_count": null,
   "metadata": {},
   "outputs": [],
   "source": [
    "z_encoder = trainer.get_encoder('z_lat')\n",
    "classifier = trainer.get_encoder('y_lat')\n",
    "decoder_inp = Input(shape=(config.y_dim+config.z_dim,))\n",
    "dec_layers = trainer.model.layers[-6:]\n",
    "print(dec_layers)\n",
    "_gen_x = dec_layers[0](decoder_inp)\n",
    "_gen_x = dec_layers[1](_gen_x)\n",
    "_gen_x = dec_layers[2](_gen_x)\n",
    "_gen_x = dec_layers[3](_gen_x)\n",
    "_gen_x = dec_layers[4](_gen_x)\n",
    "_gen_x = dec_layers[5](_gen_x)\n",
    "generator = Model(decoder_inp,_gen_x)"
   ]
  },
  {
   "cell_type": "code",
   "execution_count": null,
   "metadata": {},
   "outputs": [],
   "source": [
    "classifier.summary()"
   ]
  },
  {
   "cell_type": "code",
   "execution_count": null,
   "metadata": {},
   "outputs": [],
   "source": [
    "classifier.compile(loss='mse',optimizer='adam')\n",
    "classifier.evaluate(DL.sx_test,DL.y_test_oh,batch_size=config.batch_size)"
   ]
  },
  {
   "cell_type": "code",
   "execution_count": null,
   "metadata": {},
   "outputs": [],
   "source": [
    "z_enc = z_encoder.predict(DL.sx_test,batch_size=config.batch_size)\n",
    "y_class = classifier.predict(DL.sx_test,batch_size=config.batch_size)"
   ]
  },
  {
   "cell_type": "code",
   "execution_count": null,
   "metadata": {},
   "outputs": [],
   "source": [
    "z_enc.shape"
   ]
  },
  {
   "cell_type": "code",
   "execution_count": null,
   "metadata": {},
   "outputs": [],
   "source": [
    "_lat_vec = np.concatenate([y_class,z_enc],axis=1)\n",
    "_lat_vec.shape"
   ]
  },
  {
   "cell_type": "code",
   "execution_count": null,
   "metadata": {},
   "outputs": [],
   "source": [
    "regen = generator.predict(_lat_vec,batch_size=config.batch_size)"
   ]
  },
  {
   "cell_type": "code",
   "execution_count": null,
   "metadata": {},
   "outputs": [],
   "source": [
    "rand_im = np.random.randint(0,10000)\n",
    "plt.imshow(regen[rand_im].reshape(56,56),cmap='gray')"
   ]
  },
  {
   "cell_type": "code",
   "execution_count": null,
   "metadata": {},
   "outputs": [],
   "source": [
    "enc_dec_samples(DL.x_test,DL.sx_test,z_enc,y_class,generator)"
   ]
  },
  {
   "cell_type": "code",
   "execution_count": null,
   "metadata": {},
   "outputs": [],
   "source": [
    "from src.metrics import var_expl\n",
    "dxs = DL.dx[1]-14\n",
    "dys = DL.dy[1]-14\n",
    "dtheta = DL.dtheta[1]\n",
    "fve_dx = var_expl(features=z_enc,cond=dxs,bins=21)\n",
    "fve_dy = var_expl(features=z_enc,cond=dys,bins=21)\n",
    "fve_dt = var_expl(features=z_enc,cond=dtheta,bins=21)"
   ]
  },
  {
   "cell_type": "code",
   "execution_count": null,
   "metadata": {},
   "outputs": [],
   "source": [
    "fve_dx_norm = (dxs.var()-fve_dx)/dxs.var()\n",
    "fve_dy_norm = (dys.var()-fve_dy)/dys.var()\n",
    "fve_dth_norm = (dtheta.var()-fve_dt)/dtheta.var()"
   ]
  },
  {
   "cell_type": "code",
   "execution_count": null,
   "metadata": {},
   "outputs": [],
   "source": [
    "import seaborn as sns\n",
    "sns.set_context('talk')"
   ]
  },
  {
   "cell_type": "code",
   "execution_count": null,
   "metadata": {},
   "outputs": [],
   "source": [
    "fve_dx_norm.shape"
   ]
  },
  {
   "cell_type": "code",
   "execution_count": null,
   "metadata": {},
   "outputs": [],
   "source": [
    "plt.scatter(np.arange(config.z_dim),fve_dx_norm.mean(axis=0))\n",
    "plt.xlabel('Z_n')\n",
    "plt.ylabel('fve_dx')\n",
    "# plt.ylim(-0.125,0.25)\n",
    "np.argmax(fve_dx_norm.mean(axis=0))"
   ]
  },
  {
   "cell_type": "code",
   "execution_count": null,
   "metadata": {},
   "outputs": [],
   "source": [
    "fve_dy_norm.mean(axis=0)"
   ]
  },
  {
   "cell_type": "code",
   "execution_count": null,
   "metadata": {},
   "outputs": [],
   "source": [
    "plt.scatter(np.arange(config.z_dim),fve_dy_norm.mean(axis=0))\n",
    "plt.xlabel('Z_n')\n",
    "plt.ylabel('fve_dy')\n",
    "# plt.ylim(-0.125,0.25)\n",
    "np.argmax(fve_dy_norm.mean(axis=0))"
   ]
  },
  {
   "cell_type": "code",
   "execution_count": null,
   "metadata": {},
   "outputs": [],
   "source": [
    "plt.scatter(np.arange(config.z_dim),fve_dth_norm.mean(axis=0))\n",
    "plt.xlabel('Z_n')\n",
    "plt.ylabel('fve_dtheta')\n",
    "plt.ylim(0.0,0.5)\n",
    "np.argmax(fve_dth_norm.mean(axis=0))"
   ]
  },
  {
   "cell_type": "code",
   "execution_count": null,
   "metadata": {},
   "outputs": [],
   "source": [
    "from src.plot import Z_color_scatter\n",
    "Z_color_scatter(z_enc,[0,3],dxs)"
   ]
  },
  {
   "cell_type": "code",
   "execution_count": null,
   "metadata": {},
   "outputs": [],
   "source": [
    "Z_color_scatter(z_enc,[0,3],dys)"
   ]
  },
  {
   "cell_type": "code",
   "execution_count": null,
   "metadata": {},
   "outputs": [],
   "source": [
    "Z_color_scatter(z_enc,[1,2],dtheta)"
   ]
  },
  {
   "cell_type": "code",
   "execution_count": null,
   "metadata": {},
   "outputs": [],
   "source": []
  }
 ],
 "metadata": {
  "kernelspec": {
   "display_name": "Py3-GPU (Python3.5.2)",
   "language": "python",
   "name": "py3-gpu"
  },
  "language_info": {
   "codemirror_mode": {
    "name": "ipython",
    "version": 3
   },
   "file_extension": ".py",
   "mimetype": "text/x-python",
   "name": "python",
   "nbconvert_exporter": "python",
   "pygments_lexer": "ipython3",
   "version": "3.5.2"
  }
 },
 "nbformat": 4,
 "nbformat_minor": 2
}
