{
 "cells": [
  {
   "cell_type": "code",
   "execution_count": 1,
   "metadata": {},
   "outputs": [
    {
     "name": "stderr",
     "output_type": "stream",
     "text": [
      "Using TensorFlow backend.\n"
     ]
    }
   ],
   "source": [
    "import os\n",
    "import numpy as np\n",
    "import pandas as pd\n",
    "import matplotlib.pyplot as plt\n",
    "%matplotlib inline\n",
    "import seaborn as sns\n",
    "\n",
    "from keras.layers import Dense,Input,Lambda\n",
    "from keras.models import Model\n",
    "from keras.metrics import binary_crossentropy\n",
    "import keras.backend as K\n",
    "from keras.datasets import fashion_mnist\n",
    "from keras.utils import to_categorical\n",
    "\n",
    "from scipy.stats import norm\n",
    "from sklearn.manifold import Isomap"
   ]
  },
  {
   "cell_type": "code",
   "execution_count": 2,
   "metadata": {},
   "outputs": [],
   "source": [
    "from src.utils import process_mnist,gen_trajectory,gen_sorted_isomap\n",
    "from src.models import build_dense,CachedModel"
   ]
  },
  {
   "cell_type": "code",
   "execution_count": 3,
   "metadata": {},
   "outputs": [
    {
     "name": "stdout",
     "output_type": "stream",
     "text": [
      "(60000, 784)\n",
      "(10000, 784)\n"
     ]
    }
   ],
   "source": [
    "# train the VAE on MNIST digits\n",
    "(x_train, y_train), (x_test, y_test) = fashion_mnist.load_data()\n",
    "\n",
    "x_train = x_train.astype('float32') / 255.\n",
    "x_test = x_test.astype('float32') / 255.\n",
    "x_train = x_train.reshape((len(x_train), np.prod(x_train.shape[1:])))\n",
    "x_test = x_test.reshape((len(x_test), np.prod(x_test.shape[1:])))\n",
    "\n",
    "input_shape=(784,)\n",
    "print(x_train.shape)\n",
    "print(x_test.shape)"
   ]
  },
  {
   "cell_type": "code",
   "execution_count": 4,
   "metadata": {},
   "outputs": [
    {
     "data": {
      "text/plain": [
       "<matplotlib.image.AxesImage at 0x7f85501cad30>"
      ]
     },
     "execution_count": 4,
     "metadata": {},
     "output_type": "execute_result"
    },
    {
     "data": {
      "image/png": "[encoded data removed]",
      "text/plain": [
       "<Figure size 432x288 with 1 Axes>"
      ]
     },
     "metadata": {
      "needs_background": "light"
     },
     "output_type": "display_data"
    }
   ],
   "source": [
    "plt.imshow(x_train[3].reshape(28,28))"
   ]
  },
  {
   "cell_type": "code",
   "execution_count": 5,
   "metadata": {},
   "outputs": [],
   "source": [
    "encoding_dim = 64\n",
    "latent_dim = 2\n",
    "inputs = Input(shape=input_shape)\n",
    "encoded = build_dense(inputs,[512,encoding_dim],activations='relu')"
   ]
  },
  {
   "cell_type": "code",
   "execution_count": 6,
   "metadata": {},
   "outputs": [],
   "source": [
    "z_mean = Dense(latent_dim)(encoded)\n",
    "z_log_sigma = Dense(latent_dim)(encoded)\n",
    "\n",
    "def sampler(args):\n",
    "    mean,log_stddev = args\n",
    "    std_norm = K.random_normal(shape=(K.shape(mean)[0],latent_dim),mean=0,stddev=1)\n",
    "    \n",
    "    return mean + K.exp(log_stddev) * std_norm\n",
    "\n",
    "lat_vec = Lambda(sampler)([z_mean,z_log_sigma])"
   ]
  },
  {
   "cell_type": "code",
   "execution_count": 7,
   "metadata": {},
   "outputs": [],
   "source": [
    "decoded_mean = build_dense(lat_vec,[encoding_dim,256,784],activations=['relu','relu','sigmoid'])"
   ]
  },
  {
   "cell_type": "code",
   "execution_count": 8,
   "metadata": {},
   "outputs": [],
   "source": [
    "vae = Model(inputs,decoded_mean)\n",
    "def vae_loss(input_img,output):\n",
    "    # Reconstruction loss\n",
    "    reconstruction_loss = K.sum(K.square(output-input_img))\n",
    "    kl_loss = -0.5*K.sum(1+(2*z_log_sigma)-K.square(z_mean)- K.square(K.exp(z_log_sigma)),axis=-1)\n",
    "    total_loss = K.mean(reconstruction_loss)+kl_loss\n",
    "    return total_loss\n",
    "# vae.compile(loss=vae_loss,optimizer='rmsprop')\n",
    "vae.compile(loss=vae_loss,optimizer='adadelta')"
   ]
  },
  {
   "cell_type": "code",
   "execution_count": 9,
   "metadata": {},
   "outputs": [
    {
     "name": "stdout",
     "output_type": "stream",
     "text": [
      "__________________________________________________________________________________________________\n",
      "Layer (type)                    Output Shape         Param #     Connected to                     \n",
      "==================================================================================================\n",
      "input_1 (InputLayer)            (None, 784)          0                                            \n",
      "__________________________________________________________________________________________________\n",
      "dense_1 (Dense)                 (None, 512)          401920      input_1[0][0]                    \n",
      "__________________________________________________________________________________________________\n",
      "dense_2 (Dense)                 (None, 64)           32832       dense_1[0][0]                    \n",
      "__________________________________________________________________________________________________\n",
      "dense_3 (Dense)                 (None, 2)            130         dense_2[0][0]                    \n",
      "__________________________________________________________________________________________________\n",
      "dense_4 (Dense)                 (None, 2)            130         dense_2[0][0]                    \n",
      "__________________________________________________________________________________________________\n",
      "lambda_1 (Lambda)               (None, 2)            0           dense_3[0][0]                    \n",
      "                                                                 dense_4[0][0]                    \n",
      "__________________________________________________________________________________________________\n",
      "dense_5 (Dense)                 (None, 64)           192         lambda_1[0][0]                   \n",
      "__________________________________________________________________________________________________\n",
      "dense_6 (Dense)                 (None, 256)          16640       dense_5[0][0]                    \n",
      "__________________________________________________________________________________________________\n",
      "dense_7 (Dense)                 (None, 784)          201488      dense_6[0][0]                    \n",
      "==================================================================================================\n",
      "Total params: 653,332\n",
      "Trainable params: 653,332\n",
      "Non-trainable params: 0\n",
      "__________________________________________________________________________________________________\n"
     ]
    }
   ],
   "source": [
    "vae.summary()"
   ]
  },
  {
   "cell_type": "code",
   "execution_count": 10,
   "metadata": {},
   "outputs": [
    {
     "name": "stdout",
     "output_type": "stream",
     "text": [
      "Train on 60000 samples, validate on 10000 samples\n",
      "Epoch 1/50\n",
      "60000/60000 [==============================] - 4s 74us/step - loss: 4689.4874 - val_loss: 3508.2418\n",
      "Epoch 2/50\n",
      "60000/60000 [==============================] - 3s 54us/step - loss: 3415.0632 - val_loss: 3069.8405\n",
      "Epoch 3/50\n",
      "60000/60000 [==============================] - 3s 51us/step - loss: 3088.7502 - val_loss: 2999.9474\n",
      "Epoch 4/50\n",
      "60000/60000 [==============================] - 3s 53us/step - loss: 2961.7688 - val_loss: 2852.6096\n",
      "Epoch 5/50\n",
      "60000/60000 [==============================] - 3s 55us/step - loss: 2881.4137 - val_loss: 2789.4998\n",
      "Epoch 6/50\n",
      "60000/60000 [==============================] - 3s 52us/step - loss: 2830.7174 - val_loss: 2789.0793\n",
      "Epoch 7/50\n",
      "60000/60000 [==============================] - 3s 51us/step - loss: 2794.1552 - val_loss: 2726.9595\n",
      "Epoch 8/50\n",
      "60000/60000 [==============================] - 3s 49us/step - loss: 2758.7871 - val_loss: 2713.4574\n",
      "Epoch 9/50\n",
      "60000/60000 [==============================] - 3s 53us/step - loss: 2726.0503 - val_loss: 2691.3903\n",
      "Epoch 10/50\n",
      "60000/60000 [==============================] - 3s 53us/step - loss: 2704.8288 - val_loss: 2662.8040\n",
      "Epoch 11/50\n",
      "60000/60000 [==============================] - 3s 53us/step - loss: 2676.9582 - val_loss: 2644.2730\n",
      "Epoch 12/50\n",
      "60000/60000 [==============================] - 3s 51us/step - loss: 2659.0873 - val_loss: 2665.4437\n",
      "Epoch 13/50\n",
      "60000/60000 [==============================] - 3s 54us/step - loss: 2643.3830 - val_loss: 2662.8555\n",
      "Epoch 14/50\n",
      "60000/60000 [==============================] - 3s 52us/step - loss: 2634.0760 - val_loss: 2603.9750\n",
      "Epoch 15/50\n",
      "60000/60000 [==============================] - 3s 53us/step - loss: 2612.2314 - val_loss: 2600.1640\n",
      "Epoch 16/50\n",
      "60000/60000 [==============================] - 3s 54us/step - loss: 2603.9968 - val_loss: 2582.7842\n",
      "Epoch 17/50\n",
      "60000/60000 [==============================] - 3s 52us/step - loss: 2592.0064 - val_loss: 2616.9723\n",
      "Epoch 18/50\n",
      "60000/60000 [==============================] - 3s 53us/step - loss: 2580.4244 - val_loss: 2566.7636\n",
      "Epoch 19/50\n",
      "60000/60000 [==============================] - 3s 54us/step - loss: 2576.9126 - val_loss: 2547.3637\n",
      "Epoch 20/50\n",
      "60000/60000 [==============================] - 3s 53us/step - loss: 2558.2852 - val_loss: 2577.6472\n",
      "Epoch 21/50\n",
      "60000/60000 [==============================] - 3s 52us/step - loss: 2558.9865 - val_loss: 2583.4228\n",
      "Epoch 22/50\n",
      "60000/60000 [==============================] - 3s 51us/step - loss: 2539.4489 - val_loss: 2551.7186\n",
      "Epoch 23/50\n",
      "60000/60000 [==============================] - 3s 53us/step - loss: 2526.8084 - val_loss: 2533.9422\n",
      "Epoch 24/50\n",
      "60000/60000 [==============================] - 3s 52us/step - loss: 2526.4104 - val_loss: 2554.5555\n",
      "Epoch 25/50\n",
      "60000/60000 [==============================] - 3s 53us/step - loss: 2520.6046 - val_loss: 2510.6311\n",
      "Epoch 26/50\n",
      "60000/60000 [==============================] - 3s 51us/step - loss: 2512.7879 - val_loss: 2554.4931\n",
      "Epoch 27/50\n",
      "60000/60000 [==============================] - 3s 53us/step - loss: 2512.6073 - val_loss: 2517.1895\n",
      "Epoch 28/50\n",
      "60000/60000 [==============================] - 3s 52us/step - loss: 2502.2002 - val_loss: 2544.9303\n",
      "Epoch 29/50\n",
      "60000/60000 [==============================] - 3s 52us/step - loss: 2499.4547 - val_loss: 2519.1497\n",
      "Epoch 30/50\n",
      "60000/60000 [==============================] - 3s 53us/step - loss: 2488.3482 - val_loss: 2498.6543\n",
      "Epoch 31/50\n",
      "60000/60000 [==============================] - 3s 53us/step - loss: 2482.3561 - val_loss: 2496.8679\n",
      "Epoch 32/50\n",
      "60000/60000 [==============================] - 3s 51us/step - loss: 2483.9640 - val_loss: 2505.9862\n",
      "Epoch 33/50\n",
      "60000/60000 [==============================] - 3s 53us/step - loss: 2478.9532 - val_loss: 2508.1334\n",
      "Epoch 34/50\n",
      "60000/60000 [==============================] - 3s 52us/step - loss: 2482.3159 - val_loss: 2510.1786\n",
      "Epoch 35/50\n",
      "60000/60000 [==============================] - 3s 51us/step - loss: 2470.3557 - val_loss: 2488.9161\n",
      "Epoch 36/50\n",
      "60000/60000 [==============================] - 3s 51us/step - loss: 2461.5320 - val_loss: 2483.8857\n",
      "Epoch 37/50\n",
      "60000/60000 [==============================] - 3s 51us/step - loss: 2454.3867 - val_loss: 2507.6596\n",
      "Epoch 38/50\n",
      "60000/60000 [==============================] - 3s 52us/step - loss: 2455.8856 - val_loss: 2481.6540\n",
      "Epoch 39/50\n",
      "60000/60000 [==============================] - 3s 52us/step - loss: 2464.8880 - val_loss: 2483.0120\n",
      "Epoch 40/50\n",
      "60000/60000 [==============================] - 3s 50us/step - loss: 2451.4102 - val_loss: 2479.6719\n",
      "Epoch 41/50\n",
      "60000/60000 [==============================] - 3s 49us/step - loss: 2458.2097 - val_loss: 2509.1364\n",
      "Epoch 42/50\n",
      "60000/60000 [==============================] - 3s 50us/step - loss: 2451.5509 - val_loss: 2454.0838\n",
      "Epoch 43/50\n",
      "60000/60000 [==============================] - 3s 49us/step - loss: 2436.4500 - val_loss: 2469.6631\n",
      "Epoch 44/50\n",
      "60000/60000 [==============================] - 3s 50us/step - loss: 2448.6394 - val_loss: 2459.9641\n",
      "Epoch 45/50\n",
      "60000/60000 [==============================] - 3s 50us/step - loss: 2440.2076 - val_loss: 2486.5966\n",
      "Epoch 46/50\n",
      "60000/60000 [==============================] - 3s 48us/step - loss: 2447.0476 - val_loss: 2479.7202\n",
      "Epoch 47/50\n",
      "60000/60000 [==============================] - 3s 51us/step - loss: 2460.9146 - val_loss: 2469.1081\n",
      "Epoch 48/50\n",
      "60000/60000 [==============================] - 3s 52us/step - loss: 2432.3453 - val_loss: 2459.3244\n",
      "Epoch 49/50\n",
      "60000/60000 [==============================] - 3s 50us/step - loss: 2431.1849 - val_loss: 2479.9474\n",
      "Epoch 50/50\n",
      "60000/60000 [==============================] - 3s 50us/step - loss: 2427.1079 - val_loss: 2497.3248\n"
     ]
    },
    {
     "data": {
      "text/plain": [
       "<keras.callbacks.History at 0x7f85501d6f28>"
      ]
     },
     "execution_count": 10,
     "metadata": {},
     "output_type": "execute_result"
    }
   ],
   "source": [
    "vae.fit(x_train, x_train,\n",
    "        shuffle=True,\n",
    "        epochs=50,\n",
    "        batch_size=128,\n",
    "        validation_data=(x_test, x_test))"
   ]
  },
  {
   "cell_type": "code",
   "execution_count": 11,
   "metadata": {},
   "outputs": [],
   "source": [
    "encoder = Model(inputs,z_mean)\n",
    "decoder_inp = Input(shape=(2,))\n",
    "# _generator_x = build_dense(decoder_inp,[encoding_dim,256,784],activations=['relu','relu','sigmoid'])\n",
    "# generator = Model(decoder_inp,decoded_mean)\n",
    "# print(generator.summary())\n",
    "dec_layers = vae.layers[-3:]\n",
    "_gen_x = dec_layers[0](decoder_inp)\n",
    "_gen_x = dec_layers[1](_gen_x)\n",
    "outputs = dec_layers[2](_gen_x)\n",
    "generator = Model(decoder_inp,outputs)"
   ]
  },
  {
   "cell_type": "code",
   "execution_count": 12,
   "metadata": {},
   "outputs": [],
   "source": [
    "x_test_encoded = encoder.predict(x_test,batch_size=128)"
   ]
  },
  {
   "cell_type": "code",
   "execution_count": 13,
   "metadata": {},
   "outputs": [
    {
     "data": {
      "text/plain": [
       "<matplotlib.image.AxesImage at 0x7f854f0c8198>"
      ]
     },
     "execution_count": 13,
     "metadata": {},
     "output_type": "execute_result"
    },
    {
     "data": {
      "image/png": "[encoded data removed]",
      "text/plain": [
       "<Figure size 432x288 with 1 Axes>"
      ]
     },
     "metadata": {
      "needs_background": "light"
     },
     "output_type": "display_data"
    }
   ],
   "source": [
    "plt.imshow(x_test[2].reshape(28,28))\n",
    "# generator.predict()"
   ]
  },
  {
   "cell_type": "code",
   "execution_count": 14,
   "metadata": {},
   "outputs": [
    {
     "data": {
      "text/plain": [
       "<matplotlib.image.AxesImage at 0x7f854f0d17f0>"
      ]
     },
     "execution_count": 14,
     "metadata": {},
     "output_type": "execute_result"
    },
    {
     "data": {
      "image/png": "[encoded data removed]",
      "text/plain": [
       "<Figure size 432x288 with 1 Axes>"
      ]
     },
     "metadata": {
      "needs_background": "light"
     },
     "output_type": "display_data"
    }
   ],
   "source": [
    "# x_test_encoded[2]\n",
    "dec_test = generator.predict(x_test_encoded[:5])\n",
    "plt.imshow(dec_test[2].reshape(28,28))"
   ]
  },
  {
   "cell_type": "code",
   "execution_count": 15,
   "metadata": {},
   "outputs": [
    {
     "data": {
      "image/png": "[encoded data removed]",
      "text/plain": [
       "<Figure size 432x432 with 2 Axes>"
      ]
     },
     "metadata": {
      "needs_background": "light"
     },
     "output_type": "display_data"
    }
   ],
   "source": [
    "plt.figure(figsize=(6, 6))\n",
    "plt.scatter(x_test_encoded[:, 0], x_test_encoded[:, 1], c=y_test)\n",
    "plt.colorbar()\n",
    "plt.show()"
   ]
  },
  {
   "cell_type": "code",
   "execution_count": 19,
   "metadata": {},
   "outputs": [
    {
     "name": "stdout",
     "output_type": "stream",
     "text": [
      "_________________________________________________________________\n",
      "Layer (type)                 Output Shape              Param #   \n",
      "=================================================================\n",
      "input_1 (InputLayer)         (None, 784)               0         \n",
      "_________________________________________________________________\n",
      "dense_1 (Dense)              (None, 256)               200960    \n",
      "_________________________________________________________________\n",
      "dense_2 (Dense)              (None, 32)                8224      \n",
      "_________________________________________________________________\n",
      "dense_3 (Dense)              (None, 2)                 66        \n",
      "=================================================================\n",
      "Total params: 209,250\n",
      "Trainable params: 209,250\n",
      "Non-trainable params: 0\n",
      "_________________________________________________________________\n"
     ]
    }
   ],
   "source": [
    "encoder.summary()"
   ]
  },
  {
   "cell_type": "code",
   "execution_count": 20,
   "metadata": {},
   "outputs": [
    {
     "name": "stdout",
     "output_type": "stream",
     "text": [
      "2018-07-06\n"
     ]
    }
   ],
   "source": [
    "from datetime import date\n",
    "print(date.today())\n",
    "save_dir = '/home/elijahc/projects/vae/models/'+str(date.today())+'/'\n"
   ]
  },
  {
   "cell_type": "code",
   "execution_count": 21,
   "metadata": {},
   "outputs": [],
   "source": [
    "# vae.save(save_dir+'vae_3layer.h5',include_optimizer=False)\n",
    "# encoder.save(save_dir+'enc.h5',include_optimizer=False)"
   ]
  },
  {
   "cell_type": "code",
   "execution_count": 22,
   "metadata": {},
   "outputs": [
    {
     "data": {
      "text/plain": [
       "(11, 28, 28)"
      ]
     },
     "execution_count": 22,
     "metadata": {},
     "output_type": "execute_result"
    }
   ],
   "source": [
    "x0 = np.array([0,-5])\n",
    "x1 = np.array([0,5])\n",
    "traj = gen_trajectory(x0,x1,delta=.1)\n",
    "# traj[:3].shape\n",
    "dec_traj = K.get_value(generator(K.variable(traj)))\n",
    "dec_traj = dec_traj.reshape(11,28,28)\n",
    "dec_traj.shape"
   ]
  },
  {
   "cell_type": "code",
   "execution_count": 23,
   "metadata": {},
   "outputs": [
    {
     "data": {
      "image/png": "[encoded data removed]",
      "text/plain": [
       "<matplotlib.figure.Figure at 0x7f9639ea2668>"
      ]
     },
     "metadata": {},
     "output_type": "display_data"
    }
   ],
   "source": [
    "fig, axs = plt.subplots(1,11,figsize=(10,10))\n",
    "for i,ax in enumerate(axs):\n",
    "    \n",
    "    ax.imshow(dec_traj[i])"
   ]
  },
  {
   "cell_type": "code",
   "execution_count": 24,
   "metadata": {},
   "outputs": [],
   "source": [
    "enc_32 = vae.layers[6]\n",
    "enc_256 = vae.layers[7]"
   ]
  },
  {
   "cell_type": "code",
   "execution_count": 25,
   "metadata": {},
   "outputs": [],
   "source": [
    "encoder.trainable=False\n",
    "x = enc_32(encoder.outputs[0])\n",
    "y_class_oh = Dense(10,activation='softmax')(x)"
   ]
  },
  {
   "cell_type": "code",
   "execution_count": 26,
   "metadata": {},
   "outputs": [],
   "source": [
    "med = Model(inputs=inputs,outputs=y_class_oh)\n",
    "med.layers[-2].trainable=False\n",
    "for l in med.layers[1:4]:\n",
    "    l.trainable=False\n",
    "med.compile(optimizer='adam',loss='categorical_crossentropy',metrics=['accuracy'])"
   ]
  },
  {
   "cell_type": "code",
   "execution_count": 27,
   "metadata": {},
   "outputs": [],
   "source": [
    "y_train_oh = to_categorical(y_train,num_classes=10)"
   ]
  },
  {
   "cell_type": "code",
   "execution_count": 28,
   "metadata": {},
   "outputs": [
    {
     "data": {
      "text/plain": [
       "(60000, 10)"
      ]
     },
     "execution_count": 28,
     "metadata": {},
     "output_type": "execute_result"
    }
   ],
   "source": [
    "y_train_oh.shape"
   ]
  },
  {
   "cell_type": "code",
   "execution_count": 29,
   "metadata": {},
   "outputs": [
    {
     "name": "stdout",
     "output_type": "stream",
     "text": [
      "_________________________________________________________________\n",
      "Layer (type)                 Output Shape              Param #   \n",
      "=================================================================\n",
      "input_1 (InputLayer)         (None, 784)               0         \n",
      "_________________________________________________________________\n",
      "dense_1 (Dense)              (None, 256)               200960    \n",
      "_________________________________________________________________\n",
      "dense_2 (Dense)              (None, 32)                8224      \n",
      "_________________________________________________________________\n",
      "dense_3 (Dense)              (None, 2)                 66        \n",
      "_________________________________________________________________\n",
      "dense_5 (Dense)              (None, 32)                96        \n",
      "_________________________________________________________________\n",
      "dense_8 (Dense)              (None, 10)                330       \n",
      "=================================================================\n",
      "Total params: 209,676\n",
      "Trainable params: 330\n",
      "Non-trainable params: 209,346\n",
      "_________________________________________________________________\n"
     ]
    }
   ],
   "source": [
    "med.summary()"
   ]
  },
  {
   "cell_type": "code",
   "execution_count": 30,
   "metadata": {},
   "outputs": [
    {
     "name": "stdout",
     "output_type": "stream",
     "text": [
      "Train on 60000 samples, validate on 10000 samples\n",
      "Epoch 1/25\n",
      "60000/60000 [==============================] - 2s 28us/step - loss: 1.5452 - acc: 0.4958 - val_loss: 1.1699 - val_acc: 0.6223\n",
      "Epoch 2/25\n",
      "60000/60000 [==============================] - 2s 26us/step - loss: 1.0916 - acc: 0.6479 - val_loss: 1.0551 - val_acc: 0.6570\n",
      "Epoch 3/25\n",
      "60000/60000 [==============================] - 2s 27us/step - loss: 1.0122 - acc: 0.6731 - val_loss: 0.9986 - val_acc: 0.6799\n",
      "Epoch 4/25\n",
      "60000/60000 [==============================] - 1s 25us/step - loss: 0.9660 - acc: 0.6869 - val_loss: 0.9603 - val_acc: 0.6887\n",
      "Epoch 5/25\n",
      "60000/60000 [==============================] - 1s 25us/step - loss: 0.9342 - acc: 0.6913 - val_loss: 0.9338 - val_acc: 0.6906\n",
      "Epoch 6/25\n",
      "60000/60000 [==============================] - 2s 28us/step - loss: 0.9106 - acc: 0.6961 - val_loss: 0.9135 - val_acc: 0.6924\n",
      "Epoch 7/25\n",
      "60000/60000 [==============================] - 2s 25us/step - loss: 0.8925 - acc: 0.6978 - val_loss: 0.8980 - val_acc: 0.6974\n",
      "Epoch 8/25\n",
      "60000/60000 [==============================] - 1s 25us/step - loss: 0.8780 - acc: 0.7005 - val_loss: 0.8847 - val_acc: 0.7002\n",
      "Epoch 9/25\n",
      "60000/60000 [==============================] - 1s 23us/step - loss: 0.8662 - acc: 0.7019 - val_loss: 0.8736 - val_acc: 0.6965\n",
      "Epoch 10/25\n",
      "60000/60000 [==============================] - 1s 25us/step - loss: 0.8564 - acc: 0.7020 - val_loss: 0.8647 - val_acc: 0.7021\n",
      "Epoch 11/25\n",
      "60000/60000 [==============================] - 2s 26us/step - loss: 0.8481 - acc: 0.7027 - val_loss: 0.8571 - val_acc: 0.7032\n",
      "Epoch 12/25\n",
      "60000/60000 [==============================] - 1s 25us/step - loss: 0.8411 - acc: 0.7033 - val_loss: 0.8510 - val_acc: 0.7039\n",
      "Epoch 13/25\n",
      "60000/60000 [==============================] - 1s 24us/step - loss: 0.8351 - acc: 0.7035 - val_loss: 0.8456 - val_acc: 0.7026\n",
      "Epoch 14/25\n",
      "60000/60000 [==============================] - 2s 25us/step - loss: 0.8296 - acc: 0.7045 - val_loss: 0.8398 - val_acc: 0.7046\n",
      "Epoch 15/25\n",
      "60000/60000 [==============================] - 2s 26us/step - loss: 0.8249 - acc: 0.7049 - val_loss: 0.8358 - val_acc: 0.7020\n",
      "Epoch 16/25\n",
      "60000/60000 [==============================] - 1s 25us/step - loss: 0.8206 - acc: 0.7039 - val_loss: 0.8320 - val_acc: 0.7009\n",
      "Epoch 17/25\n",
      "60000/60000 [==============================] - 1s 25us/step - loss: 0.8168 - acc: 0.7054 - val_loss: 0.8281 - val_acc: 0.7051\n",
      "Epoch 18/25\n",
      "60000/60000 [==============================] - 2s 25us/step - loss: 0.8134 - acc: 0.7057 - val_loss: 0.8244 - val_acc: 0.7039\n",
      "Epoch 19/25\n",
      "60000/60000 [==============================] - 2s 25us/step - loss: 0.8103 - acc: 0.7052 - val_loss: 0.8216 - val_acc: 0.7023\n",
      "Epoch 20/25\n",
      "60000/60000 [==============================] - 2s 25us/step - loss: 0.8073 - acc: 0.7056 - val_loss: 0.8193 - val_acc: 0.7053\n",
      "Epoch 21/25\n",
      "60000/60000 [==============================] - 2s 25us/step - loss: 0.8048 - acc: 0.7066 - val_loss: 0.8185 - val_acc: 0.7074\n",
      "Epoch 22/25\n",
      "60000/60000 [==============================] - 1s 24us/step - loss: 0.8026 - acc: 0.7061 - val_loss: 0.8147 - val_acc: 0.7051\n",
      "Epoch 23/25\n",
      "60000/60000 [==============================] - 1s 24us/step - loss: 0.8003 - acc: 0.7066 - val_loss: 0.8124 - val_acc: 0.7017\n",
      "Epoch 24/25\n",
      "60000/60000 [==============================] - 2s 25us/step - loss: 0.7983 - acc: 0.7065 - val_loss: 0.8105 - val_acc: 0.7023\n",
      "Epoch 25/25\n",
      "60000/60000 [==============================] - 1s 23us/step - loss: 0.7963 - acc: 0.7064 - val_loss: 0.8083 - val_acc: 0.7078\n"
     ]
    },
    {
     "data": {
      "text/plain": [
       "<keras.callbacks.History at 0x7f9639e03208>"
      ]
     },
     "execution_count": 30,
     "metadata": {},
     "output_type": "execute_result"
    }
   ],
   "source": [
    "med.fit(x_train,y_train_oh,\n",
    "        batch_size=128,\n",
    "        epochs=25,\n",
    "        validation_data=(x_test,to_categorical(y_test,num_classes=10))\n",
    "       )"
   ]
  },
  {
   "cell_type": "code",
   "execution_count": 31,
   "metadata": {},
   "outputs": [],
   "source": [
    "x_g = generator.predict(x_test_encoded[:3])\n",
    "y_test_im = x_g.reshape(3,28,28)"
   ]
  },
  {
   "cell_type": "code",
   "execution_count": 32,
   "metadata": {},
   "outputs": [
    {
     "data": {
      "image/png": "[encoded data removed]",
      "text/plain": [
       "<matplotlib.figure.Figure at 0x7f962c6439e8>"
      ]
     },
     "metadata": {},
     "output_type": "display_data"
    }
   ],
   "source": [
    "x_test_im = x_test.reshape(10000,28,28)[:3]\n",
    "\n",
    "fig,axs = plt.subplots(1,3)\n",
    "for im,ax in zip(x_test_im,axs):\n",
    "    ax.imshow(im)"
   ]
  },
  {
   "cell_type": "code",
   "execution_count": 33,
   "metadata": {},
   "outputs": [
    {
     "data": {
      "image/png": "[encoded data removed]",
      "text/plain": [
       "<matplotlib.figure.Figure at 0x7f962c61e748>"
      ]
     },
     "metadata": {},
     "output_type": "display_data"
    }
   ],
   "source": [
    "fig,axs = plt.subplots(1,3)\n",
    "for im,ax in zip(y_test_im,axs):\n",
    "    ax.imshow(im)"
   ]
  },
  {
   "cell_type": "code",
   "execution_count": 34,
   "metadata": {},
   "outputs": [
    {
     "name": "stdout",
     "output_type": "stream",
     "text": [
      "10000/10000 [==============================] - 1s 54us/step\n"
     ]
    },
    {
     "data": {
      "text/plain": [
       "[0.8083149237632752, 0.7078]"
      ]
     },
     "execution_count": 34,
     "metadata": {},
     "output_type": "execute_result"
    }
   ],
   "source": [
    "med.evaluate(x_test,to_categorical(y_test,num_classes=10))"
   ]
  },
  {
   "cell_type": "code",
   "execution_count": null,
   "metadata": {},
   "outputs": [],
   "source": []
  }
 ],
 "metadata": {
  "kernelspec": {
   "display_name": "Py3-GPU (Python3.5.2)",
   "language": "python",
   "name": "py3-gpu"
  },
  "language_info": {
   "codemirror_mode": {
    "name": "ipython",
    "version": 3
   },
   "file_extension": ".py",
   "mimetype": "text/x-python",
   "name": "python",
   "nbconvert_exporter": "python",
   "pygments_lexer": "ipython3",
   "version": "3.5.2"
  }
 },
 "nbformat": 4,
 "nbformat_minor": 2
}
