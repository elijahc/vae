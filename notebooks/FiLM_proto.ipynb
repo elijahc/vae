{
 "cells": [
  {
   "cell_type": "code",
   "execution_count": 1,
   "metadata": {},
   "outputs": [
    {
     "name": "stderr",
     "output_type": "stream",
     "text": [
      "Using TensorFlow backend.\n"
     ]
    }
   ],
   "source": [
    "import numpy as np\n",
    "from keras import backend as K\n",
    "from keras.engine.topology import Layer\n",
    "from keras.layers import Input,Dense,Reshape,UpSampling2D,Conv2DTranspose\n",
    "from keras.models import Model\n",
    "from src.models import ResBlock"
   ]
  },
  {
   "cell_type": "code",
   "execution_count": 63,
   "metadata": {},
   "outputs": [
    {
     "name": "stdout",
     "output_type": "stream",
     "text": [
      "(None, 14, 14, 32)\n"
     ]
    }
   ],
   "source": [
    "input_shape=(20,)\n",
    "dim = int(56/4)\n",
    "ch = 16\n",
    "dec_channels = [2,1]\n",
    "inputs = Input(shape=input_shape)\n",
    "class_cond = Input(shape=(12,))\n",
    "\n",
    "init_shape = (dim,dim,dec_channels[0]*ch)\n",
    "x = Dense(np.prod(init_shape))(inputs)\n",
    "x = Reshape(init_shape)(x)\n",
    "x = FiLM(class_cond,init_shape)(x)\n",
    "\n",
    "# x = ResBlock(1*ch,(3,3),block_id=1)(x)\n",
    "\n",
    "\n",
    "# x = UpSampling2D()(x)\n",
    "# outputs = Conv2DTranspose(1,kernel_size=(3,3),padding='same')(x)\n",
    "\n",
    "# mod = Model(inputs,outputs)"
   ]
  },
  {
   "cell_type": "code",
   "execution_count": 57,
   "metadata": {},
   "outputs": [
    {
     "name": "stdout",
     "output_type": "stream",
     "text": [
      "(None, 14, 14, 32)\n",
      "(None, 32)\n",
      "(None, 32)\n"
     ]
    }
   ],
   "source": [
    "x = fl(x)\n"
   ]
  },
  {
   "cell_type": "code",
   "execution_count": 60,
   "metadata": {},
   "outputs": [
    {
     "data": {
      "text/plain": [
       "(None, 14, 14, 32)"
      ]
     },
     "execution_count": 60,
     "metadata": {},
     "output_type": "execute_result"
    }
   ],
   "source": [
    "K.int_shape(x*fl.gamma)"
   ]
  },
  {
   "cell_type": "code",
   "execution_count": null,
   "metadata": {},
   "outputs": [],
   "source": [
    "fl.compute_output_shape(init_shape)"
   ]
  },
  {
   "cell_type": "code",
   "execution_count": 4,
   "metadata": {},
   "outputs": [
    {
     "data": {
      "text/plain": [
       "(None, 56, 56, 16)"
      ]
     },
     "execution_count": 4,
     "metadata": {},
     "output_type": "execute_result"
    }
   ],
   "source": [
    "K.int_shape(x)"
   ]
  },
  {
   "cell_type": "code",
   "execution_count": 62,
   "metadata": {},
   "outputs": [],
   "source": [
    "class FiLM(Layer):\n",
    "    def __init__(self, conditioner, output_dim, **kwargs):\n",
    "        self.output_dim = output_dim\n",
    "        self.conditioner = conditioner\n",
    "        self.conditioner_shape = K.int_shape(self.conditioner)\n",
    "        super(FiLM, self).__init__(**kwargs)\n",
    "\n",
    "    def build(self, input_shape):\n",
    "        print(input_shape)\n",
    "        # Create a trainable weight variable for this layer.\n",
    "        self.gamma_k = self.add_weight(name='gamma_kernel', \n",
    "                                      shape=(self.conditioner_shape[-1], self.output_dim[-1],),\n",
    "                                      initializer='glorot_normal',\n",
    "                                      trainable=True)\n",
    "        \n",
    "        self.gamma_b = self.add_weight(name='gamma_bias', \n",
    "                                      shape=(self.output_dim[-1],),\n",
    "                                      initializer='glorot_normal',\n",
    "                                      trainable=True)\n",
    "        \n",
    "                \n",
    "\n",
    "        \n",
    "        self.beta_k = self.add_weight(name='beta_kernel', \n",
    "                                      shape=(self.conditioner_shape[-1],self.output_dim[-1]),\n",
    "                                      initializer='glorot_normal',\n",
    "                                      trainable=True)\n",
    "        self.beta_b = self.add_weight(name='beta_bias', \n",
    "                                      shape=(self.output_dim[-1],),\n",
    "                                      initializer='glorot_normal',\n",
    "                                      trainable=True)\n",
    "        \n",
    "        self.gamma = K.dot(self.conditioner,self.gamma_k)+self.gamma_b\n",
    "        self.beta = K.dot(self.conditioner,self.beta_k)+self.beta_b\n",
    "        super(FiLM, self).build(input_shape)  # Be sure to call this at the end\n",
    "\n",
    "    def call(self, x):\n",
    "        return x*self.gamma + self.beta\n",
    "\n",
    "    def compute_output_shape(self, input_shape):\n",
    "        return self.output_dim"
   ]
  },
  {
   "cell_type": "code",
   "execution_count": 10,
   "metadata": {},
   "outputs": [],
   "source": [
    "l = FiLM((None,14,14,32))"
   ]
  },
  {
   "cell_type": "code",
   "execution_count": null,
   "metadata": {},
   "outputs": [],
   "source": [
    "from keras.layers import Input\n",
    "inputs = input_shape()\n",
    "l()"
   ]
  },
  {
   "cell_type": "code",
   "execution_count": null,
   "metadata": {},
   "outputs": [],
   "source": []
  }
 ],
 "metadata": {
  "kernelspec": {
   "display_name": "Py3-GPU (Python3.5.2)",
   "language": "python",
   "name": "py3-gpu"
  },
  "language_info": {
   "codemirror_mode": {
    "name": "ipython",
    "version": 3
   },
   "file_extension": ".py",
   "mimetype": "text/x-python",
   "name": "python",
   "nbconvert_exporter": "python",
   "pygments_lexer": "ipython3",
   "version": "3.5.2"
  }
 },
 "nbformat": 4,
 "nbformat_minor": 2
}
