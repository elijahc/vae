{
 "cells": [
  {
   "cell_type": "code",
   "execution_count": 1,
   "metadata": {},
   "outputs": [
    {
     "name": "stderr",
     "output_type": "stream",
     "text": [
      "Using TensorFlow backend.\n"
     ]
    }
   ],
   "source": [
    "import os\n",
    "import neptune\n",
    "import numpy as np\n",
    "import pandas as pd\n",
    "import seaborn as sns\n",
    "import matplotlib.pyplot as plt\n",
    "from tqdm import tqdm as tqdm\n",
    "from scipy.stats import ttest_ind as ttest\n",
    "from scipy.stats import kendalltau,spearmanr\n",
    "import scipy\n",
    "import xarray as xr\n",
    "from scipy.spatial.distance import pdist,squareform,cdist\n",
    "from sklearn.preprocessing import StandardScaler\n",
    "\n",
    "# from tensorflow.python import keras as keras\n",
    "from keras.models import Model\n",
    "\n",
    "from src.results.experiments import _DateExperimentLoader\n",
    "from src.results.utils import raw_to_xr, dprime\n",
    "from src.results.neptune import get_model_files, load_models, load_assemblies, load_params, load_properties,prep_assemblies,NeptuneExperimentRun,generate_convnet_encoders\n",
    "from src.results.dicarlo import get_dicarlo_su\n",
    "from src.data_loader import Shifted_Data_Loader\n",
    "from src.data_generator import ShiftedDataBatcher\n",
    "from src.rcca import CCA\n",
    "\n",
    "import brainscore\n",
    "from brainscore.assemblies import walk_coords,split_assembly\n",
    "from brainscore.assemblies import split_assembly\n",
    "# from brainscore.metrics import Score\n",
    "\n",
    "from brainio_base.assemblies import DataAssembly\n",
    "\n",
    "def set_style():\n",
    "    # This sets reasonable defaults for font size for\n",
    "    # a figure that will go in a paper\n",
    "    sns.set_context(\"talk\")\n",
    "    \n",
    "    # Set the font to be serif, rather than sans\n",
    "    sns.set(font='serif')\n",
    "    \n",
    "    # Make the background white, and specify the\n",
    "    # specific font family\n",
    "    sns.set_style(\"white\", {\n",
    "        \"font.family\": \"serif\",\n",
    "        \"font.serif\": [\"Georgia\",\"Times New Roman\", \"Palatino\", \"serif\"]\n",
    "    })"
   ]
  },
  {
   "cell_type": "code",
   "execution_count": 2,
   "metadata": {},
   "outputs": [],
   "source": [
    "os.environ['NEPTUNE_API_TOKEN']=\"eyJhcGlfYWRkcmVzcyI6Imh0dHBzOi8vdWkubmVwdHVuZS5tbCIsImFwaV9rZXkiOiI3ZWExMTlmYS02ZTE2LTQ4ZTktOGMxMi0wMDJiZTljOWYyNDUifQ==\"\n",
    "neptune.init('elijahc/DuplexAE')\n",
    "neptune.set_project('elijahc/DuplexAE')\n",
    "proj_root = '/home/elijahc/projects/vae'"
   ]
  },
  {
   "cell_type": "code",
   "execution_count": 3,
   "metadata": {},
   "outputs": [],
   "source": [
    "def load_config(exps):\n",
    "    props = load_properties(exps)\n",
    "    params = load_params(exps)\n",
    "    ids = [e.id for e in exps]\n",
    "    for eid,pr,pa in zip(ids,props,params):\n",
    "        out = {'id':eid}\n",
    "        out.update(pr)\n",
    "        out.update(pa)\n",
    "        out['exp_dir']=os.path.join(proj_root,pr['dir'])\n",
    "        yield out"
   ]
  },
  {
   "cell_type": "code",
   "execution_count": 4,
   "metadata": {},
   "outputs": [
    {
     "data": {
      "text/html": [
       "<div>\n",
       "<style scoped>\n",
       "    .dataframe tbody tr th:only-of-type {\n",
       "        vertical-align: middle;\n",
       "    }\n",
       "\n",
       "    .dataframe tbody tr th {\n",
       "        vertical-align: top;\n",
       "    }\n",
       "\n",
       "    .dataframe thead th {\n",
       "        text-align: right;\n",
       "    }\n",
       "</style>\n",
       "<table border=\"1\" class=\"dataframe\">\n",
       "  <thead>\n",
       "    <tr style=\"text-align: right;\">\n",
       "      <th></th>\n",
       "      <th>assembly_fn</th>\n",
       "      <th>augmentation</th>\n",
       "      <th>batch_sz</th>\n",
       "      <th>bg</th>\n",
       "      <th>bg_contrast</th>\n",
       "      <th>dataset</th>\n",
       "      <th>dir</th>\n",
       "      <th>encoder_arch</th>\n",
       "      <th>exp_dir</th>\n",
       "      <th>generator_arch</th>\n",
       "      <th>id</th>\n",
       "      <th>im_translation</th>\n",
       "      <th>n_epochs</th>\n",
       "      <th>recon_weight</th>\n",
       "      <th>su_selectivity_fn</th>\n",
       "      <th>xent_weight</th>\n",
       "      <th>y_dim</th>\n",
       "      <th>z_dim</th>\n",
       "    </tr>\n",
       "  </thead>\n",
       "  <tbody>\n",
       "    <tr>\n",
       "      <th>0</th>\n",
       "      <td>NaN</td>\n",
       "      <td>dynamic</td>\n",
       "      <td>512.0</td>\n",
       "      <td>natural</td>\n",
       "      <td>0.3</td>\n",
       "      <td>fashion_mnist</td>\n",
       "      <td>models/2019-11-04/DPX-29</td>\n",
       "      <td>convnet</td>\n",
       "      <td>/home/elijahc/projects/vae/models/2019-11-04/D...</td>\n",
       "      <td>resnet</td>\n",
       "      <td>DPX-29</td>\n",
       "      <td>0.75</td>\n",
       "      <td>54000.0</td>\n",
       "      <td>0.0</td>\n",
       "      <td>NaN</td>\n",
       "      <td>15.0</td>\n",
       "      <td>35</td>\n",
       "      <td>35</td>\n",
       "    </tr>\n",
       "    <tr>\n",
       "      <th>1</th>\n",
       "      <td>NaN</td>\n",
       "      <td>dynamic</td>\n",
       "      <td>512.0</td>\n",
       "      <td>natural</td>\n",
       "      <td>0.3</td>\n",
       "      <td>fashion_mnist</td>\n",
       "      <td>models/2019-11-04/DPX-30</td>\n",
       "      <td>convnet</td>\n",
       "      <td>/home/elijahc/projects/vae/models/2019-11-04/D...</td>\n",
       "      <td>resnet</td>\n",
       "      <td>DPX-30</td>\n",
       "      <td>0.75</td>\n",
       "      <td>54000.0</td>\n",
       "      <td>1.0</td>\n",
       "      <td>NaN</td>\n",
       "      <td>15.0</td>\n",
       "      <td>35</td>\n",
       "      <td>35</td>\n",
       "    </tr>\n",
       "    <tr>\n",
       "      <th>2</th>\n",
       "      <td>dataset.nc</td>\n",
       "      <td>dynamic</td>\n",
       "      <td>512.0</td>\n",
       "      <td>natural</td>\n",
       "      <td>0.3</td>\n",
       "      <td>fashion_mnist</td>\n",
       "      <td>models/2019-09-25/DPX-10</td>\n",
       "      <td>dense</td>\n",
       "      <td>/home/elijahc/projects/vae/models/2019-09-25/D...</td>\n",
       "      <td>resnet</td>\n",
       "      <td>DPX-10</td>\n",
       "      <td>0.75</td>\n",
       "      <td>54000.0</td>\n",
       "      <td>1.0</td>\n",
       "      <td>selectivity.pqt</td>\n",
       "      <td>15.0</td>\n",
       "      <td>35</td>\n",
       "      <td>35</td>\n",
       "    </tr>\n",
       "    <tr>\n",
       "      <th>3</th>\n",
       "      <td>NaN</td>\n",
       "      <td>dynamic</td>\n",
       "      <td>512.0</td>\n",
       "      <td>natural</td>\n",
       "      <td>0.3</td>\n",
       "      <td>fashion_mnist</td>\n",
       "      <td>models/2019-09-25/DPX-16</td>\n",
       "      <td>dense</td>\n",
       "      <td>/home/elijahc/projects/vae/models/2019-09-25/D...</td>\n",
       "      <td>resnet</td>\n",
       "      <td>DPX-16</td>\n",
       "      <td>0.75</td>\n",
       "      <td>54000.0</td>\n",
       "      <td>0.0</td>\n",
       "      <td>NaN</td>\n",
       "      <td>15.0</td>\n",
       "      <td>35</td>\n",
       "      <td>35</td>\n",
       "    </tr>\n",
       "  </tbody>\n",
       "</table>\n",
       "</div>"
      ],
      "text/plain": [
       "  assembly_fn augmentation  batch_sz       bg  bg_contrast        dataset  \\\n",
       "0         NaN      dynamic     512.0  natural          0.3  fashion_mnist   \n",
       "1         NaN      dynamic     512.0  natural          0.3  fashion_mnist   \n",
       "2  dataset.nc      dynamic     512.0  natural          0.3  fashion_mnist   \n",
       "3         NaN      dynamic     512.0  natural          0.3  fashion_mnist   \n",
       "\n",
       "                        dir encoder_arch  \\\n",
       "0  models/2019-11-04/DPX-29      convnet   \n",
       "1  models/2019-11-04/DPX-30      convnet   \n",
       "2  models/2019-09-25/DPX-10        dense   \n",
       "3  models/2019-09-25/DPX-16        dense   \n",
       "\n",
       "                                             exp_dir generator_arch      id  \\\n",
       "0  /home/elijahc/projects/vae/models/2019-11-04/D...         resnet  DPX-29   \n",
       "1  /home/elijahc/projects/vae/models/2019-11-04/D...         resnet  DPX-30   \n",
       "2  /home/elijahc/projects/vae/models/2019-09-25/D...         resnet  DPX-10   \n",
       "3  /home/elijahc/projects/vae/models/2019-09-25/D...         resnet  DPX-16   \n",
       "\n",
       "   im_translation  n_epochs  recon_weight su_selectivity_fn  xent_weight  \\\n",
       "0            0.75   54000.0           0.0               NaN         15.0   \n",
       "1            0.75   54000.0           1.0               NaN         15.0   \n",
       "2            0.75   54000.0           1.0   selectivity.pqt         15.0   \n",
       "3            0.75   54000.0           0.0               NaN         15.0   \n",
       "\n",
       "  y_dim z_dim  \n",
       "0    35    35  \n",
       "1    35    35  \n",
       "2    35    35  \n",
       "3    35    35  "
      ]
     },
     "execution_count": 4,
     "metadata": {},
     "output_type": "execute_result"
    }
   ],
   "source": [
    "conv_eids = [\n",
    "    'DPX-29',\n",
    "    'DPX-30',\n",
    "]\n",
    "dense_eids = [\n",
    "    'DPX-10',\n",
    "    'DPX-16',\n",
    "#     'DPX-27',\n",
    "]\n",
    "# eids = conv_eids+dense_eids\n",
    "conv_exps = neptune.project.get_experiments(id=conv_eids)\n",
    "dense_exps = neptune.project.get_experiments(id=dense_eids)\n",
    "exps = np.array(conv_exps+dense_exps)\n",
    "s_df = pd.DataFrame(list(load_config(exps)))\n",
    "s_df.head()"
   ]
  },
  {
   "cell_type": "code",
   "execution_count": 5,
   "metadata": {},
   "outputs": [],
   "source": [
    "run = NeptuneExperimentRun(proj_root,conv_exps[0])"
   ]
  },
  {
   "cell_type": "code",
   "execution_count": 6,
   "metadata": {},
   "outputs": [],
   "source": [
    "def load_rdm(file_paths):\n",
    "    for fp in file_paths:\n",
    "        x = xr.open_dataarray(fp)\n",
    "#         print(x)\n",
    "        p_idxs = ['image_id','rxy','category_name','object_name']\n",
    "        yield x.set_index(image_1=[p+'_1' for p in p_idxs],image_2=[p+'_2' for p in p_idxs])"
   ]
  },
  {
   "cell_type": "code",
   "execution_count": 7,
   "metadata": {},
   "outputs": [],
   "source": [
    "def process_dicarlo(assembly,avg_repetition=True, variation=[0, 3, 6], tasks=['ty','tz','rxy']):\n",
    "    stimulus_set = assembly.attrs['stimulus_set']\n",
    "    stimulus_set['dy_deg'] = stimulus_set.tz*stimulus_set.degrees\n",
    "    stimulus_set['dx_deg'] = stimulus_set.ty*stimulus_set.degrees\n",
    "    stimulus_set['dy_px'] = stimulus_set.dy_deg*32\n",
    "    stimulus_set['dx_px'] = stimulus_set.dx_deg*32\n",
    "    \n",
    "    assembly.attrs['stimulus_set'] = stimulus_set\n",
    "    \n",
    "    groups = ['category_name', 'object_name', 'image_id']+tasks\n",
    "    if not avg_repetition:\n",
    "        groups.append('repetition')\n",
    "        \n",
    "    data = assembly.multi_groupby(groups)     # (2)\n",
    "    data = data.mean(dim='presentation')\n",
    "    data = data.squeeze('time_bin')    #   (3)\n",
    "#     data.attrs['stimulus_set'] = stimulus_set.query('variation == {}'.format(variation))\n",
    "    data = data.T\n",
    "    data = data[stimulus_set.variation.isin(variation),:]\n",
    "    \n",
    "    return data"
   ]
  },
  {
   "cell_type": "code",
   "execution_count": null,
   "metadata": {},
   "outputs": [],
   "source": []
  },
  {
   "cell_type": "code",
   "execution_count": 8,
   "metadata": {},
   "outputs": [],
   "source": [
    "from tqdm import trange\n",
    "def gen_conv_assemblies(encodings,depths,stim_set,n=5):\n",
    "    enc = {k:encodings[k] for k in ['pixel','y_enc','z_enc']}\n",
    "    for i in np.arange(n):\n",
    "        enc.update({k:encodings[k][:,:,i] for k in ['conv_4','conv_3','conv_2','conv_1']})\n",
    "        yield raw_to_xr(enc,depths,stim_set)"
   ]
  },
  {
   "cell_type": "code",
   "execution_count": 9,
   "metadata": {},
   "outputs": [],
   "source": [
    "\n",
    "# stimulus_set = neural_data.attrs['stimulus_set']\n",
    "# stimulus_set = pd.read_csv('../data/dicarlo_images/stimulus_set.csv')\n",
    "# stimulus_set['dy_deg'] = stimulus_set.tz*stimulus_set.degrees\n",
    "# stimulus_set['dx_deg'] = stimulus_set.ty*stimulus_set.degrees\n",
    "# stimulus_set['dy'] = stimulus_set.dy_deg*32\n",
    "# stimulus_set['dx'] = stimulus_set.dx_deg*32\n",
    "# stimulus_set.to_csv('../data/dicarlo_images/stimulus_set.csv',index=False)\n",
    "# stimulus_set\n",
    "\n"
   ]
  },
  {
   "cell_type": "code",
   "execution_count": 10,
   "metadata": {},
   "outputs": [],
   "source": [
    "# stimulus_set.to_csv('../data/dicarlo_images/stimulus_set.csv',index=False)"
   ]
  },
  {
   "cell_type": "code",
   "execution_count": 11,
   "metadata": {},
   "outputs": [],
   "source": [
    "# sm_imgs = np.load('../data/dicarlo_images/sm_imgs_56x56.npy')\n",
    "# sm_imgs = np.expand_dims(sm_imgs,-1)\n",
    "# slug = [(dx,dy,lab,float(rxy)) for dx,dy,rxy,lab in zip(stimulus_set.dx_px.values,stimulus_set.dy_px.values,stimulus_set.rxy.values,stimulus_set.category_name.values)]"
   ]
  },
  {
   "cell_type": "code",
   "execution_count": 12,
   "metadata": {},
   "outputs": [],
   "source": [
    "def is_iterable(obj):\n",
    "    try:\n",
    "        some_object_iterator = iter(some_object)\n",
    "        return True\n",
    "    except TypeError as te:\n",
    "        print(some_object, 'is not iterable')\n",
    "        return False"
   ]
  },
  {
   "cell_type": "code",
   "execution_count": null,
   "metadata": {},
   "outputs": [],
   "source": []
  },
  {
   "cell_type": "code",
   "execution_count": 13,
   "metadata": {},
   "outputs": [],
   "source": [
    "from sklearn.metrics.pairwise import cosine_similarity\n",
    "from scipy.stats import pearsonr,pearson3\n",
    "\n",
    "def dicarlo_rdm(data, stimulus_set, region=['V4','IT'],sortby='category_name', variation=[0,3,6], metric='correlation',n_sample=150):\n",
    "#     if region is not None:\n",
    "#         data = data.sel(region=region)\n",
    "    \n",
    "    var_lookup = stimulus_set[stimulus_set.variation.isin(variation)].image_id.values\n",
    "    data = data.where(data.image_id.isin(var_lookup),drop=True)\n",
    "    print(data.shape)\n",
    "    out_dict = {'region':[],'variation':[],'rdm':[]}\n",
    "    xrs = []\n",
    "    for reg in region:\n",
    "#         for v in variation:\n",
    "        sub_dat = data.sel(region=reg)\n",
    "        if sortby is not None:\n",
    "            sub_dat = sub_dat.sortby(sortby)\n",
    "        \n",
    "        if sub_dat.shape[1] > n_sample:\n",
    "            s_idxs = np.random.choice(np.arange(sub_dat.shape[1]),size=n_sample,replace=False)\n",
    "        else:\n",
    "            n_sample = int(0.8 * sub_dat.shape[1])\n",
    "            s_idxs = np.random.choice(np.arange(sub_dat.shape[1]),size=n_sample,replace=False)\n",
    "        \n",
    "        if metric is 'cosine_similarity':\n",
    "            rdm = 1-cosine_similarity(sub_dat[:,s_idxs])\n",
    "            \n",
    "        else:\n",
    "#             print(sub_dat.values.shape)\n",
    "            num_images = sub_dat.values.shape[0]\n",
    "#             print(sub_dat[:,s_idxs].values.shape)\n",
    "            rdm = squareform(pdist(sub_dat[:,s_idxs].values,metric=metric))\n",
    "#             rdm = np.empty(shape=(num_images,num_images))\n",
    "        \n",
    "#             for i in trange(num_images):\n",
    "#                 for j in np.arange(num_images):\n",
    "#                     r,p = pearsonr(sub_dat.values[i],sub_dat.values[j])\n",
    "                    \n",
    "        out_dict['region'].append(reg)\n",
    "        out_dict['rdm'].append(rdm)\n",
    "#             out_dict['image_id'].append(sub_dat.image_id.values)\n",
    "        p = sub_dat.presentation.to_index()\n",
    "        xrs.append(xr.DataArray(rdm,\n",
    "                               coords={\n",
    "                                   'image_1':p.set_names(tuple([n+'_1' for n in p.names])),\n",
    "                                   'image_2':p.set_names(tuple([n+'_2' for n in p.names])),\n",
    "#                                        'variation':v,\n",
    "                                   'region':reg,\n",
    "                               },\n",
    "                               dims=('image_1','image_2'),\n",
    "                               ))\n",
    "    \n",
    "    return xr.concat(xrs,'all')"
   ]
  },
  {
   "cell_type": "code",
   "execution_count": 14,
   "metadata": {},
   "outputs": [],
   "source": [
    "def plot_rdm(data,sortby=None,figsize=(4,4), ax=None):\n",
    "    # Expects da object of shape(N,N)\n",
    "    if sortby is not None:\n",
    "        data = data.sortby([sortby+'_1',sortby+'_2'])\n",
    "    \n",
    "    if ax is None:\n",
    "        fig,ax = plt.subplots(1,1,figsize=figsize)\n",
    "        \n",
    "    labels = data[sortby+'_1'].values\n",
    "    sns.heatmap(data,ax=ax)\n",
    "    yticks = [int(l._text) for l in list(ax.get_yticklabels())]\n",
    "    xticks = [int(l._text) for l in list(ax.get_xticklabels())]\n",
    "    ax.set_yticklabels(labels[yticks])\n",
    "    ax.set_xticklabels(labels[xticks])\n",
    "    ax.set_title(np.unique(data.region.values)[0])\n",
    "    \n",
    "    if ax is None:\n",
    "        return fig,ax\n",
    "    else:\n",
    "        return ax"
   ]
  },
  {
   "cell_type": "code",
   "execution_count": 15,
   "metadata": {},
   "outputs": [
    {
     "name": "stderr",
     "output_type": "stream",
     "text": [
      "/home/elijahc/.pyenv/versions/fastai/lib/python3.6/site-packages/brainio_base/assemblies.py:213: FutureWarning: The inplace argument has been deprecated and will be removed in a future version of xarray.\n",
      "  xr_data.set_index(append=True, inplace=True, **coords_d)\n",
      "/home/elijahc/.pyenv/versions/fastai/lib/python3.6/site-packages/brainio_base/assemblies.py:247: FutureWarning: The inplace argument has been deprecated and will be removed in a future version of xarray.\n",
      "  result.reset_index(self.multi_group_name, drop=True, inplace=True)\n",
      "/home/elijahc/.pyenv/versions/fastai/lib/python3.6/site-packages/brainio_base/assemblies.py:248: FutureWarning: The inplace argument has been deprecated and will be removed in a future version of xarray.\n",
      "  result.set_index(append=True, inplace=True, **{self.multi_group_name: self.group_coord_names})\n"
     ]
    }
   ],
   "source": [
    "neural_data = brainscore.get_assembly(name=\"dicarlo.Majaj2015\")\n",
    "neural_data.load()\n",
    "stimulus_set = neural_data.attrs['stimulus_set']\n",
    "# # stimulus_set.to_csv('../data/dicarlo_images/stimulus_set.csv',index=False)\n",
    "neural_data = process_dicarlo(neural_data)"
   ]
  },
  {
   "cell_type": "code",
   "execution_count": 16,
   "metadata": {},
   "outputs": [],
   "source": [
    "sm_imgs = np.load('../data/dicarlo_images/sm_imgs_56x56.npy')\n",
    "\n",
    "ids0 = stimulus_set[stimulus_set.variation.values==0].image_id.values\n",
    "ids3 = stimulus_set[stimulus_set.variation.values==3].image_id.values\n",
    "\n",
    "sm_ims = list(zip(ids3,sm_imgs[stimulus_set.variation.values==3]))"
   ]
  },
  {
   "cell_type": "code",
   "execution_count": 17,
   "metadata": {},
   "outputs": [],
   "source": [
    "# it_resp = neural_data.sel(region='IT')\n",
    "# it_resp = it_resp[it_resp.image_id.isin(ids3)]\n",
    "# # itp_df = it_resp.presentation.to_dataframe().reset_index()\n",
    "# # idxs3 = itp_df.image_id.isin(ids3)\n",
    "# # sm3 = sm_imgs[]"
   ]
  },
  {
   "cell_type": "code",
   "execution_count": 18,
   "metadata": {},
   "outputs": [],
   "source": [
    "# scaler = StandardScaler()\n",
    "\n",
    "# scaled_sm_imgs = scaler.fit_transform(sm_imgs.reshape(5760,56*56)).reshape(5760,56,56)\n",
    "Xm,Xs = (sm_imgs.mean(),sm_imgs.std())\n",
    "scaled_sm_imgs = np.clip((sm_imgs-Xm)/Xs,-1,1)"
   ]
  },
  {
   "cell_type": "code",
   "execution_count": null,
   "metadata": {},
   "outputs": [],
   "source": []
  },
  {
   "cell_type": "code",
   "execution_count": 22,
   "metadata": {},
   "outputs": [
    {
     "data": {
      "text/plain": [
       "<matplotlib.colorbar.Colorbar at 0x7fea70071d68>"
      ]
     },
     "execution_count": 22,
     "metadata": {},
     "output_type": "execute_result"
    },
    {
     "data": {
      "image/png": "[encoded data removed]",
      "text/plain": [
       "<Figure size 432x288 with 2 Axes>"
      ]
     },
     "metadata": {
      "needs_background": "light"
     },
     "output_type": "display_data"
    }
   ],
   "source": [
    "plt.imshow(scaled_sm_imgs[2],cmap='gray')\n",
    "plt.colorbar()"
   ]
  },
  {
   "cell_type": "code",
   "execution_count": 23,
   "metadata": {},
   "outputs": [
    {
     "data": {
      "text/plain": [
       "(array([1001313., 1786480., 2573987., 2969970., 3213603., 3133374.,\n",
       "        1502566.,  994418.,  633668.,  253981.]),\n",
       " array([0. , 0.1, 0.2, 0.3, 0.4, 0.5, 0.6, 0.7, 0.8, 0.9, 1. ]),\n",
       " <a list of 10 Patch objects>)"
      ]
     },
     "execution_count": 23,
     "metadata": {},
     "output_type": "execute_result"
    },
    {
     "data": {
      "image/png": "[encoded data removed]",
      "text/plain": [
       "<Figure size 432x288 with 1 Axes>"
      ]
     },
     "metadata": {
      "needs_background": "light"
     },
     "output_type": "display_data"
    }
   ],
   "source": [
    "plt.hist(sm_imgs.flatten())"
   ]
  },
  {
   "cell_type": "code",
   "execution_count": null,
   "metadata": {},
   "outputs": [],
   "source": []
  },
  {
   "cell_type": "code",
   "execution_count": 24,
   "metadata": {},
   "outputs": [],
   "source": [
    "DL = ShiftedDataBatcher('fashion_mnist',rotation=None,flatten=False, bg='natural')"
   ]
  },
  {
   "cell_type": "code",
   "execution_count": 25,
   "metadata": {},
   "outputs": [],
   "source": [
    "batch = next(DL.gen_test_batches(num_batches=10,batch_size=512,bg='natural'))"
   ]
  },
  {
   "cell_type": "code",
   "execution_count": 26,
   "metadata": {},
   "outputs": [
    {
     "data": {
      "text/plain": [
       "(512, 56, 56, 1)"
      ]
     },
     "execution_count": 26,
     "metadata": {},
     "output_type": "execute_result"
    }
   ],
   "source": [
    "batch[0].shape"
   ]
  },
  {
   "cell_type": "code",
   "execution_count": 27,
   "metadata": {},
   "outputs": [
    {
     "data": {
      "text/plain": [
       "<matplotlib.image.AxesImage at 0x7fea67e8ada0>"
      ]
     },
     "execution_count": 27,
     "metadata": {},
     "output_type": "execute_result"
    },
    {
     "data": {
      "image/png": "[encoded data removed]",
      "text/plain": [
       "<Figure size 432x288 with 1 Axes>"
      ]
     },
     "metadata": {
      "needs_background": "light"
     },
     "output_type": "display_data"
    }
   ],
   "source": [
    "plt.imshow(batch[0][25].reshape(56,56),cmap='gray')"
   ]
  },
  {
   "cell_type": "code",
   "execution_count": 28,
   "metadata": {},
   "outputs": [
    {
     "data": {
      "image/png": "[encoded data removed]",
      "text/plain": [
       "<Figure size 432x288 with 1 Axes>"
      ]
     },
     "metadata": {
      "needs_background": "light"
     },
     "output_type": "display_data"
    }
   ],
   "source": [
    "plt.hist(scaled_sm_imgs.flatten())\n",
    "plt.yscale('log')"
   ]
  },
  {
   "cell_type": "code",
   "execution_count": 29,
   "metadata": {},
   "outputs": [
    {
     "data": {
      "image/png": "[encoded data removed]",
      "text/plain": [
       "<Figure size 432x288 with 1 Axes>"
      ]
     },
     "metadata": {
      "needs_background": "light"
     },
     "output_type": "display_data"
    }
   ],
   "source": [
    "plt.hist(batch[0].flatten())\n",
    "plt.yscale('log')"
   ]
  },
  {
   "cell_type": "code",
   "execution_count": 30,
   "metadata": {},
   "outputs": [],
   "source": []
  },
  {
   "cell_type": "code",
   "execution_count": 31,
   "metadata": {},
   "outputs": [],
   "source": [
    "import src.rcca as rcca\n",
    "from sklearn.cross_decomposition import CCA"
   ]
  },
  {
   "cell_type": "code",
   "execution_count": 32,
   "metadata": {},
   "outputs": [],
   "source": [
    "from sklearn.model_selection import train_test_split\n",
    "import src.rcca as rcca\n",
    "from sklearn.cross_decomposition import CCA\n",
    "def dicarlo_cca(data,stimulus_set,region,variation=[3],cv=10):\n",
    "    var_lookup = stimulus_set[stimulus_set.variation.isin(variation)].image_id.values\n",
    "    data = data.where(data.image_id.isin(var_lookup),drop=True)\n",
    "    nd = neural_data.where(neural_data.image_id.isin(var_lookup),drop=True)\n",
    "    \n",
    "    data = data.sortby('image_id')\n",
    "    nd = nd.sortby('image_id')\n",
    "    \n",
    "#     print(data.image_id.values)\n",
    "#     print(nd.image_id.values)\n",
    "    \n",
    "    print('same order? \\t',list(data.sortby('image_id').image_id.values) == list(nd.sortby('image_id').image_id.values))\n",
    "    \n",
    "    print('model.shape\\t',data.shape)\n",
    "    print('dicarlo.shape\\t',nd.shape)\n",
    "    out_dict = {'region':[],\n",
    "#                 'variation':[],\n",
    "#                 'rdm':[],\n",
    "                'layer':[],\n",
    "                'pearsonr':[],\n",
    "                'p-value':[],\n",
    "                'iter':[],\n",
    "               }\n",
    "    xrs = []\n",
    "    ab_vectors = []\n",
    "    ccas = []\n",
    "        \n",
    "    cv_tr = []\n",
    "    cv_te = []\n",
    "    \n",
    "    num_images = data.shape[0]\n",
    "    print(num_images)\n",
    "    \n",
    "    for rand_delta in np.arange(cv):\n",
    "        tr_idx, te_idx, _,_ = train_test_split(np.arange(num_images),np.arange(num_images),train_size=0.75,random_state=np.random.randint(0,50)+rand_delta)\n",
    "        cv_tr.append(tr_idx)\n",
    "        cv_te.append(te_idx)\n",
    "        \n",
    "    for reg in region:\n",
    "        sub_dat = data.sel(region=reg)\n",
    "#         print(sub_dat)\n",
    "        \n",
    "        for brain_region in ['V4','IT']:\n",
    "            \n",
    "            pairing = '{} x {}'.format(reg,brain_region)\n",
    "            for n, tr,te in tqdm(zip(np.arange(cv),cv_tr,cv_te),total=cv,desc=pairing):\n",
    "                cca = CCA(n_components=1)\n",
    "                cca.fit(sub_dat.values[tr],nd.sel(region=brain_region).values[tr])\n",
    "            \n",
    "                ab_vec = cca.transform(sub_dat.values[te],nd.sel(region=brain_region).values[te])\n",
    "        \n",
    "                r,pv = pearsonr(ab_vec[0],ab_vec[1])\n",
    "\n",
    "                out_dict['region'].append(brain_region)\n",
    "                out_dict['layer'].append(reg)\n",
    "                out_dict['pearsonr'].append(r[0])\n",
    "                out_dict['p-value'].append(pv[0])\n",
    "                out_dict['iter'].append(n)\n",
    "            \n",
    "#             print(out_dict)\n",
    "        \n",
    "#         ccas.append(cca)\n",
    "        \n",
    "#         cca_score = r\n",
    "        \n",
    "#         cca_score = cca.score(sub_dat.values,nd.sel(region='IT').values)\n",
    "        \n",
    "#         cca = CCA(kernelcca = False, reg = 0.001, numCC = 2)\n",
    "    \n",
    "#         X_tr, X_te, y_tr, y_te = train_test_split(np.arange(2560),np.arange(2560))\n",
    "        \n",
    "#         data_vecs = [sub_dat.values,sub_dat.values,nd.sel(region='IT').values,nd.sel(region='IT').values]\n",
    "        \n",
    "#         idxs = [X_tr, X_te, y_tr, y_te]\n",
    "        \n",
    "#         X_tr,X_te, y_tr, y_te = tuple([d[idx] for d,idx in zip(data_vecs,idxs)])\n",
    "        \n",
    "# #         ,nd.sel(region='IT').values\n",
    "        \n",
    "#         print(X_tr.shape,y_tr.shape)\n",
    "#         print(X_te.shape,y_te.shape)\n",
    "        \n",
    "#         cca.train([X_tr,y_tr])\n",
    "        \n",
    "#         cca_score = cca.validate([X_te,y_te])\n",
    "#         print([t.shape for t in cca_score])\n",
    "\n",
    "#         xrs.append(cca_score)\n",
    "        \n",
    "    return out_dict\n",
    "        "
   ]
  },
  {
   "cell_type": "code",
   "execution_count": 33,
   "metadata": {},
   "outputs": [],
   "source": [
    "from src.results.utils import get_layer_encoders\n"
   ]
  },
  {
   "cell_type": "code",
   "execution_count": null,
   "metadata": {},
   "outputs": [],
   "source": [
    "def mod_cca(imgs,stim):\n",
    "    iid = stim.image_id.values\n",
    "    on = stim.object_name.values\n",
    "    conv_rdm=[]\n",
    "    imgs = np.expand_dims(imgs,-1)\n",
    "    slug = [(dx,dy,lab,float(rxy)) for dx,dy,rxy,lab in zip(stim.dx_px.values,stim.dy_px.values,stim.rxy.values,stim.category_name.values)]\n",
    "    models = ['No-recon', 'w/ Recon']\n",
    "    i=0\n",
    "    for encodings, depths, stim_set in prep_assemblies(proj_root,conv_exps,test_data=imgs,slug=slug,image_id=iid,object_name=on):\n",
    "\n",
    "        stim_set['variation']=stim.variation\n",
    "        xrs  = gen_conv_assemblies(encodings,depths,stim_set,n=3)\n",
    "        print('generating cca')\n",
    "        res_dict = dicarlo_cca(next(xrs),stim_set,region=['conv_1','conv_2','conv_3','conv_4','y_enc','z_enc'],variation=[0,3,6],cv=35)\n",
    "        res_df = pd.DataFrame.from_records(res_dict)\n",
    "        res_df['model']= models[i]\n",
    "#         drdm = dicarlo_rdm(next(xrs),stim_set,region=['conv_1','conv_2','conv_3','conv_4','y_enc','z_enc',],variation=[3],metric='correlation')\n",
    "        conv_rdm.append(res_df)\n",
    "        i+=1\n",
    "    return pd.concat(conv_rdm)"
   ]
  },
  {
   "cell_type": "code",
   "execution_count": null,
   "metadata": {},
   "outputs": [],
   "source": [
    "conv_cca_036 = mod_cca(scaled_sm_imgs, stim)"
   ]
  },
  {
   "cell_type": "code",
   "execution_count": null,
   "metadata": {},
   "outputs": [],
   "source": [
    "(3*192*4)+(56*56)+70"
   ]
  },
  {
   "cell_type": "code",
   "execution_count": null,
   "metadata": {},
   "outputs": [],
   "source": [
    "    sns.lineplot(x='layer',y='pearsonr',style='model',hue='region',\n",
    "#                  data=conv_cca.query('{} == \"{}\"'.format(split_on,col)),\n",
    "                 data=conv_cca_036,)\n",
    "    \n",
    "    plt.xticks(rotation=45)"
   ]
  },
  {
   "cell_type": "code",
   "execution_count": null,
   "metadata": {},
   "outputs": [],
   "source": [
    "conv_cca_36 = mod_cca(scaled_sm_imgs, stim)"
   ]
  },
  {
   "cell_type": "code",
   "execution_count": null,
   "metadata": {},
   "outputs": [],
   "source": [
    "    sns.lineplot(x='layer',y='pearsonr',style='model',hue='region',\n",
    "#                  data=conv_cca.query('{} == \"{}\"'.format(split_on,col)),\n",
    "                 data=conv_cca_36,)\n",
    "    \n",
    "    plt.xticks(rotation=45)"
   ]
  },
  {
   "cell_type": "code",
   "execution_count": null,
   "metadata": {},
   "outputs": [],
   "source": [
    "# x_tr,x_te, y_tr,y_te = train_test_split(neural_data.sel(region='IT'),neural_data.sel(region='V4'))"
   ]
  },
  {
   "cell_type": "code",
   "execution_count": null,
   "metadata": {},
   "outputs": [],
   "source": [
    "stim = stimulus_set.copy()"
   ]
  },
  {
   "cell_type": "code",
   "execution_count": null,
   "metadata": {},
   "outputs": [],
   "source": [
    "# conv_cca = list(mod_cca(scaled_sm_imgs,stim))"
   ]
  },
  {
   "cell_type": "code",
   "execution_count": null,
   "metadata": {},
   "outputs": [],
   "source": [
    "conv_cca = mod_cca(scaled_sm_imgs,stim)"
   ]
  },
  {
   "cell_type": "code",
   "execution_count": null,
   "metadata": {},
   "outputs": [],
   "source": [
    "sns.set_context('talk')"
   ]
  },
  {
   "cell_type": "code",
   "execution_count": null,
   "metadata": {},
   "outputs": [],
   "source": [
    "    sns.lineplot(x='layer',y='pearsonr',style='model',hue='region',\n",
    "#                  data=conv_cca.query('{} == \"{}\"'.format(split_on,col)),\n",
    "                 data=conv_cca,)\n",
    "    \n",
    "    plt.xticks(rotation=45)"
   ]
  },
  {
   "cell_type": "code",
   "execution_count": null,
   "metadata": {},
   "outputs": [],
   "source": [
    "g = sns.FacetGrid(col='region',row='model',data=conv_cca,height=5)\n",
    "g.map(sns.stripplot,'layer','pearsonr')\n",
    "g.fig.autofmt_xdate(rotation=45)"
   ]
  },
  {
   "cell_type": "code",
   "execution_count": null,
   "metadata": {},
   "outputs": [],
   "source": [
    "\n",
    "\n",
    "\n",
    "def mod_rdm(imgs,stim):\n",
    "    iid = stim.image_id.values\n",
    "    on = stim.object_name.values\n",
    "    conv_rdm=[]\n",
    "    imgs = np.expand_dims(imgs,-1)\n",
    "    slug = [(dx,dy,lab,float(rxy)) for dx,dy,rxy,lab in zip(stim.dx_px.values,stim.dy_px.values,stim.rxy.values,stim.category_name.values)]\n",
    "    for encodings, depths, stim_set in prep_assemblies(proj_root,conv_exps,test_data=imgs,slug=slug,image_id=iid,object_name=on,n_units=300):\n",
    "        stim_set['variation']=stim.variation\n",
    "        xrs  = gen_conv_assemblies(encodings,depths,stim_set,n=3)\n",
    "        drdm = dicarlo_rdm(next(xrs),stim_set,region=['conv_1','conv_2','conv_3','conv_4','y_enc','z_enc',],variation=[3],metric='correlation')\n",
    "        conv_rdm.append(drdm)\n",
    "    return conv_rdm"
   ]
  },
  {
   "cell_type": "code",
   "execution_count": null,
   "metadata": {},
   "outputs": [],
   "source": [
    "conv_rdm = list(mod_rdm(scaled_sm_imgs,stim))\n"
   ]
  },
  {
   "cell_type": "code",
   "execution_count": null,
   "metadata": {},
   "outputs": [],
   "source": [
    "cdf = pd.DataFrame(list(load_config(conv_exps)))\n",
    "for e,crdm in zip(cdf.exp_dir.values,conv_rdm):\n",
    "    da = crdm.reset_index(['image_1','image_2'])\n",
    "    with open(os.path.join(e,'dicarlo_rdm_pearson.nc'), 'wb') as fp:\n",
    "        da.to_netcdf(fp)"
   ]
  },
  {
   "cell_type": "code",
   "execution_count": null,
   "metadata": {},
   "outputs": [],
   "source": [
    "fig,axs = plt.subplots(1,2, figsize=(10,5))\n",
    "for i,ax in enumerate(axs):\n",
    "    plot_rdm(conv_rdm[i][4], figsize=(5,5), sortby='category_name', ax=ax);"
   ]
  },
  {
   "cell_type": "code",
   "execution_count": null,
   "metadata": {},
   "outputs": [],
   "source": [
    "# monkey_rdm = dicarlo_rdm(neural_data, stimulus_set,variation=[3],metric='correlation',)\n",
    "# da = monkey_rdm.reset_index(['image_1','image_2'],)\n",
    "# with open(os.path.join('../data/dicarlo_images','monkey_rdm_pearson.nc'), 'wb') as fp:\n",
    "#     da.to_netcdf(fp)\n",
    "# # conv_assemblies = load_assemblies(proj_root,conv_exps)\n"
   ]
  },
  {
   "cell_type": "code",
   "execution_count": null,
   "metadata": {},
   "outputs": [],
   "source": [
    "# models = load_models(proj_root,conv_exps[0:1],load_weights=False)\n",
    "# mod = next(models)"
   ]
  },
  {
   "cell_type": "code",
   "execution_count": null,
   "metadata": {},
   "outputs": [],
   "source": [
    "# mod.layers[1].summary()"
   ]
  },
  {
   "cell_type": "code",
   "execution_count": null,
   "metadata": {},
   "outputs": [],
   "source": [
    "# fig,axs = plot_rdm(monkey_rdm[1], figsize=(5,5), sortby='category_name');\n",
    "# fig.tight_layout()\n",
    "# # plt.tight_layout()"
   ]
  },
  {
   "cell_type": "code",
   "execution_count": null,
   "metadata": {},
   "outputs": [],
   "source": [
    "neural_data.sortby('category_name').image_id.values"
   ]
  },
  {
   "cell_type": "code",
   "execution_count": null,
   "metadata": {},
   "outputs": [],
   "source": []
  },
  {
   "cell_type": "code",
   "execution_count": null,
   "metadata": {},
   "outputs": [],
   "source": [
    "fig.savefig('../figures/pub/IT_rdm.png', dpi=150)"
   ]
  },
  {
   "cell_type": "code",
   "execution_count": null,
   "metadata": {},
   "outputs": [],
   "source": [
    "\n",
    "monkey_fp = '../data/dicarlo_images/monkey_rdm_pearson.nc'\n",
    "\n",
    "\n",
    "# monkey_rdm = next(load_rdm([monkey_fp]))\n",
    "# subset = monkey_rdm.image_id_1.isin(ids3)\n",
    "it_rdm = monkey_rdm[1]\n",
    "v4_rdm = monkey_rdm[0]"
   ]
  },
  {
   "cell_type": "code",
   "execution_count": null,
   "metadata": {},
   "outputs": [],
   "source": [
    "\n",
    "# cdf = pd.DataFrame(list(load_config(conv_exps)))\n",
    "# mod_rdm_fps = pd.DataFrame(list(load_config(conv_exps))).exp_dir.values\n",
    "# mod_rdm_fps = [fp+'/dicarlo_rdm_pearson.nc' for fp in mod_rdm_fps]\n",
    "# xrs = list(load_rdm(mod_rdm_fps))"
   ]
  },
  {
   "cell_type": "code",
   "execution_count": null,
   "metadata": {},
   "outputs": [],
   "source": [
    "# sortby='image_id'\n",
    "# sorter = [sortby+'_1',sortby+'_2']\n",
    "# xrs[0][0].sortby(sorter).image_id_1.values==monkey_rdm[0].sortby(sorter).image_id_1.values"
   ]
  },
  {
   "cell_type": "code",
   "execution_count": null,
   "metadata": {},
   "outputs": [],
   "source": [
    "def calc_model_kt(m_rdm, exps, sortby='image_id'):\n",
    "    \n",
    "    cdf = pd.DataFrame(list(load_config(exps)))\n",
    "    mod_rdm_fps = pd.DataFrame(list(load_config(exps))).exp_dir.values\n",
    "    mod_rdm_fps = [fp+'/dicarlo_rdm_pearson.nc' for fp in mod_rdm_fps]\n",
    "    \n",
    "#     print(mod_rdm_fps)\n",
    "    xrs = list(load_rdm(mod_rdm_fps))\n",
    "#     print(xrs)\n",
    "    \n",
    "    kt = []\n",
    "    sorter = [sortby+'_1',sortby+'_2']\n",
    "    \n",
    "    for i in np.arange(len(mod_rdm_fps)):\n",
    "        for j in trange(5):\n",
    "            mod_rdm = xrs[i][j+1]\n",
    "            for k,reg in enumerate(['V4','IT']):\n",
    "#                 print(k,reg)\n",
    "                ru = m_rdm[k].sortby(sorter)\n",
    "                rv = mod_rdm.sortby(sorter)\n",
    "#                 print(ru)\n",
    "#                 print()\n",
    "#                 print(rv)\n",
    "                ktp =  kendalltau(ru,rv)\n",
    "                kt.append({'kendalltau':ktp[0],'p-value':ktp[1],'layer':np.unique(rv.region.values)[0],'encoder_arch':cdf.encoder_arch.values[i],'recon_weight':cdf.recon_weight.values[i],'region':reg})\n",
    "                \n",
    "\n",
    "    kt_df = pd.DataFrame.from_records(kt)\n",
    "    return kt_df\n",
    "        \n",
    "kt_df = calc_model_kt(monkey_rdm,conv_exps,sortby='category_name')\n",
    "kt_df.head()"
   ]
  },
  {
   "cell_type": "code",
   "execution_count": null,
   "metadata": {},
   "outputs": [],
   "source": [
    "sns.set_context('paper')\n",
    "\n",
    "fig, axs = plt.subplots(2,2,figsize=(5,5), sharey=True,sharex=True)\n",
    "for i,reg in enumerate(['V4','IT']):\n",
    "    for j,recon in enumerate([0.0,1.0]):\n",
    "        ax=axs[i,j]\n",
    "        sns.barplot(x='layer',y='kendalltau',\n",
    "                    data=kt_df.query('region == \"{}\" and recon_weight == {}'.format(reg,recon)),\n",
    "                    ax=ax, palette='magma')\n",
    "        ax.set_ylabel(r'Kendall $\\tau$')\n",
    "        ax.set_title('{} | recon={}'.format(reg,recon))\n",
    "\n",
    "    \n",
    "#     ax.set_title(reg)\n",
    "\n",
    "for ax,recon in zip(axs[:,1].ravel(),[0,1]):\n",
    "#     ax.set_ylabel('recon = {}'.format(recon))\n",
    "    pass\n",
    "    \n",
    "for ax in axs[1]:\n",
    "    xlab = ax.get_xticklabels()\n",
    "    ax.set_xticklabels(xlab,rotation=90)\n",
    "\n",
    "plt.tight_layout()"
   ]
  },
  {
   "cell_type": "code",
   "execution_count": null,
   "metadata": {},
   "outputs": [],
   "source": [
    "fig.savefig('../figures/pub/kendalltau.pdf', dpi=300)"
   ]
  }
 ],
 "metadata": {
  "kernelspec": {
   "display_name": "Py3-fastai (Python3.6.1)",
   "language": "python",
   "name": "py3-fastai"
  },
  "language_info": {
   "codemirror_mode": {
    "name": "ipython",
    "version": 3
   },
   "file_extension": ".py",
   "mimetype": "text/x-python",
   "name": "python",
   "nbconvert_exporter": "python",
   "pygments_lexer": "ipython3",
   "version": "3.6.1"
  }
 },
 "nbformat": 4,
 "nbformat_minor": 4
}
