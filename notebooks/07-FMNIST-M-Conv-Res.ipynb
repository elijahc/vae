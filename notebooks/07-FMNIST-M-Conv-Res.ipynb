{
 "cells": [
  {
   "cell_type": "code",
   "execution_count": 1,
   "metadata": {},
   "outputs": [
    {
     "name": "stderr",
     "output_type": "stream",
     "text": [
      "Using TensorFlow backend.\n"
     ]
    }
   ],
   "source": [
    "import numpy as np\n",
    "import neptune\n",
    "import imageio\n",
    "import scipy as scipy\n",
    "import pandas as pd\n",
    "import matplotlib.pyplot as plt\n",
    "from PIL import Image\n",
    "import os\n",
    "import skimage as skim\n",
    "\n",
    "import seaborn as sns\n",
    "from sklearn.preprocessing import MinMaxScaler\n",
    "\n",
    "from src.data_generator import ShiftedDataBatcher\n",
    "from src.data_loader import _shift_image\n",
    "from src.test_models.crduplex import CRDuplex\n",
    "from src.utils import save_model, save_model_and_weights, save_weights, prepare_dir"
   ]
  },
  {
   "cell_type": "code",
   "execution_count": 3,
   "metadata": {},
   "outputs": [],
   "source": [
    "exp_date = '2019-11-04'\n",
    "proj_root = '/home/elijahc/projects/vae'\n",
    "models_root = prepare_dir(proj_root,'models',exp_date)"
   ]
  },
  {
   "cell_type": "code",
   "execution_count": 4,
   "metadata": {},
   "outputs": [],
   "source": [
    "PROPS = {\n",
    "    'dataset':'fashion_mnist',\n",
    "    'encoder_arch': 'convnet',\n",
    "    'generator_arch': 'resnet',\n",
    "    'augmentation': 'dynamic',\n",
    "}\n",
    "PARAMS = {}\n",
    "\n",
    "train_conf = {\n",
    "    'n_epochs': 54000,\n",
    "    'batch_sz':512,\n",
    "}\n",
    "\n",
    "data_conf = {\n",
    "    'bg': 'natural',\n",
    "    'im_translation':0.75,\n",
    "    'bg_contrast': 0.3,\n",
    "}\n",
    "\n",
    "model_conf = {\n",
    "    'xent_weight': 15,\n",
    "    'recon_weight': 1,\n",
    "    'y_dim':35,\n",
    "    'z_dim':35,\n",
    "}\n",
    "\n",
    "for conf in [train_conf,data_conf,model_conf]:\n",
    "    PARAMS.update(conf)"
   ]
  },
  {
   "cell_type": "code",
   "execution_count": 5,
   "metadata": {},
   "outputs": [],
   "source": [
    "DB = ShiftedDataBatcher(PROPS['dataset'],translation=PARAMS['im_translation'],bg=PARAMS['bg'],\n",
    "                        blend=None,\n",
    "#                         blend='difference',\n",
    "                        batch_size=PARAMS['batch_sz'],\n",
    "                       )"
   ]
  },
  {
   "cell_type": "code",
   "execution_count": 6,
   "metadata": {},
   "outputs": [
    {
     "name": "stdout",
     "output_type": "stream",
     "text": [
      "(512, 56, 56, 1) (512, 10)\n",
      "-1.0 1.0\n",
      "-1.0 1.0\n"
     ]
    },
    {
     "data": {
      "text/plain": [
       "<matplotlib.image.AxesImage at 0x7f12c1bd6048>"
      ]
     },
     "execution_count": 6,
     "metadata": {},
     "output_type": "execute_result"
    },
    {
     "data": {
      "image/png": "[encoded data removed]",
      "text/plain": [
       "<Figure size 432x288 with 2 Axes>"
      ]
     },
     "metadata": {
      "needs_background": "light"
     },
     "output_type": "display_data"
    }
   ],
   "source": [
    "gen = DB.gen_train_batches(2,bg=PARAMS['bg'],bg_contrast=PARAMS['bg_contrast'])\n",
    "x,xbg,y = next(gen)\n",
    "print(x.shape,y.shape)\n",
    "\n",
    "fig,axs = plt.subplots(1,2)\n",
    "print(x[5].min(),x[5].max())\n",
    "print(xbg[5].min(),xbg[5].max())\n",
    "\n",
    "axs[0].imshow(x[5].reshape(56,56),cmap='gray')\n",
    "axs[1].imshow(xbg[5].reshape(56,56),cmap='gray')\n",
    "# plt.colorbar()"
   ]
  },
  {
   "cell_type": "code",
   "execution_count": 7,
   "metadata": {},
   "outputs": [
    {
     "name": "stdout",
     "output_type": "stream",
     "text": [
      "https://ui.neptune.ml/elijahc/DuplexAE/e/DPX-30\n"
     ]
    },
    {
     "data": {
      "text/plain": [
       "Experiment(DPX-30)"
      ]
     },
     "execution_count": 7,
     "metadata": {},
     "output_type": "execute_result"
    }
   ],
   "source": [
    "neptune.init('elijahc/DuplexAE')\n",
    "src_files = [\n",
    "    './src/data_generator.py',\n",
    "    './src/data_loader.py',\n",
    "    './src/test_models/crduplex.py',\n",
    "    './src/test_models/partials.py',\n",
    "    './src/test_models/encoders.py',\n",
    "]\n",
    "exp = neptune.create_experiment(name='convE_w_recon',properties=PROPS,params=PARAMS,upload_source_files=src_files)\n",
    "exp_dir = os.path.join('models',exp_date,exp.id)\n",
    "exp.set_property('dir',exp_dir)"
   ]
  },
  {
   "cell_type": "code",
   "execution_count": 8,
   "metadata": {},
   "outputs": [
    {
     "name": "stdout",
     "output_type": "stream",
     "text": [
      "/home/elijahc/projects/vae/models/2019-11-04/DPX-30  does not exist. Creating...\n",
      "/home/elijahc/projects/vae/models/2019-11-04/DPX-30/recons  does not exist. Creating...\n",
      "/home/elijahc/projects/vae/models/2019-11-04/DPX-30/test_ims  does not exist. Creating...\n"
     ]
    },
    {
     "data": {
      "text/plain": [
       "'/home/elijahc/projects/vae/models/2019-11-04/DPX-30/test_ims'"
      ]
     },
     "execution_count": 8,
     "metadata": {},
     "output_type": "execute_result"
    }
   ],
   "source": [
    "prepare_dir(proj_root,exp_dir)\n",
    "prepare_dir(proj_root,exp_dir,'recons')\n",
    "prepare_dir(proj_root,exp_dir,'test_ims')"
   ]
  },
  {
   "cell_type": "code",
   "execution_count": 9,
   "metadata": {},
   "outputs": [],
   "source": [
    "w_xent = PARAMS['xent_weight']\n",
    "w_recon = PARAMS['recon_weight']"
   ]
  },
  {
   "cell_type": "code",
   "execution_count": 10,
   "metadata": {},
   "outputs": [],
   "source": [
    "mod = CRDuplex(img_shape=(56,56,1),y_dim=PARAMS['y_dim'],z_dim=PARAMS['z_dim'],\n",
    "               num_classes=DB.num_classes,\n",
    "               recon=w_recon,\n",
    "               xent=w_xent,n_residual_blocks=4,\n",
    "#                kernel_regularization=1e-5,\n",
    "              )"
   ]
  },
  {
   "cell_type": "code",
   "execution_count": 11,
   "metadata": {},
   "outputs": [
    {
     "data": {
      "text/plain": [
       "'/home/elijahc/projects/vae/models/2019-11-04/DPX-30'"
      ]
     },
     "execution_count": 11,
     "metadata": {},
     "output_type": "execute_result"
    }
   ],
   "source": [
    "mod_dir = prepare_dir(proj_root,exp_dir)\n",
    "mod_dir"
   ]
  },
  {
   "cell_type": "code",
   "execution_count": 13,
   "metadata": {},
   "outputs": [],
   "source": [
    "save_model(mod.combined,mod_dir)\n",
    "mod.combined.save_weights(os.path.join(mod_dir,'weights_0.h5'))"
   ]
  },
  {
   "cell_type": "code",
   "execution_count": 14,
   "metadata": {},
   "outputs": [
    {
     "data": {
      "text/plain": [
       "['loss',\n",
       " 'Generator_loss',\n",
       " 'Classifier_loss',\n",
       " 'Generator_mean_squared_error',\n",
       " 'Classifier_acc']"
      ]
     },
     "execution_count": 14,
     "metadata": {},
     "output_type": "execute_result"
    }
   ],
   "source": [
    "mod.combined.metrics_names"
   ]
  },
  {
   "cell_type": "code",
   "execution_count": 15,
   "metadata": {},
   "outputs": [],
   "source": [
    "# val_pct = 0.05\n",
    "# val_idxs = np.random.choice(np.arange(10000),int(val_pct*60000),replace=False)\n",
    "# validation_set = (DB.x_te[val_idxs],\n",
    "#                   {'Classifier':DB.y_test_oh[val_idxs],\n",
    "#                    'Generator':DB.fg_test[val_idxs]}\n",
    "#                  )"
   ]
  },
  {
   "cell_type": "code",
   "execution_count": 16,
   "metadata": {},
   "outputs": [],
   "source": [
    "i = 0\n",
    "epoch_sz = int(DB.num_train/512)\n",
    "pan_ims = []\n",
    "pan_y = []\n",
    "\n",
    "# hist_labels = mod.combined.metrics_names\n",
    "hist_labels = ['loss','G_loss','C_loss','G_mse','acc']\n",
    "\n",
    "train_hist = []\n",
    "test_hist = []\n",
    "\n",
    "# val_X,val_X_fg,val_y = DB.gen_batch(DB.x_te,DB.y_test_oh,batch_size=1000,bg='natural')"
   ]
  },
  {
   "cell_type": "code",
   "execution_count": 17,
   "metadata": {},
   "outputs": [
    {
     "name": "stdout",
     "output_type": "stream",
     "text": [
      "(3, 28, 28)\n"
     ]
    }
   ],
   "source": [
    "num_pan = 3\n",
    "test_generator = DB.gen_test_batches(4, batch_size=PARAMS['batch_sz'], bg=PARAMS['bg'])\n",
    "not_unique = True\n",
    "while not_unique:\n",
    "    pan_idx = np.random.choice(np.arange(len(DB.x_te)),size=num_pan,replace=False)\n",
    "    if len(np.unique(DB.y_test[pan_idx])) == num_pan:\n",
    "        not_unique = False\n",
    "    \n",
    "px_ = DB.x_te[pan_idx]\n",
    "print(px_.shape)\n",
    "tX, tX_fg,ty = next(test_generator)"
   ]
  },
  {
   "cell_type": "code",
   "execution_count": 18,
   "metadata": {},
   "outputs": [],
   "source": [
    "x_span = DB.gen_pan_deltas(step=2)\n",
    "pX = np.stack([np.expand_dims(_shift_image(X=px_,dx=dx,dy=dy),-1) for dx,dy in x_span])\n",
    "\n",
    "scaler = MinMaxScaler(feature_range=(-1,1))\n",
    "n,r,x,y,c = pX.shape\n",
    "\n",
    "pX = scaler.fit_transform(pX.reshape(n,x*y*c*r)).reshape(n,r,x,y,c)"
   ]
  },
  {
   "cell_type": "code",
   "execution_count": 19,
   "metadata": {},
   "outputs": [],
   "source": [
    "npX = skim.util.random_noise(pX,mode='gaussian',var=0.1)\n"
   ]
  },
  {
   "cell_type": "code",
   "execution_count": 20,
   "metadata": {},
   "outputs": [
    {
     "data": {
      "image/png": "[encoded data removed]",
      "text/plain": [
       "<Figure size 432x288 with 3 Axes>"
      ]
     },
     "metadata": {
      "needs_background": "light"
     },
     "output_type": "display_data"
    }
   ],
   "source": [
    "fig,axs = plt.subplots(1,num_pan)\n",
    "for i,ax in enumerate(axs.ravel()):\n",
    "    ax.imshow(npX[29,i].reshape(56,56),cmap='gray')\n",
    "    ax.get_xaxis().set_visible(False)\n",
    "    ax.get_yaxis().set_visible(False)\n",
    "    \n",
    "plt.tight_layout()"
   ]
  },
  {
   "cell_type": "code",
   "execution_count": 21,
   "metadata": {},
   "outputs": [],
   "source": [
    "# import numpy as np\n",
    "# nj = 25\n",
    "# fig,axs = plt.subplots(1,nj,figsize=(2*nj,2))\n",
    "\n",
    "# for i in np.arange(nj):\n",
    "#     axs[i].imshow(pX[i+15].reshape(56,56))"
   ]
  },
  {
   "cell_type": "code",
   "execution_count": 22,
   "metadata": {},
   "outputs": [],
   "source": [
    "def flush_pan(pan_ims):\n",
    "    min_max = lambda xp: np.clip((xp+1)/2,0,1)\n",
    "    for idx,inp,G in pan_ims:\n",
    "        idx = str(idx).zfill(3)\n",
    "        \n",
    "#         inp_fn = 'input_{}.png'.format(idx)\n",
    "#         inp_fp = os.path.join(proj_root,exp_dir,'test_ims',inp_fn)\n",
    "        \n",
    "        G_fn = 'G_{}.png'.format(idx)\n",
    "        G_fp = os.path.join(proj_root,exp_dir,'recons',G_fn)\n",
    "    \n",
    "        fig,axs = plt.subplots(2,num_pan)\n",
    "        for k in np.arange(num_pan):\n",
    "            axs[0,k].imshow(inp[k],cmap='gray')\n",
    "            axs[1,k].imshow(G[k],cmap='gray')\n",
    "\n",
    "        for ax in axs.ravel():\n",
    "            ax.get_xaxis().set_visible(False)\n",
    "            ax.get_yaxis().set_visible(False)\n",
    "\n",
    "        plt.tight_layout()     \n",
    "        \n",
    "        fig.savefig(G_fp)\n",
    "        plt.close(fig)"
   ]
  },
  {
   "cell_type": "code",
   "execution_count": 23,
   "metadata": {},
   "outputs": [],
   "source": [
    "recon_dir = prepare_dir(proj_root,exp_dir,'recons')\n",
    "input_dir = prepare_dir(proj_root,exp_dir,'test_ims')"
   ]
  },
  {
   "cell_type": "code",
   "execution_count": 24,
   "metadata": {},
   "outputs": [],
   "source": [
    "def make_gif(recon_dir,input_dir,fps=8,loop=0):\n",
    "    G_ims = []\n",
    "    for G in sorted(os.listdir(recon_dir)):\n",
    "        if G.endswith('.png'):\n",
    "            G_fp = os.path.join(recon_dir, G)\n",
    "            G_ims.append(imageio.imread(G_fp))\n",
    "        \n",
    "#     imageio.mimsave(os.path.join(proj_root,exp_dir,'inputs_video.gif'), input_ims,fps=fps,loop=loop)\n",
    "    imageio.mimsave(os.path.join(proj_root,exp_dir,'G_video.gif'), G_ims, fps=fps,loop=loop)"
   ]
  },
  {
   "cell_type": "code",
   "execution_count": null,
   "metadata": {},
   "outputs": [],
   "source": []
  },
  {
   "cell_type": "code",
   "execution_count": 25,
   "metadata": {},
   "outputs": [
    {
     "name": "stdout",
     "output_type": "stream",
     "text": [
      "  117  (train/val)  acc: [12.70%] / [8.01%]  loss[G+C]:[528.51+2.47] / [536.76+2.37] \n",
      "  234  (train/val)  acc: [9.77%] / [13.28%]  loss[G+C]:[404.59+2.48] / [406.92+2.32] \n",
      "  351  (train/val)  acc: [13.48%] / [14.84%]  loss[G+C]:[366.08+2.37] / [364.38+2.28] \n",
      "  468  (train/val)  acc: [14.26%] / [14.84%]  loss[G+C]:[341.78+2.31] / [342.13+2.26] \n",
      "  585  (train/val)  acc: [14.26%] / [16.21%]  loss[G+C]:[337.78+2.31] / [323.23+2.24] \n",
      "  702  (train/val)  acc: [13.67%] / [17.77%]  loss[G+C]:[320.60+2.30] / [309.11+2.22] \n",
      "  819  (train/val)  acc: [16.21%] / [18.55%]  loss[G+C]:[304.87+2.25] / [295.81+2.20] \n",
      "  936  (train/val)  acc: [16.60%] / [19.73%]  loss[G+C]:[297.00+2.23] / [283.05+2.17] \n",
      " 1053  (train/val)  acc: [17.58%] / [21.68%]  loss[G+C]:[286.18+2.20] / [272.13+2.15] \n",
      " 1170  (train/val)  acc: [21.09%] / [23.83%]  loss[G+C]:[277.96+2.19] / [261.26+2.12] \n",
      " 1287  (train/val)  acc: [20.51%] / [26.95%]  loss[G+C]:[268.97+2.16] / [253.39+2.09] \n",
      " 1404  (train/val)  acc: [21.88%] / [28.32%]  loss[G+C]:[256.60+2.19] / [245.93+2.06] \n",
      " 1521  (train/val)  acc: [22.85%] / [30.86%]  loss[G+C]:[250.75+2.13] / [240.19+2.02] \n",
      " 1638  (train/val)  acc: [24.22%] / [31.84%]  loss[G+C]:[252.11+2.05] / [234.21+1.99] \n",
      "writing_image_buffer...\n",
      "recompiling video...\n",
      " 1755  (train/val)  acc: [28.32%] / [32.23%]  loss[G+C]:[251.96+2.04] / [228.28+1.95] \n",
      " 1872  (train/val)  acc: [26.76%] / [31.45%]  loss[G+C]:[236.91+2.03] / [223.45+1.92] \n",
      " 1989  (train/val)  acc: [25.20%] / [34.57%]  loss[G+C]:[227.06+2.08] / [217.22+1.89] \n",
      " 2106  (train/val)  acc: [30.47%] / [33.20%]  loss[G+C]:[237.88+1.88] / [211.42+1.85] \n",
      " 2223  (train/val)  acc: [24.02%] / [33.40%]  loss[G+C]:[223.09+2.00] / [206.93+1.82] \n",
      " 2340  (train/val)  acc: [29.10%] / [35.16%]  loss[G+C]:[216.15+1.92] / [204.21+1.79] \n",
      " 2457  (train/val)  acc: [30.47%] / [35.16%]  loss[G+C]:[207.22+1.88] / [198.94+1.76] \n",
      " 2574  (train/val)  acc: [29.69%] / [36.72%]  loss[G+C]:[217.24+1.86] / [196.08+1.72] \n",
      " 2691  (train/val)  acc: [34.57%] / [38.48%]  loss[G+C]:[212.52+1.80] / [193.10+1.70] \n",
      " 2808  (train/val)  acc: [30.47%] / [39.06%]  loss[G+C]:[210.96+1.81] / [189.66+1.67] \n",
      " 2925  (train/val)  acc: [34.38%] / [38.87%]  loss[G+C]:[209.46+1.79] / [187.41+1.64] \n",
      " 3042  (train/val)  acc: [33.79%] / [40.23%]  loss[G+C]:[202.54+1.79] / [184.75+1.61] \n",
      " 3159  (train/val)  acc: [34.18%] / [40.23%]  loss[G+C]:[197.86+1.72] / [183.29+1.59] \n",
      " 3276  (train/val)  acc: [37.89%] / [41.80%]  loss[G+C]:[205.68+1.72] / [181.03+1.58] \n",
      "writing_image_buffer...\n",
      "recompiling video...\n",
      " 3393  (train/val)  acc: [37.11%] / [41.99%]  loss[G+C]:[199.56+1.67] / [179.04+1.56] \n",
      " 3510  (train/val)  acc: [36.91%] / [43.36%]  loss[G+C]:[195.48+1.69] / [177.52+1.53] \n",
      " 3627  (train/val)  acc: [38.87%] / [43.55%]  loss[G+C]:[192.62+1.70] / [175.26+1.53] \n",
      " 3744  (train/val)  acc: [40.23%] / [43.16%]  loss[G+C]:[197.48+1.63] / [173.42+1.51] \n",
      " 3861  (train/val)  acc: [41.21%] / [45.31%]  loss[G+C]:[189.17+1.60] / [171.45+1.49] \n",
      " 3978  (train/val)  acc: [38.67%] / [44.53%]  loss[G+C]:[192.31+1.58] / [169.97+1.48] \n",
      " 4095  (train/val)  acc: [42.38%] / [45.12%]  loss[G+C]:[193.58+1.60] / [168.39+1.46] \n",
      " 4212  (train/val)  acc: [43.55%] / [44.92%]  loss[G+C]:[191.35+1.52] / [167.14+1.45] \n",
      " 4329  (train/val)  acc: [41.21%] / [45.70%]  loss[G+C]:[183.33+1.58] / [166.53+1.43] \n",
      " 4446  (train/val)  acc: [47.07%] / [46.29%]  loss[G+C]:[190.42+1.50] / [164.49+1.42] \n",
      " 4563  (train/val)  acc: [45.90%] / [46.09%]  loss[G+C]:[183.52+1.51] / [162.88+1.41] \n",
      " 4680  (train/val)  acc: [44.73%] / [47.07%]  loss[G+C]:[183.89+1.51] / [161.18+1.40] \n",
      " 4797  (train/val)  acc: [47.46%] / [48.24%]  loss[G+C]:[175.96+1.45] / [160.60+1.38] \n",
      " 4914  (train/val)  acc: [45.70%] / [48.44%]  loss[G+C]:[178.77+1.49] / [159.44+1.37] \n",
      "writing_image_buffer...\n",
      "recompiling video...\n",
      " 5031  (train/val)  acc: [43.75%] / [46.88%]  loss[G+C]:[168.47+1.46] / [158.52+1.36] \n",
      " 5148  (train/val)  acc: [43.36%] / [49.02%]  loss[G+C]:[184.89+1.48] / [158.41+1.35] \n",
      " 5265  (train/val)  acc: [43.75%] / [49.22%]  loss[G+C]:[176.28+1.52] / [156.27+1.34] \n",
      " 5382  (train/val)  acc: [45.51%] / [49.61%]  loss[G+C]:[165.34+1.41] / [155.48+1.34] \n",
      " 5499  (train/val)  acc: [49.61%] / [48.83%]  loss[G+C]:[176.80+1.37] / [154.53+1.33] \n",
      " 5616  (train/val)  acc: [49.80%] / [49.61%]  loss[G+C]:[170.67+1.37] / [153.26+1.32] \n",
      " 5733  (train/val)  acc: [45.31%] / [50.59%]  loss[G+C]:[167.48+1.48] / [152.60+1.31] \n",
      " 5850  (train/val)  acc: [47.85%] / [50.59%]  loss[G+C]:[176.45+1.38] / [151.42+1.30] \n",
      " 5967  (train/val)  acc: [47.85%] / [50.78%]  loss[G+C]:[174.90+1.36] / [150.81+1.29] \n",
      " 6084  (train/val)  acc: [46.88%] / [51.17%]  loss[G+C]:[165.60+1.38] / [149.66+1.28] \n",
      " 6201  (train/val)  acc: [50.59%] / [51.17%]  loss[G+C]:[165.74+1.36] / [149.58+1.28] \n",
      " 6318  (train/val)  acc: [49.41%] / [52.54%]  loss[G+C]:[161.16+1.35] / [148.60+1.26] \n",
      " 6435  (train/val)  acc: [50.00%] / [51.76%]  loss[G+C]:[171.43+1.33] / [147.69+1.26] \n",
      " 6552  (train/val)  acc: [51.76%] / [51.95%]  loss[G+C]:[175.33+1.36] / [146.65+1.25] \n",
      "writing_image_buffer...\n",
      "recompiling video...\n",
      " 6669  (train/val)  acc: [49.41%] / [50.98%]  loss[G+C]:[161.53+1.34] / [145.95+1.25] \n",
      " 6786  (train/val)  acc: [47.46%] / [52.15%]  loss[G+C]:[169.89+1.38] / [145.33+1.24] \n",
      " 6903  (train/val)  acc: [48.05%] / [52.54%]  loss[G+C]:[166.28+1.43] / [144.90+1.24] \n",
      " 7020  (train/val)  acc: [53.12%] / [52.93%]  loss[G+C]:[165.10+1.26] / [143.67+1.22] \n",
      " 7137  (train/val)  acc: [53.71%] / [53.71%]  loss[G+C]:[163.60+1.36] / [142.96+1.21] \n",
      " 7254  (train/val)  acc: [48.63%] / [53.71%]  loss[G+C]:[160.28+1.31] / [142.53+1.22] \n",
      " 7371  (train/val)  acc: [55.08%] / [53.71%]  loss[G+C]:[159.16+1.19] / [141.93+1.21] \n",
      " 7488  (train/val)  acc: [54.10%] / [53.71%]  loss[G+C]:[164.38+1.24] / [141.63+1.20] \n",
      " 7605  (train/val)  acc: [46.09%] / [56.25%]  loss[G+C]:[151.53+1.34] / [140.49+1.19] \n",
      " 7722  (train/val)  acc: [50.39%] / [55.66%]  loss[G+C]:[155.95+1.27] / [140.33+1.19] \n",
      " 7839  (train/val)  acc: [50.78%] / [55.86%]  loss[G+C]:[158.80+1.28] / [139.46+1.18] \n",
      " 7956  (train/val)  acc: [49.80%] / [56.45%]  loss[G+C]:[147.90+1.33] / [138.63+1.17] \n",
      " 8073  (train/val)  acc: [49.22%] / [55.86%]  loss[G+C]:[156.76+1.30] / [138.39+1.17] \n",
      " 8190  (train/val)  acc: [51.17%] / [57.42%]  loss[G+C]:[152.44+1.31] / [137.73+1.16] \n",
      "writing_image_buffer...\n",
      "recompiling video...\n",
      " 8307  (train/val)  acc: [52.73%] / [57.81%]  loss[G+C]:[162.20+1.31] / [137.08+1.16] \n",
      " 8424  (train/val)  acc: [53.71%] / [56.64%]  loss[G+C]:[151.38+1.24] / [136.65+1.16] \n",
      " 8541  (train/val)  acc: [55.66%] / [57.42%]  loss[G+C]:[154.22+1.21] / [136.77+1.15] \n",
      " 8658  (train/val)  acc: [52.34%] / [57.42%]  loss[G+C]:[157.94+1.29] / [135.83+1.14] \n",
      " 8775  (train/val)  acc: [55.27%] / [57.03%]  loss[G+C]:[150.01+1.20] / [135.64+1.14] \n",
      " 8892  (train/val)  acc: [54.88%] / [58.20%]  loss[G+C]:[152.21+1.23] / [135.48+1.13] \n",
      " 9009  (train/val)  acc: [51.95%] / [58.40%]  loss[G+C]:[157.20+1.28] / [134.34+1.13] \n",
      " 9126  (train/val)  acc: [56.64%] / [58.20%]  loss[G+C]:[146.82+1.16] / [133.84+1.13] \n",
      " 9243  (train/val)  acc: [53.12%] / [58.98%]  loss[G+C]:[152.58+1.24] / [133.56+1.12] \n",
      " 9360  (train/val)  acc: [49.80%] / [57.42%]  loss[G+C]:[144.87+1.30] / [133.49+1.11] \n",
      " 9477  (train/val)  acc: [55.86%] / [59.57%]  loss[G+C]:[141.97+1.20] / [132.62+1.12] \n",
      " 9594  (train/val)  acc: [53.71%] / [58.79%]  loss[G+C]:[144.56+1.23] / [132.37+1.10] \n",
      " 9711  (train/val)  acc: [50.39%] / [58.98%]  loss[G+C]:[153.32+1.35] / [131.86+1.10] \n",
      " 9828  (train/val)  acc: [52.54%] / [58.59%]  loss[G+C]:[155.37+1.23] / [131.48+1.09] \n",
      "writing_image_buffer...\n",
      "recompiling video...\n",
      " 9945  (train/val)  acc: [59.18%] / [59.57%]  loss[G+C]:[150.37+1.11] / [130.78+1.09] \n",
      "10062  (train/val)  acc: [55.08%] / [58.79%]  loss[G+C]:[146.63+1.23] / [130.49+1.09] \n",
      "10179  (train/val)  acc: [53.52%] / [59.38%]  loss[G+C]:[148.39+1.24] / [130.10+1.08] \n",
      "10296  (train/val)  acc: [56.45%] / [59.96%]  loss[G+C]:[145.92+1.12] / [129.76+1.08] \n",
      "10413  (train/val)  acc: [59.18%] / [60.94%]  loss[G+C]:[146.36+1.14] / [129.49+1.08] \n",
      "10530  (train/val)  acc: [55.08%] / [58.98%]  loss[G+C]:[151.36+1.17] / [129.35+1.08] \n"
     ]
    },
    {
     "ename": "KeyboardInterrupt",
     "evalue": "",
     "output_type": "error",
     "traceback": [
      "\u001b[0;31m---------------------------------------------------------------------------\u001b[0m",
      "\u001b[0;31mKeyboardInterrupt\u001b[0m                         Traceback (most recent call last)",
      "\u001b[0;32m<ipython-input-25-d31f9d0cd90b>\u001b[0m in \u001b[0;36m<module>\u001b[0;34m()\u001b[0m\n\u001b[1;32m      3\u001b[0m          \u001b[0;34m'Generator'\u001b[0m\u001b[0;34m:\u001b[0m\u001b[0mX_fg\u001b[0m\u001b[0;34m,\u001b[0m\u001b[0;34m\u001b[0m\u001b[0m\n\u001b[1;32m      4\u001b[0m         }\n\u001b[0;32m----> 5\u001b[0;31m     \u001b[0mr\u001b[0m \u001b[0;34m=\u001b[0m \u001b[0mmod\u001b[0m\u001b[0;34m.\u001b[0m\u001b[0mcombined\u001b[0m\u001b[0;34m.\u001b[0m\u001b[0mtrain_on_batch\u001b[0m\u001b[0;34m(\u001b[0m\u001b[0mX\u001b[0m\u001b[0;34m,\u001b[0m\u001b[0my\u001b[0m\u001b[0;34m)\u001b[0m\u001b[0;34m\u001b[0m\u001b[0m\n\u001b[0m\u001b[1;32m      6\u001b[0m     \u001b[0mr\u001b[0m \u001b[0;34m=\u001b[0m \u001b[0;34m{\u001b[0m\u001b[0mk\u001b[0m\u001b[0;34m:\u001b[0m\u001b[0mv\u001b[0m \u001b[0;32mfor\u001b[0m \u001b[0mk\u001b[0m\u001b[0;34m,\u001b[0m\u001b[0mv\u001b[0m \u001b[0;32min\u001b[0m \u001b[0mzip\u001b[0m\u001b[0;34m(\u001b[0m\u001b[0mhist_labels\u001b[0m\u001b[0;34m,\u001b[0m\u001b[0mr\u001b[0m\u001b[0;34m)\u001b[0m\u001b[0;34m}\u001b[0m\u001b[0;34m\u001b[0m\u001b[0m\n\u001b[1;32m      7\u001b[0m \u001b[0;34m\u001b[0m\u001b[0m\n",
      "\u001b[0;32m~/.pyenv/versions/jupyterlab-gpu/lib/python3.5/site-packages/keras/engine/training.py\u001b[0m in \u001b[0;36mtrain_on_batch\u001b[0;34m(self, x, y, sample_weight, class_weight)\u001b[0m\n\u001b[1;32m   1215\u001b[0m             \u001b[0mins\u001b[0m \u001b[0;34m=\u001b[0m \u001b[0mx\u001b[0m \u001b[0;34m+\u001b[0m \u001b[0my\u001b[0m \u001b[0;34m+\u001b[0m \u001b[0msample_weights\u001b[0m\u001b[0;34m\u001b[0m\u001b[0m\n\u001b[1;32m   1216\u001b[0m         \u001b[0mself\u001b[0m\u001b[0;34m.\u001b[0m\u001b[0m_make_train_function\u001b[0m\u001b[0;34m(\u001b[0m\u001b[0;34m)\u001b[0m\u001b[0;34m\u001b[0m\u001b[0m\n\u001b[0;32m-> 1217\u001b[0;31m         \u001b[0moutputs\u001b[0m \u001b[0;34m=\u001b[0m \u001b[0mself\u001b[0m\u001b[0;34m.\u001b[0m\u001b[0mtrain_function\u001b[0m\u001b[0;34m(\u001b[0m\u001b[0mins\u001b[0m\u001b[0;34m)\u001b[0m\u001b[0;34m\u001b[0m\u001b[0m\n\u001b[0m\u001b[1;32m   1218\u001b[0m         \u001b[0;32mreturn\u001b[0m \u001b[0munpack_singleton\u001b[0m\u001b[0;34m(\u001b[0m\u001b[0moutputs\u001b[0m\u001b[0;34m)\u001b[0m\u001b[0;34m\u001b[0m\u001b[0m\n\u001b[1;32m   1219\u001b[0m \u001b[0;34m\u001b[0m\u001b[0m\n",
      "\u001b[0;32m~/.pyenv/versions/jupyterlab-gpu/lib/python3.5/site-packages/keras/backend/tensorflow_backend.py\u001b[0m in \u001b[0;36m__call__\u001b[0;34m(self, inputs)\u001b[0m\n\u001b[1;32m   2713\u001b[0m                 \u001b[0;32mreturn\u001b[0m \u001b[0mself\u001b[0m\u001b[0;34m.\u001b[0m\u001b[0m_legacy_call\u001b[0m\u001b[0;34m(\u001b[0m\u001b[0minputs\u001b[0m\u001b[0;34m)\u001b[0m\u001b[0;34m\u001b[0m\u001b[0m\n\u001b[1;32m   2714\u001b[0m \u001b[0;34m\u001b[0m\u001b[0m\n\u001b[0;32m-> 2715\u001b[0;31m             \u001b[0;32mreturn\u001b[0m \u001b[0mself\u001b[0m\u001b[0;34m.\u001b[0m\u001b[0m_call\u001b[0m\u001b[0;34m(\u001b[0m\u001b[0minputs\u001b[0m\u001b[0;34m)\u001b[0m\u001b[0;34m\u001b[0m\u001b[0m\n\u001b[0m\u001b[1;32m   2716\u001b[0m         \u001b[0;32melse\u001b[0m\u001b[0;34m:\u001b[0m\u001b[0;34m\u001b[0m\u001b[0m\n\u001b[1;32m   2717\u001b[0m             \u001b[0;32mif\u001b[0m \u001b[0mpy_any\u001b[0m\u001b[0;34m(\u001b[0m\u001b[0mis_tensor\u001b[0m\u001b[0;34m(\u001b[0m\u001b[0mx\u001b[0m\u001b[0;34m)\u001b[0m \u001b[0;32mfor\u001b[0m \u001b[0mx\u001b[0m \u001b[0;32min\u001b[0m \u001b[0minputs\u001b[0m\u001b[0;34m)\u001b[0m\u001b[0;34m:\u001b[0m\u001b[0;34m\u001b[0m\u001b[0m\n",
      "\u001b[0;32m~/.pyenv/versions/jupyterlab-gpu/lib/python3.5/site-packages/keras/backend/tensorflow_backend.py\u001b[0m in \u001b[0;36m_call\u001b[0;34m(self, inputs)\u001b[0m\n\u001b[1;32m   2673\u001b[0m             \u001b[0mfetched\u001b[0m \u001b[0;34m=\u001b[0m \u001b[0mself\u001b[0m\u001b[0;34m.\u001b[0m\u001b[0m_callable_fn\u001b[0m\u001b[0;34m(\u001b[0m\u001b[0;34m*\u001b[0m\u001b[0marray_vals\u001b[0m\u001b[0;34m,\u001b[0m \u001b[0mrun_metadata\u001b[0m\u001b[0;34m=\u001b[0m\u001b[0mself\u001b[0m\u001b[0;34m.\u001b[0m\u001b[0mrun_metadata\u001b[0m\u001b[0;34m)\u001b[0m\u001b[0;34m\u001b[0m\u001b[0m\n\u001b[1;32m   2674\u001b[0m         \u001b[0;32melse\u001b[0m\u001b[0;34m:\u001b[0m\u001b[0;34m\u001b[0m\u001b[0m\n\u001b[0;32m-> 2675\u001b[0;31m             \u001b[0mfetched\u001b[0m \u001b[0;34m=\u001b[0m \u001b[0mself\u001b[0m\u001b[0;34m.\u001b[0m\u001b[0m_callable_fn\u001b[0m\u001b[0;34m(\u001b[0m\u001b[0;34m*\u001b[0m\u001b[0marray_vals\u001b[0m\u001b[0;34m)\u001b[0m\u001b[0;34m\u001b[0m\u001b[0m\n\u001b[0m\u001b[1;32m   2676\u001b[0m         \u001b[0;32mreturn\u001b[0m \u001b[0mfetched\u001b[0m\u001b[0;34m[\u001b[0m\u001b[0;34m:\u001b[0m\u001b[0mlen\u001b[0m\u001b[0;34m(\u001b[0m\u001b[0mself\u001b[0m\u001b[0;34m.\u001b[0m\u001b[0moutputs\u001b[0m\u001b[0;34m)\u001b[0m\u001b[0;34m]\u001b[0m\u001b[0;34m\u001b[0m\u001b[0m\n\u001b[1;32m   2677\u001b[0m \u001b[0;34m\u001b[0m\u001b[0m\n",
      "\u001b[0;32m~/.pyenv/versions/jupyterlab-gpu/lib/python3.5/site-packages/tensorflow/python/client/session.py\u001b[0m in \u001b[0;36m__call__\u001b[0;34m(self, *args)\u001b[0m\n\u001b[1;32m   1449\u001b[0m         \u001b[0;32mif\u001b[0m \u001b[0mself\u001b[0m\u001b[0;34m.\u001b[0m\u001b[0m_session\u001b[0m\u001b[0;34m.\u001b[0m\u001b[0m_created_with_new_api\u001b[0m\u001b[0;34m:\u001b[0m\u001b[0;34m\u001b[0m\u001b[0m\n\u001b[1;32m   1450\u001b[0m           return tf_session.TF_SessionRunCallable(\n\u001b[0;32m-> 1451\u001b[0;31m               self._session._session, self._handle, args, status, None)\n\u001b[0m\u001b[1;32m   1452\u001b[0m         \u001b[0;32melse\u001b[0m\u001b[0;34m:\u001b[0m\u001b[0;34m\u001b[0m\u001b[0m\n\u001b[1;32m   1453\u001b[0m           return tf_session.TF_DeprecatedSessionRunCallable(\n",
      "\u001b[0;31mKeyboardInterrupt\u001b[0m: "
     ]
    }
   ],
   "source": [
    "for X,X_fg,y in DB.gen_train_batches(PARAMS['n_epochs'],bg=PARAMS['bg']):\n",
    "    y = {'Classifier':y,\n",
    "         'Generator':X_fg,\n",
    "        }\n",
    "    r = mod.combined.train_on_batch(X,y)\n",
    "    r = {k:v for k,v in zip(hist_labels,r)}\n",
    "\n",
    "#     metrics = {k:v for k,v in zip(met_names,met_vals)}\n",
    "    if i % epoch_sz == 0 and i > 0:\n",
    "        r_te = mod.combined.test_on_batch(tX,{'Classifier':ty,\n",
    "                                              'Generator':tX_fg\n",
    "                                             })\n",
    "        r_te = {k:v for k,v in zip(hist_labels,r_te)}\n",
    "        exp.log_metric('batch',i)\n",
    "        for metric in hist_labels:\n",
    "            exp.log_metric(metric,r[metric])\n",
    "            exp.log_metric('val_{}'.format(metric),r_te[metric])\n",
    "\n",
    "        r['batch']=i\n",
    "        r_te['batch']=i\n",
    "\n",
    "#         r['result_type'] = 'train'\n",
    "#         r_te['result_type'] = 'valid'\n",
    "\n",
    "#         train_hist.append(r)\n",
    "#         train_hist.append(r_te)\n",
    "        p_epoch = \"{:5d} \".format(i)\n",
    "        p_loss = \"loss[G+C]:[{:2.2f}+{:.2f}] / [{:2.2f}+{:.2f}] \".format(r['G_loss'],r['C_loss'],r_te['G_loss'],r_te['C_loss'])\n",
    "#         p_loss = \"{:5d} (train/val loss:[{:2.2f}, {:2.2f}])\".format(i,r['loss'],r_te['loss'])\n",
    "        p_acc = \"acc: [{:2.2%}] / [{:2.2%}] \".format(r['acc'],r_te['acc'])\n",
    "#         print('epoch')\n",
    "        print(p_epoch, '(train/val) ', p_acc,p_loss)\n",
    "        \n",
    "        pidx = int(i/epoch_sz)%len(pX)\n",
    "        im = skim.util.random_noise(pX[pidx],mode='gaussian',var=0.1)\n",
    "        p_recon,p_class = mod.combined.predict_on_batch(im)\n",
    "        \n",
    "        pan_im = (int(i/epoch_sz), np.squeeze(im), np.squeeze(p_recon))\n",
    "        pan_ims.append(pan_im)\n",
    "        pan_y.append(p_class)\n",
    "        \n",
    "        if i>0 and len(pan_ims)>int(len(pX)/3):\n",
    "            print('writing_image_buffer...')\n",
    "            flush_pan(pan_ims)\n",
    "            pan_ims = []\n",
    "                \n",
    "            print('recompiling video...')\n",
    "            make_gif(recon_dir,input_dir)\n",
    "                        \n",
    "    i+=1"
   ]
  },
  {
   "cell_type": "code",
   "execution_count": 26,
   "metadata": {},
   "outputs": [],
   "source": [
    "flush_pan(pan_ims)\n",
    "pan_ims = []\n",
    "make_gif(recon_dir,input_dir,)"
   ]
  },
  {
   "cell_type": "code",
   "execution_count": 27,
   "metadata": {},
   "outputs": [],
   "source": [
    "exp.stop()"
   ]
  },
  {
   "cell_type": "code",
   "execution_count": 28,
   "metadata": {},
   "outputs": [
    {
     "data": {
      "text/plain": [
       "'/home/elijahc/projects/vae/models/2019-11-04/DPX-30'"
      ]
     },
     "execution_count": 28,
     "metadata": {},
     "output_type": "execute_result"
    }
   ],
   "source": [
    "mod_dir = os.path.join(proj_root,exp_dir)\n",
    "mod_dir"
   ]
  },
  {
   "cell_type": "code",
   "execution_count": 29,
   "metadata": {},
   "outputs": [],
   "source": [
    "hist_tr = pd.DataFrame.from_records(train_hist)"
   ]
  },
  {
   "cell_type": "code",
   "execution_count": 30,
   "metadata": {},
   "outputs": [],
   "source": [
    "# sns.set_context('talk')\n",
    "# fig,axs = plt.subplots(1,4,figsize=(4*4,1*4),sharex=True)\n",
    "# for ax,metric in zip(axs.ravel(),['loss','G_loss','C_loss','acc']):\n",
    "#     sns.lineplot(x='batch',y=metric, hue='result_type',data=hist_tr,ax=ax)"
   ]
  },
  {
   "cell_type": "code",
   "execution_count": 31,
   "metadata": {},
   "outputs": [
    {
     "name": "stdout",
     "output_type": "stream",
     "text": [
      "/home/elijahc/projects/vae/models/2019-11-04/DPX-30\n"
     ]
    }
   ],
   "source": [
    "print(mod_dir)\n",
    "hist_tr.to_csv(os.path.join(mod_dir,'training_hist.csv'))"
   ]
  },
  {
   "cell_type": "code",
   "execution_count": 32,
   "metadata": {},
   "outputs": [],
   "source": [
    "model_json = mod.combined.to_json()\n",
    "with open(os.path.join(mod_dir,\"model.json\"), \"w\") as json_file:\n",
    "    json_file.write(model_json)\n",
    "    \n",
    "exp.send_artifact(os.path.join(mod_dir,'model.json'))"
   ]
  },
  {
   "cell_type": "code",
   "execution_count": 33,
   "metadata": {},
   "outputs": [],
   "source": [
    "mod.combined.save_weights(os.path.join(mod_dir,'weights.h5'))"
   ]
  },
  {
   "cell_type": "code",
   "execution_count": 34,
   "metadata": {},
   "outputs": [
    {
     "name": "stdout",
     "output_type": "stream",
     "text": [
      "__________________________________________________________________________________________________\n",
      "Layer (type)                    Output Shape         Param #     Connected to                     \n",
      "==================================================================================================\n",
      "input_1 (InputLayer)            (None, 56, 56, 1)    0                                            \n",
      "__________________________________________________________________________________________________\n",
      "conv2d_1 (Conv2D)               (None, 28, 28, 16)   160         input_1[0][0]                    \n",
      "__________________________________________________________________________________________________\n",
      "leaky_re_lu_1 (LeakyReLU)       (None, 28, 28, 16)   0           conv2d_1[1][0]                   \n",
      "__________________________________________________________________________________________________\n",
      "dropout_1 (Dropout)             (None, 28, 28, 16)   0           leaky_re_lu_1[1][0]              \n",
      "__________________________________________________________________________________________________\n",
      "batch_normalization_1 (BatchNor (None, 28, 28, 16)   64          dropout_1[1][0]                  \n",
      "__________________________________________________________________________________________________\n",
      "conv2d_2 (Conv2D)               (None, 14, 14, 32)   4640        batch_normalization_1[1][0]      \n",
      "__________________________________________________________________________________________________\n",
      "leaky_re_lu_2 (LeakyReLU)       (None, 14, 14, 32)   0           conv2d_2[1][0]                   \n",
      "__________________________________________________________________________________________________\n",
      "dropout_2 (Dropout)             (None, 14, 14, 32)   0           leaky_re_lu_2[1][0]              \n",
      "__________________________________________________________________________________________________\n",
      "batch_normalization_2 (BatchNor (None, 14, 14, 32)   128         dropout_2[1][0]                  \n",
      "__________________________________________________________________________________________________\n",
      "conv2d_3 (Conv2D)               (None, 7, 7, 64)     18496       batch_normalization_2[1][0]      \n",
      "__________________________________________________________________________________________________\n",
      "leaky_re_lu_3 (LeakyReLU)       (None, 7, 7, 64)     0           conv2d_3[1][0]                   \n",
      "__________________________________________________________________________________________________\n",
      "dropout_3 (Dropout)             (None, 7, 7, 64)     0           leaky_re_lu_3[1][0]              \n",
      "__________________________________________________________________________________________________\n",
      "batch_normalization_3 (BatchNor (None, 7, 7, 64)     256         dropout_3[1][0]                  \n",
      "__________________________________________________________________________________________________\n",
      "conv2d_4 (Conv2D)               (None, 7, 7, 128)    73856       batch_normalization_3[1][0]      \n",
      "__________________________________________________________________________________________________\n",
      "leaky_re_lu_4 (LeakyReLU)       (None, 7, 7, 128)    0           conv2d_4[1][0]                   \n",
      "__________________________________________________________________________________________________\n",
      "dropout_4 (Dropout)             (None, 7, 7, 128)    0           leaky_re_lu_4[1][0]              \n",
      "__________________________________________________________________________________________________\n",
      "flatten_1 (Flatten)             (None, 6272)         0           dropout_4[1][0]                  \n",
      "__________________________________________________________________________________________________\n",
      "y_dim (Dense)                   (None, 35)           219555      flatten_1[1][0]                  \n",
      "__________________________________________________________________________________________________\n",
      "z_dim (Dense)                   (None, 35)           219555      flatten_1[1][0]                  \n",
      "__________________________________________________________________________________________________\n",
      "latent (Concatenate)            (None, 70)           0           y_dim[0][0]                      \n",
      "                                                                 z_dim[0][0]                      \n",
      "==================================================================================================\n",
      "Total params: 536,710\n",
      "Trainable params: 536,486\n",
      "Non-trainable params: 224\n",
      "__________________________________________________________________________________________________\n"
     ]
    }
   ],
   "source": [
    "mod.E.summary()"
   ]
  },
  {
   "cell_type": "code",
   "execution_count": 35,
   "metadata": {},
   "outputs": [],
   "source": [
    "teX,teX_fg,te_y = next(test_generator)"
   ]
  },
  {
   "cell_type": "code",
   "execution_count": 36,
   "metadata": {},
   "outputs": [
    {
     "name": "stdout",
     "output_type": "stream",
     "text": [
      "512/512 [==============================] - 0s 158us/step\n"
     ]
    }
   ],
   "source": [
    "res = mod.combined.evaluate(teX,{'Classifier':te_y,'Generator':teX_fg},batch_size=PARAMS['batch_sz'])\n"
   ]
  },
  {
   "cell_type": "code",
   "execution_count": 37,
   "metadata": {},
   "outputs": [
    {
     "data": {
      "text/plain": [
       "[142.00592041015625,\n",
       " 126.24496459960938,\n",
       " 1.048108696937561,\n",
       " 0.04025668650865555,\n",
       " 0.615234375]"
      ]
     },
     "execution_count": 37,
     "metadata": {},
     "output_type": "execute_result"
    }
   ],
   "source": [
    "res"
   ]
  },
  {
   "cell_type": "code",
   "execution_count": 41,
   "metadata": {},
   "outputs": [],
   "source": [
    "nteX = skim.util.random_noise(teX,mode='gaussian',var=0.2)\n",
    "nout = mod.combined.predict_on_batch(nteX)"
   ]
  },
  {
   "cell_type": "code",
   "execution_count": 42,
   "metadata": {},
   "outputs": [],
   "source": [
    "out = mod.combined.predict_on_batch(teX)\n",
    "x_recon,y = out\n",
    "n_recon,ny = nout"
   ]
  },
  {
   "cell_type": "code",
   "execution_count": 45,
   "metadata": {},
   "outputs": [],
   "source": [
    "choices = np.random.choice(np.arange(512),size=5,replace=False)"
   ]
  },
  {
   "cell_type": "code",
   "execution_count": 46,
   "metadata": {},
   "outputs": [
    {
     "data": {
      "image/png": "[encoded data removed]",
      "text/plain": [
       "<Figure size 720x288 with 10 Axes>"
      ]
     },
     "metadata": {
      "needs_background": "light"
     },
     "output_type": "display_data"
    }
   ],
   "source": [
    "fix,axes = plt.subplots(2,5,figsize=(2*5,2*2))\n",
    "\n",
    "for i,idx in enumerate(choices):\n",
    "    axs = axes[:,i]\n",
    "    axs[0].imshow(teX[idx].reshape(56,56),cmap='gray',vmin=-1,vmax=1)\n",
    "    axs[1].imshow(x_recon[idx].reshape(56,56),cmap='gray',vmin=-1,vmax=1)\n",
    "    \n",
    "for ax in axes.ravel():\n",
    "    ax.get_yaxis().set_visible(False)\n",
    "    ax.get_xaxis().set_visible(False)\n",
    "    \n",
    "plt.tight_layout()"
   ]
  },
  {
   "cell_type": "code",
   "execution_count": null,
   "metadata": {},
   "outputs": [],
   "source": [
    "fig.savefig(os.path.join(mod_dir,'inp_output_pairs.png'),dpi=150)"
   ]
  },
  {
   "cell_type": "code",
   "execution_count": null,
   "metadata": {},
   "outputs": [],
   "source": [
    "exp.send_artifact(os.path.join(mod_dir,'inp_output_pairs.png'))"
   ]
  },
  {
   "cell_type": "code",
   "execution_count": null,
   "metadata": {},
   "outputs": [],
   "source": [
    "fix,axes = plt.subplots(2,5,figsize=(2*5,2*2))\n",
    "\n",
    "for i,idx in enumerate(choices):\n",
    "    axs = axes[:,i]\n",
    "    axs[0].imshow(nteX[idx].reshape(56,56),cmap='gray',vmin=-1,vmax=1)\n",
    "    axs[1].imshow(n_recon[idx].reshape(56,56),cmap='gray',vmin=-1,vmax=1)\n",
    "    \n",
    "for ax in axes.ravel():\n",
    "    ax.get_yaxis().set_visible(False)\n",
    "    ax.get_xaxis().set_visible(False)\n",
    "    \n",
    "plt.tight_layout()"
   ]
  },
  {
   "cell_type": "code",
   "execution_count": null,
   "metadata": {},
   "outputs": [],
   "source": []
  }
 ],
 "metadata": {
  "kernelspec": {
   "display_name": "Py3-GPU (Python3.5.2)",
   "language": "python",
   "name": "py3-gpu"
  },
  "language_info": {
   "codemirror_mode": {
    "name": "ipython",
    "version": 3
   },
   "file_extension": ".py",
   "mimetype": "text/x-python",
   "name": "python",
   "nbconvert_exporter": "python",
   "pygments_lexer": "ipython3",
   "version": "3.5.2"
  },
  "neptune": {
   "notebookId": "4eac60ae-a1b6-458d-96e7-ea2e36ee3c83"
  }
 },
 "nbformat": 4,
 "nbformat_minor": 2
}
