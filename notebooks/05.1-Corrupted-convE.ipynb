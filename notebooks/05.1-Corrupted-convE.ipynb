{
 "cells": [
  {
   "cell_type": "markdown",
   "metadata": {},
   "source": [
    "# Corrupted labels are a useful way to measure a networks generalization potential\n",
    "- https://arxiv.org/pdf/1611.03530.pdf"
   ]
  },
  {
   "cell_type": "code",
   "execution_count": 1,
   "metadata": {},
   "outputs": [
    {
     "name": "stderr",
     "output_type": "stream",
     "text": [
      "Using TensorFlow backend.\n"
     ]
    }
   ],
   "source": [
    "import os\n",
    "import json\n",
    "import numpy as np\n",
    "import pandas as pd\n",
    "import scipy\n",
    "\n",
    "import matplotlib.pyplot as plt\n",
    "import seaborn as sns\n",
    "%matplotlib inline\n",
    "\n",
    "from src.data_loader import Shifted_Data_Loader,upsample_dataset\n",
    "from src.plot import orig_vs_transformed as plot_ovt\n",
    "from src.plot import enc_dec_samples\n",
    "from src.models import GResNet,EDense,EResNet\n",
    "from src.config import get_config\n",
    "from src.trainer import Trainer\n",
    "from src.utils import prepare_dirs_and_logger\n",
    "from keras.datasets import fashion_mnist,mnist\n",
    "from keras.layers import Dense\n",
    "from keras.models import Model\n",
    "from keras.utils import to_categorical\n",
    "from keras.optimizers import adadelta\n",
    "\n",
    "# from tabulate import tabulate"
   ]
  },
  {
   "cell_type": "code",
   "execution_count": 2,
   "metadata": {},
   "outputs": [],
   "source": [
    "config,_ = get_config()\n",
    "# Boilerplate\n",
    "setattr(config, 'proj_root', '/home/elijahc/projects/vae')\n",
    "setattr(config, 'log_dir', '/home/elijahc/projects/vae/logs')\n",
    "setattr(config, 'dev_mode',True)\n",
    "setattr(config, 'seed', 7)\n",
    "setattr(config, 'project','vae')\n",
    "setattr(config, 'ecc_max',0.8)\n",
    "\n",
    "# Architecture Params\n",
    "setattr(config, 'enc_blocks', [32,64,128,256])\n",
    "setattr(config, 'dec_blocks', [4,2,1])\n",
    "setattr(config, 'z_dim', 5)\n",
    "setattr(config, 'y_dim', 10)\n",
    "\n",
    "# Training Params\n",
    "setattr(config, 'batch_size', 512)\n",
    "setattr(config, 'dataset', 'fashion_mnist')\n",
    "setattr(config, 'epochs',100)\n",
    "setattr(config, 'monitor', None)\n",
    "# setattr(config, 'lr', 10)\n",
    "# setattr(config, 'min_delta', 0.5)\n",
    "setattr(config, 'optimizer', 'nadam')\n",
    "setattr(config, 'label_corruption',0.4)\n",
    "\n",
    "if config.ecc_max == 0.:\n",
    "    \n",
    "    translation_amt = None\n",
    "else:\n",
    "    translation_amt = config.ecc_max\n",
    "\n",
    "\n",
    "# Loss Weights\n",
    "setattr(config, 'xcov', 0)\n",
    "setattr(config, 'recon', 25)\n",
    "setattr(config, 'xent', 15)\n",
    "setattr(config,'model_dir','/home/elijahc/projects/vae/models/2019-05-06/recon_{}_ecc_{}/label_corruption_{}'.format(config.recon,config.ecc_max,config.label_corruption))\n",
    "\n",
    "\n"
   ]
  },
  {
   "cell_type": "code",
   "execution_count": null,
   "metadata": {},
   "outputs": [],
   "source": []
  },
  {
   "cell_type": "code",
   "execution_count": 3,
   "metadata": {},
   "outputs": [
    {
     "data": {
      "text/plain": [
       "{'batch_size': 512,\n",
       " 'dataset': 'fashion_mnist',\n",
       " 'dec_blocks': [4, 2, 1],\n",
       " 'dev_mode': True,\n",
       " 'ecc_max': 0.8,\n",
       " 'enc_blocks': [32, 64, 128, 256],\n",
       " 'enc_layers': [500, 500],\n",
       " 'epochs': 100,\n",
       " 'label_corruption': 0.4,\n",
       " 'log_dir': '/home/elijahc/projects/vae/logs',\n",
       " 'log_level': 'INFO',\n",
       " 'model_dir': '/home/elijahc/projects/vae/models/2019-05-06/recon_25_ecc_0.8/label_corruption_0.4',\n",
       " 'monitor': None,\n",
       " 'optimizer': 'nadam',\n",
       " 'proj_root': '/home/elijahc/projects/vae',\n",
       " 'project': 'vae',\n",
       " 'recon': 25,\n",
       " 'seed': 7,\n",
       " 'xcov': 0,\n",
       " 'xent': 15,\n",
       " 'y_dim': 10,\n",
       " 'z_dim': 5}"
      ]
     },
     "execution_count": 3,
     "metadata": {},
     "output_type": "execute_result"
    }
   ],
   "source": [
    "np.random.seed(7)\n",
    "if not config.dev_mode:\n",
    "    print('setting up...')\n",
    "    prepare_dirs_and_logger(config)\n",
    "    \n",
    "vars(config)\n"
   ]
  },
  {
   "cell_type": "code",
   "execution_count": 4,
   "metadata": {},
   "outputs": [
    {
     "name": "stdout",
     "output_type": "stream",
     "text": [
      "input_shape:  (56, 56, 1)\n",
      "dataset:  fashion_mnist\n",
      "scale:  2\n",
      "tx_max:  0.8\n",
      "rot_max:  None\n",
      "bg_noise: None\n",
      "loading fashion_mnist...\n",
      "sx_train:  (180000, 56, 56, 1)\n",
      "making training data...\n",
      "making testing data...\n"
     ]
    }
   ],
   "source": [
    "DL = Shifted_Data_Loader(dataset=config.dataset,flatten=False,\n",
    "                         rotation=None,\n",
    "                         translation=translation_amt,\n",
    "                         num_train=180000,\n",
    "                        )"
   ]
  },
  {
   "cell_type": "code",
   "execution_count": 5,
   "metadata": {},
   "outputs": [
    {
     "data": {
      "image/png": "[encoded data removed]",
      "text/plain": [
       "<Figure size 432x288 with 2 Axes>"
      ]
     },
     "metadata": {
      "needs_background": "light"
     },
     "output_type": "display_data"
    }
   ],
   "source": [
    "pt,idx = plot_ovt(DL,cmap='gray')"
   ]
  },
  {
   "cell_type": "code",
   "execution_count": 6,
   "metadata": {},
   "outputs": [
    {
     "name": "stdout",
     "output_type": "stream",
     "text": [
      "building encoder...\n",
      "building decoder/generator...\n"
     ]
    }
   ],
   "source": [
    "G_builder = GResNet(y_dim=config.y_dim,z_dim=config.z_dim,dec_blocks=config.dec_blocks,flatten_out=False)\n",
    "E_builder = EResNet(blocks=config.enc_blocks,z_dim=config.z_dim,)\n",
    "trainer = Trainer(config,DL,E_builder,G_builder,)\n",
    "# setattr(trainer.config,'model_dir','/home/elijahc/projects/vae/models/2019-01-22/')"
   ]
  },
  {
   "cell_type": "code",
   "execution_count": 7,
   "metadata": {},
   "outputs": [
    {
     "name": "stdout",
     "output_type": "stream",
     "text": [
      "__________________________________________________________________________________________________\n",
      "Layer (type)                    Output Shape         Param #     Connected to                     \n",
      "==================================================================================================\n",
      "input_image (InputLayer)        (None, 56, 56, 1)    0                                            \n",
      "__________________________________________________________________________________________________\n",
      "block_1_conv_0 (Conv2D)         (None, 56, 56, 32)   320         input_image[0][0]                \n",
      "__________________________________________________________________________________________________\n",
      "block_1_BN_0 (BatchNormalizatio (None, 56, 56, 32)   128         block_1_conv_0[0][0]             \n",
      "__________________________________________________________________________________________________\n",
      "block_1_ReLU_0 (Activation)     (None, 56, 56, 32)   0           block_1_BN_0[0][0]               \n",
      "__________________________________________________________________________________________________\n",
      "block_1_conv_1 (Conv2D)         (None, 56, 56, 32)   1056        block_1_ReLU_0[0][0]             \n",
      "__________________________________________________________________________________________________\n",
      "block_1_BN_2 (BatchNormalizatio (None, 56, 56, 32)   128         block_1_conv_1[0][0]             \n",
      "__________________________________________________________________________________________________\n",
      "block_1_ReLU_2 (Activation)     (None, 56, 56, 32)   0           block_1_BN_2[0][0]               \n",
      "__________________________________________________________________________________________________\n",
      "conv2d_1 (Conv2D)               (None, 56, 56, 32)   64          input_image[0][0]                \n",
      "__________________________________________________________________________________________________\n",
      "block_1_conv_2 (Conv2D)         (None, 56, 56, 32)   9248        block_1_ReLU_2[0][0]             \n",
      "__________________________________________________________________________________________________\n",
      "block_1_Add_1 (Add)             (None, 56, 56, 32)   0           conv2d_1[0][0]                   \n",
      "                                                                 block_1_conv_2[0][0]             \n",
      "__________________________________________________________________________________________________\n",
      "block_2_BN_1 (BatchNormalizatio (None, 56, 56, 32)   128         block_1_Add_1[0][0]              \n",
      "__________________________________________________________________________________________________\n",
      "block_2_ReLU_1 (Activation)     (None, 56, 56, 32)   0           block_2_BN_1[0][0]               \n",
      "__________________________________________________________________________________________________\n",
      "block_2_conv_1 (Conv2D)         (None, 28, 28, 64)   18496       block_2_ReLU_1[0][0]             \n",
      "__________________________________________________________________________________________________\n",
      "block_2_BN_2 (BatchNormalizatio (None, 28, 28, 64)   256         block_2_conv_1[0][0]             \n",
      "__________________________________________________________________________________________________\n",
      "block_2_ReLU_2 (Activation)     (None, 28, 28, 64)   0           block_2_BN_2[0][0]               \n",
      "__________________________________________________________________________________________________\n",
      "conv2d_2 (Conv2D)               (None, 28, 28, 64)   2112        block_1_Add_1[0][0]              \n",
      "__________________________________________________________________________________________________\n",
      "block_2_conv_2 (Conv2D)         (None, 28, 28, 64)   36928       block_2_ReLU_2[0][0]             \n",
      "__________________________________________________________________________________________________\n",
      "block_2_Add_1 (Add)             (None, 28, 28, 64)   0           conv2d_2[0][0]                   \n",
      "                                                                 block_2_conv_2[0][0]             \n",
      "__________________________________________________________________________________________________\n",
      "block_3_BN_1 (BatchNormalizatio (None, 28, 28, 64)   256         block_2_Add_1[0][0]              \n",
      "__________________________________________________________________________________________________\n",
      "block_3_ReLU_1 (Activation)     (None, 28, 28, 64)   0           block_3_BN_1[0][0]               \n",
      "__________________________________________________________________________________________________\n",
      "block_3_conv_1 (Conv2D)         (None, 14, 14, 128)  73856       block_3_ReLU_1[0][0]             \n",
      "__________________________________________________________________________________________________\n",
      "block_3_BN_2 (BatchNormalizatio (None, 14, 14, 128)  512         block_3_conv_1[0][0]             \n",
      "__________________________________________________________________________________________________\n",
      "block_3_ReLU_2 (Activation)     (None, 14, 14, 128)  0           block_3_BN_2[0][0]               \n",
      "__________________________________________________________________________________________________\n",
      "conv2d_3 (Conv2D)               (None, 14, 14, 128)  8320        block_2_Add_1[0][0]              \n",
      "__________________________________________________________________________________________________\n",
      "block_3_conv_2 (Conv2D)         (None, 14, 14, 128)  147584      block_3_ReLU_2[0][0]             \n",
      "__________________________________________________________________________________________________\n",
      "block_3_Add_1 (Add)             (None, 14, 14, 128)  0           conv2d_3[0][0]                   \n",
      "                                                                 block_3_conv_2[0][0]             \n",
      "__________________________________________________________________________________________________\n",
      "block_4_BN_1 (BatchNormalizatio (None, 14, 14, 128)  512         block_3_Add_1[0][0]              \n",
      "__________________________________________________________________________________________________\n",
      "block_4_ReLU_1 (Activation)     (None, 14, 14, 128)  0           block_4_BN_1[0][0]               \n",
      "__________________________________________________________________________________________________\n",
      "block_4_conv_1 (Conv2D)         (None, 7, 7, 256)    295168      block_4_ReLU_1[0][0]             \n",
      "__________________________________________________________________________________________________\n",
      "block_4_BN_2 (BatchNormalizatio (None, 7, 7, 256)    1024        block_4_conv_1[0][0]             \n",
      "__________________________________________________________________________________________________\n",
      "block_4_ReLU_2 (Activation)     (None, 7, 7, 256)    0           block_4_BN_2[0][0]               \n",
      "__________________________________________________________________________________________________\n",
      "conv2d_4 (Conv2D)               (None, 7, 7, 256)    33024       block_3_Add_1[0][0]              \n",
      "__________________________________________________________________________________________________\n",
      "block_4_conv_2 (Conv2D)         (None, 7, 7, 256)    590080      block_4_ReLU_2[0][0]             \n",
      "__________________________________________________________________________________________________\n",
      "block_4_Add_1 (Add)             (None, 7, 7, 256)    0           conv2d_4[0][0]                   \n",
      "                                                                 block_4_conv_2[0][0]             \n",
      "__________________________________________________________________________________________________\n",
      "batch_normalization_1 (BatchNor (None, 7, 7, 256)    1024        block_4_Add_1[0][0]              \n",
      "__________________________________________________________________________________________________\n",
      "activation_1 (Activation)       (None, 7, 7, 256)    0           batch_normalization_1[0][0]      \n",
      "__________________________________________________________________________________________________\n",
      "average_pooling2d_1 (AveragePoo (None, 1, 1, 256)    0           activation_1[0][0]               \n",
      "__________________________________________________________________________________________________\n",
      "flatten_1 (Flatten)             (None, 256)          0           average_pooling2d_1[0][0]        \n",
      "__________________________________________________________________________________________________\n",
      "dense_1 (Dense)                 (None, 256)          65792       flatten_1[0][0]                  \n",
      "__________________________________________________________________________________________________\n",
      "enc_merge (Dense)               (None, 16)           4112        dense_1[0][0]                    \n",
      "__________________________________________________________________________________________________\n",
      "lambda_1 (Lambda)               [(None, 10), (None,  0           enc_merge[0][0]                  \n",
      "__________________________________________________________________________________________________\n",
      "class (Activation)              (None, 10)           0           lambda_1[0][0]                   \n",
      "__________________________________________________________________________________________________\n",
      "z_lat (Activation)              (None, 5)            0           lambda_1[0][1]                   \n",
      "__________________________________________________________________________________________________\n",
      "concatenate_1 (Concatenate)     (None, 15)           0           class[0][0]                      \n",
      "                                                                 z_lat[0][0]                      \n",
      "__________________________________________________________________________________________________\n",
      "G (Model)                       (None, 56, 56, 1)    67745       concatenate_1[0][0]              \n",
      "==================================================================================================\n",
      "Total params: 1,357,873\n",
      "Trainable params: 1,355,569\n",
      "Non-trainable params: 2,304\n",
      "__________________________________________________________________________________________________\n"
     ]
    }
   ],
   "source": [
    "trainer.model.summary()"
   ]
  },
  {
   "cell_type": "code",
   "execution_count": 8,
   "metadata": {},
   "outputs": [],
   "source": [
    "# trainer.build_model()\n",
    "trainer.compile_model()\n",
    "# trainer.G.summary()"
   ]
  },
  {
   "cell_type": "code",
   "execution_count": 9,
   "metadata": {},
   "outputs": [
    {
     "data": {
      "text/plain": [
       "(10000, 56, 56, 1)"
      ]
     },
     "execution_count": 9,
     "metadata": {},
     "output_type": "execute_result"
    }
   ],
   "source": [
    "DL.sx_test.shape"
   ]
  },
  {
   "cell_type": "code",
   "execution_count": 10,
   "metadata": {},
   "outputs": [],
   "source": [
    "val_pct = 0.05\n",
    "val_idxs = np.random.choice(np.arange(10000),int(val_pct*60000),replace=False)\n",
    "validation_set = (DL.sx_test[val_idxs],\n",
    "                  {'class':DL.y_test_oh[val_idxs],\n",
    "                   'G':DL.sx_test[val_idxs]}\n",
    "                 )"
   ]
  },
  {
   "cell_type": "code",
   "execution_count": 11,
   "metadata": {},
   "outputs": [
    {
     "name": "stdout",
     "output_type": "stream",
     "text": [
      "generating train_sx_corr...\n"
     ]
    },
    {
     "name": "stderr",
     "output_type": "stream",
     "text": [
      "100%|██████████| 72000/72000 [00:02<00:00, 26670.50it/s]\n"
     ]
    }
   ],
   "source": [
    "if config.label_corruption >= 0.1:\n",
    "    # Load corrupted Labels\n",
    "    y_tr_corr = np.load('../data/fashion_mnist_corrupted_labels/y_train_{}.npy'.format(config.label_corruption))\n",
    "    y_tr_corr = upsample_dataset(y_tr_corr,180000-60000)\n",
    "    y_corr_idxs = np.load('../data/fashion_mnist_corrupted_labels/corrupted_idxs_{}.npy'.format(config.label_corruption))\n",
    "    y_corr_idxs = np.concatenate([y_corr_idxs,(y_corr_idxs+60000),y_corr_idxs+120000],axis=0)\n",
    "    y_corrupted_oh = to_categorical(y_tr_corr,num_classes=10)\n",
    "    y = y_corrupted_oh\n",
    "    DL.gen_corrupted_shift_image(y_corr_idxs,y_tr_corr)\n",
    "else:\n",
    "    y = DL.y_train_oh"
   ]
  },
  {
   "cell_type": "code",
   "execution_count": null,
   "metadata": {},
   "outputs": [
    {
     "name": "stdout",
     "output_type": "stream",
     "text": [
      "Epoch        G_loss      val_G_loss  class_acc   val_class_acc\n",
      "0:           82.1908     66.529      0.0988      0.143       \n",
      "1:           61.6802     43.036      0.1923      0.356       \n",
      "2:           59.2162     42.4801     0.2787      0.449       \n",
      "3:           57.7836     59.887      0.3241      0.3997      \n",
      "4:           56.8085     49.8552     0.342       0.423       \n",
      "5:           56.1196     51.0646     0.3531      0.4247      \n",
      "6:           55.6666     46.7509     0.366       0.4427      \n",
      "7:           57.2141     64.5182     0.3482      0.2483      \n",
      "8:           54.944      62.2844     0.3722      0.241       \n"
     ]
    }
   ],
   "source": [
    "trainer.go(x=DL.sx_train,\n",
    "           y={\n",
    "               'class':y,\n",
    "#                'D_real':RF,\n",
    "               'G':DL.sx_train_corrupted},\n",
    "#            validation_split=0.05,\n",
    "           shuffle=True,\n",
    "           validation_data=validation_set,\n",
    "           verbose=0)"
   ]
  },
  {
   "cell_type": "code",
   "execution_count": null,
   "metadata": {},
   "outputs": [],
   "source": [
    "DL.sx_train.shape"
   ]
  },
  {
   "cell_type": "code",
   "execution_count": null,
   "metadata": {},
   "outputs": [],
   "source": [
    "hist_df = pd.DataFrame.from_records(trainer.model.history.history)\n",
    "hist_df.head()"
   ]
  },
  {
   "cell_type": "code",
   "execution_count": null,
   "metadata": {},
   "outputs": [],
   "source": [
    "sns.set_context('paper')\n",
    "metrics = ['loss','G_loss','class_acc']\n",
    "fig,axs = plt.subplots(nrows=len(metrics),sharex=True,figsize=(10,10))\n",
    "for metric_name,ax in zip(metrics,axs):\n",
    "    sns.scatterplot(data=hist_df[[metric_name,'val_'+metric_name]],ax=ax)"
   ]
  },
  {
   "cell_type": "code",
   "execution_count": null,
   "metadata": {},
   "outputs": [],
   "source": [
    "hist_df['generalization_error'] = hist_df.val_loss - hist_df.loss\n",
    "hist_df['G_generalization_error'] = hist_df.val_G_loss - hist_df.G_loss\n",
    "hist_df['class_generalization_error'] = hist_df.val_class_loss - hist_df.class_loss"
   ]
  },
  {
   "cell_type": "code",
   "execution_count": null,
   "metadata": {},
   "outputs": [],
   "source": [
    "sns.lineplot(data=hist_df[['class_generalization_error']])\n",
    "# plt.yscale('log')"
   ]
  },
  {
   "cell_type": "code",
   "execution_count": null,
   "metadata": {},
   "outputs": [],
   "source": []
  },
  {
   "cell_type": "code",
   "execution_count": null,
   "metadata": {},
   "outputs": [],
   "source": [
    "import datetime as dt\n",
    "def clean_config(config,keys=['dev_mode','log_dir','log_level','proj_root']):\n",
    "    c = vars(config)\n",
    "    for k in keys:\n",
    "        if k in c.keys():\n",
    "            del c[k]\n",
    "    \n",
    "    c['uploaded_by']='elijahc'\n",
    "    c['last_updated']= str(dt.datetime.now())\n",
    "    return c"
   ]
  },
  {
   "cell_type": "code",
   "execution_count": null,
   "metadata": {},
   "outputs": [],
   "source": [
    "run_meta = clean_config(config)\n",
    "run_meta['project']='vae'\n",
    "# run_meta['ecc_max']=0.8\n",
    "run_meta"
   ]
  },
  {
   "cell_type": "code",
   "execution_count": null,
   "metadata": {},
   "outputs": [],
   "source": []
  },
  {
   "cell_type": "code",
   "execution_count": null,
   "metadata": {},
   "outputs": [],
   "source": [
    "trainer.save_model()\n",
    "run_conf = clean_config(config)\n",
    "\n",
    "with open(os.path.join(run_conf['model_dir'],'config.json'), 'w') as fp:\n",
    "    json.dump(run_conf, fp)\n",
    "\n",
    "hist_df.to_parquet(os.path.join(run_conf['model_dir'],'train_history.parquet'))"
   ]
  },
  {
   "cell_type": "code",
   "execution_count": null,
   "metadata": {},
   "outputs": [],
   "source": [
    "generator = trainer.G"
   ]
  },
  {
   "cell_type": "code",
   "execution_count": null,
   "metadata": {},
   "outputs": [],
   "source": [
    "trainer.E.summary()"
   ]
  },
  {
   "cell_type": "code",
   "execution_count": null,
   "metadata": {},
   "outputs": [],
   "source": [
    "trainer.model.get_layer(name='dense_1').output"
   ]
  },
  {
   "cell_type": "code",
   "execution_count": null,
   "metadata": {},
   "outputs": [],
   "source": [
    "z_encoder = Model(trainer.input,trainer.z_lat)\n",
    "classifier = Model(trainer.input,trainer.y_class)\n",
    "\n",
    "l1_encoder = Model(trainer.input,trainer.model.get_layer(name='dense_1').output)\n",
    "l2_encoder = Model(trainer.input,trainer.model.get_layer(name='dense_2').output)"
   ]
  },
  {
   "cell_type": "code",
   "execution_count": null,
   "metadata": {},
   "outputs": [],
   "source": [
    "mod = trainer.model"
   ]
  },
  {
   "cell_type": "code",
   "execution_count": null,
   "metadata": {},
   "outputs": [],
   "source": [
    "mod.summary()"
   ]
  },
  {
   "cell_type": "code",
   "execution_count": null,
   "metadata": {},
   "outputs": [],
   "source": [
    "def get_weight_grad(model, inputs, outputs):\n",
    "    \"\"\" Gets gradient of model for given inputs and outputs for all weights\"\"\"\n",
    "    grads = model.optimizer.get_gradients(model.total_loss, model.trainable_weights)\n",
    "    symb_inputs = (model._feed_inputs + model._feed_targets + model._feed_sample_weights)\n",
    "    f = K.function(symb_inputs, grads)\n",
    "    x, y, sample_weight = model._standardize_user_data(inputs, outputs)\n",
    "    output_grad = f(x + y + sample_weight)\n",
    "    return output_grad"
   ]
  },
  {
   "cell_type": "code",
   "execution_count": null,
   "metadata": {},
   "outputs": [],
   "source": [
    "classifier.summary()"
   ]
  },
  {
   "cell_type": "code",
   "execution_count": null,
   "metadata": {},
   "outputs": [],
   "source": [
    "DL.y_test_oh.shape"
   ]
  },
  {
   "cell_type": "code",
   "execution_count": null,
   "metadata": {},
   "outputs": [],
   "source": [
    "classifier.compile(loss='categorical_crossentropy',optimizer='adam',metrics=['acc'])\n",
    "res = classifier.evaluate(DL.sx_test,DL.y_test_oh,batch_size=config.batch_size)\n",
    "ts_error = 1-res[1]\n",
    "print(res[1])\n",
    "df = pd.DataFrame.from_records({'test_acc':[res[1]],\n",
    "                                'label_corruption':[config.label_corruption],\n",
    "                                'recon':[config.recon],\n",
    "                                'xent':[config.xent],\n",
    "                                'ecc_max':[config.ecc_max],\n",
    "                                'xcov': [config.xcov]})\n",
    "df.to_json(os.path.join(config.model_dir,'performance.json'))"
   ]
  },
  {
   "cell_type": "code",
   "execution_count": null,
   "metadata": {},
   "outputs": [],
   "source": [
    "l1_enc = l1_encoder.predict(DL.sx_test,batch_size=config.batch_size)\n",
    "l2_enc = l2_encoder.predict(DL.sx_test,batch_size=config.batch_size)\n",
    "\n",
    "z_enc = z_encoder.predict(DL.sx_test,batch_size=config.batch_size)\n",
    "# y_lat = y_lat_encoder.predict(DL.sx_test,batch_size=config.batch_size)\n",
    "y_enc = classifier.predict(DL.sx_test,batch_size=config.batch_size)"
   ]
  },
  {
   "cell_type": "code",
   "execution_count": null,
   "metadata": {},
   "outputs": [],
   "source": [
    "z_enc_tr = z_encoder.predict(DL.sx_train,batch_size=config.batch_size)\n",
    "# y_lat = y_lat_encoder.predict(DL.sx_test,batch_size=config.batch_size)\n",
    "y_enc_tr = classifier.predict(DL.sx_train,batch_size=config.batch_size)"
   ]
  },
  {
   "cell_type": "code",
   "execution_count": null,
   "metadata": {},
   "outputs": [],
   "source": [
    "np.save(os.path.join(config.model_dir,'z_enc'),z_enc)\n",
    "np.save(os.path.join(config.model_dir,'l1_enc'),l1_enc)\n",
    "np.save(os.path.join(config.model_dir,'l2_enc'),l2_enc)\n",
    "np.save(os.path.join(config.model_dir,'y_enc'),y_enc)"
   ]
  },
  {
   "cell_type": "code",
   "execution_count": null,
   "metadata": {},
   "outputs": [],
   "source": [
    "l2_enc.shape"
   ]
  },
  {
   "cell_type": "code",
   "execution_count": null,
   "metadata": {},
   "outputs": [],
   "source": [
    "_lat_vec = np.concatenate([y_enc,z_enc],axis=1)\n",
    "_lat_vec.shape"
   ]
  },
  {
   "cell_type": "code",
   "execution_count": null,
   "metadata": {},
   "outputs": [],
   "source": [
    "z_enc_mu = np.mean(z_enc,axis=0)\n",
    "z_enc_cov = np.cov(z_enc,rowvar=False)"
   ]
  },
  {
   "cell_type": "code",
   "execution_count": null,
   "metadata": {},
   "outputs": [],
   "source": [
    "np.random.multivariate_normal(z_enc_mu,z_enc_cov,size=50).shape"
   ]
  },
  {
   "cell_type": "code",
   "execution_count": null,
   "metadata": {},
   "outputs": [],
   "source": [
    "regen = generator.predict(_lat_vec,batch_size=config.batch_size)"
   ]
  },
  {
   "cell_type": "code",
   "execution_count": null,
   "metadata": {},
   "outputs": [],
   "source": [
    "rand_im = np.random.randint(0,10000)\n",
    "plt.imshow(regen[rand_im].reshape(56,56),cmap='gray')"
   ]
  },
  {
   "cell_type": "code",
   "execution_count": null,
   "metadata": {},
   "outputs": [],
   "source": [
    "_lat_vec[rand_im]"
   ]
  },
  {
   "cell_type": "code",
   "execution_count": null,
   "metadata": {},
   "outputs": [],
   "source": [
    "DL2 = Shifted_Data_Loader(dataset=config.dataset,flatten=True,\n",
    "                         rotation=None,\n",
    "                         translation=translation_amt,\n",
    "                        )"
   ]
  },
  {
   "cell_type": "code",
   "execution_count": null,
   "metadata": {},
   "outputs": [],
   "source": [
    "enc_dec_samples(DL.x_train,DL.sx_train,z_enc_tr,y_enc_tr,generator)"
   ]
  },
  {
   "cell_type": "code",
   "execution_count": null,
   "metadata": {},
   "outputs": [],
   "source": [
    "enc_dec_samples(DL.x_test,DL.sx_test,z_enc,y_enc,generator)"
   ]
  },
  {
   "cell_type": "code",
   "execution_count": null,
   "metadata": {},
   "outputs": [],
   "source": [
    "z_enc2 = z_encoder.predict(DL2.sx_test,batch_size=config.batch_size)\n",
    "y_lat2 = classifier.predict(DL2.sx_test,batch_size=config.batch_size)\n",
    "_lat_vec2 = np.concatenate([y_lat2,z_enc2],axis=1)\n",
    "regen2 = generator.predict(_lat_vec2,batch_size=config.batch_size)"
   ]
  },
  {
   "cell_type": "code",
   "execution_count": null,
   "metadata": {},
   "outputs": [],
   "source": [
    "from src.plot import remove_axes,remove_labels\n",
    "from src.utils import gen_trajectory"
   ]
  },
  {
   "cell_type": "code",
   "execution_count": null,
   "metadata": {},
   "outputs": [],
   "source": [
    "examples = 5\n",
    "rand_im = np.random.randint(0,10000,size=examples)\n",
    "fix,axs = plt.subplots(examples,11,figsize=(8,4))\n",
    "_lat_s = []\n",
    "regen_s = []\n",
    "out = gen_trajectory(z_enc[rand_im],z_enc2[rand_im],delta=.25)\n",
    "out_y = gen_trajectory(y_enc[rand_im],y_lat2[rand_im],delta=.25)\n",
    "\n",
    "for z,y in zip(out,out_y):\n",
    "    _lat = np.concatenate([y,z],axis=1)\n",
    "    _lat_s.append(_lat)\n",
    "    regen_s.append(generator.predict(_lat,batch_size=config.batch_size))\n",
    "\n",
    "i=0\n",
    "for axr,idx in zip(axs,rand_im):\n",
    "    axr[0].imshow(DL.x_test[idx].reshape(28,28),cmap='gray')\n",
    "    axr[1].imshow(DL.sx_test[idx].reshape(56,56),cmap='gray')\n",
    "    axr[2].imshow(regen[idx].reshape(56,56),cmap='gray')\n",
    "    for j,a in enumerate(axr[3:-3]):\n",
    "        a.imshow(regen_s[j][i,:].reshape(56,56),cmap='gray')\n",
    "#         a.imshow(s.reshape(56,56),cmap='gray')\n",
    "    axr[-3].imshow(regen2[idx].reshape(56,56),cmap='gray')\n",
    "    axr[-2].imshow(DL2.sx_test[idx].reshape(56,56),cmap='gray')\n",
    "    axr[-1].imshow(DL2.x_test[idx].reshape(28,28),cmap='gray')\n",
    "    for a in axr:\n",
    "        remove_axes(a)\n",
    "        remove_labels(a)\n",
    "    i+=1\n",
    "# plt.imshow(regen[rand_im].reshape(56,56),cmap='gray')"
   ]
  },
  {
   "cell_type": "code",
   "execution_count": null,
   "metadata": {},
   "outputs": [],
   "source": [
    "# fix.savefig('../../updates/2019-02-05/assets/img/translocate_{}.png'.format(translation_amt))"
   ]
  },
  {
   "cell_type": "code",
   "execution_count": null,
   "metadata": {},
   "outputs": [],
   "source": [
    "fdjsakl;fdsa"
   ]
  },
  {
   "cell_type": "code",
   "execution_count": null,
   "metadata": {},
   "outputs": [],
   "source": [
    "dxs = DL.dx[1]-14\n",
    "dys = DL.dy[1]-14"
   ]
  },
  {
   "cell_type": "code",
   "execution_count": null,
   "metadata": {},
   "outputs": [],
   "source": [
    "from sklearn.preprocessing import MinMaxScaler\n",
    "\n",
    "feat_range = (0,30)\n",
    "z_enc_scaled = [MinMaxScaler(feat_range).fit_transform(z_enc[:,i].reshape(-1,1)).tolist() for i in np.arange(25)]\n",
    "z_enc_scaled = np.squeeze(np.array(z_enc_scaled,dtype=int))"
   ]
  },
  {
   "cell_type": "code",
   "execution_count": null,
   "metadata": {},
   "outputs": [],
   "source": [
    "l2_enc_scaled = [MinMaxScaler(feat_range).fit_transform(l2_enc[:,i].reshape(-1,1)).tolist() for i in np.arange(2000)]\n",
    "l2_enc_scaled = np.squeeze(np.array(l2_enc_scaled,dtype=int))"
   ]
  },
  {
   "cell_type": "code",
   "execution_count": null,
   "metadata": {},
   "outputs": [],
   "source": [
    "l2_enc_scaled.shape"
   ]
  },
  {
   "cell_type": "code",
   "execution_count": null,
   "metadata": {},
   "outputs": [],
   "source": [
    "from collections import Counter\n",
    "import dit\n",
    "from dit import Distribution\n",
    "\n",
    "def mutual_information(X,Y):\n",
    "    XY_c = Counter(zip(X,Y))\n",
    "    XY_pmf = {k:v/float(sum(XY_c.values())) for k,v in XY_c.items()}\n",
    "    XY_jdist = Distribution(XY_pmf)\n",
    "        \n",
    "    return dit.shannon.mutual_information(XY_jdist,[0],[1])"
   ]
  },
  {
   "cell_type": "code",
   "execution_count": null,
   "metadata": {},
   "outputs": [],
   "source": [
    "z_dx_I = [mutual_information(z_enc_scaled[i],dxs.astype(int)+14) for i in np.arange(25)]\n",
    "l2_dx_I = [mutual_information(l2_enc_scaled[i],dxs.astype(int)+14) for i in np.arange(2000)]"
   ]
  },
  {
   "cell_type": "code",
   "execution_count": null,
   "metadata": {},
   "outputs": [],
   "source": [
    "z_dy_I = [mutual_information(z_enc_scaled[i],dys.astype(int)+14) for i in np.arange(25)]\n",
    "l2_dy_I = [mutual_information(l2_enc_scaled[i],dys.astype(int)+14) for i in np.arange(2000)]"
   ]
  },
  {
   "cell_type": "code",
   "execution_count": null,
   "metadata": {},
   "outputs": [],
   "source": [
    "z_class_I = [mutual_information(z_enc_scaled[i],DL.y_test) for i in np.arange(25)]\n",
    "l2_class_I = [mutual_information(l2_enc_scaled[i],DL.y_test) for i in np.arange(2000)]"
   ]
  },
  {
   "cell_type": "code",
   "execution_count": null,
   "metadata": {},
   "outputs": [],
   "source": [
    "z_I_df = pd.DataFrame.from_records({'class':z_class_I,'dy':z_dy_I,'dx':z_dx_I})\n",
    "z_I_df['class'] = z_I_df['class'].values.round(decimals=1)"
   ]
  },
  {
   "cell_type": "code",
   "execution_count": null,
   "metadata": {},
   "outputs": [],
   "source": [
    "l2_I_df = pd.DataFrame.from_records({\n",
    "    'class':l2_class_I,\n",
    "    'dy':l2_dy_I,\n",
    "    'dx':l2_dx_I})\n",
    "l2_I_df['class'] = l2_I_df['class'].values.round(decimals=1)"
   ]
  },
  {
   "cell_type": "code",
   "execution_count": null,
   "metadata": {},
   "outputs": [],
   "source": [
    "l2_I_df.head()"
   ]
  },
  {
   "cell_type": "code",
   "execution_count": null,
   "metadata": {},
   "outputs": [],
   "source": [
    "plt.hist(l2_I_df.dx)"
   ]
  },
  {
   "cell_type": "code",
   "execution_count": null,
   "metadata": {},
   "outputs": [],
   "source": [
    "plt.hist(z_I_df.dx)"
   ]
  },
  {
   "cell_type": "code",
   "execution_count": null,
   "metadata": {},
   "outputs": [],
   "source": [
    "config.translation_amt = translation_amt\n",
    "config.translation_amt"
   ]
  },
  {
   "cell_type": "code",
   "execution_count": null,
   "metadata": {},
   "outputs": [],
   "source": [
    "dir_path = '../data/xcov_importance/dist_{}/'.format(translation_amt)\n",
    "\n",
    "z_I_df.to_pickle('../data/xcov_importance/dist_{}/z_mutual_info.pk'.format(translation_amt))\n",
    "np.save('../data/xcov_importance/dist_{}/dxs'.format(translation_amt), DL.dx[1]-14)\n",
    "np.save('../data/xcov_importance/dist_{}/dys'.format(translation_amt), DL.dy[1]-14)\n",
    "np.save('../data/xcov_importance/dist_{}/z_enc'.format(translation_amt), z_enc)\n",
    "\n",
    "hist_df.to_pickle(os.path.join(dir_path,'training_hist.df'))\n",
    "\n",
    "with open(os.path.join(dir_path,'config.json'), 'w') as fp:\n",
    "        json.dump(vars(config), fp)"
   ]
  },
  {
   "cell_type": "code",
   "execution_count": null,
   "metadata": {},
   "outputs": [],
   "source": []
  },
  {
   "cell_type": "code",
   "execution_count": null,
   "metadata": {},
   "outputs": [],
   "source": [
    "def filter_by_weight(wts,thresh=0.01):\n",
    "    idxs = np.abs(wts)>thresh\n",
    "    return idxs"
   ]
  },
  {
   "cell_type": "code",
   "execution_count": null,
   "metadata": {},
   "outputs": [],
   "source": [
    "dx_max = np.argmax(z_I_df.dx.values)\n",
    "dy_max = np.argmax(z_I_df.dy.values)"
   ]
  },
  {
   "cell_type": "code",
   "execution_count": null,
   "metadata": {},
   "outputs": [],
   "source": []
  },
  {
   "cell_type": "code",
   "execution_count": null,
   "metadata": {},
   "outputs": [],
   "source": [
    "t = 0.05\n",
    "dx_filt = filter_by_weight(z_w_k[:,dx_max],thresh=t)\n",
    "dy_filt = filter_by_weight(z_w_k[:,dy_max],thresh=t)\n",
    "union = np.union1d(np.where(dx_filt==True),np.where(dy_filt==True))\n",
    "intersect = np.intersect1d(np.where(dx_filt==True),np.where(dy_filt==True))\n",
    "# filt = np.array([False]*2000)\n",
    "# filt[union] = True\n",
    "\n",
    "sns.set_context('talk')\n",
    "fig,axs = plt.subplots(1,2,figsize=(6*2,5))\n",
    "\n",
    "filt = dy_filt\n",
    "print('num: ',len(union))\n",
    "print('intersect_frac: ',float(len(intersect))/len(union))\n",
    "print('mean dx_I: ',l2_I_df.dx[filt].mean())\n",
    "print('mean dy_I: ',l2_I_df.dy[filt].mean())\n",
    "points = axs[0].scatter(x=l2_I_df['dx'],y=l2_I_df['dy'],\n",
    "                        c=l2_I_df['class'],cmap='viridis',vmin=0,vmax=0.4,s=z_I_df['class']*100\n",
    "                       )\n",
    "plt.colorbar(points)\n",
    "points = axs[1].scatter(x=z_I_df['dx'],y=z_I_df['dy'],c=z_I_df['class'],cmap='viridis',s=z_I_df['class']*100,vmin=0,vmax=0.4)\n",
    "# plt.colorbar(points)\n",
    "axs[0].set_ylim(0,0.9)\n",
    "axs[0].set_xlim(0,0.9)\n",
    "axs[1].set_ylim(0,0.9)\n",
    "axs[1].set_xlim(0,0.9)"
   ]
  },
  {
   "cell_type": "code",
   "execution_count": null,
   "metadata": {},
   "outputs": [],
   "source": [
    "fig,ax = plt.subplots(1,1,figsize=(5,5))\n",
    "ax.scatter(z_dx_I,z_dy_I)\n",
    "# ax.set_ylim(0,0.8)\n",
    "# ax.set_xlim(0,0.8)"
   ]
  },
  {
   "cell_type": "code",
   "execution_count": null,
   "metadata": {},
   "outputs": [],
   "source": []
  },
  {
   "cell_type": "code",
   "execution_count": null,
   "metadata": {},
   "outputs": [],
   "source": [
    "plt.scatter(np.arange(25),sorted(z_class_I,reverse=True))\n",
    "# plt.scatter(np.arange(25),z_dx_I)\n",
    "# plt.scatter(np.arange(25),z_dy_I)"
   ]
  },
  {
   "cell_type": "code",
   "execution_count": null,
   "metadata": {},
   "outputs": [],
   "source": [
    "from src.metrics import var_expl,norm_var_expl\n",
    "from collections import Counter\n",
    "\n",
    "dtheta = DL.dtheta[1]\n",
    "fve_dx = norm_var_expl(features=z_enc,cond=dxs,bins=21)\n",
    "fve_dy = norm_var_expl(features=z_enc,cond=dys,bins=21)\n",
    "fve_class = norm_var_expl(features=z_enc, cond=DL.y_test, bins=21)\n",
    "# fve_dt = norm_var_expl(features=z_enc,cond=dtheta,bins=21)"
   ]
  },
  {
   "cell_type": "code",
   "execution_count": null,
   "metadata": {},
   "outputs": [],
   "source": [
    "# fve_dx_norm = (dxs.var()-fve_dx)/dxs.var()\n",
    "# fve_dy_norm = (dys.var()-fve_dy)/dys.var()\n",
    "# fve_dth_norm = (dtheta.var()-fve_dt)/dtheta.var()\n",
    "fve_dx_norm = fve_dx\n",
    "fve_dy_norm = fve_dy"
   ]
  },
  {
   "cell_type": "code",
   "execution_count": null,
   "metadata": {},
   "outputs": [],
   "source": [
    "import seaborn as sns\n",
    "sns.set_context('talk')"
   ]
  },
  {
   "cell_type": "code",
   "execution_count": null,
   "metadata": {},
   "outputs": [],
   "source": [
    "fve_dx_norm.shape\n",
    "# np.save(os.path.join(config.model_dir,'fve_dx_norm'),fve_dx_norm)"
   ]
  },
  {
   "cell_type": "code",
   "execution_count": null,
   "metadata": {},
   "outputs": [],
   "source": [
    "fig,ax = plt.subplots(1,1,figsize=(5,5))\n",
    "plt.scatter(fve_dx_norm.mean(axis=0),fve_dy_norm.mean(axis=0))\n",
    "plt.xlabel('fve_dx')\n",
    "plt.ylabel('fve_dy')\n",
    "plt.tight_layout()\n",
    "# plt.savefig(os.path.join(config.model_dir,'fve_dx.png'))\n",
    "# plt.ylim(-0.125,0.25)\n",
    "xdim = np.argmax(fve_dx_norm.mean(axis=0))"
   ]
  },
  {
   "cell_type": "code",
   "execution_count": null,
   "metadata": {},
   "outputs": [],
   "source": [
    "fve_dy_norm.mean(axis=0)\n",
    "# np.save(os.path.join(config.model_dir,'fve_dy_norm'),fve_dy_norm)"
   ]
  },
  {
   "cell_type": "code",
   "execution_count": null,
   "metadata": {},
   "outputs": [],
   "source": [
    "plt.scatter(np.arange(config.z_dim),fve_dy_norm.mean(axis=0))\n",
    "plt.xlabel('Z_n')\n",
    "plt.ylabel('fve_dy')\n",
    "plt.tight_layout()\n",
    "# plt.savefig(os.path.join(config.model_dir,'fve_dy.png'))\n",
    "# plt.ylim(-0.125,0.25)\n",
    "ydim = np.argmax(fve_dy_norm.mean(axis=0))"
   ]
  },
  {
   "cell_type": "code",
   "execution_count": null,
   "metadata": {},
   "outputs": [],
   "source": [
    "plt.scatter(np.arange(config.z_dim),fve_class.mean(axis=0))\n",
    "plt.xlabel('Z_n')\n",
    "plt.ylabel('fve_class')\n",
    "# plt.ylim(0.0,0.5)\n",
    "np.argmax(fve_class.mean(axis=0))"
   ]
  },
  {
   "cell_type": "code",
   "execution_count": null,
   "metadata": {},
   "outputs": [],
   "source": [
    "from src.plot import Z_color_scatter\n",
    "Z_color_scatter(z_enc,[xdim,ydim],dxs)"
   ]
  },
  {
   "cell_type": "code",
   "execution_count": null,
   "metadata": {},
   "outputs": [],
   "source": [
    "Z_color_scatter(z_enc,[xdim,ydim],dys)"
   ]
  },
  {
   "cell_type": "code",
   "execution_count": null,
   "metadata": {},
   "outputs": [],
   "source": [
    "Z_color_scatter(z_enc,[7,18],dtheta)"
   ]
  },
  {
   "cell_type": "code",
   "execution_count": null,
   "metadata": {},
   "outputs": [],
   "source": [
    "from plt."
   ]
  },
  {
   "cell_type": "code",
   "execution_count": null,
   "metadata": {},
   "outputs": [],
   "source": []
  }
 ],
 "metadata": {
  "kernelspec": {
   "display_name": "Py3-GPU (Python3.5.2)",
   "language": "python",
   "name": "py3-gpu"
  },
  "language_info": {
   "codemirror_mode": {
    "name": "ipython",
    "version": 3
   },
   "file_extension": ".py",
   "mimetype": "text/x-python",
   "name": "python",
   "nbconvert_exporter": "python",
   "pygments_lexer": "ipython3",
   "version": "3.5.2"
  }
 },
 "nbformat": 4,
 "nbformat_minor": 2
}
