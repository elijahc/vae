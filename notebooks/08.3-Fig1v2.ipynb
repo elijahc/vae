{
 "cells": [
  {
   "cell_type": "code",
   "execution_count": 1,
   "metadata": {},
   "outputs": [
    {
     "name": "stderr",
     "output_type": "stream",
     "text": [
      "Using TensorFlow backend.\n"
     ]
    }
   ],
   "source": [
    "import os\n",
    "import random\n",
    "import json\n",
    "import hashlib\n",
    "import numpy as np\n",
    "import pandas as pd\n",
    "import xarray\n",
    "import neptune\n",
    "import matplotlib.pyplot as plt\n",
    "import seaborn as sns\n",
    "from keras.models import Model\n",
    "from tqdm import tqdm as tqdm\n",
    "import multiprocessing as mp\n",
    "\n",
    "from sklearn.linear_model import LinearRegression,Ridge,RidgeCV\n",
    "\n",
    "import brainscore\n",
    "from brainscore.assemblies import walk_coords,split_assembly\n",
    "from brainscore.assemblies import split_assembly\n",
    "from brainscore.metrics import Score\n",
    "\n",
    "from brainio_base.assemblies import DataAssembly\n",
    "\n",
    "from scipy.stats import pearsonr\n",
    "\n",
    "from src.results.experiments import _DateExperimentLoader\n",
    "from src.results.utils import raw_to_xr, dprime\n",
    "from src.results.neptune import get_model_files, load_models, load_assemblies, load_params, load_properties,prep_assemblies\n",
    "from src.results.dicarlo import get_dicarlo_su\n",
    "from src.data_loader import Shifted_Data_Loader\n",
    "\n",
    "def set_style(ctx='talk', font_scale=2):\n",
    "    # This sets reasonable defaults for font size for\n",
    "    # a figure that will go in a paper\n",
    "    sns.set_context(ctx)\n",
    "    \n",
    "    # Set the font to be serif, rather than sans\n",
    "    sns.set(font='sans-serif',font_scale=font_scale)\n",
    "        \n",
    "    # Make the background white, and specify the\n",
    "    # specific font family\n",
    "    sns.set_style(\"white\", {\n",
    "        \"font.family\": \"sans-serif\",\n",
    "        \"font.serif\": [\"Helvetica\",\"sans-serif\"]\n",
    "    })"
   ]
  },
  {
   "cell_type": "code",
   "execution_count": 2,
   "metadata": {},
   "outputs": [
    {
     "data": {
      "text/plain": [
       "Project(elijahc/DuplexAE)"
      ]
     },
     "execution_count": 2,
     "metadata": {},
     "output_type": "execute_result"
    }
   ],
   "source": [
    "os.environ['NEPTUNE_API_TOKEN']=\"eyJhcGlfYWRkcmVzcyI6Imh0dHBzOi8vdWkubmVwdHVuZS5tbCIsImFwaV9rZXkiOiI3ZWExMTlmYS02ZTE2LTQ4ZTktOGMxMi0wMDJiZTljOWYyNDUifQ==\"\n",
    "neptune.init('elijahc/DuplexAE')\n",
    "neptune.set_project('elijahc/DuplexAE')"
   ]
  },
  {
   "cell_type": "code",
   "execution_count": 3,
   "metadata": {},
   "outputs": [],
   "source": [
    "proj_root = '/home/elijahc/projects/vae'"
   ]
  },
  {
   "cell_type": "code",
   "execution_count": 4,
   "metadata": {},
   "outputs": [],
   "source": [
    "def load_config(exps):\n",
    "    props = load_properties(exps)\n",
    "    params = load_params(exps)\n",
    "    ids = [e.id for e in exps]\n",
    "    for eid,pr,pa in zip(ids,props,params):\n",
    "        out = {'id':eid}\n",
    "        out.update(pr)\n",
    "        out.update(pa)\n",
    "        out['exp_dir']=os.path.join(proj_root,pr['dir'])\n",
    "        yield out"
   ]
  },
  {
   "cell_type": "code",
   "execution_count": 5,
   "metadata": {},
   "outputs": [
    {
     "data": {
      "text/html": [
       "<div>\n",
       "<style scoped>\n",
       "    .dataframe tbody tr th:only-of-type {\n",
       "        vertical-align: middle;\n",
       "    }\n",
       "\n",
       "    .dataframe tbody tr th {\n",
       "        vertical-align: top;\n",
       "    }\n",
       "\n",
       "    .dataframe thead th {\n",
       "        text-align: right;\n",
       "    }\n",
       "</style>\n",
       "<table border=\"1\" class=\"dataframe\">\n",
       "  <thead>\n",
       "    <tr style=\"text-align: right;\">\n",
       "      <th></th>\n",
       "      <th>augmentation</th>\n",
       "      <th>batch_sz</th>\n",
       "      <th>bg</th>\n",
       "      <th>bg_contrast</th>\n",
       "      <th>dataset</th>\n",
       "      <th>dir</th>\n",
       "      <th>encoder_arch</th>\n",
       "      <th>exp_dir</th>\n",
       "      <th>generator_arch</th>\n",
       "      <th>id</th>\n",
       "      <th>im_translation</th>\n",
       "      <th>n_epochs</th>\n",
       "      <th>recon_weight</th>\n",
       "      <th>rotation</th>\n",
       "      <th>xent_weight</th>\n",
       "      <th>y_dim</th>\n",
       "      <th>z_dim</th>\n",
       "    </tr>\n",
       "  </thead>\n",
       "  <tbody>\n",
       "    <tr>\n",
       "      <th>0</th>\n",
       "      <td>dynamic</td>\n",
       "      <td>256.0</td>\n",
       "      <td>natural</td>\n",
       "      <td>0.5</td>\n",
       "      <td>fashion_mnist</td>\n",
       "      <td>models/2020-05-28/DPX-64</td>\n",
       "      <td>convnet</td>\n",
       "      <td>/home/elijahc/projects/vae/models/2020-05-28/D...</td>\n",
       "      <td>resnet</td>\n",
       "      <td>DPX-64</td>\n",
       "      <td>0.75</td>\n",
       "      <td>90000.0</td>\n",
       "      <td>1.0</td>\n",
       "      <td>0.3</td>\n",
       "      <td>15.0</td>\n",
       "      <td>500.0</td>\n",
       "      <td>0.0</td>\n",
       "    </tr>\n",
       "    <tr>\n",
       "      <th>1</th>\n",
       "      <td>dynamic</td>\n",
       "      <td>256.0</td>\n",
       "      <td>natural</td>\n",
       "      <td>0.5</td>\n",
       "      <td>fashion_mnist</td>\n",
       "      <td>models/2020-05-28/DPX-65</td>\n",
       "      <td>convnet</td>\n",
       "      <td>/home/elijahc/projects/vae/models/2020-05-28/D...</td>\n",
       "      <td>N/A</td>\n",
       "      <td>DPX-65</td>\n",
       "      <td>0.75</td>\n",
       "      <td>180000.0</td>\n",
       "      <td>0.0</td>\n",
       "      <td>0.3</td>\n",
       "      <td>15.0</td>\n",
       "      <td>500.0</td>\n",
       "      <td>0.0</td>\n",
       "    </tr>\n",
       "    <tr>\n",
       "      <th>2</th>\n",
       "      <td>dynamic</td>\n",
       "      <td>256.0</td>\n",
       "      <td>natural</td>\n",
       "      <td>0.5</td>\n",
       "      <td>fashion_mnist</td>\n",
       "      <td>models/2020-10-13/DPX-66</td>\n",
       "      <td>convnet</td>\n",
       "      <td>/home/elijahc/projects/vae/models/2020-10-13/D...</td>\n",
       "      <td>N/A</td>\n",
       "      <td>DPX-66</td>\n",
       "      <td>0.75</td>\n",
       "      <td>180000.0</td>\n",
       "      <td>15.0</td>\n",
       "      <td>0.3</td>\n",
       "      <td>0.0</td>\n",
       "      <td>500.0</td>\n",
       "      <td>0.0</td>\n",
       "    </tr>\n",
       "  </tbody>\n",
       "</table>\n",
       "</div>"
      ],
      "text/plain": [
       "  augmentation  batch_sz       bg  bg_contrast        dataset  \\\n",
       "0      dynamic     256.0  natural          0.5  fashion_mnist   \n",
       "1      dynamic     256.0  natural          0.5  fashion_mnist   \n",
       "2      dynamic     256.0  natural          0.5  fashion_mnist   \n",
       "\n",
       "                        dir encoder_arch  \\\n",
       "0  models/2020-05-28/DPX-64      convnet   \n",
       "1  models/2020-05-28/DPX-65      convnet   \n",
       "2  models/2020-10-13/DPX-66      convnet   \n",
       "\n",
       "                                             exp_dir generator_arch      id  \\\n",
       "0  /home/elijahc/projects/vae/models/2020-05-28/D...         resnet  DPX-64   \n",
       "1  /home/elijahc/projects/vae/models/2020-05-28/D...            N/A  DPX-65   \n",
       "2  /home/elijahc/projects/vae/models/2020-10-13/D...            N/A  DPX-66   \n",
       "\n",
       "   im_translation  n_epochs  recon_weight  rotation  xent_weight  y_dim  z_dim  \n",
       "0            0.75   90000.0           1.0       0.3         15.0  500.0    0.0  \n",
       "1            0.75  180000.0           0.0       0.3         15.0  500.0    0.0  \n",
       "2            0.75  180000.0          15.0       0.3          0.0  500.0    0.0  "
      ]
     },
     "execution_count": 5,
     "metadata": {},
     "output_type": "execute_result"
    }
   ],
   "source": [
    "conv_eids = [\n",
    "    'DPX-64',\n",
    "    'DPX-65',\n",
    "    'DPX-66',\n",
    "]\n",
    "conv_exps = neptune.project.get_experiments(id=conv_eids)\n",
    "# dense_exps = neptune.project.get_experiments(id=dense_eids)\n",
    "exps = np.array(conv_exps)\n",
    "s_df = pd.DataFrame(list(load_config(exps)))\n",
    "s_df"
   ]
  },
  {
   "cell_type": "code",
   "execution_count": 6,
   "metadata": {},
   "outputs": [],
   "source": [
    "recon_idxs = (s_df.recon_weight > 0).values\n",
    "nrecon_idxs = ~recon_idxs"
   ]
  },
  {
   "cell_type": "code",
   "execution_count": 7,
   "metadata": {},
   "outputs": [],
   "source": [
    "both,classify,recon = exps"
   ]
  },
  {
   "cell_type": "code",
   "execution_count": 8,
   "metadata": {},
   "outputs": [],
   "source": [
    "def fetch_experiment_channels(exps,channels,merge_cols=['id','encoder_arch']):\n",
    "    for i,exp in enumerate(exps):\n",
    "        conf = s_df.iloc[i]\n",
    "#         print(conf)\n",
    "        df = exp.get_numeric_channels_values(*channels)\n",
    "        for c in merge_cols:\n",
    "            df[c]= conf[c]\n",
    "        yield df"
   ]
  },
  {
   "cell_type": "code",
   "execution_count": 9,
   "metadata": {},
   "outputs": [],
   "source": [
    "channels = pd.concat(fetch_experiment_channels(exps,['val_acc','C_loss','val_G_loss'],merge_cols=['id','encoder_arch','recon_weight']))"
   ]
  },
  {
   "cell_type": "code",
   "execution_count": 20,
   "metadata": {},
   "outputs": [],
   "source": [
    "recon_acc = pd.concat(fetch_experiment_channels([recon],['val_acc','C_loss','val_G_loss','val_G_mse']))\n",
    "recon_acc['model'] = 'recon'\n",
    "\n",
    "classify_acc = pd.concat(fetch_experiment_channels([classify],['val_acc','C_loss','val_G_loss','val_G_mse']))\n",
    "classify_acc['model'] = 'classify'\n",
    "\n",
    "both_acc = pd.concat(fetch_experiment_channels([both],['val_acc','C_loss','val_G_loss','val_G_mse']))\n",
    "both_acc['model'] = 'combined'\n",
    "\n",
    "acc_full = pd.concat([both_acc,recon_acc,classify_acc])\n",
    "acc = pd.concat([both_acc[-200:],recon_acc[-200:],classify_acc[-200:]])"
   ]
  },
  {
   "cell_type": "code",
   "execution_count": 11,
   "metadata": {},
   "outputs": [],
   "source": [
    "cp = sns.color_palette(['#009DDB','#F1654C','#1F344C'])"
   ]
  },
  {
   "cell_type": "code",
   "execution_count": 12,
   "metadata": {},
   "outputs": [],
   "source": [
    "import scipy.stats as stats"
   ]
  },
  {
   "cell_type": "code",
   "execution_count": 13,
   "metadata": {},
   "outputs": [
    {
     "data": {
      "text/plain": [
       "RanksumsResult(statistic=-17.29889795114676, pvalue=4.794731539890784e-67)"
      ]
     },
     "execution_count": 13,
     "metadata": {},
     "output_type": "execute_result"
    }
   ],
   "source": [
    "stats.ranksums(acc.query('model == \"combined\"').val_G_mse.values,\n",
    "               acc.query('model == \"classify\"').val_G_mse.values)"
   ]
  },
  {
   "cell_type": "code",
   "execution_count": 14,
   "metadata": {},
   "outputs": [
    {
     "data": {
      "text/plain": [
       "RanksumsResult(statistic=17.29889795114676, pvalue=4.794731539890784e-67)"
      ]
     },
     "execution_count": 14,
     "metadata": {},
     "output_type": "execute_result"
    }
   ],
   "source": [
    "stats.ranksums(acc.query('model == \"combined\"').val_acc.values,\n",
    "               acc.query('model == \"recon\"').val_acc.values)"
   ]
  },
  {
   "cell_type": "code",
   "execution_count": 48,
   "metadata": {},
   "outputs": [
    {
     "data": {
      "image/png": "[encoded data removed]",
      "text/plain": [
       "<Figure size 396x432 with 1 Axes>"
      ]
     },
     "metadata": {},
     "output_type": "display_data"
    }
   ],
   "source": [
    "set_style(ctx='paper',font_scale=2)\n",
    "\n",
    "fig,ax = plt.subplots(1,1,figsize=(5.5,6))\n",
    "\n",
    "sns.barplot(x='model', y='val_acc',order=['classify','recon','combined',], data=acc,ax=ax, palette=cp)\n",
    "\n",
    "ax.set_ylim(0,1)\n",
    "ax.set_ylabel('Accuracy (%)')\n",
    "# axs[0].spines[].set_visible(False)\n",
    "\n",
    "# ax.hlines(y=0.1,xmin=-0.5,xmax=2.5,linestyle='dashed')\n",
    "sns.despine(fig)\n",
    "plt.tight_layout()\n",
    "# plt.tight_layout()"
   ]
  },
  {
   "cell_type": "code",
   "execution_count": 44,
   "metadata": {},
   "outputs": [],
   "source": [
    "fig.savefig('../figures/pub/neural_networks_revision/final_acc.pdf',dpi=200)"
   ]
  },
  {
   "cell_type": "code",
   "execution_count": 45,
   "metadata": {},
   "outputs": [
    {
     "data": {
      "image/png": "[encoded data removed]",
      "text/plain": [
       "<Figure size 432x504 with 1 Axes>"
      ]
     },
     "metadata": {},
     "output_type": "display_data"
    }
   ],
   "source": [
    "set_style(ctx='paper',font_scale=2)\n",
    "\n",
    "fig,ax = plt.subplots(1,1,figsize=(6,7))\n",
    "\n",
    "sns.barplot(x='model', y='val_G_mse',order=['classify','recon','combined',], data=acc,ax=ax,palette=cp)\n",
    "\n",
    "ax.set_yscale('log')\n",
    "ax.set_ylim(0.005,10)\n",
    "ax.set_ylabel('Reconstruction Error (MSE)')\n",
    "\n",
    "sns.despine(fig)\n",
    "plt.tight_layout()"
   ]
  },
  {
   "cell_type": "code",
   "execution_count": 46,
   "metadata": {},
   "outputs": [],
   "source": [
    "fig.savefig('../figures/pub/neural_networks_revision/final_mse.pdf',dpi=200)"
   ]
  },
  {
   "cell_type": "code",
   "execution_count": 17,
   "metadata": {},
   "outputs": [
    {
     "ename": "NameError",
     "evalue": "name 'asdf' is not defined",
     "output_type": "error",
     "traceback": [
      "\u001b[0;31m---------------------------------------------------------------------------\u001b[0m",
      "\u001b[0;31mNameError\u001b[0m                                 Traceback (most recent call last)",
      "\u001b[0;32m<ipython-input-17-7d97e98f8af7>\u001b[0m in \u001b[0;36m<module>\u001b[0;34m\u001b[0m\n\u001b[0;32m----> 1\u001b[0;31m \u001b[0masdf\u001b[0m\u001b[0;34m\u001b[0m\u001b[0m\n\u001b[0m",
      "\u001b[0;31mNameError\u001b[0m: name 'asdf' is not defined"
     ]
    }
   ],
   "source": [
    "asdf"
   ]
  },
  {
   "cell_type": "code",
   "execution_count": null,
   "metadata": {},
   "outputs": [],
   "source": [
    "both_acc[-200:]"
   ]
  },
  {
   "cell_type": "code",
   "execution_count": null,
   "metadata": {},
   "outputs": [],
   "source": [
    "set_style()\n",
    "sns.set_context('paper')\n",
    "fig,axs = plt.subplots(1,2,figsize=(8,2),sharex=True)\n",
    "\n",
    "sns.lineplot(x='x',y='val_acc',hue='encoder_arch',style='recon_weight',data=channels,ax=axs[0],\n",
    "            legend=False,\n",
    "            )\n",
    "axs[0].set_ylim(0,1)\n",
    "axs[0].hlines(y=0.1,xmin=-11,xmax=500,linestyles='dashed')\n",
    "\n",
    "sns.lineplot(x='x',y='val_G_loss',hue='encoder_arch',style='recon_weight',data=channels,ax=axs[1],\n",
    "#              legend=False,\n",
    "            )\n",
    "axs[1].set_yscale('log')\n",
    "# axs[1].set_ylim(0,1000)\n",
    "axs[1].legend(bbox_to_anchor=(1.05, 1), loc=2, borderaxespad=0.)\n",
    "\n",
    "\n",
    "axs[0].set_xlim(-10,100)\n",
    "axs[0].get_xaxis().set_visible(False)\n",
    "axs[1].get_xaxis().set_visible(False)\n",
    "axs[0].set_ylabel('Val. Accuracy')\n",
    "axs[1].set_ylabel('Val. Recon')\n",
    "\n",
    "sns.despine(fig)\n",
    "plt.tight_layout()"
   ]
  },
  {
   "cell_type": "code",
   "execution_count": null,
   "metadata": {},
   "outputs": [],
   "source": [
    "channels['time'] = pd.to_timedelta(channels.x.values*1000000000)"
   ]
  },
  {
   "cell_type": "code",
   "execution_count": null,
   "metadata": {},
   "outputs": [],
   "source": [
    "channels.resample('1T',on='time').mean().head()"
   ]
  },
  {
   "cell_type": "code",
   "execution_count": null,
   "metadata": {},
   "outputs": [],
   "source": [
    "set_style()\n",
    "sns.set_context('paper')\n",
    "fig,axs = plt.subplots(1,2,figsize=(8,2),sharex=True)\n",
    "\n",
    "sns.lineplot(x='x',y='val_acc',\n",
    "#              style='encoder_arch',\n",
    "             hue='recon_weight',\n",
    "             data=channels,ax=axs[0],\n",
    "            legend=False,\n",
    "            )\n",
    "axs[0].set_ylim(0,1)\n",
    "axs[0].hlines(y=0.1,xmin=-11,xmax=6000,linestyles='dashed')\n",
    "\n",
    "sns.lineplot(x='x',y='val_G_loss',\n",
    "#              style='encoder_arch',\n",
    "             hue='recon_weight',\n",
    "             data=channels,ax=axs[1],\n",
    "#              legend=False,\n",
    "            )\n",
    "axs[1].set_yscale('log')\n",
    "# axs[1].set_ylim(0,1000)\n",
    "axs[1].legend(bbox_to_anchor=(1.05, 1), loc=2, borderaxespad=0.)\n",
    "\n",
    "axs[0].set_xlim(-10,6000)\n",
    "axs[0].get_xaxis().set_visible(False)\n",
    "axs[1].get_xaxis().set_visible(False)\n",
    "axs[0].set_ylabel('Val. Accuracy')\n",
    "axs[1].set_ylabel('Val. Recon')\n",
    "\n",
    "sns.despine(fig)\n",
    "plt.tight_layout()"
   ]
  },
  {
   "cell_type": "code",
   "execution_count": null,
   "metadata": {},
   "outputs": [],
   "source": [
    "fig.savefig('../figures/pub/neural_networks/val_acc_recon.pdf',dpi=300)"
   ]
  },
  {
   "cell_type": "code",
   "execution_count": null,
   "metadata": {},
   "outputs": [],
   "source": [
    "set_style()\n",
    "sns.set_context('talk')\n",
    "fig,ax = plt.subplots(1,1)\n",
    "\n",
    "sns.lineplot(x='x',y='C_loss',hue='model',data=acc,ax=ax)\n",
    "# ax.hlines(y=0.1,xmin=-11,xmax=500,linestyles='dashed')\n",
    "\n",
    "ax.set_xlim(-10,200)\n",
    "ax.get_xaxis().set_visible(False)\n",
    "ax.set_ylabel('Loss')\n",
    "sns.despine(fig)\n",
    "plt.tight_layout()"
   ]
  },
  {
   "cell_type": "code",
   "execution_count": null,
   "metadata": {},
   "outputs": [],
   "source": [
    "# fig.savefig('../figures/sfn/model_loss.pdf',dpi=300)"
   ]
  },
  {
   "cell_type": "code",
   "execution_count": null,
   "metadata": {},
   "outputs": [],
   "source": [
    "def load_su(exp_dirs,fn='su_selectivity'):\n",
    "    merge_cols = ['augmentation','encoder_arch','recon_weight','xent_weight','dir']\n",
    "    for i,d in enumerate(exp_dirs):\n",
    "        conf = s_df.iloc[i]\n",
    "        filenames = filter(lambda i: i.startswith('su_selec'), os.listdir(d))\n",
    "        filepaths = [os.path.join(d,fn) for fn in filenames]\n",
    "        for j,fp in enumerate(filepaths):\n",
    "            if os.path.exists(fp):\n",
    "                df = pd.read_parquet(fp)\n",
    "                if len(filepaths) > 1:\n",
    "                    df['sample']=j+1\n",
    "                for c in merge_cols:\n",
    "                    df[c]= conf[c]\n",
    "                yield df\n",
    "            else:\n",
    "                asdf"
   ]
  },
  {
   "cell_type": "code",
   "execution_count": null,
   "metadata": {},
   "outputs": [],
   "source": [
    "s_df.query('encoder_arch == \"convnet\"').exp_dir"
   ]
  },
  {
   "cell_type": "code",
   "execution_count": null,
   "metadata": {},
   "outputs": [],
   "source": [
    "s_df.query('encoder_arch == \"dense\" & augmentation == \"dynamic\"').exp_dir.values"
   ]
  },
  {
   "cell_type": "code",
   "execution_count": null,
   "metadata": {},
   "outputs": [],
   "source": [
    "sus = list(load_su(s_df.exp_dir.values))\n",
    "su_df = pd.concat(sus)\n",
    "\n",
    "su_conv_df = su_df.query('encoder_arch == \"convnet\"').dropna(axis=1)\n",
    "\n",
    "# sud = list(load_su(s_df.query('encoder_arch == \"dense\" & augmentation == \"dynamic\"').exp_dir.values))\n",
    "su_dense_df = su_df.query('encoder_arch == \"dense\" & augmentation == \"dynamic\"').dropna(axis=1)"
   ]
  },
  {
   "cell_type": "code",
   "execution_count": null,
   "metadata": {},
   "outputs": [],
   "source": [
    "su_conv_df.groupby('region').count()"
   ]
  },
  {
   "cell_type": "code",
   "execution_count": null,
   "metadata": {},
   "outputs": [],
   "source": [
    "su_dense_df.groupby(['dir','recon_weight']).count()"
   ]
  },
  {
   "cell_type": "code",
   "execution_count": null,
   "metadata": {},
   "outputs": [],
   "source": [
    "# sus[0].drop(columns=['reg']).to_parquet(os.path.join(s_df.exp_dir.values[0],'su_selectivity.pqt'))"
   ]
  },
  {
   "cell_type": "code",
   "execution_count": null,
   "metadata": {},
   "outputs": [],
   "source": [
    "dicarlo_df = get_dicarlo_su(proj_root,fn='su_selectivity_dicarlo_hi_var.pqt')\n",
    "dicarlo_df = dicarlo_df.fillna(0)"
   ]
  },
  {
   "cell_type": "code",
   "execution_count": null,
   "metadata": {},
   "outputs": [],
   "source": [
    "# DL = Shifted_Data_Loader('fashion_mnist',rotation=None,translation=0.75,bg='natural',flatten=False)\n",
    "# sx_test = DL.sx_test"
   ]
  },
  {
   "cell_type": "code",
   "execution_count": null,
   "metadata": {},
   "outputs": [],
   "source": [
    "# plt.imshow(sx_test[250].reshape(56,56),cmap='gray')"
   ]
  },
  {
   "cell_type": "code",
   "execution_count": null,
   "metadata": {},
   "outputs": [],
   "source": [
    "# neural_data = brainscore.get_assembly(name=\"dicarlo.Majaj2015\")\n",
    "# neural_data.load()\n",
    "# stimulus_set = neural_data.attrs['stimulus_set']"
   ]
  },
  {
   "cell_type": "code",
   "execution_count": null,
   "metadata": {},
   "outputs": [],
   "source": [
    "# hi_data = process_dicarlo(neural_data,variation=6)"
   ]
  },
  {
   "cell_type": "code",
   "execution_count": null,
   "metadata": {},
   "outputs": [],
   "source": [
    "# sns.set(font_scale=2)\n",
    "# sns.set_context('paper')"
   ]
  },
  {
   "cell_type": "code",
   "execution_count": null,
   "metadata": {},
   "outputs": [],
   "source": [
    "from src.results.dicarlo import err_neuroids"
   ]
  },
  {
   "cell_type": "code",
   "execution_count": null,
   "metadata": {},
   "outputs": [],
   "source": [
    "len(dicarlo_df)"
   ]
  },
  {
   "cell_type": "code",
   "execution_count": null,
   "metadata": {},
   "outputs": [],
   "source": [
    "len(dicarlo_df[~dicarlo_df.neuroid_id.isin(err_neuroids)])"
   ]
  },
  {
   "cell_type": "code",
   "execution_count": null,
   "metadata": {},
   "outputs": [],
   "source": [
    "dicarlo_df = dicarlo_df[~dicarlo_df.neuroid_id.isin(err_neuroids)]"
   ]
  },
  {
   "cell_type": "code",
   "execution_count": null,
   "metadata": {},
   "outputs": [],
   "source": [
    "def topn_su_decode(df,n,props,plot_fn,**kwargs):\n",
    "    order=[0,1,2,3,4,5]\n",
    "    fig,axs = plt.subplots(2,3,figsize=(9,8),sharey='row',**kwargs)\n",
    "    set_style()\n",
    "    sns.set_context('talk')\n",
    "    for ax,prop in zip(axs.ravel(),props):\n",
    "        pix = [df.query('layer == 0')]\n",
    "        df_topn = pd.concat(pix+[df.query('layer == {}'.format(l)).nlargest(n,prop) for l in [1,2,3,4]])\n",
    "        plot_fn(x='layer',y=prop,order=order,data=df_topn,ax=ax,palette='magma')\n",
    "        ax.set_xticklabels(['pix','V1','V2','V4','IT','?'])\n",
    "#         ax.set_ylabel('d\\'')\n",
    "        ax.set_ylabel('')\n",
    "        ax.set_title(prop)\n",
    "        sns.despine(ax=ax)\n",
    "        \n",
    "    del_ax = axs.ravel()[2]\n",
    "    del_ax.clear()\n",
    "    del_ax.get_xaxis().set_visible(False)\n",
    "    plt.tight_layout()\n",
    "    return fig,axs\n",
    "\n",
    "\n",
    "props = ['category_name','object_name','object_name','tx','ty','rxy']\n",
    "new_prop_names = ['Category', 'Identity', 'Identity','X Position','Y Position','Rotation (xy)']\n",
    "dicarlo_df = dicarlo_df.rename(columns={k:v for k,v in zip(props,new_prop_names)})\n",
    "\n",
    "fig,axs = topn_su_decode(dicarlo_df,n=192,\n",
    "                         props=new_prop_names,\n",
    "                         plot_fn=sns.boxplot,\n",
    "#                subplot_kw={'ylim':(0,0.5)},\n",
    "              )"
   ]
  },
  {
   "cell_type": "code",
   "execution_count": null,
   "metadata": {},
   "outputs": [],
   "source": [
    "# fig.savefig('../figures/dicarlo_su_all.pdf',dpi=300)"
   ]
  },
  {
   "cell_type": "code",
   "execution_count": null,
   "metadata": {},
   "outputs": [],
   "source": [
    "fig,axs = topn_su_decode(dicarlo_df,n=25,\n",
    "                         props=new_prop_names,\n",
    "                         plot_fn=sns.boxplot,\n",
    "#                subplot_kw={'ylim':(0,0.5)},\n",
    "              )"
   ]
  },
  {
   "cell_type": "code",
   "execution_count": null,
   "metadata": {},
   "outputs": [],
   "source": [
    "fig.savefig('../figures/dicarlo_su_top25.pdf',dpi=300)"
   ]
  },
  {
   "cell_type": "code",
   "execution_count": null,
   "metadata": {},
   "outputs": [],
   "source": [
    "fig,axs = topn_su_decode(dicarlo_df,n=25,\n",
    "                         props=new_prop_names,\n",
    "                         plot_fn=sns.barplot,\n",
    "#                subplot_kw={'ylim':(0,0.5)},\n",
    "              )\n",
    "axs[0,0].set_ylim(0,0.8)\n",
    "axs[1,0].set_ylim(0,0.4)\n",
    "fig.savefig('../figures/dicarlo_su_top25_barplot.pdf',dpi=300)"
   ]
  },
  {
   "cell_type": "code",
   "execution_count": null,
   "metadata": {},
   "outputs": [],
   "source": [
    "# convnet = [\n",
    "#     aug_df.query('augmentation == \"dynamic\" & recon_weight == 0.0'),\n",
    "#     aug_df.query('augmentation == \"dynamic\" & recon_weight == 1.0')\n",
    "# ]\n",
    "# single = [\n",
    "#     aug_df.query('augmentation == \"single\" & recon_weight == 0.0'),\n",
    "#     aug_df.query('augmentation == \"single\" & recon_weight == 1.0')\n",
    "# ]"
   ]
  },
  {
   "cell_type": "code",
   "execution_count": null,
   "metadata": {},
   "outputs": [],
   "source": [
    "set_style()"
   ]
  },
  {
   "cell_type": "code",
   "execution_count": null,
   "metadata": {},
   "outputs": [],
   "source": [
    "sns.set_context('talk')"
   ]
  },
  {
   "cell_type": "code",
   "execution_count": null,
   "metadata": {},
   "outputs": [],
   "source": [
    "dicarlo_df = dicarlo_df.rename(columns={'X Position':'tx','Y Position':'ty','Rotation (xy)':'rxy','Identity':'identity_name','Category':'category_name'})"
   ]
  },
  {
   "cell_type": "code",
   "execution_count": null,
   "metadata": {},
   "outputs": [],
   "source": [
    "conv_x_orders = {\n",
    "    'region':(\n",
    "        ['pixel','conv_2','conv_3','conv_4','y_enc','z_enc'],\n",
    "        ['pix','Layer 2','Layer 3','Layer 4',r'$L_2$',r'$L_1$']\n",
    "    ),\n",
    "    'layer':(\n",
    "        [0,2,3,4,5],\n",
    "        ['pix','C2','C3','C4','L'],\n",
    "    )\n",
    "}\n",
    "macaque_x_conf = {\n",
    "    'layer':(\n",
    "        [0,1,2,3,4,5],\n",
    "        ['pix','V1','V2','V4','IT','?']\n",
    "    ),\n",
    "    'subregion':(\n",
    "        ['pixel','V1','V2','V4','aIT','cIT','pIT'],\n",
    "        ['pixel','V1','V2','V4','aIT','cIT','pIT']\n",
    "    )\n",
    "}\n",
    "dense_x_conf = {\n",
    "    'region':(\n",
    "        ['pixel','dense_1','dense_2','dense_3','y_lat','z_lat'],\n",
    "        ['pix','D1','D2','D3','L2','L1']\n",
    "    ),\n",
    "    'layer':(\n",
    "        [0,1,2,3,4],\n",
    "        ['pix','D1','D2','D3','L']\n",
    "    )\n",
    "}\n",
    "\n",
    "def plot_row(df,props,axs,plot_fn=sns.barplot,x_conf=conv_x_orders,row_title='with_recon',topn=None,x='region'):\n",
    "    for i,ax,prop in zip(np.arange(len(props)),axs,props):\n",
    "        x_order,x_labels = x_conf[x]\n",
    "        if topn is not None:\n",
    "            topn_l = [df.query('{} == {}'.format(x,l)).nlargest(topn,prop) for l in x_order[1:]]\n",
    "            topn_l = [df.query('{} == {}'.format(x,x_order[0]))]+topn_l\n",
    "            plot_df = pd.concat(topn_l) \n",
    "        else:\n",
    "            plot_df = df\n",
    "        \n",
    "        \n",
    "        plot_fn(x=x,y=prop,order=x_order,data=plot_df,ax=ax,palette='magma')\n",
    "        ax.set_xticklabels(x_labels)\n",
    "#         ax.set_xticklabels()\n",
    "#         plt.xticks(rotation=45)\n",
    "    #         ax.set_ylabel('d\\'')\n",
    "        if i == 0:\n",
    "            ax.set_ylabel(row_title)\n",
    "        else:\n",
    "            ax.set_ylabel('')\n",
    "        ax.set_title(prop)\n",
    "        sns.despine(ax=ax)"
   ]
  },
  {
   "cell_type": "markdown",
   "metadata": {},
   "source": [
    "# Convolutional Architecture"
   ]
  },
  {
   "cell_type": "code",
   "execution_count": null,
   "metadata": {},
   "outputs": [],
   "source": [
    "_,xlab = conv_x_orders['region']\n",
    "xlab"
   ]
  },
  {
   "cell_type": "code",
   "execution_count": null,
   "metadata": {},
   "outputs": [],
   "source": [
    "sns.palplot(sns.light_palette(\"green\", 5))"
   ]
  },
  {
   "cell_type": "code",
   "execution_count": null,
   "metadata": {},
   "outputs": [],
   "source": [
    "sns.palplot(sns.light_palette(\"red\", 5))"
   ]
  },
  {
   "cell_type": "code",
   "execution_count": null,
   "metadata": {},
   "outputs": [],
   "source": [
    "sns.palplot(sns.light_palette(\"blue\", 5))"
   ]
  },
  {
   "cell_type": "code",
   "execution_count": null,
   "metadata": {},
   "outputs": [],
   "source": [
    "sns.palplot(sns.light_palette(\"yellow\", 5))"
   ]
  },
  {
   "cell_type": "code",
   "execution_count": null,
   "metadata": {},
   "outputs": [],
   "source": [
    "np.linspace(0,3,num=5)"
   ]
  },
  {
   "cell_type": "code",
   "execution_count": null,
   "metadata": {},
   "outputs": [],
   "source": [
    "sns.palplot(sns.cubehelix_palette(5,start=0))"
   ]
  },
  {
   "cell_type": "code",
   "execution_count": null,
   "metadata": {},
   "outputs": [],
   "source": [
    "sns.palplot(sns.cubehelix_palette(5,start=.75))"
   ]
  },
  {
   "cell_type": "code",
   "execution_count": null,
   "metadata": {},
   "outputs": [],
   "source": [
    "sns.palplot(sns.cubehelix_palette(5,start=1.5))"
   ]
  },
  {
   "cell_type": "code",
   "execution_count": null,
   "metadata": {},
   "outputs": [],
   "source": [
    "props = ['category','tx','ty']\n",
    "# mod_order = [0,2,3,4,5]\n",
    "n_rows = 3\n",
    "n_cols = 3\n",
    "fig,axs = plt.subplots(n_rows,n_cols,figsize=(n_cols*4,n_rows*4),sharey='col')\n",
    "plot_fn = sns.boxplot\n",
    "#     sns.set_context('talk')\n",
    "\n",
    "plot_row(dicarlo_df,['category_name','tx','ty'],axs[0],x_conf=macaque_x_conf,row_title='Macaque',\n",
    "         topn=25,x='layer',\n",
    "         plot_fn=sns.barplot)\n",
    "    \n",
    "df = su_conv_df.query('sample == 1 & recon_weight > 0')\n",
    "plot_row(df,['category','tx','ty'],axs[1],row_title='with-recon',x='region',plot_fn=sns.barplot)\n",
    "for ax in axs[1]:\n",
    "    _,xlab = conv_x_orders['region']\n",
    "    ax.set_xticklabels(labels=xlab,rotation=45)\n",
    "  \n",
    "df = su_conv_df.query('sample == 1 & recon_weight == 0')\n",
    "plot_row(df,['category','tx','ty'],axs[2],row_title='classify-only',x='region',plot_fn=sns.barplot)\n",
    "for ax in axs[2]:\n",
    "    _,xlab = conv_x_orders['region']\n",
    "    ax.set_xticklabels(xlab,rotation=45)\n",
    "\n",
    "axs[0,0].set_ylim(0,1.0)\n",
    "axs[0,1].set_ylim(0,0.35)\n",
    "axs[0,2].set_ylim(0,0.35)\n",
    "\n",
    "plt.tight_layout()"
   ]
  },
  {
   "cell_type": "code",
   "execution_count": null,
   "metadata": {},
   "outputs": [],
   "source": [
    "os.makedirs('../figures/pub')"
   ]
  },
  {
   "cell_type": "code",
   "execution_count": null,
   "metadata": {},
   "outputs": [],
   "source": [
    "fig.savefig('../figures/pub/conv_plots.pdf',dpi=300)"
   ]
  },
  {
   "cell_type": "markdown",
   "metadata": {},
   "source": [
    "# Dense Architecture"
   ]
  },
  {
   "cell_type": "code",
   "execution_count": null,
   "metadata": {},
   "outputs": [],
   "source": [
    "props = ['category','tx','ty']\n",
    "# mod_order = [0,2,3,4,5]\n",
    "n_rows = 3\n",
    "n_cols = 3\n",
    "fig,axs = plt.subplots(n_rows,n_cols,figsize=(n_cols*4,n_rows*3),sharey='col')\n",
    "plot_fn = sns.boxplot\n",
    "#     sns.set_context('talk')\n",
    "\n",
    "\n",
    "plot_row(dicarlo_df,['category_name','tx','ty'],axs[0],x_conf=macaque_x_conf,row_title='Macaque',topn=25,x='layer',plot_fn=sns.barplot)\n",
    "    \n",
    "df = su_dense_df.query('recon_weight > 0')\n",
    "plot_row(df,['category','tx','ty'],axs[1],x_conf=dense_x_conf,row_title='with-recon',x='region',plot_fn=sns.barplot)\n",
    "  \n",
    "df = su_dense_df.query('recon_weight == 0')\n",
    "plot_row(df,['category','tx','ty'],axs[2],x_conf=dense_x_conf,row_title='classify-only',x='region',plot_fn=sns.barplot)\n",
    "axs[0,0].set_ylim(0,1.0)\n",
    "axs[0,1].set_ylim(0,0.36)\n",
    "axs[0,2].set_ylim(0,0.36)\n",
    "plt.tight_layout()"
   ]
  },
  {
   "cell_type": "code",
   "execution_count": null,
   "metadata": {},
   "outputs": [],
   "source": [
    "fig.savefig('../figures/pub/dense_plots.pdf',dpi=300)"
   ]
  },
  {
   "cell_type": "code",
   "execution_count": null,
   "metadata": {},
   "outputs": [],
   "source": [
    "n_rows = 3\n",
    "n_cols = 3\n",
    "fig,axs = plt.subplots(n_rows,n_cols,figsize=(n_cols*3,n_rows*4),sharey=True)\n",
    "plot_fn = sns.boxplot\n",
    "#     sns.set_context('talk')\n",
    "\n",
    "df = su_conv_df.query('sample == 1 & recon_weight > 0')\n",
    "plot_row(df,['category','tx','ty'],axs[0],row_title='with-recon',plot_fn=sns.boxplot)\n",
    "\n",
    "plot_row(dicarlo_df,['category_name','tx','ty'],axs[1],x_conf=macaque_x_conf,row_title='Macaque',topn=25,x='layer',plot_fn=sns.boxplot)\n",
    "    \n",
    "for i,ax,prop in zip(np.arange(n_cols),axs[2],props):\n",
    "    df = su_conv_df.query('sample == 1 & recon_weight == 0')\n",
    "\n",
    "    x_order = {'region':['pixel','conv_2','conv_3','conv_4','y_enc','z_enc']}\n",
    "    x_col = 'region'\n",
    "    plot_fn(x=x_col,y=prop,order=x_order[x_col],data=df,ax=ax,palette='magma')\n",
    "    ax.set_xticklabels(['pix','C2','C3','C4','L1','L2'])\n",
    "#         ax.set_ylabel('d\\'')\n",
    "    if i == 0:\n",
    "        ax.set_ylabel('classify-only')\n",
    "    else:\n",
    "        ax.set_ylabel('')\n",
    "    ax.set_title(prop)\n",
    "    sns.despine(ax=ax)\n",
    "\n",
    "axs[0,0].set_ylim(0,1.0)\n",
    "# axs[1,0].set_ylim(0,0.25)\n",
    "# del_ax = axs.ravel()[1]\n",
    "# del_ax.clear()\n",
    "# del_ax.get_xaxis().set_visible(False)\n",
    "plt.tight_layout()"
   ]
  },
  {
   "cell_type": "code",
   "execution_count": null,
   "metadata": {},
   "outputs": [],
   "source": [
    "df = dyn[0]\n",
    "props = ['category','category','tx','ty']\n",
    "mod_order = [0,1,2,3,4]\n",
    "fig,axs = plt.subplots(2,2,figsize=(6,8),sharey='row')\n",
    "#     sns.set_context('talk')\n",
    "for ax,prop in zip(axs.ravel(),props):\n",
    "#     df_topn = pd.concat([df.query('layer == {}'.format(l)).nlargest(n,prop) for l in [1,2,3,4]])\n",
    "    sns.barplot(x='layer',y=prop,order=mod_order,data=df,ax=ax,palette='magma')\n",
    "    ax.set_xticklabels(['pix','L1','L2','L3','lat'])\n",
    "#         ax.set_ylabel('d\\'')\n",
    "    ax.set_ylabel('')\n",
    "    ax.set_title(prop)\n",
    "    sns.despine(ax=ax)\n",
    "\n",
    "axs[0,0].set_ylim(0,0.6)\n",
    "axs[1,0].set_ylim(0,0.25)\n",
    "del_ax = axs.ravel()[1]\n",
    "del_ax.clear()\n",
    "del_ax.get_xaxis().set_visible(False)\n",
    "plt.tight_layout()"
   ]
  },
  {
   "cell_type": "code",
   "execution_count": null,
   "metadata": {},
   "outputs": [],
   "source": [
    "fig.savefig('../figures/sfn/dyn_no_recon.pdf',dpi=300)"
   ]
  },
  {
   "cell_type": "code",
   "execution_count": null,
   "metadata": {},
   "outputs": [],
   "source": [
    "fig,axs = plt.subplots(2,2,figsize=(8,8),sharex=True,sharey=True)\n",
    "\n",
    "# mod_order=np.arange(5)\n",
    "mod_order = [0,1,2,3,4]\n",
    "# mod_order = ['pixel','dense_2','dense_3','y_lat','z_lat']\n",
    "\n",
    "# sns.set_context('talk')\n",
    "properties = ['tx','ty']\n",
    "for ax_row,df,order in zip(axs,dyn,[mod_order,mod_order]): \n",
    "    for ax,prop in zip(ax_row,properties):\n",
    "        sns.barplot(x='layer',y=prop,order=order,data=df,ax=ax,palette='magma')\n",
    "        sns.despine(ax=ax)\n",
    "    \n",
    "    ax_row[1].set_ylabel('')\n",
    "    ax_row[0].set_ylabel('pearson')\n",
    "    \n",
    "\n",
    "for ax in axs[1]:\n",
    "    ax.set_xticklabels(['pixel','1','2','3','4'])\n",
    "#     ax.set_xticklabels(['pixel','L2','L3','y_lat','z_lat'])\n",
    "\n",
    "for ax,prop in zip(axs[0],properties):\n",
    "    ax.get_xaxis().set_visible(False)\n",
    "    ax.set_title(prop)\n",
    "\n",
    "plt.tight_layout()"
   ]
  },
  {
   "cell_type": "code",
   "execution_count": null,
   "metadata": {},
   "outputs": [],
   "source": [
    "set_style()\n",
    "properties = ['category','tx','ty']\n",
    "fig,axs = plt.subplots(2,len(properties),figsize=(len(properties)*4,6),sharex=True,sharey=True)\n",
    "\n",
    "# mod_order=np.arange(5)\n",
    "mod_order = [0,2,3]\n",
    "# mod_order = ['pixel','dense_2','dense_3','y_lat']\n",
    "\n",
    "# sns.set_context('talk')\n",
    "for ax_row,df,order in zip(axs,single,[mod_order,mod_order]): \n",
    "    for ax,prop in zip(ax_row,properties):\n",
    "        sns.barplot(x='layer',y=prop,order=order,data=df,ax=ax,palette='magma')\n",
    "        sns.despine(ax=ax)\n",
    "    \n",
    "    ax_row[1].set_ylabel('')\n",
    "    ax_row[2].set_ylabel('')\n",
    "    ax_row[0].set_ylabel('d\\'')\n",
    "    \n",
    "\n",
    "for ax in axs[1]:\n",
    "    ax.set_xticklabels(['pixel','2','3'])\n",
    "\n",
    "#     ax.set_xticklabels(mod_order)\n",
    "\n",
    "for ax,prop in zip(axs[0],properties):\n",
    "    ax.get_xaxis().set_visible(False)\n",
    "    ax.set_title(prop)\n",
    "\n",
    "plt.tight_layout()"
   ]
  },
  {
   "cell_type": "code",
   "execution_count": null,
   "metadata": {},
   "outputs": [],
   "source": [
    "order=[0,1,2,3,4,5]\n",
    "fig,ax = plt.subplots(1,1,figsize=(5,4.5))\n",
    "sns.set_context('talk')\n",
    "sns.boxplot(x='layer',y='category',order=order,data=dicarlo_df,ax=ax,palette='magma')\n",
    "ax.set_xticklabels(['pixel','V1','?','V4','IT',''])\n",
    "sns.despine(ax=ax)\n",
    "plt.tight_layout()"
   ]
  },
  {
   "cell_type": "code",
   "execution_count": null,
   "metadata": {},
   "outputs": [],
   "source": [
    "\n",
    "# [['tx','ty','rxy','layer','region']]"
   ]
  },
  {
   "cell_type": "code",
   "execution_count": null,
   "metadata": {},
   "outputs": [],
   "source": [
    "topn_su_decode(dicarlo_df,n=100,props=['category','tx','ty'],\n",
    "#                subplot_kw={'ylim':(0,0.8)},\n",
    "              )"
   ]
  },
  {
   "cell_type": "code",
   "execution_count": null,
   "metadata": {},
   "outputs": [],
   "source": [
    "fig,axs = plt.subplots(1,2,figsize=(8,4),sharey=True,sharex=True)\n",
    "\n",
    "mod_order=np.arange(5)\n",
    "\n",
    "sns.set_context('talk')\n",
    "for ax,df,order in zip(axs,[su_xent_df,su_both_df,],[mod_order,mod_order]): \n",
    "    sns.barplot(x='layer',y='tx',order=order,data=df,ax=ax)\n",
    "axs[0].set_xticklabels(['pixel','1','2','3','4'])\n",
    "axs[1].get_yaxis().set_visible(False)\n",
    "plt.tight_layout()"
   ]
  },
  {
   "cell_type": "code",
   "execution_count": null,
   "metadata": {},
   "outputs": [],
   "source": [
    "sns.set_style('whitegrid')\n",
    "sns.set_context('paper')\n",
    "sns.set(font_scale=2)"
   ]
  },
  {
   "cell_type": "code",
   "execution_count": null,
   "metadata": {},
   "outputs": [],
   "source": [
    "# sns.set_style('whitegrid')\n",
    "sns.set_context('paper')\n",
    "sns.set(font_scale=2)\n",
    "\n",
    "fig,axs = plot_kde('tx','ty',su_xent_df,by='layer',order=np.arange(5),)\n",
    "plt.tight_layout()\n",
    "sns.despine(fig=fig)\n",
    "for i,ax in enumerate(axs):\n",
    "    pass\n",
    "    ax.set_ylabel('')\n",
    "    ax.set_xlabel('')\n",
    "\n",
    "#         ax.get_xaxis().set_visible(False)\n",
    "    \n",
    "\n",
    "\n"
   ]
  },
  {
   "cell_type": "code",
   "execution_count": null,
   "metadata": {},
   "outputs": [],
   "source": [
    "sns.set_context('paper')\n",
    "sns.set(font_scale=2)\n",
    "fig,axs = plot_kde('ty','category',su_xent_df,by='layer',order=np.arange(5),xlim=(0,1.1),ylim=(0,1.1))\n",
    "plt.tight_layout()\n",
    "sns.despine(fig=fig)\n",
    "for i,ax in enumerate(axs):\n",
    "    pass\n",
    "    ax.set_ylabel('')\n",
    "    ax.set_xlabel('')"
   ]
  },
  {
   "cell_type": "code",
   "execution_count": null,
   "metadata": {},
   "outputs": [],
   "source": [
    "sns.set_context('paper')\n",
    "sns.set(font_scale=2)\n",
    "fig,axs = plot_kde('ty','category',su_both_df,by='layer',order=np.arange(5),xlim=(0,1.1),ylim=(0,1.1))\n",
    "plt.tight_layout()\n",
    "sns.despine(fig=fig)\n",
    "for i,ax in enumerate(axs):\n",
    "    pass\n",
    "    ax.set_ylabel('')\n",
    "    ax.set_xlabel('')"
   ]
  },
  {
   "cell_type": "code",
   "execution_count": null,
   "metadata": {},
   "outputs": [],
   "source": [
    "plot_kde('ty','category',su_both_df,by='layer',order=np.arange(5))\n",
    "plt.tight_layout()"
   ]
  },
  {
   "cell_type": "code",
   "execution_count": null,
   "metadata": {},
   "outputs": [],
   "source": [
    "sns.set_context('paper')\n",
    "sns.set(font_scale=2)\n",
    "fig,axs = plot_kde('ty','category',dicarlo_df,by='region',order=['V4','IT'],xlim=(0,1.1),ylim=(0,1.1))\n",
    "plt.tight_layout()\n",
    "sns.despine(fig=fig)\n",
    "for i,ax in enumerate(axs):\n",
    "    pass\n",
    "    ax.set_ylabel('')\n",
    "    ax.set_xlabel('')"
   ]
  },
  {
   "cell_type": "code",
   "execution_count": null,
   "metadata": {},
   "outputs": [],
   "source": [
    "plot_kde('tx','category',dicarlo_df,by='region',order=['V4','IT'])\n"
   ]
  },
  {
   "cell_type": "code",
   "execution_count": null,
   "metadata": {},
   "outputs": [],
   "source": [
    "sns.scatterplot(x='tx',y='ty',data=dicarlo_df.query('region == \"IT\"'))\n",
    "plt.ylim(0,0.5)\n",
    "plt.xlim(0,0.5)"
   ]
  },
  {
   "cell_type": "code",
   "execution_count": null,
   "metadata": {},
   "outputs": [],
   "source": [
    "class MURegressor(object):\n",
    "    def __init__(self,da,train_frac=0.8,n_splits=5,n_units=None,estimator=Ridge):\n",
    "        if n_units is not None:\n",
    "            self.neuroid_idxs = [np.array([random.randrange(len(da.neuroid_id)) for _ in range(n_units)]) for _ in range(n_splits)]\n",
    "        \n",
    "        self.original_data = da\n",
    "        self.train_frac = train_frac\n",
    "        self.n_splits = n_splits\n",
    "        \n",
    "        splits = [split_assembly(self.original_data[:,n_idxs]) for n_idxs in tqdm(self.neuroid_idxs,total=n_splits,desc='CV-splitting')]\n",
    "        self.train = [tr for tr,te in splits]\n",
    "        self.test = [te for tr,te in splits]\n",
    "        \n",
    "        \n",
    "        self.estimators = [estimator() for _ in range(n_splits)]\n",
    "        \n",
    "    def fit(self,y_coord):\n",
    "        # Get Training data\n",
    "        for mod,train in tqdm(zip(self.estimators,self.train),total=len(self.train),desc='fitting'):\n",
    "#             print(train)\n",
    "            mod.fit(X=train.values,y=train[y_coord])\n",
    "    \n",
    "        return self\n",
    "    \n",
    "    def predict(self,X=None):\n",
    "        if X is not None:\n",
    "            return [e.predict(X) for e in self.estimators]\n",
    "        else:\n",
    "            return [e.predict(te.values) for e,te in zip(self.estimators,self.test)]\n",
    "        \n",
    "    def score(self,y_coord):\n",
    "        return [e.score(te.values,te[y_coord].values) for e,te in zip(self.estimators,self.test)]\n",
    "    \n",
    "def stratified_regressors(data, filt='region',n_units=126,y_coords=['ty','tz'],task_names=None,estimator=Ridge):\n",
    "    subsets = np.unique(data[filt].values)\n",
    "    if task_names is None:\n",
    "        task_names = y_coords\n",
    "    dfs = []\n",
    "    for y,task in zip(y_coords,task_names):\n",
    "        print('regressing {}...'.format(y))\n",
    "        regressors = {k:MURegressor(data.sel(**{filt:k}),n_units=n_units,estimator=Ridge).fit(y_coord=y) for k in subsets}\n",
    "        df = pd.DataFrame.from_records({k:v.score(y_coord=y) for k,v in regressors.items()})\n",
    "        df = df.melt(var_name='region',value_name='performance')\n",
    "        df['task']=task\n",
    "        dfs.append(df)\n",
    "    \n",
    "    return pd.concat(dfs)"
   ]
  },
  {
   "cell_type": "code",
   "execution_count": null,
   "metadata": {},
   "outputs": [],
   "source": [
    "properties = ['tx','ty']\n",
    "mu_both_df = stratified_regressors(lg_both,filt='layer',y_coords=properties,n_units=50)"
   ]
  },
  {
   "cell_type": "code",
   "execution_count": null,
   "metadata": {},
   "outputs": [],
   "source": [
    "sns.barplot(x='task',y='performance',hue='region',data=mu_both_df)"
   ]
  },
  {
   "cell_type": "code",
   "execution_count": null,
   "metadata": {},
   "outputs": [],
   "source": [
    "mu_xent_df = stratified_regressors(lg_xent,filt='layer',y_coords=properties,n_units=50)"
   ]
  },
  {
   "cell_type": "code",
   "execution_count": null,
   "metadata": {},
   "outputs": [],
   "source": [
    "sns.barplot(x='task',y='performance',hue='region',data=mu_xent_df)"
   ]
  },
  {
   "cell_type": "code",
   "execution_count": null,
   "metadata": {},
   "outputs": [],
   "source": [
    "plot_kde(x='tx',y='ty',df=both_df,by='layer',order=np.arange(5))"
   ]
  },
  {
   "cell_type": "code",
   "execution_count": null,
   "metadata": {},
   "outputs": [],
   "source": [
    "plot_kde(x='tx',y='ty',df=xent_df,by='layer',order=np.arange(5))"
   ]
  },
  {
   "cell_type": "code",
   "execution_count": null,
   "metadata": {},
   "outputs": [],
   "source": []
  },
  {
   "cell_type": "code",
   "execution_count": null,
   "metadata": {},
   "outputs": [],
   "source": []
  }
 ],
 "metadata": {
  "kernelspec": {
   "display_name": "Py3-fastai (Python3.6.1)",
   "language": "python",
   "name": "py3-fastai"
  },
  "language_info": {
   "codemirror_mode": {
    "name": "ipython",
    "version": 3
   },
   "file_extension": ".py",
   "mimetype": "text/x-python",
   "name": "python",
   "nbconvert_exporter": "python",
   "pygments_lexer": "ipython3",
   "version": "3.6.1"
  },
  "neptune": {
   "notebookId": "d87092c5-9710-423a-9466-ab57e41556f1"
  }
 },
 "nbformat": 4,
 "nbformat_minor": 4
}
