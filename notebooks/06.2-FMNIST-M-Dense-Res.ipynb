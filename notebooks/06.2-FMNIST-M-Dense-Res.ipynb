{
 "cells": [
  {
   "cell_type": "code",
   "execution_count": 29,
   "metadata": {},
   "outputs": [],
   "source": [
    "import numpy as np\n",
    "import neptune\n",
    "import imageio\n",
    "import scipy as scipy\n",
    "import pandas as pd\n",
    "import matplotlib.pyplot as plt\n",
    "from PIL import Image\n",
    "import os\n",
    "import skimage as skim\n",
    "\n",
    "import seaborn as sns\n",
    "from sklearn.preprocessing import MinMaxScaler\n",
    "\n",
    "from src.data_generator import ShiftedDataBatcher\n",
    "from src.data_loader import _shift_image\n",
    "from src.test_models.drduplex import DRDuplex\n",
    "from src.utils import save_model, save_model_and_weights, save_weights"
   ]
  },
  {
   "cell_type": "code",
   "execution_count": 3,
   "metadata": {},
   "outputs": [],
   "source": [
    "# exp_date = '2019-09-28'\n",
    "exp_date = '2019-09-25'\n",
    "proj_root = '/home/elijahc/projects/vae'\n",
    "models_root = os.path.join(proj_root,'models',exp_date)"
   ]
  },
  {
   "cell_type": "code",
   "execution_count": 4,
   "metadata": {},
   "outputs": [],
   "source": [
    "PROPS = {\n",
    "    'dataset':'fashion_mnist',\n",
    "    'encoder_arch': 'dense',\n",
    "    'generator_arch': 'resnet',\n",
    "    'augmentation': 'dynamic',\n",
    "}\n",
    "PARAMS = {}\n",
    "\n",
    "train_conf = {\n",
    "    'n_epochs': 54000,\n",
    "    'batch_sz':512,\n",
    "}\n",
    "\n",
    "data_conf = {\n",
    "    'bg': 'natural',\n",
    "    'im_translation':0.75,\n",
    "    'bg_contrast': 0.3,\n",
    "}\n",
    "\n",
    "model_conf = {\n",
    "    'xent_weight': 15,\n",
    "    'recon_weight': 1,\n",
    "    'y_dim':35,\n",
    "    'z_dim':35,\n",
    "}\n",
    "\n",
    "for conf in [train_conf,data_conf,model_conf]:\n",
    "    PARAMS.update(conf)"
   ]
  },
  {
   "cell_type": "code",
   "execution_count": 5,
   "metadata": {},
   "outputs": [],
   "source": [
    "DB = ShiftedDataBatcher(PROPS['dataset'],translation=PARAMS['im_translation'],bg=PARAMS['bg'],\n",
    "                        blend=None,\n",
    "#                         blend='difference',\n",
    "                        batch_size=PARAMS['batch_sz'],\n",
    "                       )"
   ]
  },
  {
   "cell_type": "code",
   "execution_count": 8,
   "metadata": {},
   "outputs": [
    {
     "name": "stdout",
     "output_type": "stream",
     "text": [
      "(512, 56, 56, 1) (512, 10)\n",
      "-1.0 1.0\n",
      "-1.0 1.0\n"
     ]
    },
    {
     "data": {
      "text/plain": [
       "<matplotlib.image.AxesImage at 0x7f39593b0f28>"
      ]
     },
     "execution_count": 8,
     "metadata": {},
     "output_type": "execute_result"
    },
    {
     "data": {
      "image/png": "[encoded data removed]",
      "text/plain": [
       "<Figure size 432x288 with 2 Axes>"
      ]
     },
     "metadata": {
      "needs_background": "light"
     },
     "output_type": "display_data"
    }
   ],
   "source": [
    "gen = DB.gen_train_batches(2,bg=PARAMS['bg'],bg_contrast=PARAMS['bg_contrast'])\n",
    "x,xbg,y = next(gen)\n",
    "print(x.shape,y.shape)\n",
    "\n",
    "fig,axs = plt.subplots(1,2)\n",
    "print(x[5].min(),x[5].max())\n",
    "print(xbg[5].min(),xbg[5].max())\n",
    "\n",
    "axs[0].imshow(x[5].reshape(56,56),cmap='gray')\n",
    "axs[1].imshow(xbg[5].reshape(56,56),cmap='gray')\n",
    "# plt.colorbar()"
   ]
  },
  {
   "cell_type": "code",
   "execution_count": 9,
   "metadata": {},
   "outputs": [
    {
     "name": "stdout",
     "output_type": "stream",
     "text": [
      "https://ui.neptune.ml/elijahc/DuplexAE/e/DPX-27\n"
     ]
    },
    {
     "data": {
      "text/plain": [
       "Experiment(DPX-27)"
      ]
     },
     "execution_count": 9,
     "metadata": {},
     "output_type": "execute_result"
    }
   ],
   "source": [
    "neptune.init('elijahc/DuplexAE')\n",
    "src_files = [\n",
    "    './src/data_generator.py',\n",
    "    './src/data_loader.py',\n",
    "    './src/test_models/drduplex.py',\n",
    "    './src/test_models/partials.py',\n",
    "    './src/test_models/encoders.py',\n",
    "]\n",
    "exp = neptune.create_experiment(name='natural_w_recon',properties=PROPS,params=PARAMS,upload_source_files=src_files)\n",
    "exp_dir = os.path.join('models',exp_date,exp.id) \n",
    "\n",
    "os.mkdir(os.path.join(proj_root,exp_dir))\n",
    "os.mkdir(os.path.join(proj_root,exp_dir,'recons'))\n",
    "os.mkdir(os.path.join(proj_root,exp_dir,'test_ims'))\n",
    "\n",
    "exp.set_property('dir',exp_dir)"
   ]
  },
  {
   "cell_type": "code",
   "execution_count": 10,
   "metadata": {},
   "outputs": [],
   "source": [
    "w_xent = PARAMS['xent_weight']\n",
    "w_recon = PARAMS['recon_weight']"
   ]
  },
  {
   "cell_type": "code",
   "execution_count": 11,
   "metadata": {},
   "outputs": [],
   "source": [
    "mod = DRDuplex(img_shape=(56,56,1),y_dim=PARAMS['y_dim'],z_dim=PARAMS['z_dim'],\n",
    "               num_classes=DB.num_classes,\n",
    "               recon=w_recon,\n",
    "               xent=w_xent,n_residual_blocks=4,\n",
    "#                kernel_regularization=1e-5,\n",
    "              )"
   ]
  },
  {
   "cell_type": "code",
   "execution_count": 15,
   "metadata": {},
   "outputs": [
    {
     "data": {
      "text/plain": [
       "'/home/elijahc/projects/vae/models/2019-09-25/DPX-27'"
      ]
     },
     "execution_count": 15,
     "metadata": {},
     "output_type": "execute_result"
    }
   ],
   "source": [
    "mod_dir = os.path.join(proj_root,exp_dir)\n",
    "mod_dir"
   ]
  },
  {
   "cell_type": "code",
   "execution_count": 17,
   "metadata": {},
   "outputs": [],
   "source": [
    "save_model(mod.combined,mod_dir)"
   ]
  },
  {
   "cell_type": "code",
   "execution_count": 18,
   "metadata": {},
   "outputs": [
    {
     "data": {
      "text/plain": [
       "['loss',\n",
       " 'Generator_loss',\n",
       " 'Classifier_loss',\n",
       " 'Generator_mean_squared_error',\n",
       " 'Classifier_acc']"
      ]
     },
     "execution_count": 18,
     "metadata": {},
     "output_type": "execute_result"
    }
   ],
   "source": [
    "mod.combined.metrics_names"
   ]
  },
  {
   "cell_type": "code",
   "execution_count": null,
   "metadata": {},
   "outputs": [],
   "source": [
    "# val_pct = 0.05\n",
    "# val_idxs = np.random.choice(np.arange(10000),int(val_pct*60000),replace=False)\n",
    "# validation_set = (DB.x_te[val_idxs],\n",
    "#                   {'Classifier':DB.y_test_oh[val_idxs],\n",
    "#                    'Generator':DB.fg_test[val_idxs]}\n",
    "#                  )"
   ]
  },
  {
   "cell_type": "code",
   "execution_count": 19,
   "metadata": {},
   "outputs": [],
   "source": [
    "i = 0\n",
    "epoch_sz = int(DB.num_train/512)\n",
    "pan_ims = []\n",
    "pan_y = []\n",
    "\n",
    "# hist_labels = mod.combined.metrics_names\n",
    "hist_labels = ['loss','G_loss','C_loss','G_mse','acc']\n",
    "\n",
    "train_hist = []\n",
    "test_hist = []\n",
    "\n",
    "# val_X,val_X_fg,val_y = DB.gen_batch(DB.x_te,DB.y_test_oh,batch_size=1000,bg='natural')\n"
   ]
  },
  {
   "cell_type": "code",
   "execution_count": 20,
   "metadata": {},
   "outputs": [
    {
     "name": "stdout",
     "output_type": "stream",
     "text": [
      "(3, 28, 28)\n"
     ]
    }
   ],
   "source": [
    "num_pan = 3\n",
    "test_generator = DB.gen_test_batches(4, batch_size=PARAMS['batch_sz'], bg=PARAMS['bg'])\n",
    "not_unique = True\n",
    "while not_unique:\n",
    "    pan_idx = np.random.choice(np.arange(len(DB.x_te)),size=num_pan,replace=False)\n",
    "    if len(np.unique(DB.y_test[pan_idx])) == num_pan:\n",
    "        not_unique = False\n",
    "    \n",
    "px_ = DB.x_te[pan_idx]\n",
    "print(px_.shape)\n",
    "tX, tX_fg,ty = next(test_generator)"
   ]
  },
  {
   "cell_type": "code",
   "execution_count": 21,
   "metadata": {},
   "outputs": [],
   "source": [
    "x_span = DB.gen_pan_deltas(step=2)\n",
    "pX = np.stack([np.expand_dims(_shift_image(X=px_,dx=dx,dy=dy),-1) for dx,dy in x_span])\n",
    "\n",
    "scaler = MinMaxScaler(feature_range=(-1,1))\n",
    "n,r,x,y,c = pX.shape\n",
    "\n",
    "pX = scaler.fit_transform(pX.reshape(n,x*y*c*r)).reshape(n,r,x,y,c)"
   ]
  },
  {
   "cell_type": "code",
   "execution_count": 38,
   "metadata": {},
   "outputs": [],
   "source": [
    "npX = skim.util.random_noise(pX,mode='gaussian',var=0.1)\n"
   ]
  },
  {
   "cell_type": "code",
   "execution_count": 39,
   "metadata": {},
   "outputs": [
    {
     "data": {
      "image/png": "[encoded data removed]",
      "text/plain": [
       "<Figure size 432x288 with 3 Axes>"
      ]
     },
     "metadata": {
      "needs_background": "light"
     },
     "output_type": "display_data"
    }
   ],
   "source": [
    "fig,axs = plt.subplots(1,num_pan)\n",
    "for i,ax in enumerate(axs.ravel()):\n",
    "    ax.imshow(npX[29,i].reshape(56,56),cmap='gray')\n",
    "    ax.get_xaxis().set_visible(False)\n",
    "    ax.get_yaxis().set_visible(False)\n",
    "    \n",
    "plt.tight_layout()"
   ]
  },
  {
   "cell_type": "code",
   "execution_count": null,
   "metadata": {},
   "outputs": [],
   "source": [
    "# import numpy as np\n",
    "# nj = 25\n",
    "# fig,axs = plt.subplots(1,nj,figsize=(2*nj,2))\n",
    "\n",
    "# for i in np.arange(nj):\n",
    "#     axs[i].imshow(pX[i+15].reshape(56,56))"
   ]
  },
  {
   "cell_type": "code",
   "execution_count": 24,
   "metadata": {},
   "outputs": [],
   "source": [
    "def flush_pan(pan_ims):\n",
    "    min_max = lambda xp: np.clip((xp+1)/2,0,1)\n",
    "    for idx,inp,G in pan_ims:\n",
    "        idx = str(idx).zfill(3)\n",
    "        \n",
    "#         inp_fn = 'input_{}.png'.format(idx)\n",
    "#         inp_fp = os.path.join(proj_root,exp_dir,'test_ims',inp_fn)\n",
    "        \n",
    "        G_fn = 'G_{}.png'.format(idx)\n",
    "        G_fp = os.path.join(proj_root,exp_dir,'recons',G_fn)\n",
    "    \n",
    "        fig,axs = plt.subplots(2,num_pan)\n",
    "        for k in np.arange(num_pan):\n",
    "            axs[0,k].imshow(inp[k],cmap='gray')\n",
    "            axs[1,k].imshow(G[k],cmap='gray')\n",
    "\n",
    "        for ax in axs.ravel():\n",
    "            ax.get_xaxis().set_visible(False)\n",
    "            ax.get_yaxis().set_visible(False)\n",
    "\n",
    "        plt.tight_layout()     \n",
    "        \n",
    "        fig.savefig(G_fp)\n",
    "        plt.close(fig)"
   ]
  },
  {
   "cell_type": "code",
   "execution_count": 25,
   "metadata": {},
   "outputs": [],
   "source": [
    "recon_dir = os.path.join(proj_root,exp_dir,'recons')\n",
    "input_dir = os.path.join(proj_root,exp_dir,'test_ims')"
   ]
  },
  {
   "cell_type": "code",
   "execution_count": 26,
   "metadata": {},
   "outputs": [],
   "source": [
    "def make_gif(recon_dir,input_dir,fps=8,loop=0):\n",
    "    G_ims = []\n",
    "    for G in sorted(os.listdir(recon_dir)):\n",
    "        if G.endswith('.png'):\n",
    "            G_fp = os.path.join(recon_dir, G)\n",
    "            G_ims.append(imageio.imread(G_fp))\n",
    "        \n",
    "#     imageio.mimsave(os.path.join(proj_root,exp_dir,'inputs_video.gif'), input_ims,fps=fps,loop=loop)\n",
    "    imageio.mimsave(os.path.join(proj_root,exp_dir,'G_video.gif'), G_ims, fps=fps,loop=loop)"
   ]
  },
  {
   "cell_type": "code",
   "execution_count": null,
   "metadata": {},
   "outputs": [
    {
     "name": "stdout",
     "output_type": "stream",
     "text": [
      "  117 (train/val) G/C_loss[1055.22/2.30,   1080.69/2.32]   [acc: 12.30%,   val_acc: 11.91%]\n",
      "  234 (train/val) G/C_loss[571.90/2.25,   553.98/2.28]   [acc: 15.82%,   val_acc: 15.04%]\n",
      "  351 (train/val) G/C_loss[424.75/2.25,   411.32/2.26]   [acc: 14.65%,   val_acc: 16.21%]\n",
      "  468 (train/val) G/C_loss[358.97/2.23,   361.11/2.25]   [acc: 17.58%,   val_acc: 15.04%]\n",
      "  585 (train/val) G/C_loss[341.18/2.22,   335.01/2.24]   [acc: 19.73%,   val_acc: 15.62%]\n",
      "  702 (train/val) G/C_loss[325.95/2.20,   316.26/2.21]   [acc: 18.36%,   val_acc: 17.38%]\n",
      "  819 (train/val) G/C_loss[306.87/2.16,   305.22/2.18]   [acc: 20.70%,   val_acc: 19.92%]\n",
      "  936 (train/val) G/C_loss[287.02/2.14,   298.12/2.16]   [acc: 19.14%,   val_acc: 19.34%]\n",
      " 1053 (train/val) G/C_loss[301.10/2.13,   295.09/2.13]   [acc: 23.05%,   val_acc: 20.70%]\n",
      " 1170 (train/val) G/C_loss[307.97/2.10,   291.00/2.10]   [acc: 21.68%,   val_acc: 23.05%]\n",
      " 1287 (train/val) G/C_loss[296.94/2.04,   286.71/2.08]   [acc: 27.73%,   val_acc: 24.41%]\n",
      " 1404 (train/val) G/C_loss[288.60/2.03,   280.64/2.05]   [acc: 25.00%,   val_acc: 26.95%]\n",
      " 1521 (train/val) G/C_loss[271.85/1.97,   271.05/2.02]   [acc: 27.54%,   val_acc: 28.12%]\n",
      " 1638 (train/val) G/C_loss[263.36/1.94,   271.09/1.98]   [acc: 30.86%,   val_acc: 30.08%]\n",
      "writing_image_buffer...\n",
      "recompiling video...\n",
      " 1755 (train/val) G/C_loss[271.14/1.95,   265.45/1.96]   [acc: 29.69%,   val_acc: 28.71%]\n",
      " 1872 (train/val) G/C_loss[259.38/1.93,   263.34/1.93]   [acc: 30.47%,   val_acc: 31.45%]\n",
      " 1989 (train/val) G/C_loss[261.18/1.90,   258.17/1.91]   [acc: 31.64%,   val_acc: 31.05%]\n",
      " 2106 (train/val) G/C_loss[267.29/1.88,   260.56/1.90]   [acc: 33.20%,   val_acc: 31.84%]\n",
      " 2223 (train/val) G/C_loss[273.61/1.82,   259.28/1.88]   [acc: 36.91%,   val_acc: 33.20%]\n",
      " 2340 (train/val) G/C_loss[268.50/1.89,   253.63/1.86]   [acc: 31.05%,   val_acc: 32.23%]\n",
      " 2457 (train/val) G/C_loss[254.52/1.81,   250.35/1.84]   [acc: 34.57%,   val_acc: 35.55%]\n",
      " 2574 (train/val) G/C_loss[252.91/1.85,   250.44/1.82]   [acc: 33.01%,   val_acc: 34.57%]\n",
      " 2691 (train/val) G/C_loss[260.13/1.87,   246.35/1.81]   [acc: 32.23%,   val_acc: 33.40%]\n",
      " 2808 (train/val) G/C_loss[257.74/1.74,   243.86/1.80]   [acc: 37.30%,   val_acc: 34.77%]\n",
      " 2925 (train/val) G/C_loss[248.66/1.70,   247.03/1.79]   [acc: 39.26%,   val_acc: 35.94%]\n",
      " 3042 (train/val) G/C_loss[251.30/1.78,   247.83/1.77]   [acc: 38.28%,   val_acc: 36.72%]\n",
      " 3159 (train/val) G/C_loss[253.37/1.71,   242.34/1.77]   [acc: 38.87%,   val_acc: 35.74%]\n",
      " 3276 (train/val) G/C_loss[240.32/1.82,   239.41/1.76]   [acc: 34.18%,   val_acc: 35.55%]\n",
      "writing_image_buffer...\n",
      "recompiling video...\n",
      " 3393 (train/val) G/C_loss[241.23/1.68,   235.10/1.74]   [acc: 37.50%,   val_acc: 35.55%]\n",
      " 3510 (train/val) G/C_loss[233.10/1.75,   236.47/1.74]   [acc: 36.72%,   val_acc: 35.94%]\n",
      " 3627 (train/val) G/C_loss[237.07/1.77,   235.48/1.73]   [acc: 36.13%,   val_acc: 39.06%]\n",
      " 3744 (train/val) G/C_loss[236.70/1.76,   232.82/1.73]   [acc: 37.89%,   val_acc: 37.50%]\n",
      " 3861 (train/val) G/C_loss[238.77/1.79,   231.99/1.71]   [acc: 36.13%,   val_acc: 38.09%]\n",
      " 3978 (train/val) G/C_loss[245.20/1.73,   231.18/1.71]   [acc: 38.67%,   val_acc: 37.11%]\n",
      " 4095 (train/val) G/C_loss[234.84/1.68,   229.37/1.71]   [acc: 40.43%,   val_acc: 37.70%]\n",
      " 4212 (train/val) G/C_loss[228.99/1.66,   230.35/1.69]   [acc: 41.21%,   val_acc: 38.28%]\n",
      " 4329 (train/val) G/C_loss[237.11/1.63,   230.16/1.67]   [acc: 41.02%,   val_acc: 38.09%]\n",
      " 4446 (train/val) G/C_loss[228.85/1.72,   229.83/1.67]   [acc: 36.33%,   val_acc: 39.06%]\n",
      " 4563 (train/val) G/C_loss[247.70/1.67,   230.55/1.67]   [acc: 39.26%,   val_acc: 39.65%]\n",
      " 4680 (train/val) G/C_loss[242.66/1.77,   228.24/1.67]   [acc: 35.35%,   val_acc: 39.06%]\n",
      " 4797 (train/val) G/C_loss[225.77/1.72,   227.57/1.65]   [acc: 37.50%,   val_acc: 40.62%]\n",
      " 4914 (train/val) G/C_loss[231.48/1.61,   226.00/1.67]   [acc: 41.80%,   val_acc: 39.06%]\n",
      "writing_image_buffer...\n",
      "recompiling video...\n",
      " 5031 (train/val) G/C_loss[218.15/1.66,   224.97/1.65]   [acc: 38.28%,   val_acc: 39.65%]\n",
      " 5148 (train/val) G/C_loss[224.51/1.58,   222.05/1.65]   [acc: 43.75%,   val_acc: 39.26%]\n",
      " 5265 (train/val) G/C_loss[226.73/1.66,   219.92/1.64]   [acc: 37.50%,   val_acc: 38.48%]\n",
      " 5382 (train/val) G/C_loss[222.17/1.61,   219.61/1.63]   [acc: 43.75%,   val_acc: 40.04%]\n",
      " 5499 (train/val) G/C_loss[226.92/1.61,   224.03/1.62]   [acc: 39.65%,   val_acc: 40.62%]\n",
      " 5616 (train/val) G/C_loss[220.29/1.63,   217.45/1.63]   [acc: 37.89%,   val_acc: 40.04%]\n",
      " 5733 (train/val) G/C_loss[229.06/1.69,   219.31/1.62]   [acc: 36.72%,   val_acc: 39.65%]\n",
      " 5850 (train/val) G/C_loss[220.50/1.60,   223.63/1.61]   [acc: 41.99%,   val_acc: 40.82%]\n",
      " 5967 (train/val) G/C_loss[225.64/1.60,   218.98/1.60]   [acc: 42.38%,   val_acc: 41.80%]\n",
      " 6084 (train/val) G/C_loss[211.78/1.62,   214.10/1.62]   [acc: 43.55%,   val_acc: 41.02%]\n",
      " 6201 (train/val) G/C_loss[225.03/1.67,   215.28/1.60]   [acc: 38.48%,   val_acc: 43.55%]\n",
      " 6318 (train/val) G/C_loss[216.54/1.57,   214.56/1.61]   [acc: 42.77%,   val_acc: 41.60%]\n",
      " 6435 (train/val) G/C_loss[219.41/1.64,   210.19/1.59]   [acc: 42.19%,   val_acc: 41.99%]\n",
      " 6552 (train/val) G/C_loss[207.93/1.60,   211.38/1.59]   [acc: 42.19%,   val_acc: 41.21%]\n",
      "writing_image_buffer...\n",
      "recompiling video...\n",
      " 6669 (train/val) G/C_loss[198.08/1.58,   212.94/1.58]   [acc: 44.73%,   val_acc: 43.75%]\n",
      " 6786 (train/val) G/C_loss[219.60/1.55,   215.17/1.59]   [acc: 43.95%,   val_acc: 43.75%]\n",
      " 6903 (train/val) G/C_loss[216.43/1.58,   210.63/1.59]   [acc: 43.75%,   val_acc: 40.62%]\n",
      " 7020 (train/val) G/C_loss[207.91/1.61,   212.09/1.57]   [acc: 41.99%,   val_acc: 41.80%]\n",
      " 7137 (train/val) G/C_loss[204.62/1.57,   207.51/1.57]   [acc: 43.36%,   val_acc: 44.14%]\n",
      " 7254 (train/val) G/C_loss[205.33/1.55,   205.17/1.57]   [acc: 46.48%,   val_acc: 45.70%]\n",
      " 7371 (train/val) G/C_loss[212.00/1.57,   204.78/1.58]   [acc: 41.60%,   val_acc: 43.55%]\n"
     ]
    }
   ],
   "source": [
    "for X,X_fg,y in DB.gen_train_batches(PARAMS['n_epochs'],bg=PARAMS['bg']):\n",
    "    y = {'Classifier':y,\n",
    "         'Generator':X_fg,\n",
    "        }\n",
    "    r = mod.combined.train_on_batch(X,y)\n",
    "    r = {k:v for k,v in zip(hist_labels,r)}\n",
    "\n",
    "#     metrics = {k:v for k,v in zip(met_names,met_vals)}\n",
    "    if i % epoch_sz == 0 and i > 0:\n",
    "        r_te = mod.combined.test_on_batch(tX,{'Classifier':ty,\n",
    "                                              'Generator':tX_fg\n",
    "                                             })\n",
    "        r_te = {k:v for k,v in zip(hist_labels,r_te)}\n",
    "        exp.log_metric('batch',i)\n",
    "        for metric in hist_labels:\n",
    "            exp.log_metric(metric,r[metric])\n",
    "            exp.log_metric('val_{}'.format(metric),r_te[metric])\n",
    "\n",
    "        r['batch']=i\n",
    "        r_te['batch']=i\n",
    "\n",
    "#         r['result_type'] = 'train'\n",
    "#         r_te['result_type'] = 'valid'\n",
    "\n",
    "#         train_hist.append(r)\n",
    "#         train_hist.append(r_te)\n",
    "\n",
    "        p_loss = \"{:5d} (train/val) G/C_loss[{:2.2f}/{:.2f},   {:2.2f}/{:.2f}]\".format(i,r['G_loss'],r['C_loss'],r_te['G_loss'],r_te['C_loss'])\n",
    "#         p_loss = \"{:5d} (train/val loss:[{:2.2f}, {:2.2f}])\".format(i,r['loss'],r_te['loss'])\n",
    "        p_acc = \"[acc: {:2.2%},   val_acc: {:2.2%}]\".format(r['acc'],r_te['acc'])\n",
    "        print(p_loss,' ',p_acc)\n",
    "        \n",
    "        pidx = int(i/epoch_sz)%len(pX)\n",
    "        im = skim.util.random_noise(pX[pidx],mode='gaussian',var=0.1)\n",
    "        p_recon,p_class = mod.combined.predict_on_batch(im)\n",
    "        \n",
    "        pan_im = (int(i/epoch_sz), np.squeeze(im), np.squeeze(p_recon))\n",
    "        pan_ims.append(pan_im)\n",
    "        pan_y.append(p_class)\n",
    "        \n",
    "        if i>0 and len(pan_ims)>int(len(pX)/3):\n",
    "            print('writing_image_buffer...')\n",
    "            flush_pan(pan_ims)\n",
    "            pan_ims = []\n",
    "                \n",
    "            print('recompiling video...')\n",
    "            make_gif(recon_dir,input_dir)\n",
    "                        \n",
    "    i+=1"
   ]
  },
  {
   "cell_type": "code",
   "execution_count": 41,
   "metadata": {},
   "outputs": [],
   "source": [
    "flush_pan(pan_ims)\n",
    "pan_ims = []\n",
    "make_gif(recon_dir,input_dir,)"
   ]
  },
  {
   "cell_type": "code",
   "execution_count": 42,
   "metadata": {},
   "outputs": [],
   "source": [
    "exp.stop()"
   ]
  },
  {
   "cell_type": "code",
   "execution_count": 43,
   "metadata": {},
   "outputs": [
    {
     "data": {
      "text/plain": [
       "'/home/elijahc/projects/vae/models/2019-09-25/DPX-27'"
      ]
     },
     "execution_count": 43,
     "metadata": {},
     "output_type": "execute_result"
    }
   ],
   "source": [
    "mod_dir = os.path.join(proj_root,exp_dir)\n",
    "mod_dir"
   ]
  },
  {
   "cell_type": "code",
   "execution_count": 44,
   "metadata": {},
   "outputs": [],
   "source": [
    "hist_tr = pd.DataFrame.from_records(train_hist)"
   ]
  },
  {
   "cell_type": "code",
   "execution_count": 45,
   "metadata": {},
   "outputs": [],
   "source": [
    "# sns.set_context('talk')\n",
    "# fig,axs = plt.subplots(1,4,figsize=(4*4,1*4),sharex=True)\n",
    "# for ax,metric in zip(axs.ravel(),['loss','G_loss','C_loss','acc']):\n",
    "#     sns.lineplot(x='batch',y=metric, hue='result_type',data=hist_tr,ax=ax)"
   ]
  },
  {
   "cell_type": "code",
   "execution_count": 46,
   "metadata": {},
   "outputs": [
    {
     "name": "stdout",
     "output_type": "stream",
     "text": [
      "/home/elijahc/projects/vae/models/2019-09-25/DPX-27\n"
     ]
    }
   ],
   "source": [
    "print(mod_dir)\n",
    "hist_tr.to_csv(os.path.join(mod_dir,'training_hist.csv'))"
   ]
  },
  {
   "cell_type": "code",
   "execution_count": null,
   "metadata": {},
   "outputs": [],
   "source": [
    "model_json = mod.combined.to_json()\n",
    "with open(os.path.join(mod_dir,\"model.json\"), \"w\") as json_file:\n",
    "    json_file.write(model_json)\n",
    "    \n",
    "exp.send_artifact(os.path.join(mod_dir,'model.json'))"
   ]
  },
  {
   "cell_type": "code",
   "execution_count": 47,
   "metadata": {},
   "outputs": [],
   "source": [
    "mod.combined.save_weights(os.path.join(mod_dir,'weights.h5'))"
   ]
  },
  {
   "cell_type": "code",
   "execution_count": 74,
   "metadata": {},
   "outputs": [],
   "source": [
    "teX,teX_fg,te_y = next(test_generator)"
   ]
  },
  {
   "cell_type": "code",
   "execution_count": 75,
   "metadata": {},
   "outputs": [
    {
     "name": "stdout",
     "output_type": "stream",
     "text": [
      "512/512 [==============================] - 0s 135us/step\n"
     ]
    }
   ],
   "source": [
    "res = mod.combined.evaluate(teX,{'Classifier':te_y,'Generator':teX_fg},batch_size=PARAMS['batch_sz'])\n"
   ]
  },
  {
   "cell_type": "code",
   "execution_count": 76,
   "metadata": {},
   "outputs": [
    {
     "data": {
      "text/plain": [
       "[165.2099609375,\n",
       " 146.4774627685547,\n",
       " 1.246190071105957,\n",
       " 0.0467083714902401,\n",
       " 0.552734375]"
      ]
     },
     "execution_count": 76,
     "metadata": {},
     "output_type": "execute_result"
    }
   ],
   "source": [
    "res"
   ]
  },
  {
   "cell_type": "code",
   "execution_count": 73,
   "metadata": {},
   "outputs": [
    {
     "ename": "AttributeError",
     "evalue": "'Model' object has no attribute 'evaluate_on_batch'",
     "output_type": "error",
     "traceback": [
      "\u001b[0;31m---------------------------------------------------------------------------\u001b[0m",
      "\u001b[0;31mAttributeError\u001b[0m                            Traceback (most recent call last)",
      "\u001b[0;32m<ipython-input-73-c1db4c0d8908>\u001b[0m in \u001b[0;36m<module>\u001b[0;34m()\u001b[0m\n\u001b[1;32m      1\u001b[0m \u001b[0mout\u001b[0m \u001b[0;34m=\u001b[0m \u001b[0mmod\u001b[0m\u001b[0;34m.\u001b[0m\u001b[0mcombined\u001b[0m\u001b[0;34m.\u001b[0m\u001b[0mpredict_on_batch\u001b[0m\u001b[0;34m(\u001b[0m\u001b[0mteX\u001b[0m\u001b[0;34m)\u001b[0m\u001b[0;34m\u001b[0m\u001b[0m\n\u001b[0;32m----> 2\u001b[0;31m \u001b[0mres\u001b[0m \u001b[0;34m=\u001b[0m \u001b[0mmod\u001b[0m\u001b[0;34m.\u001b[0m\u001b[0mcombined\u001b[0m\u001b[0;34m.\u001b[0m\u001b[0mevaluate_on_batch\u001b[0m\u001b[0;34m(\u001b[0m\u001b[0mteX\u001b[0m\u001b[0;34m)\u001b[0m\u001b[0;34m\u001b[0m\u001b[0m\n\u001b[0m\u001b[1;32m      3\u001b[0m \u001b[0;34m\u001b[0m\u001b[0m\n\u001b[1;32m      4\u001b[0m \u001b[0mnteX\u001b[0m \u001b[0;34m=\u001b[0m \u001b[0mskim\u001b[0m\u001b[0;34m.\u001b[0m\u001b[0mutil\u001b[0m\u001b[0;34m.\u001b[0m\u001b[0mrandom_noise\u001b[0m\u001b[0;34m(\u001b[0m\u001b[0mteX\u001b[0m\u001b[0;34m,\u001b[0m\u001b[0mmode\u001b[0m\u001b[0;34m=\u001b[0m\u001b[0;34m'gaussian'\u001b[0m\u001b[0;34m,\u001b[0m\u001b[0mvar\u001b[0m\u001b[0;34m=\u001b[0m\u001b[0;36m0.2\u001b[0m\u001b[0;34m)\u001b[0m\u001b[0;34m\u001b[0m\u001b[0m\n\u001b[1;32m      5\u001b[0m \u001b[0mnout\u001b[0m \u001b[0;34m=\u001b[0m \u001b[0mmod\u001b[0m\u001b[0;34m.\u001b[0m\u001b[0mcombined\u001b[0m\u001b[0;34m.\u001b[0m\u001b[0mpredict_on_batch\u001b[0m\u001b[0;34m(\u001b[0m\u001b[0mnteX\u001b[0m\u001b[0;34m)\u001b[0m\u001b[0;34m\u001b[0m\u001b[0m\n",
      "\u001b[0;31mAttributeError\u001b[0m: 'Model' object has no attribute 'evaluate_on_batch'"
     ]
    }
   ],
   "source": [
    "nteX = skim.util.random_noise(teX,mode='gaussian',var=0.2)\n",
    "nout = mod.combined.predict_on_batch(nteX)"
   ]
  },
  {
   "cell_type": "code",
   "execution_count": 78,
   "metadata": {},
   "outputs": [],
   "source": [
    "out = mod.combined.predict_on_batch(teX)\n",
    "x_recon,y = out\n",
    "n_recon,ny = nout"
   ]
  },
  {
   "cell_type": "code",
   "execution_count": 87,
   "metadata": {},
   "outputs": [],
   "source": [
    "choices = np.random.choice(np.arange(512),size=5,replace=False)"
   ]
  },
  {
   "cell_type": "code",
   "execution_count": 88,
   "metadata": {},
   "outputs": [
    {
     "data": {
      "image/png": "[encoded data removed]",
      "text/plain": [
       "<Figure size 720x288 with 10 Axes>"
      ]
     },
     "metadata": {
      "needs_background": "light"
     },
     "output_type": "display_data"
    }
   ],
   "source": [
    "fix,axes = plt.subplots(2,5,figsize=(2*5,2*2))\n",
    "\n",
    "for i,idx in enumerate(choices):\n",
    "    axs = axes[:,i]\n",
    "    axs[0].imshow(teX[idx].reshape(56,56),cmap='gray',vmin=-1,vmax=1)\n",
    "    axs[1].imshow(x_recon[idx].reshape(56,56),cmap='gray',vmin=-1,vmax=1)\n",
    "    \n",
    "for ax in axes.ravel():\n",
    "    ax.get_yaxis().set_visible(False)\n",
    "    ax.get_xaxis().set_visible(False)\n",
    "    \n",
    "plt.tight_layout()"
   ]
  },
  {
   "cell_type": "code",
   "execution_count": 89,
   "metadata": {},
   "outputs": [],
   "source": [
    "fig.savefig(os.path.join(mod_dir,'inp_output_pairs.png'),dpi=150)"
   ]
  },
  {
   "cell_type": "code",
   "execution_count": 90,
   "metadata": {},
   "outputs": [],
   "source": [
    "exp.send_artifact(os.path.join(mod_dir,'inp_output_pairs.png'))"
   ]
  },
  {
   "cell_type": "code",
   "execution_count": 72,
   "metadata": {},
   "outputs": [
    {
     "data": {
      "image/png": "[encoded data removed]",
      "text/plain": [
       "<Figure size 720x288 with 10 Axes>"
      ]
     },
     "metadata": {
      "needs_background": "light"
     },
     "output_type": "display_data"
    }
   ],
   "source": [
    "fix,axes = plt.subplots(2,5,figsize=(2*5,2*2))\n",
    "\n",
    "for i,idx in enumerate(choices):\n",
    "    axs = axes[:,i]\n",
    "    axs[0].imshow(nteX[idx].reshape(56,56),cmap='gray',vmin=-1,vmax=1)\n",
    "    axs[1].imshow(n_recon[idx].reshape(56,56),cmap='gray',vmin=-1,vmax=1)\n",
    "    \n",
    "for ax in axes.ravel():\n",
    "    ax.get_yaxis().set_visible(False)\n",
    "    ax.get_xaxis().set_visible(False)\n",
    "    \n",
    "plt.tight_layout()"
   ]
  },
  {
   "cell_type": "code",
   "execution_count": null,
   "metadata": {},
   "outputs": [],
   "source": []
  }
 ],
 "metadata": {
  "kernelspec": {
   "display_name": "Py3-GPU (Python3.5.2)",
   "language": "python",
   "name": "py3-gpu"
  },
  "language_info": {
   "codemirror_mode": {
    "name": "ipython",
    "version": 3
   },
   "file_extension": ".py",
   "mimetype": "text/x-python",
   "name": "python",
   "nbconvert_exporter": "python",
   "pygments_lexer": "ipython3",
   "version": "3.5.2"
  },
  "neptune": {
   "notebookId": "d5fdb345-721d-4a1e-99ab-6ce8f0daefa5"
  }
 },
 "nbformat": 4,
 "nbformat_minor": 2
}
