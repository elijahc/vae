{
 "cells": [
  {
   "cell_type": "code",
   "execution_count": 1,
   "metadata": {},
   "outputs": [
    {
     "name": "stderr",
     "output_type": "stream",
     "text": [
      "Using TensorFlow backend.\n"
     ]
    }
   ],
   "source": [
    "import numpy as np\n",
    "import neptune\n",
    "import imageio\n",
    "import scipy as scipy\n",
    "import pandas as pd\n",
    "import matplotlib.pyplot as plt\n",
    "from PIL import Image\n",
    "import os\n",
    "import skimage as skim\n",
    "from scipy.ndimage import rotate\n",
    "from tqdm import tqdm as tqdm\n",
    "\n",
    "import seaborn as sns\n",
    "from sklearn.preprocessing import MinMaxScaler\n",
    "from src.results.utils import FMNIST_CATEGORIES\n",
    "\n",
    "from src.data_loader import _shift_image\n",
    "from src.stimuli import FashionMNISTM as ShiftedDataBatcher\n",
    "from src.test_models.crduplex import CR_DAE\n",
    "from src.utils import save_model, save_model_and_weights, save_weights, prepare_dir\n",
    "from src.plot import plot_img_row,remove_axes,remove_labels"
   ]
  },
  {
   "cell_type": "markdown",
   "metadata": {},
   "source": [
    "# Experiment parameters"
   ]
  },
  {
   "cell_type": "code",
   "execution_count": 2,
   "metadata": {},
   "outputs": [],
   "source": [
    "exp_date = '2020-04-11'\n",
    "proj_root = '/home/elijahc/projects/vae'\n",
    "models_root = prepare_dir(proj_root,'models',exp_date)"
   ]
  },
  {
   "cell_type": "code",
   "execution_count": 3,
   "metadata": {},
   "outputs": [],
   "source": [
    "PROPS = {\n",
    "    'dataset':'fashion_mnist',\n",
    "    'encoder_arch': 'convnet',\n",
    "    'generator_arch': 'resnet',\n",
    "    'augmentation': 'dynamic',\n",
    "}\n",
    "\n",
    "PARAMS = {}\n",
    "\n",
    "train_conf = {\n",
    "    'n_epochs': 90000,\n",
    "    'batch_sz':256,\n",
    "}\n",
    "\n",
    "data_conf = {\n",
    "    'bg': 'natural',\n",
    "    'im_translation':0.75,\n",
    "    'bg_contrast': 0.5,\n",
    "    'rotation':0.3,\n",
    "}\n",
    "\n",
    "model_conf = {\n",
    "    'xent_weight': 15,\n",
    "    'recon_weight': 0,\n",
    "    'y_dim':500,\n",
    "    'z_dim':0,\n",
    "}\n",
    "\n",
    "for conf in [train_conf,data_conf,model_conf]:\n",
    "    PARAMS.update(conf)"
   ]
  },
  {
   "cell_type": "markdown",
   "metadata": {},
   "source": [
    "# Initialize databatcher with experiment parameters"
   ]
  },
  {
   "cell_type": "code",
   "execution_count": 4,
   "metadata": {},
   "outputs": [
    {
     "ename": "NameError",
     "evalue": "name 'exp' is not defined",
     "output_type": "error",
     "traceback": [
      "\u001b[0;31m---------------------------------------------------------------------------\u001b[0m",
      "\u001b[0;31mNameError\u001b[0m                                 Traceback (most recent call last)",
      "\u001b[0;32m<ipython-input-4-4ecc6dcf0ebc>\u001b[0m in \u001b[0;36m<module>\u001b[0;34m()\u001b[0m\n\u001b[0;32m----> 1\u001b[0;31m \u001b[0mPARAMS\u001b[0m \u001b[0;34m=\u001b[0m \u001b[0mexp\u001b[0m\u001b[0;34m.\u001b[0m\u001b[0mget_parameters\u001b[0m\u001b[0;34m(\u001b[0m\u001b[0;34m)\u001b[0m\u001b[0;34m\u001b[0m\u001b[0m\n\u001b[0m",
      "\u001b[0;31mNameError\u001b[0m: name 'exp' is not defined"
     ]
    }
   ],
   "source": [
    "PARAMS = exp.get_parameters()"
   ]
  },
  {
   "cell_type": "code",
   "execution_count": 5,
   "metadata": {},
   "outputs": [
    {
     "name": "stdout",
     "output_type": "stream",
     "text": [
      "loading bsds500...\n"
     ]
    }
   ],
   "source": [
    "DB = ShiftedDataBatcher(translation=PARAMS['im_translation'],\n",
    "                        blend=None,\n",
    "#                         scale=4,\n",
    "                        rotation=PARAMS['rotation'],\n",
    "#                         blend='difference',\n",
    "                        batch_size=PARAMS['batch_sz'],\n",
    "                       )"
   ]
  },
  {
   "cell_type": "code",
   "execution_count": 17,
   "metadata": {},
   "outputs": [],
   "source": [
    "X,y,_ = next(DB.gen_train_batches(1))\n",
    "x,fg,orig = X['whole'],X['foreground'],X['object']"
   ]
  },
  {
   "cell_type": "code",
   "execution_count": null,
   "metadata": {},
   "outputs": [],
   "source": [
    "# x,fg,orig,y = DB.plot_example()"
   ]
  },
  {
   "cell_type": "code",
   "execution_count": 8,
   "metadata": {},
   "outputs": [
    {
     "data": {
      "text/plain": [
       "<matplotlib.colorbar.Colorbar at 0x7f365102ec50>"
      ]
     },
     "execution_count": 8,
     "metadata": {},
     "output_type": "execute_result"
    },
    {
     "data": {
      "image/png": "[encoded data removed]",
      "text/plain": [
       "<Figure size 432x288 with 2 Axes>"
      ]
     },
     "metadata": {
      "needs_background": "light"
     },
     "output_type": "display_data"
    }
   ],
   "source": [
    "plt.imshow(np.squeeze(orig[3]),cmap='gray')\n",
    "plt.colorbar()"
   ]
  },
  {
   "cell_type": "markdown",
   "metadata": {},
   "source": [
    "# Initialize neptune monitoring"
   ]
  },
  {
   "cell_type": "code",
   "execution_count": 9,
   "metadata": {},
   "outputs": [],
   "source": [
    "os.environ['NEPTUNE_API_TOKEN']=\"eyJhcGlfYWRkcmVzcyI6Imh0dHBzOi8vdWkubmVwdHVuZS5tbCIsImFwaV9rZXkiOiI3ZWExMTlmYS02ZTE2LTQ4ZTktOGMxMi0wMDJiZTljOWYyNDUifQ==\"\n",
    "neptune.init('elijahc/DuplexAE')\n",
    "neptune.set_project('elijahc/DuplexAE')\n",
    "from src.results.neptune import load_configs,load_models"
   ]
  },
  {
   "cell_type": "code",
   "execution_count": 10,
   "metadata": {},
   "outputs": [],
   "source": [
    "exps = [\n",
    "    'DPX-45',\n",
    "]"
   ]
  },
  {
   "cell_type": "code",
   "execution_count": 11,
   "metadata": {},
   "outputs": [],
   "source": [
    "exp = neptune.project.get_experiments(id=exps)[0]"
   ]
  },
  {
   "cell_type": "code",
   "execution_count": 13,
   "metadata": {},
   "outputs": [
    {
     "data": {
      "text/plain": [
       "<generator object load_models at 0x7f363c11bfc0>"
      ]
     },
     "execution_count": 13,
     "metadata": {},
     "output_type": "execute_result"
    }
   ],
   "source": [
    "load_models(proj_root=proj_root,experiments=exps)"
   ]
  },
  {
   "cell_type": "code",
   "execution_count": null,
   "metadata": {},
   "outputs": [],
   "source": [
    "neptune.s"
   ]
  },
  {
   "cell_type": "code",
   "execution_count": null,
   "metadata": {},
   "outputs": [],
   "source": [
    "exp.get_properties()['dir']"
   ]
  },
  {
   "cell_type": "code",
   "execution_count": null,
   "metadata": {},
   "outputs": [],
   "source": [
    "exp = neptune.create_experiment(name='Lg_convE_w_recon',properties=PROPS,params=PARAMS,upload_source_files=src_files)\n",
    "exp_dir = os.path.join('models',exp_date,exp.id)\n",
    "exp.set_property('dir',exp_dir)"
   ]
  },
  {
   "cell_type": "code",
   "execution_count": null,
   "metadata": {},
   "outputs": [],
   "source": [
    "prepare_dir(proj_root,exp_dir)\n",
    "prepare_dir(proj_root,exp_dir,'recons')\n",
    "prepare_dir(proj_root,exp_dir,'test_ims')"
   ]
  },
  {
   "cell_type": "code",
   "execution_count": null,
   "metadata": {},
   "outputs": [],
   "source": [
    "mod = CR_DAE(input_shape=(112,112,1),output_shape=(112,112,1),n_residual_blocks=4,\n",
    "             y_dim=PARAMS['y_dim'],z_dim=PARAMS['z_dim'],\n",
    "               num_classes=DB.num_classes,\n",
    "               recon=w_recon,\n",
    "               xent=w_xent,\n",
    "#                kernel_regularization=1e-5,\n",
    "              )"
   ]
  },
  {
   "cell_type": "code",
   "execution_count": null,
   "metadata": {},
   "outputs": [],
   "source": [
    "mod_dir = prepare_dir(proj_root,exp_dir)\n",
    "mod_dir"
   ]
  },
  {
   "cell_type": "markdown",
   "metadata": {},
   "source": [
    "# Save model description and initial weights"
   ]
  },
  {
   "cell_type": "code",
   "execution_count": null,
   "metadata": {},
   "outputs": [],
   "source": [
    "save_model(mod.combined,mod_dir)\n",
    "mod.combined.save_weights(os.path.join(mod_dir,'weights_0.h5'))\n",
    "\n",
    "model_json = mod.combined.to_json()\n",
    "with open(os.path.join(mod_dir,\"model.json\"), \"w\") as json_file:\n",
    "    json_file.write(model_json)"
   ]
  },
  {
   "cell_type": "code",
   "execution_count": null,
   "metadata": {},
   "outputs": [],
   "source": [
    "mod.combined.metrics_names"
   ]
  },
  {
   "cell_type": "code",
   "execution_count": null,
   "metadata": {},
   "outputs": [],
   "source": [
    "i = 0\n",
    "epoch_sz = int(DB.num_train/PARAMS['batch_sz'])\n",
    "pan_ims = []\n",
    "pan_y = []\n",
    "\n",
    "# hist_labels = mod.combined.metrics_names\n",
    "hist_labels = ['loss','G_loss','C_loss','G_mse','acc']\n",
    "\n",
    "train_hist = []\n",
    "test_hist = []\n",
    "\n",
    "# val_X,val_X_fg,val_y = DB.gen_batch(DB.x_te,DB.y_test_oh,batch_size=1000,bg='natural')"
   ]
  },
  {
   "cell_type": "code",
   "execution_count": null,
   "metadata": {},
   "outputs": [],
   "source": [
    "test_generator = DB.gen_test_batches(1, batch_size=PARAMS['batch_sz'])\n",
    "ims,ty,_ = next(test_generator)\n",
    "tX, tX_fg,tXsm = ims['whole'],ims['foreground'],ims['object']\n",
    "cent = int((112-28)/2)\n",
    "delt = int(cent*PARAMS['im_translation'])\n",
    "p_min = int(cent-delt)\n",
    "p_max = int(cent+delt)\n",
    "\n",
    "height = np.random.randint(p_min,p_max,PARAMS['batch_sz'])"
   ]
  },
  {
   "cell_type": "code",
   "execution_count": null,
   "metadata": {},
   "outputs": [],
   "source": [
    "def flush_pan(pan_ims):\n",
    "    min_max = lambda xp: np.clip((xp+1)/2,0,1)\n",
    "    for idx,inp,G in pan_ims:\n",
    "        idx = str(idx).zfill(3)\n",
    "        \n",
    "#         inp_fn = 'input_{}.png'.format(idx)\n",
    "#         inp_fp = os.path.join(proj_root,exp_dir,'test_ims',inp_fn)\n",
    "        \n",
    "        G_fn = 'G_{}.png'.format(idx)\n",
    "        G_fp = os.path.join(proj_root,exp_dir,'recons',G_fn)\n",
    "    \n",
    "        fig,axs = plt.subplots(2,num_pan)\n",
    "        for k in np.arange(num_pan):\n",
    "            axs[0,k].imshow(inp[k],cmap='gray')\n",
    "            axs[1,k].imshow(G[k],cmap='gray')\n",
    "\n",
    "        for ax in axs.ravel():\n",
    "            ax.get_xaxis().set_visible(False)\n",
    "            ax.get_yaxis().set_visible(False)\n",
    "\n",
    "        plt.tight_layout()     \n",
    "        \n",
    "        fig.savefig(G_fp)\n",
    "        plt.close(fig)"
   ]
  },
  {
   "cell_type": "code",
   "execution_count": null,
   "metadata": {},
   "outputs": [],
   "source": [
    "recon_dir = prepare_dir(proj_root,exp_dir,'recons')\n",
    "# input_dir = prepare_dir(proj_root,exp_dir,'test_ims')"
   ]
  },
  {
   "cell_type": "code",
   "execution_count": null,
   "metadata": {},
   "outputs": [],
   "source": [
    "def make_gif(recon_dir,input_dir,fps=8,loop=0):\n",
    "    G_ims = []\n",
    "    for G in sorted(os.listdir(recon_dir)):\n",
    "        if G.endswith('.png'):\n",
    "            G_fp = os.path.join(recon_dir, G)\n",
    "            G_ims.append(imageio.imread(G_fp))\n",
    "        \n",
    "#     imageio.mimsave(os.path.join(proj_root,exp_dir,'inputs_video.gif'), input_ims,fps=fps,loop=loop)\n",
    "    imageio.mimsave(os.path.join(proj_root,exp_dir,'G_video.gif'), G_ims, fps=fps,loop=loop)"
   ]
  },
  {
   "cell_type": "code",
   "execution_count": null,
   "metadata": {},
   "outputs": [],
   "source": [
    "# x_span = DB.gen_pan_deltas(step=2)\n",
    "# pX = np.stack([DB._translate_image(px_[1],dx,dy) for dx,dy in x_span])\n",
    "\n",
    "\n",
    "\n",
    "# scaler = MinMaxScaler(feature_range=(-1,1))\n",
    "# n,x,y,c = pX.shape\n",
    "\n",
    "# pX = scaler.fit_transform(pX.reshape(n,x*y*c)).reshape(n,x,y,c)"
   ]
  },
  {
   "cell_type": "code",
   "execution_count": null,
   "metadata": {},
   "outputs": [],
   "source": [
    "def plot_test_grid(hist):\n",
    "\n",
    "    fig,axs = plt.subplots(2,4,figsize=(10,5))\n",
    "\n",
    "    G_axs = axs[0]\n",
    "    C_axs = axs[1]\n",
    "    \n",
    "    if len(hist) > 151:\n",
    "        hist_tr = hist.iloc[-150:]\n",
    "    else:\n",
    "        hist_tr = hist\n",
    "    \n",
    "    sns.lineplot(x='batch',y='G_loss',hue='result_type',data=hist_tr,ax=G_axs[0],legend=False)\n",
    "    G_axs[0].set_title('vG_loss: {}'.format(int(r_te['G_loss'])))\n",
    "#     G_axs[0].set_yscale('log')\n",
    "\n",
    "    sns.lineplot(x='batch',y='acc',hue='result_type',data=hist_tr,ax=C_axs[0],legend=False)\n",
    "    C_axs[0].set_title('vAcc: {:02.1%}'.format(r_te['acc']))\n",
    "\n",
    "    G_axs[1].imshow(np.squeeze(n_im),cmap='gray',vmin=-1,vmax=1)\n",
    "    G_axs[1].set_title('Test Image')\n",
    "    C_axs[1].imshow(np.squeeze(n_im),cmap='gray',vmin=-1,vmax=1)\n",
    "    remove_labels(C_axs[1])\n",
    "    remove_axes(C_axs[1])\n",
    "\n",
    "    G_axs[2].imshow(np.squeeze(p_recon),cmap='gray',vmin=-1,vmax=1)\n",
    "    G_axs[2].set_title('Prediction')\n",
    "    C_axs[2].set_title(FMNIST_CATEGORIES[np.argmax(p_class)])\n",
    "    c = ['blue']*10\n",
    "    c[np.argmax(p_class)]='green'\n",
    "    C_axs[2].barh(np.arange(10),np.squeeze(p_class),color=c)\n",
    "    C_axs[2].set_xlim(0,1)\n",
    "\n",
    "    G_axs[3].imshow(np.squeeze(im),cmap='gray',vmin=-1,vmax=1)\n",
    "    G_axs[3].set_title('Goal')\n",
    "    C_axs[3].barh(np.arange(10),ty[t_idx],color=['green']*10)\n",
    "    C_axs[3].set_title(FMNIST_CATEGORIES[np.argmax(ty[t_idx])])\n",
    "\n",
    "    C_axs[3].set_yticks(np.arange(10))\n",
    "    C_axs[3].set_yticklabels(FMNIST_CATEGORIES)\n",
    "    C_axs[2].set_yticks(np.arange(10))\n",
    "    C_axs[2].set_yticklabels(FMNIST_CATEGORIES)\n",
    "\n",
    "    for gax in G_axs[1:].ravel():\n",
    "        remove_labels(gax)\n",
    "        remove_axes(gax)\n",
    "\n",
    "\n",
    "\n",
    "    plt.tight_layout()\n",
    "    \n",
    "    return fig,axs\n",
    "# plot_test_grid()"
   ]
  },
  {
   "cell_type": "code",
   "execution_count": null,
   "metadata": {},
   "outputs": [],
   "source": [
    "# mod.combined.save_weights(os.path.join(mod_dir,'weights_{}.h5'.format(i)))"
   ]
  },
  {
   "cell_type": "code",
   "execution_count": null,
   "metadata": {},
   "outputs": [],
   "source": [
    "def error_rate_by_class(y_true,y_pred,softmax=True,normalized=True):\n",
    "    batch_size,n_classes = y_true.shape\n",
    "    te_int = np.argmax(y_true,axis=1)\n",
    "    y_p_int = np.argmax(y_pred,axis=1)\n",
    "    error_classes = te_int[te_int!=y_p_int]\n",
    "    \n",
    "    n_each_class = np.bincount(te_int,minlength=n_classes)\n",
    "    \n",
    "    expected_errors_per_class = n_each_class*(len(error_classes)/batch_size)\n",
    "\n",
    "    per_class_errors = np.bincount(error_classes,minlength=n_classes)\n",
    "    \n",
    "    normalized_error_rates = per_class_errors/expected_errors_per_class\n",
    "    \n",
    "    if softmax:\n",
    "        return np.exp(normalized_error_rates)/np.exp(normalized_error_rates).sum()\n",
    "    elif normalized:\n",
    "        return normalized_error_rates\n",
    "    else:\n",
    "        return per_class_errors"
   ]
  },
  {
   "cell_type": "code",
   "execution_count": null,
   "metadata": {},
   "outputs": [],
   "source": [
    "cent = int((112-28)/2)\n",
    "delt = int(cent*PARAMS['im_translation'])\n",
    "p_min = int(cent-delt)\n",
    "p_max = int(cent+delt)\n",
    "pdx = np.linspace(p_min,p_max,int(p_max-p_min),dtype=int)\n",
    "rdx = np.linspace(-180*PARAMS['rotation'],180*PARAMS['rotation'],len(pdx))\n",
    "\n",
    "first_idxs = [np.where(np.argmax(ty,axis=1)==k)[0][0] for k in np.arange(10)]\n",
    "\n",
    "train_batches = DB.gen_train_batches(PARAMS['n_epochs']-i)\n",
    "test_batches = DB.gen_test_batches(PARAMS['n_epochs']-i)\n",
    "\n",
    "with tqdm(train_batches, miniters=5, total=PARAMS['n_epochs'],initial=i) as batch:\n",
    "    for X_images,tr_y,meta in batch:\n",
    "        X,X_fg,Xsm = X_images['whole'],X_images['foreground'],X_images['object']\n",
    "        if i > 0 and i % 50 == 0:\n",
    "            te_ims,te_y,_ = next(test_batches)\n",
    "            te_X,te_Xfg,te_Xsm = te_ims['whole'],te_ims['foreground'],te_ims['object']\n",
    "            r_te = mod.combined.test_on_batch(te_X,{'Classifier':te_y,\n",
    "                                                  'Generator':te_Xfg\n",
    "                                                 })\n",
    "            \n",
    "            _,y_p = mod.combined.predict(te_X)\n",
    "            \n",
    "            norm_err_rates = error_rate_by_class(te_y,y_p,softmax=False,normalized=True)\n",
    "            \n",
    "            r_te = {k:v for k,v in zip(hist_labels,r_te)}\n",
    "            exp.log_metric('batch',i)\n",
    "            for metric in hist_labels:\n",
    "                exp.log_metric(metric,r[metric])\n",
    "                exp.log_metric('val_{}'.format(metric),r_te[metric])\n",
    "            r_te['batch']=i\n",
    "            r_te['result_type'] = 'valid'\n",
    "\n",
    "            train_hist.append(r)\n",
    "            train_hist.append(r_te)\n",
    "            p_epoch = \"{:5d} \".format(i)\n",
    "            p_loss = \"loss[G+C]:[{:2.2f}+{:.2f}] / [{:2.2f}+{:.2f}] \".format(r['G_loss'],r['C_loss'],r_te['G_loss'],r_te['C_loss'])\n",
    "            p_acc = \"acc: [{:02.2%}] / [{:02.2%}] \".format(r['acc'],r_te['acc'])\n",
    "            batch.set_postfix(Acc=r['acc'],Acc_val=r_te['acc'],G_loss_val=r_te['G_loss'],G_loss=r['G_loss'],)    \n",
    "            batch.set_description(p_epoch)\n",
    "        \n",
    "        if i in [50,100,150,300] or i%200 == 0:\n",
    "            if i != 0:\n",
    "                \n",
    "                pdx_idx = int((i/100)%len(pdx))\n",
    "                t_idx = first_idxs[int(i/100/len(pdx)%PARAMS['batch_sz']%10)]\n",
    "\n",
    "#                 im_sm = tXsm\n",
    "                im_ = DB.sm_scaler.inverse_transform(tXsm.reshape(tXsm.shape[0],-1)).reshape(*tXsm.shape)\n",
    "#                 im_ = DB.sm_scaler.inverse_transform(te_Xsm.reshape(te_Xsm.shape[0],-1)).reshape(*te_Xsm.shape)\n",
    "#     DB.sm_scaler.transform((tXsm[0]/255.0).reshape(1,-1)).reshape(1,28,28,1)\n",
    "                im = rotate(im_[t_idx],rdx[pdx_idx],reshape=False)\n",
    "                im = DB._translate_image(im,height[t_idx],pdx[pdx_idx])\n",
    "                im = DB.scaler.transform(im.reshape(1,-1)).reshape(1,112,112,1)\n",
    "                n_im = skim.util.random_noise(im,mode='gaussian',var=0.10,mean=0.0,clip=True,)\n",
    "                p_recon,p_class = mod.combined.predict_on_batch(n_im)\n",
    "\n",
    "                batch.set_description('writing_image_buffer...')\n",
    "                hist = pd.DataFrame.from_records(train_hist)\n",
    "                \n",
    "                fig,axs = plot_test_grid(hist)\n",
    "                fig.savefig(os.path.join(recon_dir,'recon_{}.png'.format(str(i).zfill(5))))\n",
    "                plt.close(fig)\n",
    "                batch.set_description(p_epoch)\n",
    "\n",
    "        \n",
    "        y = {'Classifier':tr_y,\n",
    "             'Generator':X_fg,\n",
    "            }\n",
    "        if i>50:\n",
    "            c_weight = {k:w for k,w in enumerate(norm_err_rates)}\n",
    "        else:\n",
    "            c_weight = None\n",
    "\n",
    "        r = mod.combined.train_on_batch(X,y,class_weight=c_weight)\n",
    "        r = {k:v for k,v in zip(hist_labels,r)}\n",
    "        r['result_type'] = 'train'\n",
    "        r['batch']=i\n",
    "#                 subprocess.run(['convert', '-delay', '20', '-loop', '0', '*.png', 'recon_learning.gif'])\n",
    "#                 url = subprocess.run(['imgur-uploader', 'recon_learning.gif',],stdout=subprocess.PIPE).stdout.decode('utf-8')\n",
    "#                 exp.set_property('recon_gif',url)\n",
    "        \n",
    "\n",
    "        i+=1"
   ]
  },
  {
   "cell_type": "code",
   "execution_count": null,
   "metadata": {},
   "outputs": [],
   "source": [
    "X,X_fg,y = next(DB.gen_train_batches(PARAMS['n_epochs'],bg=PARAMS['bg']))"
   ]
  },
  {
   "cell_type": "code",
   "execution_count": null,
   "metadata": {},
   "outputs": [],
   "source": [
    "i"
   ]
  },
  {
   "cell_type": "code",
   "execution_count": null,
   "metadata": {},
   "outputs": [],
   "source": [
    "flush_pan(pan_ims)\n",
    "pan_ims = []\n",
    "make_gif(recon_dir,input_dir,)"
   ]
  },
  {
   "cell_type": "code",
   "execution_count": null,
   "metadata": {},
   "outputs": [],
   "source": []
  },
  {
   "cell_type": "code",
   "execution_count": null,
   "metadata": {},
   "outputs": [],
   "source": [
    "mod_dir = os.path.join(proj_root,exp_dir)\n",
    "mod_dir"
   ]
  },
  {
   "cell_type": "code",
   "execution_count": null,
   "metadata": {},
   "outputs": [],
   "source": [
    "hist_tr = pd.DataFrame.from_records(train_hist)"
   ]
  },
  {
   "cell_type": "code",
   "execution_count": null,
   "metadata": {},
   "outputs": [],
   "source": [
    "# sns.set_context('talk')\n",
    "# fig,axs = plt.subplots(1,4,figsize=(4*4,1*4),sharex=True)\n",
    "# for ax,metric in zip(axs.ravel(),['loss','G_loss','C_loss','acc']):\n",
    "#     sns.lineplot(x='batch',y=metric, hue='result_type',data=hist_tr,ax=ax)"
   ]
  },
  {
   "cell_type": "code",
   "execution_count": null,
   "metadata": {},
   "outputs": [],
   "source": [
    "print(mod_dir)\n",
    "hist_tr.to_csv(os.path.join(mod_dir,'training_hist.csv'))"
   ]
  },
  {
   "cell_type": "code",
   "execution_count": null,
   "metadata": {},
   "outputs": [],
   "source": [
    "model_json = mod.combined.to_json()\n",
    "with open(os.path.join(mod_dir,\"model.json\"), \"w\") as json_file:\n",
    "    json_file.write(model_json)\n",
    "    \n",
    "exp.send_artifact(os.path.join(mod_dir,'model.json'))"
   ]
  },
  {
   "cell_type": "code",
   "execution_count": null,
   "metadata": {},
   "outputs": [],
   "source": [
    "mod.combined.save_weights(os.path.join(mod_dir,'weights_{}.h5'.format(i)))"
   ]
  },
  {
   "cell_type": "code",
   "execution_count": null,
   "metadata": {},
   "outputs": [],
   "source": [
    "mod.combined.save_weights(os.path.join(mod_dir,'weights.h5'))"
   ]
  },
  {
   "cell_type": "code",
   "execution_count": null,
   "metadata": {},
   "outputs": [],
   "source": [
    "exp.stop()"
   ]
  },
  {
   "cell_type": "code",
   "execution_count": null,
   "metadata": {},
   "outputs": [],
   "source": [
    "mod.G.summary()"
   ]
  },
  {
   "cell_type": "code",
   "execution_count": null,
   "metadata": {},
   "outputs": [],
   "source": [
    "teX,teX_fg,te_y = next(test_generator)"
   ]
  },
  {
   "cell_type": "code",
   "execution_count": null,
   "metadata": {},
   "outputs": [],
   "source": [
    "res = mod.combined.evaluate(teX,{'Classifier':te_y,'Generator':teX_fg},batch_size=PARAMS['batch_sz'])\n"
   ]
  },
  {
   "cell_type": "code",
   "execution_count": null,
   "metadata": {},
   "outputs": [],
   "source": [
    "res"
   ]
  },
  {
   "cell_type": "code",
   "execution_count": null,
   "metadata": {},
   "outputs": [],
   "source": [
    "nteX = skim.util.random_noise(teX,mode='gaussian',var=0.2)\n",
    "nout = mod.combined.predict_on_batch(nteX)"
   ]
  },
  {
   "cell_type": "code",
   "execution_count": null,
   "metadata": {},
   "outputs": [],
   "source": [
    "out = mod.combined.predict_on_batch(teX)\n",
    "x_recon,y = out\n",
    "n_recon,ny = nout"
   ]
  },
  {
   "cell_type": "code",
   "execution_count": null,
   "metadata": {},
   "outputs": [],
   "source": [
    "choices = np.random.choice(np.arange(512),size=5,replace=False)"
   ]
  },
  {
   "cell_type": "code",
   "execution_count": null,
   "metadata": {},
   "outputs": [],
   "source": [
    "fix,axes = plt.subplots(2,5,figsize=(2*5,2*2))\n",
    "\n",
    "for i,idx in enumerate(choices):\n",
    "    axs = axes[:,i]\n",
    "    axs[0].imshow(teX[idx].reshape(56,56),cmap='gray',vmin=-1,vmax=1)\n",
    "    axs[1].imshow(x_recon[idx].reshape(56,56),cmap='gray',vmin=-1,vmax=1)\n",
    "    \n",
    "for ax in axes.ravel():\n",
    "    ax.get_yaxis().set_visible(False)\n",
    "    ax.get_xaxis().set_visible(False)\n",
    "    \n",
    "plt.tight_layout()"
   ]
  },
  {
   "cell_type": "code",
   "execution_count": null,
   "metadata": {},
   "outputs": [],
   "source": [
    "fig.savefig(os.path.join(mod_dir,'inp_output_pairs.png'),dpi=150)"
   ]
  },
  {
   "cell_type": "code",
   "execution_count": null,
   "metadata": {},
   "outputs": [],
   "source": [
    "exp.send_artifact(os.path.join(mod_dir,'inp_output_pairs.png'))"
   ]
  },
  {
   "cell_type": "code",
   "execution_count": null,
   "metadata": {},
   "outputs": [],
   "source": [
    "fix,axes = plt.subplots(2,5,figsize=(2*5,2*2))\n",
    "\n",
    "for i,idx in enumerate(choices):\n",
    "    axs = axes[:,i]\n",
    "    axs[0].imshow(nteX[idx].reshape(56,56),cmap='gray',vmin=-1,vmax=1)\n",
    "    axs[1].imshow(n_recon[idx].reshape(56,56),cmap='gray',vmin=-1,vmax=1)\n",
    "    \n",
    "for ax in axes.ravel():\n",
    "    ax.get_yaxis().set_visible(False)\n",
    "    ax.get_xaxis().set_visible(False)\n",
    "    \n",
    "plt.tight_layout()"
   ]
  },
  {
   "cell_type": "code",
   "execution_count": null,
   "metadata": {},
   "outputs": [],
   "source": []
  }
 ],
 "metadata": {
  "kernelspec": {
   "display_name": "Py3-GPU (Python3.5.2)",
   "language": "python",
   "name": "py3-gpu"
  },
  "language_info": {
   "codemirror_mode": {
    "name": "ipython",
    "version": 3
   },
   "file_extension": ".py",
   "mimetype": "text/x-python",
   "name": "python",
   "nbconvert_exporter": "python",
   "pygments_lexer": "ipython3",
   "version": "3.5.2"
  },
  "neptune": {
   "notebookId": "4eac60ae-a1b6-458d-96e7-ea2e36ee3c83"
  }
 },
 "nbformat": 4,
 "nbformat_minor": 4
}
