{
 "cells": [
  {
   "cell_type": "code",
   "execution_count": 1,
   "metadata": {},
   "outputs": [
    {
     "name": "stderr",
     "output_type": "stream",
     "text": [
      "Using TensorFlow backend.\n"
     ]
    }
   ],
   "source": [
    "import os\n",
    "import random\n",
    "import json\n",
    "import hashlib\n",
    "import numpy as np\n",
    "import pandas as pd\n",
    "import xarray\n",
    "import neptune\n",
    "import matplotlib.pyplot as plt\n",
    "import seaborn as sns\n",
    "from keras.models import Model\n",
    "from tqdm import tqdm as tqdm\n",
    "import multiprocessing as mp\n",
    "\n",
    "from sklearn.linear_model import LinearRegression,Ridge,RidgeCV\n",
    "\n",
    "import brainscore\n",
    "from brainscore.assemblies import walk_coords,split_assembly\n",
    "from brainscore.assemblies import split_assembly\n",
    "from brainscore.metrics import Score\n",
    "\n",
    "from brainio_base.assemblies import DataAssembly\n",
    "\n",
    "from scipy.stats import pearsonr\n",
    "\n",
    "from src.results.experiments import _DateExperimentLoader\n",
    "from src.results.utils import raw_to_xr, dprime\n",
    "from src.results.neptune import get_model_files, load_models, load_assemblies, load_params, load_properties,prep_assemblies\n",
    "from src.results.dicarlo import get_dicarlo_su\n",
    "from src.data_loader import Shifted_Data_Loader\n",
    "\n",
    "def set_style():\n",
    "    # This sets reasonable defaults for font size for\n",
    "    # a figure that will go in a paper\n",
    "    sns.set_context(\"talk\")\n",
    "    \n",
    "    # Set the font to be serif, rather than sans\n",
    "    sns.set(font='serif')\n",
    "    \n",
    "    # Make the background white, and specify the\n",
    "    # specific font family\n",
    "    sns.set_style(\"white\", {\n",
    "        \"font.family\": \"serif\",\n",
    "        \"font.serif\": [\"Georgia\",\"Times New Roman\", \"Palatino\", \"serif\"]\n",
    "    })"
   ]
  },
  {
   "cell_type": "code",
   "execution_count": 2,
   "metadata": {},
   "outputs": [
    {
     "data": {
      "text/plain": [
       "Project(elijahc/DuplexAE)"
      ]
     },
     "execution_count": 2,
     "metadata": {},
     "output_type": "execute_result"
    }
   ],
   "source": [
    "os.environ['NEPTUNE_API_TOKEN']=\"eyJhcGlfYWRkcmVzcyI6Imh0dHBzOi8vdWkubmVwdHVuZS5tbCIsImFwaV9rZXkiOiI3ZWExMTlmYS02ZTE2LTQ4ZTktOGMxMi0wMDJiZTljOWYyNDUifQ==\"\n",
    "neptune.init('elijahc/DuplexAE')\n",
    "neptune.set_project('elijahc/DuplexAE')"
   ]
  },
  {
   "cell_type": "code",
   "execution_count": 3,
   "metadata": {},
   "outputs": [],
   "source": [
    "proj_root = '/home/elijahc/projects/vae'"
   ]
  },
  {
   "cell_type": "code",
   "execution_count": 4,
   "metadata": {},
   "outputs": [],
   "source": [
    "def load_config(exps):\n",
    "    props = load_properties(exps)\n",
    "    params = load_params(exps)\n",
    "    ids = [e.id for e in exps]\n",
    "    for eid,pr,pa in zip(ids,props,params):\n",
    "        out = {'id':eid}\n",
    "        out.update(pr)\n",
    "        out.update(pa)\n",
    "        out['exp_dir']=os.path.join(proj_root,pr['dir'])\n",
    "        yield out"
   ]
  },
  {
   "cell_type": "code",
   "execution_count": 5,
   "metadata": {},
   "outputs": [
    {
     "data": {
      "text/html": [
       "<div>\n",
       "<style scoped>\n",
       "    .dataframe tbody tr th:only-of-type {\n",
       "        vertical-align: middle;\n",
       "    }\n",
       "\n",
       "    .dataframe tbody tr th {\n",
       "        vertical-align: top;\n",
       "    }\n",
       "\n",
       "    .dataframe thead th {\n",
       "        text-align: right;\n",
       "    }\n",
       "</style>\n",
       "<table border=\"1\" class=\"dataframe\">\n",
       "  <thead>\n",
       "    <tr style=\"text-align: right;\">\n",
       "      <th></th>\n",
       "      <th>assembly_fn</th>\n",
       "      <th>augmentation</th>\n",
       "      <th>batch_sz</th>\n",
       "      <th>bg</th>\n",
       "      <th>bg_contrast</th>\n",
       "      <th>dataset</th>\n",
       "      <th>dir</th>\n",
       "      <th>encoder_arch</th>\n",
       "      <th>exp_dir</th>\n",
       "      <th>generator_arch</th>\n",
       "      <th>id</th>\n",
       "      <th>im_translation</th>\n",
       "      <th>n_epochs</th>\n",
       "      <th>recon_weight</th>\n",
       "      <th>su_selectivity_fn</th>\n",
       "      <th>xent_weight</th>\n",
       "      <th>y_dim</th>\n",
       "      <th>z_dim</th>\n",
       "    </tr>\n",
       "  </thead>\n",
       "  <tbody>\n",
       "    <tr>\n",
       "      <th>0</th>\n",
       "      <td>NaN</td>\n",
       "      <td>dynamic</td>\n",
       "      <td>512.0</td>\n",
       "      <td>natural</td>\n",
       "      <td>0.3</td>\n",
       "      <td>fashion_mnist</td>\n",
       "      <td>models/2019-11-04/DPX-29</td>\n",
       "      <td>convnet</td>\n",
       "      <td>/home/elijahc/projects/vae/models/2019-11-04/D...</td>\n",
       "      <td>resnet</td>\n",
       "      <td>DPX-29</td>\n",
       "      <td>0.75</td>\n",
       "      <td>54000.0</td>\n",
       "      <td>0.0</td>\n",
       "      <td>NaN</td>\n",
       "      <td>15.0</td>\n",
       "      <td>35</td>\n",
       "      <td>35</td>\n",
       "    </tr>\n",
       "    <tr>\n",
       "      <th>1</th>\n",
       "      <td>NaN</td>\n",
       "      <td>dynamic</td>\n",
       "      <td>512.0</td>\n",
       "      <td>natural</td>\n",
       "      <td>0.3</td>\n",
       "      <td>fashion_mnist</td>\n",
       "      <td>models/2019-11-04/DPX-30</td>\n",
       "      <td>convnet</td>\n",
       "      <td>/home/elijahc/projects/vae/models/2019-11-04/D...</td>\n",
       "      <td>resnet</td>\n",
       "      <td>DPX-30</td>\n",
       "      <td>0.75</td>\n",
       "      <td>54000.0</td>\n",
       "      <td>1.0</td>\n",
       "      <td>NaN</td>\n",
       "      <td>15.0</td>\n",
       "      <td>35</td>\n",
       "      <td>35</td>\n",
       "    </tr>\n",
       "    <tr>\n",
       "      <th>2</th>\n",
       "      <td>dataset.nc</td>\n",
       "      <td>dynamic</td>\n",
       "      <td>512.0</td>\n",
       "      <td>natural</td>\n",
       "      <td>0.3</td>\n",
       "      <td>fashion_mnist</td>\n",
       "      <td>models/2019-09-25/DPX-10</td>\n",
       "      <td>dense</td>\n",
       "      <td>/home/elijahc/projects/vae/models/2019-09-25/D...</td>\n",
       "      <td>resnet</td>\n",
       "      <td>DPX-10</td>\n",
       "      <td>0.75</td>\n",
       "      <td>54000.0</td>\n",
       "      <td>1.0</td>\n",
       "      <td>selectivity.pqt</td>\n",
       "      <td>15.0</td>\n",
       "      <td>35</td>\n",
       "      <td>35</td>\n",
       "    </tr>\n",
       "    <tr>\n",
       "      <th>3</th>\n",
       "      <td>NaN</td>\n",
       "      <td>dynamic</td>\n",
       "      <td>512.0</td>\n",
       "      <td>natural</td>\n",
       "      <td>0.3</td>\n",
       "      <td>fashion_mnist</td>\n",
       "      <td>models/2019-09-25/DPX-16</td>\n",
       "      <td>dense</td>\n",
       "      <td>/home/elijahc/projects/vae/models/2019-09-25/D...</td>\n",
       "      <td>resnet</td>\n",
       "      <td>DPX-16</td>\n",
       "      <td>0.75</td>\n",
       "      <td>54000.0</td>\n",
       "      <td>0.0</td>\n",
       "      <td>NaN</td>\n",
       "      <td>15.0</td>\n",
       "      <td>35</td>\n",
       "      <td>35</td>\n",
       "    </tr>\n",
       "  </tbody>\n",
       "</table>\n",
       "</div>"
      ],
      "text/plain": [
       "  assembly_fn augmentation  batch_sz       bg  bg_contrast        dataset  \\\n",
       "0         NaN      dynamic     512.0  natural          0.3  fashion_mnist   \n",
       "1         NaN      dynamic     512.0  natural          0.3  fashion_mnist   \n",
       "2  dataset.nc      dynamic     512.0  natural          0.3  fashion_mnist   \n",
       "3         NaN      dynamic     512.0  natural          0.3  fashion_mnist   \n",
       "\n",
       "                        dir encoder_arch  \\\n",
       "0  models/2019-11-04/DPX-29      convnet   \n",
       "1  models/2019-11-04/DPX-30      convnet   \n",
       "2  models/2019-09-25/DPX-10        dense   \n",
       "3  models/2019-09-25/DPX-16        dense   \n",
       "\n",
       "                                             exp_dir generator_arch      id  \\\n",
       "0  /home/elijahc/projects/vae/models/2019-11-04/D...         resnet  DPX-29   \n",
       "1  /home/elijahc/projects/vae/models/2019-11-04/D...         resnet  DPX-30   \n",
       "2  /home/elijahc/projects/vae/models/2019-09-25/D...         resnet  DPX-10   \n",
       "3  /home/elijahc/projects/vae/models/2019-09-25/D...         resnet  DPX-16   \n",
       "\n",
       "   im_translation  n_epochs  recon_weight su_selectivity_fn  xent_weight  \\\n",
       "0            0.75   54000.0           0.0               NaN         15.0   \n",
       "1            0.75   54000.0           1.0               NaN         15.0   \n",
       "2            0.75   54000.0           1.0   selectivity.pqt         15.0   \n",
       "3            0.75   54000.0           0.0               NaN         15.0   \n",
       "\n",
       "  y_dim z_dim  \n",
       "0    35    35  \n",
       "1    35    35  \n",
       "2    35    35  \n",
       "3    35    35  "
      ]
     },
     "execution_count": 5,
     "metadata": {},
     "output_type": "execute_result"
    }
   ],
   "source": [
    "conv_eids = [\n",
    "    'DPX-29',\n",
    "    'DPX-30',\n",
    "]\n",
    "dense_eids = [\n",
    "    'DPX-10',\n",
    "#     'DPX-27',\n",
    "    'DPX-16',\n",
    "#     'DPX-23',\n",
    "#     'DPX-24',\n",
    "]\n",
    "conv_exps = neptune.project.get_experiments(id=conv_eids)\n",
    "dense_exps = neptune.project.get_experiments(id=dense_eids)\n",
    "exps = np.array(conv_exps+dense_exps)\n",
    "s_df = pd.DataFrame(list(load_config(exps)))\n",
    "s_df"
   ]
  },
  {
   "cell_type": "code",
   "execution_count": 6,
   "metadata": {},
   "outputs": [],
   "source": [
    "recon_idxs = (s_df.recon_weight > 0).values\n",
    "nrecon_idxs = ~recon_idxs"
   ]
  },
  {
   "cell_type": "code",
   "execution_count": 7,
   "metadata": {},
   "outputs": [],
   "source": [
    "recon = exps[recon_idxs]\n",
    "nrecon = exps[nrecon_idxs]"
   ]
  },
  {
   "cell_type": "code",
   "execution_count": 8,
   "metadata": {},
   "outputs": [],
   "source": [
    "def fetch_experiment_channels(exps,channels,merge_cols=['id','encoder_arch']):\n",
    "    for i,exp in enumerate(exps):\n",
    "        conf = s_df.iloc[i]\n",
    "#         print(conf)\n",
    "        df = exp.get_numeric_channels_values(*channels)\n",
    "        for c in merge_cols:\n",
    "            df[c]= conf[c]\n",
    "        yield df"
   ]
  },
  {
   "cell_type": "code",
   "execution_count": 9,
   "metadata": {},
   "outputs": [],
   "source": [
    "channels = pd.concat(fetch_experiment_channels(exps,['val_acc','C_loss','val_G_loss'],merge_cols=['id','encoder_arch','recon_weight']))"
   ]
  },
  {
   "cell_type": "code",
   "execution_count": 10,
   "metadata": {},
   "outputs": [],
   "source": [
    "recon_acc = pd.concat(fetch_experiment_channels(recon,['val_acc','C_loss','val_G_loss']))\n",
    "recon_acc['model'] = 'with-recon'\n",
    "\n",
    "nrecon_acc = pd.concat(fetch_experiment_channels(nrecon,['val_acc','C_loss','val_G_loss']))\n",
    "nrecon_acc['model'] = 'classify-only'\n",
    "\n",
    "acc = pd.concat([recon_acc,nrecon_acc])"
   ]
  },
  {
   "cell_type": "code",
   "execution_count": 42,
   "metadata": {},
   "outputs": [
    {
     "data": {
      "image/png": "[encoded data removed]",
      "text/plain": [
       "<Figure size 576x144 with 2 Axes>"
      ]
     },
     "metadata": {},
     "output_type": "display_data"
    }
   ],
   "source": [
    "set_style()\n",
    "sns.set_context('paper')\n",
    "fig,axs = plt.subplots(1,2,figsize=(8,2),sharex=True)\n",
    "\n",
    "sns.lineplot(x='x',y='val_acc',hue='encoder_arch',style='recon_weight',data=channels,ax=axs[0],\n",
    "            legend=False,\n",
    "            )\n",
    "axs[0].set_ylim(0,1)\n",
    "axs[0].hlines(y=0.1,xmin=-11,xmax=500,linestyles='dashed')\n",
    "\n",
    "sns.lineplot(x='x',y='val_G_loss',hue='encoder_arch',style='recon_weight',data=channels,ax=axs[1],\n",
    "#              legend=False,\n",
    "            )\n",
    "axs[1].set_yscale('log')\n",
    "# axs[1].set_ylim(0,1000)\n",
    "axs[1].legend(bbox_to_anchor=(1.05, 1), loc=2, borderaxespad=0.)\n",
    "\n",
    "\n",
    "axs[0].set_xlim(-10,100)\n",
    "axs[0].get_xaxis().set_visible(False)\n",
    "axs[1].get_xaxis().set_visible(False)\n",
    "axs[0].set_ylabel('Val. Accuracy')\n",
    "axs[1].set_ylabel('Val. Recon')\n",
    "\n",
    "sns.despine(fig)\n",
    "plt.tight_layout()"
   ]
  },
  {
   "cell_type": "code",
   "execution_count": 43,
   "metadata": {},
   "outputs": [],
   "source": [
    "fig.savefig('../figures/sfn/val_acc_recon.pdf',dpi=300)"
   ]
  },
  {
   "cell_type": "code",
   "execution_count": 13,
   "metadata": {},
   "outputs": [
    {
     "data": {
      "image/png": "[encoded data removed]",
      "text/plain": [
       "<Figure size 432x288 with 1 Axes>"
      ]
     },
     "metadata": {},
     "output_type": "display_data"
    }
   ],
   "source": [
    "set_style()\n",
    "sns.set_context('talk')\n",
    "fig,ax = plt.subplots(1,1)\n",
    "\n",
    "sns.lineplot(x='x',y='C_loss',hue='model',data=acc,ax=ax)\n",
    "# ax.hlines(y=0.1,xmin=-11,xmax=500,linestyles='dashed')\n",
    "\n",
    "ax.set_xlim(-10,200)\n",
    "ax.get_xaxis().set_visible(False)\n",
    "ax.set_ylabel('Loss')\n",
    "sns.despine(fig)\n",
    "plt.tight_layout()"
   ]
  },
  {
   "cell_type": "code",
   "execution_count": 14,
   "metadata": {},
   "outputs": [],
   "source": [
    "# fig.savefig('../figures/sfn/model_loss.pdf',dpi=300)"
   ]
  },
  {
   "cell_type": "code",
   "execution_count": 15,
   "metadata": {},
   "outputs": [],
   "source": [
    "def load_su(exp_dirs,fn='su_selectivity'):\n",
    "    merge_cols = ['augmentation','encoder_arch','recon_weight','xent_weight','dir']\n",
    "    for i,d in enumerate(exp_dirs):\n",
    "        conf = s_df.iloc[i]\n",
    "        filenames = filter(lambda i: i.startswith('su_selec'), os.listdir(d))\n",
    "        filepaths = [os.path.join(d,fn) for fn in filenames]\n",
    "        for j,fp in enumerate(filepaths):\n",
    "            if os.path.exists(fp):\n",
    "                df = pd.read_parquet(fp)\n",
    "                if len(filepaths) > 1:\n",
    "                    df['sample']=j+1\n",
    "                for c in merge_cols:\n",
    "                    df[c]= conf[c]\n",
    "                yield df\n",
    "            else:\n",
    "                asdf"
   ]
  },
  {
   "cell_type": "code",
   "execution_count": 16,
   "metadata": {},
   "outputs": [
    {
     "data": {
      "text/plain": [
       "0    /home/elijahc/projects/vae/models/2019-11-04/D...\n",
       "1    /home/elijahc/projects/vae/models/2019-11-04/D...\n",
       "Name: exp_dir, dtype: object"
      ]
     },
     "execution_count": 16,
     "metadata": {},
     "output_type": "execute_result"
    }
   ],
   "source": [
    "s_df.query('encoder_arch == \"convnet\"').exp_dir"
   ]
  },
  {
   "cell_type": "code",
   "execution_count": 17,
   "metadata": {},
   "outputs": [
    {
     "data": {
      "text/plain": [
       "array(['/home/elijahc/projects/vae/models/2019-09-25/DPX-10',\n",
       "       '/home/elijahc/projects/vae/models/2019-09-25/DPX-16'],\n",
       "      dtype=object)"
      ]
     },
     "execution_count": 17,
     "metadata": {},
     "output_type": "execute_result"
    }
   ],
   "source": [
    "s_df.query('encoder_arch == \"dense\" & augmentation == \"dynamic\"').exp_dir.values"
   ]
  },
  {
   "cell_type": "code",
   "execution_count": 18,
   "metadata": {},
   "outputs": [
    {
     "name": "stderr",
     "output_type": "stream",
     "text": [
      "/home/elijahc/.pyenv/versions/fastai/lib/python3.6/site-packages/ipykernel/__main__.py:2: FutureWarning: Sorting because non-concatenation axis is not aligned. A future version\n",
      "of pandas will change to not sort by default.\n",
      "\n",
      "To accept the future behavior, pass 'sort=False'.\n",
      "\n",
      "To retain the current behavior and silence the warning, pass 'sort=True'.\n",
      "\n",
      "  from ipykernel import kernelapp as app\n"
     ]
    }
   ],
   "source": [
    "sus = list(load_su(s_df.exp_dir.values))\n",
    "su_df = pd.concat(sus)\n",
    "\n",
    "su_conv_df = su_df.query('encoder_arch == \"convnet\"').dropna(axis=1)\n",
    "\n",
    "# sud = list(load_su(s_df.query('encoder_arch == \"dense\" & augmentation == \"dynamic\"').exp_dir.values))\n",
    "su_dense_df = su_df.query('encoder_arch == \"dense\" & augmentation == \"dynamic\"').dropna(axis=1)"
   ]
  },
  {
   "cell_type": "code",
   "execution_count": 19,
   "metadata": {},
   "outputs": [
    {
     "data": {
      "text/html": [
       "<div>\n",
       "<style scoped>\n",
       "    .dataframe tbody tr th:only-of-type {\n",
       "        vertical-align: middle;\n",
       "    }\n",
       "\n",
       "    .dataframe tbody tr th {\n",
       "        vertical-align: top;\n",
       "    }\n",
       "\n",
       "    .dataframe thead th {\n",
       "        text-align: right;\n",
       "    }\n",
       "</style>\n",
       "<table border=\"1\" class=\"dataframe\">\n",
       "  <thead>\n",
       "    <tr style=\"text-align: right;\">\n",
       "      <th></th>\n",
       "      <th>augmentation</th>\n",
       "      <th>category</th>\n",
       "      <th>dir</th>\n",
       "      <th>encoder_arch</th>\n",
       "      <th>layer</th>\n",
       "      <th>recon_weight</th>\n",
       "      <th>sample</th>\n",
       "      <th>tx</th>\n",
       "      <th>ty</th>\n",
       "      <th>xent_weight</th>\n",
       "    </tr>\n",
       "    <tr>\n",
       "      <th>region</th>\n",
       "      <th></th>\n",
       "      <th></th>\n",
       "      <th></th>\n",
       "      <th></th>\n",
       "      <th></th>\n",
       "      <th></th>\n",
       "      <th></th>\n",
       "      <th></th>\n",
       "      <th></th>\n",
       "      <th></th>\n",
       "    </tr>\n",
       "  </thead>\n",
       "  <tbody>\n",
       "    <tr>\n",
       "      <th>conv_1</th>\n",
       "      <td>1152</td>\n",
       "      <td>1152</td>\n",
       "      <td>1152</td>\n",
       "      <td>1152</td>\n",
       "      <td>1152</td>\n",
       "      <td>1152</td>\n",
       "      <td>1152</td>\n",
       "      <td>1152</td>\n",
       "      <td>1152</td>\n",
       "      <td>1152</td>\n",
       "    </tr>\n",
       "    <tr>\n",
       "      <th>conv_2</th>\n",
       "      <td>1152</td>\n",
       "      <td>1152</td>\n",
       "      <td>1152</td>\n",
       "      <td>1152</td>\n",
       "      <td>1152</td>\n",
       "      <td>1152</td>\n",
       "      <td>1152</td>\n",
       "      <td>1152</td>\n",
       "      <td>1152</td>\n",
       "      <td>1152</td>\n",
       "    </tr>\n",
       "    <tr>\n",
       "      <th>conv_3</th>\n",
       "      <td>1152</td>\n",
       "      <td>1152</td>\n",
       "      <td>1152</td>\n",
       "      <td>1152</td>\n",
       "      <td>1152</td>\n",
       "      <td>1152</td>\n",
       "      <td>1152</td>\n",
       "      <td>1152</td>\n",
       "      <td>1152</td>\n",
       "      <td>1152</td>\n",
       "    </tr>\n",
       "    <tr>\n",
       "      <th>conv_4</th>\n",
       "      <td>1152</td>\n",
       "      <td>1152</td>\n",
       "      <td>1152</td>\n",
       "      <td>1152</td>\n",
       "      <td>1152</td>\n",
       "      <td>1152</td>\n",
       "      <td>1152</td>\n",
       "      <td>1152</td>\n",
       "      <td>1152</td>\n",
       "      <td>1152</td>\n",
       "    </tr>\n",
       "    <tr>\n",
       "      <th>pixel</th>\n",
       "      <td>9408</td>\n",
       "      <td>9408</td>\n",
       "      <td>9408</td>\n",
       "      <td>9408</td>\n",
       "      <td>9408</td>\n",
       "      <td>9408</td>\n",
       "      <td>9408</td>\n",
       "      <td>9408</td>\n",
       "      <td>9408</td>\n",
       "      <td>9408</td>\n",
       "    </tr>\n",
       "    <tr>\n",
       "      <th>y_enc</th>\n",
       "      <td>210</td>\n",
       "      <td>210</td>\n",
       "      <td>210</td>\n",
       "      <td>210</td>\n",
       "      <td>210</td>\n",
       "      <td>210</td>\n",
       "      <td>210</td>\n",
       "      <td>210</td>\n",
       "      <td>210</td>\n",
       "      <td>210</td>\n",
       "    </tr>\n",
       "    <tr>\n",
       "      <th>z_enc</th>\n",
       "      <td>210</td>\n",
       "      <td>210</td>\n",
       "      <td>210</td>\n",
       "      <td>210</td>\n",
       "      <td>210</td>\n",
       "      <td>210</td>\n",
       "      <td>210</td>\n",
       "      <td>210</td>\n",
       "      <td>210</td>\n",
       "      <td>210</td>\n",
       "    </tr>\n",
       "  </tbody>\n",
       "</table>\n",
       "</div>"
      ],
      "text/plain": [
       "        augmentation  category   dir  encoder_arch  layer  recon_weight  \\\n",
       "region                                                                    \n",
       "conv_1          1152      1152  1152          1152   1152          1152   \n",
       "conv_2          1152      1152  1152          1152   1152          1152   \n",
       "conv_3          1152      1152  1152          1152   1152          1152   \n",
       "conv_4          1152      1152  1152          1152   1152          1152   \n",
       "pixel           9408      9408  9408          9408   9408          9408   \n",
       "y_enc            210       210   210           210    210           210   \n",
       "z_enc            210       210   210           210    210           210   \n",
       "\n",
       "        sample    tx    ty  xent_weight  \n",
       "region                                   \n",
       "conv_1    1152  1152  1152         1152  \n",
       "conv_2    1152  1152  1152         1152  \n",
       "conv_3    1152  1152  1152         1152  \n",
       "conv_4    1152  1152  1152         1152  \n",
       "pixel     9408  9408  9408         9408  \n",
       "y_enc      210   210   210          210  \n",
       "z_enc      210   210   210          210  "
      ]
     },
     "execution_count": 19,
     "metadata": {},
     "output_type": "execute_result"
    }
   ],
   "source": [
    "su_conv_df.groupby('region').count()"
   ]
  },
  {
   "cell_type": "code",
   "execution_count": 20,
   "metadata": {},
   "outputs": [
    {
     "data": {
      "text/html": [
       "<div>\n",
       "<style scoped>\n",
       "    .dataframe tbody tr th:only-of-type {\n",
       "        vertical-align: middle;\n",
       "    }\n",
       "\n",
       "    .dataframe tbody tr th {\n",
       "        vertical-align: top;\n",
       "    }\n",
       "\n",
       "    .dataframe thead th {\n",
       "        text-align: right;\n",
       "    }\n",
       "</style>\n",
       "<table border=\"1\" class=\"dataframe\">\n",
       "  <thead>\n",
       "    <tr style=\"text-align: right;\">\n",
       "      <th></th>\n",
       "      <th></th>\n",
       "      <th>augmentation</th>\n",
       "      <th>category</th>\n",
       "      <th>encoder_arch</th>\n",
       "      <th>layer</th>\n",
       "      <th>region</th>\n",
       "      <th>sample</th>\n",
       "      <th>tx</th>\n",
       "      <th>ty</th>\n",
       "      <th>xent_weight</th>\n",
       "    </tr>\n",
       "    <tr>\n",
       "      <th>dir</th>\n",
       "      <th>recon_weight</th>\n",
       "      <th></th>\n",
       "      <th></th>\n",
       "      <th></th>\n",
       "      <th></th>\n",
       "      <th></th>\n",
       "      <th></th>\n",
       "      <th></th>\n",
       "      <th></th>\n",
       "      <th></th>\n",
       "    </tr>\n",
       "  </thead>\n",
       "  <tbody>\n",
       "    <tr>\n",
       "      <th>models/2019-09-25/DPX-10</th>\n",
       "      <th>1.0</th>\n",
       "      <td>11412</td>\n",
       "      <td>11412</td>\n",
       "      <td>11412</td>\n",
       "      <td>11412</td>\n",
       "      <td>11412</td>\n",
       "      <td>11412</td>\n",
       "      <td>11412</td>\n",
       "      <td>11412</td>\n",
       "      <td>11412</td>\n",
       "    </tr>\n",
       "    <tr>\n",
       "      <th>models/2019-09-25/DPX-16</th>\n",
       "      <th>0.0</th>\n",
       "      <td>15118</td>\n",
       "      <td>15118</td>\n",
       "      <td>15118</td>\n",
       "      <td>15118</td>\n",
       "      <td>15118</td>\n",
       "      <td>15118</td>\n",
       "      <td>15118</td>\n",
       "      <td>15118</td>\n",
       "      <td>15118</td>\n",
       "    </tr>\n",
       "  </tbody>\n",
       "</table>\n",
       "</div>"
      ],
      "text/plain": [
       "                                       augmentation  category  encoder_arch  \\\n",
       "dir                      recon_weight                                         \n",
       "models/2019-09-25/DPX-10 1.0                  11412     11412         11412   \n",
       "models/2019-09-25/DPX-16 0.0                  15118     15118         15118   \n",
       "\n",
       "                                       layer  region  sample     tx     ty  \\\n",
       "dir                      recon_weight                                        \n",
       "models/2019-09-25/DPX-10 1.0           11412   11412   11412  11412  11412   \n",
       "models/2019-09-25/DPX-16 0.0           15118   15118   15118  15118  15118   \n",
       "\n",
       "                                       xent_weight  \n",
       "dir                      recon_weight               \n",
       "models/2019-09-25/DPX-10 1.0                 11412  \n",
       "models/2019-09-25/DPX-16 0.0                 15118  "
      ]
     },
     "execution_count": 20,
     "metadata": {},
     "output_type": "execute_result"
    }
   ],
   "source": [
    "su_dense_df.groupby(['dir','recon_weight']).count()"
   ]
  },
  {
   "cell_type": "code",
   "execution_count": 21,
   "metadata": {},
   "outputs": [],
   "source": [
    "# sus[0].drop(columns=['reg']).to_parquet(os.path.join(s_df.exp_dir.values[0],'su_selectivity.pqt'))"
   ]
  },
  {
   "cell_type": "code",
   "execution_count": 22,
   "metadata": {},
   "outputs": [],
   "source": [
    "dicarlo_df = get_dicarlo_su(proj_root,fn='su_selectivity_dicarlo_hi_var.pqt')\n",
    "dicarlo_df = dicarlo_df.fillna(0)"
   ]
  },
  {
   "cell_type": "code",
   "execution_count": 23,
   "metadata": {},
   "outputs": [],
   "source": [
    "# DL = Shifted_Data_Loader('fashion_mnist',rotation=None,translation=0.75,bg='natural',flatten=False)\n",
    "# sx_test = DL.sx_test"
   ]
  },
  {
   "cell_type": "code",
   "execution_count": 24,
   "metadata": {},
   "outputs": [],
   "source": [
    "# plt.imshow(sx_test[250].reshape(56,56),cmap='gray')"
   ]
  },
  {
   "cell_type": "code",
   "execution_count": 25,
   "metadata": {},
   "outputs": [],
   "source": [
    "# neural_data = brainscore.get_assembly(name=\"dicarlo.Majaj2015\")\n",
    "# neural_data.load()\n",
    "# stimulus_set = neural_data.attrs['stimulus_set']"
   ]
  },
  {
   "cell_type": "code",
   "execution_count": 26,
   "metadata": {},
   "outputs": [],
   "source": [
    "# hi_data = process_dicarlo(neural_data,variation=6)"
   ]
  },
  {
   "cell_type": "code",
   "execution_count": 27,
   "metadata": {},
   "outputs": [],
   "source": [
    "# sns.set(font_scale=2)\n",
    "# sns.set_context('paper')"
   ]
  },
  {
   "cell_type": "code",
   "execution_count": 28,
   "metadata": {},
   "outputs": [],
   "source": [
    "from src.results.dicarlo import err_neuroids"
   ]
  },
  {
   "cell_type": "code",
   "execution_count": 29,
   "metadata": {},
   "outputs": [
    {
     "data": {
      "text/plain": [
       "6849"
      ]
     },
     "execution_count": 29,
     "metadata": {},
     "output_type": "execute_result"
    }
   ],
   "source": [
    "len(dicarlo_df)"
   ]
  },
  {
   "cell_type": "code",
   "execution_count": 30,
   "metadata": {},
   "outputs": [
    {
     "data": {
      "text/plain": [
       "6809"
      ]
     },
     "execution_count": 30,
     "metadata": {},
     "output_type": "execute_result"
    }
   ],
   "source": [
    "len(dicarlo_df[~dicarlo_df.neuroid_id.isin(err_neuroids)])"
   ]
  },
  {
   "cell_type": "code",
   "execution_count": 31,
   "metadata": {},
   "outputs": [],
   "source": [
    "dicarlo_df = dicarlo_df[~dicarlo_df.neuroid_id.isin(err_neuroids)]"
   ]
  },
  {
   "cell_type": "code",
   "execution_count": 32,
   "metadata": {},
   "outputs": [
    {
     "name": "stdout",
     "output_type": "stream",
     "text": [
      "Error in callback <function install_repl_displayhook.<locals>.post_execute at 0x7f40a6bef268> (for post_execute):\n"
     ]
    },
    {
     "ename": "KeyboardInterrupt",
     "evalue": "",
     "output_type": "error",
     "traceback": [
      "\u001b[0;31m---------------------------------------------------------------------------\u001b[0m",
      "\u001b[0;31mKeyboardInterrupt\u001b[0m                         Traceback (most recent call last)",
      "\u001b[0;32m~/.pyenv/versions/fastai/lib/python3.6/site-packages/matplotlib/pyplot.py\u001b[0m in \u001b[0;36mpost_execute\u001b[0;34m()\u001b[0m\n\u001b[1;32m    107\u001b[0m             \u001b[0;32mdef\u001b[0m \u001b[0mpost_execute\u001b[0m\u001b[0;34m(\u001b[0m\u001b[0;34m)\u001b[0m\u001b[0;34m:\u001b[0m\u001b[0;34m\u001b[0m\u001b[0m\n\u001b[1;32m    108\u001b[0m                 \u001b[0;32mif\u001b[0m \u001b[0mmatplotlib\u001b[0m\u001b[0;34m.\u001b[0m\u001b[0mis_interactive\u001b[0m\u001b[0;34m(\u001b[0m\u001b[0;34m)\u001b[0m\u001b[0;34m:\u001b[0m\u001b[0;34m\u001b[0m\u001b[0m\n\u001b[0;32m--> 109\u001b[0;31m                     \u001b[0mdraw_all\u001b[0m\u001b[0;34m(\u001b[0m\u001b[0;34m)\u001b[0m\u001b[0;34m\u001b[0m\u001b[0m\n\u001b[0m\u001b[1;32m    110\u001b[0m \u001b[0;34m\u001b[0m\u001b[0m\n\u001b[1;32m    111\u001b[0m             \u001b[0;31m# IPython >= 2\u001b[0m\u001b[0;34m\u001b[0m\u001b[0;34m\u001b[0m\u001b[0m\n",
      "\u001b[0;32m~/.pyenv/versions/fastai/lib/python3.6/site-packages/matplotlib/_pylab_helpers.py\u001b[0m in \u001b[0;36mdraw_all\u001b[0;34m(cls, force)\u001b[0m\n\u001b[1;32m    130\u001b[0m         \u001b[0;32mfor\u001b[0m \u001b[0mf_mgr\u001b[0m \u001b[0;32min\u001b[0m \u001b[0mcls\u001b[0m\u001b[0;34m.\u001b[0m\u001b[0mget_all_fig_managers\u001b[0m\u001b[0;34m(\u001b[0m\u001b[0;34m)\u001b[0m\u001b[0;34m:\u001b[0m\u001b[0;34m\u001b[0m\u001b[0m\n\u001b[1;32m    131\u001b[0m             \u001b[0;32mif\u001b[0m \u001b[0mforce\u001b[0m \u001b[0;32mor\u001b[0m \u001b[0mf_mgr\u001b[0m\u001b[0;34m.\u001b[0m\u001b[0mcanvas\u001b[0m\u001b[0;34m.\u001b[0m\u001b[0mfigure\u001b[0m\u001b[0;34m.\u001b[0m\u001b[0mstale\u001b[0m\u001b[0;34m:\u001b[0m\u001b[0;34m\u001b[0m\u001b[0m\n\u001b[0;32m--> 132\u001b[0;31m                 \u001b[0mf_mgr\u001b[0m\u001b[0;34m.\u001b[0m\u001b[0mcanvas\u001b[0m\u001b[0;34m.\u001b[0m\u001b[0mdraw_idle\u001b[0m\u001b[0;34m(\u001b[0m\u001b[0;34m)\u001b[0m\u001b[0;34m\u001b[0m\u001b[0m\n\u001b[0m\u001b[1;32m    133\u001b[0m \u001b[0;34m\u001b[0m\u001b[0m\n\u001b[1;32m    134\u001b[0m \u001b[0matexit\u001b[0m\u001b[0;34m.\u001b[0m\u001b[0mregister\u001b[0m\u001b[0;34m(\u001b[0m\u001b[0mGcf\u001b[0m\u001b[0;34m.\u001b[0m\u001b[0mdestroy_all\u001b[0m\u001b[0;34m)\u001b[0m\u001b[0;34m\u001b[0m\u001b[0m\n",
      "\u001b[0;32m~/.pyenv/versions/fastai/lib/python3.6/site-packages/matplotlib/backend_bases.py\u001b[0m in \u001b[0;36mdraw_idle\u001b[0;34m(self, *args, **kwargs)\u001b[0m\n\u001b[1;32m   1897\u001b[0m         \u001b[0;32mif\u001b[0m \u001b[0;32mnot\u001b[0m \u001b[0mself\u001b[0m\u001b[0;34m.\u001b[0m\u001b[0m_is_idle_drawing\u001b[0m\u001b[0;34m:\u001b[0m\u001b[0;34m\u001b[0m\u001b[0m\n\u001b[1;32m   1898\u001b[0m             \u001b[0;32mwith\u001b[0m \u001b[0mself\u001b[0m\u001b[0;34m.\u001b[0m\u001b[0m_idle_draw_cntx\u001b[0m\u001b[0;34m(\u001b[0m\u001b[0;34m)\u001b[0m\u001b[0;34m:\u001b[0m\u001b[0;34m\u001b[0m\u001b[0m\n\u001b[0;32m-> 1899\u001b[0;31m                 \u001b[0mself\u001b[0m\u001b[0;34m.\u001b[0m\u001b[0mdraw\u001b[0m\u001b[0;34m(\u001b[0m\u001b[0;34m*\u001b[0m\u001b[0margs\u001b[0m\u001b[0;34m,\u001b[0m \u001b[0;34m**\u001b[0m\u001b[0mkwargs\u001b[0m\u001b[0;34m)\u001b[0m\u001b[0;34m\u001b[0m\u001b[0m\n\u001b[0m\u001b[1;32m   1900\u001b[0m \u001b[0;34m\u001b[0m\u001b[0m\n\u001b[1;32m   1901\u001b[0m     \u001b[0;32mdef\u001b[0m \u001b[0mdraw_cursor\u001b[0m\u001b[0;34m(\u001b[0m\u001b[0mself\u001b[0m\u001b[0;34m,\u001b[0m \u001b[0mevent\u001b[0m\u001b[0;34m)\u001b[0m\u001b[0;34m:\u001b[0m\u001b[0;34m\u001b[0m\u001b[0m\n",
      "\u001b[0;32m~/.pyenv/versions/fastai/lib/python3.6/site-packages/matplotlib/backends/backend_agg.py\u001b[0m in \u001b[0;36mdraw\u001b[0;34m(self)\u001b[0m\n\u001b[1;32m    400\u001b[0m         \u001b[0mtoolbar\u001b[0m \u001b[0;34m=\u001b[0m \u001b[0mself\u001b[0m\u001b[0;34m.\u001b[0m\u001b[0mtoolbar\u001b[0m\u001b[0;34m\u001b[0m\u001b[0m\n\u001b[1;32m    401\u001b[0m         \u001b[0;32mtry\u001b[0m\u001b[0;34m:\u001b[0m\u001b[0;34m\u001b[0m\u001b[0m\n\u001b[0;32m--> 402\u001b[0;31m             \u001b[0mself\u001b[0m\u001b[0;34m.\u001b[0m\u001b[0mfigure\u001b[0m\u001b[0;34m.\u001b[0m\u001b[0mdraw\u001b[0m\u001b[0;34m(\u001b[0m\u001b[0mself\u001b[0m\u001b[0;34m.\u001b[0m\u001b[0mrenderer\u001b[0m\u001b[0;34m)\u001b[0m\u001b[0;34m\u001b[0m\u001b[0m\n\u001b[0m\u001b[1;32m    403\u001b[0m             \u001b[0;31m# A GUI class may be need to update a window using this draw, so\u001b[0m\u001b[0;34m\u001b[0m\u001b[0;34m\u001b[0m\u001b[0m\n\u001b[1;32m    404\u001b[0m             \u001b[0;31m# don't forget to call the superclass.\u001b[0m\u001b[0;34m\u001b[0m\u001b[0;34m\u001b[0m\u001b[0m\n",
      "\u001b[0;32m~/.pyenv/versions/fastai/lib/python3.6/site-packages/matplotlib/artist.py\u001b[0m in \u001b[0;36mdraw_wrapper\u001b[0;34m(artist, renderer, *args, **kwargs)\u001b[0m\n\u001b[1;32m     48\u001b[0m                 \u001b[0mrenderer\u001b[0m\u001b[0;34m.\u001b[0m\u001b[0mstart_filter\u001b[0m\u001b[0;34m(\u001b[0m\u001b[0;34m)\u001b[0m\u001b[0;34m\u001b[0m\u001b[0m\n\u001b[1;32m     49\u001b[0m \u001b[0;34m\u001b[0m\u001b[0m\n\u001b[0;32m---> 50\u001b[0;31m             \u001b[0;32mreturn\u001b[0m \u001b[0mdraw\u001b[0m\u001b[0;34m(\u001b[0m\u001b[0martist\u001b[0m\u001b[0;34m,\u001b[0m \u001b[0mrenderer\u001b[0m\u001b[0;34m,\u001b[0m \u001b[0;34m*\u001b[0m\u001b[0margs\u001b[0m\u001b[0;34m,\u001b[0m \u001b[0;34m**\u001b[0m\u001b[0mkwargs\u001b[0m\u001b[0;34m)\u001b[0m\u001b[0;34m\u001b[0m\u001b[0m\n\u001b[0m\u001b[1;32m     51\u001b[0m         \u001b[0;32mfinally\u001b[0m\u001b[0;34m:\u001b[0m\u001b[0;34m\u001b[0m\u001b[0m\n\u001b[1;32m     52\u001b[0m             \u001b[0;32mif\u001b[0m \u001b[0martist\u001b[0m\u001b[0;34m.\u001b[0m\u001b[0mget_agg_filter\u001b[0m\u001b[0;34m(\u001b[0m\u001b[0;34m)\u001b[0m \u001b[0;32mis\u001b[0m \u001b[0;32mnot\u001b[0m \u001b[0;32mNone\u001b[0m\u001b[0;34m:\u001b[0m\u001b[0;34m\u001b[0m\u001b[0m\n",
      "\u001b[0;32m~/.pyenv/versions/fastai/lib/python3.6/site-packages/matplotlib/figure.py\u001b[0m in \u001b[0;36mdraw\u001b[0;34m(self, renderer)\u001b[0m\n\u001b[1;32m   1647\u001b[0m \u001b[0;34m\u001b[0m\u001b[0m\n\u001b[1;32m   1648\u001b[0m             mimage._draw_list_compositing_images(\n\u001b[0;32m-> 1649\u001b[0;31m                 renderer, self, artists, self.suppressComposite)\n\u001b[0m\u001b[1;32m   1650\u001b[0m \u001b[0;34m\u001b[0m\u001b[0m\n\u001b[1;32m   1651\u001b[0m             \u001b[0mrenderer\u001b[0m\u001b[0;34m.\u001b[0m\u001b[0mclose_group\u001b[0m\u001b[0;34m(\u001b[0m\u001b[0;34m'figure'\u001b[0m\u001b[0;34m)\u001b[0m\u001b[0;34m\u001b[0m\u001b[0m\n",
      "\u001b[0;32m~/.pyenv/versions/fastai/lib/python3.6/site-packages/matplotlib/image.py\u001b[0m in \u001b[0;36m_draw_list_compositing_images\u001b[0;34m(renderer, parent, artists, suppress_composite)\u001b[0m\n\u001b[1;32m    136\u001b[0m     \u001b[0;32mif\u001b[0m \u001b[0mnot_composite\u001b[0m \u001b[0;32mor\u001b[0m \u001b[0;32mnot\u001b[0m \u001b[0mhas_images\u001b[0m\u001b[0;34m:\u001b[0m\u001b[0;34m\u001b[0m\u001b[0m\n\u001b[1;32m    137\u001b[0m         \u001b[0;32mfor\u001b[0m \u001b[0ma\u001b[0m \u001b[0;32min\u001b[0m \u001b[0martists\u001b[0m\u001b[0;34m:\u001b[0m\u001b[0;34m\u001b[0m\u001b[0m\n\u001b[0;32m--> 138\u001b[0;31m             \u001b[0ma\u001b[0m\u001b[0;34m.\u001b[0m\u001b[0mdraw\u001b[0m\u001b[0;34m(\u001b[0m\u001b[0mrenderer\u001b[0m\u001b[0;34m)\u001b[0m\u001b[0;34m\u001b[0m\u001b[0m\n\u001b[0m\u001b[1;32m    139\u001b[0m     \u001b[0;32melse\u001b[0m\u001b[0;34m:\u001b[0m\u001b[0;34m\u001b[0m\u001b[0m\n\u001b[1;32m    140\u001b[0m         \u001b[0;31m# Composite any adjacent images together\u001b[0m\u001b[0;34m\u001b[0m\u001b[0;34m\u001b[0m\u001b[0m\n",
      "\u001b[0;32m~/.pyenv/versions/fastai/lib/python3.6/site-packages/matplotlib/artist.py\u001b[0m in \u001b[0;36mdraw_wrapper\u001b[0;34m(artist, renderer, *args, **kwargs)\u001b[0m\n\u001b[1;32m     48\u001b[0m                 \u001b[0mrenderer\u001b[0m\u001b[0;34m.\u001b[0m\u001b[0mstart_filter\u001b[0m\u001b[0;34m(\u001b[0m\u001b[0;34m)\u001b[0m\u001b[0;34m\u001b[0m\u001b[0m\n\u001b[1;32m     49\u001b[0m \u001b[0;34m\u001b[0m\u001b[0m\n\u001b[0;32m---> 50\u001b[0;31m             \u001b[0;32mreturn\u001b[0m \u001b[0mdraw\u001b[0m\u001b[0;34m(\u001b[0m\u001b[0martist\u001b[0m\u001b[0;34m,\u001b[0m \u001b[0mrenderer\u001b[0m\u001b[0;34m,\u001b[0m \u001b[0;34m*\u001b[0m\u001b[0margs\u001b[0m\u001b[0;34m,\u001b[0m \u001b[0;34m**\u001b[0m\u001b[0mkwargs\u001b[0m\u001b[0;34m)\u001b[0m\u001b[0;34m\u001b[0m\u001b[0m\n\u001b[0m\u001b[1;32m     51\u001b[0m         \u001b[0;32mfinally\u001b[0m\u001b[0;34m:\u001b[0m\u001b[0;34m\u001b[0m\u001b[0m\n\u001b[1;32m     52\u001b[0m             \u001b[0;32mif\u001b[0m \u001b[0martist\u001b[0m\u001b[0;34m.\u001b[0m\u001b[0mget_agg_filter\u001b[0m\u001b[0;34m(\u001b[0m\u001b[0;34m)\u001b[0m \u001b[0;32mis\u001b[0m \u001b[0;32mnot\u001b[0m \u001b[0;32mNone\u001b[0m\u001b[0;34m:\u001b[0m\u001b[0;34m\u001b[0m\u001b[0m\n",
      "\u001b[0;32m~/.pyenv/versions/fastai/lib/python3.6/site-packages/matplotlib/axes/_base.py\u001b[0m in \u001b[0;36mdraw\u001b[0;34m(self, renderer, inframe)\u001b[0m\n\u001b[1;32m   2626\u001b[0m             \u001b[0mrenderer\u001b[0m\u001b[0;34m.\u001b[0m\u001b[0mstop_rasterizing\u001b[0m\u001b[0;34m(\u001b[0m\u001b[0;34m)\u001b[0m\u001b[0;34m\u001b[0m\u001b[0m\n\u001b[1;32m   2627\u001b[0m \u001b[0;34m\u001b[0m\u001b[0m\n\u001b[0;32m-> 2628\u001b[0;31m         \u001b[0mmimage\u001b[0m\u001b[0;34m.\u001b[0m\u001b[0m_draw_list_compositing_images\u001b[0m\u001b[0;34m(\u001b[0m\u001b[0mrenderer\u001b[0m\u001b[0;34m,\u001b[0m \u001b[0mself\u001b[0m\u001b[0;34m,\u001b[0m \u001b[0martists\u001b[0m\u001b[0;34m)\u001b[0m\u001b[0;34m\u001b[0m\u001b[0m\n\u001b[0m\u001b[1;32m   2629\u001b[0m \u001b[0;34m\u001b[0m\u001b[0m\n\u001b[1;32m   2630\u001b[0m         \u001b[0mrenderer\u001b[0m\u001b[0;34m.\u001b[0m\u001b[0mclose_group\u001b[0m\u001b[0;34m(\u001b[0m\u001b[0;34m'axes'\u001b[0m\u001b[0;34m)\u001b[0m\u001b[0;34m\u001b[0m\u001b[0m\n",
      "\u001b[0;32m~/.pyenv/versions/fastai/lib/python3.6/site-packages/matplotlib/image.py\u001b[0m in \u001b[0;36m_draw_list_compositing_images\u001b[0;34m(renderer, parent, artists, suppress_composite)\u001b[0m\n\u001b[1;32m    136\u001b[0m     \u001b[0;32mif\u001b[0m \u001b[0mnot_composite\u001b[0m \u001b[0;32mor\u001b[0m \u001b[0;32mnot\u001b[0m \u001b[0mhas_images\u001b[0m\u001b[0;34m:\u001b[0m\u001b[0;34m\u001b[0m\u001b[0m\n\u001b[1;32m    137\u001b[0m         \u001b[0;32mfor\u001b[0m \u001b[0ma\u001b[0m \u001b[0;32min\u001b[0m \u001b[0martists\u001b[0m\u001b[0;34m:\u001b[0m\u001b[0;34m\u001b[0m\u001b[0m\n\u001b[0;32m--> 138\u001b[0;31m             \u001b[0ma\u001b[0m\u001b[0;34m.\u001b[0m\u001b[0mdraw\u001b[0m\u001b[0;34m(\u001b[0m\u001b[0mrenderer\u001b[0m\u001b[0;34m)\u001b[0m\u001b[0;34m\u001b[0m\u001b[0m\n\u001b[0m\u001b[1;32m    139\u001b[0m     \u001b[0;32melse\u001b[0m\u001b[0;34m:\u001b[0m\u001b[0;34m\u001b[0m\u001b[0m\n\u001b[1;32m    140\u001b[0m         \u001b[0;31m# Composite any adjacent images together\u001b[0m\u001b[0;34m\u001b[0m\u001b[0;34m\u001b[0m\u001b[0m\n",
      "\u001b[0;32m~/.pyenv/versions/fastai/lib/python3.6/site-packages/matplotlib/artist.py\u001b[0m in \u001b[0;36mdraw_wrapper\u001b[0;34m(artist, renderer, *args, **kwargs)\u001b[0m\n\u001b[1;32m     48\u001b[0m                 \u001b[0mrenderer\u001b[0m\u001b[0;34m.\u001b[0m\u001b[0mstart_filter\u001b[0m\u001b[0;34m(\u001b[0m\u001b[0;34m)\u001b[0m\u001b[0;34m\u001b[0m\u001b[0m\n\u001b[1;32m     49\u001b[0m \u001b[0;34m\u001b[0m\u001b[0m\n\u001b[0;32m---> 50\u001b[0;31m             \u001b[0;32mreturn\u001b[0m \u001b[0mdraw\u001b[0m\u001b[0;34m(\u001b[0m\u001b[0martist\u001b[0m\u001b[0;34m,\u001b[0m \u001b[0mrenderer\u001b[0m\u001b[0;34m,\u001b[0m \u001b[0;34m*\u001b[0m\u001b[0margs\u001b[0m\u001b[0;34m,\u001b[0m \u001b[0;34m**\u001b[0m\u001b[0mkwargs\u001b[0m\u001b[0;34m)\u001b[0m\u001b[0;34m\u001b[0m\u001b[0m\n\u001b[0m\u001b[1;32m     51\u001b[0m         \u001b[0;32mfinally\u001b[0m\u001b[0;34m:\u001b[0m\u001b[0;34m\u001b[0m\u001b[0m\n\u001b[1;32m     52\u001b[0m             \u001b[0;32mif\u001b[0m \u001b[0martist\u001b[0m\u001b[0;34m.\u001b[0m\u001b[0mget_agg_filter\u001b[0m\u001b[0;34m(\u001b[0m\u001b[0;34m)\u001b[0m \u001b[0;32mis\u001b[0m \u001b[0;32mnot\u001b[0m \u001b[0;32mNone\u001b[0m\u001b[0;34m:\u001b[0m\u001b[0;34m\u001b[0m\u001b[0m\n",
      "\u001b[0;32m~/.pyenv/versions/fastai/lib/python3.6/site-packages/matplotlib/lines.py\u001b[0m in \u001b[0;36mdraw\u001b[0;34m(self, renderer)\u001b[0m\n\u001b[1;32m    744\u001b[0m         \u001b[0mrenderer\u001b[0m\u001b[0;34m.\u001b[0m\u001b[0mopen_group\u001b[0m\u001b[0;34m(\u001b[0m\u001b[0;34m'line2d'\u001b[0m\u001b[0;34m,\u001b[0m \u001b[0mself\u001b[0m\u001b[0;34m.\u001b[0m\u001b[0mget_gid\u001b[0m\u001b[0;34m(\u001b[0m\u001b[0;34m)\u001b[0m\u001b[0;34m)\u001b[0m\u001b[0;34m\u001b[0m\u001b[0m\n\u001b[1;32m    745\u001b[0m         \u001b[0;32mif\u001b[0m \u001b[0mself\u001b[0m\u001b[0;34m.\u001b[0m\u001b[0m_lineStyles\u001b[0m\u001b[0;34m[\u001b[0m\u001b[0mself\u001b[0m\u001b[0;34m.\u001b[0m\u001b[0m_linestyle\u001b[0m\u001b[0;34m]\u001b[0m \u001b[0;34m!=\u001b[0m \u001b[0;34m'_draw_nothing'\u001b[0m\u001b[0;34m:\u001b[0m\u001b[0;34m\u001b[0m\u001b[0m\n\u001b[0;32m--> 746\u001b[0;31m             tpath, affine = (self._get_transformed_path()\n\u001b[0m\u001b[1;32m    747\u001b[0m                              .get_transformed_path_and_affine())\n\u001b[1;32m    748\u001b[0m             \u001b[0;32mif\u001b[0m \u001b[0mlen\u001b[0m\u001b[0;34m(\u001b[0m\u001b[0mtpath\u001b[0m\u001b[0;34m.\u001b[0m\u001b[0mvertices\u001b[0m\u001b[0;34m)\u001b[0m\u001b[0;34m:\u001b[0m\u001b[0;34m\u001b[0m\u001b[0m\n",
      "\u001b[0;32m~/.pyenv/versions/fastai/lib/python3.6/site-packages/matplotlib/transforms.py\u001b[0m in \u001b[0;36mget_transformed_path_and_affine\u001b[0;34m(self)\u001b[0m\n\u001b[1;32m   2806\u001b[0m         \"\"\"\n\u001b[1;32m   2807\u001b[0m         \u001b[0mself\u001b[0m\u001b[0;34m.\u001b[0m\u001b[0m_revalidate\u001b[0m\u001b[0;34m(\u001b[0m\u001b[0;34m)\u001b[0m\u001b[0;34m\u001b[0m\u001b[0m\n\u001b[0;32m-> 2808\u001b[0;31m         \u001b[0;32mreturn\u001b[0m \u001b[0mself\u001b[0m\u001b[0;34m.\u001b[0m\u001b[0m_transformed_path\u001b[0m\u001b[0;34m,\u001b[0m \u001b[0mself\u001b[0m\u001b[0;34m.\u001b[0m\u001b[0mget_affine\u001b[0m\u001b[0;34m(\u001b[0m\u001b[0;34m)\u001b[0m\u001b[0;34m\u001b[0m\u001b[0m\n\u001b[0m\u001b[1;32m   2809\u001b[0m \u001b[0;34m\u001b[0m\u001b[0m\n\u001b[1;32m   2810\u001b[0m     \u001b[0;32mdef\u001b[0m \u001b[0mget_fully_transformed_path\u001b[0m\u001b[0;34m(\u001b[0m\u001b[0mself\u001b[0m\u001b[0;34m)\u001b[0m\u001b[0;34m:\u001b[0m\u001b[0;34m\u001b[0m\u001b[0m\n",
      "\u001b[0;32m~/.pyenv/versions/fastai/lib/python3.6/site-packages/matplotlib/transforms.py\u001b[0m in \u001b[0;36mget_affine\u001b[0;34m(self)\u001b[0m\n\u001b[1;32m   2816\u001b[0m \u001b[0;34m\u001b[0m\u001b[0m\n\u001b[1;32m   2817\u001b[0m     \u001b[0;32mdef\u001b[0m \u001b[0mget_affine\u001b[0m\u001b[0;34m(\u001b[0m\u001b[0mself\u001b[0m\u001b[0;34m)\u001b[0m\u001b[0;34m:\u001b[0m\u001b[0;34m\u001b[0m\u001b[0m\n\u001b[0;32m-> 2818\u001b[0;31m         \u001b[0;32mreturn\u001b[0m \u001b[0mself\u001b[0m\u001b[0;34m.\u001b[0m\u001b[0m_transform\u001b[0m\u001b[0;34m.\u001b[0m\u001b[0mget_affine\u001b[0m\u001b[0;34m(\u001b[0m\u001b[0;34m)\u001b[0m\u001b[0;34m\u001b[0m\u001b[0m\n\u001b[0m\u001b[1;32m   2819\u001b[0m \u001b[0;34m\u001b[0m\u001b[0m\n\u001b[1;32m   2820\u001b[0m \u001b[0;34m\u001b[0m\u001b[0m\n",
      "\u001b[0;32m~/.pyenv/versions/fastai/lib/python3.6/site-packages/matplotlib/transforms.py\u001b[0m in \u001b[0;36mget_affine\u001b[0;34m(self)\u001b[0m\n\u001b[1;32m   2459\u001b[0m             \u001b[0;32mreturn\u001b[0m \u001b[0mself\u001b[0m\u001b[0;34m.\u001b[0m\u001b[0m_b\u001b[0m\u001b[0;34m.\u001b[0m\u001b[0mget_affine\u001b[0m\u001b[0;34m(\u001b[0m\u001b[0;34m)\u001b[0m\u001b[0;34m\u001b[0m\u001b[0m\n\u001b[1;32m   2460\u001b[0m         \u001b[0;32melse\u001b[0m\u001b[0;34m:\u001b[0m\u001b[0;34m\u001b[0m\u001b[0m\n\u001b[0;32m-> 2461\u001b[0;31m             return Affine2D(np.dot(self._b.get_affine().get_matrix(),\n\u001b[0m\u001b[1;32m   2462\u001b[0m                                 self._a.get_affine().get_matrix()))\n\u001b[1;32m   2463\u001b[0m     \u001b[0mget_affine\u001b[0m\u001b[0;34m.\u001b[0m\u001b[0m__doc__\u001b[0m \u001b[0;34m=\u001b[0m \u001b[0mTransform\u001b[0m\u001b[0;34m.\u001b[0m\u001b[0mget_affine\u001b[0m\u001b[0;34m.\u001b[0m\u001b[0m__doc__\u001b[0m\u001b[0;34m\u001b[0m\u001b[0m\n",
      "\u001b[0;32m~/.pyenv/versions/fastai/lib/python3.6/site-packages/matplotlib/transforms.py\u001b[0m in \u001b[0;36mget_affine\u001b[0;34m(self)\u001b[0m\n\u001b[1;32m   2460\u001b[0m         \u001b[0;32melse\u001b[0m\u001b[0;34m:\u001b[0m\u001b[0;34m\u001b[0m\u001b[0m\n\u001b[1;32m   2461\u001b[0m             return Affine2D(np.dot(self._b.get_affine().get_matrix(),\n\u001b[0;32m-> 2462\u001b[0;31m                                 self._a.get_affine().get_matrix()))\n\u001b[0m\u001b[1;32m   2463\u001b[0m     \u001b[0mget_affine\u001b[0m\u001b[0;34m.\u001b[0m\u001b[0m__doc__\u001b[0m \u001b[0;34m=\u001b[0m \u001b[0mTransform\u001b[0m\u001b[0;34m.\u001b[0m\u001b[0mget_affine\u001b[0m\u001b[0;34m.\u001b[0m\u001b[0m__doc__\u001b[0m\u001b[0;34m\u001b[0m\u001b[0m\n\u001b[1;32m   2464\u001b[0m \u001b[0;34m\u001b[0m\u001b[0m\n",
      "\u001b[0;32m~/.pyenv/versions/fastai/lib/python3.6/site-packages/matplotlib/transforms.py\u001b[0m in \u001b[0;36m__init__\u001b[0;34m(self, matrix, **kwargs)\u001b[0m\n\u001b[1;32m   1878\u001b[0m         \u001b[0mIf\u001b[0m \u001b[0;34m*\u001b[0m\u001b[0mmatrix\u001b[0m\u001b[0;34m*\u001b[0m \u001b[0;32mis\u001b[0m \u001b[0;32mNone\u001b[0m\u001b[0;34m,\u001b[0m \u001b[0minitialize\u001b[0m \u001b[0;32mwith\u001b[0m \u001b[0mthe\u001b[0m \u001b[0midentity\u001b[0m \u001b[0mtransform\u001b[0m\u001b[0;34m.\u001b[0m\u001b[0;34m\u001b[0m\u001b[0m\n\u001b[1;32m   1879\u001b[0m         \"\"\"\n\u001b[0;32m-> 1880\u001b[0;31m         \u001b[0mAffine2DBase\u001b[0m\u001b[0;34m.\u001b[0m\u001b[0m__init__\u001b[0m\u001b[0;34m(\u001b[0m\u001b[0mself\u001b[0m\u001b[0;34m,\u001b[0m \u001b[0;34m**\u001b[0m\u001b[0mkwargs\u001b[0m\u001b[0;34m)\u001b[0m\u001b[0;34m\u001b[0m\u001b[0m\n\u001b[0m\u001b[1;32m   1881\u001b[0m         \u001b[0;32mif\u001b[0m \u001b[0mmatrix\u001b[0m \u001b[0;32mis\u001b[0m \u001b[0;32mNone\u001b[0m\u001b[0;34m:\u001b[0m\u001b[0;34m\u001b[0m\u001b[0m\n\u001b[1;32m   1882\u001b[0m             \u001b[0;31m# A bit faster than np.identity(3).\u001b[0m\u001b[0;34m\u001b[0m\u001b[0;34m\u001b[0m\u001b[0m\n",
      "\u001b[0;31mKeyboardInterrupt\u001b[0m: "
     ]
    },
    {
     "name": "stderr",
     "output_type": "stream",
     "text": [
      "ERROR:root:Internal Python error in the inspect module.\n",
      "Below is the traceback from this internal error.\n",
      "\n"
     ]
    },
    {
     "name": "stdout",
     "output_type": "stream",
     "text": [
      "Error in callback <function flush_figures at 0x7f40a6bfbbf8> (for post_execute):\n",
      "Traceback (most recent call last):\n",
      "  File \"/home/elijahc/.pyenv/versions/fastai/lib/python3.6/site-packages/IPython/core/events.py\", line 88, in trigger\n",
      "    func(*args, **kwargs)\n",
      "  File \"/home/elijahc/.pyenv/versions/fastai/lib/python3.6/site-packages/ipykernel/pylab/backend_inline.py\", line 117, in flush_figures\n",
      "    return show(True)\n",
      "  File \"/home/elijahc/.pyenv/versions/fastai/lib/python3.6/site-packages/ipykernel/pylab/backend_inline.py\", line 39, in show\n",
      "    metadata=_fetch_figure_metadata(figure_manager.canvas.figure)\n",
      "  File \"/home/elijahc/.pyenv/versions/fastai/lib/python3.6/site-packages/IPython/core/display.py\", line 304, in display\n",
      "    format_dict, md_dict = format(obj, include=include, exclude=exclude)\n",
      "  File \"/home/elijahc/.pyenv/versions/fastai/lib/python3.6/site-packages/IPython/core/formatters.py\", line 180, in format\n",
      "    data = formatter(obj)\n",
      "  File \"</home/elijahc/.pyenv/versions/fastai/lib/python3.6/site-packages/decorator.py:decorator-gen-9>\", line 2, in __call__\n",
      "  File \"/home/elijahc/.pyenv/versions/fastai/lib/python3.6/site-packages/IPython/core/formatters.py\", line 224, in catch_format_error\n",
      "    r = method(self, *args, **kwargs)\n",
      "  File \"/home/elijahc/.pyenv/versions/fastai/lib/python3.6/site-packages/IPython/core/formatters.py\", line 341, in __call__\n",
      "    return printer(obj)\n",
      "  File \"/home/elijahc/.pyenv/versions/fastai/lib/python3.6/site-packages/IPython/core/pylabtools.py\", line 244, in <lambda>\n",
      "    png_formatter.for_type(Figure, lambda fig: print_figure(fig, 'png', **kwargs))\n",
      "  File \"/home/elijahc/.pyenv/versions/fastai/lib/python3.6/site-packages/IPython/core/pylabtools.py\", line 128, in print_figure\n",
      "    fig.canvas.print_figure(bytes_io, **kw)\n",
      "  File \"/home/elijahc/.pyenv/versions/fastai/lib/python3.6/site-packages/matplotlib/backend_bases.py\", line 2075, in print_figure\n",
      "    **kwargs)\n",
      "  File \"/home/elijahc/.pyenv/versions/fastai/lib/python3.6/site-packages/matplotlib/backends/backend_agg.py\", line 510, in print_png\n",
      "    FigureCanvasAgg.draw(self)\n",
      "  File \"/home/elijahc/.pyenv/versions/fastai/lib/python3.6/site-packages/matplotlib/backends/backend_agg.py\", line 402, in draw\n",
      "    self.figure.draw(self.renderer)\n",
      "  File \"/home/elijahc/.pyenv/versions/fastai/lib/python3.6/site-packages/matplotlib/artist.py\", line 50, in draw_wrapper\n",
      "    return draw(artist, renderer, *args, **kwargs)\n",
      "  File \"/home/elijahc/.pyenv/versions/fastai/lib/python3.6/site-packages/matplotlib/figure.py\", line 1649, in draw\n",
      "    renderer, self, artists, self.suppressComposite)\n",
      "  File \"/home/elijahc/.pyenv/versions/fastai/lib/python3.6/site-packages/matplotlib/image.py\", line 138, in _draw_list_compositing_images\n",
      "    a.draw(renderer)\n",
      "  File \"/home/elijahc/.pyenv/versions/fastai/lib/python3.6/site-packages/matplotlib/artist.py\", line 50, in draw_wrapper\n",
      "    return draw(artist, renderer, *args, **kwargs)\n",
      "  File \"/home/elijahc/.pyenv/versions/fastai/lib/python3.6/site-packages/matplotlib/axes/_base.py\", line 2628, in draw\n",
      "    mimage._draw_list_compositing_images(renderer, self, artists)\n",
      "  File \"/home/elijahc/.pyenv/versions/fastai/lib/python3.6/site-packages/matplotlib/image.py\", line 138, in _draw_list_compositing_images\n",
      "    a.draw(renderer)\n",
      "  File \"/home/elijahc/.pyenv/versions/fastai/lib/python3.6/site-packages/matplotlib/artist.py\", line 50, in draw_wrapper\n",
      "    return draw(artist, renderer, *args, **kwargs)\n",
      "  File \"/home/elijahc/.pyenv/versions/fastai/lib/python3.6/site-packages/matplotlib/text.py\", line 709, in draw\n",
      "    bbox, info, descent = textobj._get_layout(renderer)\n",
      "  File \"/home/elijahc/.pyenv/versions/fastai/lib/python3.6/site-packages/matplotlib/text.py\", line 425, in _get_layout\n",
      "    xys -= (offsetx, offsety)\n",
      "KeyboardInterrupt\n",
      "\n",
      "During handling of the above exception, another exception occurred:\n",
      "\n",
      "Traceback (most recent call last):\n",
      "  File \"/home/elijahc/.pyenv/versions/fastai/lib/python3.6/site-packages/IPython/core/interactiveshell.py\", line 2033, in showtraceback\n",
      "    stb = value._render_traceback_()\n",
      "AttributeError: 'KeyboardInterrupt' object has no attribute '_render_traceback_'\n",
      "\n",
      "During handling of the above exception, another exception occurred:\n",
      "\n",
      "Traceback (most recent call last):\n",
      "  File \"/home/elijahc/.pyenv/versions/fastai/lib/python3.6/site-packages/IPython/core/ultratb.py\", line 1095, in get_records\n",
      "    return _fixed_getinnerframes(etb, number_of_lines_of_context, tb_offset)\n",
      "  File \"/home/elijahc/.pyenv/versions/fastai/lib/python3.6/site-packages/IPython/core/ultratb.py\", line 313, in wrapped\n",
      "    return f(*args, **kwargs)\n",
      "  File \"/home/elijahc/.pyenv/versions/fastai/lib/python3.6/site-packages/IPython/core/ultratb.py\", line 347, in _fixed_getinnerframes\n",
      "    records = fix_frame_records_filenames(inspect.getinnerframes(etb, context))\n",
      "  File \"/home/elijahc/.pyenv/versions/3.6.1/lib/python3.6/inspect.py\", line 1453, in getinnerframes\n",
      "    frameinfo = (tb.tb_frame,) + getframeinfo(tb, context)\n",
      "  File \"/home/elijahc/.pyenv/versions/3.6.1/lib/python3.6/inspect.py\", line 1411, in getframeinfo\n",
      "    filename = getsourcefile(frame) or getfile(frame)\n",
      "  File \"/home/elijahc/.pyenv/versions/3.6.1/lib/python3.6/inspect.py\", line 666, in getsourcefile\n",
      "    if getattr(getmodule(object, filename), '__loader__', None) is not None:\n",
      "  File \"/home/elijahc/.pyenv/versions/3.6.1/lib/python3.6/inspect.py\", line 712, in getmodule\n",
      "    os.path.realpath(f)] = module.__name__\n",
      "  File \"/home/elijahc/.pyenv/versions/3.6.1/lib/python3.6/posixpath.py\", line 387, in realpath\n",
      "    return abspath(path)\n",
      "  File \"/home/elijahc/.pyenv/versions/3.6.1/lib/python3.6/posixpath.py\", line 376, in abspath\n",
      "    return normpath(path)\n",
      "  File \"/home/elijahc/.pyenv/versions/3.6.1/lib/python3.6/posixpath.py\", line 350, in normpath\n",
      "    comps = path.split(sep)\n",
      "KeyboardInterrupt\n"
     ]
    },
    {
     "ename": "KeyboardInterrupt",
     "evalue": "",
     "output_type": "error",
     "traceback": [
      "\u001b[0;31m---------------------------------------------------------------------------\u001b[0m"
     ]
    }
   ],
   "source": [
    "def topn_su_decode(df,n,props,plot_fn,**kwargs):\n",
    "    order=[0,1,2,3,4,5]\n",
    "    fig,axs = plt.subplots(2,3,figsize=(9,8),sharey='row',**kwargs)\n",
    "    set_style()\n",
    "    sns.set_context('talk')\n",
    "    for ax,prop in zip(axs.ravel(),props):\n",
    "        pix = [df.query('layer == 0')]\n",
    "        df_topn = pd.concat(pix+[df.query('layer == {}'.format(l)).nlargest(n,prop) for l in [1,2,3,4]])\n",
    "        plot_fn(x='layer',y=prop,order=order,data=df_topn,ax=ax,palette='magma')\n",
    "        ax.set_xticklabels(['pix','V1','V2','V4','IT','?'])\n",
    "#         ax.set_ylabel('d\\'')\n",
    "        ax.set_ylabel('')\n",
    "        ax.set_title(prop)\n",
    "        sns.despine(ax=ax)\n",
    "        \n",
    "    del_ax = axs.ravel()[2]\n",
    "    del_ax.clear()\n",
    "    del_ax.get_xaxis().set_visible(False)\n",
    "    plt.tight_layout()\n",
    "    return fig,axs\n",
    "\n",
    "\n",
    "props = ['category_name','object_name','object_name','tx','ty','rxy']\n",
    "new_prop_names = ['Category', 'Identity', 'Identity','X Position','Y Position','Rotation (xy)']\n",
    "dicarlo_df = dicarlo_df.rename(columns={k:v for k,v in zip(props,new_prop_names)})\n",
    "\n",
    "fig,axs = topn_su_decode(dicarlo_df,n=192,\n",
    "                         props=new_prop_names,\n",
    "                         plot_fn=sns.boxplot,\n",
    "#                subplot_kw={'ylim':(0,0.5)},\n",
    "              )"
   ]
  },
  {
   "cell_type": "code",
   "execution_count": 33,
   "metadata": {},
   "outputs": [],
   "source": [
    "# fig.savefig('../figures/dicarlo_su_all.pdf',dpi=300)"
   ]
  },
  {
   "cell_type": "code",
   "execution_count": 34,
   "metadata": {},
   "outputs": [
    {
     "ename": "KeyboardInterrupt",
     "evalue": "",
     "output_type": "error",
     "traceback": [
      "\u001b[0;31m---------------------------------------------------------------------------\u001b[0m",
      "\u001b[0;31mKeyboardInterrupt\u001b[0m                         Traceback (most recent call last)",
      "\u001b[0;32m<ipython-input-34-1c55d8d130bc>\u001b[0m in \u001b[0;36m<module>\u001b[0;34m\u001b[0m\n\u001b[1;32m      1\u001b[0m fig,axs = topn_su_decode(dicarlo_df,n=25,\n\u001b[1;32m      2\u001b[0m                          \u001b[0mprops\u001b[0m\u001b[0;34m=\u001b[0m\u001b[0mnew_prop_names\u001b[0m\u001b[0;34m,\u001b[0m\u001b[0;34m\u001b[0m\u001b[0m\n\u001b[0;32m----> 3\u001b[0;31m                          \u001b[0mplot_fn\u001b[0m\u001b[0;34m=\u001b[0m\u001b[0msns\u001b[0m\u001b[0;34m.\u001b[0m\u001b[0mboxplot\u001b[0m\u001b[0;34m,\u001b[0m\u001b[0;34m\u001b[0m\u001b[0m\n\u001b[0m\u001b[1;32m      4\u001b[0m \u001b[0;31m#                subplot_kw={'ylim':(0,0.5)},\u001b[0m\u001b[0;34m\u001b[0m\u001b[0;34m\u001b[0m\u001b[0m\n\u001b[1;32m      5\u001b[0m               )\n",
      "\u001b[0;32m<ipython-input-32-f646c009a784>\u001b[0m in \u001b[0;36mtopn_su_decode\u001b[0;34m(df, n, props, plot_fn, **kwargs)\u001b[0m\n\u001b[1;32m      1\u001b[0m \u001b[0;32mdef\u001b[0m \u001b[0mtopn_su_decode\u001b[0m\u001b[0;34m(\u001b[0m\u001b[0mdf\u001b[0m\u001b[0;34m,\u001b[0m\u001b[0mn\u001b[0m\u001b[0;34m,\u001b[0m\u001b[0mprops\u001b[0m\u001b[0;34m,\u001b[0m\u001b[0mplot_fn\u001b[0m\u001b[0;34m,\u001b[0m\u001b[0;34m**\u001b[0m\u001b[0mkwargs\u001b[0m\u001b[0;34m)\u001b[0m\u001b[0;34m:\u001b[0m\u001b[0;34m\u001b[0m\u001b[0m\n\u001b[1;32m      2\u001b[0m     \u001b[0morder\u001b[0m\u001b[0;34m=\u001b[0m\u001b[0;34m[\u001b[0m\u001b[0;36m0\u001b[0m\u001b[0;34m,\u001b[0m\u001b[0;36m1\u001b[0m\u001b[0;34m,\u001b[0m\u001b[0;36m2\u001b[0m\u001b[0;34m,\u001b[0m\u001b[0;36m3\u001b[0m\u001b[0;34m,\u001b[0m\u001b[0;36m4\u001b[0m\u001b[0;34m,\u001b[0m\u001b[0;36m5\u001b[0m\u001b[0;34m]\u001b[0m\u001b[0;34m\u001b[0m\u001b[0m\n\u001b[0;32m----> 3\u001b[0;31m     \u001b[0mfig\u001b[0m\u001b[0;34m,\u001b[0m\u001b[0maxs\u001b[0m \u001b[0;34m=\u001b[0m \u001b[0mplt\u001b[0m\u001b[0;34m.\u001b[0m\u001b[0msubplots\u001b[0m\u001b[0;34m(\u001b[0m\u001b[0;36m2\u001b[0m\u001b[0;34m,\u001b[0m\u001b[0;36m3\u001b[0m\u001b[0;34m,\u001b[0m\u001b[0mfigsize\u001b[0m\u001b[0;34m=\u001b[0m\u001b[0;34m(\u001b[0m\u001b[0;36m9\u001b[0m\u001b[0;34m,\u001b[0m\u001b[0;36m8\u001b[0m\u001b[0;34m)\u001b[0m\u001b[0;34m,\u001b[0m\u001b[0msharey\u001b[0m\u001b[0;34m=\u001b[0m\u001b[0;34m'row'\u001b[0m\u001b[0;34m,\u001b[0m\u001b[0;34m**\u001b[0m\u001b[0mkwargs\u001b[0m\u001b[0;34m)\u001b[0m\u001b[0;34m\u001b[0m\u001b[0m\n\u001b[0m\u001b[1;32m      4\u001b[0m     \u001b[0mset_style\u001b[0m\u001b[0;34m(\u001b[0m\u001b[0;34m)\u001b[0m\u001b[0;34m\u001b[0m\u001b[0m\n\u001b[1;32m      5\u001b[0m     \u001b[0msns\u001b[0m\u001b[0;34m.\u001b[0m\u001b[0mset_context\u001b[0m\u001b[0;34m(\u001b[0m\u001b[0;34m'talk'\u001b[0m\u001b[0;34m)\u001b[0m\u001b[0;34m\u001b[0m\u001b[0m\n",
      "\u001b[0;32m~/.pyenv/versions/fastai/lib/python3.6/site-packages/matplotlib/pyplot.py\u001b[0m in \u001b[0;36msubplots\u001b[0;34m(nrows, ncols, sharex, sharey, squeeze, subplot_kw, gridspec_kw, **fig_kw)\u001b[0m\n\u001b[1;32m   1218\u001b[0m     axs = fig.subplots(nrows=nrows, ncols=ncols, sharex=sharex, sharey=sharey,\n\u001b[1;32m   1219\u001b[0m                        \u001b[0msqueeze\u001b[0m\u001b[0;34m=\u001b[0m\u001b[0msqueeze\u001b[0m\u001b[0;34m,\u001b[0m \u001b[0msubplot_kw\u001b[0m\u001b[0;34m=\u001b[0m\u001b[0msubplot_kw\u001b[0m\u001b[0;34m,\u001b[0m\u001b[0;34m\u001b[0m\u001b[0m\n\u001b[0;32m-> 1220\u001b[0;31m                        gridspec_kw=gridspec_kw)\n\u001b[0m\u001b[1;32m   1221\u001b[0m     \u001b[0;32mreturn\u001b[0m \u001b[0mfig\u001b[0m\u001b[0;34m,\u001b[0m \u001b[0maxs\u001b[0m\u001b[0;34m\u001b[0m\u001b[0m\n\u001b[1;32m   1222\u001b[0m \u001b[0;34m\u001b[0m\u001b[0m\n",
      "\u001b[0;32m~/.pyenv/versions/fastai/lib/python3.6/site-packages/matplotlib/figure.py\u001b[0m in \u001b[0;36msubplots\u001b[0;34m(self, nrows, ncols, sharex, sharey, squeeze, subplot_kw, gridspec_kw)\u001b[0m\n\u001b[1;32m   1527\u001b[0m                 \u001b[0msubplot_kw\u001b[0m\u001b[0;34m[\u001b[0m\u001b[0;34m\"sharex\"\u001b[0m\u001b[0;34m]\u001b[0m \u001b[0;34m=\u001b[0m \u001b[0mshared_with\u001b[0m\u001b[0;34m[\u001b[0m\u001b[0msharex\u001b[0m\u001b[0;34m]\u001b[0m\u001b[0;34m\u001b[0m\u001b[0m\n\u001b[1;32m   1528\u001b[0m                 \u001b[0msubplot_kw\u001b[0m\u001b[0;34m[\u001b[0m\u001b[0;34m\"sharey\"\u001b[0m\u001b[0;34m]\u001b[0m \u001b[0;34m=\u001b[0m \u001b[0mshared_with\u001b[0m\u001b[0;34m[\u001b[0m\u001b[0msharey\u001b[0m\u001b[0;34m]\u001b[0m\u001b[0;34m\u001b[0m\u001b[0m\n\u001b[0;32m-> 1529\u001b[0;31m                 \u001b[0maxarr\u001b[0m\u001b[0;34m[\u001b[0m\u001b[0mrow\u001b[0m\u001b[0;34m,\u001b[0m \u001b[0mcol\u001b[0m\u001b[0;34m]\u001b[0m \u001b[0;34m=\u001b[0m \u001b[0mself\u001b[0m\u001b[0;34m.\u001b[0m\u001b[0madd_subplot\u001b[0m\u001b[0;34m(\u001b[0m\u001b[0mgs\u001b[0m\u001b[0;34m[\u001b[0m\u001b[0mrow\u001b[0m\u001b[0;34m,\u001b[0m \u001b[0mcol\u001b[0m\u001b[0;34m]\u001b[0m\u001b[0;34m,\u001b[0m \u001b[0;34m**\u001b[0m\u001b[0msubplot_kw\u001b[0m\u001b[0;34m)\u001b[0m\u001b[0;34m\u001b[0m\u001b[0m\n\u001b[0m\u001b[1;32m   1530\u001b[0m \u001b[0;34m\u001b[0m\u001b[0m\n\u001b[1;32m   1531\u001b[0m         \u001b[0;31m# turn off redundant tick labeling\u001b[0m\u001b[0;34m\u001b[0m\u001b[0;34m\u001b[0m\u001b[0m\n",
      "\u001b[0;32m~/.pyenv/versions/fastai/lib/python3.6/site-packages/matplotlib/figure.py\u001b[0m in \u001b[0;36madd_subplot\u001b[0;34m(self, *args, **kwargs)\u001b[0m\n\u001b[1;32m   1365\u001b[0m                     \u001b[0mself\u001b[0m\u001b[0;34m.\u001b[0m\u001b[0m_axstack\u001b[0m\u001b[0;34m.\u001b[0m\u001b[0mremove\u001b[0m\u001b[0;34m(\u001b[0m\u001b[0max\u001b[0m\u001b[0;34m)\u001b[0m\u001b[0;34m\u001b[0m\u001b[0m\n\u001b[1;32m   1366\u001b[0m \u001b[0;34m\u001b[0m\u001b[0m\n\u001b[0;32m-> 1367\u001b[0;31m             \u001b[0ma\u001b[0m \u001b[0;34m=\u001b[0m \u001b[0msubplot_class_factory\u001b[0m\u001b[0;34m(\u001b[0m\u001b[0mprojection_class\u001b[0m\u001b[0;34m)\u001b[0m\u001b[0;34m(\u001b[0m\u001b[0mself\u001b[0m\u001b[0;34m,\u001b[0m \u001b[0;34m*\u001b[0m\u001b[0margs\u001b[0m\u001b[0;34m,\u001b[0m \u001b[0;34m**\u001b[0m\u001b[0mkwargs\u001b[0m\u001b[0;34m)\u001b[0m\u001b[0;34m\u001b[0m\u001b[0m\n\u001b[0m\u001b[1;32m   1368\u001b[0m         \u001b[0mself\u001b[0m\u001b[0;34m.\u001b[0m\u001b[0m_axstack\u001b[0m\u001b[0;34m.\u001b[0m\u001b[0madd\u001b[0m\u001b[0;34m(\u001b[0m\u001b[0mkey\u001b[0m\u001b[0;34m,\u001b[0m \u001b[0ma\u001b[0m\u001b[0;34m)\u001b[0m\u001b[0;34m\u001b[0m\u001b[0m\n\u001b[1;32m   1369\u001b[0m         \u001b[0mself\u001b[0m\u001b[0;34m.\u001b[0m\u001b[0msca\u001b[0m\u001b[0;34m(\u001b[0m\u001b[0ma\u001b[0m\u001b[0;34m)\u001b[0m\u001b[0;34m\u001b[0m\u001b[0m\n",
      "\u001b[0;32m~/.pyenv/versions/fastai/lib/python3.6/site-packages/matplotlib/axes/_subplots.py\u001b[0m in \u001b[0;36m__init__\u001b[0;34m(self, fig, *args, **kwargs)\u001b[0m\n\u001b[1;32m     68\u001b[0m \u001b[0;34m\u001b[0m\u001b[0m\n\u001b[1;32m     69\u001b[0m         \u001b[0;31m# _axes_class is set in the subplot_class_factory\u001b[0m\u001b[0;34m\u001b[0m\u001b[0;34m\u001b[0m\u001b[0m\n\u001b[0;32m---> 70\u001b[0;31m         \u001b[0mself\u001b[0m\u001b[0;34m.\u001b[0m\u001b[0m_axes_class\u001b[0m\u001b[0;34m.\u001b[0m\u001b[0m__init__\u001b[0m\u001b[0;34m(\u001b[0m\u001b[0mself\u001b[0m\u001b[0;34m,\u001b[0m \u001b[0mfig\u001b[0m\u001b[0;34m,\u001b[0m \u001b[0mself\u001b[0m\u001b[0;34m.\u001b[0m\u001b[0mfigbox\u001b[0m\u001b[0;34m,\u001b[0m \u001b[0;34m**\u001b[0m\u001b[0mkwargs\u001b[0m\u001b[0;34m)\u001b[0m\u001b[0;34m\u001b[0m\u001b[0m\n\u001b[0m\u001b[1;32m     71\u001b[0m         \u001b[0;31m# add a layout box to this, for both the full axis, and the poss\u001b[0m\u001b[0;34m\u001b[0m\u001b[0;34m\u001b[0m\u001b[0m\n\u001b[1;32m     72\u001b[0m         \u001b[0;31m# of the axis.  We need both because the axes may become smaller\u001b[0m\u001b[0;34m\u001b[0m\u001b[0;34m\u001b[0m\u001b[0m\n",
      "\u001b[0;32m~/.pyenv/versions/fastai/lib/python3.6/site-packages/matplotlib/axes/_base.py\u001b[0m in \u001b[0;36m__init__\u001b[0;34m(self, fig, rect, facecolor, frameon, sharex, sharey, label, xscale, yscale, **kwargs)\u001b[0m\n\u001b[1;32m    489\u001b[0m         \u001b[0mself\u001b[0m\u001b[0;34m.\u001b[0m\u001b[0m_rasterization_zorder\u001b[0m \u001b[0;34m=\u001b[0m \u001b[0;32mNone\u001b[0m\u001b[0;34m\u001b[0m\u001b[0m\n\u001b[1;32m    490\u001b[0m         \u001b[0mself\u001b[0m\u001b[0;34m.\u001b[0m\u001b[0m_connected\u001b[0m \u001b[0;34m=\u001b[0m \u001b[0;34m{\u001b[0m\u001b[0;34m}\u001b[0m  \u001b[0;31m# a dict from events to (id, func)\u001b[0m\u001b[0;34m\u001b[0m\u001b[0m\n\u001b[0;32m--> 491\u001b[0;31m         \u001b[0mself\u001b[0m\u001b[0;34m.\u001b[0m\u001b[0mcla\u001b[0m\u001b[0;34m(\u001b[0m\u001b[0;34m)\u001b[0m\u001b[0;34m\u001b[0m\u001b[0m\n\u001b[0m\u001b[1;32m    492\u001b[0m \u001b[0;34m\u001b[0m\u001b[0m\n\u001b[1;32m    493\u001b[0m         \u001b[0;31m# funcs used to format x and y - fall back on major formatters\u001b[0m\u001b[0;34m\u001b[0m\u001b[0;34m\u001b[0m\u001b[0m\n",
      "\u001b[0;32m~/.pyenv/versions/fastai/lib/python3.6/site-packages/matplotlib/axes/_base.py\u001b[0m in \u001b[0;36mcla\u001b[0;34m(self)\u001b[0m\n\u001b[1;32m   1095\u001b[0m \u001b[0;34m\u001b[0m\u001b[0m\n\u001b[1;32m   1096\u001b[0m         \u001b[0mself\u001b[0m\u001b[0;34m.\u001b[0m\u001b[0mxaxis\u001b[0m\u001b[0;34m.\u001b[0m\u001b[0mset_clip_path\u001b[0m\u001b[0;34m(\u001b[0m\u001b[0mself\u001b[0m\u001b[0;34m.\u001b[0m\u001b[0mpatch\u001b[0m\u001b[0;34m)\u001b[0m\u001b[0;34m\u001b[0m\u001b[0m\n\u001b[0;32m-> 1097\u001b[0;31m         \u001b[0mself\u001b[0m\u001b[0;34m.\u001b[0m\u001b[0myaxis\u001b[0m\u001b[0;34m.\u001b[0m\u001b[0mset_clip_path\u001b[0m\u001b[0;34m(\u001b[0m\u001b[0mself\u001b[0m\u001b[0;34m.\u001b[0m\u001b[0mpatch\u001b[0m\u001b[0;34m)\u001b[0m\u001b[0;34m\u001b[0m\u001b[0m\n\u001b[0m\u001b[1;32m   1098\u001b[0m \u001b[0;34m\u001b[0m\u001b[0m\n\u001b[1;32m   1099\u001b[0m         \u001b[0mself\u001b[0m\u001b[0;34m.\u001b[0m\u001b[0m_shared_x_axes\u001b[0m\u001b[0;34m.\u001b[0m\u001b[0mclean\u001b[0m\u001b[0;34m(\u001b[0m\u001b[0;34m)\u001b[0m\u001b[0;34m\u001b[0m\u001b[0m\n",
      "\u001b[0;32m~/.pyenv/versions/fastai/lib/python3.6/site-packages/matplotlib/axis.py\u001b[0m in \u001b[0;36mset_clip_path\u001b[0;34m(self, clippath, transform)\u001b[0m\n\u001b[1;32m    923\u001b[0m     \u001b[0;32mdef\u001b[0m \u001b[0mset_clip_path\u001b[0m\u001b[0;34m(\u001b[0m\u001b[0mself\u001b[0m\u001b[0;34m,\u001b[0m \u001b[0mclippath\u001b[0m\u001b[0;34m,\u001b[0m \u001b[0mtransform\u001b[0m\u001b[0;34m=\u001b[0m\u001b[0;32mNone\u001b[0m\u001b[0;34m)\u001b[0m\u001b[0;34m:\u001b[0m\u001b[0;34m\u001b[0m\u001b[0m\n\u001b[1;32m    924\u001b[0m         \u001b[0martist\u001b[0m\u001b[0;34m.\u001b[0m\u001b[0mArtist\u001b[0m\u001b[0;34m.\u001b[0m\u001b[0mset_clip_path\u001b[0m\u001b[0;34m(\u001b[0m\u001b[0mself\u001b[0m\u001b[0;34m,\u001b[0m \u001b[0mclippath\u001b[0m\u001b[0;34m,\u001b[0m \u001b[0mtransform\u001b[0m\u001b[0;34m)\u001b[0m\u001b[0;34m\u001b[0m\u001b[0m\n\u001b[0;32m--> 925\u001b[0;31m         \u001b[0;32mfor\u001b[0m \u001b[0mchild\u001b[0m \u001b[0;32min\u001b[0m \u001b[0mself\u001b[0m\u001b[0;34m.\u001b[0m\u001b[0mmajorTicks\u001b[0m \u001b[0;34m+\u001b[0m \u001b[0mself\u001b[0m\u001b[0;34m.\u001b[0m\u001b[0mminorTicks\u001b[0m\u001b[0;34m:\u001b[0m\u001b[0;34m\u001b[0m\u001b[0m\n\u001b[0m\u001b[1;32m    926\u001b[0m             \u001b[0mchild\u001b[0m\u001b[0;34m.\u001b[0m\u001b[0mset_clip_path\u001b[0m\u001b[0;34m(\u001b[0m\u001b[0mclippath\u001b[0m\u001b[0;34m,\u001b[0m \u001b[0mtransform\u001b[0m\u001b[0;34m)\u001b[0m\u001b[0;34m\u001b[0m\u001b[0m\n\u001b[1;32m    927\u001b[0m         \u001b[0mself\u001b[0m\u001b[0;34m.\u001b[0m\u001b[0mstale\u001b[0m \u001b[0;34m=\u001b[0m \u001b[0;32mTrue\u001b[0m\u001b[0;34m\u001b[0m\u001b[0m\n",
      "\u001b[0;32m~/.pyenv/versions/fastai/lib/python3.6/site-packages/matplotlib/axis.py\u001b[0m in \u001b[0;36m__get__\u001b[0;34m(self, instance, cls)\u001b[0m\n\u001b[1;32m    680\u001b[0m             \u001b[0;32melse\u001b[0m\u001b[0;34m:\u001b[0m\u001b[0;34m\u001b[0m\u001b[0m\n\u001b[1;32m    681\u001b[0m                 \u001b[0minstance\u001b[0m\u001b[0;34m.\u001b[0m\u001b[0mminorTicks\u001b[0m \u001b[0;34m=\u001b[0m \u001b[0;34m[\u001b[0m\u001b[0;34m]\u001b[0m\u001b[0;34m\u001b[0m\u001b[0m\n\u001b[0;32m--> 682\u001b[0;31m                 \u001b[0mtick\u001b[0m \u001b[0;34m=\u001b[0m \u001b[0minstance\u001b[0m\u001b[0;34m.\u001b[0m\u001b[0m_get_tick\u001b[0m\u001b[0;34m(\u001b[0m\u001b[0mmajor\u001b[0m\u001b[0;34m=\u001b[0m\u001b[0;32mFalse\u001b[0m\u001b[0;34m)\u001b[0m\u001b[0;34m\u001b[0m\u001b[0m\n\u001b[0m\u001b[1;32m    683\u001b[0m                 \u001b[0minstance\u001b[0m\u001b[0;34m.\u001b[0m\u001b[0mminorTicks\u001b[0m\u001b[0;34m.\u001b[0m\u001b[0mappend\u001b[0m\u001b[0;34m(\u001b[0m\u001b[0mtick\u001b[0m\u001b[0;34m)\u001b[0m\u001b[0;34m\u001b[0m\u001b[0m\n\u001b[1;32m    684\u001b[0m                 \u001b[0;32mreturn\u001b[0m \u001b[0minstance\u001b[0m\u001b[0;34m.\u001b[0m\u001b[0mminorTicks\u001b[0m\u001b[0;34m\u001b[0m\u001b[0m\n",
      "\u001b[0;32m~/.pyenv/versions/fastai/lib/python3.6/site-packages/matplotlib/axis.py\u001b[0m in \u001b[0;36m_get_tick\u001b[0;34m(self, major)\u001b[0m\n\u001b[1;32m   2192\u001b[0m         \u001b[0;32melse\u001b[0m\u001b[0;34m:\u001b[0m\u001b[0;34m\u001b[0m\u001b[0m\n\u001b[1;32m   2193\u001b[0m             \u001b[0mtick_kw\u001b[0m \u001b[0;34m=\u001b[0m \u001b[0mself\u001b[0m\u001b[0;34m.\u001b[0m\u001b[0m_minor_tick_kw\u001b[0m\u001b[0;34m\u001b[0m\u001b[0m\n\u001b[0;32m-> 2194\u001b[0;31m         \u001b[0;32mreturn\u001b[0m \u001b[0mYTick\u001b[0m\u001b[0;34m(\u001b[0m\u001b[0mself\u001b[0m\u001b[0;34m.\u001b[0m\u001b[0maxes\u001b[0m\u001b[0;34m,\u001b[0m \u001b[0;36m0\u001b[0m\u001b[0;34m,\u001b[0m \u001b[0;34m''\u001b[0m\u001b[0;34m,\u001b[0m \u001b[0mmajor\u001b[0m\u001b[0;34m=\u001b[0m\u001b[0mmajor\u001b[0m\u001b[0;34m,\u001b[0m \u001b[0;34m**\u001b[0m\u001b[0mtick_kw\u001b[0m\u001b[0;34m)\u001b[0m\u001b[0;34m\u001b[0m\u001b[0m\n\u001b[0m\u001b[1;32m   2195\u001b[0m \u001b[0;34m\u001b[0m\u001b[0m\n\u001b[1;32m   2196\u001b[0m     \u001b[0;32mdef\u001b[0m \u001b[0m_get_label\u001b[0m\u001b[0;34m(\u001b[0m\u001b[0mself\u001b[0m\u001b[0;34m)\u001b[0m\u001b[0;34m:\u001b[0m\u001b[0;34m\u001b[0m\u001b[0m\n",
      "\u001b[0;32m~/.pyenv/versions/fastai/lib/python3.6/site-packages/matplotlib/axis.py\u001b[0m in \u001b[0;36m__init__\u001b[0;34m(self, axes, loc, label, size, width, color, tickdir, pad, labelsize, labelcolor, zorder, gridOn, tick1On, tick2On, label1On, label2On, major, labelrotation, grid_color, grid_linestyle, grid_linewidth, grid_alpha, **kw)\u001b[0m\n\u001b[1;32m    173\u001b[0m \u001b[0;34m\u001b[0m\u001b[0m\n\u001b[1;32m    174\u001b[0m         \u001b[0mself\u001b[0m\u001b[0;34m.\u001b[0m\u001b[0mtick1line\u001b[0m \u001b[0;34m=\u001b[0m \u001b[0mself\u001b[0m\u001b[0;34m.\u001b[0m\u001b[0m_get_tick1line\u001b[0m\u001b[0;34m(\u001b[0m\u001b[0;34m)\u001b[0m\u001b[0;34m\u001b[0m\u001b[0m\n\u001b[0;32m--> 175\u001b[0;31m         \u001b[0mself\u001b[0m\u001b[0;34m.\u001b[0m\u001b[0mtick2line\u001b[0m \u001b[0;34m=\u001b[0m \u001b[0mself\u001b[0m\u001b[0;34m.\u001b[0m\u001b[0m_get_tick2line\u001b[0m\u001b[0;34m(\u001b[0m\u001b[0;34m)\u001b[0m\u001b[0;34m\u001b[0m\u001b[0m\n\u001b[0m\u001b[1;32m    176\u001b[0m         \u001b[0mself\u001b[0m\u001b[0;34m.\u001b[0m\u001b[0mgridline\u001b[0m \u001b[0;34m=\u001b[0m \u001b[0mself\u001b[0m\u001b[0;34m.\u001b[0m\u001b[0m_get_gridline\u001b[0m\u001b[0;34m(\u001b[0m\u001b[0;34m)\u001b[0m\u001b[0;34m\u001b[0m\u001b[0m\n\u001b[1;32m    177\u001b[0m \u001b[0;34m\u001b[0m\u001b[0m\n",
      "\u001b[0;32m~/.pyenv/versions/fastai/lib/python3.6/site-packages/matplotlib/axis.py\u001b[0m in \u001b[0;36m_get_tick2line\u001b[0;34m(self)\u001b[0m\n\u001b[1;32m    608\u001b[0m                           \u001b[0mmarkeredgewidth\u001b[0m\u001b[0;34m=\u001b[0m\u001b[0mself\u001b[0m\u001b[0;34m.\u001b[0m\u001b[0m_width\u001b[0m\u001b[0;34m,\u001b[0m\u001b[0;34m\u001b[0m\u001b[0m\n\u001b[1;32m    609\u001b[0m                           zorder=self._zorder)\n\u001b[0;32m--> 610\u001b[0;31m         \u001b[0ml\u001b[0m\u001b[0;34m.\u001b[0m\u001b[0mset_transform\u001b[0m\u001b[0;34m(\u001b[0m\u001b[0mself\u001b[0m\u001b[0;34m.\u001b[0m\u001b[0maxes\u001b[0m\u001b[0;34m.\u001b[0m\u001b[0mget_yaxis_transform\u001b[0m\u001b[0;34m(\u001b[0m\u001b[0mwhich\u001b[0m\u001b[0;34m=\u001b[0m\u001b[0;34m'tick2'\u001b[0m\u001b[0;34m)\u001b[0m\u001b[0;34m)\u001b[0m\u001b[0;34m\u001b[0m\u001b[0m\n\u001b[0m\u001b[1;32m    611\u001b[0m         \u001b[0mself\u001b[0m\u001b[0;34m.\u001b[0m\u001b[0m_set_artist_props\u001b[0m\u001b[0;34m(\u001b[0m\u001b[0ml\u001b[0m\u001b[0;34m)\u001b[0m\u001b[0;34m\u001b[0m\u001b[0m\n\u001b[1;32m    612\u001b[0m         \u001b[0;32mreturn\u001b[0m \u001b[0ml\u001b[0m\u001b[0;34m\u001b[0m\u001b[0m\n",
      "\u001b[0;32m~/.pyenv/versions/fastai/lib/python3.6/site-packages/matplotlib/axes/_base.py\u001b[0m in \u001b[0;36mget_yaxis_transform\u001b[0;34m(self, which)\u001b[0m\n\u001b[1;32m    754\u001b[0m             \u001b[0;31m# for cartesian projection, this is bottom spine\u001b[0m\u001b[0;34m\u001b[0m\u001b[0;34m\u001b[0m\u001b[0m\n\u001b[1;32m    755\u001b[0m             \u001b[0;32mreturn\u001b[0m \u001b[0mself\u001b[0m\u001b[0;34m.\u001b[0m\u001b[0mspines\u001b[0m\u001b[0;34m[\u001b[0m\u001b[0;34m'left'\u001b[0m\u001b[0;34m]\u001b[0m\u001b[0;34m.\u001b[0m\u001b[0mget_spine_transform\u001b[0m\u001b[0;34m(\u001b[0m\u001b[0;34m)\u001b[0m\u001b[0;34m\u001b[0m\u001b[0m\n\u001b[0;32m--> 756\u001b[0;31m         \u001b[0;32melif\u001b[0m \u001b[0mwhich\u001b[0m \u001b[0;34m==\u001b[0m \u001b[0;34m'tick2'\u001b[0m\u001b[0;34m:\u001b[0m\u001b[0;34m\u001b[0m\u001b[0m\n\u001b[0m\u001b[1;32m    757\u001b[0m             \u001b[0;31m# for cartesian projection, this is top spine\u001b[0m\u001b[0;34m\u001b[0m\u001b[0;34m\u001b[0m\u001b[0m\n\u001b[1;32m    758\u001b[0m             \u001b[0;32mreturn\u001b[0m \u001b[0mself\u001b[0m\u001b[0;34m.\u001b[0m\u001b[0mspines\u001b[0m\u001b[0;34m[\u001b[0m\u001b[0;34m'right'\u001b[0m\u001b[0;34m]\u001b[0m\u001b[0;34m.\u001b[0m\u001b[0mget_spine_transform\u001b[0m\u001b[0;34m(\u001b[0m\u001b[0;34m)\u001b[0m\u001b[0;34m\u001b[0m\u001b[0m\n",
      "\u001b[0;31mKeyboardInterrupt\u001b[0m: "
     ]
    },
    {
     "data": {
      "image/png": "[encoded data removed]",
      "text/plain": [
       "<Figure size 648x576 with 3 Axes>"
      ]
     },
     "metadata": {},
     "output_type": "display_data"
    }
   ],
   "source": [
    "fig,axs = topn_su_decode(dicarlo_df,n=25,\n",
    "                         props=new_prop_names,\n",
    "                         plot_fn=sns.boxplot,\n",
    "#                subplot_kw={'ylim':(0,0.5)},\n",
    "              )"
   ]
  },
  {
   "cell_type": "code",
   "execution_count": null,
   "metadata": {},
   "outputs": [],
   "source": [
    "fig.savefig('../figures/dicarlo_su_top25.pdf',dpi=300)"
   ]
  },
  {
   "cell_type": "code",
   "execution_count": null,
   "metadata": {},
   "outputs": [],
   "source": [
    "fig,axs = topn_su_decode(dicarlo_df,n=25,\n",
    "                         props=new_prop_names,\n",
    "                         plot_fn=sns.barplot,\n",
    "#                subplot_kw={'ylim':(0,0.5)},\n",
    "              )\n",
    "axs[0,0].set_ylim(0,0.8)\n",
    "axs[1,0].set_ylim(0,0.4)\n",
    "fig.savefig('../figures/dicarlo_su_top25_barplot.pdf',dpi=300)"
   ]
  },
  {
   "cell_type": "code",
   "execution_count": null,
   "metadata": {},
   "outputs": [],
   "source": [
    "# convnet = [\n",
    "#     aug_df.query('augmentation == \"dynamic\" & recon_weight == 0.0'),\n",
    "#     aug_df.query('augmentation == \"dynamic\" & recon_weight == 1.0')\n",
    "# ]\n",
    "# single = [\n",
    "#     aug_df.query('augmentation == \"single\" & recon_weight == 0.0'),\n",
    "#     aug_df.query('augmentation == \"single\" & recon_weight == 1.0')\n",
    "# ]"
   ]
  },
  {
   "cell_type": "code",
   "execution_count": null,
   "metadata": {},
   "outputs": [],
   "source": [
    "set_style()"
   ]
  },
  {
   "cell_type": "code",
   "execution_count": null,
   "metadata": {},
   "outputs": [],
   "source": [
    "sns.set_context('talk')"
   ]
  },
  {
   "cell_type": "code",
   "execution_count": null,
   "metadata": {},
   "outputs": [],
   "source": [
    "dicarlo_df = dicarlo_df.rename(columns={'X Position':'tx','Y Position':'ty','Rotation (xy)':'rxy','Identity':'identity_name','Category':'category_name'})"
   ]
  },
  {
   "cell_type": "code",
   "execution_count": null,
   "metadata": {},
   "outputs": [],
   "source": [
    "conv_x_orders = {\n",
    "    'region':(\n",
    "        ['pixel','conv_2','conv_3','conv_4','y_enc','z_enc'],\n",
    "        ['pix','Layer 2','Layer 3','Layer 4',r'$L_2$',r'$L_1$']\n",
    "    ),\n",
    "    'layer':(\n",
    "        [0,2,3,4,5],\n",
    "        ['pix','C2','C3','C4','L'],\n",
    "    )\n",
    "}\n",
    "macaque_x_conf = {\n",
    "    'layer':(\n",
    "        [0,1,2,3,4,5],\n",
    "        ['pix','V1','V2','V4','IT','?']\n",
    "    ),\n",
    "    'subregion':(\n",
    "        ['pixel','V1','V2','V4','aIT','cIT','pIT'],\n",
    "        ['pixel','V1','V2','V4','aIT','cIT','pIT']\n",
    "    )\n",
    "}\n",
    "dense_x_conf = {\n",
    "    'region':(\n",
    "        ['pixel','dense_1','dense_2','dense_3','y_lat','z_lat'],\n",
    "        ['pix','D1','D2','D3','L2','L1']\n",
    "    ),\n",
    "    'layer':(\n",
    "        [0,1,2,3,4],\n",
    "        ['pix','D1','D2','D3','L']\n",
    "    )\n",
    "}\n",
    "\n",
    "def plot_row(df,props,axs,plot_fn=sns.barplot,x_conf=conv_x_orders,row_title='with_recon',topn=None,x='region'):\n",
    "    for i,ax,prop in zip(np.arange(len(props)),axs,props):\n",
    "        x_order,x_labels = x_conf[x]\n",
    "        if topn is not None:\n",
    "            topn_l = [df.query('{} == {}'.format(x,l)).nlargest(topn,prop) for l in x_order[1:]]\n",
    "            topn_l = [df.query('{} == {}'.format(x,x_order[0]))]+topn_l\n",
    "            plot_df = pd.concat(topn_l) \n",
    "        else:\n",
    "            plot_df = df\n",
    "        \n",
    "        \n",
    "        plot_fn(x=x,y=prop,order=x_order,data=plot_df,ax=ax,palette='magma')\n",
    "        ax.set_xticklabels(x_labels)\n",
    "#         ax.set_xticklabels()\n",
    "#         plt.xticks(rotation=45)\n",
    "    #         ax.set_ylabel('d\\'')\n",
    "        if i == 0:\n",
    "            ax.set_ylabel(row_title)\n",
    "        else:\n",
    "            ax.set_ylabel('')\n",
    "        ax.set_title(prop)\n",
    "        sns.despine(ax=ax)"
   ]
  },
  {
   "cell_type": "markdown",
   "metadata": {},
   "source": [
    "# Convolutional Architecture"
   ]
  },
  {
   "cell_type": "code",
   "execution_count": null,
   "metadata": {},
   "outputs": [],
   "source": [
    "_,xlab = conv_x_orders['region']\n",
    "xlab"
   ]
  },
  {
   "cell_type": "code",
   "execution_count": null,
   "metadata": {},
   "outputs": [],
   "source": [
    "sns.palplot(sns.light_palette(\"green\", 5))"
   ]
  },
  {
   "cell_type": "code",
   "execution_count": null,
   "metadata": {},
   "outputs": [],
   "source": [
    "sns.palplot(sns.light_palette(\"red\", 5))"
   ]
  },
  {
   "cell_type": "code",
   "execution_count": null,
   "metadata": {},
   "outputs": [],
   "source": [
    "sns.palplot(sns.light_palette(\"blue\", 5))"
   ]
  },
  {
   "cell_type": "code",
   "execution_count": null,
   "metadata": {},
   "outputs": [],
   "source": [
    "sns.palplot(sns.light_palette(\"yellow\", 5))"
   ]
  },
  {
   "cell_type": "code",
   "execution_count": null,
   "metadata": {},
   "outputs": [],
   "source": [
    "np.linspace(0,3,num=5)"
   ]
  },
  {
   "cell_type": "code",
   "execution_count": null,
   "metadata": {},
   "outputs": [],
   "source": [
    "sns.palplot(sns.cubehelix_palette(5,start=0))"
   ]
  },
  {
   "cell_type": "code",
   "execution_count": null,
   "metadata": {},
   "outputs": [],
   "source": [
    "sns.palplot(sns.cubehelix_palette(5,start=.75))"
   ]
  },
  {
   "cell_type": "code",
   "execution_count": null,
   "metadata": {},
   "outputs": [],
   "source": [
    "sns.palplot(sns.cubehelix_palette(5,start=1.5))"
   ]
  },
  {
   "cell_type": "code",
   "execution_count": null,
   "metadata": {},
   "outputs": [],
   "source": [
    "props = ['category','tx','ty']\n",
    "# mod_order = [0,2,3,4,5]\n",
    "n_rows = 3\n",
    "n_cols = 3\n",
    "fig,axs = plt.subplots(n_rows,n_cols,figsize=(n_cols*4,n_rows*4),sharey='col')\n",
    "plot_fn = sns.boxplot\n",
    "#     sns.set_context('talk')\n",
    "\n",
    "plot_row(dicarlo_df,['category_name','tx','ty'],axs[0],x_conf=macaque_x_conf,row_title='Macaque',\n",
    "         topn=25,x='layer',\n",
    "         plot_fn=sns.barplot)\n",
    "    \n",
    "df = su_conv_df.query('sample == 1 & recon_weight > 0')\n",
    "plot_row(df,['category','tx','ty'],axs[1],row_title='with-recon',x='region',plot_fn=sns.barplot)\n",
    "for ax in axs[1]:\n",
    "    _,xlab = conv_x_orders['region']\n",
    "    ax.set_xticklabels(labels=xlab,rotation=45)\n",
    "  \n",
    "df = su_conv_df.query('sample == 1 & recon_weight == 0')\n",
    "plot_row(df,['category','tx','ty'],axs[2],row_title='classify-only',x='region',plot_fn=sns.barplot)\n",
    "for ax in axs[2]:\n",
    "    _,xlab = conv_x_orders['region']\n",
    "    ax.set_xticklabels(xlab,rotation=45)\n",
    "\n",
    "axs[0,0].set_ylim(0,1.0)\n",
    "axs[0,1].set_ylim(0,0.35)\n",
    "axs[0,2].set_ylim(0,0.35)\n",
    "\n",
    "plt.tight_layout()"
   ]
  },
  {
   "cell_type": "code",
   "execution_count": null,
   "metadata": {},
   "outputs": [],
   "source": [
    "os.makedirs('../figures/pub')"
   ]
  },
  {
   "cell_type": "code",
   "execution_count": null,
   "metadata": {},
   "outputs": [],
   "source": [
    "fig.savefig('../figures/pub/conv_plots.pdf',dpi=300)"
   ]
  },
  {
   "cell_type": "markdown",
   "metadata": {},
   "source": [
    "# Dense Architecture"
   ]
  },
  {
   "cell_type": "code",
   "execution_count": null,
   "metadata": {},
   "outputs": [],
   "source": [
    "props = ['category','tx','ty']\n",
    "# mod_order = [0,2,3,4,5]\n",
    "n_rows = 3\n",
    "n_cols = 3\n",
    "fig,axs = plt.subplots(n_rows,n_cols,figsize=(n_cols*4,n_rows*3),sharey='col')\n",
    "plot_fn = sns.boxplot\n",
    "#     sns.set_context('talk')\n",
    "\n",
    "\n",
    "plot_row(dicarlo_df,['category_name','tx','ty'],axs[0],x_conf=macaque_x_conf,row_title='Macaque',topn=25,x='layer',plot_fn=sns.barplot)\n",
    "    \n",
    "df = su_dense_df.query('recon_weight > 0')\n",
    "plot_row(df,['category','tx','ty'],axs[1],x_conf=dense_x_conf,row_title='with-recon',x='region',plot_fn=sns.barplot)\n",
    "  \n",
    "df = su_dense_df.query('recon_weight == 0')\n",
    "plot_row(df,['category','tx','ty'],axs[2],x_conf=dense_x_conf,row_title='classify-only',x='region',plot_fn=sns.barplot)\n",
    "axs[0,0].set_ylim(0,1.0)\n",
    "axs[0,1].set_ylim(0,0.36)\n",
    "axs[0,2].set_ylim(0,0.36)\n",
    "plt.tight_layout()"
   ]
  },
  {
   "cell_type": "code",
   "execution_count": null,
   "metadata": {},
   "outputs": [],
   "source": [
    "fig.savefig('../figures/pub/dense_plots.pdf',dpi=300)"
   ]
  },
  {
   "cell_type": "code",
   "execution_count": null,
   "metadata": {},
   "outputs": [],
   "source": [
    "n_rows = 3\n",
    "n_cols = 3\n",
    "fig,axs = plt.subplots(n_rows,n_cols,figsize=(n_cols*3,n_rows*4),sharey=True)\n",
    "plot_fn = sns.boxplot\n",
    "#     sns.set_context('talk')\n",
    "\n",
    "df = su_conv_df.query('sample == 1 & recon_weight > 0')\n",
    "plot_row(df,['category','tx','ty'],axs[0],row_title='with-recon',plot_fn=sns.boxplot)\n",
    "\n",
    "plot_row(dicarlo_df,['category_name','tx','ty'],axs[1],x_conf=macaque_x_conf,row_title='Macaque',topn=25,x='layer',plot_fn=sns.boxplot)\n",
    "    \n",
    "for i,ax,prop in zip(np.arange(n_cols),axs[2],props):\n",
    "    df = su_conv_df.query('sample == 1 & recon_weight == 0')\n",
    "\n",
    "    x_order = {'region':['pixel','conv_2','conv_3','conv_4','y_enc','z_enc']}\n",
    "    x_col = 'region'\n",
    "    plot_fn(x=x_col,y=prop,order=x_order[x_col],data=df,ax=ax,palette='magma')\n",
    "    ax.set_xticklabels(['pix','C2','C3','C4','L1','L2'])\n",
    "#         ax.set_ylabel('d\\'')\n",
    "    if i == 0:\n",
    "        ax.set_ylabel('classify-only')\n",
    "    else:\n",
    "        ax.set_ylabel('')\n",
    "    ax.set_title(prop)\n",
    "    sns.despine(ax=ax)\n",
    "\n",
    "axs[0,0].set_ylim(0,1.0)\n",
    "# axs[1,0].set_ylim(0,0.25)\n",
    "# del_ax = axs.ravel()[1]\n",
    "# del_ax.clear()\n",
    "# del_ax.get_xaxis().set_visible(False)\n",
    "plt.tight_layout()"
   ]
  },
  {
   "cell_type": "code",
   "execution_count": null,
   "metadata": {},
   "outputs": [],
   "source": [
    "df = dyn[0]\n",
    "props = ['category','category','tx','ty']\n",
    "mod_order = [0,1,2,3,4]\n",
    "fig,axs = plt.subplots(2,2,figsize=(6,8),sharey='row')\n",
    "#     sns.set_context('talk')\n",
    "for ax,prop in zip(axs.ravel(),props):\n",
    "#     df_topn = pd.concat([df.query('layer == {}'.format(l)).nlargest(n,prop) for l in [1,2,3,4]])\n",
    "    sns.barplot(x='layer',y=prop,order=mod_order,data=df,ax=ax,palette='magma')\n",
    "    ax.set_xticklabels(['pix','L1','L2','L3','lat'])\n",
    "#         ax.set_ylabel('d\\'')\n",
    "    ax.set_ylabel('')\n",
    "    ax.set_title(prop)\n",
    "    sns.despine(ax=ax)\n",
    "\n",
    "axs[0,0].set_ylim(0,0.6)\n",
    "axs[1,0].set_ylim(0,0.25)\n",
    "del_ax = axs.ravel()[1]\n",
    "del_ax.clear()\n",
    "del_ax.get_xaxis().set_visible(False)\n",
    "plt.tight_layout()"
   ]
  },
  {
   "cell_type": "code",
   "execution_count": null,
   "metadata": {},
   "outputs": [],
   "source": [
    "fig.savefig('../figures/sfn/dyn_no_recon.pdf',dpi=300)"
   ]
  },
  {
   "cell_type": "code",
   "execution_count": null,
   "metadata": {},
   "outputs": [],
   "source": [
    "fig,axs = plt.subplots(2,2,figsize=(8,8),sharex=True,sharey=True)\n",
    "\n",
    "# mod_order=np.arange(5)\n",
    "mod_order = [0,1,2,3,4]\n",
    "# mod_order = ['pixel','dense_2','dense_3','y_lat','z_lat']\n",
    "\n",
    "# sns.set_context('talk')\n",
    "properties = ['tx','ty']\n",
    "for ax_row,df,order in zip(axs,dyn,[mod_order,mod_order]): \n",
    "    for ax,prop in zip(ax_row,properties):\n",
    "        sns.barplot(x='layer',y=prop,order=order,data=df,ax=ax,palette='magma')\n",
    "        sns.despine(ax=ax)\n",
    "    \n",
    "    ax_row[1].set_ylabel('')\n",
    "    ax_row[0].set_ylabel('pearson')\n",
    "    \n",
    "\n",
    "for ax in axs[1]:\n",
    "    ax.set_xticklabels(['pixel','1','2','3','4'])\n",
    "#     ax.set_xticklabels(['pixel','L2','L3','y_lat','z_lat'])\n",
    "\n",
    "for ax,prop in zip(axs[0],properties):\n",
    "    ax.get_xaxis().set_visible(False)\n",
    "    ax.set_title(prop)\n",
    "\n",
    "plt.tight_layout()"
   ]
  },
  {
   "cell_type": "code",
   "execution_count": null,
   "metadata": {},
   "outputs": [],
   "source": [
    "set_style()\n",
    "properties = ['category','tx','ty']\n",
    "fig,axs = plt.subplots(2,len(properties),figsize=(len(properties)*4,6),sharex=True,sharey=True)\n",
    "\n",
    "# mod_order=np.arange(5)\n",
    "mod_order = [0,2,3]\n",
    "# mod_order = ['pixel','dense_2','dense_3','y_lat']\n",
    "\n",
    "# sns.set_context('talk')\n",
    "for ax_row,df,order in zip(axs,single,[mod_order,mod_order]): \n",
    "    for ax,prop in zip(ax_row,properties):\n",
    "        sns.barplot(x='layer',y=prop,order=order,data=df,ax=ax,palette='magma')\n",
    "        sns.despine(ax=ax)\n",
    "    \n",
    "    ax_row[1].set_ylabel('')\n",
    "    ax_row[2].set_ylabel('')\n",
    "    ax_row[0].set_ylabel('d\\'')\n",
    "    \n",
    "\n",
    "for ax in axs[1]:\n",
    "    ax.set_xticklabels(['pixel','2','3'])\n",
    "\n",
    "#     ax.set_xticklabels(mod_order)\n",
    "\n",
    "for ax,prop in zip(axs[0],properties):\n",
    "    ax.get_xaxis().set_visible(False)\n",
    "    ax.set_title(prop)\n",
    "\n",
    "plt.tight_layout()"
   ]
  },
  {
   "cell_type": "code",
   "execution_count": null,
   "metadata": {},
   "outputs": [],
   "source": [
    "order=[0,1,2,3,4,5]\n",
    "fig,ax = plt.subplots(1,1,figsize=(5,4.5))\n",
    "sns.set_context('talk')\n",
    "sns.boxplot(x='layer',y='category',order=order,data=dicarlo_df,ax=ax,palette='magma')\n",
    "ax.set_xticklabels(['pixel','V1','?','V4','IT',''])\n",
    "sns.despine(ax=ax)\n",
    "plt.tight_layout()"
   ]
  },
  {
   "cell_type": "code",
   "execution_count": null,
   "metadata": {},
   "outputs": [],
   "source": [
    "\n",
    "# [['tx','ty','rxy','layer','region']]"
   ]
  },
  {
   "cell_type": "code",
   "execution_count": null,
   "metadata": {},
   "outputs": [],
   "source": [
    "topn_su_decode(dicarlo_df,n=100,props=['category','tx','ty'],\n",
    "#                subplot_kw={'ylim':(0,0.8)},\n",
    "              )"
   ]
  },
  {
   "cell_type": "code",
   "execution_count": null,
   "metadata": {},
   "outputs": [],
   "source": [
    "fig,axs = plt.subplots(1,2,figsize=(8,4),sharey=True,sharex=True)\n",
    "\n",
    "mod_order=np.arange(5)\n",
    "\n",
    "sns.set_context('talk')\n",
    "for ax,df,order in zip(axs,[su_xent_df,su_both_df,],[mod_order,mod_order]): \n",
    "    sns.barplot(x='layer',y='tx',order=order,data=df,ax=ax)\n",
    "axs[0].set_xticklabels(['pixel','1','2','3','4'])\n",
    "axs[1].get_yaxis().set_visible(False)\n",
    "plt.tight_layout()"
   ]
  },
  {
   "cell_type": "code",
   "execution_count": null,
   "metadata": {},
   "outputs": [],
   "source": [
    "sns.set_style('whitegrid')\n",
    "sns.set_context('paper')\n",
    "sns.set(font_scale=2)"
   ]
  },
  {
   "cell_type": "code",
   "execution_count": null,
   "metadata": {},
   "outputs": [],
   "source": [
    "# sns.set_style('whitegrid')\n",
    "sns.set_context('paper')\n",
    "sns.set(font_scale=2)\n",
    "\n",
    "fig,axs = plot_kde('tx','ty',su_xent_df,by='layer',order=np.arange(5),)\n",
    "plt.tight_layout()\n",
    "sns.despine(fig=fig)\n",
    "for i,ax in enumerate(axs):\n",
    "    pass\n",
    "    ax.set_ylabel('')\n",
    "    ax.set_xlabel('')\n",
    "\n",
    "#         ax.get_xaxis().set_visible(False)\n",
    "    \n",
    "\n",
    "\n"
   ]
  },
  {
   "cell_type": "code",
   "execution_count": null,
   "metadata": {},
   "outputs": [],
   "source": [
    "sns.set_context('paper')\n",
    "sns.set(font_scale=2)\n",
    "fig,axs = plot_kde('ty','category',su_xent_df,by='layer',order=np.arange(5),xlim=(0,1.1),ylim=(0,1.1))\n",
    "plt.tight_layout()\n",
    "sns.despine(fig=fig)\n",
    "for i,ax in enumerate(axs):\n",
    "    pass\n",
    "    ax.set_ylabel('')\n",
    "    ax.set_xlabel('')"
   ]
  },
  {
   "cell_type": "code",
   "execution_count": null,
   "metadata": {},
   "outputs": [],
   "source": [
    "sns.set_context('paper')\n",
    "sns.set(font_scale=2)\n",
    "fig,axs = plot_kde('ty','category',su_both_df,by='layer',order=np.arange(5),xlim=(0,1.1),ylim=(0,1.1))\n",
    "plt.tight_layout()\n",
    "sns.despine(fig=fig)\n",
    "for i,ax in enumerate(axs):\n",
    "    pass\n",
    "    ax.set_ylabel('')\n",
    "    ax.set_xlabel('')"
   ]
  },
  {
   "cell_type": "code",
   "execution_count": null,
   "metadata": {},
   "outputs": [],
   "source": [
    "plot_kde('ty','category',su_both_df,by='layer',order=np.arange(5))\n",
    "plt.tight_layout()"
   ]
  },
  {
   "cell_type": "code",
   "execution_count": null,
   "metadata": {},
   "outputs": [],
   "source": [
    "sns.set_context('paper')\n",
    "sns.set(font_scale=2)\n",
    "fig,axs = plot_kde('ty','category',dicarlo_df,by='region',order=['V4','IT'],xlim=(0,1.1),ylim=(0,1.1))\n",
    "plt.tight_layout()\n",
    "sns.despine(fig=fig)\n",
    "for i,ax in enumerate(axs):\n",
    "    pass\n",
    "    ax.set_ylabel('')\n",
    "    ax.set_xlabel('')"
   ]
  },
  {
   "cell_type": "code",
   "execution_count": null,
   "metadata": {},
   "outputs": [],
   "source": [
    "plot_kde('tx','category',dicarlo_df,by='region',order=['V4','IT'])\n"
   ]
  },
  {
   "cell_type": "code",
   "execution_count": null,
   "metadata": {},
   "outputs": [],
   "source": [
    "sns.scatterplot(x='tx',y='ty',data=dicarlo_df.query('region == \"IT\"'))\n",
    "plt.ylim(0,0.5)\n",
    "plt.xlim(0,0.5)"
   ]
  },
  {
   "cell_type": "code",
   "execution_count": null,
   "metadata": {},
   "outputs": [],
   "source": [
    "class MURegressor(object):\n",
    "    def __init__(self,da,train_frac=0.8,n_splits=5,n_units=None,estimator=Ridge):\n",
    "        if n_units is not None:\n",
    "            self.neuroid_idxs = [np.array([random.randrange(len(da.neuroid_id)) for _ in range(n_units)]) for _ in range(n_splits)]\n",
    "        \n",
    "        self.original_data = da\n",
    "        self.train_frac = train_frac\n",
    "        self.n_splits = n_splits\n",
    "        \n",
    "        splits = [split_assembly(self.original_data[:,n_idxs]) for n_idxs in tqdm(self.neuroid_idxs,total=n_splits,desc='CV-splitting')]\n",
    "        self.train = [tr for tr,te in splits]\n",
    "        self.test = [te for tr,te in splits]\n",
    "        \n",
    "        \n",
    "        self.estimators = [estimator() for _ in range(n_splits)]\n",
    "        \n",
    "    def fit(self,y_coord):\n",
    "        # Get Training data\n",
    "        for mod,train in tqdm(zip(self.estimators,self.train),total=len(self.train),desc='fitting'):\n",
    "#             print(train)\n",
    "            mod.fit(X=train.values,y=train[y_coord])\n",
    "    \n",
    "        return self\n",
    "    \n",
    "    def predict(self,X=None):\n",
    "        if X is not None:\n",
    "            return [e.predict(X) for e in self.estimators]\n",
    "        else:\n",
    "            return [e.predict(te.values) for e,te in zip(self.estimators,self.test)]\n",
    "        \n",
    "    def score(self,y_coord):\n",
    "        return [e.score(te.values,te[y_coord].values) for e,te in zip(self.estimators,self.test)]\n",
    "    \n",
    "def stratified_regressors(data, filt='region',n_units=126,y_coords=['ty','tz'],task_names=None,estimator=Ridge):\n",
    "    subsets = np.unique(data[filt].values)\n",
    "    if task_names is None:\n",
    "        task_names = y_coords\n",
    "    dfs = []\n",
    "    for y,task in zip(y_coords,task_names):\n",
    "        print('regressing {}...'.format(y))\n",
    "        regressors = {k:MURegressor(data.sel(**{filt:k}),n_units=n_units,estimator=Ridge).fit(y_coord=y) for k in subsets}\n",
    "        df = pd.DataFrame.from_records({k:v.score(y_coord=y) for k,v in regressors.items()})\n",
    "        df = df.melt(var_name='region',value_name='performance')\n",
    "        df['task']=task\n",
    "        dfs.append(df)\n",
    "    \n",
    "    return pd.concat(dfs)"
   ]
  },
  {
   "cell_type": "code",
   "execution_count": null,
   "metadata": {},
   "outputs": [],
   "source": [
    "properties = ['tx','ty']\n",
    "mu_both_df = stratified_regressors(lg_both,filt='layer',y_coords=properties,n_units=50)"
   ]
  },
  {
   "cell_type": "code",
   "execution_count": null,
   "metadata": {},
   "outputs": [],
   "source": [
    "sns.barplot(x='task',y='performance',hue='region',data=mu_both_df)"
   ]
  },
  {
   "cell_type": "code",
   "execution_count": null,
   "metadata": {},
   "outputs": [],
   "source": [
    "mu_xent_df = stratified_regressors(lg_xent,filt='layer',y_coords=properties,n_units=50)"
   ]
  },
  {
   "cell_type": "code",
   "execution_count": null,
   "metadata": {},
   "outputs": [],
   "source": [
    "sns.barplot(x='task',y='performance',hue='region',data=mu_xent_df)"
   ]
  },
  {
   "cell_type": "code",
   "execution_count": null,
   "metadata": {},
   "outputs": [],
   "source": [
    "plot_kde(x='tx',y='ty',df=both_df,by='layer',order=np.arange(5))"
   ]
  },
  {
   "cell_type": "code",
   "execution_count": null,
   "metadata": {},
   "outputs": [],
   "source": [
    "plot_kde(x='tx',y='ty',df=xent_df,by='layer',order=np.arange(5))"
   ]
  },
  {
   "cell_type": "code",
   "execution_count": null,
   "metadata": {},
   "outputs": [],
   "source": []
  },
  {
   "cell_type": "code",
   "execution_count": null,
   "metadata": {},
   "outputs": [],
   "source": []
  }
 ],
 "metadata": {
  "kernelspec": {
   "display_name": "Py3-fastai (Python3.6.1)",
   "language": "python",
   "name": "py3-fastai"
  },
  "language_info": {
   "codemirror_mode": {
    "name": "ipython",
    "version": 3
   },
   "file_extension": ".py",
   "mimetype": "text/x-python",
   "name": "python",
   "nbconvert_exporter": "python",
   "pygments_lexer": "ipython3",
   "version": "3.6.1"
  },
  "neptune": {
   "notebookId": "d87092c5-9710-423a-9466-ab57e41556f1"
  }
 },
 "nbformat": 4,
 "nbformat_minor": 4
}
