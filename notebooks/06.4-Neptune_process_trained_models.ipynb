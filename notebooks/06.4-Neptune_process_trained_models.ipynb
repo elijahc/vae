{
 "cells": [
  {
   "cell_type": "code",
   "execution_count": 25,
   "metadata": {},
   "outputs": [],
   "source": [
    "import os\n",
    "import random\n",
    "import json\n",
    "import hashlib\n",
    "import numpy as np\n",
    "import pandas as pd\n",
    "import xarray\n",
    "import neptune\n",
    "import matplotlib.pyplot as plt\n",
    "import seaborn as sns\n",
    "from keras.models import Model\n",
    "from tqdm import tqdm as tqdm\n",
    "import multiprocessing as mp\n",
    "\n",
    "from sklearn.linear_model import LinearRegression,Ridge,RidgeCV\n",
    "\n",
    "import brainscore\n",
    "from brainscore.assemblies import walk_coords,split_assembly\n",
    "from brainscore.assemblies import split_assembly\n",
    "# from brainscore.metrics import Score\n",
    "\n",
    "from brainio_base.assemblies import DataAssembly\n",
    "\n",
    "from scipy.stats import pearsonr\n",
    "\n",
    "from src.results.experiments import _DateExperimentLoader\n",
    "from src.results.utils import raw_to_xr, dprime, save_assembly\n",
    "from src.results.neptune import get_model_files, load_models, load_assemblies, load_params, load_properties,prep_assemblies\n",
    "from src.data_loader import Shifted_Data_Loader\n",
    "from src.data_generator import ShiftedDataBatcher\n",
    "\n",
    "def set_style():\n",
    "    # This sets reasonable defaults for font size for\n",
    "    # a figure that will go in a paper\n",
    "    sns.set_context(\"paper\")\n",
    "    \n",
    "    # Set the font to be serif, rather than sans\n",
    "    sns.set(font='serif')\n",
    "    \n",
    "    # Make the background white, and specify the\n",
    "    # specific font family\n",
    "    sns.set_style(\"white\", {\n",
    "        \"font.family\": \"serif\",\n",
    "        \"font.serif\": [\"Times New Roman\", \"Palatino\", \"serif\"]\n",
    "    })"
   ]
  },
  {
   "cell_type": "code",
   "execution_count": 2,
   "metadata": {},
   "outputs": [
    {
     "data": {
      "text/plain": [
       "Project(elijahc/DuplexAE)"
      ]
     },
     "execution_count": 2,
     "metadata": {},
     "output_type": "execute_result"
    }
   ],
   "source": [
    "os.environ['NEPTUNE_API_TOKEN']=\"eyJhcGlfYWRkcmVzcyI6Imh0dHBzOi8vdWkubmVwdHVuZS5tbCIsImFwaV9rZXkiOiI3ZWExMTlmYS02ZTE2LTQ4ZTktOGMxMi0wMDJiZTljOWYyNDUifQ==\"\n",
    "neptune.init('elijahc/DuplexAE')\n",
    "neptune.set_project('elijahc/DuplexAE')"
   ]
  },
  {
   "cell_type": "code",
   "execution_count": 3,
   "metadata": {},
   "outputs": [],
   "source": [
    "proj_root = '/home/elijahc/projects/vae'"
   ]
  },
  {
   "cell_type": "code",
   "execution_count": 34,
   "metadata": {},
   "outputs": [],
   "source": [
    "exps = neptune.project.get_experiments(id=['DPX-29'])\n",
    "# mod = next(load_models(proj_root,exps))"
   ]
  },
  {
   "cell_type": "code",
   "execution_count": 35,
   "metadata": {},
   "outputs": [],
   "source": [
    "e = exps[0]"
   ]
  },
  {
   "cell_type": "code",
   "execution_count": 36,
   "metadata": {},
   "outputs": [],
   "source": [
    "exp_dir = os.path.join(proj_root,e.get_properties()['dir'])\n",
    "PARAMS = e.get_parameters()\n",
    "PROPS = e.get_properties()"
   ]
  },
  {
   "cell_type": "code",
   "execution_count": 37,
   "metadata": {},
   "outputs": [],
   "source": [
    "# DB = ShiftedDataBatcher(PROPS['dataset'],translation=PARAMS['im_translation'],bg=PARAMS['bg'],\n",
    "#                         blend=None,\n",
    "# #                         blend='difference',\n",
    "#                         batch_size=PARAMS['batch_sz'],\n",
    "#                        )"
   ]
  },
  {
   "cell_type": "code",
   "execution_count": 38,
   "metadata": {},
   "outputs": [
    {
     "data": {
      "text/plain": [
       "{'augmentation': 'dynamic',\n",
       " 'dataset': 'fashion_mnist',\n",
       " 'dir': 'models/2019-11-04/DPX-29',\n",
       " 'encoder_arch': 'convnet',\n",
       " 'generator_arch': 'resnet'}"
      ]
     },
     "execution_count": 38,
     "metadata": {},
     "output_type": "execute_result"
    }
   ],
   "source": [
    "PROPS"
   ]
  },
  {
   "cell_type": "code",
   "execution_count": 39,
   "metadata": {},
   "outputs": [
    {
     "name": "stdout",
     "output_type": "stream",
     "text": [
      "input_shape:  (56, 56, 1)\n",
      "dataset:  fashion_mnist\n",
      "background:  natural\n",
      "blend mode:  None\n",
      "scale:  2\n",
      "tx_max:  0.75\n",
      "rot_max:  None\n",
      "contrast_level:  1\n",
      "noise_mode:  None\n",
      "building background images...\n"
     ]
    },
    {
     "name": "stderr",
     "output_type": "stream",
     "text": [
      "loading background: 100%|██████████| 60000/60000 [00:01<00:00, 30261.94it/s]\n",
      "loading background: 100%|██████████| 10000/10000 [00:00<00:00, 30081.96it/s]\n",
      "train images: 100%|██████████| 60000/60000 [00:01<00:00, 34003.83it/s]\n",
      "test_images: 100%|██████████| 10000/10000 [00:00<00:00, 34003.96it/s]\n"
     ]
    }
   ],
   "source": [
    "DL = Shifted_Data_Loader('fashion_mnist',rotation=None,translation=0.75,bg='natural',flatten=False)\n",
    "sx_test = DL.sx_test"
   ]
  },
  {
   "cell_type": "code",
   "execution_count": 40,
   "metadata": {},
   "outputs": [
    {
     "data": {
      "text/plain": [
       "<matplotlib.image.AxesImage at 0x7fda0447ae80>"
      ]
     },
     "execution_count": 40,
     "metadata": {},
     "output_type": "execute_result"
    },
    {
     "data": {
      "image/png": "[encoded data removed]",
      "text/plain": [
       "<Figure size 432x288 with 1 Axes>"
      ]
     },
     "metadata": {
      "needs_background": "light"
     },
     "output_type": "display_data"
    }
   ],
   "source": [
    "plt.imshow(sx_test[250].reshape(56,56),cmap='gray')"
   ]
  },
  {
   "cell_type": "code",
   "execution_count": 41,
   "metadata": {},
   "outputs": [],
   "source": [
    "slug = [(dx,dy,float(lab),float(rxy)) for dx,dy,rxy,lab in zip(DL.dx[1]-14,DL.dy[1]-14,DL.dtheta[1],DL.y_test)]\n",
    "cas = prep_assemblies(proj_root,exps,test_data=sx_test,slug=slug)"
   ]
  },
  {
   "cell_type": "code",
   "execution_count": 42,
   "metadata": {},
   "outputs": [
    {
     "name": "stdout",
     "output_type": "stream",
     "text": [
      "Compiling model\n",
      "Generating encoders...\n",
      "Fetching activations...\n"
     ]
    }
   ],
   "source": [
    "encodings,depths,stim_set = next(cas)"
   ]
  },
  {
   "cell_type": "code",
   "execution_count": 43,
   "metadata": {},
   "outputs": [
    {
     "data": {
      "text/plain": [
       "(10000, 192, 10)"
      ]
     },
     "execution_count": 43,
     "metadata": {},
     "output_type": "execute_result"
    }
   ],
   "source": [
    "encodings['conv_1'].shape"
   ]
  },
  {
   "cell_type": "code",
   "execution_count": 44,
   "metadata": {},
   "outputs": [],
   "source": [
    "from tqdm import trange\n",
    "def gen_conv_assemblies(encodings,depths,stim_set,n=5):\n",
    "    enc = {k:encodings[k] for k in ['pixel','y_enc','z_enc']}\n",
    "    for i in trange(n):\n",
    "        enc.update({k:encodings[k][:,:,i] for k in ['conv_4','conv_3','conv_2','conv_1']})\n",
    "        yield raw_to_xr(enc,depths,stim_set)"
   ]
  },
  {
   "cell_type": "code",
   "execution_count": 45,
   "metadata": {},
   "outputs": [
    {
     "name": "stderr",
     "output_type": "stream",
     "text": [
      "100%|██████████| 10/10 [00:04<00:00,  2.62it/s]\n"
     ]
    }
   ],
   "source": [
    "xrs = list(gen_conv_assemblies(encodings,depths,stim_set,n=10))"
   ]
  },
  {
   "cell_type": "code",
   "execution_count": 46,
   "metadata": {},
   "outputs": [
    {
     "data": {
      "text/plain": [
       "'/home/elijahc/projects/vae/models/2019-11-04/DPX-29'"
      ]
     },
     "execution_count": 46,
     "metadata": {},
     "output_type": "execute_result"
    }
   ],
   "source": [
    "exp_dir"
   ]
  },
  {
   "cell_type": "code",
   "execution_count": 47,
   "metadata": {},
   "outputs": [],
   "source": [
    "for i,da in enumerate(xrs):\n",
    "    \n",
    "    save_assembly(da,exp_dir,fname='activations_{}.nc'.format(i+1))"
   ]
  },
  {
   "cell_type": "code",
   "execution_count": 17,
   "metadata": {},
   "outputs": [
    {
     "name": "stdout",
     "output_type": "stream",
     "text": [
      "conv_1\n",
      "(10000, 192)\n",
      "conv_2\n",
      "(10000, 192)\n",
      "conv_3\n",
      "(10000, 192)\n",
      "conv_4\n",
      "(10000, 192)\n",
      "pixel\n",
      "(10000, 3136)\n",
      "y_enc\n",
      "(10000, 35)\n",
      "z_enc\n",
      "(10000, 35)\n"
     ]
    }
   ],
   "source": [
    "for r in np.unique(xrs[3].region.values):\n",
    "    print(r)\n",
    "    print(xrs[3].sel(region=r).shape)"
   ]
  },
  {
   "cell_type": "code",
   "execution_count": null,
   "metadata": {},
   "outputs": [],
   "source": [
    "# stim_set = pd.DataFrame({'dx':DL.dx[1]-14,'dy':DL.dy[1]-14,'numeric_label':DL.y_test,'rxy':DL.dtheta[1],'image_id':image_id})\n",
    "\n",
    "# ca = create_assemblies(proj_root,exps,test_data=sx_test,slug=slug)"
   ]
  },
  {
   "cell_type": "code",
   "execution_count": null,
   "metadata": {},
   "outputs": [],
   "source": [
    "# lg_both = xrs[0]\n",
    "# lg_xent = xrs[1]"
   ]
  },
  {
   "cell_type": "code",
   "execution_count": null,
   "metadata": {},
   "outputs": [],
   "source": [
    "# exps[0].get_properties()['dir']\n",
    "# mod_dir = os.path.join(proj_root,exps[0].get_properties()['dir'])\n",
    "# save_assembly(out,run_dir=mod_dir,fname='dataset.nc',\n",
    "#     format='NETCDF3_64BIT',\n",
    "# )"
   ]
  },
  {
   "cell_type": "code",
   "execution_count": null,
   "metadata": {},
   "outputs": [],
   "source": [
    "# das = load_assemblies(proj_root,exps)\n",
    "# lg_both = next(das)"
   ]
  },
  {
   "cell_type": "code",
   "execution_count": null,
   "metadata": {},
   "outputs": [],
   "source": [
    "# lg_xent = lg.assemblies[0]\n",
    "# lg_both = lg.assemblies[1]"
   ]
  },
  {
   "cell_type": "code",
   "execution_count": null,
   "metadata": {},
   "outputs": [],
   "source": [
    "neural_data = brainscore.get_assembly(name=\"dicarlo.Majaj2015\")\n",
    "neural_data.load()\n",
    "stimulus_set = neural_data.attrs['stimulus_set']"
   ]
  },
  {
   "cell_type": "code",
   "execution_count": null,
   "metadata": {},
   "outputs": [],
   "source": [
    "def process_dicarlo(assembly,avg_repetition=True,variation=3,tasks=['ty','tz','rxy']):\n",
    "    stimulus_set = assembly.attrs['stimulus_set']\n",
    "    stimulus_set['dy_deg'] = stimulus_set.tz*stimulus_set.degrees\n",
    "    stimulus_set['dx_deg'] = stimulus_set.ty*stimulus_set.degrees\n",
    "    stimulus_set['dy_px'] = stimulus_set.dy_deg*32\n",
    "    stimulus_set['dx_px'] = stimulus_set.dx_deg*32\n",
    "    \n",
    "    assembly.attrs['stimulus_set'] = stimulus_set\n",
    "    \n",
    "    data = assembly.sel(variation=variation)\n",
    "    groups = ['category_name', 'object_name', 'image_id']+tasks\n",
    "    if not avg_repetition:\n",
    "        groups.append('repetition')\n",
    "        \n",
    "    data = data.multi_groupby(groups)     # (2)\n",
    "    data = data.mean(dim='presentation')\n",
    "    data = data.squeeze('time_bin')    #   (3)\n",
    "    data.attrs['stimulus_set'] = stimulus_set.query('variation == {}'.format(variation))\n",
    "    data = data.T\n",
    "    \n",
    "    return data"
   ]
  },
  {
   "cell_type": "code",
   "execution_count": null,
   "metadata": {},
   "outputs": [],
   "source": []
  },
  {
   "cell_type": "code",
   "execution_count": null,
   "metadata": {},
   "outputs": [],
   "source": [
    "# pos_samples = .where(lg_both.numeric_label==1,drop=True).values[:,250]\n",
    "# neg_samples = lg_both.where(lg_both.numeric_label!=1, drop=True).values[:,250]"
   ]
  },
  {
   "cell_type": "code",
   "execution_count": null,
   "metadata": {},
   "outputs": [],
   "source": [
    "def xr_exclude_zero_dim(da,neuroid_coord):\n",
    "    nz_neuroids = da.groupby(neuroid_coord).sum('presentation').values!=0\n",
    "    return da[:,nz_neuroids]"
   ]
  },
  {
   "cell_type": "code",
   "execution_count": null,
   "metadata": {},
   "outputs": [],
   "source": [
    "def SUCorrelation(da,neuroid_coord,correlation_vars,exclude_zeros=True,progress=True):\n",
    "    if exclude_zeros:\n",
    "        nz_neuroids = da.groupby(neuroid_coord).sum('presentation').values!=0\n",
    "        da = da[:,nz_neuroids]\n",
    "    \n",
    "    correlations = np.empty((len(da[neuroid_coord]),len(correlation_vars)))\n",
    "    iterator = enumerate(da[neuroid_coord].values)\n",
    "    if progress:\n",
    "        iterator = tqdm(iterator,\n",
    "                        total=len(da[neuroid_coord]),\n",
    "                        mininterval=5,desc='pearsonr'\n",
    "                       )\n",
    "    \n",
    "    for i,nid in iterator:\n",
    "        for j,prop in enumerate(correlation_vars):\n",
    "            n_act = da.sel(**{neuroid_coord:nid}).squeeze()\n",
    "            r,p = pearsonr(n_act,prop)\n",
    "            correlations[i,j] = np.abs(r)\n",
    "\n",
    "    neuroid_dim = da[neuroid_coord].dims\n",
    "    c = {coord: (dims, values) for coord, dims, values in walk_coords(da) if dims == neuroid_dim}\n",
    "    c['task']=('task',[v.name for v in correlation_vars])\n",
    "#     print(neuroid_dim)\n",
    "    result = Score(correlations,\n",
    "                       coords=c,\n",
    "                       dims=('neuroid','task'))\n",
    "    return result\n",
    "\n",
    "def SUDprime(da,neuroid_coord='neuroid_id',class_coord='numeric_label',exclude_zeros=True,filters={},progress=True):    \n",
    "    if exclude_zeros:\n",
    "        nz_neuroids = da.groupby(neuroid_coord).sum('presentation').values!=0\n",
    "        da = da[:,nz_neuroids]\n",
    "    if len(filters.items()) > 0:\n",
    "        filts = [da[k].isin(v).values for k,v in filters.items()]\n",
    "        if len(filts) > 1:\n",
    "            logics = np.logical_or(*filts)\n",
    "        else:\n",
    "            logics = filts[0]\n",
    "        da = da[:,logics]\n",
    "    \n",
    "    def cat_parts(da,class_coord):\n",
    "        out = [np.concatenate([da[(da[class_coord]==c).values].values,da[(da[class_coord]!=c).values]],axis=0) for c in class_vals]\n",
    "        return np.array(out)\n",
    "\n",
    "    def dprime_1d(vec,cut=1000):\n",
    "        return dprime(A=vec[:cut],B=vec[cut:],mode='sample',max_value=1,min_value=-1)\n",
    "    \n",
    "#     class_vals = np.unique(da[class_coord].values)\n",
    "#     parts = [((da[class_coord]==c).values,(da[class_coord]!=c).values) for c in class_vals]\n",
    "    class_vals = np.unique(da[class_coord].values)\n",
    "\n",
    "    c_parts = cat_parts(da,class_coord)\n",
    "    dprimes = np.empty((len(da[neuroid_coord]),len(class_vals)))\n",
    "    iterator = enumerate(da[neuroid_coord].values)\n",
    "    if progress:\n",
    "        iterator = tqdm(iterator,\n",
    "                        total=dprimes.shape[0],mininterval=5,\n",
    "                        desc='dprime',\n",
    "                       )\n",
    "\n",
    "    for i,nid in iterator:\n",
    "#         da_n = da.sel(**{neuroid_coord:nid})\n",
    "        dpn = np.apply_along_axis(dprime_1d,1,c_parts[:,:,i])\n",
    "        dprimes[i] = dpn\n",
    "\n",
    "    neuroid_dim = da[neuroid_coord].dims\n",
    "    c = {coord: (dims, values) for coord, dims, values in walk_coords(da) if dims == neuroid_dim}\n",
    "    c['task']=('task',[class_coord])\n",
    "#     print(neuroid_dim)\n",
    "    result = Score(dprimes.max(axis=1).reshape(-1,1),\n",
    "                       coords=c,\n",
    "                       dims=('neuroid','task'))\n",
    "    return result\n",
    "\n",
    "def result_to_df(SUC,corr_var_labels):\n",
    "    df = SUC.neuroid.to_dataframe().reset_index()\n",
    "    for label in corr_var_labels:\n",
    "        df[label]=SUC.sel(task=label).values\n",
    "    \n",
    "    return df"
   ]
  },
  {
   "cell_type": "code",
   "execution_count": null,
   "metadata": {},
   "outputs": [],
   "source": [
    "def cat_parts(da,class_coord):\n",
    "    class_vals = np.unique(da[class_coord].values)\n",
    "    out = [np.concatenate([da[(da[class_coord]==c).values].values,da[(da[class_coord]!=c).values]],axis=0) for c in class_vals]\n",
    "    return out\n",
    "\n",
    "def dprime_1d(vec,cut=1000):\n",
    "    return dprime(A=vec[:cut],B=vec[cut:],mode='sample',max_value=1,min_value=-1)"
   ]
  },
  {
   "cell_type": "code",
   "execution_count": null,
   "metadata": {},
   "outputs": [],
   "source": [
    "def gu_SUD(da_sets,neuroid_coord):\n",
    "    pool = mp.Pool(6)\n",
    "    results = [pool.apply(SUDprime,args=(da,neuroid_coord)) for da in da_sets]\n",
    "    pool.close()\n",
    "    pool.join()\n",
    "    return results"
   ]
  },
  {
   "cell_type": "code",
   "execution_count": null,
   "metadata": {},
   "outputs": [],
   "source": [
    "def process_assembly(da,class_coords=['numeric_label'],r_vars=['tx','ty','rxy'],filters={},progress=True):\n",
    "    # Calculate dprime for single units\n",
    "    print('Calculating dprime all units...')\n",
    "    if len(filters.items()) > 0:\n",
    "        filts = [da[k].isin(v).values for k,v in filters.items()]\n",
    "        if len(filts) > 1:\n",
    "            logics = np.logical_or(*filts)\n",
    "        else:\n",
    "            logics = filts[0]\n",
    "        da = da[:,logics]\n",
    "    \n",
    "    df_dps = []\n",
    "    for class_coord in class_coords:\n",
    "        print('- dprime of {}...'.format(class_coord))\n",
    "        SUdp_score = SUDprime(da,neuroid_coord='neuroid_id',class_coord=class_coord,progress=progress)\n",
    "        df_dps.append(result_to_df(SUdp_score,[class_coord]).sort_values(by='neuroid_id'))\n",
    "    \n",
    "    corr_vars = [pd.Series(da[v].values,name=v) for v in r_vars]\n",
    "    print('Calculating pearsonr of all units...')\n",
    "    corr = SUCorrelation(da,neuroid_coord='neuroid_id',correlation_vars=corr_vars)\n",
    "    su_df = result_to_df(corr,r_vars).sort_values(by='neuroid_id')\n",
    "    for dfdp,cc in zip(df_dps,class_coords):\n",
    "        su_df = su_df.merge(dfdp[['neuroid_id',cc]],on='neuroid_id')\n",
    "#     df_dp = df_dp.sort_values(by='neuroid_id').reset_index().drop(columns='index')\n",
    "#     su_df = su_df.reset_index().drop(columns='index')\n",
    "#     su_df['category'] = df_dp.category\n",
    "\n",
    "    return su_df"
   ]
  },
  {
   "cell_type": "code",
   "execution_count": null,
   "metadata": {},
   "outputs": [],
   "source": [
    "# region_sets = [xr_exclude_zero_dim(lg_both.sel(region=r),'neuroid_id') for r in np.unique(lg_both.region.values)]\n",
    "# both_cat_results = gu_SUD(region_sets,'neuroid_id')\n",
    "# both_SUdp_score = [SUDprime(rsets,neuroid_coord='neuroid_id',) for rsets in region_sets]\n"
   ]
  },
  {
   "cell_type": "code",
   "execution_count": null,
   "metadata": {},
   "outputs": [],
   "source": [
    "pix_da = xarray.open_dataarray(os.path.join(proj_root,'data','dicarlo_images','hi_pix.nc'))"
   ]
  },
  {
   "cell_type": "code",
   "execution_count": null,
   "metadata": {},
   "outputs": [],
   "source": [
    "pix_da = pix_da.rename(ty='tx',tz='ty')"
   ]
  },
  {
   "cell_type": "code",
   "execution_count": null,
   "metadata": {},
   "outputs": [],
   "source": [
    "pix_da = pix_da.set_index({\n",
    "    'neuroid':['neuroid_id','region','subregion','layer'],\n",
    "    'presentation':['image_id','object_name','category_name','tx','ty','rxy']\n",
    "                 })\n",
    "\n"
   ]
  },
  {
   "cell_type": "code",
   "execution_count": null,
   "metadata": {},
   "outputs": [],
   "source": [
    "idxs = np.random.choice(np.arange(len(pix_da.neuroid_id.values)),size=int(len(pix_da.neuroid_id.values)*0.1),replace=False)"
   ]
  },
  {
   "cell_type": "code",
   "execution_count": null,
   "metadata": {},
   "outputs": [],
   "source": [
    "npda = pix_da[:,idxs]"
   ]
  },
  {
   "cell_type": "code",
   "execution_count": null,
   "metadata": {},
   "outputs": [],
   "source": [
    "cat_dp_score = SUDprime(npda,neuroid_coord='neuroid_id',class_coord='category_name',)"
   ]
  },
  {
   "cell_type": "code",
   "execution_count": null,
   "metadata": {},
   "outputs": [],
   "source": [
    "obj_dp_score = SUDprime(npda,neuroid_coord='neuroid_id',class_coord='object_name',)"
   ]
  },
  {
   "cell_type": "code",
   "execution_count": null,
   "metadata": {},
   "outputs": [],
   "source": [
    "r_vars = ['tx','ty','rxy']\n",
    "corr_vars = [pd.Series(npda[v].values,name=v) for v in r_vars]\n",
    "print('Calculating pearsonr of all units...')\n",
    "corr = SUCorrelation(npda,neuroid_coord='neuroid_id',correlation_vars=corr_vars,progress=True)\n",
    "su_df = result_to_df(corr,r_vars).sort_values(by='neuroid_id')"
   ]
  },
  {
   "cell_type": "code",
   "execution_count": null,
   "metadata": {},
   "outputs": [],
   "source": [
    "su_df['variation']=6"
   ]
  },
  {
   "cell_type": "code",
   "execution_count": null,
   "metadata": {},
   "outputs": [],
   "source": [
    "cat_dp_score = cat_dp_score.assign_coords(task=('task',['category_name']))\n",
    "obj_dp_score = obj_dp_score.assign_coords(task=('task',['object_name']))"
   ]
  },
  {
   "cell_type": "code",
   "execution_count": null,
   "metadata": {},
   "outputs": [],
   "source": [
    "cat_df = result_to_df(cat_dp_score,['category_name']).sort_values(by='neuroid_id')\n",
    "obj_df = result_to_df(obj_dp_score,['object_name']).sort_values(by='neuroid_id')\n",
    "cat_df['variation']=6\n",
    "obj_df['variation']=6"
   ]
  },
  {
   "cell_type": "code",
   "execution_count": null,
   "metadata": {},
   "outputs": [],
   "source": [
    "for dpdf,cc in zip([cat_df,obj_df],['category_name','object_name']):\n",
    "    su_df = su_df.merge(dpdf[['neuroid_id',cc]],on='neuroid_id')"
   ]
  },
  {
   "cell_type": "code",
   "execution_count": null,
   "metadata": {},
   "outputs": [],
   "source": [
    "su_df.head()"
   ]
  },
  {
   "cell_type": "code",
   "execution_count": null,
   "metadata": {},
   "outputs": [],
   "source": [
    "su_dicarlo = su_dicarlo.dropna()"
   ]
  },
  {
   "cell_type": "code",
   "execution_count": null,
   "metadata": {},
   "outputs": [],
   "source": [
    "hda = hi_data.to_dataset()['dicarlo.Majaj2015']"
   ]
  },
  {
   "cell_type": "code",
   "execution_count": null,
   "metadata": {},
   "outputs": [],
   "source": [
    "tx = pd.Series(hda.ty.values,name='tx')\n",
    "ty = pd.Series(hda.tz.values,name='ty')\n",
    "hda = hda.reset_index(['ty','tz'],drop=True)"
   ]
  },
  {
   "cell_type": "code",
   "execution_count": null,
   "metadata": {},
   "outputs": [],
   "source": [
    "hda = hda.assign_coords(tx=('presentation',tx.values),ty=('presentation',ty.values))\n",
    "hda = hda.set_index({'presentation':['tx','ty']},append=True)"
   ]
  },
  {
   "cell_type": "code",
   "execution_count": null,
   "metadata": {},
   "outputs": [],
   "source": [
    "su_dicarlo.head()"
   ]
  },
  {
   "cell_type": "code",
   "execution_count": null,
   "metadata": {},
   "outputs": [],
   "source": [
    "su_hi_var = process_assembly(hda,class_coords=['category_name','object_name'])"
   ]
  },
  {
   "cell_type": "code",
   "execution_count": null,
   "metadata": {},
   "outputs": [],
   "source": [
    "su_hi_var['variation']=6"
   ]
  },
  {
   "cell_type": "code",
   "execution_count": null,
   "metadata": {},
   "outputs": [],
   "source": [
    "su_dicarlo_hi = su_df.append(su_hi_var,sort=False)"
   ]
  },
  {
   "cell_type": "code",
   "execution_count": null,
   "metadata": {},
   "outputs": [],
   "source": [
    "su_dicarlo_hi.groupby('region').count()"
   ]
  },
  {
   "cell_type": "code",
   "execution_count": null,
   "metadata": {},
   "outputs": [],
   "source": [
    "idxs = (su_dicarlo_hi.region=='IT').values\n",
    "v4_idxs = (su_dicarlo_hi.region=='V4').values\n",
    "\n",
    "# su_dicarlo_hi.loc[:,['layer']]=4"
   ]
  },
  {
   "cell_type": "code",
   "execution_count": null,
   "metadata": {},
   "outputs": [],
   "source": [
    "su_dicarlo_hi.loc[idxs,['layer']]=4\n",
    "su_dicarlo_hi.loc[v4_idxs, ['layer']]=3\n",
    "su_dicarlo_hi.layer = su_dicarlo_hi.layer.astype(np.int)\n",
    "# su_dicarlo_hi.query('region == \"V4\"')['layer']=3"
   ]
  },
  {
   "cell_type": "code",
   "execution_count": null,
   "metadata": {},
   "outputs": [],
   "source": [
    "su_dicarlo_hi.object_name = np.abs(su_dicarlo_hi.object_name.values)"
   ]
  },
  {
   "cell_type": "code",
   "execution_count": null,
   "metadata": {},
   "outputs": [],
   "source": [
    "su_dicarlo_hi = su_dicarlo_hi[['neuroid_id','region','subregion','layer','neuroid','variation','tx','ty','rxy','object_name','category_name']]\n"
   ]
  },
  {
   "cell_type": "code",
   "execution_count": null,
   "metadata": {},
   "outputs": [],
   "source": [
    "su_dicarlo_hi.groupby('subregion').count()"
   ]
  },
  {
   "cell_type": "code",
   "execution_count": null,
   "metadata": {},
   "outputs": [],
   "source": [
    "fp = os.path.join(proj_root,'data','su_selectivity_dicarlo_hi_var.pqt')\n",
    "su_dicarlo_hi.drop(columns=['neuroid']).to_parquet(fp)"
   ]
  },
  {
   "cell_type": "code",
   "execution_count": null,
   "metadata": {},
   "outputs": [],
   "source": [
    "su_fixed = process_assembly(xrs[0],filters={'layer':[0]})"
   ]
  },
  {
   "cell_type": "code",
   "execution_count": null,
   "metadata": {},
   "outputs": [],
   "source": [
    "su_xent = [process_assembly(xrs[i],filters={'layer':[1,2,3,4,5]}) for i in range(3)]\n",
    "sudfs = [df.append(su_fixed) for df in su_xent]"
   ]
  },
  {
   "cell_type": "code",
   "execution_count": null,
   "metadata": {},
   "outputs": [],
   "source": [
    "sudfs[0].groupby('region').count()"
   ]
  },
  {
   "cell_type": "code",
   "execution_count": null,
   "metadata": {},
   "outputs": [],
   "source": [
    "su_both = process_assembly(next(ca))"
   ]
  },
  {
   "cell_type": "code",
   "execution_count": null,
   "metadata": {},
   "outputs": [],
   "source": [
    "xent_SUdp_score = SUDprime(lg_xent,neuroid_coord='neuroid_id',)"
   ]
  },
  {
   "cell_type": "code",
   "execution_count": null,
   "metadata": {},
   "outputs": [],
   "source": [
    "both_df_dp = both_df_dp.sort_values(by='neuroid_id').reset_index().drop(columns='index')\n",
    "su_both_df = su_both_df.sort_values(by='neuroid_id').reset_index().drop(columns='index')"
   ]
  },
  {
   "cell_type": "code",
   "execution_count": null,
   "metadata": {},
   "outputs": [],
   "source": [
    "su_both_df.head()"
   ]
  },
  {
   "cell_type": "code",
   "execution_count": null,
   "metadata": {},
   "outputs": [],
   "source": [
    "corr_vars_xent = [pd.Series(lg_xent[v].values,name=v) for v in ['tx','ty']]\n",
    "corr_xent = SUCorrelation(lg_xent,neuroid_coord='neuroid_id',correlation_vars=corr_vars_xent)\n",
    "su_xent_df = result_to_df(corr_xent,['tx','ty'])\n",
    "su_xent_df['norm_ty'] = su_xent_df.ty"
   ]
  },
  {
   "cell_type": "code",
   "execution_count": null,
   "metadata": {},
   "outputs": [],
   "source": [
    "xent_df_dp = result_to_df(xent_SUdp_score,['category'])\n",
    "su_xent_df['category'] = xent_df_dp.category"
   ]
  },
  {
   "cell_type": "code",
   "execution_count": null,
   "metadata": {},
   "outputs": [],
   "source": [
    "hi_data = process_dicarlo(neural_data,variation=6)"
   ]
  },
  {
   "cell_type": "code",
   "execution_count": null,
   "metadata": {},
   "outputs": [],
   "source": [
    "dicarlo_corr_vars = [\n",
    "    pd.Series(hi_data['ty'],name='tx'),\n",
    "    pd.Series(hi_data['tz'],name='ty'),\n",
    "    pd.Series(hi_data['rxy'],name='rxy'),\n",
    "\n",
    "]\n",
    "\n",
    "# corr_dicarlo_med = SUCorrelation(med_data,neuroid_coord='neuroid_id',correlation_vars=dicarlo_med_corr_vars,exclude_zeros=True)\n",
    "# dicarlo_med_df = result_to_df(corr_dicarlo_med,['tx','ty','rxy'])\n",
    "# dicarlo_med_df['variation']=3\n",
    "\n",
    "corr_dicarlo_hi = SUCorrelation(hi_data,neuroid_coord='neuroid_id',correlation_vars=dicarlo_corr_vars,exclude_zeros=True)\n",
    "dicarlo_df = result_to_df(corr_dicarlo_hi, ['tx','ty','rxy'])\n",
    "layer_map = {\n",
    "    'V4':3,\n",
    "    'IT':4\n",
    "}\n",
    "\n",
    "for reg,layer in zip(['V4','IT'],[3,4]):\n",
    "    dicarlo_df['layer'] = [layer_map[r] for r in dicarlo_df.region]"
   ]
  },
  {
   "cell_type": "code",
   "execution_count": null,
   "metadata": {},
   "outputs": [],
   "source": [
    "from matplotlib import image\n",
    "hi_ims = []\n",
    "for imp in hi_data.image_id.values:\n",
    "    im = image.imread(stimulus_set.get_image(imp))\n",
    "    hi_ims.append(im[:,:,0])\n",
    "    \n",
    "hi_ims = np.stack(hi_ims,axis=0)\n",
    "hi_ims = hi_ims.reshape(hi_ims.shape[0],np.prod(hi_ims.shape[1:]))\n",
    "# pix_idxs = np.random.choice(hi_ims.shape[-1],size=int(hi_ims.shape[-1]/2),replace=False)\n",
    "enc = {'pixel':hi_ims}\n",
    "p_idx = hi_data.indexes['presentation']\n",
    "# n_idx_orig = hi_data.indexes['neuroid']\n",
    "neuroid_n = enc['pixel'].shape[-1]\n",
    "n_coords = [\n",
    "            pd.Series(['{}_{}'.format('pixel',i) for i in np.arange(neuroid_n)],name='neuroid_id'),\n",
    "            pd.Series([0]*neuroid_n,name='layer'),\n",
    "            pd.Series(['pixel']*neuroid_n,name='region'),\n",
    "            pd.Series(['pixel']*neuroid_n,name='subregion'),\n",
    "#             pd.Series(hi_data.arr.values,name='arr'),\n",
    "#             pd.Series(hi_data.animal.values, name='animal')\n",
    "        ]\n",
    "n_idx = pd.MultiIndex.from_arrays(n_coords)"
   ]
  },
  {
   "cell_type": "code",
   "execution_count": null,
   "metadata": {},
   "outputs": [],
   "source": [
    "coords = {'presentation':p_idx,'neuroid':n_idx}\n",
    "\n",
    "pix_xr = xarray.DataArray(enc['pixel'].astype('float32'),\n",
    "                         coords=coords,\n",
    "                         dims=['presentation','neuroid'])\n",
    "del hi_ims\n",
    "del enc"
   ]
  },
  {
   "cell_type": "code",
   "execution_count": null,
   "metadata": {},
   "outputs": [],
   "source": [
    "from src.results.utils import save_assembly"
   ]
  },
  {
   "cell_type": "code",
   "execution_count": null,
   "metadata": {},
   "outputs": [],
   "source": [
    "save_assembly(pix_xr,os.path.join(proj_root,'data','dicarlo_images'),fname='hi_pix.nc')"
   ]
  },
  {
   "cell_type": "code",
   "execution_count": null,
   "metadata": {},
   "outputs": [],
   "source": [
    "dicarlo_SUdp_df = result_to_df(dicarlo_SUdp_score,['category'])\n",
    "dicarlo_df['category']=dicarlo_SUdp_df.category"
   ]
  },
  {
   "cell_type": "code",
   "execution_count": null,
   "metadata": {},
   "outputs": [],
   "source": [
    "dicarlo_df.groupby('subregion').count()"
   ]
  },
  {
   "cell_type": "code",
   "execution_count": null,
   "metadata": {},
   "outputs": [],
   "source": [
    "mod_dirs = [os.path.join(proj_root,e.get_properties()['dir']) for e in exps]"
   ]
  },
  {
   "cell_type": "code",
   "execution_count": null,
   "metadata": {},
   "outputs": [],
   "source": [
    "mod_dirs"
   ]
  },
  {
   "cell_type": "code",
   "execution_count": null,
   "metadata": {},
   "outputs": [],
   "source": [
    "[e.get_parameters()['recon_weight'] for e in exps]"
   ]
  },
  {
   "cell_type": "code",
   "execution_count": null,
   "metadata": {},
   "outputs": [],
   "source": [
    "for i,dr,df in zip(np.arange(3),mod_dirs*3,sudfs):\n",
    "    fp = os.path.join(dr,'su_selectivity_{}.pqt'.format(i+1))\n",
    "    print(fp)\n",
    "    df.drop(columns=['neuroid','neuroid_id']).to_parquet(fp)\n",
    "#     su_both_df.drop(columns=['neuroid','neuroid_id']).to_parquet(os.path.join(mod_dirs[0],'su_w_recon'))"
   ]
  },
  {
   "cell_type": "code",
   "execution_count": null,
   "metadata": {},
   "outputs": [],
   "source": []
  },
  {
   "cell_type": "code",
   "execution_count": null,
   "metadata": {},
   "outputs": [],
   "source": [
    "depths = {'pixel':0}"
   ]
  },
  {
   "cell_type": "code",
   "execution_count": null,
   "metadata": {},
   "outputs": [],
   "source": [
    "ss = pd.DataFrame.from_records(hi_data.stimulus_set.to_records()).drop(columns=['index'])\n",
    "ss = ss.rename(columns={'ty':'tx','tz':'ty','dy_px':'dy','dx_px':'dx'})"
   ]
  },
  {
   "cell_type": "code",
   "execution_count": null,
   "metadata": {},
   "outputs": [],
   "source": [
    "np.unique(ss.category_name.values)"
   ]
  },
  {
   "cell_type": "code",
   "execution_count": null,
   "metadata": {},
   "outputs": [],
   "source": []
  },
  {
   "cell_type": "code",
   "execution_count": null,
   "metadata": {},
   "outputs": [],
   "source": []
  },
  {
   "cell_type": "code",
   "execution_count": null,
   "metadata": {},
   "outputs": [],
   "source": [
    "hd = hi_data.to_dataset()\n",
    "hda = hd['dicarlo.Majaj2015']"
   ]
  },
  {
   "cell_type": "code",
   "execution_count": null,
   "metadata": {},
   "outputs": [],
   "source": [
    "hda = hda.reset_index(['col','arr','hemisphere','animal','y','x','row'],drop=True)"
   ]
  },
  {
   "cell_type": "code",
   "execution_count": null,
   "metadata": {},
   "outputs": [],
   "source": [
    "coords = {'presentation':p_idx,'neuroid_id':n_coords[0],'region':n_coords[1]}\n",
    "# coords.update({c.name:c.values for c in n_coords[0:1]})\n",
    "# coords['layer']=[0]\n",
    "# coords['region']=['pixel']"
   ]
  },
  {
   "cell_type": "code",
   "execution_count": null,
   "metadata": {},
   "outputs": [],
   "source": []
  },
  {
   "cell_type": "code",
   "execution_count": null,
   "metadata": {},
   "outputs": [],
   "source": [
    "im = image.imread(stimulus_set.get_image(hi_data.image_id.values[50]))"
   ]
  },
  {
   "cell_type": "code",
   "execution_count": null,
   "metadata": {},
   "outputs": [],
   "source": [
    "plt.imshow(im)"
   ]
  },
  {
   "cell_type": "code",
   "execution_count": null,
   "metadata": {},
   "outputs": [],
   "source": [
    "sm_ims = np.load(os.path.join(proj_root,'data','dicarlo_images','sm_imgs_56x56.npy'))"
   ]
  },
  {
   "cell_type": "code",
   "execution_count": null,
   "metadata": {},
   "outputs": [],
   "source": [
    "plt.imshow(sm_ims[120],cmap='gray')"
   ]
  },
  {
   "cell_type": "code",
   "execution_count": null,
   "metadata": {},
   "outputs": [],
   "source": [
    "dicarlo_df.drop(columns='neuroid').to_parquet(os.path.join(proj_root,'data','dicarlo.Majaj_processed'))"
   ]
  },
  {
   "cell_type": "code",
   "execution_count": null,
   "metadata": {},
   "outputs": [],
   "source": [
    "sns.set(font_scale=2)\n",
    "sns.set_context('paper')"
   ]
  },
  {
   "cell_type": "code",
   "execution_count": null,
   "metadata": {},
   "outputs": [],
   "source": [
    "fig,axs = plt.subplots(1,2,figsize=(8,4),sharey=True,sharex=True)\n",
    "\n",
    "mod_order=np.arange(5)\n",
    "\n",
    "sns.set_context('talk')\n",
    "for ax,df,order in zip(axs,[su_xent_df,su_both_df,],[mod_order,mod_order]): \n",
    "    sns.barplot(x='layer',y='tx',order=order,data=df,ax=ax)\n",
    "axs[0].set_xticklabels(['pixel','1','2','3','4'])\n",
    "axs[1].get_yaxis().set_visible(False)\n",
    "plt.tight_layout()"
   ]
  },
  {
   "cell_type": "code",
   "execution_count": null,
   "metadata": {},
   "outputs": [],
   "source": [
    "sns.set_style('whitegrid')\n",
    "sns.set_context('paper')\n",
    "sns.set(font_scale=2)"
   ]
  },
  {
   "cell_type": "code",
   "execution_count": null,
   "metadata": {},
   "outputs": [],
   "source": [
    "# sns.set_style('whitegrid')\n",
    "sns.set_context('paper')\n",
    "sns.set(font_scale=2)\n",
    "\n",
    "fig,axs = plot_kde('tx','ty',su_xent_df,by='layer',order=np.arange(5),)\n",
    "plt.tight_layout()\n",
    "sns.despine(fig=fig)\n",
    "for i,ax in enumerate(axs):\n",
    "    pass\n",
    "    ax.set_ylabel('')\n",
    "    ax.set_xlabel('')\n",
    "\n",
    "#         ax.get_xaxis().set_visible(False)\n",
    "    \n",
    "\n",
    "\n"
   ]
  },
  {
   "cell_type": "code",
   "execution_count": null,
   "metadata": {},
   "outputs": [],
   "source": [
    "sns.set_context('paper')\n",
    "sns.set(font_scale=2)\n",
    "fig,axs = plot_kde('ty','category',su_xent_df,by='layer',order=np.arange(5),xlim=(0,1.1),ylim=(0,1.1))\n",
    "plt.tight_layout()\n",
    "sns.despine(fig=fig)\n",
    "for i,ax in enumerate(axs):\n",
    "    pass\n",
    "    ax.set_ylabel('')\n",
    "    ax.set_xlabel('')"
   ]
  },
  {
   "cell_type": "code",
   "execution_count": null,
   "metadata": {},
   "outputs": [],
   "source": [
    "sns.set_context('paper')\n",
    "sns.set(font_scale=2)\n",
    "fig,axs = plot_kde('ty','category',su_both_df,by='layer',order=np.arange(5),xlim=(0,1.1),ylim=(0,1.1))\n",
    "plt.tight_layout()\n",
    "sns.despine(fig=fig)\n",
    "for i,ax in enumerate(axs):\n",
    "    pass\n",
    "    ax.set_ylabel('')\n",
    "    ax.set_xlabel('')"
   ]
  },
  {
   "cell_type": "code",
   "execution_count": null,
   "metadata": {},
   "outputs": [],
   "source": [
    "plot_kde('ty','category',su_both_df,by='layer',order=np.arange(5))\n",
    "plt.tight_layout()"
   ]
  },
  {
   "cell_type": "code",
   "execution_count": null,
   "metadata": {},
   "outputs": [],
   "source": [
    "sns.set_context('paper')\n",
    "sns.set(font_scale=2)\n",
    "fig,axs = plot_kde('ty','category',dicarlo_df,by='region',order=['V4','IT'],xlim=(0,1.1),ylim=(0,1.1))\n",
    "plt.tight_layout()\n",
    "sns.despine(fig=fig)\n",
    "for i,ax in enumerate(axs):\n",
    "    pass\n",
    "    ax.set_ylabel('')\n",
    "    ax.set_xlabel('')"
   ]
  },
  {
   "cell_type": "code",
   "execution_count": null,
   "metadata": {},
   "outputs": [],
   "source": [
    "plot_kde('tx','category',dicarlo_df,by='region',order=['V4','IT'])\n"
   ]
  },
  {
   "cell_type": "code",
   "execution_count": null,
   "metadata": {},
   "outputs": [],
   "source": [
    "sns.scatterplot(x='tx',y='ty',data=dicarlo_df.query('region == \"IT\"'))\n",
    "plt.ylim(0,0.5)\n",
    "plt.xlim(0,0.5)"
   ]
  },
  {
   "cell_type": "code",
   "execution_count": null,
   "metadata": {},
   "outputs": [],
   "source": [
    "class MURegressor(object):\n",
    "    def __init__(self,da,train_frac=0.8,n_splits=5,n_units=None,estimator=Ridge):\n",
    "        if n_units is not None:\n",
    "            self.neuroid_idxs = [np.array([random.randrange(len(da.neuroid_id)) for _ in range(n_units)]) for _ in range(n_splits)]\n",
    "        \n",
    "        self.original_data = da\n",
    "        self.train_frac = train_frac\n",
    "        self.n_splits = n_splits\n",
    "        \n",
    "        splits = [split_assembly(self.original_data[:,n_idxs]) for n_idxs in tqdm(self.neuroid_idxs,total=n_splits,desc='CV-splitting')]\n",
    "        self.train = [tr for tr,te in splits]\n",
    "        self.test = [te for tr,te in splits]\n",
    "        \n",
    "        \n",
    "        self.estimators = [estimator() for _ in range(n_splits)]\n",
    "        \n",
    "    def fit(self,y_coord):\n",
    "        # Get Training data\n",
    "        for mod,train in tqdm(zip(self.estimators,self.train),total=len(self.train),desc='fitting'):\n",
    "#             print(train)\n",
    "            mod.fit(X=train.values,y=train[y_coord])\n",
    "    \n",
    "        return self\n",
    "    \n",
    "    def predict(self,X=None):\n",
    "        if X is not None:\n",
    "            return [e.predict(X) for e in self.estimators]\n",
    "        else:\n",
    "            return [e.predict(te.values) for e,te in zip(self.estimators,self.test)]\n",
    "        \n",
    "    def score(self,y_coord):\n",
    "        return [e.score(te.values,te[y_coord].values) for e,te in zip(self.estimators,self.test)]\n",
    "    \n",
    "def stratified_regressors(data, filt='region',n_units=126,y_coords=['ty','tz'],task_names=None,estimator=Ridge):\n",
    "    subsets = np.unique(data[filt].values)\n",
    "    if task_names is None:\n",
    "        task_names = y_coords\n",
    "    dfs = []\n",
    "    for y,task in zip(y_coords,task_names):\n",
    "        print('regressing {}...'.format(y))\n",
    "        regressors = {k:MURegressor(data.sel(**{filt:k}),n_units=n_units,estimator=Ridge).fit(y_coord=y) for k in subsets}\n",
    "        df = pd.DataFrame.from_records({k:v.score(y_coord=y) for k,v in regressors.items()})\n",
    "        df = df.melt(var_name='region',value_name='performance')\n",
    "        df['task']=task\n",
    "        dfs.append(df)\n",
    "    \n",
    "    return pd.concat(dfs)"
   ]
  },
  {
   "cell_type": "code",
   "execution_count": null,
   "metadata": {},
   "outputs": [],
   "source": [
    "properties = ['tx','ty']\n",
    "mu_both_df = stratified_regressors(lg_both,filt='layer',y_coords=properties,n_units=50)"
   ]
  },
  {
   "cell_type": "code",
   "execution_count": null,
   "metadata": {},
   "outputs": [],
   "source": [
    "sns.barplot(x='task',y='performance',hue='region',data=mu_both_df)"
   ]
  },
  {
   "cell_type": "code",
   "execution_count": null,
   "metadata": {},
   "outputs": [],
   "source": [
    "mu_xent_df = stratified_regressors(lg_xent,filt='layer',y_coords=properties,n_units=50)"
   ]
  },
  {
   "cell_type": "code",
   "execution_count": null,
   "metadata": {},
   "outputs": [],
   "source": [
    "sns.barplot(x='task',y='performance',hue='region',data=mu_xent_df)"
   ]
  },
  {
   "cell_type": "code",
   "execution_count": null,
   "metadata": {},
   "outputs": [],
   "source": [
    "plot_kde(x='tx',y='ty',df=both_df,by='layer',order=np.arange(5))"
   ]
  },
  {
   "cell_type": "code",
   "execution_count": null,
   "metadata": {},
   "outputs": [],
   "source": [
    "plot_kde(x='tx',y='ty',df=xent_df,by='layer',order=np.arange(5))"
   ]
  },
  {
   "cell_type": "code",
   "execution_count": null,
   "metadata": {},
   "outputs": [],
   "source": []
  },
  {
   "cell_type": "code",
   "execution_count": null,
   "metadata": {},
   "outputs": [],
   "source": []
  }
 ],
 "metadata": {
  "kernelspec": {
   "display_name": "Py3-GPU (Python3.5.2)",
   "language": "python",
   "name": "py3-gpu"
  },
  "language_info": {
   "codemirror_mode": {
    "name": "ipython",
    "version": 3
   },
   "file_extension": ".py",
   "mimetype": "text/x-python",
   "name": "python",
   "nbconvert_exporter": "python",
   "pygments_lexer": "ipython3",
   "version": "3.5.2"
  },
  "neptune": {
   "notebookId": "d87092c5-9710-423a-9466-ab57e41556f1"
  }
 },
 "nbformat": 4,
 "nbformat_minor": 4
}
