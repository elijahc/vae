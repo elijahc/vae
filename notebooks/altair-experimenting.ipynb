{
 "cells": [
  {
   "cell_type": "code",
   "execution_count": null,
   "metadata": {},
   "outputs": [],
   "source": [
    "import altair as alt\n",
    "from vega_datasets import data\n",
    "\n",
    "import matplotlib.pyplot as plt\n",
    "%matplotlib inline\n",
    "\n",
    "alt.renderers.enable('jupyterlab')\n",
    "\n",
    "iris = data.iris()\n",
    "\n",
    "alt.Chart(iris).mark_point().encode(\n",
    "    x='petalLength',\n",
    "    y='petalWidth',\n",
    "    color='species'\n",
    ")"
   ]
  },
  {
   "cell_type": "code",
   "execution_count": 1,
   "metadata": {},
   "outputs": [
    {
     "data": {
      "application/vnd.vegalite.v3+json": {
       "$schema": "https://vega.github.io/schema/vega-lite/v3.4.0.json",
       "config": {
        "mark": {
         "tooltip": null
        },
        "view": {
         "height": 300,
         "width": 400
        }
       },
       "repeat": {
        "column": [
         "distance",
         "delay",
         "time"
        ]
       },
       "spec": {
        "data": {
         "format": {
          "parse": {
           "date": "date"
          }
         },
         "url": "https://vega.github.io/vega-datasets/data/flights-2k.json"
        },
        "layer": [
         {
          "encoding": {
           "x": {
            "bin": {
             "maxbins": 20
            },
            "field": {
             "repeat": "column"
            },
            "type": "quantitative"
           },
           "y": {
            "aggregate": "count",
            "type": "quantitative"
           }
          },
          "height": 130,
          "mark": "bar",
          "selection": {
           "selector001": {
            "encodings": [
             "x"
            ],
            "type": "interval"
           }
          },
          "width": 160
         },
         {
          "encoding": {
           "color": {
            "value": "goldenrod"
           },
           "x": {
            "bin": {
             "maxbins": 20
            },
            "field": {
             "repeat": "column"
            },
            "type": "quantitative"
           },
           "y": {
            "aggregate": "count",
            "type": "quantitative"
           }
          },
          "height": 130,
          "mark": "bar",
          "transform": [
           {
            "filter": {
             "selection": "selector001"
            }
           }
          ],
          "width": 160
         }
        ],
        "transform": [
         {
          "as": "time",
          "calculate": "hours(datum.date)"
         }
        ]
       }
      },
      "image/png": "[encoded data removed]",
      "text/plain": [
       "<VegaLite 3 object>\n",
       "\n",
       "If you see this message, it means the renderer has not been properly enabled\n",
       "for the frontend that you are using. For more information, see\n",
       "https://altair-viz.github.io/user_guide/troubleshooting.html\n"
      ]
     },
     "execution_count": 1,
     "metadata": {},
     "output_type": "execute_result"
    }
   ],
   "source": [
    "import altair as alt\n",
    "from vega_datasets import data\n",
    "\n",
    "source = alt.UrlData(\n",
    "    data.flights_2k.url,\n",
    "    format={'parse': {'date': 'date'}}\n",
    ")\n",
    "\n",
    "brush = alt.selection(type='interval', encodings=['x'])\n",
    "\n",
    "# Define the base chart, with the common parts of the\n",
    "# background and highlights\n",
    "base = alt.Chart().mark_bar().encode(\n",
    "    x=alt.X(alt.repeat('column'), type='quantitative', bin=alt.Bin(maxbins=20)),\n",
    "    y='count()'\n",
    ").properties(\n",
    "    width=160,\n",
    "    height=130\n",
    ")\n",
    "\n",
    "# blue background with selection\n",
    "background = base.add_selection(brush)\n",
    "\n",
    "# yellow highlights on the transformed data\n",
    "highlight = base.encode(\n",
    "    color=alt.value('goldenrod')\n",
    ").transform_filter(brush)\n",
    "\n",
    "# layer the two charts & repeat\n",
    "alt.layer(\n",
    "    background,\n",
    "    highlight,\n",
    "    data=source\n",
    ").transform_calculate(\n",
    "    \"time\",\n",
    "    \"hours(datum.date)\"\n",
    ").repeat(column=[\"distance\", \"delay\", \"time\"])"
   ]
  },
  {
   "cell_type": "code",
   "execution_count": null,
   "metadata": {},
   "outputs": [],
   "source": [
    "source = alt.Pan"
   ]
  }
 ],
 "metadata": {
  "kernelspec": {
   "display_name": "Py3-fastai (Python3.6.1)",
   "language": "python",
   "name": "py3-fastai"
  },
  "language_info": {
   "codemirror_mode": {
    "name": "ipython",
    "version": 3
   },
   "file_extension": ".py",
   "mimetype": "text/x-python",
   "name": "python",
   "nbconvert_exporter": "python",
   "pygments_lexer": "ipython3",
   "version": "3.6.1"
  }
 },
 "nbformat": 4,
 "nbformat_minor": 4
}
