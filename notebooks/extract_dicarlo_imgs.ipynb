{
 "cells": [
  {
   "cell_type": "code",
   "execution_count": 1,
   "metadata": {},
   "outputs": [],
   "source": [
    "import os\n",
    "import numpy as np\n",
    "import pandas as pd\n",
    "from matplotlib import image\n",
    "import matplotlib.pyplot as plt\n",
    "from tqdm import tqdm as tqdm\n",
    "\n",
    "import skimage\n",
    "\n",
    "import brainscore\n",
    "from brainscore.assemblies import walk_coords,split_assembly\n",
    "from brainscore.assemblies import split_assembly\n",
    "from brainscore.metrics import Score\n",
    "\n",
    "from brainio_base.assemblies import DataAssembly"
   ]
  },
  {
   "cell_type": "code",
   "execution_count": 12,
   "metadata": {},
   "outputs": [
    {
     "name": "stderr",
     "output_type": "stream",
     "text": [
      "/home/elijahc/.pyenv/versions/fastai/lib/python3.6/site-packages/brainio_base/assemblies.py:213: FutureWarning: The inplace argument has been deprecated and will be removed in a future version of xarray.\n",
      "  xr_data.set_index(append=True, inplace=True, **coords_d)\n"
     ]
    }
   ],
   "source": [
    "neural_data = brainscore.get_assembly(name=\"dicarlo.Majaj2015\")\n",
    "neural_data.load()\n",
    "stimulus_set = neural_data.attrs['stimulus_set']"
   ]
  },
  {
   "cell_type": "code",
   "execution_count": 13,
   "metadata": {},
   "outputs": [],
   "source": [
    "# stimulus_set = pd.DataFrame.from_records(stimulus_set.to_records()).drop(columns=['index'])"
   ]
  },
  {
   "cell_type": "code",
   "execution_count": 14,
   "metadata": {},
   "outputs": [],
   "source": [
    "# stimulus_set[['variation','object_name','category_name','ty','tz','size']].to_csv('../data/dicarlo_images/stimulus_set.csv',index=False)"
   ]
  },
  {
   "cell_type": "code",
   "execution_count": 15,
   "metadata": {},
   "outputs": [],
   "source": [
    "img_ids = stimulus_set['image_id']\n",
    "img_paths = [stimulus_set.get_image(iid) for iid in img_ids]\n",
    "%matplotlib inline\n"
   ]
  },
  {
   "cell_type": "code",
   "execution_count": 16,
   "metadata": {},
   "outputs": [
    {
     "data": {
      "text/plain": [
       "5760"
      ]
     },
     "execution_count": 16,
     "metadata": {},
     "output_type": "execute_result"
    }
   ],
   "source": [
    "len(img_paths)"
   ]
  },
  {
   "cell_type": "code",
   "execution_count": 17,
   "metadata": {},
   "outputs": [],
   "source": [
    "def crop_center(img,cropx,cropy):\n",
    "    y,x = img.shape\n",
    "    startx = x//2-(cropx//2)\n",
    "    starty = y//2-(cropy//2)    \n",
    "    return img[starty:starty+cropy,startx:startx+cropx]"
   ]
  },
  {
   "cell_type": "code",
   "execution_count": 18,
   "metadata": {},
   "outputs": [],
   "source": [
    "def preprocess_img(img,scale=0.5,im_sz=(54,54)):\n",
    "    pimg = skimage.transform.rescale(img,scale=scale)\n",
    "    pimg = crop_center(pimg,im_sz[0],im_sz[1])\n",
    "    return pimg"
   ]
  },
  {
   "cell_type": "code",
   "execution_count": 20,
   "metadata": {},
   "outputs": [
    {
     "data": {
      "text/html": [
       "<div>\n",
       "<style scoped>\n",
       "    .dataframe tbody tr th:only-of-type {\n",
       "        vertical-align: middle;\n",
       "    }\n",
       "\n",
       "    .dataframe tbody tr th {\n",
       "        vertical-align: top;\n",
       "    }\n",
       "\n",
       "    .dataframe thead th {\n",
       "        text-align: right;\n",
       "    }\n",
       "</style>\n",
       "<table border=\"1\" class=\"dataframe\">\n",
       "  <thead>\n",
       "    <tr style=\"text-align: right;\">\n",
       "      <th></th>\n",
       "      <th>id</th>\n",
       "      <th>image_id</th>\n",
       "      <th>image_file_name</th>\n",
       "      <th>object_name</th>\n",
       "      <th>category_name</th>\n",
       "      <th>background_id</th>\n",
       "      <th>ty</th>\n",
       "      <th>tz</th>\n",
       "      <th>rxy</th>\n",
       "      <th>rxz</th>\n",
       "      <th>ryz</th>\n",
       "      <th>rxy_semantic</th>\n",
       "      <th>rxz_semantic</th>\n",
       "      <th>ryz_semantic</th>\n",
       "      <th>size</th>\n",
       "      <th>s</th>\n",
       "      <th>degrees</th>\n",
       "    </tr>\n",
       "    <tr>\n",
       "      <th>variation</th>\n",
       "      <th></th>\n",
       "      <th></th>\n",
       "      <th></th>\n",
       "      <th></th>\n",
       "      <th></th>\n",
       "      <th></th>\n",
       "      <th></th>\n",
       "      <th></th>\n",
       "      <th></th>\n",
       "      <th></th>\n",
       "      <th></th>\n",
       "      <th></th>\n",
       "      <th></th>\n",
       "      <th></th>\n",
       "      <th></th>\n",
       "      <th></th>\n",
       "      <th></th>\n",
       "    </tr>\n",
       "  </thead>\n",
       "  <tbody>\n",
       "    <tr>\n",
       "      <th>0</th>\n",
       "      <td>640</td>\n",
       "      <td>640</td>\n",
       "      <td>640</td>\n",
       "      <td>640</td>\n",
       "      <td>640</td>\n",
       "      <td>640</td>\n",
       "      <td>640</td>\n",
       "      <td>640</td>\n",
       "      <td>640</td>\n",
       "      <td>640</td>\n",
       "      <td>640</td>\n",
       "      <td>640</td>\n",
       "      <td>640</td>\n",
       "      <td>640</td>\n",
       "      <td>640</td>\n",
       "      <td>640</td>\n",
       "      <td>640</td>\n",
       "    </tr>\n",
       "    <tr>\n",
       "      <th>3</th>\n",
       "      <td>2560</td>\n",
       "      <td>2560</td>\n",
       "      <td>2560</td>\n",
       "      <td>2560</td>\n",
       "      <td>2560</td>\n",
       "      <td>2560</td>\n",
       "      <td>2560</td>\n",
       "      <td>2560</td>\n",
       "      <td>2560</td>\n",
       "      <td>2560</td>\n",
       "      <td>2560</td>\n",
       "      <td>2560</td>\n",
       "      <td>2560</td>\n",
       "      <td>2560</td>\n",
       "      <td>2560</td>\n",
       "      <td>2560</td>\n",
       "      <td>2560</td>\n",
       "    </tr>\n",
       "    <tr>\n",
       "      <th>6</th>\n",
       "      <td>2560</td>\n",
       "      <td>2560</td>\n",
       "      <td>2560</td>\n",
       "      <td>2560</td>\n",
       "      <td>2560</td>\n",
       "      <td>2560</td>\n",
       "      <td>2560</td>\n",
       "      <td>2560</td>\n",
       "      <td>2560</td>\n",
       "      <td>2560</td>\n",
       "      <td>2560</td>\n",
       "      <td>2560</td>\n",
       "      <td>2560</td>\n",
       "      <td>2560</td>\n",
       "      <td>2560</td>\n",
       "      <td>2560</td>\n",
       "      <td>2560</td>\n",
       "    </tr>\n",
       "  </tbody>\n",
       "</table>\n",
       "</div>"
      ],
      "text/plain": [
       "             id  image_id  image_file_name  object_name  category_name  \\\n",
       "variation                                                                \n",
       "0           640       640              640          640            640   \n",
       "3          2560      2560             2560         2560           2560   \n",
       "6          2560      2560             2560         2560           2560   \n",
       "\n",
       "           background_id    ty    tz   rxy   rxz   ryz  rxy_semantic  \\\n",
       "variation                                                              \n",
       "0                    640   640   640   640   640   640           640   \n",
       "3                   2560  2560  2560  2560  2560  2560          2560   \n",
       "6                   2560  2560  2560  2560  2560  2560          2560   \n",
       "\n",
       "           rxz_semantic  ryz_semantic  size     s  degrees  \n",
       "variation                                                   \n",
       "0                   640           640   640   640      640  \n",
       "3                  2560          2560  2560  2560     2560  \n",
       "6                  2560          2560  2560  2560     2560  "
      ]
     },
     "execution_count": 20,
     "metadata": {},
     "output_type": "execute_result"
    }
   ],
   "source": [
    "stimulus_set.groupby('variation').count()"
   ]
  },
  {
   "cell_type": "code",
   "execution_count": 9,
   "metadata": {},
   "outputs": [
    {
     "name": "stderr",
     "output_type": "stream",
     "text": [
      "  0%|          | 0/5760 [00:00<?, ?it/s]/home/elijahc/.pyenv/versions/fastai/lib/python3.6/site-packages/skimage/transform/_warps.py:23: UserWarning: The default multichannel argument (None) is deprecated.  Please specify either True or False explicitly.  multichannel will default to False starting with release 0.16.\n",
      "  warn('The default multichannel argument (None) is deprecated.  Please '\n",
      "100%|██████████| 5760/5760 [01:32<00:00, 62.02it/s]\n"
     ]
    }
   ],
   "source": [
    "medium_imgs = [preprocess_img(image.imread(ipath)[:,:,0],im_sz=(106,106)) for ipath in tqdm(img_paths)]\n",
    "medium_imgs = np.stack(medium_imgs)\n",
    "np.save('../data/dicarlo_images/med_imgs_106x106',medium_imgs)"
   ]
  },
  {
   "cell_type": "code",
   "execution_count": 10,
   "metadata": {},
   "outputs": [
    {
     "name": "stderr",
     "output_type": "stream",
     "text": [
      "100%|██████████| 5760/5760 [00:48<00:00, 119.66it/s]\n"
     ]
    }
   ],
   "source": [
    "sm_imgs = np.stack([preprocess_img(image.imread(ipath)[:,:,0],scale=0.27,im_sz=(56,56)) for ipath in tqdm(img_paths)])\n",
    "np.save('../data/dicarlo_images/sm_imgs_56x56',sm_imgs)"
   ]
  },
  {
   "cell_type": "code",
   "execution_count": 3,
   "metadata": {},
   "outputs": [],
   "source": [
    "\n",
    "sm_imgs = np.load('../data/dicarlo_images/sm_imgs_56x56.npy')"
   ]
  },
  {
   "cell_type": "code",
   "execution_count": 4,
   "metadata": {},
   "outputs": [
    {
     "data": {
      "text/plain": [
       "(5760, 56, 56)"
      ]
     },
     "execution_count": 4,
     "metadata": {},
     "output_type": "execute_result"
    }
   ],
   "source": [
    "sm_imgs.shape"
   ]
  },
  {
   "cell_type": "code",
   "execution_count": 11,
   "metadata": {},
   "outputs": [
    {
     "data": {
      "text/plain": [
       "<matplotlib.image.AxesImage at 0x7f6743961e10>"
      ]
     },
     "execution_count": 11,
     "metadata": {},
     "output_type": "execute_result"
    },
    {
     "data": {
      "image/png": "[encoded data removed]",
      "text/plain": [
       "<Figure size 864x288 with 3 Axes>"
      ]
     },
     "metadata": {
      "needs_background": "light"
     },
     "output_type": "display_data"
    }
   ],
   "source": [
    "idx = np.random.choice(np.arange(5760),size=3)\n",
    "fig,axs = plt.subplots(1,3,figsize=(12,4))\n",
    "\n",
    "simple_idx = 0\n",
    "\n",
    "# axs[0].imshow(image.imread(img_paths[idx]),cmap='gray')\n",
    "# axs[1].imshow(medium_imgs[idx],cmap='gray')\n",
    "axs[0].imshow(sm_imgs[idx[0]],cmap='gray')\n",
    "axs[1].imshow(sm_imgs[idx[1]],cmap='gray')\n",
    "axs[2].imshow(sm_imgs[idx[2]],cmap='gray')"
   ]
  },
  {
   "cell_type": "code",
   "execution_count": 12,
   "metadata": {},
   "outputs": [],
   "source": [
    "# stimulus_set.to_parquet('../data/dicarlo_images/stimulus_set.parquet')"
   ]
  },
  {
   "cell_type": "code",
   "execution_count": null,
   "metadata": {},
   "outputs": [],
   "source": []
  }
 ],
 "metadata": {
  "kernelspec": {
   "display_name": "Py3-fastai (Python3.6.1)",
   "language": "python",
   "name": "py3-fastai"
  },
  "language_info": {
   "codemirror_mode": {
    "name": "ipython",
    "version": 3
   },
   "file_extension": ".py",
   "mimetype": "text/x-python",
   "name": "python",
   "nbconvert_exporter": "python",
   "pygments_lexer": "ipython3",
   "version": "3.6.1"
  }
 },
 "nbformat": 4,
 "nbformat_minor": 4
}
