{
 "cells": [
  {
   "cell_type": "code",
   "execution_count": 1,
   "metadata": {},
   "outputs": [
    {
     "name": "stderr",
     "output_type": "stream",
     "text": [
      "Using TensorFlow backend.\n"
     ]
    }
   ],
   "source": [
    "from src.test_models.encoders_t_distributed import build_dense_encoder\n",
    "from keras.layers import Flatten,Input,Dense,TimeDistributed,Concatenate\n",
    "from keras.models import Sequential, Model"
   ]
  },
  {
   "cell_type": "code",
   "execution_count": 2,
   "metadata": {},
   "outputs": [
    {
     "name": "stdout",
     "output_type": "stream",
     "text": [
      "WARNING:tensorflow:From /home/elijahc/.pyenv/versions/fastai/lib/python3.6/site-packages/tensorflow/python/framework/op_def_library.py:263: colocate_with (from tensorflow.python.framework.ops) is deprecated and will be removed in a future version.\n",
      "Instructions for updating:\n",
      "Colocations handled automatically by placer.\n"
     ]
    }
   ],
   "source": [
    "img_shape = (5,56,56,1)\n",
    "img = Input(shape=img_shape)\n",
    "img_embedding = build_dense_encoder(input_shape=img_shape,\n",
    "                                    layers=[3000,2000,500],)(img)"
   ]
  },
  {
   "cell_type": "code",
   "execution_count": 3,
   "metadata": {},
   "outputs": [],
   "source": [
    "z_dim = 35\n",
    "y_dim = 35\n",
    "# z_lat_encoding\n",
    "z_lat = TimeDistributed(Dense(z_dim, activation='linear',name='z_dim'))(img_embedding)\n",
    "\n",
    "# y_lat_encoding\n",
    "y_lat = TimeDistributed(Dense(y_dim, activation='linear',name='y_dim'))(img_embedding)\n",
    "\n",
    "# Combined Latent Representation\n",
    "latent = Concatenate(name='latent')([y_lat,z_lat])"
   ]
  },
  {
   "cell_type": "code",
   "execution_count": 4,
   "metadata": {},
   "outputs": [],
   "source": [
    "# model.add(TimeDistributed(Flatten(input_shape=input_shape)))\n",
    "# model.add(TimeDistributed(Dense(3000)))\n",
    "# model.add(TimeDistributed(Dense(2000)))\n",
    "# model.add(TimeDistributed(Dense(500)))"
   ]
  },
  {
   "cell_type": "code",
   "execution_count": 5,
   "metadata": {},
   "outputs": [],
   "source": [
    "z_enc = Model(img,z_lat,name='z_enc')\n",
    "latent_enc = Model(img,latent,name='latent_enc')"
   ]
  },
  {
   "cell_type": "code",
   "execution_count": 6,
   "metadata": {},
   "outputs": [
    {
     "name": "stdout",
     "output_type": "stream",
     "text": [
      "__________________________________________________________________________________________________\n",
      "Layer (type)                    Output Shape         Param #     Connected to                     \n",
      "==================================================================================================\n",
      "input_1 (InputLayer)            (None, 5, 56, 56, 1) 0                                            \n",
      "__________________________________________________________________________________________________\n",
      "embedder (Sequential)           (None, 5, 500)       16413500    input_1[0][0]                    \n",
      "__________________________________________________________________________________________________\n",
      "time_distributed_9 (TimeDistrib (None, 5, 35)        17535       embedder[1][0]                   \n",
      "__________________________________________________________________________________________________\n",
      "time_distributed_8 (TimeDistrib (None, 5, 35)        17535       embedder[1][0]                   \n",
      "__________________________________________________________________________________________________\n",
      "latent (Concatenate)            (None, 5, 70)        0           time_distributed_9[0][0]         \n",
      "                                                                 time_distributed_8[0][0]         \n",
      "==================================================================================================\n",
      "Total params: 16,448,570\n",
      "Trainable params: 16,448,570\n",
      "Non-trainable params: 0\n",
      "__________________________________________________________________________________________________\n"
     ]
    }
   ],
   "source": [
    "latent_enc.summary()"
   ]
  }
 ],
 "metadata": {
  "kernelspec": {
   "display_name": "Py3-fastai (Python3.6.1)",
   "language": "python",
   "name": "py3-fastai"
  },
  "language_info": {
   "codemirror_mode": {
    "name": "ipython",
    "version": 3
   },
   "file_extension": ".py",
   "mimetype": "text/x-python",
   "name": "python",
   "nbconvert_exporter": "python",
   "pygments_lexer": "ipython3",
   "version": "3.6.1"
  }
 },
 "nbformat": 4,
 "nbformat_minor": 2
}
