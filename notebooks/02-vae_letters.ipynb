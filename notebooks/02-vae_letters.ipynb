{
 "cells": [
  {
   "cell_type": "code",
   "execution_count": 1,
   "metadata": {},
   "outputs": [
    {
     "name": "stderr",
     "output_type": "stream",
     "text": [
      "/home/elijahc/.pyenv/versions/3.5.2/envs/jupyterlab/lib/python3.5/site-packages/h5py/__init__.py:36: FutureWarning: Conversion of the second argument of issubdtype from `float` to `np.floating` is deprecated. In future, it will be treated as `np.float64 == np.dtype(float).type`.\n",
      "  from ._conv import register_converters as _register_converters\n",
      "Using TensorFlow backend.\n"
     ]
    }
   ],
   "source": [
    "import os\n",
    "import numpy as np\n",
    "import pandas as pd\n",
    "import matplotlib.pyplot as plt\n",
    "# %matplotlib inline\n",
    "import seaborn as sns\n",
    "\n",
    "from keras.layers import Dense,Input,Lambda\n",
    "from keras.models import Model\n",
    "from keras.metrics import binary_crossentropy\n",
    "from keras.callbacks import LambdaCallback\n",
    "import keras.backend as K\n",
    "from keras.datasets import mnist\n",
    "\n",
    "from jzl.datasets import emnist\n",
    "\n",
    "from __future__ import print_function\n",
    "from IPython.display import display\n",
    "\n",
    "from ipywidgets import FloatProgress"
   ]
  },
  {
   "cell_type": "code",
   "execution_count": 2,
   "metadata": {},
   "outputs": [],
   "source": [
    "from src.utils import process_mnist,gen_trajectory,gen_sorted_isomap\n",
    "from src.models import build_dense,CachedModel\n",
    "import bqplot.pyplot as bqp"
   ]
  },
  {
   "cell_type": "code",
   "execution_count": 3,
   "metadata": {},
   "outputs": [
    {
     "name": "stdout",
     "output_type": "stream",
     "text": [
      "(697932, 784)\n",
      "(116323, 784)\n"
     ]
    }
   ],
   "source": [
    "# train the VAE on MNIST digits\n",
    "(x_train, y_train,w_train), (x_test,y_test,w_test) = emnist.load_byclass()\n",
    "\n",
    "x_train = x_train.astype('float32') / 255.\n",
    "x_test = x_test.astype('float32') / 255.\n",
    "class_ids = np.unique(y_train)\n",
    "masks_train = [y_train==i for i in class_ids]\n",
    "masks_test = [y_test==i for i in class_ids]\n",
    "\n",
    "digit_mask = lambda y: y<10 \n",
    "uppercase = lambda y: (y>=10) & (y<36)\n",
    "lowercase = lambda y: (y>=36) & (y<62)\n",
    "\n",
    "input_shape=(784,)\n",
    "print(x_train.shape)\n",
    "print(x_test.shape)\n",
    "# plt.imshow(x_train[masks[4]][10].reshape(28,28).T)"
   ]
  },
  {
   "cell_type": "code",
   "execution_count": 4,
   "metadata": {},
   "outputs": [
    {
     "data": {
      "text/plain": [
       "(116323,)"
      ]
     },
     "execution_count": 4,
     "metadata": {},
     "output_type": "execute_result"
    }
   ],
   "source": [
    "digits = digit_mask(y_test)\n",
    "digits.shape"
   ]
  },
  {
   "cell_type": "code",
   "execution_count": 5,
   "metadata": {},
   "outputs": [
    {
     "data": {
      "text/plain": [
       "<matplotlib.image.AxesImage at 0x7f0b794fb9e8>"
      ]
     },
     "execution_count": 5,
     "metadata": {},
     "output_type": "execute_result"
    },
    {
     "data": {
      "image/png": "[encoded data removed]",
      "text/plain": [
       "<matplotlib.figure.Figure at 0x7f0b91113978>"
      ]
     },
     "metadata": {},
     "output_type": "display_data"
    }
   ],
   "source": [
    "plt.imshow(x_train[lowercase(y_train)][90].reshape(28,28).T)"
   ]
  },
  {
   "cell_type": "code",
   "execution_count": 12,
   "metadata": {},
   "outputs": [],
   "source": [
    "def train_autoencoder(model,train,test,mask=None,**kwargs):\n",
    "    x_train,y_train = train\n",
    "    x_test,y_test = test\n",
    "    if mask is not None:\n",
    "        X = x_train[mask(y_train)]\n",
    "        V = (x_test[mask(y_test)],x_test[mask(y_test)])\n",
    "    else:\n",
    "        X = x_train\n",
    "        V = (x_test,x_test)\n",
    "    \n",
    "    model.fit(X,X,validation_data=V,**kwargs)"
   ]
  },
  {
   "cell_type": "code",
   "execution_count": 13,
   "metadata": {},
   "outputs": [],
   "source": [
    "encoding_dim = 32\n",
    "latent_dim = 2\n",
    "inputs = Input(shape=input_shape)\n",
    "encoded = build_dense(inputs,[256,encoding_dim],activations='relu')"
   ]
  },
  {
   "cell_type": "code",
   "execution_count": 14,
   "metadata": {},
   "outputs": [],
   "source": [
    "z_mean = Dense(latent_dim)(encoded)\n",
    "z_log_sigma = Dense(latent_dim)(encoded)\n",
    "\n",
    "def sampler(args):\n",
    "    mean,log_stddev = args\n",
    "    std_norm = K.random_normal(shape=(K.shape(mean)[0],latent_dim),mean=0,stddev=1)\n",
    "    \n",
    "    return mean + K.exp(log_stddev) * std_norm\n",
    "\n",
    "lat_vec = Lambda(sampler)([z_mean,z_log_sigma])"
   ]
  },
  {
   "cell_type": "code",
   "execution_count": 15,
   "metadata": {},
   "outputs": [],
   "source": [
    "decoded_mean = build_dense(lat_vec,[encoding_dim,256,784],activations=['relu','relu','sigmoid'])"
   ]
  },
  {
   "cell_type": "code",
   "execution_count": 16,
   "metadata": {},
   "outputs": [],
   "source": [
    "upper_vae = Model(inputs,decoded_mean)\n",
    "def vae_loss(input_img,output):\n",
    "    # Reconstruction loss\n",
    "    reconstruction_loss = K.sum(K.square(output-input_img))\n",
    "#     kl_loss = -0.5*K.sum(1+z_log_sigma-K.square(z_mean)- K.square(K.exp(z_log_sigma)),axis=-1)\n",
    "    total_loss = K.mean(reconstruction_loss)\n",
    "    return total_loss\n",
    "# vae.compile(loss=vae_loss,optimizer='rmsprop')\n",
    "upper_vae.compile(loss=vae_loss,optimizer='adadelta')\n",
    "# vae.summary()"
   ]
  },
  {
   "cell_type": "code",
   "execution_count": 17,
   "metadata": {},
   "outputs": [
    {
     "name": "stdout",
     "output_type": "stream",
     "text": [
      "Train on 188958 samples, validate on 31346 samples\n",
      "Epoch 1/50\n",
      "188958/188958 [==============================] - 13s 68us/step - loss: 6494.9604 - val_loss: 5809.1029\n",
      "Epoch 2/50\n",
      "188958/188958 [==============================] - 12s 66us/step - loss: 5727.3718 - val_loss: 5598.3280\n",
      "Epoch 3/50\n",
      "188958/188958 [==============================] - 13s 66us/step - loss: 5560.6129 - val_loss: 5470.1654\n",
      "Epoch 4/50\n",
      "188958/188958 [==============================] - 13s 66us/step - loss: 5440.1298 - val_loss: 5384.1789\n",
      "Epoch 5/50\n",
      "188958/188958 [==============================] - 13s 66us/step - loss: 5358.3874 - val_loss: 5313.0661\n",
      "Epoch 6/50\n",
      "188958/188958 [==============================] - 13s 66us/step - loss: 5280.8105 - val_loss: 5245.4700\n",
      "Epoch 7/50\n",
      "188958/188958 [==============================] - 13s 66us/step - loss: 5220.2069 - val_loss: 5186.4011\n",
      "Epoch 8/50\n",
      "188958/188958 [==============================] - 13s 66us/step - loss: 5193.8988 - val_loss: 5182.9351\n",
      "Epoch 9/50\n",
      "188958/188958 [==============================] - 13s 66us/step - loss: 5149.4495 - val_loss: 5133.1960\n",
      "Epoch 10/50\n",
      "188958/188958 [==============================] - 12s 66us/step - loss: 5119.8982 - val_loss: 5121.7583\n",
      "Epoch 11/50\n",
      "188958/188958 [==============================] - 13s 66us/step - loss: 5105.6688 - val_loss: 5085.4500\n",
      "Epoch 12/50\n",
      "188958/188958 [==============================] - 13s 67us/step - loss: 5077.1269 - val_loss: 5060.7307\n",
      "Epoch 13/50\n",
      "188958/188958 [==============================] - 13s 66us/step - loss: 5054.8079 - val_loss: 5070.0595\n",
      "Epoch 14/50\n",
      "188958/188958 [==============================] - 13s 66us/step - loss: 5031.9728 - val_loss: 5016.7800\n",
      "Epoch 15/50\n",
      "188958/188958 [==============================] - 12s 66us/step - loss: 5021.6390 - val_loss: 4997.7452\n",
      "Epoch 16/50\n",
      "188958/188958 [==============================] - 13s 66us/step - loss: 5007.8534 - val_loss: 5014.2748\n",
      "Epoch 17/50\n",
      "188958/188958 [==============================] - 12s 66us/step - loss: 4995.6946 - val_loss: 5025.8082\n",
      "Epoch 18/50\n",
      "188958/188958 [==============================] - 13s 66us/step - loss: 4987.0283 - val_loss: 4966.1806\n",
      "Epoch 19/50\n",
      "188958/188958 [==============================] - 13s 66us/step - loss: 4964.2357 - val_loss: 4993.3768\n",
      "Epoch 20/50\n",
      "188958/188958 [==============================] - 12s 66us/step - loss: 4976.2482 - val_loss: 4952.3418\n",
      "Epoch 21/50\n",
      "188958/188958 [==============================] - 13s 66us/step - loss: 4952.8201 - val_loss: 4946.7704\n",
      "Epoch 22/50\n",
      "188958/188958 [==============================] - 13s 66us/step - loss: 4925.6331 - val_loss: 4923.4434\n",
      "Epoch 23/50\n",
      "188958/188958 [==============================] - 13s 66us/step - loss: 4927.5892 - val_loss: 4908.7723\n",
      "Epoch 24/50\n",
      "188958/188958 [==============================] - 12s 65us/step - loss: 4905.8710 - val_loss: 4925.9825\n",
      "Epoch 25/50\n",
      "188958/188958 [==============================] - 13s 66us/step - loss: 4902.2799 - val_loss: 4925.7592\n",
      "Epoch 26/50\n",
      "188958/188958 [==============================] - 13s 66us/step - loss: 4892.9757 - val_loss: 4904.5210\n",
      "Epoch 27/50\n",
      "188958/188958 [==============================] - 13s 66us/step - loss: 4882.0900 - val_loss: 4943.2697\n",
      "Epoch 28/50\n",
      "188958/188958 [==============================] - 13s 66us/step - loss: 4874.1370 - val_loss: 4891.3259\n",
      "Epoch 29/50\n",
      "188958/188958 [==============================] - 13s 66us/step - loss: 4858.4279 - val_loss: 4880.1981\n",
      "Epoch 30/50\n",
      "188958/188958 [==============================] - 13s 66us/step - loss: 4870.2960 - val_loss: 4906.4063\n",
      "Epoch 31/50\n",
      "188958/188958 [==============================] - 12s 66us/step - loss: 4864.7189 - val_loss: 4878.1837\n",
      "Epoch 32/50\n",
      "188958/188958 [==============================] - 13s 66us/step - loss: 4845.4103 - val_loss: 4868.8860\n",
      "Epoch 33/50\n",
      "188958/188958 [==============================] - 13s 66us/step - loss: 4846.4377 - val_loss: 4878.1080\n",
      "Epoch 34/50\n",
      "188958/188958 [==============================] - 12s 66us/step - loss: 4825.7828 - val_loss: 4864.9221\n",
      "Epoch 35/50\n",
      "188958/188958 [==============================] - 13s 66us/step - loss: 4838.9680 - val_loss: 4858.7147\n",
      "Epoch 36/50\n",
      "188958/188958 [==============================] - 13s 66us/step - loss: 4834.7665 - val_loss: 4869.9105\n",
      "Epoch 37/50\n",
      "188958/188958 [==============================] - 13s 66us/step - loss: 4820.4034 - val_loss: 4843.9192\n",
      "Epoch 38/50\n",
      "188958/188958 [==============================] - 13s 66us/step - loss: 4816.4524 - val_loss: 4873.4383\n",
      "Epoch 39/50\n",
      "188958/188958 [==============================] - 13s 66us/step - loss: 4825.0734 - val_loss: 4822.7797\n",
      "Epoch 40/50\n",
      "188958/188958 [==============================] - 13s 66us/step - loss: 4804.0073 - val_loss: 4851.6860\n",
      "Epoch 41/50\n",
      "188958/188958 [==============================] - 12s 66us/step - loss: 4801.5390 - val_loss: 4842.3278\n",
      "Epoch 42/50\n",
      "188958/188958 [==============================] - 13s 66us/step - loss: 4793.3850 - val_loss: 4838.3380\n",
      "Epoch 43/50\n",
      "188958/188958 [==============================] - 13s 66us/step - loss: 4793.6230 - val_loss: 4813.7030\n",
      "Epoch 44/50\n",
      "188958/188958 [==============================] - 13s 66us/step - loss: 4786.6171 - val_loss: 4848.7877\n",
      "Epoch 45/50\n",
      "188958/188958 [==============================] - 12s 66us/step - loss: 4799.6204 - val_loss: 4828.9555\n",
      "Epoch 46/50\n",
      "188958/188958 [==============================] - 13s 66us/step - loss: 4803.6861 - val_loss: 4844.1110\n",
      "Epoch 47/50\n",
      "188958/188958 [==============================] - 13s 66us/step - loss: 4779.4406 - val_loss: 4806.7372\n",
      "Epoch 48/50\n",
      "188958/188958 [==============================] - 13s 66us/step - loss: 4772.6121 - val_loss: 4815.3791\n",
      "Epoch 49/50\n",
      "188958/188958 [==============================] - 13s 66us/step - loss: 4785.7867 - val_loss: 4811.0411\n",
      "Epoch 50/50\n",
      "188958/188958 [==============================] - 13s 66us/step - loss: 4773.6231 - val_loss: 4799.2732\n"
     ]
    }
   ],
   "source": [
    "train_autoencoder(upper_vae,(x_train, y_train),(x_test,y_test),mask=uppercase,\n",
    "                  shuffle=True,\n",
    "                  epochs=50,\n",
    "                  batch_size=128)"
   ]
  },
  {
   "cell_type": "code",
   "execution_count": 22,
   "metadata": {},
   "outputs": [],
   "source": [
    "encoder = Model(inputs,z_mean)\n",
    "decoder_inp = Input(shape=(latent_dim,))\n",
    "dec_layers = upper_vae.layers[-3:]\n",
    "_gen_x = dec_layers[0](decoder_inp)\n",
    "_gen_x = dec_layers[1](_gen_x)\n",
    "outputs = dec_layers[2](_gen_x)\n",
    "generator = Model(decoder_inp,outputs)"
   ]
  },
  {
   "cell_type": "code",
   "execution_count": 19,
   "metadata": {},
   "outputs": [],
   "source": [
    "x_test_encoded = encoder.predict(x_test[uppercase(y_test)],batch_size=128)"
   ]
  },
  {
   "cell_type": "code",
   "execution_count": 20,
   "metadata": {},
   "outputs": [],
   "source": [
    "y_test_upper = y_test[uppercase(y_test)]"
   ]
  },
  {
   "cell_type": "code",
   "execution_count": 21,
   "metadata": {},
   "outputs": [
    {
     "data": {
      "image/png": "[encoded data removed]",
      "text/plain": [
       "<matplotlib.figure.Figure at 0x7f0ac052d828>"
      ]
     },
     "metadata": {},
     "output_type": "display_data"
    }
   ],
   "source": [
    "plt.figure(figsize=(6, 6))\n",
    "plt.scatter(x_test_encoded[:, 0], x_test_encoded[:, 1],\n",
    "            c=y_test_upper,\n",
    "           )\n",
    "plt.colorbar()\n",
    "plt.show()"
   ]
  },
  {
   "cell_type": "code",
   "execution_count": 37,
   "metadata": {},
   "outputs": [],
   "source": [
    "test_vals = [\n",
    "    [20,20],\n",
    "    [-20,20],\n",
    "    [40,-20],\n",
    "    [1,10],\n",
    "    [1,15],\n",
    "    [1,20]\n",
    "]\n",
    "test_vals = np.array(test_vals)"
   ]
  },
  {
   "cell_type": "code",
   "execution_count": 38,
   "metadata": {},
   "outputs": [
    {
     "data": {
      "text/plain": [
       "numpy.ndarray"
      ]
     },
     "execution_count": 38,
     "metadata": {},
     "output_type": "execute_result"
    }
   ],
   "source": [
    "type(test_vals)"
   ]
  },
  {
   "cell_type": "code",
   "execution_count": 41,
   "metadata": {},
   "outputs": [
    {
     "name": "stdout",
     "output_type": "stream",
     "text": [
      "[[22.945957   11.847066  ]\n",
      " [ 5.5671525  -0.08329277]\n",
      " [-0.52774674  0.12102075]\n",
      " [-1.7100648  -2.145562  ]\n",
      " [ 0.8504495   3.354458  ]]\n"
     ]
    },
    {
     "data": {
      "text/plain": [
       "<matplotlib.image.AxesImage at 0x7f0aa062c630>"
      ]
     },
     "execution_count": 41,
     "metadata": {},
     "output_type": "execute_result"
    },
    {
     "data": {
      "image/png": "[encoded data removed]",
      "text/plain": [
       "<matplotlib.figure.Figure at 0x7f0aa0600160>"
      ]
     },
     "metadata": {},
     "output_type": "display_data"
    }
   ],
   "source": [
    "dec_test = generator.predict(test_vals)\n",
    "print(x_test_encoded[:5])\n",
    "plt.imshow(dec_test[5].reshape(28,28).T)"
   ]
  },
  {
   "cell_type": "code",
   "execution_count": null,
   "metadata": {},
   "outputs": [],
   "source": []
  }
 ],
 "metadata": {
  "kernelspec": {
   "display_name": "Python 3",
   "language": "python",
   "name": "python3"
  },
  "language_info": {
   "codemirror_mode": {
    "name": "ipython",
    "version": 3
   },
   "file_extension": ".py",
   "mimetype": "text/x-python",
   "name": "python",
   "nbconvert_exporter": "python",
   "pygments_lexer": "ipython3",
   "version": "3.5.2"
  }
 },
 "nbformat": 4,
 "nbformat_minor": 2
}
